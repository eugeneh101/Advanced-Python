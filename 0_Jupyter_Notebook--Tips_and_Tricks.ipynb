{
 "cells": [
  {
   "cell_type": "markdown",
   "metadata": {},
   "source": [
    "# An Introduction to the Useful Parts of Jupyter Notebook\n",
    "A Jupyter notebook contains text cells and executable code cells.  \n",
    "Fun fact: Jupyter is a portmanteau/acronym for the 3 open-source data science languages: **Ju**lia, **Pyt**hon, **R**.\n",
    "\n",
    "### Cells\n",
    "Cells can be of two types:\n",
    "* **Code cells**: contain code to evaluate. Any outputs (like printouts or plots) from executing the code are displayed in the bottom half of the code cell.\n",
    "\n",
    "* **Markdown cells**: contain markdown text that is converted to HTML to produce headers, lists (bulleted or numbered), formatted text (ie **bold**, *italicize*, ~~strikethrough~~), and formulas.\n",
    "\n",
    "### Working with Notebooks\n",
    "The variables persist in memory, so you can run different code cells that use a variable (or class or module) that was executed in a prior code cell. You can click on `Kernel` > `Restart` (or the circular arrow icon) on the toolbar to restart the kernel and start running code against a clean slate. If the notebook server is separate from the machine you are actually on (i.e. the Jupyter notebook is running on an EC2 machine and you are connecting to it via your laptop), then sometimes your notebook gets disconnected. All you need to do to reconnect your notebook is refresh the page, and hopefully your variables are still alive in memory. Notebooks are automatically and periodically saved (to the `.ipynb_checkpoints/` folder). However, you can choose to save the notebook at any point.\n",
    "\n",
    "### Editing Notebooks\n",
    "Cells can be individually selected, and up/down keys can be used to navigate the notebook. Once you have the appropriate cell selected, you can switch into edit mode either by pressing the `Enter` key or by double-clicking on the cell.\n",
    "\n",
    "In addition to working within a cell, you can add new cells, delete cells, reorder cells, or clear past results to organize your notebook content. These editing capabilities are provided by the toolbar above (or through an equivalent keystroke shortcut).\n",
    "\n",
    "When you are done editing the cell, you can execute a code cell to produce results, either by clicking the `Run` button or pressing `Shift+Enter`. Try executing the following code cell."
   ]
  },
  {
   "cell_type": "code",
   "execution_count": 23,
   "metadata": {},
   "outputs": [
    {
     "name": "stdout",
     "output_type": "stream",
     "text": [
      "Hello World! Welcome to Notebooks!\n"
     ]
    }
   ],
   "source": [
    "def greet():\n",
    "    print('Hello World! Welcome to Notebooks!')\n",
    "    \n",
    "greet()"
   ]
  },
  {
   "cell_type": "markdown",
   "metadata": {},
   "source": [
    "## Some tips for Jupyter Notebook\n",
    "\n",
    "Notebooks can render simple Markdown/LaTeX.\n",
    "* Good for formulas: $\\int_{a}^{b} x^2 dx$\n",
    "* Add a picture (or even video) from your computer or Internet:\n",
    "<img src=\"images/python_is_awesome.jpg\" width=200>\n",
    "* Render Python's color-coded syntax highlighting with triple backtick and then language:\n",
    "\n",
    "For example,  \n",
    "\n",
    "\\`\\`\\`python<br>print(\"Hello world!') # Python code here<br>print(range(10))<br>\\`\\`\\`\n",
    "\n",
    "will print\n",
    "\n",
    "```python\n",
    "print(\"Hello world!\") # Python code here\n",
    "print(range(10))\n",
    "```\n",
    "\n",
    "## Jupyter Notebook Hotkeys:\n",
    "You must not be editing the cell itself. Press <kbd>Escape</kbd> first.\n",
    "* <kbd>Shift</kbd> + <kbd>Enter</kbd>: run current cell and move to the next cell\n",
    "* <kbd>Ctrl</kbd> + <kbd>Enter</kbd>: run current cell and stay on current cell\n",
    "* <kbd>i</kbd> + <kbd>i</kbd>: stop executing the current running cell (I use this a LOT!)\n",
    "* <kbd>0</kbd> + <kbd>0</kbd>: reset the kernel (I use this a LOT!)\n",
    "* <kbd>m</kbd>: make the current cell a LaTex/Markdown cell\n",
    "* <kbd>y</kbd>: make the current cell a coding cell\n",
    "* <kbd>a</kbd>: add a cell **a**bove the current cell\n",
    "* <kbd>b</kbd>: add a cell **b**elow the current cell\n",
    "* <kbd>Shift</kbd> + <kbd>m</kbd>: **m**erge the current cell with the cell below\n",
    "* <kbd>d</kbd> + <kbd>d</kbd>: delete current cell (like the vim command)\n",
    "* <kbd>x</kbd>: **c**ut current cell. Basically equivalent to deleting current cell, if you never paste\n",
    "* <kbd>c</kbd>: **c**opy current cell\n",
    "* <kbd>v</kbd>: paste cut/copied cell\n",
    "* <kbd>l</kbd>: add **l**ine number for code cell\n",
    "* <kbd>o</kbd>: toggle beteween hiding or showing the code cell's **o**utput\n",
    "* <kbd>h</kbd>: see the cheat sheet of the hotkeys. Basically more of these tips\n",
    "\n",
    "The Notebook also offers tab completion on a variable/function/class/module name when a code cell is in edit mode."
   ]
  },
  {
   "cell_type": "code",
   "execution_count": 2,
   "metadata": {},
   "outputs": [
    {
     "name": "stdout",
     "output_type": "stream",
     "text": [
      "hi\n",
      "bye\n"
     ]
    }
   ],
   "source": [
    "print('hi') # tap L to add line numbers. Might need to tap <Escape> first\n",
    "print('bye')"
   ]
  },
  {
   "cell_type": "markdown",
   "metadata": {},
   "source": [
    "## Getting Help about a Python Function\n",
    "To get more details about a function (i.e. function arguments or function definition), you can do 3 things:\n",
    "* Go to the function and press <kbd>Shift</kbd> + <kbd>Tab</kbd> to see the function/class signature (for the arguments and docstring). The function has to be in memory first. Hence, it always works with builtins, but you would need to import it if the function is from a module. Press <kbd>Shift</kbd> + <kbd>Tab</kbd> + <kbd>Tab</kbd> to see more details, which sometimes includes the source code. CAVEAT: If the function has not been loaded into memory, then <kbd>Shift</kbd> + <kbd>Tab</kbd> won't do anything since that function does not exist (yet) to extract the docstring.\n",
    "* Pass the function of interest into ```help()```.\n",
    "* Type `??` after the function to see the actual Python source code. Doesn't work for builtins, as those are written in C. Equivalent to <kbd>Shift</kbd> + <kbd>Tab</kbd> + <kbd>Tab</kbd>\n",
    "\n",
    "Technically, these strategies work for **any** object, so you can do this on a class or instance object."
   ]
  },
  {
   "cell_type": "code",
   "execution_count": 3,
   "metadata": {},
   "outputs": [],
   "source": [
    "import pandas as pd # load up the module/class/function"
   ]
  },
  {
   "cell_type": "code",
   "execution_count": 4,
   "metadata": {},
   "outputs": [
    {
     "data": {
      "text/html": [
       "<div>\n",
       "<style scoped>\n",
       "    .dataframe tbody tr th:only-of-type {\n",
       "        vertical-align: middle;\n",
       "    }\n",
       "\n",
       "    .dataframe tbody tr th {\n",
       "        vertical-align: top;\n",
       "    }\n",
       "\n",
       "    .dataframe thead th {\n",
       "        text-align: right;\n",
       "    }\n",
       "</style>\n",
       "<table border=\"1\" class=\"dataframe\">\n",
       "  <thead>\n",
       "    <tr style=\"text-align: right;\">\n",
       "      <th></th>\n",
       "    </tr>\n",
       "  </thead>\n",
       "  <tbody>\n",
       "  </tbody>\n",
       "</table>\n",
       "</div>"
      ],
      "text/plain": [
       "Empty DataFrame\n",
       "Columns: []\n",
       "Index: []"
      ]
     },
     "execution_count": 4,
     "metadata": {},
     "output_type": "execute_result"
    }
   ],
   "source": [
    "pd.DataFrame() # press <Shift> + <Tab> inside the parentheses\n",
    "# press <Shift> + <Tab> + <Tab> to see even more details"
   ]
  },
  {
   "cell_type": "code",
   "execution_count": 5,
   "metadata": {},
   "outputs": [
    {
     "name": "stdout",
     "output_type": "stream",
     "text": [
      "Help on function mean in module pandas.core.frame:\n",
      "\n",
      "mean(self, axis: 'Axis | None' = 0, skipna: 'bool' = True, numeric_only: 'bool' = False, **kwargs)\n",
      "    Return the mean of the values over the requested axis.\n",
      "    \n",
      "    Parameters\n",
      "    ----------\n",
      "    axis : {index (0), columns (1)}\n",
      "        Axis for the function to be applied on.\n",
      "        For `Series` this parameter is unused and defaults to 0.\n",
      "    \n",
      "        For DataFrames, specifying ``axis=None`` will apply the aggregation\n",
      "        across both axes.\n",
      "    \n",
      "        .. versionadded:: 2.0.0\n",
      "    \n",
      "    skipna : bool, default True\n",
      "        Exclude NA/null values when computing the result.\n",
      "    numeric_only : bool, default False\n",
      "        Include only float, int, boolean columns. Not implemented for Series.\n",
      "    \n",
      "    **kwargs\n",
      "        Additional keyword arguments to be passed to the function.\n",
      "    \n",
      "    Returns\n",
      "    -------\n",
      "    Series or scalar\n",
      "    \n",
      "                Examples\n",
      "                --------\n",
      "                >>> s = pd.Series([1, 2, 3])\n",
      "                >>> s.mean()\n",
      "                2.0\n",
      "    \n",
      "                With a DataFrame\n",
      "    \n",
      "                >>> df = pd.DataFrame({'a': [1, 2], 'b': [2, 3]}, index=['tiger', 'zebra'])\n",
      "                >>> df\n",
      "                       a   b\n",
      "                tiger  1   2\n",
      "                zebra  2   3\n",
      "                >>> df.mean()\n",
      "                a   1.5\n",
      "                b   2.5\n",
      "                dtype: float64\n",
      "    \n",
      "                Using axis=1\n",
      "    \n",
      "                >>> df.mean(axis=1)\n",
      "                tiger   1.5\n",
      "                zebra   2.5\n",
      "                dtype: float64\n",
      "    \n",
      "                In this case, `numeric_only` should be set to `True` to avoid\n",
      "                getting an error.\n",
      "    \n",
      "                >>> df = pd.DataFrame({'a': [1, 2], 'b': ['T', 'Z']},\n",
      "                ...                   index=['tiger', 'zebra'])\n",
      "                >>> df.mean(numeric_only=True)\n",
      "                a   1.5\n",
      "                dtype: float64\n",
      "\n"
     ]
    }
   ],
   "source": [
    "help(pd.DataFrame.mean)"
   ]
  },
  {
   "cell_type": "code",
   "execution_count": 6,
   "metadata": {},
   "outputs": [
    {
     "name": "stdout",
     "output_type": "stream",
     "text": [
      "\u001b[1;31mSignature:\u001b[0m\n",
      "\u001b[0mpd\u001b[0m\u001b[1;33m.\u001b[0m\u001b[0mDataFrame\u001b[0m\u001b[1;33m.\u001b[0m\u001b[0mmean\u001b[0m\u001b[1;33m(\u001b[0m\u001b[1;33m\n",
      "\u001b[0m    \u001b[0mself\u001b[0m\u001b[1;33m,\u001b[0m\u001b[1;33m\n",
      "\u001b[0m    \u001b[0maxis\u001b[0m\u001b[1;33m:\u001b[0m \u001b[1;34m'Axis | None'\u001b[0m \u001b[1;33m=\u001b[0m \u001b[1;36m0\u001b[0m\u001b[1;33m,\u001b[0m\u001b[1;33m\n",
      "\u001b[0m    \u001b[0mskipna\u001b[0m\u001b[1;33m:\u001b[0m \u001b[1;34m'bool'\u001b[0m \u001b[1;33m=\u001b[0m \u001b[1;32mTrue\u001b[0m\u001b[1;33m,\u001b[0m\u001b[1;33m\n",
      "\u001b[0m    \u001b[0mnumeric_only\u001b[0m\u001b[1;33m:\u001b[0m \u001b[1;34m'bool'\u001b[0m \u001b[1;33m=\u001b[0m \u001b[1;32mFalse\u001b[0m\u001b[1;33m,\u001b[0m\u001b[1;33m\n",
      "\u001b[0m    \u001b[1;33m**\u001b[0m\u001b[0mkwargs\u001b[0m\u001b[1;33m,\u001b[0m\u001b[1;33m\n",
      "\u001b[0m\u001b[1;33m)\u001b[0m\u001b[1;33m\u001b[0m\u001b[1;33m\u001b[0m\u001b[0m\n",
      "\u001b[1;31mDocstring:\u001b[0m\n",
      "Return the mean of the values over the requested axis.\n",
      "\n",
      "Parameters\n",
      "----------\n",
      "axis : {index (0), columns (1)}\n",
      "    Axis for the function to be applied on.\n",
      "    For `Series` this parameter is unused and defaults to 0.\n",
      "\n",
      "    For DataFrames, specifying ``axis=None`` will apply the aggregation\n",
      "    across both axes.\n",
      "\n",
      "    .. versionadded:: 2.0.0\n",
      "\n",
      "skipna : bool, default True\n",
      "    Exclude NA/null values when computing the result.\n",
      "numeric_only : bool, default False\n",
      "    Include only float, int, boolean columns. Not implemented for Series.\n",
      "\n",
      "**kwargs\n",
      "    Additional keyword arguments to be passed to the function.\n",
      "\n",
      "Returns\n",
      "-------\n",
      "Series or scalar\n",
      "\n",
      "            Examples\n",
      "            --------\n",
      "            >>> s = pd.Series([1, 2, 3])\n",
      "            >>> s.mean()\n",
      "            2.0\n",
      "\n",
      "            With a DataFrame\n",
      "\n",
      "            >>> df = pd.DataFrame({'a': [1, 2], 'b': [2, 3]}, index=['tiger', 'zebra'])\n",
      "            >>> df\n",
      "                   a   b\n",
      "            tiger  1   2\n",
      "            zebra  2   3\n",
      "            >>> df.mean()\n",
      "            a   1.5\n",
      "            b   2.5\n",
      "            dtype: float64\n",
      "\n",
      "            Using axis=1\n",
      "\n",
      "            >>> df.mean(axis=1)\n",
      "            tiger   1.5\n",
      "            zebra   2.5\n",
      "            dtype: float64\n",
      "\n",
      "            In this case, `numeric_only` should be set to `True` to avoid\n",
      "            getting an error.\n",
      "\n",
      "            >>> df = pd.DataFrame({'a': [1, 2], 'b': ['T', 'Z']},\n",
      "            ...                   index=['tiger', 'zebra'])\n",
      "            >>> df.mean(numeric_only=True)\n",
      "            a   1.5\n",
      "            dtype: float64\n",
      "\u001b[1;31mSource:\u001b[0m   \n",
      "    \u001b[1;33m@\u001b[0m\u001b[0mdoc\u001b[0m\u001b[1;33m(\u001b[0m\u001b[0mmake_doc\u001b[0m\u001b[1;33m(\u001b[0m\u001b[1;34m\"mean\"\u001b[0m\u001b[1;33m,\u001b[0m \u001b[0mndim\u001b[0m\u001b[1;33m=\u001b[0m\u001b[1;36m2\u001b[0m\u001b[1;33m)\u001b[0m\u001b[1;33m)\u001b[0m\u001b[1;33m\n",
      "\u001b[0m    \u001b[1;32mdef\u001b[0m \u001b[0mmean\u001b[0m\u001b[1;33m(\u001b[0m\u001b[1;33m\n",
      "\u001b[0m        \u001b[0mself\u001b[0m\u001b[1;33m,\u001b[0m\u001b[1;33m\n",
      "\u001b[0m        \u001b[0maxis\u001b[0m\u001b[1;33m:\u001b[0m \u001b[0mAxis\u001b[0m \u001b[1;33m|\u001b[0m \u001b[1;32mNone\u001b[0m \u001b[1;33m=\u001b[0m \u001b[1;36m0\u001b[0m\u001b[1;33m,\u001b[0m\u001b[1;33m\n",
      "\u001b[0m        \u001b[0mskipna\u001b[0m\u001b[1;33m:\u001b[0m \u001b[0mbool\u001b[0m \u001b[1;33m=\u001b[0m \u001b[1;32mTrue\u001b[0m\u001b[1;33m,\u001b[0m\u001b[1;33m\n",
      "\u001b[0m        \u001b[0mnumeric_only\u001b[0m\u001b[1;33m:\u001b[0m \u001b[0mbool\u001b[0m \u001b[1;33m=\u001b[0m \u001b[1;32mFalse\u001b[0m\u001b[1;33m,\u001b[0m\u001b[1;33m\n",
      "\u001b[0m        \u001b[1;33m**\u001b[0m\u001b[0mkwargs\u001b[0m\u001b[1;33m,\u001b[0m\u001b[1;33m\n",
      "\u001b[0m    \u001b[1;33m)\u001b[0m\u001b[1;33m:\u001b[0m\u001b[1;33m\n",
      "\u001b[0m        \u001b[0mresult\u001b[0m \u001b[1;33m=\u001b[0m \u001b[0msuper\u001b[0m\u001b[1;33m(\u001b[0m\u001b[1;33m)\u001b[0m\u001b[1;33m.\u001b[0m\u001b[0mmean\u001b[0m\u001b[1;33m(\u001b[0m\u001b[0maxis\u001b[0m\u001b[1;33m,\u001b[0m \u001b[0mskipna\u001b[0m\u001b[1;33m,\u001b[0m \u001b[0mnumeric_only\u001b[0m\u001b[1;33m,\u001b[0m \u001b[1;33m**\u001b[0m\u001b[0mkwargs\u001b[0m\u001b[1;33m)\u001b[0m\u001b[1;33m\n",
      "\u001b[0m        \u001b[1;32mif\u001b[0m \u001b[0misinstance\u001b[0m\u001b[1;33m(\u001b[0m\u001b[0mresult\u001b[0m\u001b[1;33m,\u001b[0m \u001b[0mSeries\u001b[0m\u001b[1;33m)\u001b[0m\u001b[1;33m:\u001b[0m\u001b[1;33m\n",
      "\u001b[0m            \u001b[0mresult\u001b[0m \u001b[1;33m=\u001b[0m \u001b[0mresult\u001b[0m\u001b[1;33m.\u001b[0m\u001b[0m__finalize__\u001b[0m\u001b[1;33m(\u001b[0m\u001b[0mself\u001b[0m\u001b[1;33m,\u001b[0m \u001b[0mmethod\u001b[0m\u001b[1;33m=\u001b[0m\u001b[1;34m\"mean\"\u001b[0m\u001b[1;33m)\u001b[0m\u001b[1;33m\n",
      "\u001b[0m        \u001b[1;32mreturn\u001b[0m \u001b[0mresult\u001b[0m\u001b[1;33m\u001b[0m\u001b[1;33m\u001b[0m\u001b[0m\n",
      "\u001b[1;31mFile:\u001b[0m      c:\\users\\yang4\\appdata\\local\\programs\\python\\python311\\lib\\site-packages\\pandas\\core\\frame.py\n",
      "\u001b[1;31mType:\u001b[0m      function"
     ]
    }
   ],
   "source": [
    "# add ?? as a suffix to get source code. Press <Escape> to make the pop up tab disappear\n",
    "pd.DataFrame.mean??"
   ]
  },
  {
   "cell_type": "markdown",
   "metadata": {},
   "source": [
    "## Cell Magic/Magic functions\n",
    "If you're familiar with IPython notebooks, you might have come across the term `cell magic`, which basically makes Jupyter notebooks even more awesome: run arbitrary bash commands, write cell to disk, load file to cell, mix-n-match bash and Python, and time the cell."
   ]
  },
  {
   "cell_type": "code",
   "execution_count": 7,
   "metadata": {},
   "outputs": [
    {
     "name": "stderr",
     "output_type": "stream",
     "text": [
      "'cat' is not recognized as an internal or external command,\n",
      "operable program or batch file.\n",
      "'python3' is not recognized as an internal or external command,\n",
      "operable program or batch file.\n",
      "'touch' is not recognized as an internal or external command,\n",
      "operable program or batch file.\n",
      "'rm' is not recognized as an internal or external command,\n",
      "operable program or batch file.\n"
     ]
    },
    {
     "name": "stderr",
     "output_type": "stream",
     "text": [
      "'ls' is not recognized as an internal or external command,\n",
      "operable program or batch file.\n"
     ]
    }
   ],
   "source": [
    "# The bash sign will run the rest of the line as a bash commmand. Really useful if you're connected to a \n",
    "# remote machine and want to run a simple line command but don't want to switch to the Terminal.\n",
    "!echo \"print('hi there')\" > temp.py\n",
    "!cat temp.py\n",
    "!python3 temp.py\n",
    "!touch another_temp_file.py\n",
    "!rm another_temp_file.py\n",
    "!mkdir temp_dir\n",
    "!rmdir temp_dir\n",
    "!ls *.ipynb | head"
   ]
  },
  {
   "cell_type": "code",
   "execution_count": 8,
   "metadata": {},
   "outputs": [
    {
     "name": "stdout",
     "output_type": "stream",
     "text": [
      "Couldn't find program: 'bash'\n"
     ]
    }
   ],
   "source": [
    "%%bash\n",
    "# %%bash (or %%sh) can run an entire cell as bash commands\n",
    "cat temp.py # notice no need to start the line with !\n",
    "python3 temp.py\n",
    "rm temp.py\n",
    "touch another_temp_file.py\n",
    "rm another_temp_file.py\n",
    "mkdir temp_dir\n",
    "rmdir temp_dir"
   ]
  },
  {
   "cell_type": "code",
   "execution_count": 9,
   "metadata": {},
   "outputs": [
    {
     "data": {
      "text/plain": [
       "[\"'ls' is not recognized as an internal or external command,\",\n",
       " 'operable program or batch file.']"
      ]
     },
     "execution_count": 9,
     "metadata": {},
     "output_type": "execute_result"
    }
   ],
   "source": [
    "# you can do a hacky thing where you save the outputs of bash command to a Python variable\n",
    "files_in_directory = !ls *.ipynb\n",
    "files_in_directory"
   ]
  },
  {
   "cell_type": "code",
   "execution_count": 10,
   "metadata": {
    "scrolled": true
   },
   "outputs": [
    {
     "name": "stderr",
     "output_type": "stream",
     "text": [
      "'head' is not recognized as an internal or external command,\n",
      "operable program or batch file.\n"
     ]
    }
   ],
   "source": [
    "# in a reverse manner, you can send Python variable to bash command by enclosing your Python variable name with { }\n",
    "this_file_name = \"'0_Jupyter_Notebook--Tips_and_Tricks.ipynb'\" # had to add extra quotation marks since file name had dashes\n",
    "!head {this_file_name}"
   ]
  },
  {
   "cell_type": "code",
   "execution_count": 11,
   "metadata": {},
   "outputs": [
    {
     "name": "stdout",
     "output_type": "stream",
     "text": [
      "Overwriting temp.py\n"
     ]
    }
   ],
   "source": [
    "%%writefile temp.py\n",
    "# This will put all the code from this code cell into a file with the file name you specificed (temp.py).\n",
    "# %% must be the 1st line for this to work.\n",
    "print('Hello World!')"
   ]
  },
  {
   "cell_type": "code",
   "execution_count": 12,
   "metadata": {},
   "outputs": [],
   "source": [
    "# %load temp.py\n",
    "# This will put all the code from this code cell into a file with the file name you specificed (temp.py).\n",
    "# %% must be the 1st line for this to work.\n",
    "print('Hello World!')\n"
   ]
  },
  {
   "cell_type": "code",
   "execution_count": 13,
   "metadata": {},
   "outputs": [
    {
     "name": "stdout",
     "output_type": "stream",
     "text": [
      "\u001b[1;31m# This will put all the code from this code cell into a file with the file name you specificed (temp.py).\u001b[0m\u001b[1;33m\n",
      "\u001b[0m\u001b[1;31m# %% must be the 1st line for this to work.\u001b[0m\u001b[1;33m\n",
      "\u001b[0m\u001b[0mprint\u001b[0m\u001b[1;33m(\u001b[0m\u001b[1;34m'Hello World!'\u001b[0m\u001b[1;33m)\u001b[0m\u001b[1;33m\u001b[0m\u001b[1;33m\u001b[0m\u001b[0m\n"
     ]
    }
   ],
   "source": [
    "%pycat temp.py\n",
    "# !cat will print the file but no syntax highlighting. %pycat will print file WITH syntax highlighting"
   ]
  },
  {
   "cell_type": "markdown",
   "metadata": {},
   "source": [
    "#### Profiling Runtime"
   ]
  },
  {
   "cell_type": "code",
   "execution_count": 14,
   "metadata": {},
   "outputs": [
    {
     "name": "stdout",
     "output_type": "stream",
     "text": [
      "hi\n",
      "CPU times: total: 0 ns\n",
      "Wall time: 0 ns\n",
      "bye\n"
     ]
    }
   ],
   "source": [
    "print('hi')\n",
    "%time sum(range(10)) # get runtime for only this line; %time be used on any line in the cell\n",
    "print('bye')"
   ]
  },
  {
   "cell_type": "code",
   "execution_count": 15,
   "metadata": {},
   "outputs": [
    {
     "name": "stdout",
     "output_type": "stream",
     "text": [
      "CPU times: total: 62.5 ms\n",
      "Wall time: 57 ms\n"
     ]
    }
   ],
   "source": [
    "%%time\n",
    "# With double percent, you get runtime of the entire cell. %%time MUST be the 1st line\n",
    "summer = 0\n",
    "for i in range(1000000):\n",
    "    summer += i"
   ]
  },
  {
   "cell_type": "code",
   "execution_count": 16,
   "metadata": {},
   "outputs": [
    {
     "name": "stdout",
     "output_type": "stream",
     "text": [
      "210 ms ± 4.48 ms per loop (mean ± std. dev. of 7 runs, 1 loop each)\n"
     ]
    }
   ],
   "source": [
    "%%timeit\n",
    "# If you are concerned about the stability of the runtime, run the cell multiple times and get profiling results.\n",
    "# %%time will run the code cell exactly once. %%timeit will run the cell multiple times.\n",
    "sum(range(10000000))"
   ]
  },
  {
   "cell_type": "code",
   "execution_count": 17,
   "metadata": {},
   "outputs": [
    {
     "name": "stdout",
     "output_type": "stream",
     "text": [
      "HI\n",
      "200 ms ± 3.84 ms per loop (mean ± std. dev. of 7 runs, 1 loop each)\n",
      "BYE\n"
     ]
    }
   ],
   "source": [
    "print(\"HI\")\n",
    "%timeit sum(range(10000000)) # you can use %time on any line and it will run that line multiple times\n",
    "print(\"BYE\")"
   ]
  },
  {
   "cell_type": "code",
   "execution_count": 18,
   "metadata": {},
   "outputs": [
    {
     "name": "stdout",
     "output_type": "stream",
     "text": [
      "HI\n",
      "205 ms ± 5.23 ms per loop (mean ± std. dev. of 7 runs, 1 loop each)\n",
      "BYE\n",
      "CPU times: total: 1.64 s\n",
      "Wall time: 1.64 s\n"
     ]
    }
   ],
   "source": [
    "%%time\n",
    "# You can simultaneously use %%time and %time (and %%timeit and %timeit),\n",
    "# though typically you only use one of them in 1 cell\n",
    "print(\"HI\")\n",
    "%timeit sum(range(10000000))\n",
    "print(\"BYE\")"
   ]
  },
  {
   "cell_type": "markdown",
   "metadata": {},
   "source": [
    "## Don't Print *Everything*\n",
    "To prevent the coding cell to printing random junk, just add semicolon (;)"
   ]
  },
  {
   "cell_type": "code",
   "execution_count": 19,
   "metadata": {
    "scrolled": true
   },
   "outputs": [
    {
     "data": {
      "text/plain": [
       "[<matplotlib.lines.Line2D at 0x132e492aed0>]"
      ]
     },
     "execution_count": 19,
     "metadata": {},
     "output_type": "execute_result"
    },
    {
     "data": {
      "image/png": "[encoded data removed]",
      "text/plain": [
       "<Figure size 640x480 with 1 Axes>"
      ]
     },
     "metadata": {},
     "output_type": "display_data"
    }
   ],
   "source": [
    "import matplotlib.pyplot as plt\n",
    "%matplotlib inline\n",
    "\n",
    "plt.plot(range(10))"
   ]
  },
  {
   "cell_type": "code",
   "execution_count": 20,
   "metadata": {
    "scrolled": true
   },
   "outputs": [
    {
     "data": {
      "image/png": "[encoded data removed]",
      "text/plain": [
       "<Figure size 640x480 with 1 Axes>"
      ]
     },
     "metadata": {},
     "output_type": "display_data"
    }
   ],
   "source": [
    "plt.plot(range(10)); # notice it doesn't print [<matplotlib.lines.Line2D at 0x7f7b2aa18580>]"
   ]
  },
  {
   "cell_type": "code",
   "execution_count": 21,
   "metadata": {},
   "outputs": [
    {
     "data": {
      "text/plain": [
       "'some documentation here at the end of the cell'"
      ]
     },
     "execution_count": 21,
     "metadata": {},
     "output_type": "execute_result"
    }
   ],
   "source": [
    "\"some documentation here at the end of the cell\""
   ]
  },
  {
   "cell_type": "code",
   "execution_count": 22,
   "metadata": {},
   "outputs": [],
   "source": [
    "\"some documentation here at the end of the cell\"; # notice it doesn't print"
   ]
  }
 ],
 "metadata": {
  "kernelspec": {
   "display_name": "Python 3",
   "language": "python",
   "name": "python3"
  },
  "language_info": {
   "codemirror_mode": {
    "name": "ipython",
    "version": 3
   },
   "file_extension": ".py",
   "mimetype": "text/x-python",
   "name": "python",
   "nbconvert_exporter": "python",
   "pygments_lexer": "ipython3",
   "version": "3.11.3"
  }
 },
 "nbformat": 4,
 "nbformat_minor": 2
}
