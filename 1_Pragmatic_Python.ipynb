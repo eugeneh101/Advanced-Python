{
 "cells": [
  {
   "cell_type": "markdown",
   "metadata": {},
   "source": [
    "## Enumerate the Possibilities\n",
    "For people starting to learn Python, they often use C or Java syntax. \n",
    "```python\n",
    "simple_string = \"asdf\"\n",
    "for i in range(len(simple_string)):\n",
    "    print(simple_string[i])\n",
    "```\n",
    "When they figure out you can iterate through containers (list, tuple, set, dict, string, etc.), they are amazed.\n",
    "```python\n",
    "simple_string = \"asdf\"\n",
    "for element in simple_string:\n",
    "    print(element)\n",
    "```\n",
    "But then they want the index (like for filtering purposes) and the element, so they go back to the original syntax:\n",
    "```python\n",
    "simple_string = \"asdf\"\n",
    "for i in range(len(simple_string)):\n",
    "    print(simple_string[i])\n",
    "    if i == ...: do_something\n",
    "```\n",
    "However, you can use enumerate instead to get the index. `enumerate()` gives you a tuple--(index, element). By default, index starts at 0. E enumerate can take a 2nd argument, which is the index you __actually__ want to start at."
   ]
  },
  {
   "cell_type": "code",
   "execution_count": 1,
   "metadata": {},
   "outputs": [
    {
     "name": "stdout",
     "output_type": "stream",
     "text": [
      "0 a\n",
      "1 s\n",
      "2 d\n",
      "3 f\n",
      "\n",
      "1 a\n",
      "2 s\n",
      "3 d\n",
      "4 f\n"
     ]
    }
   ],
   "source": [
    "for index, item in enumerate('asdf'): \n",
    "    print(index, item)\n",
    "    \n",
    "print()\n",
    "\n",
    "for index, item in enumerate('asdf', 1):\n",
    "    print(index, item)"
   ]
  },
  {
   "cell_type": "markdown",
   "metadata": {},
   "source": [
    "## `zip` it up!\n",
    "If you want to pair 2 iterables together, use `zip()`, which stops at the shorter list. If you want to zip to the longer list, use `itertools.zip_longest()`. `zip()` can also take more than 2 arguments--you can have an arbitrary number of iterables."
   ]
  },
  {
   "cell_type": "code",
   "execution_count": 2,
   "metadata": {},
   "outputs": [
    {
     "name": "stdout",
     "output_type": "stream",
     "text": [
      "a 0\n",
      "s 1\n",
      "d 2\n",
      "f 3\n",
      "g 4\n",
      "h 5\n",
      "j 6\n",
      "k 7\n",
      "l 8\n",
      "\n",
      "0 100 200\n",
      "1 101 201\n",
      "2 102 202\n",
      "3 103 203\n",
      "4 104 204\n"
     ]
    }
   ],
   "source": [
    "for a, b in zip('asdfghjkl', range(42)):\n",
    "    print(a, b)\n",
    "    \n",
    "print()\n",
    "\n",
    "for a, b, c in zip(range(5), range(100, 105), range(200, 205)):\n",
    "    print(a, b, c)"
   ]
  },
  {
   "cell_type": "code",
   "execution_count": null,
   "metadata": {},
   "outputs": [],
   "source": []
  },
  {
   "cell_type": "markdown",
   "metadata": {},
   "source": [
    "## Practical ~~oops~~ OOP\n",
    "Everybody talks about Object Oriented Programming. Here's some actual useful functionality. \n",
    "\n",
    "#### Lingo:\n",
    "* `class`: blueprints or definitions for creating an object. Another synonym for class is `type`.  \n",
    "* `object` (also called an instance): an actual, living, breathing creation of a `class`--the manifestation of building out what was in your blueprint. The process of creating an instance is called `instantiation`. A secondary definition is that everything (storable) in Python is an object. \n",
    "* `method`: a function you put inside a class.\n",
    "* `attribute`: a variable inside an instance (also called instance variable) or class (also called class variable).\n",
    "\n",
    "In short, a Python object has 4 things: a type/class, data/attributes, methods, and a unique identity (which can be found by calling `id()`). \n",
    "\n",
    "#### 3 Types (What an OOP pun!) of Methods:\n",
    "* `instance Method`: Most common (vast majority of time). Do something with the instance, ie update the instance's attributes or return something from that instance. Call from the instance.\n",
    "* `class method`: uncommon (maybe 10% of the time). Do something with the class, ie update the class's attributes or return something from that class. Call from the class or an instance.\n",
    "* `static method`: very uncommon (<5% of the time). Use no information about an instance or class, ie knows nothing about the instance or class. Just a regular function but you attached to a class (because it might be helpful). Call from the class or an instance."
   ]
  },
  {
   "cell_type": "code",
   "execution_count": 1,
   "metadata": {},
   "outputs": [],
   "source": [
    "class MyClass:\n",
    "    my_class_attribute = 42 # notice it looks like a regular assignment within a class\n",
    "    \n",
    "    def my_instance_method(self, my_instance_attribute):\n",
    "        self.my_instance_attribute = my_instance_attribute\n",
    "        return my_instance_attribute    \n",
    "    \n",
    "    @classmethod # notice this decorator\n",
    "    def my_class_method(cls): # notice `cls`, not `self`\n",
    "        return cls.my_class_attribute # notice `cls`, not `self`\n",
    "    \n",
    "    @staticmethod # notice this decorator\n",
    "    def my_static_method(x, y): # no `self` or `cls`\n",
    "        return x + y "
   ]
  },
  {
   "cell_type": "code",
   "execution_count": 2,
   "metadata": {},
   "outputs": [
    {
     "name": "stdout",
     "output_type": "stream",
     "text": [
      "10\n"
     ]
    },
    {
     "ename": "TypeError",
     "evalue": "my_instance_method() missing 1 required positional argument: 'my_instance_attribute'",
     "output_type": "error",
     "traceback": [
      "\u001b[1;31m---------------------------------------------------------------------------\u001b[0m",
      "\u001b[1;31mTypeError\u001b[0m                                 Traceback (most recent call last)",
      "\u001b[1;32m<ipython-input-2-26e591635784>\u001b[0m in \u001b[0;36m<module>\u001b[1;34m()\u001b[0m\n\u001b[0;32m      2\u001b[0m \u001b[0mmy_instance\u001b[0m \u001b[1;33m=\u001b[0m \u001b[0mMyClass\u001b[0m\u001b[1;33m(\u001b[0m\u001b[1;33m)\u001b[0m\u001b[1;33m\u001b[0m\u001b[0m\n\u001b[0;32m      3\u001b[0m \u001b[0mprint\u001b[0m\u001b[1;33m(\u001b[0m\u001b[0mmy_instance\u001b[0m\u001b[1;33m.\u001b[0m\u001b[0mmy_instance_method\u001b[0m\u001b[1;33m(\u001b[0m\u001b[1;36m10\u001b[0m\u001b[1;33m)\u001b[0m\u001b[1;33m)\u001b[0m \u001b[1;31m# instance method call on instance works\u001b[0m\u001b[1;33m\u001b[0m\u001b[0m\n\u001b[1;32m----> 4\u001b[1;33m \u001b[0mprint\u001b[0m\u001b[1;33m(\u001b[0m\u001b[0mMyClass\u001b[0m\u001b[1;33m.\u001b[0m\u001b[0mmy_instance_method\u001b[0m\u001b[1;33m(\u001b[0m\u001b[1;36m10\u001b[0m\u001b[1;33m)\u001b[0m\u001b[1;33m)\u001b[0m \u001b[1;31m# instance method call on class does not work\u001b[0m\u001b[1;33m\u001b[0m\u001b[0m\n\u001b[0m",
      "\u001b[1;31mTypeError\u001b[0m: my_instance_method() missing 1 required positional argument: 'my_instance_attribute'"
     ]
    }
   ],
   "source": [
    "# instance method\n",
    "my_instance = MyClass()\n",
    "print(my_instance.my_instance_method(10)) # instance method call on instance works\n",
    "print(MyClass.my_instance_method(10)) # instance method call on class does not work"
   ]
  },
  {
   "cell_type": "code",
   "execution_count": 3,
   "metadata": {},
   "outputs": [
    {
     "name": "stdout",
     "output_type": "stream",
     "text": [
      "1\n",
      "2\n"
     ]
    }
   ],
   "source": [
    "# each instance has its own `copy` of the data/attributes\n",
    "my_instance.my_instance_method(1)\n",
    "\n",
    "my_instance_2 = MyClass()\n",
    "my_instance_2.my_instance_method(2)\n",
    "\n",
    "print(my_instance.my_instance_attribute)\n",
    "print(my_instance_2.my_instance_attribute)"
   ]
  },
  {
   "cell_type": "code",
   "execution_count": 4,
   "metadata": {},
   "outputs": [
    {
     "name": "stdout",
     "output_type": "stream",
     "text": [
      "42\n",
      "42\n",
      "42\n"
     ]
    }
   ],
   "source": [
    "# class method\n",
    "print(my_instance.my_class_method()) # class method call on instance works\n",
    "print(MyClass.my_class_method()) # class method call on class works, though this notation is probably \n",
    "# preferred to denote that it is class method\n",
    "\n",
    "\n",
    "# class attributes are visible to all instances. There is only 1 `copy` of the class attribute\n",
    "my_instance_2 = MyClass()\n",
    "print(my_instance_2.my_class_method())"
   ]
  },
  {
   "cell_type": "code",
   "execution_count": 5,
   "metadata": {},
   "outputs": [
    {
     "name": "stdout",
     "output_type": "stream",
     "text": [
      "43\n",
      "43\n",
      "43\n"
     ]
    }
   ],
   "source": [
    "# class attributes can be updated, which then all instances can see\n",
    "MyClass.my_class_attribute += 1\n",
    "print(my_instance.my_class_method())\n",
    "print(my_instance_2.my_class_method())\n",
    "print(MyClass.my_class_method())"
   ]
  },
  {
   "cell_type": "code",
   "execution_count": 6,
   "metadata": {},
   "outputs": [
    {
     "name": "stdout",
     "output_type": "stream",
     "text": [
      "3\n",
      "3\n"
     ]
    }
   ],
   "source": [
    "# static method\n",
    "print(my_instance.my_static_method(1, 2)) # static method call on instance works\n",
    "print(MyClass.my_static_method(1, 2)) # static method call on class works"
   ]
  },
  {
   "cell_type": "markdown",
   "metadata": {},
   "source": [
    "#### Food for Thought (~~Tongue~~ Brain Twister): \n",
    "* What if an instance attribute has the same name as a class attribute?\n",
    "* If an instance attribute has the same name as a class attribute, what happens if you try to delete the attribute? Which one gets deleted?"
   ]
  },
  {
   "cell_type": "code",
   "execution_count": null,
   "metadata": {},
   "outputs": [],
   "source": []
  },
  {
   "cell_type": "markdown",
   "metadata": {},
   "source": [
    "## I Need Help: Can you `lambda` hand?  \n",
    "Lambda functions (AKA anonymous functions) are a quick way to define a function. Lambda functions are for the most part equivalent to regular `def` functions, but specifically for simple, 1-line, single expressions. Common use cases for lambdas are in `sorted()`, functional programming (`map()`, `filter()`, `reduce()`), pandas DataFrame `.apply()`, and DAG-based transformations like Spark (which uses functional programming). Lambdas cannot be used for statements (like assignment)."
   ]
  },
  {
   "cell_type": "code",
   "execution_count": 1,
   "metadata": {},
   "outputs": [],
   "source": [
    "sorted([(1, \"z\"), (2, \"y\"), (3, \"x\")], key=lambda tup: tup[1])"
   ]
  },
  {
   "cell_type": "code",
   "execution_count": 2,
   "metadata": {},
   "outputs": [
    {
     "data": {
      "text/plain": [
       "75"
      ]
     },
     "execution_count": 2,
     "metadata": {},
     "output_type": "execute_result"
    }
   ],
   "source": [
    "from functools import reduce\n",
    "\n",
    "reduce(\n",
    "    lambda x, y: x + y, \n",
    "    filter(\n",
    "        lambda x: x % 2, \n",
    "        map(\n",
    "            lambda x: x * 3, \n",
    "            range(10)\n",
    "        )\n",
    "    )\n",
    ") # multiple all the numbers by 3, filter and keep numbers that are odd, add them together"
   ]
  },
  {
   "cell_type": "code",
   "execution_count": 6,
   "metadata": {},
   "outputs": [
    {
     "data": {
      "text/plain": [
       "75"
      ]
     },
     "execution_count": 6,
     "metadata": {},
     "output_type": "execute_result"
    }
   ],
   "source": [
    "# the previous example is a bit contrived since list comprehensions (and generators) can perform both map and filter, and a for-loop is recommended over a reduce function\n",
    "summation = 0\n",
    "map_and_filter = (element * 3 for element in range(10) if element * 3 % 2)\n",
    "for element in map_and_filter:\n",
    "    summation += element\n",
    "summation"
   ]
  },
  {
   "cell_type": "code",
   "execution_count": 3,
   "metadata": {},
   "outputs": [
    {
     "data": {
      "text/plain": [
       "0     4\n",
       "1    16\n",
       "2    36\n",
       "3    64\n",
       "Name: a, dtype: int64"
      ]
     },
     "execution_count": 3,
     "metadata": {},
     "output_type": "execute_result"
    }
   ],
   "source": [
    "import pandas as pd\n",
    "\n",
    "df = pd.DataFrame({\"a\": range(2, 10, 2)})\n",
    "df[\"a\"].apply(lambda x: x ** 2)"
   ]
  },
  {
   "cell_type": "code",
   "execution_count": 10,
   "metadata": {},
   "outputs": [
    {
     "name": "stdout",
     "output_type": "stream",
     "text": [
      "43\n",
      "3\n",
      "45\n"
     ]
    }
   ],
   "source": [
    "# technically you can name your function and still have default values. lambda truly is like a `def` function with a 1-line body.\n",
    "summer = lambda x, y=42: x + y\n",
    "\n",
    "print(summer(1))\n",
    "print(summer(1, 2))\n",
    "print(reduce(summer, range(10)))"
   ]
  },
  {
   "cell_type": "code",
   "execution_count": null,
   "metadata": {},
   "outputs": [],
   "source": []
  },
  {
   "cell_type": "markdown",
   "metadata": {},
   "source": [
    "## The Key in Getting into Arguments\n",
    "Often times, you see `*args` and `**kwargs`, and you always were curious about what it does but were too afraid to ask.  \n",
    "It's a bit confusing in that where `*args` appears affects how it works.  \n",
    "\n",
    "For example, if you see `*args` in the function **definition/signature** (`def my_function(*args)`), then it is accumulating all the arguments into 1 tuple stored in a variable called `args`."
   ]
  },
  {
   "cell_type": "code",
   "execution_count": 11,
   "metadata": {},
   "outputs": [
    {
     "name": "stdout",
     "output_type": "stream",
     "text": [
      "(1, 2, 3, 4, 4)\n",
      "<class 'tuple'>\n",
      "None\n"
     ]
    }
   ],
   "source": [
    "def silly_function(*args):\n",
    "    print(args)\n",
    "    print(type(args))\n",
    "    \n",
    "print(silly_function(1, 2, 3, 4, 4))"
   ]
  },
  {
   "cell_type": "markdown",
   "metadata": {},
   "source": [
    "However, if you see `*args` in the function **call**, then it is separating the iterable into multiple arguments: 1 argument becomes multiple arguments. The order of the separated arguments is retained.  "
   ]
  },
  {
   "cell_type": "code",
   "execution_count": 17,
   "metadata": {},
   "outputs": [
    {
     "name": "stdout",
     "output_type": "stream",
     "text": [
      "1\n",
      "2\n",
      "3\n",
      "\n",
      "x\n",
      "y\n",
      "z\n"
     ]
    }
   ],
   "source": [
    "def silly_function(a, b, c):\n",
    "    print(a)\n",
    "    print(b)\n",
    "    print(c)\n",
    "\n",
    "silly_function(*(1, 2, 3)) # this function call passes in 1 argument, which is a tuple.\n",
    "print()\n",
    "silly_function(*\"xyz\") # this function call passes in a string, which is technically iterable."
   ]
  },
  {
   "cell_type": "markdown",
   "metadata": {},
   "source": [
    "`**kwargs` stands for keyword arguments. It means that you are explicitly passing in an argument name and argument value. Again, the placement of `**kwargs` changes the behavior. `**kwargs` in the function **definition/signature** means that all named arguments will be placed in a dictionary."
   ]
  },
  {
   "cell_type": "code",
   "execution_count": 18,
   "metadata": {},
   "outputs": [
    {
     "name": "stdout",
     "output_type": "stream",
     "text": [
      "{'a': 1, 'b': 2, 'c': 3}\n",
      "<class 'dict'>\n"
     ]
    }
   ],
   "source": [
    "def silly_function(**kwargs):\n",
    "    print(kwargs)\n",
    "    print(type(kwargs))\n",
    "    \n",
    "silly_function(a=1, b=2, c=3)"
   ]
  },
  {
   "cell_type": "markdown",
   "metadata": {},
   "source": [
    "`**kwargs` in the function **call** means separate the dictionary into named arguments. This is useful if you want to guarantee that the variables are explicitly given an argument name and argument value because you cannot rely on the order of the arguments like in `*args`."
   ]
  },
  {
   "cell_type": "code",
   "execution_count": 22,
   "metadata": {},
   "outputs": [
    {
     "name": "stdout",
     "output_type": "stream",
     "text": [
      "1\n",
      "2\n",
      "3\n"
     ]
    }
   ],
   "source": [
    "def silly_function(a, b, c):\n",
    "    print(a)\n",
    "    print(b)\n",
    "    print(c)\n",
    "    \n",
    "silly_function(**{\"c\": 3, \"b\": 2, \"a\": 1}) # equivalent to silly_function(c=3, b=2, a=1)"
   ]
  },
  {
   "cell_type": "markdown",
   "metadata": {},
   "source": [
    "You can also use `*args` and `**kwargs` together. Also, the word `args` or `kwargs` are not special. It's just a Python convention. You can name it anything."
   ]
  },
  {
   "cell_type": "code",
   "execution_count": 30,
   "metadata": {},
   "outputs": [
    {
     "name": "stdout",
     "output_type": "stream",
     "text": [
      "(1, 2, 3)\n",
      "{'d': 4, 'e': 5, 'f': 6}\n"
     ]
    }
   ],
   "source": [
    "def silly_function(*my_silly_args, **my_silly_kwargs): # * in the function definition\n",
    "    print(my_silly_args)\n",
    "    print(my_silly_kwargs)\n",
    "    \n",
    "silly_function(1, 2, 3, d=4, e=5, f=6)"
   ]
  },
  {
   "cell_type": "code",
   "execution_count": 32,
   "metadata": {},
   "outputs": [
    {
     "name": "stdout",
     "output_type": "stream",
     "text": [
      "1 2 3 4 5 6\n"
     ]
    }
   ],
   "source": [
    "def silly_function(a, b, c, d, e, f):\n",
    "    print(a, b, c, d, e, f)\n",
    "    \n",
    "silly_function(\n",
    "    *[1, 2, 3], # * in the function call\n",
    "    **{\"f\": 6, \"e\": 5, \"d\": 4}\n",
    ")"
   ]
  },
  {
   "cell_type": "code",
   "execution_count": 24,
   "metadata": {
    "scrolled": true
   },
   "outputs": [
    {
     "name": "stdout",
     "output_type": "stream",
     "text": [
      "(1, 2, 3)\n",
      "{'d': 4, 'e': 5, 'f': 6}\n"
     ]
    }
   ],
   "source": [
    "# stars everywhere: it's a constellation!\n",
    "def silly_function(*my_silly_args, **my_silly_kwargs):\n",
    "    print(my_silly_args)\n",
    "    print(my_silly_kwargs)\n",
    "    \n",
    "silly_function(\n",
    "    *[1, 2, 3],\n",
    "    **{\"d\": 4, \"e\": 5, \"f\": 6}\n",
    ")"
   ]
  },
  {
   "cell_type": "markdown",
   "metadata": {},
   "source": [
    "Often times, you will see a function called a decorator that has both `*args` and `**kwargs` and the purpose is to give the full expressiveness of the original function (without loss of generality). Whatever you could do with the original function, you can do with the decorated function."
   ]
  },
  {
   "cell_type": "code",
   "execution_count": 36,
   "metadata": {},
   "outputs": [],
   "source": [
    "def identity_decorator(func): # does nothing special\n",
    "    def inner(*args, **kwargs):\n",
    "        return func(*args, **kwargs)\n",
    "    return inner"
   ]
  },
  {
   "cell_type": "code",
   "execution_count": null,
   "metadata": {},
   "outputs": [],
   "source": []
  },
  {
   "cell_type": "markdown",
   "metadata": {},
   "source": [
    "## Decorate like a Boss!\n",
    "Everything you wanted to know about **decorators** but were too afraid to ask.  \n",
    "\n",
    "Decorators sounds like an ornament you put on a Christmas tree. Then you put your programming hat on, and you think it must be very complicated. BUT it's actually a very simple concept.  \n",
    "Boring, academic definition: decorators are higher-order functions that either take in a function and/or return a function for function composition.  \n",
    "Actual practical importance: You have a function that you want to change some behavior before or after the function call.  \n",
    "\n",
    "Now you may be wondering: why would you want a decorator if you can just change the original function--if all you are going to do is change something before and/or after the original function call. The reason could be: \n",
    "* You can't change the original function because it is too complicated to understand.  \n",
    "* You can't change the original function because you don't have access to change it. For example, many numpy functions are written in C, so you literally could not change the source code.  \n",
    "* You can't change the original function because it is used everywhere and you don't know which ones you want to change.  \n",
    "* You just wanna be ~~cool~~ a pro!  \n",
    "\n",
    "\\* *Nota bene*: subtitle stolen/appropriated/borrowed/adapted from an article called \"Everything You Wanted to Know about the Kernel Trick\n",
    "(But Were Too Afraid to Ask)\""
   ]
  },
  {
   "cell_type": "code",
   "execution_count": 61,
   "metadata": {},
   "outputs": [],
   "source": [
    "def make_my_function_polite(func):\n",
    "    def inner(arg):\n",
    "        print(\"hello!\")\n",
    "        result = func(arg) # notice I'm storing results if I want to do something after my function call\n",
    "        print(\"bye!\")\n",
    "        return result\n",
    "    return inner # notice I am returning a function back"
   ]
  },
  {
   "cell_type": "code",
   "execution_count": 62,
   "metadata": {
    "scrolled": true
   },
   "outputs": [
    {
     "name": "stdout",
     "output_type": "stream",
     "text": [
      "84\n"
     ]
    }
   ],
   "source": [
    "def double(x):\n",
    "    return x * 2\n",
    "print(double(42))"
   ]
  },
  {
   "cell_type": "code",
   "execution_count": 67,
   "metadata": {},
   "outputs": [
    {
     "data": {
      "text/plain": [
       "<function __main__.make_my_function_polite.<locals>.inner>"
      ]
     },
     "execution_count": 67,
     "metadata": {},
     "output_type": "execute_result"
    }
   ],
   "source": [
    "make_my_function_polite(double) # notice that a function is returned"
   ]
  },
  {
   "cell_type": "code",
   "execution_count": 63,
   "metadata": {},
   "outputs": [
    {
     "name": "stdout",
     "output_type": "stream",
     "text": [
      "hello!\n",
      "bye!\n"
     ]
    },
    {
     "data": {
      "text/plain": [
       "84"
      ]
     },
     "execution_count": 63,
     "metadata": {},
     "output_type": "execute_result"
    }
   ],
   "source": [
    "make_my_function_polite(double)(42) # apply decorator 1 time"
   ]
  },
  {
   "cell_type": "code",
   "execution_count": 64,
   "metadata": {},
   "outputs": [
    {
     "name": "stdout",
     "output_type": "stream",
     "text": [
      "hello!\n",
      "bye!\n",
      "2\n",
      "\n",
      "hello!\n",
      "bye!\n",
      "6\n"
     ]
    }
   ],
   "source": [
    "# however, often times, you want to make the effects of the decorator \"permanent\" to all function calls\n",
    "double = make_my_function_polite(double)\n",
    "print(double(1))\n",
    "print()\n",
    "print(double(3))"
   ]
  },
  {
   "cell_type": "code",
   "execution_count": 65,
   "metadata": {},
   "outputs": [
    {
     "name": "stdout",
     "output_type": "stream",
     "text": [
      "hello!\n",
      "bye!\n"
     ]
    },
    {
     "data": {
      "text/plain": [
       "84"
      ]
     },
     "execution_count": 65,
     "metadata": {},
     "output_type": "execute_result"
    }
   ],
   "source": [
    "# however, the previous syntax is ugly--nobody uses it. Here's the decorator syntax you see in the real-world\n",
    "@make_my_function_polite\n",
    "def double(x):\n",
    "    return x * 2\n",
    "\n",
    "double(42)"
   ]
  },
  {
   "cell_type": "markdown",
   "metadata": {},
   "source": [
    "Now you may be thinking, what are some practical things you want to change before you your original function call: change the arguments or check for valid types. Some practical things you want after the original function call: logging action to disk, closing a connection to a database, return the output of the original function call and an extra flag depending on the output."
   ]
  },
  {
   "cell_type": "code",
   "execution_count": 83,
   "metadata": {},
   "outputs": [
    {
     "ename": "ValueError",
     "evalue": "Not a valid argument",
     "output_type": "error",
     "traceback": [
      "\u001b[1;31m---------------------------------------------------------------------------\u001b[0m",
      "\u001b[1;31mValueError\u001b[0m                                Traceback (most recent call last)",
      "\u001b[1;32m<ipython-input-83-e9bcd36c2dec>\u001b[0m in \u001b[0;36m<module>\u001b[1;34m()\u001b[0m\n\u001b[0;32m     11\u001b[0m     \u001b[1;32mreturn\u001b[0m \u001b[0mx\u001b[0m \u001b[1;33m*\u001b[0m \u001b[1;36m2\u001b[0m\u001b[1;33m\u001b[0m\u001b[0m\n\u001b[0;32m     12\u001b[0m \u001b[1;33m\u001b[0m\u001b[0m\n\u001b[1;32m---> 13\u001b[1;33m \u001b[0mdouble\u001b[0m\u001b[1;33m(\u001b[0m\u001b[1;34m\"42\"\u001b[0m\u001b[1;33m)\u001b[0m\u001b[1;33m\u001b[0m\u001b[0m\n\u001b[0m",
      "\u001b[1;32m<ipython-input-83-e9bcd36c2dec>\u001b[0m in \u001b[0;36minner\u001b[1;34m(arg)\u001b[0m\n\u001b[0;32m      2\u001b[0m     \u001b[1;32mdef\u001b[0m \u001b[0minner\u001b[0m\u001b[1;33m(\u001b[0m\u001b[0marg\u001b[0m\u001b[1;33m)\u001b[0m\u001b[1;33m:\u001b[0m\u001b[1;33m\u001b[0m\u001b[0m\n\u001b[0;32m      3\u001b[0m         \u001b[1;32mif\u001b[0m \u001b[1;32mnot\u001b[0m \u001b[0misinstance\u001b[0m\u001b[1;33m(\u001b[0m\u001b[0marg\u001b[0m\u001b[1;33m,\u001b[0m \u001b[1;33m(\u001b[0m\u001b[0mfloat\u001b[0m\u001b[1;33m,\u001b[0m \u001b[0mint\u001b[0m\u001b[1;33m)\u001b[0m\u001b[1;33m)\u001b[0m\u001b[1;33m:\u001b[0m\u001b[1;33m\u001b[0m\u001b[0m\n\u001b[1;32m----> 4\u001b[1;33m             \u001b[1;32mraise\u001b[0m \u001b[0mValueError\u001b[0m\u001b[1;33m(\u001b[0m\u001b[1;34m\"Not a valid argument\"\u001b[0m\u001b[1;33m)\u001b[0m\u001b[1;33m\u001b[0m\u001b[0m\n\u001b[0m\u001b[0;32m      5\u001b[0m         \u001b[1;32melse\u001b[0m\u001b[1;33m:\u001b[0m\u001b[1;33m\u001b[0m\u001b[0m\n\u001b[0;32m      6\u001b[0m             \u001b[1;32mreturn\u001b[0m \u001b[0mfunc\u001b[0m\u001b[1;33m(\u001b[0m\u001b[0marg\u001b[0m\u001b[1;33m)\u001b[0m\u001b[1;33m\u001b[0m\u001b[0m\n",
      "\u001b[1;31mValueError\u001b[0m: Not a valid argument"
     ]
    }
   ],
   "source": [
    "def penalize_type(func):\n",
    "    def inner(arg):\n",
    "        if not isinstance(arg, (float, int)):\n",
    "            raise ValueError(\"Not a valid argument\")\n",
    "        else:\n",
    "            return func(arg)\n",
    "    return inner\n",
    "\n",
    "@penalize_type\n",
    "def double(x):\n",
    "    return x * 2\n",
    "\n",
    "double(\"42\")"
   ]
  },
  {
   "cell_type": "code",
   "execution_count": 85,
   "metadata": {},
   "outputs": [
    {
     "data": {
      "text/plain": [
       "84.0"
      ]
     },
     "execution_count": 85,
     "metadata": {},
     "output_type": "execute_result"
    }
   ],
   "source": [
    "def accommodate_type(func):\n",
    "    def inner(arg):\n",
    "        if isinstance(arg, str):\n",
    "            arg = float(arg)\n",
    "        return func(arg)\n",
    "    return inner\n",
    "\n",
    "@accommodate_type\n",
    "def double(x):\n",
    "    return x * 2\n",
    "\n",
    "double(\"42\")"
   ]
  },
  {
   "cell_type": "markdown",
   "metadata": {},
   "source": [
    "There is more content about decorators in `4_Function_Python.ipynb`. But for now, are there any more questions? ;-)"
   ]
  },
  {
   "cell_type": "code",
   "execution_count": null,
   "metadata": {},
   "outputs": [],
   "source": []
  },
  {
   "cell_type": "markdown",
   "metadata": {},
   "source": [
    "## Helpful Libraries\n",
    "#### `collections`:\n",
    "* Marketing docstring: This module implements specialized container datatypes providing alternatives to Python’s general purpose built-in containers, dict, list, set, and tuple. \n",
    "* What it actually does: Whatever types you have, they can be cooler!\n",
    "* Useful classes: `Counter` and `defaultdict`"
   ]
  },
  {
   "cell_type": "code",
   "execution_count": null,
   "metadata": {},
   "outputs": [],
   "source": [
    "# Typical Way of Letter Count\n",
    "letters = \"abcdcacdacadacdabbbabc\"\n",
    "\n",
    "letter_count = {}\n",
    "for letter in letters:\n",
    "    if letter in letter_count:\n",
    "        letter_count[letter] += 1\n",
    "    else:\n",
    "        letter_count[letter] = 1\n",
    "letter_count"
   ]
  },
  {
   "cell_type": "code",
   "execution_count": 2,
   "metadata": {},
   "outputs": [
    {
     "data": {
      "text/plain": [
       "{'a': 7, 'b': 5, 'c': 6, 'd': 4}"
      ]
     },
     "execution_count": 2,
     "metadata": {},
     "output_type": "execute_result"
    }
   ],
   "source": [
    "# Using `dict.get`, which is a safe operator for unknown keys\n",
    "letters = \"abcdcacdacadacdabbbabc\"\n",
    "\n",
    "letter_count = {}\n",
    "for letter in letters:\n",
    "    letter_count[letter] = letter_count.get(letter, 0) + 1\n",
    "letter_count"
   ]
  },
  {
   "cell_type": "code",
   "execution_count": 3,
   "metadata": {},
   "outputs": [
    {
     "name": "stdout",
     "output_type": "stream",
     "text": [
      "Counter({'a': 7, 'c': 6, 'b': 5, 'd': 4})\n",
      "[('a', 7), ('c', 6), ('b', 5), ('d', 4)]\n",
      "4\n",
      "0\n"
     ]
    }
   ],
   "source": [
    "# Use counter instead! counter is really an upgraded dictionary: it counts!\n",
    "from collections import Counter\n",
    "\n",
    "letters = \"abcdcacdacadacdabbbabc\"\n",
    "counter = Counter(letters) # just put your iterable here and Counter will do the rest\n",
    "print(counter)\n",
    "print(counter.most_common())\n",
    "print(counter['d']) # key is inside dict\n",
    "print(counter['z']) # key is not inside dict, so will output 0. Hence you don't need to counter.get('z', 0)"
   ]
  },
  {
   "cell_type": "code",
   "execution_count": null,
   "metadata": {},
   "outputs": [],
   "source": []
  },
  {
   "cell_type": "code",
   "execution_count": 4,
   "metadata": {},
   "outputs": [
    {
     "name": "stdout",
     "output_type": "stream",
     "text": [
      "[]\n",
      "defaultdict(<class 'list'>, {'a': [1]})\n"
     ]
    }
   ],
   "source": [
    "# defaultdict takes in a function, and that will be your default value if the key doesn't exist yet\n",
    "from collections import defaultdict\n",
    "\n",
    "dict_key_always_has_value = defaultdict(list) # put a function here\n",
    "print(dict_key_always_has_value['a']) # the key doesn't exist in your dictionary but the value is already available\n",
    "dict_key_always_has_value['a'].append(1)\n",
    "print(dict_key_always_has_value)"
   ]
  },
  {
   "cell_type": "code",
   "execution_count": 5,
   "metadata": {},
   "outputs": [
    {
     "name": "stdout",
     "output_type": "stream",
     "text": [
      "defaultdict(<class 'int'>, {'a': 7, 'b': 5, 'c': 6, 'd': 4})\n"
     ]
    }
   ],
   "source": [
    "# Here is how you do letter counts using a defaultdict.\n",
    "# If you think about it, a Counter is just a defaultdict using int, since int() returns 0.\n",
    "letters = \"abcdcacdacadacdabbbabc\"\n",
    "\n",
    "dict_key_always_has_value = defaultdict(int) # because int() returns 0\n",
    "for letter in letters:\n",
    "    dict_key_always_has_value[letter] = dict_key_always_has_value[letter] + 1 # equivalent to dict.get(letter, function_here())\n",
    "print(dict_key_always_has_value)"
   ]
  },
  {
   "cell_type": "code",
   "execution_count": 6,
   "metadata": {},
   "outputs": [
    {
     "name": "stdout",
     "output_type": "stream",
     "text": [
      "[None, None, None, None, None, None, None, None, None, None]\n",
      "defaultdict(<function <lambda> at 0x00000195D3B952F0>, {'a': [None, None, None, None, None, None, None, None, None, None]})\n",
      "False\n",
      "defaultdict(<function <lambda> at 0x00000195D3B952F0>, {'a': [None, None, None, None, None, None, None, None, None, None]})\n"
     ]
    }
   ],
   "source": [
    "# since the defaultdict argument is just a function, you can create whatever default values you like\n",
    "dict_key_always_has_value = defaultdict(lambda: [None] * 10)\n",
    "print(dict_key_always_has_value['a']) # the value by default is automatically [None] * 10\n",
    "print(dict_key_always_has_value) # notice that once you lookup ANY key, the key-value pair now exists in your dictionary\n",
    "print('b' in dict_key_always_has_value) # use this notation if you just want to check membership, but not add key-value pair to dict\n",
    "print(dict_key_always_has_value)"
   ]
  },
  {
   "cell_type": "code",
   "execution_count": 7,
   "metadata": {},
   "outputs": [
    {
     "name": "stdout",
     "output_type": "stream",
     "text": [
      "defaultdict(<class 'list'>, {})\n",
      "[]\n",
      "defaultdict(<function <lambda> at 0x00000195D3B95510>, {'a': defaultdict(<class 'list'>, {'a': [42]})})\n"
     ]
    }
   ],
   "source": [
    "# can nest defaultdicts for interesting data structure. I have actually used dict in dict before \n",
    "nested_defaultdict = defaultdict(lambda: defaultdict(list)) # each argument of a defaultdict must be a function\n",
    "print(nested_defaultdict['a']) # gives you the inner defaultdict back\n",
    "print(nested_defaultdict['a']['a']) # gives you the nested list\n",
    "nested_defaultdict['a']['a'].append(42)\n",
    "print(nested_defaultdict)"
   ]
  },
  {
   "cell_type": "code",
   "execution_count": null,
   "metadata": {},
   "outputs": [],
   "source": []
  },
  {
   "cell_type": "markdown",
   "metadata": {},
   "source": [
    "#### `tqdm`:\n",
    "* Marketing docstring: A Fast, Extensible Progress Bar for Python and CLI.\n",
    "* What it actually does: put a timer everywhere! If something is slow, time it!\n",
    "* tqdm means \"progress\" in Arabic (taqadum, تقدّم) and is an abbreviation for \"I love you so much\" in Spanish (te quiero demasiado)."
   ]
  },
  {
   "cell_type": "code",
   "execution_count": 8,
   "metadata": {},
   "outputs": [
    {
     "name": "stderr",
     "output_type": "stream",
     "text": [
      "100%|██████████| 10/10 [00:10<00:00,  1.00s/it]\n"
     ]
    }
   ],
   "source": [
    "from tqdm import tqdm # tqdm is a great library to show progress bar\n",
    "import time\n",
    "\n",
    "for i in tqdm(range(10)): # just wrap tqdm() around your iterable; useful Time Lapsed and Estimated Time of Completion for loops\n",
    "    time.sleep(1)"
   ]
  },
  {
   "cell_type": "code",
   "execution_count": null,
   "metadata": {},
   "outputs": [],
   "source": []
  },
  {
   "cell_type": "markdown",
   "metadata": {},
   "source": [
    "#### `pdb` or `ipdb`\n",
    "When your back is against the wall, use the debugger! I tend to use `print()` to try to reason about my code when I hit a bug. However, when the problem is so deep that I cannot easily think it through, then it's time to use the trusty debugger.  \n",
    "Put `pdb.set_trace()` right before you line you get an error message--you can even use it in the notebook!  \n",
    "2 important keys:  \n",
    " - n - run next line  \n",
    " - q - quit the debugger  \n",
    " While inside the debugger, all your variables are alive, so you can literally see what state your variables/objects are in. You can run arbitrary functions, expressions, and statements in the debugger. For example, you can overwrite a variable with a different value to see how your function would work under those conditions.  \n",
    "\n",
    "`ipdb` is a fancier debugger that needs to be installed, but it offers tab completion and nicer printouts."
   ]
  },
  {
   "cell_type": "code",
   "execution_count": 1,
   "metadata": {},
   "outputs": [
    {
     "name": "stdout",
     "output_type": "stream",
     "text": [
      "Overwriting script_to_debug.py\n"
     ]
    }
   ],
   "source": [
    "%%writefile script_to_debug.py\n",
    "import pdb\n",
    "\n",
    "def flawed_function():\n",
    "    x = 1\n",
    "    y = 0\n",
    "    pdb.set_trace()\n",
    "    return x / y\n",
    "\n",
    "flawed_function()"
   ]
  },
  {
   "cell_type": "markdown",
   "metadata": {},
   "source": [
    "If you run `python script_to_debug.py` in the terminal, the Python interpreter will stop where you put `set_trave()` and the variables will be alive. You will be in the interactive mode in the Python REPL.\n",
    "\n",
    "You can also run `pdb` in the notebook itself!"
   ]
  },
  {
   "cell_type": "code",
   "execution_count": 2,
   "metadata": {},
   "outputs": [
    {
     "name": "stdout",
     "output_type": "stream",
     "text": [
      "> <ipython-input-2-19bdbc5020a5>(7)flawed_function()\n",
      "-> return x / y\n",
      "(Pdb) x\n",
      "1\n",
      "(Pdb) y\n",
      "0\n",
      "(Pdb) n\n",
      "ZeroDivisionError: division by zero\n",
      "> <ipython-input-2-19bdbc5020a5>(7)flawed_function()\n",
      "-> return x / y\n",
      "(Pdb) y = 1\n",
      "(Pdb) n\n",
      "--Return--\n",
      "> <ipython-input-2-19bdbc5020a5>(7)flawed_function()->None\n",
      "-> return x / y\n",
      "(Pdb) q\n"
     ]
    },
    {
     "ename": "BdbQuit",
     "evalue": "",
     "output_type": "error",
     "traceback": [
      "\u001b[1;31m---------------------------------------------------------------------------\u001b[0m",
      "\u001b[1;31mBdbQuit\u001b[0m                                   Traceback (most recent call last)",
      "\u001b[1;32m<ipython-input-2-19bdbc5020a5>\u001b[0m in \u001b[0;36m<module>\u001b[1;34m()\u001b[0m\n\u001b[0;32m      7\u001b[0m     \u001b[1;32mreturn\u001b[0m \u001b[0mx\u001b[0m \u001b[1;33m/\u001b[0m \u001b[0my\u001b[0m\u001b[1;33m\u001b[0m\u001b[0m\n\u001b[0;32m      8\u001b[0m \u001b[1;33m\u001b[0m\u001b[0m\n\u001b[1;32m----> 9\u001b[1;33m \u001b[0mflawed_function\u001b[0m\u001b[1;33m(\u001b[0m\u001b[1;33m)\u001b[0m\u001b[1;33m\u001b[0m\u001b[0m\n\u001b[0m",
      "\u001b[1;32m<ipython-input-2-19bdbc5020a5>\u001b[0m in \u001b[0;36mflawed_function\u001b[1;34m()\u001b[0m\n\u001b[0;32m      5\u001b[0m     \u001b[0my\u001b[0m \u001b[1;33m=\u001b[0m \u001b[1;36m0\u001b[0m\u001b[1;33m\u001b[0m\u001b[0m\n\u001b[0;32m      6\u001b[0m     \u001b[0mpdb\u001b[0m\u001b[1;33m.\u001b[0m\u001b[0mset_trace\u001b[0m\u001b[1;33m(\u001b[0m\u001b[1;33m)\u001b[0m\u001b[1;33m\u001b[0m\u001b[0m\n\u001b[1;32m----> 7\u001b[1;33m     \u001b[1;32mreturn\u001b[0m \u001b[0mx\u001b[0m \u001b[1;33m/\u001b[0m \u001b[0my\u001b[0m\u001b[1;33m\u001b[0m\u001b[0m\n\u001b[0m\u001b[0;32m      8\u001b[0m \u001b[1;33m\u001b[0m\u001b[0m\n\u001b[0;32m      9\u001b[0m \u001b[0mflawed_function\u001b[0m\u001b[1;33m(\u001b[0m\u001b[1;33m)\u001b[0m\u001b[1;33m\u001b[0m\u001b[0m\n",
      "\u001b[1;32mC:\\ProgramData\\Anaconda3\\lib\\bdb.py\u001b[0m in \u001b[0;36mtrace_dispatch\u001b[1;34m(self, frame, event, arg)\u001b[0m\n\u001b[0;32m     50\u001b[0m             \u001b[1;32mreturn\u001b[0m \u001b[0mself\u001b[0m\u001b[1;33m.\u001b[0m\u001b[0mdispatch_call\u001b[0m\u001b[1;33m(\u001b[0m\u001b[0mframe\u001b[0m\u001b[1;33m,\u001b[0m \u001b[0marg\u001b[0m\u001b[1;33m)\u001b[0m\u001b[1;33m\u001b[0m\u001b[0m\n\u001b[0;32m     51\u001b[0m         \u001b[1;32mif\u001b[0m \u001b[0mevent\u001b[0m \u001b[1;33m==\u001b[0m \u001b[1;34m'return'\u001b[0m\u001b[1;33m:\u001b[0m\u001b[1;33m\u001b[0m\u001b[0m\n\u001b[1;32m---> 52\u001b[1;33m             \u001b[1;32mreturn\u001b[0m \u001b[0mself\u001b[0m\u001b[1;33m.\u001b[0m\u001b[0mdispatch_return\u001b[0m\u001b[1;33m(\u001b[0m\u001b[0mframe\u001b[0m\u001b[1;33m,\u001b[0m \u001b[0marg\u001b[0m\u001b[1;33m)\u001b[0m\u001b[1;33m\u001b[0m\u001b[0m\n\u001b[0m\u001b[0;32m     53\u001b[0m         \u001b[1;32mif\u001b[0m \u001b[0mevent\u001b[0m \u001b[1;33m==\u001b[0m \u001b[1;34m'exception'\u001b[0m\u001b[1;33m:\u001b[0m\u001b[1;33m\u001b[0m\u001b[0m\n\u001b[0;32m     54\u001b[0m             \u001b[1;32mreturn\u001b[0m \u001b[0mself\u001b[0m\u001b[1;33m.\u001b[0m\u001b[0mdispatch_exception\u001b[0m\u001b[1;33m(\u001b[0m\u001b[0mframe\u001b[0m\u001b[1;33m,\u001b[0m \u001b[0marg\u001b[0m\u001b[1;33m)\u001b[0m\u001b[1;33m\u001b[0m\u001b[0m\n",
      "\u001b[1;32mC:\\ProgramData\\Anaconda3\\lib\\bdb.py\u001b[0m in \u001b[0;36mdispatch_return\u001b[1;34m(self, frame, arg)\u001b[0m\n\u001b[0;32m     94\u001b[0m             \u001b[1;32mfinally\u001b[0m\u001b[1;33m:\u001b[0m\u001b[1;33m\u001b[0m\u001b[0m\n\u001b[0;32m     95\u001b[0m                 \u001b[0mself\u001b[0m\u001b[1;33m.\u001b[0m\u001b[0mframe_returning\u001b[0m \u001b[1;33m=\u001b[0m \u001b[1;32mNone\u001b[0m\u001b[1;33m\u001b[0m\u001b[0m\n\u001b[1;32m---> 96\u001b[1;33m             \u001b[1;32mif\u001b[0m \u001b[0mself\u001b[0m\u001b[1;33m.\u001b[0m\u001b[0mquitting\u001b[0m\u001b[1;33m:\u001b[0m \u001b[1;32mraise\u001b[0m \u001b[0mBdbQuit\u001b[0m\u001b[1;33m\u001b[0m\u001b[0m\n\u001b[0m\u001b[0;32m     97\u001b[0m             \u001b[1;31m# The user issued a 'next' or 'until' command.\u001b[0m\u001b[1;33m\u001b[0m\u001b[1;33m\u001b[0m\u001b[0m\n\u001b[0;32m     98\u001b[0m             \u001b[1;32mif\u001b[0m \u001b[0mself\u001b[0m\u001b[1;33m.\u001b[0m\u001b[0mstopframe\u001b[0m \u001b[1;32mis\u001b[0m \u001b[0mframe\u001b[0m \u001b[1;32mand\u001b[0m \u001b[0mself\u001b[0m\u001b[1;33m.\u001b[0m\u001b[0mstoplineno\u001b[0m \u001b[1;33m!=\u001b[0m \u001b[1;33m-\u001b[0m\u001b[1;36m1\u001b[0m\u001b[1;33m:\u001b[0m\u001b[1;33m\u001b[0m\u001b[0m\n",
      "\u001b[1;31mBdbQuit\u001b[0m: "
     ]
    }
   ],
   "source": [
    "import pdb\n",
    "\n",
    "def flawed_function():\n",
    "    x = 1\n",
    "    y = 0\n",
    "    pdb.set_trace()\n",
    "    return x / y\n",
    "\n",
    "flawed_function()"
   ]
  },
  {
   "cell_type": "code",
   "execution_count": null,
   "metadata": {},
   "outputs": [],
   "source": []
  },
  {
   "cell_type": "markdown",
   "metadata": {},
   "source": [
    "#### `inspect/dir`\n",
    "Another equally handy tool is the `inspect` library. Specifically, `getsource()` extracts the source code for modules, classes, functions, and methods----the main exceptions are built-ins and Cython code."
   ]
  },
  {
   "cell_type": "code",
   "execution_count": 3,
   "metadata": {
    "scrolled": true
   },
   "outputs": [
    {
     "name": "stdout",
     "output_type": "stream",
     "text": [
      "def flawed_function():\n",
      "    x = 1\n",
      "    y = 0\n",
      "    pdb.set_trace()\n",
      "    return x / y\n",
      "\n"
     ]
    }
   ],
   "source": [
    "import inspect\n",
    "\n",
    "print(inspect.getsource(flawed_function)) # get the source code--you can do this inside the debugger"
   ]
  },
  {
   "cell_type": "code",
   "execution_count": 4,
   "metadata": {},
   "outputs": [
    {
     "name": "stdout",
     "output_type": "stream",
     "text": [
      "    @Substitution('')\n",
      "    @Appender(_merge_doc, indents=2)\n",
      "    def merge(self, right, how='inner', on=None, left_on=None, right_on=None,\n",
      "              left_index=False, right_index=False, sort=False,\n",
      "              suffixes=('_x', '_y'), copy=True, indicator=False,\n",
      "              validate=None):\n",
      "        from pandas.core.reshape.merge import merge\n",
      "        return merge(self, right, how=how, on=on, left_on=left_on,\n",
      "                     right_on=right_on, left_index=left_index,\n",
      "                     right_index=right_index, sort=sort, suffixes=suffixes,\n",
      "                     copy=copy, indicator=indicator, validate=validate)\n",
      "\n"
     ]
    }
   ],
   "source": [
    "import pandas as pd\n",
    "\n",
    "print(inspect.getsource(pd.DataFrame.merge))"
   ]
  },
  {
   "cell_type": "markdown",
   "metadata": {},
   "source": [
    "`dir()` is a builtin-in function (not a module) that allows you the inspect the modules, classes, and objects. I use it primarily to see what attributes/methods an object has. Once I know what attributes it has, then I can go inspect and see what values the attributes contain."
   ]
  },
  {
   "cell_type": "code",
   "execution_count": 16,
   "metadata": {},
   "outputs": [
    {
     "data": {
      "text/plain": [
       "['__bool__',\n",
       " '__class__',\n",
       " '__contains__',\n",
       " '__delattr__',\n",
       " '__dir__',\n",
       " '__doc__',\n",
       " '__eq__',\n",
       " '__format__',\n",
       " '__ge__',\n",
       " '__getattribute__',\n",
       " '__getitem__',\n",
       " '__gt__',\n",
       " '__hash__',\n",
       " '__init__',\n",
       " '__init_subclass__',\n",
       " '__iter__',\n",
       " '__le__',\n",
       " '__len__',\n",
       " '__lt__',\n",
       " '__ne__',\n",
       " '__new__',\n",
       " '__reduce__',\n",
       " '__reduce_ex__',\n",
       " '__repr__',\n",
       " '__reversed__',\n",
       " '__setattr__',\n",
       " '__sizeof__',\n",
       " '__str__',\n",
       " '__subclasshook__',\n",
       " 'count',\n",
       " 'index',\n",
       " 'start',\n",
       " 'step',\n",
       " 'stop']"
      ]
     },
     "execution_count": 16,
     "metadata": {},
     "output_type": "execute_result"
    }
   ],
   "source": [
    "x = range(10)\n",
    "dir(x)"
   ]
  },
  {
   "cell_type": "code",
   "execution_count": null,
   "metadata": {},
   "outputs": [],
   "source": []
  },
  {
   "cell_type": "markdown",
   "metadata": {},
   "source": [
    "#### `os`:\n",
    "Instead  of directory_name + \"/\" + filename, use this instead since it doesn't require adding '/' to directory_name and is safer between operation systems and also won't add an unnecessary \"/\"."
   ]
  },
  {
   "cell_type": "code",
   "execution_count": 5,
   "metadata": {},
   "outputs": [
    {
     "name": "stdout",
     "output_type": "stream",
     "text": [
      "directory_name\\file_name\n",
      "directory_name/file_name\n"
     ]
    }
   ],
   "source": [
    "import os\n",
    "\n",
    "print(os.path.join('directory_name', 'file_name')) # sorry, wrote this on a Windows, so the printout looks funny\n",
    "print(os.path.join('directory_name/', 'file_name'))"
   ]
  },
  {
   "cell_type": "code",
   "execution_count": null,
   "metadata": {
    "collapsed": true
   },
   "outputs": [],
   "source": []
  },
  {
   "cell_type": "markdown",
   "metadata": {},
   "source": [
    "## Extra Materials\n",
    "* https://www.curiousefficiency.org/posts/2015/10/languages-to-improve-your-python.html: This article was inspired me to make this series of notebooks. The author is Nick Coghlan, who is a core Python dev, showed me the universe of possibilities using Python.  \n",
    "* Advanced Python (https://www.youtube.com/watch?v=uOzdG3lwcB4): Thomas Wouters, a core Python dev, gave a great talk on Python that focused more on the Python syntax and tricks. It is amazing how timeless his lessons are as he gave this talk in 2007 before Python 3 existed. He was working with Python 2.5 at the time. I learned quite a lot from his talks, as he tells you how Python _really_ works with the magic methods.  \n",
    "\n",
    "## Concluding Remarks\n",
    "Since software is nothing but knowledge representation, the answer to the question: \"What is the best way to represent my problem?\" is choosing a specific programming paradigm. Python is not strictly OOP like Java nor is it pure functional like Haskell. You choose the parts you like and put it together. Python takes a multi-paradigm approach and it is constantly evolving. Your style should evolve too to fit the problem you are trying to solve. And also don't take paradigms _too_ seriously. The reason is that you can combine stylistic elements to formulate a more comprehensive solution. For example, there's a phrase called \"thesis, antithesis, synthesis\". You have an idea, somebody has an opposite idea, then you try to think of a path that reconciles the two. For example, OOP is not the opposite of functional; for example, Spark uses both elements of OOP and functional. Don't let the paradigm be the bounding box of your imagination.  \n",
    "\n",
    "Also, I recommend you take notes when you learn Python. Once upon a time, I was a R programmer, and I was pretty good at it; I made a 2-player snake game that plays itself. A student smarter told me to learn Python, but at the time I had no motivation to do so. However, once I jumped on the Python bandwagon (ie was forced to learn it), then it opened my eyes to a whole universe of possibilities. As a student of Python, I recommend that you keep taking notes of Python, so you can look back at it for useful tips but also see your improvement as your notes will become more advanced over time.  "
   ]
  },
  {
   "cell_type": "code",
   "execution_count": null,
   "metadata": {},
   "outputs": [],
   "source": []
  }
 ],
 "metadata": {
  "kernelspec": {
   "display_name": "Python 3",
   "language": "python",
   "name": "python3"
  },
  "language_info": {
   "codemirror_mode": {
    "name": "ipython",
    "version": 3
   },
   "file_extension": ".py",
   "mimetype": "text/x-python",
   "name": "python",
   "nbconvert_exporter": "python",
   "pygments_lexer": "ipython3",
   "version": "3.6.4"
  }
 },
 "nbformat": 4,
 "nbformat_minor": 2
}
