{
 "cells": [
  {
   "cell_type": "markdown",
   "metadata": {},
   "source": [
    "# Procedural Programming (Really Control Flow)\n",
    "#### Boring, Academic Definition (Nobody Cares Except Professors and Pedantic, Technical Interviewers...):\n",
    "Procedural Programming can be defined as a programming model which is derived from structured programming, based upon the concept of calling procedure. __Procedures__, also known as routines, subroutines or __functions__, simply consist of a series of computational steps to be carried out.\n",
    "#### Reality:\n",
    "Simple, fairly boring code that just works well: tell the computer what to do step by step with control flow (`if/else/continue/break/return`) and loops/iteration (and sometimes recursion). This notebook will focus on mastering __control flow__ inside and outside a function."
   ]
  },
  {
   "cell_type": "code",
   "execution_count": null,
   "metadata": {},
   "outputs": [],
   "source": []
  },
  {
   "cell_type": "markdown",
   "metadata": {},
   "source": [
    "## I want to EXPRESS my STATEMENTS clearly\n",
    "Know the difference between an expression and statement.\n",
    "* expression: evaluates to something/returns a value (and thus can be assigned to a variable): `1 + 1`, `range(10)`, `\".join([\"Python\", \"is\", \"the\", \"best\"])`, calling a function \n",
    "* statements: do something but not always assignable: `if`, `try/except`, `def func`, `pass`, `break`, `continue`, `return`\n",
    "* Technically, speaking all expressions are statements. Here's a trick: if something can be assignable, then it is an expression and thus a statement. If something cannot be assignable, then it is a statement."
   ]
  },
  {
   "cell_type": "code",
   "execution_count": 1,
   "metadata": {},
   "outputs": [
    {
     "name": "stdout",
     "output_type": "stream",
     "text": [
      "3\n"
     ]
    }
   ],
   "source": [
    "# Expressions can take parenthesis\n",
    "print(\n",
    "    1 \n",
    "    + \n",
    "    2)"
   ]
  },
  {
   "cell_type": "code",
   "execution_count": 2,
   "metadata": {},
   "outputs": [
    {
     "name": "stdout",
     "output_type": "stream",
     "text": [
      "Hi\n",
      "None Thanks\n",
      "None Bye\n"
     ]
    }
   ],
   "source": [
    "# In Python 3, print() is a function. In Python 2, print is a statement.\n",
    "print(print(print(\"Hi\"), \"Thanks\"), \"Bye\") # this line could not run in Python 2"
   ]
  },
  {
   "cell_type": "code",
   "execution_count": 3,
   "metadata": {},
   "outputs": [],
   "source": [
    "# statements do not need parenthesis \n",
    "def func():\n",
    "    return 1 # return is a statement, not a function. Don't put return(1)"
   ]
  },
  {
   "cell_type": "code",
   "execution_count": 4,
   "metadata": {},
   "outputs": [
    {
     "ename": "AssertionError",
     "evalue": "This is False",
     "output_type": "error",
     "traceback": [
      "\u001b[1;31m---------------------------------------------------------------------------\u001b[0m",
      "\u001b[1;31mAssertionError\u001b[0m                            Traceback (most recent call last)",
      "\u001b[1;32m<ipython-input-4-a678ac3d3f12>\u001b[0m in \u001b[0;36m<module>\u001b[1;34m()\u001b[0m\n\u001b[1;32m----> 1\u001b[1;33m \u001b[1;32massert\u001b[0m \u001b[1;32mFalse\u001b[0m\u001b[1;33m,\u001b[0m \u001b[1;34m\"This is False\"\u001b[0m \u001b[1;31m# assert is statement\u001b[0m\u001b[1;33m\u001b[0m\u001b[0m\n\u001b[0m",
      "\u001b[1;31mAssertionError\u001b[0m: This is False"
     ]
    }
   ],
   "source": [
    "assert False, \"This is False\" # assert is statement"
   ]
  },
  {
   "cell_type": "code",
   "execution_count": 5,
   "metadata": {},
   "outputs": [
    {
     "name": "stderr",
     "output_type": "stream",
     "text": [
      "<ipython-input-5-8b9dfaea0ff0>:1: SyntaxWarning: assertion is always true, perhaps remove parentheses?\n",
      "  assert(False, \"This is False\") # what happened?\n"
     ]
    }
   ],
   "source": [
    "assert(False, \"This is False\") # what happened?"
   ]
  },
  {
   "cell_type": "code",
   "execution_count": null,
   "metadata": {},
   "outputs": [],
   "source": []
  },
  {
   "cell_type": "markdown",
   "metadata": {},
   "source": [
    "## In CASE You Need Help, just SWITCH things Up\n",
    "\n",
    "Once in awhile, you need to make a decision and it look likes this with a long body of `if/elif/else`:\n",
    "```python\n",
    "# Python\n",
    "month = 5\n",
    "if month == 1:\n",
    "    return \"January\"\n",
    "elif month == 2:\n",
    "    return \"February\"\n",
    "...\n",
    "else:\n",
    "    return \"I have no idea!\"\n",
    "```\n",
    "You might also think of it as the `CASE` statement in SQL:\n",
    "\n",
    "``` mysql\n",
    "# SQL\n",
    "CASE\n",
    "    WHEN condition1 THEN result1\n",
    "    WHEN condition2 THEN result2\n",
    "    WHEN conditionN THEN resultN\n",
    "    ELSE result\n",
    "END;\n",
    "```\n",
    "\n",
    "If you suffered in with C in ~~skewl~~ school, then it would be the `switch` statement:\n",
    "\n",
    "``` C\n",
    "switch (x) \n",
    "{ \n",
    "   case 1: printf(\"Choice is 1\"); \n",
    "           break; \n",
    "   case 2: printf(\"Choice is 2\"); \n",
    "            break; \n",
    "   case 3: printf(\"Choice is 3\"); \n",
    "           break; \n",
    "   default: printf(\"Choice other than 1, 2 and 3\"); \n",
    "            break;   \n",
    "} \n",
    "```\n",
    "\n",
    "Why suffer when you can do idiomatic Python? Use a dictionary instead."
   ]
  },
  {
   "cell_type": "code",
   "execution_count": 1,
   "metadata": {},
   "outputs": [
    {
     "name": "stdout",
     "output_type": "stream",
     "text": [
      "March\n",
      "I have no idea!\n"
     ]
    }
   ],
   "source": [
    "def get_month(month, default_option=\"I have no idea!\"):\n",
    "    month_names = {1: \"January\", 2: \"February\", 3: \"March\", }\n",
    "    return month_names.get(month, default_option)\n",
    "\n",
    "print(get_month(3))\n",
    "print(get_month(13))"
   ]
  },
  {
   "cell_type": "code",
   "execution_count": 2,
   "metadata": {},
   "outputs": [
    {
     "name": "stdout",
     "output_type": "stream",
     "text": [
      "On the coolest day of Christmas, my true love sent to me:\n",
      "5 golden rings\n",
      "4 calling birds\n",
      "3 french hens\n",
      "2 turtle doves\n",
      "1 partridge in a pear tree\n"
     ]
    }
   ],
   "source": [
    "gifts = {5: \"golden rings\", 4: \"calling birds\", 3: \"french hens\", 2: \"turtle doves\", 1: \"partridge in a pear tree\"}\n",
    "\n",
    "print(\"On the coolest day of Christmas, my true love sent to me:\")\n",
    "for day_of_Christmas in range(5, 0, -1):\n",
    "    print(day_of_Christmas, gifts[day_of_Christmas])"
   ]
  },
  {
   "cell_type": "code",
   "execution_count": null,
   "metadata": {},
   "outputs": [],
   "source": []
  },
  {
   "cell_type": "markdown",
   "metadata": {},
   "source": [
    "## Do you want to take a `break` or `continue`?\n",
    "What is the difference between break or continue? That both exist inside loops (`for` and `while`).  \n",
    "`break`: when you want to stop the loop immediately.  \n",
    "`continue`: skip the rest of the body of the loop and go immediately back to the top of the loop with the next iteration.  "
   ]
  },
  {
   "cell_type": "code",
   "execution_count": 1,
   "metadata": {},
   "outputs": [
    {
     "data": {
      "text/plain": [
       "[0, 1, 2]"
      ]
     },
     "execution_count": 1,
     "metadata": {},
     "output_type": "execute_result"
    }
   ],
   "source": [
    "accumulator = []\n",
    "for i in range(5):\n",
    "    if i == 3:\n",
    "        break # immediately \"break\" out of the loop\n",
    "    accumulator.append(i)\n",
    "accumulator"
   ]
  },
  {
   "cell_type": "code",
   "execution_count": 2,
   "metadata": {},
   "outputs": [
    {
     "data": {
      "text/plain": [
       "[0, 1, 2, 4]"
      ]
     },
     "execution_count": 2,
     "metadata": {},
     "output_type": "execute_result"
    }
   ],
   "source": [
    "accumulator = []\n",
    "for i in range(5):\n",
    "    if i == 3:\n",
    "        continue # go back to the top of the loop, you can think of `continue` as `skip`\n",
    "    accumulator.append(i)\n",
    "accumulator"
   ]
  },
  {
   "cell_type": "code",
   "execution_count": null,
   "metadata": {},
   "outputs": [],
   "source": []
  },
  {
   "cell_type": "markdown",
   "metadata": {},
   "source": [
    "## The power of `else`!\n",
    "What `else` is cool?\n",
    "* `for/else`\n",
    "* `while/else`\n",
    "* `try/except/else/finally`"
   ]
  },
  {
   "cell_type": "markdown",
   "metadata": {},
   "source": [
    "#### `for/else` construct\n",
    "Most people are aware of for loops in Python. Most Python programmers are not aware of for/else. The `else` clause executes only if the loop completes normally; this means that the loop did not encounter a `break` statement. This is useful if you: \n",
    "* want to make sure that the loop completed over all elements (ie no `break` or early `return`) \n",
    "* have a flag variable to determine if a condition is reached ."
   ]
  },
  {
   "cell_type": "code",
   "execution_count": 1,
   "metadata": {},
   "outputs": [],
   "source": [
    "# early break\n",
    "for i in range(10):\n",
    "    if i == 5:\n",
    "        break\n",
    "else:\n",
    "    print(\"ALL ITERATIONS WERE LOOPED\") # not executed"
   ]
  },
  {
   "cell_type": "code",
   "execution_count": 2,
   "metadata": {},
   "outputs": [
    {
     "name": "stdout",
     "output_type": "stream",
     "text": [
      "ALL ITERATIONS WERE LOOPED\n"
     ]
    }
   ],
   "source": [
    "# make sure all elements have been iterated through normally\n",
    "for i in range(10):\n",
    "    pass\n",
    "else:\n",
    "    print(\"ALL ITERATIONS WERE LOOPED\") # `else` is executed"
   ]
  },
  {
   "cell_type": "code",
   "execution_count": 3,
   "metadata": {},
   "outputs": [
    {
     "name": "stdout",
     "output_type": "stream",
     "text": [
      "I am made it this far\n"
     ]
    }
   ],
   "source": [
    "# flag to determine if a condition is reached\n",
    "even_number_flag = False\n",
    "for i in range(1, 10, 2):\n",
    "    if i % 2 == 0:\n",
    "        even_number_flag = True\n",
    "else:\n",
    "    print(\"I am made it this far\")\n",
    "    if even_number_flag:\n",
    "        print(\"EVEN NUMBER SEEN\")\n",
    "        # perhaps do an additional step"
   ]
  },
  {
   "cell_type": "code",
   "execution_count": 4,
   "metadata": {},
   "outputs": [
    {
     "name": "stdout",
     "output_type": "stream",
     "text": [
      "I am made it this far\n",
      "EVEN NUMBER SEEN\n"
     ]
    }
   ],
   "source": [
    "# flag to determine if a condition is reached\n",
    "even_number_flag = False\n",
    "for i in range(10):\n",
    "    if i % 2 == 0:\n",
    "        even_number_flag = True\n",
    "else:\n",
    "    print(\"I am made it this far\")\n",
    "    if even_number_flag:\n",
    "        print(\"EVEN NUMBER SEEN\")\n",
    "        # perhaps do an additional step"
   ]
  },
  {
   "cell_type": "code",
   "execution_count": null,
   "metadata": {},
   "outputs": [],
   "source": []
  },
  {
   "cell_type": "markdown",
   "metadata": {},
   "source": [
    "#### `while/else` construct\n",
    "The equivalent `else` clause is available for `while` loops. The `else` clause is only executed if the while loop finally hits a False condition, not when a `break` statement is encountered."
   ]
  },
  {
   "cell_type": "code",
   "execution_count": 5,
   "metadata": {},
   "outputs": [],
   "source": [
    "# early break\n",
    "i = 0\n",
    "while i < 10:\n",
    "    i += 1\n",
    "    if i == 5:\n",
    "        break\n",
    "else:\n",
    "    print(\"A micro-aggression? I am triggered!\") # thankfully not triggered"
   ]
  },
  {
   "cell_type": "code",
   "execution_count": 6,
   "metadata": {},
   "outputs": [
    {
     "name": "stdout",
     "output_type": "stream",
     "text": [
      "Everything is working normally\n"
     ]
    }
   ],
   "source": [
    "# condition naturally became False\n",
    "i = 0\n",
    "while i < 10:\n",
    "    i += 1\n",
    "else:\n",
    "    print(\"Everything is working normally\") # thankfully not triggered"
   ]
  },
  {
   "cell_type": "code",
   "execution_count": null,
   "metadata": {},
   "outputs": [],
   "source": []
  },
  {
   "cell_type": "markdown",
   "metadata": {},
   "source": [
    "#### try/except/else/finally\n",
    "You might of heard \"Oh noes! Don't use `try/except`. It is slow!\"  \n",
    "\\*In Maury Povich voice after a lie detector test\\*: That was a lie!  \n",
    "`try/except` is super *fast*, as fast as an `if` statement--if (pun intended!) you don't hit an exception. It is only slightly *slower* if an exception is reached."
   ]
  },
  {
   "cell_type": "code",
   "execution_count": 7,
   "metadata": {},
   "outputs": [
    {
     "name": "stdout",
     "output_type": "stream",
     "text": [
      "Wall time: 852 ms\n"
     ]
    }
   ],
   "source": [
    "%%time\n",
    "for i in range(10000000):\n",
    "    if i:\n",
    "        pass"
   ]
  },
  {
   "cell_type": "code",
   "execution_count": 8,
   "metadata": {},
   "outputs": [
    {
     "name": "stdout",
     "output_type": "stream",
     "text": [
      "Wall time: 918 ms\n"
     ]
    }
   ],
   "source": [
    "%%time\n",
    "# no time penalty\n",
    "for i in range(10000000):\n",
    "    try:\n",
    "        i\n",
    "    except:\n",
    "        pass"
   ]
  },
  {
   "cell_type": "code",
   "execution_count": 9,
   "metadata": {},
   "outputs": [
    {
     "name": "stdout",
     "output_type": "stream",
     "text": [
      "Wall time: 2.72 s\n"
     ]
    }
   ],
   "source": [
    "%%time\n",
    "# less than a microsecond runtime penalty per exception raised\n",
    "for i in range(10000000):\n",
    "    try:\n",
    "        raise Exception\n",
    "    except:\n",
    "        pass"
   ]
  },
  {
   "cell_type": "markdown",
   "metadata": {},
   "source": [
    "#### Pokemon Catch 'em All Exception\n",
    "When I was a (wee-little) intern many years ago, my mentor said, do you know about the \"Pokemon catch 'em all\" exception? "
   ]
  },
  {
   "cell_type": "code",
   "execution_count": 10,
   "metadata": {},
   "outputs": [
    {
     "data": {
      "text/plain": [
       "1.5"
      ]
     },
     "execution_count": 10,
     "metadata": {},
     "output_type": "execute_result"
    }
   ],
   "source": [
    "def how_divisive(x, y):\n",
    "    if (not isinstance(x, (int, float))) or (not isinstance(y, (int, float))):\n",
    "        raise TypeError(\"x and y have to be numeric!\")\n",
    "    return x / y\n",
    "\n",
    "how_divisive(3, 2)"
   ]
  },
  {
   "cell_type": "code",
   "execution_count": 11,
   "metadata": {},
   "outputs": [
    {
     "name": "stdout",
     "output_type": "stream",
     "text": [
      "This is to be expected\n"
     ]
    }
   ],
   "source": [
    "try:\n",
    "    how_divisive(3, \"hi\")\n",
    "except TypeError:\n",
    "    print(\"This is to be expected\")"
   ]
  },
  {
   "cell_type": "code",
   "execution_count": 12,
   "metadata": {},
   "outputs": [
    {
     "name": "stdout",
     "output_type": "stream",
     "text": [
      "This is to be expected...or am I being lazy?\n"
     ]
    }
   ],
   "source": [
    "try:\n",
    "    how_divisive(3, 0)\n",
    "except:\n",
    "    print(\"This is to be expected...or am I being lazy?\")"
   ]
  },
  {
   "cell_type": "markdown",
   "metadata": {},
   "source": [
    "#### Complex `try/except` examples\n",
    "* Multiple `Exception` clauses: do a different intervention per exception.\n",
    "* Multiple `Exception`s in 1 clause: do the same intervention for the specified exceptions."
   ]
  },
  {
   "cell_type": "code",
   "execution_count": 13,
   "metadata": {
    "scrolled": true
   },
   "outputs": [
    {
     "name": "stdout",
     "output_type": "stream",
     "text": [
      "Can I have your number?\n"
     ]
    }
   ],
   "source": [
    "try:\n",
    "    1 / 0\n",
    "except ZeroDivisionError:\n",
    "    print(\"Can I have your number?\")\n",
    "except KeyError: # You can have multiple `except` clauses\n",
    "    print(\"You trying to steal my key?\")"
   ]
  },
  {
   "cell_type": "code",
   "execution_count": 14,
   "metadata": {},
   "outputs": [
    {
     "name": "stdout",
     "output_type": "stream",
     "text": [
      "You trying to steal my key?\n"
     ]
    }
   ],
   "source": [
    "try:\n",
    "    {}[\"unknown_key\"]\n",
    "except ZeroDivisionError:\n",
    "    print(\"Can I have your number?\")\n",
    "except KeyError: # You can have multiple `except` clauses\n",
    "    print(\"You trying to steal my key?\")"
   ]
  },
  {
   "cell_type": "code",
   "execution_count": 15,
   "metadata": {},
   "outputs": [
    {
     "name": "stdout",
     "output_type": "stream",
     "text": [
      "You forgot my name? Or did you simply forget where you put it?\n"
     ]
    }
   ],
   "source": [
    "try:\n",
    "    x\n",
    "except (NameError, IndexError): # you can have multple exceptions in 1 clause\n",
    "    print(\"You forgot my name? Or did you simply forget where you put it?\")"
   ]
  },
  {
   "cell_type": "code",
   "execution_count": 16,
   "metadata": {},
   "outputs": [
    {
     "name": "stdout",
     "output_type": "stream",
     "text": [
      "('You are the best',)\n"
     ]
    }
   ],
   "source": [
    "class YouAreExceptional(Exception): # this is how you create a custom exception\n",
    "    pass\n",
    "\n",
    "try:\n",
    "    raise YouAreExceptional(\"You are the best\")\n",
    "except Exception as e: # this is how you capture an exception and save it\n",
    "    print(e.args) # interrogate it for intel!"
   ]
  },
  {
   "cell_type": "markdown",
   "metadata": {},
   "source": [
    "#### What else to throw in? `else` and `finally`\n",
    "`else` clause in try/except is executed only if no `Exception` is triggered.  \n",
    "`finally` clause: always execute no matter what!"
   ]
  },
  {
   "cell_type": "code",
   "execution_count": 17,
   "metadata": {},
   "outputs": [
    {
     "name": "stdout",
     "output_type": "stream",
     "text": [
      "Can I have your number?\n"
     ]
    }
   ],
   "source": [
    "# else: not triggered\n",
    "try:\n",
    "    1 / 0\n",
    "except ZeroDivisionError:\n",
    "    print(\"Can I have your number?\")\n",
    "else:\n",
    "    print(\"Only print if no exception hit\")"
   ]
  },
  {
   "cell_type": "code",
   "execution_count": 18,
   "metadata": {},
   "outputs": [
    {
     "name": "stdout",
     "output_type": "stream",
     "text": [
      "Only print if no exception hit\n"
     ]
    }
   ],
   "source": [
    "# else: triggered\n",
    "try:\n",
    "    0 / 1\n",
    "except ZeroDivisionError:\n",
    "    print(\"Can I have your number?\")\n",
    "else:\n",
    "    print(\"Only print if no exception hit\")"
   ]
  },
  {
   "cell_type": "code",
   "execution_count": 19,
   "metadata": {},
   "outputs": [
    {
     "name": "stdout",
     "output_type": "stream",
     "text": [
      "I will always run!\n"
     ]
    },
    {
     "data": {
      "text/plain": [
       "1"
      ]
     },
     "execution_count": 19,
     "metadata": {},
     "output_type": "execute_result"
    }
   ],
   "source": [
    "# finally we see `finally`!\n",
    "def always_return_1_no_matter_what():\n",
    "    try:\n",
    "        assert False, \"This has been Falsified!\"\n",
    "    finally: # run this no matter what, even if an Exception is triggered\n",
    "        print(\"I will always run!\")\n",
    "        return 1\n",
    "    \n",
    "always_return_1_no_matter_what()"
   ]
  },
  {
   "cell_type": "code",
   "execution_count": 20,
   "metadata": {},
   "outputs": [
    {
     "name": "stdout",
     "output_type": "stream",
     "text": [
      "('This has been Falsified!',)\n",
      "Attempted\n",
      "I will always run!\n"
     ]
    },
    {
     "data": {
      "text/plain": [
       "1"
      ]
     },
     "execution_count": 20,
     "metadata": {},
     "output_type": "execute_result"
    }
   ],
   "source": [
    "def always_return_1_no_matter_what():\n",
    "    try:\n",
    "        assert False, \"This has been Falsified!\"\n",
    "    except AssertionError as e:\n",
    "        print(e.args) # the print runs\n",
    "        return 2, print(\"Attempted\") # the return is attempted but not ultimately returned\n",
    "    finally: # run this no matter what, even if something else is \n",
    "        print(\"I will always run!\") # notice this print comes after the AssertionError's print\n",
    "        return 1\n",
    "\n",
    "    \n",
    "always_return_1_no_matter_what()"
   ]
  },
  {
   "cell_type": "markdown",
   "metadata": {},
   "source": [
    "I recently came across an interesting problem. I was writing a unit test where I anticipated it to throw an user-generated exception (basically raise an exception that I wrote). In fact, if it didn't throw an exception, then things were not working correctly. So the question I had to think about is how to I raise an exception if no anticipated exception is raised?"
   ]
  },
  {
   "cell_type": "code",
   "execution_count": 21,
   "metadata": {},
   "outputs": [
    {
     "ename": "TypeError",
     "evalue": "You snake! Black adders will come bit you!",
     "output_type": "error",
     "traceback": [
      "\u001b[1;31m---------------------------------------------------------------------------\u001b[0m",
      "\u001b[1;31mTypeError\u001b[0m                                 Traceback (most recent call last)",
      "\u001b[1;32m<ipython-input-21-72fc35a04956>\u001b[0m in \u001b[0;36m<module>\u001b[1;34m()\u001b[0m\n\u001b[0;32m      4\u001b[0m     \u001b[1;32mreturn\u001b[0m \u001b[0mx\u001b[0m \u001b[1;33m+\u001b[0m \u001b[0my\u001b[0m\u001b[1;33m\u001b[0m\u001b[0m\n\u001b[0;32m      5\u001b[0m \u001b[1;33m\u001b[0m\u001b[0m\n\u001b[1;32m----> 6\u001b[1;33m \u001b[0madder\u001b[0m\u001b[1;33m(\u001b[0m\u001b[1;36m1\u001b[0m\u001b[1;33m,\u001b[0m \u001b[1;34m\"2\"\u001b[0m\u001b[1;33m)\u001b[0m \u001b[1;31m# except-able behavior ;-)\u001b[0m\u001b[1;33m\u001b[0m\u001b[0m\n\u001b[0m",
      "\u001b[1;32m<ipython-input-21-72fc35a04956>\u001b[0m in \u001b[0;36madder\u001b[1;34m(x, y)\u001b[0m\n\u001b[0;32m      1\u001b[0m \u001b[1;32mdef\u001b[0m \u001b[0madder\u001b[0m\u001b[1;33m(\u001b[0m\u001b[0mx\u001b[0m\u001b[1;33m,\u001b[0m \u001b[0my\u001b[0m\u001b[1;33m)\u001b[0m\u001b[1;33m:\u001b[0m\u001b[1;33m\u001b[0m\u001b[0m\n\u001b[0;32m      2\u001b[0m     \u001b[1;32mif\u001b[0m \u001b[0mtype\u001b[0m\u001b[1;33m(\u001b[0m\u001b[0mx\u001b[0m\u001b[1;33m)\u001b[0m \u001b[1;33m!=\u001b[0m \u001b[0mtype\u001b[0m\u001b[1;33m(\u001b[0m\u001b[0my\u001b[0m\u001b[1;33m)\u001b[0m\u001b[1;33m:\u001b[0m\u001b[1;33m\u001b[0m\u001b[0m\n\u001b[1;32m----> 3\u001b[1;33m         \u001b[1;32mraise\u001b[0m \u001b[0mTypeError\u001b[0m\u001b[1;33m(\u001b[0m\u001b[1;34m\"You snake! Black adders will come bit you!\"\u001b[0m\u001b[1;33m)\u001b[0m\u001b[1;33m\u001b[0m\u001b[0m\n\u001b[0m\u001b[0;32m      4\u001b[0m     \u001b[1;32mreturn\u001b[0m \u001b[0mx\u001b[0m \u001b[1;33m+\u001b[0m \u001b[0my\u001b[0m\u001b[1;33m\u001b[0m\u001b[0m\n\u001b[0;32m      5\u001b[0m \u001b[1;33m\u001b[0m\u001b[0m\n",
      "\u001b[1;31mTypeError\u001b[0m: You snake! Black adders will come bit you!"
     ]
    }
   ],
   "source": [
    "def adder(x, y):\n",
    "    if type(x) != type(y):\n",
    "        raise TypeError(\"You snake! Black adders will come bit you!\")\n",
    "    return x + y\n",
    "\n",
    "adder(1, \"2\") # except-able behavior ;-)"
   ]
  },
  {
   "cell_type": "code",
   "execution_count": 22,
   "metadata": {},
   "outputs": [
    {
     "name": "stdout",
     "output_type": "stream",
     "text": [
      "Whew, it worked!\n"
     ]
    }
   ],
   "source": [
    "try:\n",
    "    adder(1, \"2\")\n",
    "except TypeError: # this is the specific exception I expected, any other exception types will still be raised\n",
    "    print(\"Whew, it worked!\")\n",
    "else:\n",
    "    raise Exception(\"Something went wrong! Something exceptional should have happened\")"
   ]
  },
  {
   "cell_type": "code",
   "execution_count": null,
   "metadata": {},
   "outputs": [],
   "source": []
  },
  {
   "cell_type": "markdown",
   "metadata": {},
   "source": [
    "#### In Totality: `try/except/else/finally` in its fully beauty"
   ]
  },
  {
   "cell_type": "code",
   "execution_count": 23,
   "metadata": {},
   "outputs": [
    {
     "name": "stdout",
     "output_type": "stream",
     "text": [
      "I'm going to trigger an exception\n",
      "Harley Quinn: I just wanna say something...\n"
     ]
    },
    {
     "ename": "Exception",
     "evalue": "Triggered!",
     "output_type": "error",
     "traceback": [
      "\u001b[1;31m---------------------------------------------------------------------------\u001b[0m",
      "\u001b[1;31mException\u001b[0m                                 Traceback (most recent call last)",
      "\u001b[1;32m<ipython-input-23-be16d0e98a11>\u001b[0m in \u001b[0;36m<module>\u001b[1;34m()\u001b[0m\n\u001b[0;32m     11\u001b[0m \u001b[1;32melse\u001b[0m\u001b[1;33m:\u001b[0m\u001b[1;33m\u001b[0m\u001b[0m\n\u001b[0;32m     12\u001b[0m     \u001b[0mprint\u001b[0m\u001b[1;33m(\u001b[0m\u001b[1;34m\"I'm going to trigger an exception\"\u001b[0m\u001b[1;33m)\u001b[0m\u001b[1;33m\u001b[0m\u001b[0m\n\u001b[1;32m---> 13\u001b[1;33m     \u001b[1;32mraise\u001b[0m \u001b[0mException\u001b[0m\u001b[1;33m(\u001b[0m\u001b[1;34m\"Triggered!\"\u001b[0m\u001b[1;33m)\u001b[0m\u001b[1;33m\u001b[0m\u001b[0m\n\u001b[0m\u001b[0;32m     14\u001b[0m \u001b[1;32mfinally\u001b[0m\u001b[1;33m:\u001b[0m\u001b[1;33m\u001b[0m\u001b[0m\n\u001b[0;32m     15\u001b[0m     \u001b[0mprint\u001b[0m\u001b[1;33m(\u001b[0m\u001b[1;34m\"Harley Quinn: I just wanna say something...\"\u001b[0m\u001b[1;33m)\u001b[0m \u001b[1;31m# does print before the `else` clause raises the Exception\u001b[0m\u001b[1;33m\u001b[0m\u001b[0m\n",
      "\u001b[1;31mException\u001b[0m: Triggered!"
     ]
    }
   ],
   "source": [
    "try:\n",
    "    pass\n",
    "except ZeroDivisionError:\n",
    "    print(\"Can I have your number?\")\n",
    "except KeyError: # You can have multiple `except` clauses\n",
    "    print(\"You trying to steal my key?\")\n",
    "except (NameError, IndexError): # you can have multple exceptions in 1 clause\n",
    "    print(\"You forgot my name? Or did you simply forget where you put it?\")\n",
    "except:\n",
    "    print(\"Catch any remaining exception types\")\n",
    "else:\n",
    "    print(\"I'm going to trigger an exception\")\n",
    "    raise Exception(\"Triggered!\")\n",
    "finally:\n",
    "    print(\"Harley Quinn: I just wanna say something...\") # does print before the `else` clause raises the Exception"
   ]
  },
  {
   "cell_type": "code",
   "execution_count": 24,
   "metadata": {},
   "outputs": [
    {
     "name": "stdout",
     "output_type": "stream",
     "text": [
      "I'm going to trigger an exception\n",
      "I'm going to silence any exceptions\n"
     ]
    },
    {
     "data": {
      "text/plain": [
       "1"
      ]
     },
     "execution_count": 24,
     "metadata": {},
     "output_type": "execute_result"
    }
   ],
   "source": [
    "def always_return_1():\n",
    "    try:\n",
    "        pass\n",
    "    except ZeroDivisionError:\n",
    "        print(\"Can I have your number?\")\n",
    "    except KeyError: # You can have multiple `except` clauses\n",
    "        print(\"You trying to steal my key?\")\n",
    "    except (NameError, IndexError): # you can have multple exceptions in 1 clause\n",
    "        print(\"You forgot my name? Or did you simply forget where you put it?\")\n",
    "    except:\n",
    "        print(\"Catch any remaining exception types\")\n",
    "    else:\n",
    "        print(\"I'm going to trigger an exception\")\n",
    "        raise Exception(\"Triggered!\")\n",
    "    finally:\n",
    "        print(\"I'm going to silence any exceptions\") # does print before the `else` clause raises the Exception\n",
    "        return 1\n",
    "    \n",
    "always_return_1()"
   ]
  }
 ],
 "metadata": {
  "kernelspec": {
   "display_name": "Python 3",
   "language": "python",
   "name": "python3"
  },
  "language_info": {
   "codemirror_mode": {
    "name": "ipython",
    "version": 3
   },
   "file_extension": ".py",
   "mimetype": "text/x-python",
   "name": "python",
   "nbconvert_exporter": "python",
   "pygments_lexer": "ipython3",
   "version": "3.6.4"
  }
 },
 "nbformat": 4,
 "nbformat_minor": 2
}
