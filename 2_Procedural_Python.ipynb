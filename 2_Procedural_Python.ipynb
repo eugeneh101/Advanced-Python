{
 "cells": [
  {
   "cell_type": "markdown",
   "metadata": {},
   "source": [
    "# Procedural Programming (Really Control Flow)\n",
    "#### Boring, Academic Definition (Nobody Cares Except Professors and Pedantic, Technical Interviewers...):\n",
    "Procedural Programming can be defined as a programming model (derived from structured programming), which focuses on calling procedures. **Procedures**, also known as routines, subroutines or **functions**, simply consist of a series of computational steps to be carried out.\n",
    "#### Reality:\n",
    "Simple, fairly boring code that just works well: tell the computer what to do step-by-step with control flow using conditions (`if/elif/else`), loops/iteration (`for/while/else`), \"jumping\" (`continue/break/return/pass`), and exception handling (`try/except/else/finally`). This notebook will focus on mastering **control flow** inside and outside a function.  Don't be like Bruce Lee, be an Airbender: don't be like water, bend the (control) flow to your will."
   ]
  },
  {
   "cell_type": "code",
   "execution_count": null,
   "metadata": {},
   "outputs": [],
   "source": []
  },
  {
   "cell_type": "markdown",
   "metadata": {},
   "source": [
    "## I want to EXPRESS my STATEMENTS clearly\n",
    "Know the difference between an expression and statement.\n",
    "* expression: evaluates to something or returns a value (and thus can be assigned to a variable): `1 + 1`, `range(10)`, all function calls: `sum(range(10))`, `\" \".join([\"Python\", \"is\", \"the\", \"best\"])`\n",
    "* statements: do something but not always assignable: `if`, `try/except`, `pass`, `break`, `continue`, `del`, `return`, `def func`, `class SomeClass`\n",
    "* Technically, speaking all expressions are statements. Here's a trick: if something can be assignable, then it is an expression and thus a statement. If something cannot be assignable, then it is a statement."
   ]
  },
  {
   "cell_type": "code",
   "execution_count": 1,
   "metadata": {},
   "outputs": [
    {
     "name": "stdout",
     "output_type": "stream",
     "text": [
      "3\n"
     ]
    }
   ],
   "source": [
    "# Expressions/functions can take parentheses to stretch the body across multiple lines\n",
    "print(\n",
    "    1 \n",
    "    + \n",
    "    2)"
   ]
  },
  {
   "cell_type": "code",
   "execution_count": 2,
   "metadata": {},
   "outputs": [
    {
     "name": "stdout",
     "output_type": "stream",
     "text": [
      "Hi\n",
      "None Thanks\n",
      "None Bye\n"
     ]
    }
   ],
   "source": [
    "# In Python 3, print() is a function. In Python 2, print is a statement.\n",
    "print(print(print(\"Hi\"), \"Thanks\"), \"Bye\") # this line COULD not run in Python 2"
   ]
  },
  {
   "cell_type": "code",
   "execution_count": 3,
   "metadata": {},
   "outputs": [],
   "source": [
    "# statements do not need parentheses \n",
    "def func():\n",
    "    return 1 # return is a statement, not a function. Don't put return(1) <- R people do this"
   ]
  },
  {
   "cell_type": "code",
   "execution_count": 4,
   "metadata": {},
   "outputs": [
    {
     "ename": "AssertionError",
     "evalue": "This is False",
     "output_type": "error",
     "traceback": [
      "\u001b[1;31m---------------------------------------------------------------------------\u001b[0m",
      "\u001b[1;31mAssertionError\u001b[0m                            Traceback (most recent call last)",
      "\u001b[1;32m<ipython-input-4-a678ac3d3f12>\u001b[0m in \u001b[0;36m<module>\u001b[1;34m()\u001b[0m\n\u001b[1;32m----> 1\u001b[1;33m \u001b[1;32massert\u001b[0m \u001b[1;32mFalse\u001b[0m\u001b[1;33m,\u001b[0m \u001b[1;34m\"This is False\"\u001b[0m \u001b[1;31m# assert is statement\u001b[0m\u001b[1;33m\u001b[0m\u001b[0m\n\u001b[0m",
      "\u001b[1;31mAssertionError\u001b[0m: This is False"
     ]
    }
   ],
   "source": [
    "assert False, \"This is False\" # assert is statement"
   ]
  },
  {
   "cell_type": "code",
   "execution_count": 5,
   "metadata": {},
   "outputs": [
    {
     "name": "stderr",
     "output_type": "stream",
     "text": [
      "<ipython-input-5-8b9dfaea0ff0>:1: SyntaxWarning: assertion is always true, perhaps remove parentheses?\n",
      "  assert(False, \"This is False\") # what happened?\n"
     ]
    }
   ],
   "source": [
    "assert(False, \"This is False\") # what happened?"
   ]
  },
  {
   "cell_type": "code",
   "execution_count": null,
   "metadata": {},
   "outputs": [],
   "source": []
  },
  {
   "cell_type": "markdown",
   "metadata": {},
   "source": [
    "## `pass` my turn\n",
    "`pass` is a no-op (which stands for \"no operation\") and is used in two ways:\n",
    "* tell the computer to do nothing\n",
    "* temporary placeholder to fill with actual code later.\n",
    "\n",
    "`pass` is a statement--it cannot be saved. If you like to be *cute/special/different*, you can use ... (which is called Ellipsis) instead of pass--but nobody does this."
   ]
  },
  {
   "cell_type": "code",
   "execution_count": 1,
   "metadata": {},
   "outputs": [],
   "source": [
    "try:\n",
    "    1 / 0\n",
    "except:\n",
    "    pass # keep going no matter way. Don't have a fatal exception"
   ]
  },
  {
   "cell_type": "code",
   "execution_count": 2,
   "metadata": {},
   "outputs": [],
   "source": [
    "def foo():\n",
    "    pass # fill in later"
   ]
  },
  {
   "cell_type": "code",
   "execution_count": 3,
   "metadata": {},
   "outputs": [
    {
     "ename": "SyntaxError",
     "evalue": "invalid syntax (<ipython-input-3-4301f86c824c>, line 1)",
     "output_type": "error",
     "traceback": [
      "\u001b[1;36m  File \u001b[1;32m\"<ipython-input-3-4301f86c824c>\"\u001b[1;36m, line \u001b[1;32m1\u001b[0m\n\u001b[1;33m    x = pass\u001b[0m\n\u001b[1;37m           ^\u001b[0m\n\u001b[1;31mSyntaxError\u001b[0m\u001b[1;31m:\u001b[0m invalid syntax\n"
     ]
    }
   ],
   "source": [
    "x = pass"
   ]
  },
  {
   "cell_type": "code",
   "execution_count": 4,
   "metadata": {},
   "outputs": [],
   "source": [
    "# using Ellipsis instead of pass\n",
    "try:\n",
    "    1 / 0\n",
    "except:\n",
    "    ... # keep going no matter way. Don't have a fatal exception\n",
    "\n",
    "def foo():\n",
    "    ... # fill in later"
   ]
  },
  {
   "cell_type": "code",
   "execution_count": null,
   "metadata": {},
   "outputs": [],
   "source": []
  },
  {
   "cell_type": "markdown",
   "metadata": {},
   "source": [
    "## Do you want to take a `break` or `continue`?\n",
    "What is the difference between break or continue? They both exist inside loops (`for` and `while`).\n",
    "* `break`: when you want to stop the loop immediately.\n",
    "* `continue`: skip the rest of the body of the loop and go immediately back to the top of the loop with the next iteration."
   ]
  },
  {
   "cell_type": "code",
   "execution_count": 1,
   "metadata": {},
   "outputs": [
    {
     "data": {
      "text/plain": [
       "[0, 1, 2]"
      ]
     },
     "execution_count": 1,
     "metadata": {},
     "output_type": "execute_result"
    }
   ],
   "source": [
    "accumulator = []\n",
    "for i in range(5):\n",
    "    if i == 3:\n",
    "        break # immediately \"break\" out of the loop\n",
    "    accumulator.append(i)\n",
    "accumulator"
   ]
  },
  {
   "cell_type": "code",
   "execution_count": 2,
   "metadata": {},
   "outputs": [
    {
     "data": {
      "text/plain": [
       "[0, 1, 2, 4]"
      ]
     },
     "execution_count": 2,
     "metadata": {},
     "output_type": "execute_result"
    }
   ],
   "source": [
    "accumulator = []\n",
    "for i in range(5):\n",
    "    if i == 3:\n",
    "        continue # go back to the top of the loop, you can think of `continue` as `skip`\n",
    "    accumulator.append(i)\n",
    "accumulator"
   ]
  },
  {
   "cell_type": "code",
   "execution_count": null,
   "metadata": {},
   "outputs": [],
   "source": []
  },
  {
   "cell_type": "markdown",
   "metadata": {},
   "source": [
    "## The power of `else`!\n",
    "What `else` is cool?\n",
    "* `if/else`\n",
    "* `for/else`\n",
    "* `while/else`\n",
    "* `try/except/else/finally`\n",
    "\n",
    "#### `if/elif/else` construct\n",
    "This is the most common type of control flow and is used for branching. `if` a certain condition is true, do this. `elif` (which stands for \"else if\") a different condition is true, do that. If none of the previous conditions are true, then do `else`. You may use multiple (0, 1, 2, ..) `elif` clauses but only at most 1 `else` clause.\n",
    "\n",
    "Be careful about using `if/if/if/...` vs `if/elif/elif/...`, especially for non-mutually exclusive conditions. In the 1st case, multiple clauses can be triggered. In the 2nd case, at most 1 of the clauses will be triggered. Also, in the 2nd case, order of the conditions matters since the first condition triggered will have its body executed. `if/else` has EXACTLY 1 condition that will be triggered. This is also true for `if/elif/elif/.../else`.\n",
    "\n",
    "Fizz Buzz test: If the number is multiple of 3, print “Fizz”. If the number is a multiple of 5, print “Buzz”. If the number is both a multiple of 3 and 5, print \"FizzBuzz\". Otherwise, just print the original number."
   ]
  },
  {
   "cell_type": "code",
   "execution_count": 1,
   "metadata": {},
   "outputs": [],
   "source": [
    "def fizzbuzz_wrong1(num): # multiple conditions can be triggered\n",
    "    if num % 3 == 0:\n",
    "        print(\"Fizz\")\n",
    "    if num % 5 == 0:\n",
    "        print(\"Buzz\")\n",
    "    if (num % 3 == 0) and (num % 5 == 0):\n",
    "        print(\"FizzBuzz\")\n",
    "    else:\n",
    "        print(num)\n",
    "\n",
    "def fizzbuzz_wrong2(num): # EXACTLY 1 condition can be triggered\n",
    "    if num % 3 == 0:\n",
    "        print(\"Fizz\")\n",
    "    elif num % 5 == 0:\n",
    "        print(\"Buzz\")\n",
    "    elif (num % 3 == 0) and (num % 5 == 0):\n",
    "        print(\"FizzBuzz\")\n",
    "    else:\n",
    "        print(num)\n",
    "\n",
    "def fizzbuzz_correct(num): # EXACTLY 1 condition can be triggered\n",
    "    if (num % 3 == 0) and (num % 5 == 0):\n",
    "        print(\"FizzBuzz\")\n",
    "    elif num % 3 == 0:\n",
    "        print(\"Fizz\")\n",
    "    elif num % 5 == 0:\n",
    "        print(\"Buzz\")\n",
    "    else:\n",
    "        print(num)"
   ]
  },
  {
   "cell_type": "code",
   "execution_count": 2,
   "metadata": {},
   "outputs": [
    {
     "name": "stdout",
     "output_type": "stream",
     "text": [
      "2\n",
      "2\n",
      "2\n"
     ]
    }
   ],
   "source": [
    "# so far, all look okay\n",
    "fizzbuzz_wrong1(2)\n",
    "fizzbuzz_wrong2(2)\n",
    "fizzbuzz_correct(2)"
   ]
  },
  {
   "cell_type": "code",
   "execution_count": 3,
   "metadata": {},
   "outputs": [
    {
     "name": "stdout",
     "output_type": "stream",
     "text": [
      "Fizz\n",
      "3\n"
     ]
    }
   ],
   "source": [
    "fizzbuzz_wrong1(3) # definitely wrong"
   ]
  },
  {
   "cell_type": "code",
   "execution_count": 4,
   "metadata": {},
   "outputs": [
    {
     "name": "stdout",
     "output_type": "stream",
     "text": [
      "Fizz\n"
     ]
    }
   ],
   "source": [
    "fizzbuzz_wrong2(3) # still looks okay"
   ]
  },
  {
   "cell_type": "code",
   "execution_count": 5,
   "metadata": {},
   "outputs": [
    {
     "name": "stdout",
     "output_type": "stream",
     "text": [
      "Fizz\n"
     ]
    }
   ],
   "source": [
    "fizzbuzz_correct(3) # still looks okay"
   ]
  },
  {
   "cell_type": "code",
   "execution_count": 6,
   "metadata": {},
   "outputs": [
    {
     "name": "stdout",
     "output_type": "stream",
     "text": [
      "Fizz\n",
      "Buzz\n",
      "FizzBuzz\n"
     ]
    }
   ],
   "source": [
    "fizzbuzz_wrong1(15) # faulty implementation: should have printed only \"FizzBuzz\""
   ]
  },
  {
   "cell_type": "code",
   "execution_count": 7,
   "metadata": {},
   "outputs": [
    {
     "name": "stdout",
     "output_type": "stream",
     "text": [
      "Fizz\n"
     ]
    }
   ],
   "source": [
    "fizzbuzz_wrong2(15) # faulty implementation: should have printed \"FizzBuzz\""
   ]
  },
  {
   "cell_type": "code",
   "execution_count": 8,
   "metadata": {},
   "outputs": [
    {
     "name": "stdout",
     "output_type": "stream",
     "text": [
      "FizzBuzz\n"
     ]
    }
   ],
   "source": [
    "fizzbuzz_correct(15) # correct implementation and order matters in if/elif"
   ]
  },
  {
   "cell_type": "markdown",
   "metadata": {},
   "source": [
    "#### `for/else` construct\n",
    "Most people are aware of `for` loops in Python. Most Python programmers are not aware of `for/else`. The `else` clause executes only if the loop completes normally; this means that the loop did not encounter a `break` statement. `for/else` is useful when you want to determine whether a loop had:\n",
    "* an \"early\" exit due to `break`/`return` (because a certain condition was reached)\n",
    "* or a \"natural\" exit due to all elements have been looped through.\n",
    "\n",
    "Instead of using `for/else`, you can use a flag-based approach instead.  \n",
    "Fun fact: Raymond Hettinger (a core Python developer) said in hindsight, this use case of `else` should have been called `nobreak` instead."
   ]
  },
  {
   "cell_type": "code",
   "execution_count": 1,
   "metadata": {},
   "outputs": [],
   "source": [
    "# early break\n",
    "for i in range(10):\n",
    "    if i == 5:\n",
    "        break\n",
    "else: # basically nobreak\n",
    "    print(\"ALL ITERATIONS WERE LOOPED\") # not executed"
   ]
  },
  {
   "cell_type": "code",
   "execution_count": 2,
   "metadata": {},
   "outputs": [
    {
     "name": "stdout",
     "output_type": "stream",
     "text": [
      "ALL ITERATIONS WERE LOOPED\n"
     ]
    }
   ],
   "source": [
    "# make sure all elements have been iterated through normally\n",
    "for i in range(10):\n",
    "    pass\n",
    "else:\n",
    "    print(\"ALL ITERATIONS WERE LOOPED\") # `else` is executed"
   ]
  },
  {
   "cell_type": "code",
   "execution_count": 3,
   "metadata": {},
   "outputs": [
    {
     "name": "stdout",
     "output_type": "stream",
     "text": [
      "NO EVEN NUMBER SEEN\n"
     ]
    }
   ],
   "source": [
    "# instead of a for/else, the alternative is flag-based approach to determine if a condition is reached\n",
    "even_number_seen_flag = None # this flag is set when a condition is reached\n",
    "for i in range(1, 10, 2):\n",
    "    if i % 2 == 0:\n",
    "        even_number_seen_flag = True\n",
    "        break\n",
    "if not even_number_seen_flag: # flag is set, so execute body\n",
    "    print(\"NO EVEN NUMBER SEEN\")\n",
    "    # perhaps do an additional step"
   ]
  },
  {
   "cell_type": "code",
   "execution_count": 4,
   "metadata": {},
   "outputs": [
    {
     "name": "stdout",
     "output_type": "stream",
     "text": [
      "NO EVEN NUMBER SEEN\n"
     ]
    }
   ],
   "source": [
    "# using for/else instead of flag-based approach\n",
    "for i in range(1, 10, 2):\n",
    "    if i % 2 == 0:\n",
    "        break\n",
    "else:\n",
    "    print(\"NO EVEN NUMBER SEEN\")\n",
    "    # perhaps do an additional step"
   ]
  },
  {
   "cell_type": "code",
   "execution_count": 5,
   "metadata": {},
   "outputs": [],
   "source": [
    "# instead of a for/else, the alternative is flag-based approach to determine if a condition is reached\n",
    "even_number_seen_flag = None # this flag is set when a condition is reached\n",
    "for i in range(1, 10):\n",
    "    if i % 2 == 0:\n",
    "        even_number_seen_flag = True\n",
    "        break\n",
    "if not even_number_seen_flag: # flag not set, so do not execute body\n",
    "    print(\"NO EVEN NUMBER SEEN\")\n",
    "    # perhaps do an additional step"
   ]
  },
  {
   "cell_type": "code",
   "execution_count": 6,
   "metadata": {},
   "outputs": [],
   "source": [
    "# using for/else instead of flag-based approach\n",
    "for i in range(1, 10):\n",
    "    if i % 2 == 0:\n",
    "        break\n",
    "else:\n",
    "    print(\"NO EVEN NUMBER SEEN\")\n",
    "    # perhaps do an additional step"
   ]
  },
  {
   "cell_type": "markdown",
   "metadata": {},
   "source": [
    "Basically using `else` in a `for` loop saves you 2 lines (defining a flag variable and setting a flag variable once the condition is reached) and replaces 1 line (checking the status of the flag variable after the loop).\n",
    "\n",
    "#### `while/else` construct\n",
    "The equivalent `else` clause is available for `while` loops. The `else` clause is only executed if the `while` loop finally hits a False condition, not when a `break` statement is encountered. Basically the same usage case as `for/else`--`while/else` allows you to determine how a loop exited: either early `break` or natural end of while loop.  \n",
    "Fun fact: Raymond Hettinger's suggestion for `nobreak` would also apply to the `else` in `while/else`."
   ]
  },
  {
   "cell_type": "code",
   "execution_count": 1,
   "metadata": {},
   "outputs": [],
   "source": [
    "# early break\n",
    "i = 0\n",
    "while i < 10:\n",
    "    i += 1\n",
    "    if i == 5:\n",
    "        break\n",
    "else: # basically nobreak\n",
    "    print(\"A micro-aggression? I am triggered!\") # thankfully not triggered"
   ]
  },
  {
   "cell_type": "code",
   "execution_count": 2,
   "metadata": {},
   "outputs": [
    {
     "name": "stdout",
     "output_type": "stream",
     "text": [
      "Everything is working normally\n"
     ]
    }
   ],
   "source": [
    "# condition naturally became False\n",
    "i = 0\n",
    "while i < 10:\n",
    "    i += 1\n",
    "else:\n",
    "    print(\"Everything is working normally\") # thankfully not triggered"
   ]
  },
  {
   "cell_type": "code",
   "execution_count": 3,
   "metadata": {},
   "outputs": [],
   "source": [
    "# flag based approach\n",
    "early_break = None\n",
    "i = 0\n",
    "while i < 10:\n",
    "    i += 1\n",
    "    if i == 5:\n",
    "        early_break = True\n",
    "        break\n",
    "if not early_break:\n",
    "    print(\"I did not break out early\")"
   ]
  },
  {
   "cell_type": "code",
   "execution_count": 4,
   "metadata": {},
   "outputs": [],
   "source": [
    "# flag based approach\n",
    "i = 0\n",
    "while i < 10:\n",
    "    i += 1\n",
    "    if i == 5:\n",
    "        break\n",
    "else:\n",
    "    print(\"I did not break out early\")"
   ]
  },
  {
   "cell_type": "markdown",
   "metadata": {},
   "source": [
    "Small detour: Many procedural languages (that uses braces to denote the loop body) have a `do while` construct. Python does not have a `do while` loop since the creators of Python use indentation instead of braces and thus could not formulate the syntax for a `do while` loop.  \n",
    "Fear not! You can effectively create the same construct as a `do while` loop by using an infinite loop (`while True`) and checking the *negation* of the loop condition at the bottom of the loop body to break out of the infinite loop.\n",
    "\n",
    "```C\n",
    "do { // do while in C\n",
    "    do_work();  \n",
    "} while (condition);\n",
    "```\n",
    "\n",
    "Effective replacement in Python\n",
    "```python\n",
    "while True:\n",
    "    do_work()    \n",
    "    if not condition: # notice that you have to check the opposite of the intended condition\n",
    "        break\n",
    "```\n",
    "If you have never seen a `do while` loop, don't worry about. Python programmers don't use it. This small detour was purely for completeness and as a neat trick. Python is magic! ✨"
   ]
  },
  {
   "cell_type": "code",
   "execution_count": null,
   "metadata": {},
   "outputs": [],
   "source": []
  },
  {
   "cell_type": "markdown",
   "metadata": {},
   "source": [
    "#### try/except/else/finally\n",
    "You might of heard \"Oh noes! Don't use `try/except`. It is slow!\"  \n",
    "\\< In Maury Povich's voice after a lie detector test \\> That was a lie!  \n",
    "`try/except` is super *fast*, as fast as an `if` statement--if (pun intended!) you don't hit an exception. It is only slightly *slower* if an exception is triggered."
   ]
  },
  {
   "cell_type": "code",
   "execution_count": 1,
   "metadata": {},
   "outputs": [
    {
     "name": "stdout",
     "output_type": "stream",
     "text": [
      "Wall time: 820 ms\n"
     ]
    }
   ],
   "source": [
    "%%time\n",
    "for i in range(10000000):\n",
    "    if i:\n",
    "        pass"
   ]
  },
  {
   "cell_type": "code",
   "execution_count": 2,
   "metadata": {},
   "outputs": [
    {
     "name": "stdout",
     "output_type": "stream",
     "text": [
      "Wall time: 841 ms\n"
     ]
    }
   ],
   "source": [
    "%%time\n",
    "# no time penalty\n",
    "for i in range(10000000):\n",
    "    try:\n",
    "        i\n",
    "    except:\n",
    "        pass"
   ]
  },
  {
   "cell_type": "code",
   "execution_count": 3,
   "metadata": {},
   "outputs": [
    {
     "name": "stdout",
     "output_type": "stream",
     "text": [
      "Wall time: 2.89 s\n"
     ]
    }
   ],
   "source": [
    "%%time\n",
    "# less than a microsecond runtime penalty per exception raised\n",
    "for i in range(10000000):\n",
    "    try:\n",
    "        raise Exception\n",
    "    except:\n",
    "        pass"
   ]
  },
  {
   "cell_type": "markdown",
   "metadata": {},
   "source": [
    "#### Pokemon Catch 'em All Exception\n",
    "When I was a (wee-little) intern many years ago, my mentor said, do you know about the \"Pokemon catch 'em all\" exception? Pokemon catch 'em all exception is when you use a bare exception (`except:`/`except Exception:`/`except BaseException:`) instead of a specific exception type. Always specify a specific exception when you can because you don't want to catch a different exception that you did not expect."
   ]
  },
  {
   "cell_type": "code",
   "execution_count": 4,
   "metadata": {},
   "outputs": [
    {
     "data": {
      "text/plain": [
       "1.5"
      ]
     },
     "execution_count": 4,
     "metadata": {},
     "output_type": "execute_result"
    }
   ],
   "source": [
    "def how_divisive(x, y):\n",
    "    if (not isinstance(x, (int, float))) or (not isinstance(y, (int, float))):\n",
    "        raise TypeError(\"x and y have to be numeric!\")\n",
    "    return x / y\n",
    "\n",
    "how_divisive(3, 2)"
   ]
  },
  {
   "cell_type": "code",
   "execution_count": 5,
   "metadata": {},
   "outputs": [
    {
     "name": "stdout",
     "output_type": "stream",
     "text": [
      "This is to be expected\n"
     ]
    }
   ],
   "source": [
    "# do this\n",
    "try:\n",
    "    how_divisive(3, \"hi\")\n",
    "except TypeError:\n",
    "    print(\"This is to be expected\")"
   ]
  },
  {
   "cell_type": "code",
   "execution_count": 6,
   "metadata": {},
   "outputs": [
    {
     "name": "stdout",
     "output_type": "stream",
     "text": [
      "This is to be expected...or am I being lazy?\n"
     ]
    }
   ],
   "source": [
    "# don't do this\n",
    "try:\n",
    "    how_divisive(3, 0)\n",
    "except: # you wrote the code expecting TypeError, but you did not consider ZeroDivisionError\n",
    "    print(\"This is to be expected...or am I being lazy?\")"
   ]
  },
  {
   "cell_type": "markdown",
   "metadata": {},
   "source": [
    "#### Complex `try/except` examples\n",
    "* Multiple `Exception` clauses: do a different intervention per exception.\n",
    "* Multiple `Exception`s in 1 clause: do the same intervention for the specified exceptions."
   ]
  },
  {
   "cell_type": "code",
   "execution_count": 7,
   "metadata": {
    "scrolled": true
   },
   "outputs": [
    {
     "name": "stdout",
     "output_type": "stream",
     "text": [
      "Can I have your number?\n"
     ]
    }
   ],
   "source": [
    "try:\n",
    "    1 / 0\n",
    "except ZeroDivisionError:\n",
    "    print(\"Can I have your number?\")\n",
    "except KeyError: # You can have multiple `except` clauses\n",
    "    print(\"You trying to steal my key?\")"
   ]
  },
  {
   "cell_type": "code",
   "execution_count": 8,
   "metadata": {},
   "outputs": [
    {
     "name": "stdout",
     "output_type": "stream",
     "text": [
      "You trying to steal my key?\n"
     ]
    }
   ],
   "source": [
    "try:\n",
    "    {}[\"unknown_key\"]\n",
    "except ZeroDivisionError:\n",
    "    print(\"Can I have your number?\")\n",
    "except KeyError: # You can have multiple `except` clauses\n",
    "    print(\"You trying to steal my key?\")"
   ]
  },
  {
   "cell_type": "code",
   "execution_count": 9,
   "metadata": {},
   "outputs": [
    {
     "name": "stdout",
     "output_type": "stream",
     "text": [
      "You forgot my name? Or did you simply forget where you put it?\n"
     ]
    }
   ],
   "source": [
    "try:\n",
    "    x\n",
    "except (NameError, IndexError): # you can have multple exceptions in 1 clause\n",
    "    print(\"You forgot my name? Or did you simply forget where you put it?\")"
   ]
  },
  {
   "cell_type": "code",
   "execution_count": 10,
   "metadata": {},
   "outputs": [
    {
     "name": "stdout",
     "output_type": "stream",
     "text": [
      "('You are the best',)\n"
     ]
    }
   ],
   "source": [
    "class YouAreExceptional(Exception): # this is how you create a custom exception\n",
    "    pass\n",
    "\n",
    "try:\n",
    "    raise YouAreExceptional(\"You are the best\")\n",
    "except Exception as e: # this is how you capture an exception and save it\n",
    "    print(e.args) # interrogate it for intel!"
   ]
  },
  {
   "cell_type": "markdown",
   "metadata": {},
   "source": [
    "#### What else to throw in? `else` and `finally`\n",
    "* `else` clause in `try/except` is executed only if no `Exception` is triggered.\n",
    "* `finally` clause: always execute no matter what!\n",
    "\n",
    "You can have at most of 1 of each. Also, they are independent of each other, so you can have no `else` and no `finally`, `else` but no `finally`, `finally` but no `else`, both `else` and `finally`."
   ]
  },
  {
   "cell_type": "code",
   "execution_count": 11,
   "metadata": {},
   "outputs": [
    {
     "name": "stdout",
     "output_type": "stream",
     "text": [
      "Can I have your number?\n"
     ]
    }
   ],
   "source": [
    "# else: not triggered\n",
    "try:\n",
    "    1 / 0\n",
    "except ZeroDivisionError:\n",
    "    print(\"Can I have your number?\")\n",
    "else:\n",
    "    print(\"Only print if no exception hit\")"
   ]
  },
  {
   "cell_type": "code",
   "execution_count": 12,
   "metadata": {},
   "outputs": [
    {
     "name": "stdout",
     "output_type": "stream",
     "text": [
      "Only print if no exception hit\n"
     ]
    }
   ],
   "source": [
    "# else: triggered\n",
    "try:\n",
    "    0 / 1\n",
    "except ZeroDivisionError:\n",
    "    print(\"Can I have your number?\")\n",
    "else:\n",
    "    print(\"Only print if no exception hit\")"
   ]
  },
  {
   "cell_type": "code",
   "execution_count": 13,
   "metadata": {},
   "outputs": [
    {
     "name": "stdout",
     "output_type": "stream",
     "text": [
      "I will always run!\n"
     ]
    },
    {
     "data": {
      "text/plain": [
       "1"
      ]
     },
     "execution_count": 13,
     "metadata": {},
     "output_type": "execute_result"
    }
   ],
   "source": [
    "# finally we see `finally`!\n",
    "def always_return_1_no_matter_what():\n",
    "    try:\n",
    "        assert False, \"This has been Falsified!\"\n",
    "    finally: # run this no matter what, even if an Exception is triggered\n",
    "        print(\"I will always run!\")\n",
    "        return 1\n",
    "    \n",
    "always_return_1_no_matter_what()"
   ]
  },
  {
   "cell_type": "code",
   "execution_count": 14,
   "metadata": {},
   "outputs": [
    {
     "name": "stdout",
     "output_type": "stream",
     "text": [
      "('This has been Falsified!',)\n",
      "Attempted\n",
      "I will always run!\n"
     ]
    },
    {
     "data": {
      "text/plain": [
       "1"
      ]
     },
     "execution_count": 14,
     "metadata": {},
     "output_type": "execute_result"
    }
   ],
   "source": [
    "def always_return_1_no_matter_what():\n",
    "    try:\n",
    "        assert False, \"This has been Falsified!\"\n",
    "    except AssertionError as e:\n",
    "        print(e.args) # the print runs\n",
    "        return 2, print(\"Attempted\") # the return is attempted but not ultimately returned\n",
    "    finally: # run this no matter what, even if something else is \n",
    "        print(\"I will always run!\") # notice this print comes after the AssertionError's print\n",
    "        return 1\n",
    "\n",
    "    \n",
    "always_return_1_no_matter_what()"
   ]
  },
  {
   "cell_type": "code",
   "execution_count": null,
   "metadata": {},
   "outputs": [],
   "source": []
  },
  {
   "cell_type": "markdown",
   "metadata": {},
   "source": [
    "I recently came across an interesting problem. I was writing a unit test where I anticipated it to raise a specific exception. I wanted to test:\n",
    "* the correct exception is raised when a certain condition is met\n",
    "* alert me if the specific exception is not raised when the condition is met\n",
    "* alert me if the wrong exception is raised when the condition is met\n",
    "\n",
    "So the question is: how do I raise an exception in response to if no anticipated exception is raised?"
   ]
  },
  {
   "cell_type": "code",
   "execution_count": 15,
   "metadata": {},
   "outputs": [
    {
     "ename": "TypeError",
     "evalue": "You snake! Black adders will come bit you!",
     "output_type": "error",
     "traceback": [
      "\u001b[1;31m---------------------------------------------------------------------------\u001b[0m",
      "\u001b[1;31mTypeError\u001b[0m                                 Traceback (most recent call last)",
      "\u001b[1;32m<ipython-input-15-72fc35a04956>\u001b[0m in \u001b[0;36m<module>\u001b[1;34m()\u001b[0m\n\u001b[0;32m      4\u001b[0m     \u001b[1;32mreturn\u001b[0m \u001b[0mx\u001b[0m \u001b[1;33m+\u001b[0m \u001b[0my\u001b[0m\u001b[1;33m\u001b[0m\u001b[0m\n\u001b[0;32m      5\u001b[0m \u001b[1;33m\u001b[0m\u001b[0m\n\u001b[1;32m----> 6\u001b[1;33m \u001b[0madder\u001b[0m\u001b[1;33m(\u001b[0m\u001b[1;36m1\u001b[0m\u001b[1;33m,\u001b[0m \u001b[1;34m\"2\"\u001b[0m\u001b[1;33m)\u001b[0m \u001b[1;31m# except-able behavior ;-)\u001b[0m\u001b[1;33m\u001b[0m\u001b[0m\n\u001b[0m",
      "\u001b[1;32m<ipython-input-15-72fc35a04956>\u001b[0m in \u001b[0;36madder\u001b[1;34m(x, y)\u001b[0m\n\u001b[0;32m      1\u001b[0m \u001b[1;32mdef\u001b[0m \u001b[0madder\u001b[0m\u001b[1;33m(\u001b[0m\u001b[0mx\u001b[0m\u001b[1;33m,\u001b[0m \u001b[0my\u001b[0m\u001b[1;33m)\u001b[0m\u001b[1;33m:\u001b[0m\u001b[1;33m\u001b[0m\u001b[0m\n\u001b[0;32m      2\u001b[0m     \u001b[1;32mif\u001b[0m \u001b[0mtype\u001b[0m\u001b[1;33m(\u001b[0m\u001b[0mx\u001b[0m\u001b[1;33m)\u001b[0m \u001b[1;33m!=\u001b[0m \u001b[0mtype\u001b[0m\u001b[1;33m(\u001b[0m\u001b[0my\u001b[0m\u001b[1;33m)\u001b[0m\u001b[1;33m:\u001b[0m\u001b[1;33m\u001b[0m\u001b[0m\n\u001b[1;32m----> 3\u001b[1;33m         \u001b[1;32mraise\u001b[0m \u001b[0mTypeError\u001b[0m\u001b[1;33m(\u001b[0m\u001b[1;34m\"You snake! Black adders will come bit you!\"\u001b[0m\u001b[1;33m)\u001b[0m\u001b[1;33m\u001b[0m\u001b[0m\n\u001b[0m\u001b[0;32m      4\u001b[0m     \u001b[1;32mreturn\u001b[0m \u001b[0mx\u001b[0m \u001b[1;33m+\u001b[0m \u001b[0my\u001b[0m\u001b[1;33m\u001b[0m\u001b[0m\n\u001b[0;32m      5\u001b[0m \u001b[1;33m\u001b[0m\u001b[0m\n",
      "\u001b[1;31mTypeError\u001b[0m: You snake! Black adders will come bit you!"
     ]
    }
   ],
   "source": [
    "def adder(x, y):\n",
    "    if type(x) != type(y):\n",
    "        raise TypeError(\"You snake! Black adders will come bit you!\")\n",
    "    return x + y\n",
    "\n",
    "adder(1, \"2\") # except-able behavior ;-)"
   ]
  },
  {
   "cell_type": "code",
   "execution_count": 16,
   "metadata": {},
   "outputs": [
    {
     "name": "stdout",
     "output_type": "stream",
     "text": [
      "Whew, it worked!\n"
     ]
    }
   ],
   "source": [
    "# basically this is what I wanted but with nicer syntax\n",
    "try:\n",
    "    adder(1, \"2\")\n",
    "except TypeError: # this is the specific exception I expected, any other exception types will still be raised\n",
    "    print(\"Whew, it worked!\")\n",
    "else:\n",
    "    raise Exception(\"Something went wrong! Something exceptional should have happened\")"
   ]
  },
  {
   "cell_type": "code",
   "execution_count": 17,
   "metadata": {},
   "outputs": [],
   "source": [
    "# here's the solution, so much nicer\n",
    "import pytest\n",
    "\n",
    "with pytest.raises(TypeError): # don't raise an exception if the anticipated exception is raised\n",
    "    adder(1, \"2\")"
   ]
  },
  {
   "cell_type": "code",
   "execution_count": 18,
   "metadata": {},
   "outputs": [
    {
     "ename": "Failed",
     "evalue": "DID NOT RAISE <class 'TypeError'>",
     "output_type": "error",
     "traceback": [
      "\u001b[1;31m---------------------------------------------------------------------------\u001b[0m",
      "\u001b[1;31mFailed\u001b[0m                                    Traceback (most recent call last)",
      "\u001b[1;32m<ipython-input-18-75890fd61be0>\u001b[0m in \u001b[0;36m<module>\u001b[1;34m()\u001b[0m\n\u001b[0;32m      1\u001b[0m \u001b[1;32mwith\u001b[0m \u001b[0mpytest\u001b[0m\u001b[1;33m.\u001b[0m\u001b[0mraises\u001b[0m\u001b[1;33m(\u001b[0m\u001b[0mTypeError\u001b[0m\u001b[1;33m)\u001b[0m\u001b[1;33m:\u001b[0m \u001b[1;31m# raise an exception if no exeptions raised\u001b[0m\u001b[1;33m\u001b[0m\u001b[0m\n\u001b[1;32m----> 2\u001b[1;33m     \u001b[1;36m1\u001b[0m \u001b[1;33m+\u001b[0m \u001b[1;36m1\u001b[0m\u001b[1;33m\u001b[0m\u001b[0m\n\u001b[0m",
      "\u001b[1;32mC:\\ProgramData\\Anaconda3\\lib\\site-packages\\_pytest\\python_api.py\u001b[0m in \u001b[0;36m__exit__\u001b[1;34m(self, *tp)\u001b[0m\n\u001b[0;32m    610\u001b[0m         \u001b[0m__tracebackhide__\u001b[0m \u001b[1;33m=\u001b[0m \u001b[1;32mTrue\u001b[0m\u001b[1;33m\u001b[0m\u001b[0m\n\u001b[0;32m    611\u001b[0m         \u001b[1;32mif\u001b[0m \u001b[0mtp\u001b[0m\u001b[1;33m[\u001b[0m\u001b[1;36m0\u001b[0m\u001b[1;33m]\u001b[0m \u001b[1;32mis\u001b[0m \u001b[1;32mNone\u001b[0m\u001b[1;33m:\u001b[0m\u001b[1;33m\u001b[0m\u001b[0m\n\u001b[1;32m--> 612\u001b[1;33m             \u001b[0mfail\u001b[0m\u001b[1;33m(\u001b[0m\u001b[0mself\u001b[0m\u001b[1;33m.\u001b[0m\u001b[0mmessage\u001b[0m\u001b[1;33m)\u001b[0m\u001b[1;33m\u001b[0m\u001b[0m\n\u001b[0m\u001b[0;32m    613\u001b[0m         \u001b[0mself\u001b[0m\u001b[1;33m.\u001b[0m\u001b[0mexcinfo\u001b[0m\u001b[1;33m.\u001b[0m\u001b[0m__init__\u001b[0m\u001b[1;33m(\u001b[0m\u001b[0mtp\u001b[0m\u001b[1;33m)\u001b[0m\u001b[1;33m\u001b[0m\u001b[0m\n\u001b[0;32m    614\u001b[0m         \u001b[0msuppress_exception\u001b[0m \u001b[1;33m=\u001b[0m \u001b[0missubclass\u001b[0m\u001b[1;33m(\u001b[0m\u001b[0mself\u001b[0m\u001b[1;33m.\u001b[0m\u001b[0mexcinfo\u001b[0m\u001b[1;33m.\u001b[0m\u001b[0mtype\u001b[0m\u001b[1;33m,\u001b[0m \u001b[0mself\u001b[0m\u001b[1;33m.\u001b[0m\u001b[0mexpected_exception\u001b[0m\u001b[1;33m)\u001b[0m\u001b[1;33m\u001b[0m\u001b[0m\n",
      "\u001b[1;32mC:\\ProgramData\\Anaconda3\\lib\\site-packages\\_pytest\\outcomes.py\u001b[0m in \u001b[0;36mfail\u001b[1;34m(msg, pytrace)\u001b[0m\n\u001b[0;32m     90\u001b[0m     \"\"\"\n\u001b[0;32m     91\u001b[0m     \u001b[0m__tracebackhide__\u001b[0m \u001b[1;33m=\u001b[0m \u001b[1;32mTrue\u001b[0m\u001b[1;33m\u001b[0m\u001b[0m\n\u001b[1;32m---> 92\u001b[1;33m     \u001b[1;32mraise\u001b[0m \u001b[0mFailed\u001b[0m\u001b[1;33m(\u001b[0m\u001b[0mmsg\u001b[0m\u001b[1;33m=\u001b[0m\u001b[0mmsg\u001b[0m\u001b[1;33m,\u001b[0m \u001b[0mpytrace\u001b[0m\u001b[1;33m=\u001b[0m\u001b[0mpytrace\u001b[0m\u001b[1;33m)\u001b[0m\u001b[1;33m\u001b[0m\u001b[0m\n\u001b[0m\u001b[0;32m     93\u001b[0m \u001b[1;33m\u001b[0m\u001b[0m\n\u001b[0;32m     94\u001b[0m \u001b[1;33m\u001b[0m\u001b[0m\n",
      "\u001b[1;31mFailed\u001b[0m: DID NOT RAISE <class 'TypeError'>"
     ]
    }
   ],
   "source": [
    "with pytest.raises(TypeError): # raise an exception if the anticipated exeption is not raised\n",
    "    1 + 1"
   ]
  },
  {
   "cell_type": "code",
   "execution_count": 19,
   "metadata": {},
   "outputs": [
    {
     "ename": "ZeroDivisionError",
     "evalue": "division by zero",
     "output_type": "error",
     "traceback": [
      "\u001b[1;31m---------------------------------------------------------------------------\u001b[0m",
      "\u001b[1;31mZeroDivisionError\u001b[0m                         Traceback (most recent call last)",
      "\u001b[1;32m<ipython-input-19-3a0bbbda849a>\u001b[0m in \u001b[0;36m<module>\u001b[1;34m()\u001b[0m\n\u001b[0;32m      1\u001b[0m \u001b[1;32mwith\u001b[0m \u001b[0mpytest\u001b[0m\u001b[1;33m.\u001b[0m\u001b[0mraises\u001b[0m\u001b[1;33m(\u001b[0m\u001b[0mTypeError\u001b[0m\u001b[1;33m)\u001b[0m\u001b[1;33m:\u001b[0m \u001b[1;31m# raise an exception if the wrong exception is raised\u001b[0m\u001b[1;33m\u001b[0m\u001b[0m\n\u001b[1;32m----> 2\u001b[1;33m     \u001b[1;36m1\u001b[0m \u001b[1;33m/\u001b[0m \u001b[1;36m0\u001b[0m\u001b[1;33m\u001b[0m\u001b[0m\n\u001b[0m",
      "\u001b[1;31mZeroDivisionError\u001b[0m: division by zero"
     ]
    }
   ],
   "source": [
    "with pytest.raises(TypeError): # raise an exception if the wrong exception is raised\n",
    "    1 / 0"
   ]
  },
  {
   "cell_type": "markdown",
   "metadata": {},
   "source": [
    "#### In Totality: `try/except/else/finally` in its fully beauty"
   ]
  },
  {
   "cell_type": "code",
   "execution_count": 20,
   "metadata": {},
   "outputs": [
    {
     "name": "stdout",
     "output_type": "stream",
     "text": [
      "I'm going to trigger an exception\n",
      "Harley Quinn: I just wanna say something...\n"
     ]
    },
    {
     "ename": "Exception",
     "evalue": "Triggered!",
     "output_type": "error",
     "traceback": [
      "\u001b[1;31m---------------------------------------------------------------------------\u001b[0m",
      "\u001b[1;31mException\u001b[0m                                 Traceback (most recent call last)",
      "\u001b[1;32m<ipython-input-20-be16d0e98a11>\u001b[0m in \u001b[0;36m<module>\u001b[1;34m()\u001b[0m\n\u001b[0;32m     11\u001b[0m \u001b[1;32melse\u001b[0m\u001b[1;33m:\u001b[0m\u001b[1;33m\u001b[0m\u001b[0m\n\u001b[0;32m     12\u001b[0m     \u001b[0mprint\u001b[0m\u001b[1;33m(\u001b[0m\u001b[1;34m\"I'm going to trigger an exception\"\u001b[0m\u001b[1;33m)\u001b[0m\u001b[1;33m\u001b[0m\u001b[0m\n\u001b[1;32m---> 13\u001b[1;33m     \u001b[1;32mraise\u001b[0m \u001b[0mException\u001b[0m\u001b[1;33m(\u001b[0m\u001b[1;34m\"Triggered!\"\u001b[0m\u001b[1;33m)\u001b[0m\u001b[1;33m\u001b[0m\u001b[0m\n\u001b[0m\u001b[0;32m     14\u001b[0m \u001b[1;32mfinally\u001b[0m\u001b[1;33m:\u001b[0m\u001b[1;33m\u001b[0m\u001b[0m\n\u001b[0;32m     15\u001b[0m     \u001b[0mprint\u001b[0m\u001b[1;33m(\u001b[0m\u001b[1;34m\"Harley Quinn: I just wanna say something...\"\u001b[0m\u001b[1;33m)\u001b[0m \u001b[1;31m# does print before the `else` clause raises the Exception\u001b[0m\u001b[1;33m\u001b[0m\u001b[0m\n",
      "\u001b[1;31mException\u001b[0m: Triggered!"
     ]
    }
   ],
   "source": [
    "try:\n",
    "    pass\n",
    "except ZeroDivisionError:\n",
    "    print(\"Can I have your number?\")\n",
    "except KeyError: # You can have multiple `except` clauses\n",
    "    print(\"You trying to steal my key?\")\n",
    "except (NameError, IndexError): # you can have multple exceptions in 1 clause\n",
    "    print(\"You forgot my name? Or did you simply forget where you put it?\")\n",
    "except:\n",
    "    print(\"Catch any remaining exception types\")\n",
    "else:\n",
    "    print(\"I'm going to trigger an exception\")\n",
    "    raise Exception(\"Triggered!\")\n",
    "finally:\n",
    "    print(\"Harley Quinn: I just wanna say something...\") # does print before the `else` clause raises the Exception"
   ]
  },
  {
   "cell_type": "code",
   "execution_count": 21,
   "metadata": {},
   "outputs": [
    {
     "name": "stdout",
     "output_type": "stream",
     "text": [
      "I'm going to trigger an exception\n",
      "I'm going to silence any exceptions\n"
     ]
    },
    {
     "data": {
      "text/plain": [
       "1"
      ]
     },
     "execution_count": 21,
     "metadata": {},
     "output_type": "execute_result"
    }
   ],
   "source": [
    "def always_return_1():\n",
    "    try:\n",
    "        pass\n",
    "    except ZeroDivisionError:\n",
    "        print(\"Can I have your number?\")\n",
    "    except KeyError: # You can have multiple `except` clauses\n",
    "        print(\"You trying to steal my key?\")\n",
    "    except (NameError, IndexError): # you can have multple exceptions in 1 clause\n",
    "        print(\"You forgot my name? Or did you simply forget where you put it?\")\n",
    "    except:\n",
    "        print(\"Catch any remaining exception types\")\n",
    "    else:\n",
    "        print(\"I'm going to trigger an exception\")\n",
    "        raise Exception(\"Triggered!\")\n",
    "    finally:\n",
    "        print(\"I'm going to silence any exceptions\") # does print before the `else` clause raises the Exception\n",
    "        return 1\n",
    "    \n",
    "always_return_1()"
   ]
  },
  {
   "cell_type": "markdown",
   "metadata": {},
   "source": [
    "#### Context for using `finally`: An Actual Use Case\n",
    "When would you use `finally`? `finally` is used when you want to clean up your environment/release resources: close files, close database connections, write final log messages, release locks, etc. For example, if you are connected to a SQL database but hit an exception during a query, you might have not released the database connection. A database has a limited number of connections it can handle at any one time. Hence, if Python does not release the connection to the database, nobody else can actually query the database. The `finally` block can be used to close a database connection, regardless of whether or not the SQL query completed successfully.\n",
    "\n",
    "Well, that sounds awfully like a context manager such as `with open(my_file) as f:` where the file will close itself (no matter what) when the body of the clause is finished executing. Your hunch is correct: `try/finally` can be used to create your own custom context managers.\n",
    "\n",
    "Here's an example where if you did not use a context manager for opening a file and hit an error, the file (descriptor) does not automatically close and your message might be lost."
   ]
  },
  {
   "cell_type": "code",
   "execution_count": 1,
   "metadata": {},
   "outputs": [
    {
     "ename": "ZeroDivisionError",
     "evalue": "division by zero",
     "output_type": "error",
     "traceback": [
      "\u001b[1;31m---------------------------------------------------------------------------\u001b[0m",
      "\u001b[1;31mZeroDivisionError\u001b[0m                         Traceback (most recent call last)",
      "\u001b[1;32m<ipython-input-1-2b880227f5c6>\u001b[0m in \u001b[0;36m<module>\u001b[1;34m()\u001b[0m\n\u001b[0;32m      6\u001b[0m     \u001b[0mopened_file\u001b[0m\u001b[1;33m.\u001b[0m\u001b[0mclose\u001b[0m\u001b[1;33m(\u001b[0m\u001b[1;33m)\u001b[0m \u001b[1;31m# these lines are not executed\u001b[0m\u001b[1;33m\u001b[0m\u001b[0m\n\u001b[0;32m      7\u001b[0m \u001b[1;33m\u001b[0m\u001b[0m\n\u001b[1;32m----> 8\u001b[1;33m \u001b[0mbad_open\u001b[0m\u001b[1;33m(\u001b[0m\u001b[1;34m\"silly.txt\"\u001b[0m\u001b[1;33m)\u001b[0m\u001b[1;33m\u001b[0m\u001b[0m\n\u001b[0m",
      "\u001b[1;32m<ipython-input-1-2b880227f5c6>\u001b[0m in \u001b[0;36mbad_open\u001b[1;34m(filename)\u001b[0m\n\u001b[0;32m      2\u001b[0m     \u001b[0mopened_file\u001b[0m \u001b[1;33m=\u001b[0m \u001b[0mopen\u001b[0m\u001b[1;33m(\u001b[0m\u001b[0mfilename\u001b[0m\u001b[1;33m,\u001b[0m \u001b[1;34m\"w\"\u001b[0m\u001b[1;33m)\u001b[0m\u001b[1;33m\u001b[0m\u001b[0m\n\u001b[0;32m      3\u001b[0m     \u001b[0mopened_file\u001b[0m\u001b[1;33m.\u001b[0m\u001b[0mwrite\u001b[0m\u001b[1;33m(\u001b[0m\u001b[1;34m\"what to hear a secret?\"\u001b[0m\u001b[1;33m)\u001b[0m \u001b[1;31m# this message is lost\u001b[0m\u001b[1;33m\u001b[0m\u001b[0m\n\u001b[1;32m----> 4\u001b[1;33m     \u001b[1;36m1\u001b[0m \u001b[1;33m/\u001b[0m \u001b[1;36m0\u001b[0m \u001b[1;31m# pretend here is some code you wrote but didn't expect to break\u001b[0m\u001b[1;33m\u001b[0m\u001b[0m\n\u001b[0m\u001b[0;32m      5\u001b[0m     \u001b[0mopened_file\u001b[0m\u001b[1;33m.\u001b[0m\u001b[0mwrite\u001b[0m\u001b[1;33m(\u001b[0m\u001b[1;34m\"my very important secret message is ...\"\u001b[0m\u001b[1;33m)\u001b[0m \u001b[1;31m# these lines are not executed\u001b[0m\u001b[1;33m\u001b[0m\u001b[0m\n\u001b[0;32m      6\u001b[0m     \u001b[0mopened_file\u001b[0m\u001b[1;33m.\u001b[0m\u001b[0mclose\u001b[0m\u001b[1;33m(\u001b[0m\u001b[1;33m)\u001b[0m \u001b[1;31m# these lines are not executed\u001b[0m\u001b[1;33m\u001b[0m\u001b[0m\n",
      "\u001b[1;31mZeroDivisionError\u001b[0m: division by zero"
     ]
    }
   ],
   "source": [
    "def bad_open(filename):\n",
    "    opened_file = open(filename, \"w\")\n",
    "    opened_file.write(\"what to hear a secret?\") # this message is lost\n",
    "    1 / 0 # pretend here is some code you wrote but didn't expect to break\n",
    "    opened_file.write(\"my very important secret message is ...\") # these lines are not executed\n",
    "    opened_file.close() # these lines are not executed\n",
    "\n",
    "bad_open(\"silly.txt\")"
   ]
  },
  {
   "cell_type": "code",
   "execution_count": 2,
   "metadata": {},
   "outputs": [
    {
     "name": "stdout",
     "output_type": "stream",
     "text": [
      "\n"
     ]
    }
   ],
   "source": [
    "with open(\"silly.txt\", \"r\") as f:\n",
    "    print(f.read()) # the message is lost; file is empty"
   ]
  },
  {
   "cell_type": "code",
   "execution_count": 3,
   "metadata": {},
   "outputs": [
    {
     "name": "stderr",
     "output_type": "stream",
     "text": [
      "rm: cannot remove â€˜silly.txtâ€™: Permission denied\n"
     ]
    }
   ],
   "source": [
    "%%bash\n",
    "rm silly.txt # can't even delete the file because file descriptor is not closed"
   ]
  },
  {
   "cell_type": "code",
   "execution_count": null,
   "metadata": {},
   "outputs": [],
   "source": [
    "# restart notebook"
   ]
  },
  {
   "cell_type": "code",
   "execution_count": 1,
   "metadata": {},
   "outputs": [
    {
     "ename": "ZeroDivisionError",
     "evalue": "division by zero",
     "output_type": "error",
     "traceback": [
      "\u001b[1;31m---------------------------------------------------------------------------\u001b[0m",
      "\u001b[1;31mZeroDivisionError\u001b[0m                         Traceback (most recent call last)",
      "\u001b[1;32m<ipython-input-1-e92f1530e1e8>\u001b[0m in \u001b[0;36m<module>\u001b[1;34m()\u001b[0m\n\u001b[0;32m      5\u001b[0m         \u001b[0mopened_file\u001b[0m\u001b[1;33m.\u001b[0m\u001b[0mwrite\u001b[0m\u001b[1;33m(\u001b[0m\u001b[1;34m\"my very important secret message is ...\"\u001b[0m\u001b[1;33m)\u001b[0m \u001b[1;31m# these lines are not executed\u001b[0m\u001b[1;33m\u001b[0m\u001b[0m\n\u001b[0;32m      6\u001b[0m \u001b[1;33m\u001b[0m\u001b[0m\n\u001b[1;32m----> 7\u001b[1;33m \u001b[0mgood_open\u001b[0m\u001b[1;33m(\u001b[0m\u001b[1;34m\"silly.txt\"\u001b[0m\u001b[1;33m)\u001b[0m\u001b[1;33m\u001b[0m\u001b[0m\n\u001b[0m",
      "\u001b[1;32m<ipython-input-1-e92f1530e1e8>\u001b[0m in \u001b[0;36mgood_open\u001b[1;34m(filename)\u001b[0m\n\u001b[0;32m      2\u001b[0m     \u001b[1;32mwith\u001b[0m \u001b[0mopen\u001b[0m\u001b[1;33m(\u001b[0m\u001b[0mfilename\u001b[0m\u001b[1;33m,\u001b[0m \u001b[1;34m\"w\"\u001b[0m\u001b[1;33m)\u001b[0m \u001b[1;32mas\u001b[0m \u001b[0mopened_file\u001b[0m\u001b[1;33m:\u001b[0m\u001b[1;33m\u001b[0m\u001b[0m\n\u001b[0;32m      3\u001b[0m         \u001b[0mopened_file\u001b[0m\u001b[1;33m.\u001b[0m\u001b[0mwrite\u001b[0m\u001b[1;33m(\u001b[0m\u001b[1;34m\"what to hear a secret?\"\u001b[0m\u001b[1;33m)\u001b[0m \u001b[1;31m# this message is lost\u001b[0m\u001b[1;33m\u001b[0m\u001b[0m\n\u001b[1;32m----> 4\u001b[1;33m         \u001b[1;36m1\u001b[0m \u001b[1;33m/\u001b[0m \u001b[1;36m0\u001b[0m \u001b[1;31m# pretend here is some code you wrote but didn't expect to break\u001b[0m\u001b[1;33m\u001b[0m\u001b[0m\n\u001b[0m\u001b[0;32m      5\u001b[0m         \u001b[0mopened_file\u001b[0m\u001b[1;33m.\u001b[0m\u001b[0mwrite\u001b[0m\u001b[1;33m(\u001b[0m\u001b[1;34m\"my very important secret message is ...\"\u001b[0m\u001b[1;33m)\u001b[0m \u001b[1;31m# these lines are not executed\u001b[0m\u001b[1;33m\u001b[0m\u001b[0m\n\u001b[0;32m      6\u001b[0m \u001b[1;33m\u001b[0m\u001b[0m\n",
      "\u001b[1;31mZeroDivisionError\u001b[0m: division by zero"
     ]
    }
   ],
   "source": [
    "def good_open(filename):\n",
    "    with open(filename, \"w\") as opened_file:\n",
    "        opened_file.write(\"what to hear a secret?\") # this message is lost\n",
    "        1 / 0 # pretend here is some code you wrote but didn't expect to break\n",
    "        opened_file.write(\"my very important secret message is ...\") # these lines are not executed\n",
    "\n",
    "good_open(\"silly.txt\")"
   ]
  },
  {
   "cell_type": "code",
   "execution_count": 2,
   "metadata": {},
   "outputs": [
    {
     "name": "stdout",
     "output_type": "stream",
     "text": [
      "what to hear a secret?\n"
     ]
    }
   ],
   "source": [
    "with open(\"silly.txt\", \"r\") as f:\n",
    "    print(f.read()) # message is kept"
   ]
  },
  {
   "cell_type": "code",
   "execution_count": 3,
   "metadata": {},
   "outputs": [],
   "source": [
    "%%bash\n",
    "rm silly.txt # everything works fine"
   ]
  },
  {
   "cell_type": "markdown",
   "metadata": {},
   "source": [
    "Here's a real context manager I created to do runtime profiling. Basically, I wanted to runtime profile another person's function, but I didn't want to apply a decorator to their function."
   ]
  },
  {
   "cell_type": "code",
   "execution_count": 4,
   "metadata": {},
   "outputs": [],
   "source": [
    "from contextlib import contextmanager\n",
    "from datetime import datetime\n",
    "import time\n",
    "\n",
    "@contextmanager\n",
    "def custom_context_manager():\n",
    "    # set up environment here\n",
    "    start_time = datetime.now()\n",
    "    print(\"Started code block at {}\".format(start_time))\n",
    "    try:\n",
    "        yield \"Horology--Pirates of the Caribbean joke\"\n",
    "    finally:\n",
    "        # release resource here\n",
    "        end_time = datetime.now()\n",
    "        print(\"Ended code block at {}\".format(end_time))\n",
    "        print(\n",
    "            \"Total runtime is {} seconds\"\n",
    "            .format(round((end_time - start_time).total_seconds()))\n",
    "        )"
   ]
  },
  {
   "cell_type": "code",
   "execution_count": 5,
   "metadata": {},
   "outputs": [
    {
     "name": "stdout",
     "output_type": "stream",
     "text": [
      "Started code block at 2020-08-07 22:48:55.312899\n",
      "Ended code block at 2020-08-07 22:49:00.323800\n",
      "Total runtime is 5 seconds\n",
      "Horology--Pirates of the Caribbean joke\n"
     ]
    }
   ],
   "source": [
    "with custom_context_manager() as ccm:\n",
    "    time.sleep(5) # suppose this is somebody else's function that I am timing\n",
    "\n",
    "print(ccm) # what is ccm? It is whatever is yielded"
   ]
  },
  {
   "cell_type": "code",
   "execution_count": 6,
   "metadata": {},
   "outputs": [
    {
     "name": "stdout",
     "output_type": "stream",
     "text": [
      "Started code block at 2020-08-07 22:50:18.328126\n",
      "Ended code block at 2020-08-07 22:50:24.352074\n",
      "Total runtime is 6 seconds\n"
     ]
    }
   ],
   "source": [
    "with custom_context_manager(): # I can even time a block of code, not just 1 function \n",
    "    time.sleep(1)\n",
    "    time.sleep(2)\n",
    "    time.sleep(3)"
   ]
  },
  {
   "cell_type": "code",
   "execution_count": 7,
   "metadata": {},
   "outputs": [
    {
     "name": "stdout",
     "output_type": "stream",
     "text": [
      "Started code block at 2020-08-07 22:51:24.631221\n",
      "Ended code block at 2020-08-07 22:51:25.642154\n",
      "Total runtime is 1 seconds\n"
     ]
    },
    {
     "ename": "ZeroDivisionError",
     "evalue": "division by zero",
     "output_type": "error",
     "traceback": [
      "\u001b[1;31m---------------------------------------------------------------------------\u001b[0m",
      "\u001b[1;31mZeroDivisionError\u001b[0m                         Traceback (most recent call last)",
      "\u001b[1;32m<ipython-input-7-0651eac701a2>\u001b[0m in \u001b[0;36m<module>\u001b[1;34m()\u001b[0m\n\u001b[0;32m      1\u001b[0m \u001b[1;32mwith\u001b[0m \u001b[0mcustom_context_manager\u001b[0m\u001b[1;33m(\u001b[0m\u001b[1;33m)\u001b[0m\u001b[1;33m:\u001b[0m \u001b[1;31m# I can even time a block of code, not just 1 function\u001b[0m\u001b[1;33m\u001b[0m\u001b[0m\n\u001b[0;32m      2\u001b[0m     \u001b[0mtime\u001b[0m\u001b[1;33m.\u001b[0m\u001b[0msleep\u001b[0m\u001b[1;33m(\u001b[0m\u001b[1;36m1\u001b[0m\u001b[1;33m)\u001b[0m\u001b[1;33m\u001b[0m\u001b[0m\n\u001b[1;32m----> 3\u001b[1;33m     \u001b[1;36m1\u001b[0m \u001b[1;33m/\u001b[0m \u001b[1;36m0\u001b[0m\u001b[1;33m\u001b[0m\u001b[0m\n\u001b[0m",
      "\u001b[1;31mZeroDivisionError\u001b[0m: division by zero"
     ]
    }
   ],
   "source": [
    "with custom_context_manager(): # finally block will still execute even if the body hits an exception\n",
    "    time.sleep(1)\n",
    "    1 / 0"
   ]
  },
  {
   "cell_type": "markdown",
   "metadata": {},
   "source": [
    "In summary, `finally` is frequently used for releasing resources and (less often) used for creating a custom context manager."
   ]
  },
  {
   "cell_type": "code",
   "execution_count": null,
   "metadata": {},
   "outputs": [],
   "source": []
  },
  {
   "cell_type": "markdown",
   "metadata": {},
   "source": [
    "## In CASE You Need Help, just SWITCH things Up\n",
    "\n",
    "Once in awhile, you need to make a decision and it look likes this with a long body of `if/elif/else`:\n",
    "```python\n",
    "# Python\n",
    "month = 5\n",
    "if month == 1:\n",
    "    return \"January\"\n",
    "elif month == 2:\n",
    "    return \"February\"\n",
    "...\n",
    "else:\n",
    "    return \"I have no idea!\"\n",
    "```\n",
    "\n",
    "You might also think of it as the `CASE` statement in SQL:\n",
    "``` mysql\n",
    "# SQL\n",
    "CASE\n",
    "    WHEN condition1 THEN result1\n",
    "    WHEN condition2 THEN result2\n",
    "    WHEN conditionN THEN resultN\n",
    "    ELSE result\n",
    "END;\n",
    "```\n",
    "\n",
    "If you suffered in with C in ~~skewl~~ school, then it would be the `switch` statement:\n",
    "``` C\n",
    "switch (x) \n",
    "{ \n",
    "   case 1: printf(\"Choice is 1\"); \n",
    "           break; \n",
    "   case 2: printf(\"Choice is 2\"); \n",
    "            break; \n",
    "   case 3: printf(\"Choice is 3\"); \n",
    "           break; \n",
    "   default: printf(\"Choice other than 1, 2 and 3\"); \n",
    "            break;   \n",
    "} \n",
    "```\n",
    "\n",
    "Why suffer when you can do idiomatic Python? Use a dictionary instead."
   ]
  },
  {
   "cell_type": "code",
   "execution_count": 1,
   "metadata": {},
   "outputs": [
    {
     "name": "stdout",
     "output_type": "stream",
     "text": [
      "March\n",
      "I have no idea!\n"
     ]
    }
   ],
   "source": [
    "def get_month(month, default_option=\"I have no idea!\"):\n",
    "    month_names = {1: \"January\", 2: \"February\", 3: \"March\", }\n",
    "    return month_names.get(month, default_option)\n",
    "\n",
    "print(get_month(3))\n",
    "print(get_month(13))"
   ]
  },
  {
   "cell_type": "code",
   "execution_count": 2,
   "metadata": {},
   "outputs": [
    {
     "name": "stdout",
     "output_type": "stream",
     "text": [
      "On the coolest day of Christmas, my true love sent to me:\n",
      "5 golden rings\n",
      "4 calling birds\n",
      "3 french hens\n",
      "2 turtle doves\n",
      "1 partridge in a pear tree\n"
     ]
    }
   ],
   "source": [
    "gifts = {5: \"golden rings\", 4: \"calling birds\", 3: \"french hens\", 2: \"turtle doves\", 1: \"partridge in a pear tree\"}\n",
    "\n",
    "print(\"On the coolest day of Christmas, my true love sent to me:\")\n",
    "for day_of_Christmas in range(5, 0, -1):\n",
    "    print(day_of_Christmas, gifts[day_of_Christmas])"
   ]
  },
  {
   "cell_type": "markdown",
   "metadata": {},
   "source": [
    "#### Advanced Technique: Dispatch\n",
    "If you want a switch statement on a function (or method), you can use `singledispatch()` (or `singledispatchmethod()`). Suppose you create different versions of the same function where each version did something different based on what the *type* of the argument is. Each version of the function has the same function name. When you call the function, the function will determine the type of the argument and apply the correct version of the function on the argument. Take a look at `4_Functional_Python.ipynb` for an example."
   ]
  }
 ],
 "metadata": {
  "kernelspec": {
   "display_name": "Python 3",
   "language": "python",
   "name": "python3"
  },
  "language_info": {
   "codemirror_mode": {
    "name": "ipython",
    "version": 3
   },
   "file_extension": ".py",
   "mimetype": "text/x-python",
   "name": "python",
   "nbconvert_exporter": "python",
   "pygments_lexer": "ipython3",
   "version": "3.8.3"
  }
 },
 "nbformat": 4,
 "nbformat_minor": 2
}
