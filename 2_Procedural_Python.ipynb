{
 "cells": [
  {
   "cell_type": "markdown",
   "metadata": {},
   "source": [
    "# Procedural Programming (really Control Flow)\n",
    "#### Boring, Academic Definition (Nobody Cares Except Professors and Pedantic, Technical Interviewers...):\n",
    "Procedural Programming can be defined as a programming model (derived from structured programming), which focuses on calling procedures. **Procedures**, also known as routines, subroutines or **functions**, simply consist of a series of computational steps to be carried out.\n",
    "#### Reality:\n",
    "Simple, fairly boring code that just works well: tell the computer what to do step-by-step with control flow using conditions (`if/elif/else`), loops/iteration (`for/while/else`), \"jumping\" (`continue/break/return/pass`), and exception handling (`try/except/else/finally`). This notebook will focus on mastering **control flow** inside and outside a function.  Don't be like Bruce Lee, be an Airbender; be like water, bend the (control) flow to your will."
   ]
  },
  {
   "cell_type": "markdown",
   "metadata": {},
   "source": [
    "## I want to EXPRESS my STATEMENTS clearly\n",
    "Know the difference between an expression and statement.\n",
    "* expression: evaluates to something or returns a value (and thus can be assigned to a variable): \n",
    "    - `1 + 1`\n",
    "    - `range(10)`\n",
    "    - all function calls: \n",
    "        - `sum(range(10))`\n",
    "        - `\" \".join([\"Python\", \"is\", \"the\", \"best\"])`\n",
    "* statements: do something, but not always assignable: \n",
    "    - `if`\n",
    "    - `try/except`\n",
    "    - `pass`\n",
    "    - `break`\n",
    "    - `continue`\n",
    "    - `del`\n",
    "    - `return`\n",
    "    - `def func`\n",
    "    - `class SomeClass`\n",
    "\n",
    "Technically speaking, all expressions are statements. \n",
    "\n",
    "Here's a trick: \n",
    "- If something is assignable, then it is an expression, and thus a statement. \n",
    "- If something is not assignable, then it is only a statement."
   ]
  },
  {
   "cell_type": "code",
   "execution_count": 1,
   "metadata": {},
   "outputs": [
    {
     "name": "stdout",
     "output_type": "stream",
     "text": [
      "3\n"
     ]
    }
   ],
   "source": [
    "# Expressions/functions can take parentheses to stretch the body across multiple lines\n",
    "print(\n",
    "    1 \n",
    "    + \n",
    "    2)"
   ]
  },
  {
   "cell_type": "code",
   "execution_count": 5,
   "metadata": {},
   "outputs": [
    {
     "name": "stdout",
     "output_type": "stream",
     "text": [
      "Hi\n",
      "None Thanks\n",
      "None Bye\n"
     ]
    }
   ],
   "source": [
    "# In Python 3, print() is a function. In Python 2, print is a statement.\n",
    "print(print(print(\"Hi\"), \"Thanks\"), \"Bye\") # this line COULD NOT run in Python 2"
   ]
  },
  {
   "cell_type": "code",
   "execution_count": 3,
   "metadata": {},
   "outputs": [],
   "source": [
    "# statements do not need parentheses \n",
    "def func():\n",
    "    return 1 # return is a statement, not a function. Don't put return(1) <- R people do this"
   ]
  },
  {
   "cell_type": "code",
   "execution_count": 4,
   "metadata": {},
   "outputs": [
    {
     "ename": "AssertionError",
     "evalue": "This is False",
     "output_type": "error",
     "traceback": [
      "\u001b[1;31m---------------------------------------------------------------------------\u001b[0m",
      "\u001b[1;31mAssertionError\u001b[0m                            Traceback (most recent call last)",
      "\u001b[1;32mc:\\Users\\yang4\\OneDrive\\Desktop\\github\\Advanced-Python\\2_Procedural_Python.ipynb Cell 7\u001b[0m line \u001b[0;36m1\n\u001b[1;32m----> <a href='vscode-notebook-cell:/c%3A/Users/yang4/OneDrive/Desktop/github/Advanced-Python/2_Procedural_Python.ipynb#W6sZmlsZQ%3D%3D?line=0'>1</a>\u001b[0m \u001b[39massert\u001b[39;00m \u001b[39mFalse\u001b[39;00m, \u001b[39m\"\u001b[39m\u001b[39mThis is False\u001b[39m\u001b[39m\"\u001b[39m \u001b[39m# assert is statement\u001b[39;00m\n",
      "\u001b[1;31mAssertionError\u001b[0m: This is False"
     ]
    }
   ],
   "source": [
    "assert False, \"This is False\" # assert is statement"
   ]
  },
  {
   "cell_type": "code",
   "execution_count": 8,
   "metadata": {},
   "outputs": [
    {
     "name": "stderr",
     "output_type": "stream",
     "text": [
      "<>:1: SyntaxWarning: assertion is always true, perhaps remove parentheses?\n",
      "<>:1: SyntaxWarning: assertion is always true, perhaps remove parentheses?\n",
      "C:\\Users\\yang4\\AppData\\Local\\Temp\\ipykernel_42916\\1728994710.py:1: SyntaxWarning: assertion is always true, perhaps remove parentheses?\n",
      "  assert(False, \"This is False\") # what happened?\n"
     ]
    }
   ],
   "source": [
    "assert(False, \"This is False\") # what happened?"
   ]
  },
  {
   "cell_type": "markdown",
   "metadata": {},
   "source": [
    "## `pass` my turn\n",
    "`pass` is a no-op (which stands for \"no operation\") and is used in two ways:\n",
    "* tell the computer to do nothing\n",
    "* temporary placeholder to fill with actual code later.\n",
    "\n",
    "`pass` is a statement--it cannot be saved. If you want to be *cute/special/different*, you can use ... (which is called Ellipsis) instead of pass--but nobody does this."
   ]
  },
  {
   "cell_type": "code",
   "execution_count": 9,
   "metadata": {},
   "outputs": [],
   "source": [
    "try:\n",
    "    1 / 0\n",
    "except:\n",
    "    pass # keep going no matter way. Don't have a fatal exception"
   ]
  },
  {
   "cell_type": "code",
   "execution_count": 10,
   "metadata": {},
   "outputs": [],
   "source": [
    "def foo():\n",
    "    pass # fill in later"
   ]
  },
  {
   "cell_type": "code",
   "execution_count": 12,
   "metadata": {},
   "outputs": [
    {
     "ename": "SyntaxError",
     "evalue": "invalid syntax (181451224.py, line 1)",
     "output_type": "error",
     "traceback": [
      "\u001b[1;36m  Cell \u001b[1;32mIn[12], line 1\u001b[1;36m\u001b[0m\n\u001b[1;33m    x = pass\u001b[0m\n\u001b[1;37m        ^\u001b[0m\n\u001b[1;31mSyntaxError\u001b[0m\u001b[1;31m:\u001b[0m invalid syntax\n"
     ]
    }
   ],
   "source": [
    "x = pass"
   ]
  },
  {
   "cell_type": "code",
   "execution_count": 13,
   "metadata": {},
   "outputs": [],
   "source": [
    "# using Ellipsis instead of pass\n",
    "try:\n",
    "    1 / 0\n",
    "except:\n",
    "    ... # keep going no matter way. Don't have a fatal exception\n",
    "\n",
    "def foo():\n",
    "    ... # fill in later"
   ]
  },
  {
   "cell_type": "markdown",
   "metadata": {},
   "source": [
    "## Do you want to take a `break` or `continue`?\n",
    "What is the difference between break or continue? They both exist inside loops (`for` and `while`).\n",
    "* `break`: when you want to stop the loop immediately.\n",
    "* `continue`: skip the rest of the body of the loop and go immediately back to the top of the loop with the next iteration."
   ]
  },
  {
   "cell_type": "code",
   "execution_count": 15,
   "metadata": {},
   "outputs": [
    {
     "data": {
      "text/plain": [
       "[0, 1, 2]"
      ]
     },
     "execution_count": 15,
     "metadata": {},
     "output_type": "execute_result"
    }
   ],
   "source": [
    "accumulator = []\n",
    "for i in range(5):\n",
    "    if i == 3:\n",
    "        break # immediately \"break\" out of the loop\n",
    "    accumulator.append(i)\n",
    "accumulator"
   ]
  },
  {
   "cell_type": "code",
   "execution_count": 17,
   "metadata": {},
   "outputs": [
    {
     "data": {
      "text/plain": [
       "[0, 1, 2, 4]"
      ]
     },
     "execution_count": 17,
     "metadata": {},
     "output_type": "execute_result"
    }
   ],
   "source": [
    "accumulator = []\n",
    "for i in range(5):\n",
    "    if i == 3:\n",
    "        continue # go back to the top of the loop, you can think of `continue` as `skip`\n",
    "    accumulator.append(i)\n",
    "accumulator"
   ]
  },
  {
   "cell_type": "markdown",
   "metadata": {},
   "source": [
    "## The power of `else`!\n",
    "What `else` is cool?\n",
    "* `if/elif/else`\n",
    "* `for/else`\n",
    "* `while/else`\n",
    "* `try/except/else/finally`\n",
    "\n",
    "#### `if/elif/else` construct\n",
    "This is the most common type of control flow and is used for branching:\n",
    "- `if` a certain condition is true, do this. \n",
    "- `elif` (which stands for \"else if\") a different condition is true, do that. \n",
    "- If none of the previous conditions are true, then do `else`. You may use any number (0, 1, 2, ..) of `elif` clauses, but only at most only one `else` clause.\n",
    "\n",
    "Be careful about using `if/if/if/...` vs `if/elif/elif/...`, especially for non-mutually exclusive conditions. \n",
    "- In `if/if/if/...`, multiple clauses can be triggered.\n",
    "- In `if/elif/elif/...`, only the first sufficient condition will trigger its respective clause, so the order of conditions matters.\n",
    "\n",
    "Note that both `if/else` and `if/elif/elif/.../else` are triggered by only one condition.\n",
    "\n",
    "A good exercise to test understanding of `if/elif/else` control flow is the Fizz Buzz test:\n",
    "- If the number is multiple of 3, print “Fizz”.\n",
    "- If the number is a multiple of 5, print “Buzz”.\n",
    "- If the number is both a multiple of 3 and 5, print \"FizzBuzz\".\n",
    "- Otherwise, print the original number."
   ]
  },
  {
   "cell_type": "code",
   "execution_count": 18,
   "metadata": {},
   "outputs": [],
   "source": [
    "def fizzbuzz_wrong1(num): # multiple conditions can be triggered\n",
    "    if num % 3 == 0:\n",
    "        print(\"Fizz\")\n",
    "    if num % 5 == 0:\n",
    "        print(\"Buzz\")\n",
    "    if (num % 3 == 0) and (num % 5 == 0):\n",
    "        print(\"FizzBuzz\")\n",
    "    else:\n",
    "        print(num)\n",
    "\n",
    "def fizzbuzz_wrong2(num): # EXACTLY 1 condition can be triggered\n",
    "    if num % 3 == 0:\n",
    "        print(\"Fizz\")\n",
    "    elif num % 5 == 0:\n",
    "        print(\"Buzz\")\n",
    "    elif (num % 3 == 0) and (num % 5 == 0):\n",
    "        print(\"FizzBuzz\")\n",
    "    else:\n",
    "        print(num)\n",
    "\n",
    "def fizzbuzz_correct(num): # EXACTLY 1 condition can be triggered\n",
    "    if (num % 3 == 0) and (num % 5 == 0):\n",
    "        print(\"FizzBuzz\")\n",
    "    elif num % 3 == 0:\n",
    "        print(\"Fizz\")\n",
    "    elif num % 5 == 0:\n",
    "        print(\"Buzz\")\n",
    "    else:\n",
    "        print(num)"
   ]
  },
  {
   "cell_type": "code",
   "execution_count": 19,
   "metadata": {},
   "outputs": [
    {
     "name": "stdout",
     "output_type": "stream",
     "text": [
      "2\n",
      "2\n",
      "2\n"
     ]
    }
   ],
   "source": [
    "# so far, all look okay\n",
    "fizzbuzz_wrong1(2)\n",
    "fizzbuzz_wrong2(2)\n",
    "fizzbuzz_correct(2)"
   ]
  },
  {
   "cell_type": "code",
   "execution_count": 20,
   "metadata": {},
   "outputs": [
    {
     "name": "stdout",
     "output_type": "stream",
     "text": [
      "Fizz\n",
      "3\n"
     ]
    }
   ],
   "source": [
    "fizzbuzz_wrong1(3) # definitely wrong"
   ]
  },
  {
   "cell_type": "code",
   "execution_count": 21,
   "metadata": {},
   "outputs": [
    {
     "name": "stdout",
     "output_type": "stream",
     "text": [
      "Fizz\n"
     ]
    }
   ],
   "source": [
    "fizzbuzz_wrong2(3) # still looks okay"
   ]
  },
  {
   "cell_type": "code",
   "execution_count": 22,
   "metadata": {},
   "outputs": [
    {
     "name": "stdout",
     "output_type": "stream",
     "text": [
      "Fizz\n"
     ]
    }
   ],
   "source": [
    "fizzbuzz_correct(3) # still looks okay"
   ]
  },
  {
   "cell_type": "code",
   "execution_count": 23,
   "metadata": {},
   "outputs": [
    {
     "name": "stdout",
     "output_type": "stream",
     "text": [
      "Fizz\n",
      "Buzz\n",
      "FizzBuzz\n"
     ]
    }
   ],
   "source": [
    "fizzbuzz_wrong1(15) # faulty implementation: should have printed only \"FizzBuzz\""
   ]
  },
  {
   "cell_type": "code",
   "execution_count": 24,
   "metadata": {},
   "outputs": [
    {
     "name": "stdout",
     "output_type": "stream",
     "text": [
      "Fizz\n"
     ]
    }
   ],
   "source": [
    "fizzbuzz_wrong2(15) # faulty implementation: should have printed \"FizzBuzz\""
   ]
  },
  {
   "cell_type": "code",
   "execution_count": 25,
   "metadata": {},
   "outputs": [
    {
     "name": "stdout",
     "output_type": "stream",
     "text": [
      "FizzBuzz\n"
     ]
    }
   ],
   "source": [
    "fizzbuzz_correct(15) # correct implementation and order matters in if/elif"
   ]
  },
  {
   "cell_type": "markdown",
   "metadata": {},
   "source": [
    "#### `for/else` construct\n",
    "Most people are aware of `for` loops in Python. Most Python programmers are not aware of `for/else`. The `else` clause executes only if the loop completes normally; this means that the loop did not encounter a `break` statement. `for/else` is useful when you want to determine whether a loop had:\n",
    "* an \"early\" exit due to `break`/`return` (because a certain condition was reached)\n",
    "* or a \"natural\" exit due to all elements have been looped through.\n",
    "\n",
    "Instead of using `for/else`, you can use a flag-based approach instead.\n",
    "\n",
    "_Fun fact:_ Raymond Hettinger (a core Python developer) said in hindsight, this use case of `else` should have been called `nobreak` instead."
   ]
  },
  {
   "cell_type": "code",
   "execution_count": 26,
   "metadata": {},
   "outputs": [],
   "source": [
    "# early break\n",
    "for i in range(10):\n",
    "    if i == 5:\n",
    "        break\n",
    "else: # basically nobreak\n",
    "    print(\"ALL ITERATIONS WERE LOOPED\") # not executed"
   ]
  },
  {
   "cell_type": "code",
   "execution_count": 29,
   "metadata": {},
   "outputs": [
    {
     "name": "stdout",
     "output_type": "stream",
     "text": [
      "0\n",
      "1\n",
      "2\n",
      "3\n",
      "4\n",
      "5\n",
      "6\n",
      "7\n",
      "8\n",
      "9\n",
      "ALL ITERATIONS WERE LOOPED\n"
     ]
    }
   ],
   "source": [
    "# make sure all elements have been iterated through normally\n",
    "for i in range(10):\n",
    "    print(i)\n",
    "else:\n",
    "    print(\"ALL ITERATIONS WERE LOOPED\") # `else` is executed"
   ]
  },
  {
   "cell_type": "code",
   "execution_count": 31,
   "metadata": {},
   "outputs": [
    {
     "name": "stdout",
     "output_type": "stream",
     "text": [
      "NO EVEN NUMBER SEEN\n"
     ]
    }
   ],
   "source": [
    "# instead of a for/else, the alternative is flag-based approach to determine if a condition is reached\n",
    "even_number_seen_flag = None # this flag is set when a condition is reached\n",
    "for i in range(1, 10, 2):\n",
    "    if i % 2 == 0:\n",
    "        even_number_seen_flag = True\n",
    "        print(i)\n",
    "        break\n",
    "if not even_number_seen_flag: # flag is set, so execute body\n",
    "    print(\"NO EVEN NUMBER SEEN\")\n",
    "    # perhaps do an additional step"
   ]
  },
  {
   "cell_type": "code",
   "execution_count": 32,
   "metadata": {},
   "outputs": [
    {
     "name": "stdout",
     "output_type": "stream",
     "text": [
      "NO EVEN NUMBER SEEN\n"
     ]
    }
   ],
   "source": [
    "# using for/else instead of flag-based approach\n",
    "for i in range(1, 10, 2):\n",
    "    if i % 2 == 0:\n",
    "        print(i)\n",
    "        break\n",
    "else:\n",
    "    print(\"NO EVEN NUMBER SEEN\")\n",
    "    # perhaps do an additional step"
   ]
  },
  {
   "cell_type": "code",
   "execution_count": 33,
   "metadata": {},
   "outputs": [
    {
     "name": "stdout",
     "output_type": "stream",
     "text": [
      "2\n"
     ]
    }
   ],
   "source": [
    "# instead of a for/else, the alternative is flag-based approach to determine if a condition is reached\n",
    "even_number_seen_flag = None # this flag is set when a condition is reached\n",
    "for i in range(1, 10):\n",
    "    if i % 2 == 0:\n",
    "        print(i)\n",
    "        even_number_seen_flag = True\n",
    "        break\n",
    "if not even_number_seen_flag: # flag not set, so do not execute body\n",
    "    print(\"NO EVEN NUMBER SEEN\")\n",
    "    # perhaps do an additional step"
   ]
  },
  {
   "cell_type": "code",
   "execution_count": 34,
   "metadata": {},
   "outputs": [
    {
     "name": "stdout",
     "output_type": "stream",
     "text": [
      "2\n"
     ]
    }
   ],
   "source": [
    "# using for/else instead of flag-based approach\n",
    "for i in range(1, 10):\n",
    "    if i % 2 == 0:\n",
    "        print(i)\n",
    "        break\n",
    "else:\n",
    "    print(\"NO EVEN NUMBER SEEN\")\n",
    "    # perhaps do an additional step"
   ]
  },
  {
   "cell_type": "markdown",
   "metadata": {},
   "source": [
    "Basically, using `else` in a `for` loop saves you 2 lines (defining a flag variable and setting a flag variable once the condition is reached) and replaces 1 line (checking the status of the flag variable after the loop).\n",
    "\n",
    "#### `while/else` construct\n",
    "The equivalent `else` clause is also available for `while` loops. The `else` clause is only executed if the `while` loop finally hits a False condition, not when a `break` statement is encountered. Basically the same usage case as `for/else`--`while/else` allows you to determine how a loop exited: either early `break` or natural end of while loop.\n",
    "\n",
    "_Fun fact:_ Raymond Hettinger's suggestion for `nobreak` would also apply to the `else` in `while/else`."
   ]
  },
  {
   "cell_type": "code",
   "execution_count": 37,
   "metadata": {},
   "outputs": [
    {
     "name": "stdout",
     "output_type": "stream",
     "text": [
      "0\n",
      "1\n",
      "2\n",
      "3\n",
      "4\n"
     ]
    }
   ],
   "source": [
    "# early break\n",
    "i = 0\n",
    "while i < 10:\n",
    "    print(i)\n",
    "    i += 1\n",
    "    if i == 5:\n",
    "        break\n",
    "else: # basically nobreak\n",
    "    print(\"A micro-aggression? I am triggered!\") # thankfully not triggered"
   ]
  },
  {
   "cell_type": "code",
   "execution_count": 38,
   "metadata": {},
   "outputs": [
    {
     "name": "stdout",
     "output_type": "stream",
     "text": [
      "0\n",
      "1\n",
      "2\n",
      "3\n",
      "4\n",
      "5\n",
      "6\n",
      "7\n",
      "8\n",
      "9\n",
      "Everything is working normally\n"
     ]
    }
   ],
   "source": [
    "# condition naturally became False\n",
    "i = 0\n",
    "while i < 10:\n",
    "    print(i)\n",
    "    i += 1\n",
    "else:\n",
    "    print(\"Everything is working normally\")"
   ]
  },
  {
   "cell_type": "code",
   "execution_count": 39,
   "metadata": {},
   "outputs": [
    {
     "name": "stdout",
     "output_type": "stream",
     "text": [
      "0\n",
      "1\n",
      "2\n",
      "3\n",
      "4\n"
     ]
    }
   ],
   "source": [
    "# flag based approach\n",
    "early_break = None\n",
    "i = 0\n",
    "while i < 10:\n",
    "    print(i)\n",
    "    i += 1\n",
    "    if i == 5:\n",
    "        early_break = True\n",
    "        break\n",
    "if not early_break:\n",
    "    print(\"I did not break out early\")"
   ]
  },
  {
   "cell_type": "code",
   "execution_count": 40,
   "metadata": {},
   "outputs": [
    {
     "name": "stdout",
     "output_type": "stream",
     "text": [
      "0\n",
      "1\n",
      "2\n",
      "3\n",
      "4\n"
     ]
    }
   ],
   "source": [
    "# flag based approach\n",
    "i = 0\n",
    "while i < 10:\n",
    "    print(i)\n",
    "    i += 1\n",
    "    if i == 5:\n",
    "        break\n",
    "else:\n",
    "    print(\"I did not break out early\")"
   ]
  },
  {
   "cell_type": "markdown",
   "metadata": {},
   "source": [
    "_Small detour:_ Many procedural languages (that uses braces to denote the loop body) have a `do while` construct. Python does not have a `do while` loop since the creators of Python use indentation instead of braces and thus could not formulate the syntax for a `do while` loop.\n",
    "\n",
    "Fear not! You can effectively create the same construct as a `do while` loop by using an infinite loop (`while True`) and checking the *negation* of the loop condition at the bottom of the loop body to break out of the infinite loop.\n",
    "\n",
    "```C\n",
    "do { // do while in C\n",
    "    do_work();  \n",
    "} while (condition);\n",
    "```\n",
    "\n",
    "Effective replacement in Python\n",
    "```python\n",
    "while True:\n",
    "    do_work()    \n",
    "    if not condition: # notice that you have to check the opposite of the intended condition\n",
    "        break\n",
    "```\n",
    "If you have never seen a `do while` loop, don't worry about. Python programmers don't use it. This small detour was purely for completeness and as a neat trick. Python is magic! ✨"
   ]
  },
  {
   "cell_type": "markdown",
   "metadata": {},
   "source": [
    "#### `try/except/else/finally`\n",
    "You might of heard \"Oh noes! Don't use `try/except`. It is slow!\"\n",
    "\n",
    "(In Maury Povich's voice after a lie detector test) _That was a lie!_\n",
    "\n",
    "`try/except` is super *fast*, as fast as an `if` statement...that is, if (pun intended!) you don't hit an exception. It is only slightly slower if an exception is triggered."
   ]
  },
  {
   "cell_type": "code",
   "execution_count": 41,
   "metadata": {},
   "outputs": [
    {
     "name": "stdout",
     "output_type": "stream",
     "text": [
      "CPU times: total: 328 ms\n",
      "Wall time: 322 ms\n"
     ]
    }
   ],
   "source": [
    "%%time\n",
    "for i in range(10000000):\n",
    "    if i:\n",
    "        pass"
   ]
  },
  {
   "cell_type": "code",
   "execution_count": 42,
   "metadata": {},
   "outputs": [
    {
     "name": "stdout",
     "output_type": "stream",
     "text": [
      "CPU times: total: 312 ms\n",
      "Wall time: 316 ms\n"
     ]
    }
   ],
   "source": [
    "%%time\n",
    "# no time penalty\n",
    "for i in range(10000000):\n",
    "    try:\n",
    "        i\n",
    "    except:\n",
    "        pass"
   ]
  },
  {
   "cell_type": "code",
   "execution_count": 43,
   "metadata": {},
   "outputs": [
    {
     "name": "stdout",
     "output_type": "stream",
     "text": [
      "CPU times: total: 1.83 s\n",
      "Wall time: 1.84 s\n"
     ]
    }
   ],
   "source": [
    "%%time\n",
    "# less than a microsecond runtime penalty per exception raised\n",
    "for i in range(10000000):\n",
    "    try:\n",
    "        raise Exception\n",
    "    except:\n",
    "        pass"
   ]
  },
  {
   "cell_type": "markdown",
   "metadata": {},
   "source": [
    "#### The \"Pokemon Catch 'em All\" Exception\n",
    "When I was a (wee-little) intern many years ago, my mentor said, do you know about the \"Pokemon catch 'em all\" exception? The Pokemon catch 'em all exception is when you use a bare exception (`except:`/`except Exception:`/`except BaseException:`) instead of a specific exception type. Always specify a specific exception when you can because you don't want to catch a different exception that you did not expect."
   ]
  },
  {
   "cell_type": "code",
   "execution_count": 44,
   "metadata": {},
   "outputs": [
    {
     "data": {
      "text/plain": [
       "1.5"
      ]
     },
     "execution_count": 44,
     "metadata": {},
     "output_type": "execute_result"
    }
   ],
   "source": [
    "def how_divisive(x, y):\n",
    "    if (not isinstance(x, (int, float))) or (not isinstance(y, (int, float))):\n",
    "        raise TypeError(\"x and y have to be numeric!\")\n",
    "    return x / y\n",
    "\n",
    "how_divisive(3, 2)"
   ]
  },
  {
   "cell_type": "code",
   "execution_count": 46,
   "metadata": {},
   "outputs": [
    {
     "name": "stdout",
     "output_type": "stream",
     "text": [
      "This is to be expected\n"
     ]
    }
   ],
   "source": [
    "# do this\n",
    "try:\n",
    "    how_divisive(3, \"hi\")\n",
    "except TypeError:\n",
    "    print(\"This is to be expected\")"
   ]
  },
  {
   "cell_type": "code",
   "execution_count": 45,
   "metadata": {},
   "outputs": [
    {
     "name": "stdout",
     "output_type": "stream",
     "text": [
      "This is to be expected...or am I being lazy?\n"
     ]
    }
   ],
   "source": [
    "# don't do this\n",
    "try:\n",
    "    how_divisive(3, 0)\n",
    "except: # you wrote the code expecting TypeError, but you did not consider ZeroDivisionError\n",
    "    print(\"This is to be expected...or am I being lazy?\")"
   ]
  },
  {
   "cell_type": "markdown",
   "metadata": {},
   "source": [
    "#### Complex `try/except` examples\n",
    "* Multiple `Exception` clauses: do a different intervention per exception."
   ]
  },
  {
   "cell_type": "code",
   "execution_count": null,
   "metadata": {
    "scrolled": true
   },
   "outputs": [
    {
     "name": "stdout",
     "output_type": "stream",
     "text": [
      "Can I have your number?\n"
     ]
    }
   ],
   "source": [
    "try:\n",
    "    1 / 0\n",
    "except ZeroDivisionError:\n",
    "    print(\"Can I have your number?\")\n",
    "except KeyError: # You can have multiple `except` clauses\n",
    "    print(\"You trying to steal my key?\")"
   ]
  },
  {
   "cell_type": "code",
   "execution_count": null,
   "metadata": {},
   "outputs": [
    {
     "name": "stdout",
     "output_type": "stream",
     "text": [
      "You trying to steal my key?\n"
     ]
    }
   ],
   "source": [
    "try:\n",
    "    {}[\"unknown_key\"]\n",
    "except ZeroDivisionError:\n",
    "    print(\"Can I have your number?\")\n",
    "except KeyError: # You can have multiple `except` clauses\n",
    "    print(\"You trying to steal my key?\")"
   ]
  },
  {
   "cell_type": "markdown",
   "metadata": {},
   "source": [
    "* Multiple `Exception`s in one clause: do the same intervention for the specified exceptions."
   ]
  },
  {
   "cell_type": "code",
   "execution_count": null,
   "metadata": {},
   "outputs": [
    {
     "name": "stdout",
     "output_type": "stream",
     "text": [
      "You forgot my name? Or did you simply forget where you put it?\n"
     ]
    }
   ],
   "source": [
    "try:\n",
    "    x\n",
    "except (NameError, IndexError): # you can have multple exceptions in 1 clause\n",
    "    print(\"You forgot my name? Or did you simply forget where you put it?\")"
   ]
  },
  {
   "cell_type": "code",
   "execution_count": null,
   "metadata": {},
   "outputs": [
    {
     "name": "stdout",
     "output_type": "stream",
     "text": [
      "('You are the best',)\n"
     ]
    }
   ],
   "source": [
    "class YouAreExceptional(Exception): # this is how you create a custom exception\n",
    "    pass\n",
    "\n",
    "try:\n",
    "    raise YouAreExceptional(\"You are the best\")\n",
    "except Exception as e: # this is how you capture an exception and save it\n",
    "    print(e.args) # interrogate it for intel!"
   ]
  },
  {
   "cell_type": "markdown",
   "metadata": {},
   "source": [
    "#### What `else` to throw in, `finally`? `else` and `finally`\n",
    "* The `else` clause in `try/except` is executed only if no `Exception` is triggered.\n",
    "* The `finally` clause is always execute no matter what!\n",
    "\n",
    "You can have at most of one of each. Also, they are independent of each other, so you can have\n",
    "- no `else` and no `finally`,\n",
    "- `else` but no `finally`,\n",
    "- no `else` but `finally`,\n",
    "- both `else` and `finally`."
   ]
  },
  {
   "cell_type": "code",
   "execution_count": 47,
   "metadata": {},
   "outputs": [
    {
     "name": "stdout",
     "output_type": "stream",
     "text": [
      "Can I have your number?\n"
     ]
    }
   ],
   "source": [
    "# else: not triggered\n",
    "try:\n",
    "    1 / 0\n",
    "except ZeroDivisionError:\n",
    "    print(\"Can I have your number?\")\n",
    "else:\n",
    "    print(\"Only print if no exception hit\")"
   ]
  },
  {
   "cell_type": "code",
   "execution_count": 48,
   "metadata": {},
   "outputs": [
    {
     "name": "stdout",
     "output_type": "stream",
     "text": [
      "Only print if no exception hit\n"
     ]
    }
   ],
   "source": [
    "# else: triggered\n",
    "try:\n",
    "    0 / 1\n",
    "except ZeroDivisionError:\n",
    "    print(\"Can I have your number?\")\n",
    "else:\n",
    "    print(\"Only print if no exception hit\")"
   ]
  },
  {
   "cell_type": "code",
   "execution_count": 50,
   "metadata": {},
   "outputs": [
    {
     "name": "stdout",
     "output_type": "stream",
     "text": [
      "I will always run!\n"
     ]
    },
    {
     "data": {
      "text/plain": [
       "1"
      ]
     },
     "execution_count": 50,
     "metadata": {},
     "output_type": "execute_result"
    }
   ],
   "source": [
    "# finally we see `finally`!\n",
    "def always_return_1_no_matter_what():\n",
    "    try:\n",
    "        assert False, \"This has been Falsified!\"\n",
    "    finally: # run this no matter what, even if an Exception is triggered\n",
    "        print(\"I will always run!\")\n",
    "        return 1\n",
    "    \n",
    "always_return_1_no_matter_what()"
   ]
  },
  {
   "cell_type": "code",
   "execution_count": 51,
   "metadata": {},
   "outputs": [
    {
     "name": "stdout",
     "output_type": "stream",
     "text": [
      "('This has been Falsified!',)\n",
      "Attempted\n",
      "I will always run!\n"
     ]
    },
    {
     "data": {
      "text/plain": [
       "1"
      ]
     },
     "execution_count": 51,
     "metadata": {},
     "output_type": "execute_result"
    }
   ],
   "source": [
    "def always_return_1_no_matter_what():\n",
    "    try:\n",
    "        assert False, \"This has been Falsified!\"\n",
    "    except AssertionError as e:\n",
    "        print(e.args) # the print runs\n",
    "        return 2, print(\"Attempted\") # the return is attempted but not ultimately returned\n",
    "    finally: # run this no matter what, even if something else is \n",
    "        print(\"I will always run!\") # notice this print comes after the AssertionError's print\n",
    "        return 1\n",
    "\n",
    "    \n",
    "always_return_1_no_matter_what()"
   ]
  },
  {
   "cell_type": "markdown",
   "metadata": {},
   "source": [
    "I recently came across an interesting problem. I was writing a unit test where I anticipated a specific exception being raised. I wanted to test if:\n",
    "* when the condition is met, the desired exception is raised\n",
    "* when the condition is met and the desired exception is not raised, I am alerted\n",
    "* when the condition is met and an undesired exception is raised, I am alerted\n",
    "\n",
    "So my question is, \"How should I raise an exception if no desired exception is raised?\""
   ]
  },
  {
   "cell_type": "code",
   "execution_count": 52,
   "metadata": {},
   "outputs": [
    {
     "ename": "TypeError",
     "evalue": "You snake! Black adders will come bite you!",
     "output_type": "error",
     "traceback": [
      "\u001b[1;31m---------------------------------------------------------------------------\u001b[0m",
      "\u001b[1;31mTypeError\u001b[0m                                 Traceback (most recent call last)",
      "\u001b[1;32mc:\\Users\\yang4\\OneDrive\\Desktop\\github\\Advanced-Python\\2_Procedural_Python.ipynb Cell 58\u001b[0m line \u001b[0;36m6\n\u001b[0;32m      <a href='vscode-notebook-cell:/c%3A/Users/yang4/OneDrive/Desktop/github/Advanced-Python/2_Procedural_Python.ipynb#Y116sZmlsZQ%3D%3D?line=2'>3</a>\u001b[0m         \u001b[39mraise\u001b[39;00m \u001b[39mTypeError\u001b[39;00m(\u001b[39m\"\u001b[39m\u001b[39mYou snake! Black adders will come bite you!\u001b[39m\u001b[39m\"\u001b[39m)\n\u001b[0;32m      <a href='vscode-notebook-cell:/c%3A/Users/yang4/OneDrive/Desktop/github/Advanced-Python/2_Procedural_Python.ipynb#Y116sZmlsZQ%3D%3D?line=3'>4</a>\u001b[0m     \u001b[39mreturn\u001b[39;00m x \u001b[39m+\u001b[39m y\n\u001b[1;32m----> <a href='vscode-notebook-cell:/c%3A/Users/yang4/OneDrive/Desktop/github/Advanced-Python/2_Procedural_Python.ipynb#Y116sZmlsZQ%3D%3D?line=5'>6</a>\u001b[0m adder(\u001b[39m1\u001b[39;49m, \u001b[39m\"\u001b[39;49m\u001b[39m2\u001b[39;49m\u001b[39m\"\u001b[39;49m) \u001b[39m# except-able behavior ;-)\u001b[39;00m\n",
      "\u001b[1;32mc:\\Users\\yang4\\OneDrive\\Desktop\\github\\Advanced-Python\\2_Procedural_Python.ipynb Cell 58\u001b[0m line \u001b[0;36m3\n\u001b[0;32m      <a href='vscode-notebook-cell:/c%3A/Users/yang4/OneDrive/Desktop/github/Advanced-Python/2_Procedural_Python.ipynb#Y116sZmlsZQ%3D%3D?line=0'>1</a>\u001b[0m \u001b[39mdef\u001b[39;00m \u001b[39madder\u001b[39m(x, y):\n\u001b[0;32m      <a href='vscode-notebook-cell:/c%3A/Users/yang4/OneDrive/Desktop/github/Advanced-Python/2_Procedural_Python.ipynb#Y116sZmlsZQ%3D%3D?line=1'>2</a>\u001b[0m     \u001b[39mif\u001b[39;00m \u001b[39mtype\u001b[39m(x) \u001b[39m!=\u001b[39m \u001b[39mtype\u001b[39m(y):\n\u001b[1;32m----> <a href='vscode-notebook-cell:/c%3A/Users/yang4/OneDrive/Desktop/github/Advanced-Python/2_Procedural_Python.ipynb#Y116sZmlsZQ%3D%3D?line=2'>3</a>\u001b[0m         \u001b[39mraise\u001b[39;00m \u001b[39mTypeError\u001b[39;00m(\u001b[39m\"\u001b[39m\u001b[39mYou snake! Black adders will come bite you!\u001b[39m\u001b[39m\"\u001b[39m)\n\u001b[0;32m      <a href='vscode-notebook-cell:/c%3A/Users/yang4/OneDrive/Desktop/github/Advanced-Python/2_Procedural_Python.ipynb#Y116sZmlsZQ%3D%3D?line=3'>4</a>\u001b[0m     \u001b[39mreturn\u001b[39;00m x \u001b[39m+\u001b[39m y\n",
      "\u001b[1;31mTypeError\u001b[0m: You snake! Black adders will come bite you!"
     ]
    }
   ],
   "source": [
    "def adder(x, y):\n",
    "    if type(x) != type(y):\n",
    "        raise TypeError(\"You snake! Black adders will come bite you!\")\n",
    "    return x + y\n",
    "\n",
    "adder(1, \"2\") # except-able behavior ;-)"
   ]
  },
  {
   "cell_type": "code",
   "execution_count": 53,
   "metadata": {},
   "outputs": [
    {
     "name": "stdout",
     "output_type": "stream",
     "text": [
      "Whew, it worked!\n"
     ]
    }
   ],
   "source": [
    "# basically this is what I wanted but with nicer syntax\n",
    "try:\n",
    "    adder(1, \"2\")\n",
    "except TypeError: # this is the specific exception I expected, any other exception types will still be raised\n",
    "    print(\"Whew, it worked!\")\n",
    "else:\n",
    "    raise Exception(\"Something went wrong! Something exceptional should have happened\")"
   ]
  },
  {
   "cell_type": "code",
   "execution_count": 56,
   "metadata": {},
   "outputs": [],
   "source": [
    "# here's the solution, so much nicer\n",
    "import pytest\n",
    "\n",
    "with pytest.raises(TypeError): # don't raise an exception if the anticipated exception is raised\n",
    "    adder(1, \"2\")"
   ]
  },
  {
   "cell_type": "code",
   "execution_count": 57,
   "metadata": {},
   "outputs": [
    {
     "ename": "Failed",
     "evalue": "DID NOT RAISE <class 'TypeError'>",
     "output_type": "error",
     "traceback": [
      "\u001b[1;31m---------------------------------------------------------------------------\u001b[0m",
      "\u001b[1;31mFailed\u001b[0m                                    Traceback (most recent call last)",
      "\u001b[1;32mc:\\Users\\yang4\\OneDrive\\Desktop\\github\\Advanced-Python\\2_Procedural_Python.ipynb Cell 61\u001b[0m line \u001b[0;36m1\n\u001b[1;32m----> <a href='vscode-notebook-cell:/c%3A/Users/yang4/OneDrive/Desktop/github/Advanced-Python/2_Procedural_Python.ipynb#Y122sZmlsZQ%3D%3D?line=0'>1</a>\u001b[0m \u001b[39mwith\u001b[39;49;00m pytest\u001b[39m.\u001b[39;49mraises(\u001b[39mTypeError\u001b[39;49;00m): \u001b[39m# raise an exception if the anticipated exeption is not raised\u001b[39;49;00m\n\u001b[0;32m      <a href='vscode-notebook-cell:/c%3A/Users/yang4/OneDrive/Desktop/github/Advanced-Python/2_Procedural_Python.ipynb#Y122sZmlsZQ%3D%3D?line=1'>2</a>\u001b[0m     \u001b[39m1\u001b[39;49m \u001b[39m+\u001b[39;49m \u001b[39m1\u001b[39;49m\n",
      "    \u001b[1;31m[... skipping hidden 1 frame]\u001b[0m\n",
      "File \u001b[1;32mc:\\Users\\yang4\\AppData\\Local\\Programs\\Python\\Python311\\Lib\\site-packages\\_pytest\\outcomes.py:198\u001b[0m, in \u001b[0;36mfail\u001b[1;34m(reason, pytrace, msg)\u001b[0m\n\u001b[0;32m    196\u001b[0m __tracebackhide__ \u001b[39m=\u001b[39m \u001b[39mTrue\u001b[39;00m\n\u001b[0;32m    197\u001b[0m reason \u001b[39m=\u001b[39m _resolve_msg_to_reason(\u001b[39m\"\u001b[39m\u001b[39mfail\u001b[39m\u001b[39m\"\u001b[39m, reason, msg)\n\u001b[1;32m--> 198\u001b[0m \u001b[39mraise\u001b[39;00m Failed(msg\u001b[39m=\u001b[39mreason, pytrace\u001b[39m=\u001b[39mpytrace)\n",
      "\u001b[1;31mFailed\u001b[0m: DID NOT RAISE <class 'TypeError'>"
     ]
    }
   ],
   "source": [
    "with pytest.raises(TypeError): # raise an exception if the anticipated exeption is not raised\n",
    "    1 + 1"
   ]
  },
  {
   "cell_type": "code",
   "execution_count": 58,
   "metadata": {},
   "outputs": [
    {
     "ename": "ZeroDivisionError",
     "evalue": "division by zero",
     "output_type": "error",
     "traceback": [
      "\u001b[1;31m---------------------------------------------------------------------------\u001b[0m",
      "\u001b[1;31mZeroDivisionError\u001b[0m                         Traceback (most recent call last)",
      "\u001b[1;32mc:\\Users\\yang4\\OneDrive\\Desktop\\github\\Advanced-Python\\2_Procedural_Python.ipynb Cell 62\u001b[0m line \u001b[0;36m2\n\u001b[0;32m      <a href='vscode-notebook-cell:/c%3A/Users/yang4/OneDrive/Desktop/github/Advanced-Python/2_Procedural_Python.ipynb#Y123sZmlsZQ%3D%3D?line=0'>1</a>\u001b[0m \u001b[39mwith\u001b[39;00m pytest\u001b[39m.\u001b[39mraises(\u001b[39mTypeError\u001b[39;00m): \u001b[39m# raise an exception if the wrong exception is raised\u001b[39;00m\n\u001b[1;32m----> <a href='vscode-notebook-cell:/c%3A/Users/yang4/OneDrive/Desktop/github/Advanced-Python/2_Procedural_Python.ipynb#Y123sZmlsZQ%3D%3D?line=1'>2</a>\u001b[0m     \u001b[39m1\u001b[39;49m \u001b[39m/\u001b[39;49m \u001b[39m0\u001b[39;49m\n",
      "\u001b[1;31mZeroDivisionError\u001b[0m: division by zero"
     ]
    }
   ],
   "source": [
    "with pytest.raises(TypeError): # raise an exception if the wrong exception is raised\n",
    "    1 / 0"
   ]
  },
  {
   "cell_type": "markdown",
   "metadata": {},
   "source": [
    "#### In summary: `try/except/else/finally` in its full beauty"
   ]
  },
  {
   "cell_type": "code",
   "execution_count": null,
   "metadata": {},
   "outputs": [
    {
     "name": "stdout",
     "output_type": "stream",
     "text": [
      "I'm going to trigger an exception\n",
      "Harley Quinn: I just wanna say something...\n"
     ]
    },
    {
     "ename": "Exception",
     "evalue": "Triggered!",
     "output_type": "error",
     "traceback": [
      "\u001b[1;31m---------------------------------------------------------------------------\u001b[0m",
      "\u001b[1;31mException\u001b[0m                                 Traceback (most recent call last)",
      "\u001b[1;32m<ipython-input-20-be16d0e98a11>\u001b[0m in \u001b[0;36m<module>\u001b[1;34m()\u001b[0m\n\u001b[0;32m     11\u001b[0m \u001b[1;32melse\u001b[0m\u001b[1;33m:\u001b[0m\u001b[1;33m\u001b[0m\u001b[0m\n\u001b[0;32m     12\u001b[0m     \u001b[0mprint\u001b[0m\u001b[1;33m(\u001b[0m\u001b[1;34m\"I'm going to trigger an exception\"\u001b[0m\u001b[1;33m)\u001b[0m\u001b[1;33m\u001b[0m\u001b[0m\n\u001b[1;32m---> 13\u001b[1;33m     \u001b[1;32mraise\u001b[0m \u001b[0mException\u001b[0m\u001b[1;33m(\u001b[0m\u001b[1;34m\"Triggered!\"\u001b[0m\u001b[1;33m)\u001b[0m\u001b[1;33m\u001b[0m\u001b[0m\n\u001b[0m\u001b[0;32m     14\u001b[0m \u001b[1;32mfinally\u001b[0m\u001b[1;33m:\u001b[0m\u001b[1;33m\u001b[0m\u001b[0m\n\u001b[0;32m     15\u001b[0m     \u001b[0mprint\u001b[0m\u001b[1;33m(\u001b[0m\u001b[1;34m\"Harley Quinn: I just wanna say something...\"\u001b[0m\u001b[1;33m)\u001b[0m \u001b[1;31m# does print before the `else` clause raises the Exception\u001b[0m\u001b[1;33m\u001b[0m\u001b[0m\n",
      "\u001b[1;31mException\u001b[0m: Triggered!"
     ]
    }
   ],
   "source": [
    "try:\n",
    "    pass\n",
    "except ZeroDivisionError:\n",
    "    print(\"Can I have your number?\")\n",
    "except KeyError: # You can have multiple `except` clauses\n",
    "    print(\"You trying to steal my key?\")\n",
    "except (NameError, IndexError): # you can have multple exceptions in 1 clause\n",
    "    print(\"You forgot my name? Or did you simply forget where you put it?\")\n",
    "except:\n",
    "    print(\"Catch any remaining exception types\")\n",
    "else:\n",
    "    print(\"I'm going to trigger an exception\")\n",
    "    raise Exception(\"Triggered!\")\n",
    "finally:\n",
    "    print(\"Harley Quinn: I just wanna say something...\") # does print() before the `else` clause raises the Exception"
   ]
  },
  {
   "cell_type": "code",
   "execution_count": 59,
   "metadata": {},
   "outputs": [
    {
     "name": "stdout",
     "output_type": "stream",
     "text": [
      "I'm going to trigger an exception\n",
      "I'm going to silence any exceptions\n"
     ]
    },
    {
     "data": {
      "text/plain": [
       "1"
      ]
     },
     "execution_count": 59,
     "metadata": {},
     "output_type": "execute_result"
    }
   ],
   "source": [
    "def always_return_1():\n",
    "    try:\n",
    "        pass\n",
    "    except ZeroDivisionError:\n",
    "        print(\"Can I have your number?\")\n",
    "    except KeyError: # You can have multiple `except` clauses\n",
    "        print(\"You trying to steal my key?\")\n",
    "    except (NameError, IndexError): # you can have multple exceptions in 1 clause\n",
    "        print(\"You forgot my name? Or did you simply forget where you put it?\")\n",
    "    except:\n",
    "        print(\"Catch any remaining exception types\")\n",
    "    else:\n",
    "        print(\"I'm going to trigger an exception\")\n",
    "        raise Exception(\"Triggered!\")\n",
    "    finally:\n",
    "        print(\"I'm going to silence any exceptions\") # does print() before the `else` clause raises the Exception\n",
    "        return 1\n",
    "    \n",
    "always_return_1()"
   ]
  },
  {
   "cell_type": "markdown",
   "metadata": {},
   "source": [
    "#### Context for using `finally`: An Actual Use Case\n",
    "When would you use `finally`? `finally` is used when you want to clean up your environment/release resources: close files, close database connections, write final log messages, release locks, etc. For example, if you are connected to a SQL database but hit an exception during a query, you might have not released the database connection. A database has a limited number of connections it can handle at any one time. Hence, if Python does not release the connection to the database, nobody else can actually query the database. The `finally` block can be used to close a database connection, regardless of whether or not the SQL query completed successfully.\n",
    "\n",
    "Well, that sounds awfully like a context manager such as `with open(my_file) as f:` where the file will close itself (no matter what) when the body of the clause is finished executing. Your hunch is correct: `try/finally` can be used to create your own custom context managers.\n",
    "\n",
    "Here's an example where if you did not use a context manager for opening a file and hit an error, the file (descriptor) does not automatically close and your message might be lost."
   ]
  },
  {
   "cell_type": "code",
   "execution_count": 64,
   "metadata": {},
   "outputs": [
    {
     "ename": "ZeroDivisionError",
     "evalue": "division by zero",
     "output_type": "error",
     "traceback": [
      "\u001b[1;31m---------------------------------------------------------------------------\u001b[0m",
      "\u001b[1;31mZeroDivisionError\u001b[0m                         Traceback (most recent call last)",
      "\u001b[1;32mc:\\Users\\yang4\\OneDrive\\Desktop\\github\\Advanced-Python\\2_Procedural_Python.ipynb Cell 67\u001b[0m line \u001b[0;36m8\n\u001b[0;32m      <a href='vscode-notebook-cell:/c%3A/Users/yang4/OneDrive/Desktop/github/Advanced-Python/2_Procedural_Python.ipynb#Y131sZmlsZQ%3D%3D?line=4'>5</a>\u001b[0m     opened_file\u001b[39m.\u001b[39mwrite(\u001b[39m\"\u001b[39m\u001b[39mmy very important secret message is ...\u001b[39m\u001b[39m\"\u001b[39m) \u001b[39m# these lines are not executed\u001b[39;00m\n\u001b[0;32m      <a href='vscode-notebook-cell:/c%3A/Users/yang4/OneDrive/Desktop/github/Advanced-Python/2_Procedural_Python.ipynb#Y131sZmlsZQ%3D%3D?line=5'>6</a>\u001b[0m     opened_file\u001b[39m.\u001b[39mclose() \u001b[39m# these lines are not executed\u001b[39;00m\n\u001b[1;32m----> <a href='vscode-notebook-cell:/c%3A/Users/yang4/OneDrive/Desktop/github/Advanced-Python/2_Procedural_Python.ipynb#Y131sZmlsZQ%3D%3D?line=7'>8</a>\u001b[0m bad_open(\u001b[39m\"\u001b[39;49m\u001b[39msilly.txt\u001b[39;49m\u001b[39m\"\u001b[39;49m)\n",
      "\u001b[1;32mc:\\Users\\yang4\\OneDrive\\Desktop\\github\\Advanced-Python\\2_Procedural_Python.ipynb Cell 67\u001b[0m line \u001b[0;36m4\n\u001b[0;32m      <a href='vscode-notebook-cell:/c%3A/Users/yang4/OneDrive/Desktop/github/Advanced-Python/2_Procedural_Python.ipynb#Y131sZmlsZQ%3D%3D?line=1'>2</a>\u001b[0m opened_file \u001b[39m=\u001b[39m \u001b[39mopen\u001b[39m(filename, \u001b[39m\"\u001b[39m\u001b[39mw\u001b[39m\u001b[39m\"\u001b[39m)\n\u001b[0;32m      <a href='vscode-notebook-cell:/c%3A/Users/yang4/OneDrive/Desktop/github/Advanced-Python/2_Procedural_Python.ipynb#Y131sZmlsZQ%3D%3D?line=2'>3</a>\u001b[0m opened_file\u001b[39m.\u001b[39mwrite(\u001b[39m\"\u001b[39m\u001b[39mwant to hear a secret?\u001b[39m\u001b[39m\"\u001b[39m) \u001b[39m# this message is lost\u001b[39;00m\n\u001b[1;32m----> <a href='vscode-notebook-cell:/c%3A/Users/yang4/OneDrive/Desktop/github/Advanced-Python/2_Procedural_Python.ipynb#Y131sZmlsZQ%3D%3D?line=3'>4</a>\u001b[0m \u001b[39m1\u001b[39;49m \u001b[39m/\u001b[39;49m \u001b[39m0\u001b[39;49m \u001b[39m# pretend here is some code you wrote but didn't expect to break\u001b[39;00m\n\u001b[0;32m      <a href='vscode-notebook-cell:/c%3A/Users/yang4/OneDrive/Desktop/github/Advanced-Python/2_Procedural_Python.ipynb#Y131sZmlsZQ%3D%3D?line=4'>5</a>\u001b[0m opened_file\u001b[39m.\u001b[39mwrite(\u001b[39m\"\u001b[39m\u001b[39mmy very important secret message is ...\u001b[39m\u001b[39m\"\u001b[39m) \u001b[39m# these lines are not executed\u001b[39;00m\n\u001b[0;32m      <a href='vscode-notebook-cell:/c%3A/Users/yang4/OneDrive/Desktop/github/Advanced-Python/2_Procedural_Python.ipynb#Y131sZmlsZQ%3D%3D?line=5'>6</a>\u001b[0m opened_file\u001b[39m.\u001b[39mclose()\n",
      "\u001b[1;31mZeroDivisionError\u001b[0m: division by zero"
     ]
    }
   ],
   "source": [
    "def bad_open(filename):\n",
    "    opened_file = open(filename, \"w\")\n",
    "    opened_file.write(\"want to hear a secret?\") # this message is lost\n",
    "    1 / 0 # pretend here is some code you wrote but didn't expect to break\n",
    "    opened_file.write(\"my very important secret message is ...\") # these lines are not executed\n",
    "    opened_file.close() # these lines are not executed\n",
    "\n",
    "bad_open(\"silly.txt\")"
   ]
  },
  {
   "cell_type": "code",
   "execution_count": 61,
   "metadata": {},
   "outputs": [
    {
     "name": "stdout",
     "output_type": "stream",
     "text": [
      "\n"
     ]
    }
   ],
   "source": [
    "with open(\"silly.txt\", \"r\") as f:\n",
    "    print(f.read()) # the message is lost; file is empty"
   ]
  },
  {
   "cell_type": "code",
   "execution_count": null,
   "metadata": {},
   "outputs": [],
   "source": [
    "%%bash\n",
    "rm silly.txt # can't even delete the file because file descriptor is not closed"
   ]
  },
  {
   "cell_type": "code",
   "execution_count": 63,
   "metadata": {},
   "outputs": [],
   "source": [
    "# restart notebook"
   ]
  },
  {
   "cell_type": "code",
   "execution_count": 66,
   "metadata": {},
   "outputs": [
    {
     "ename": "ZeroDivisionError",
     "evalue": "division by zero",
     "output_type": "error",
     "traceback": [
      "\u001b[1;31m---------------------------------------------------------------------------\u001b[0m",
      "\u001b[1;31mZeroDivisionError\u001b[0m                         Traceback (most recent call last)",
      "\u001b[1;32mc:\\Users\\yang4\\OneDrive\\Desktop\\github\\Advanced-Python\\2_Procedural_Python.ipynb Cell 71\u001b[0m line \u001b[0;36m7\n\u001b[0;32m      <a href='vscode-notebook-cell:/c%3A/Users/yang4/OneDrive/Desktop/github/Advanced-Python/2_Procedural_Python.ipynb#Y135sZmlsZQ%3D%3D?line=3'>4</a>\u001b[0m         \u001b[39m1\u001b[39m \u001b[39m/\u001b[39m \u001b[39m0\u001b[39m \u001b[39m# pretend here is some code you wrote but didn't expect to break\u001b[39;00m\n\u001b[0;32m      <a href='vscode-notebook-cell:/c%3A/Users/yang4/OneDrive/Desktop/github/Advanced-Python/2_Procedural_Python.ipynb#Y135sZmlsZQ%3D%3D?line=4'>5</a>\u001b[0m         opened_file\u001b[39m.\u001b[39mwrite(\u001b[39m\"\u001b[39m\u001b[39mmy very important secret message is ...\u001b[39m\u001b[39m\"\u001b[39m) \u001b[39m# these lines are not executed\u001b[39;00m\n\u001b[1;32m----> <a href='vscode-notebook-cell:/c%3A/Users/yang4/OneDrive/Desktop/github/Advanced-Python/2_Procedural_Python.ipynb#Y135sZmlsZQ%3D%3D?line=6'>7</a>\u001b[0m good_open(\u001b[39m\"\u001b[39;49m\u001b[39msilly.txt\u001b[39;49m\u001b[39m\"\u001b[39;49m)\n",
      "\u001b[1;32mc:\\Users\\yang4\\OneDrive\\Desktop\\github\\Advanced-Python\\2_Procedural_Python.ipynb Cell 71\u001b[0m line \u001b[0;36m4\n\u001b[0;32m      <a href='vscode-notebook-cell:/c%3A/Users/yang4/OneDrive/Desktop/github/Advanced-Python/2_Procedural_Python.ipynb#Y135sZmlsZQ%3D%3D?line=1'>2</a>\u001b[0m \u001b[39mwith\u001b[39;00m \u001b[39mopen\u001b[39m(filename, \u001b[39m\"\u001b[39m\u001b[39mw\u001b[39m\u001b[39m\"\u001b[39m) \u001b[39mas\u001b[39;00m opened_file:\n\u001b[0;32m      <a href='vscode-notebook-cell:/c%3A/Users/yang4/OneDrive/Desktop/github/Advanced-Python/2_Procedural_Python.ipynb#Y135sZmlsZQ%3D%3D?line=2'>3</a>\u001b[0m     opened_file\u001b[39m.\u001b[39mwrite(\u001b[39m\"\u001b[39m\u001b[39mwhat to hear a secret?\u001b[39m\u001b[39m\"\u001b[39m) \u001b[39m# this message is lost\u001b[39;00m\n\u001b[1;32m----> <a href='vscode-notebook-cell:/c%3A/Users/yang4/OneDrive/Desktop/github/Advanced-Python/2_Procedural_Python.ipynb#Y135sZmlsZQ%3D%3D?line=3'>4</a>\u001b[0m     \u001b[39m1\u001b[39;49m \u001b[39m/\u001b[39;49m \u001b[39m0\u001b[39;49m \u001b[39m# pretend here is some code you wrote but didn't expect to break\u001b[39;00m\n\u001b[0;32m      <a href='vscode-notebook-cell:/c%3A/Users/yang4/OneDrive/Desktop/github/Advanced-Python/2_Procedural_Python.ipynb#Y135sZmlsZQ%3D%3D?line=4'>5</a>\u001b[0m     opened_file\u001b[39m.\u001b[39mwrite(\u001b[39m\"\u001b[39m\u001b[39mmy very important secret message is ...\u001b[39m\u001b[39m\"\u001b[39m)\n",
      "\u001b[1;31mZeroDivisionError\u001b[0m: division by zero"
     ]
    }
   ],
   "source": [
    "def good_open(filename):\n",
    "    with open(filename, \"w\") as opened_file:\n",
    "        opened_file.write(\"what to hear a secret?\") # this message is lost\n",
    "        1 / 0 # pretend here is some code you wrote but didn't expect to break\n",
    "        opened_file.write(\"my very important secret message is ...\") # these lines are not executed\n",
    "\n",
    "good_open(\"silly.txt\")"
   ]
  },
  {
   "cell_type": "code",
   "execution_count": 67,
   "metadata": {},
   "outputs": [
    {
     "name": "stdout",
     "output_type": "stream",
     "text": [
      "want to hear a secret?\n"
     ]
    }
   ],
   "source": [
    "with open(\"silly.txt\", \"r\") as f:\n",
    "    print(f.read()) # message is kept"
   ]
  },
  {
   "cell_type": "code",
   "execution_count": null,
   "metadata": {},
   "outputs": [],
   "source": [
    "%%bash\n",
    "rm silly.txt # everything works fine"
   ]
  },
  {
   "cell_type": "markdown",
   "metadata": {},
   "source": [
    "Here's a real context manager I created to do runtime profiling. Basically, I wanted to runtime profile another person's function, but I didn't want to apply a decorator to their function."
   ]
  },
  {
   "cell_type": "code",
   "execution_count": 68,
   "metadata": {},
   "outputs": [],
   "source": [
    "from contextlib import contextmanager\n",
    "from datetime import datetime\n",
    "import time\n",
    "\n",
    "@contextmanager\n",
    "def custom_context_manager():\n",
    "    # set up environment here\n",
    "    start_time = datetime.now()\n",
    "    print(\"Started code block at {}\".format(start_time))\n",
    "    try:\n",
    "        yield \"Horology--Pirates of the Caribbean joke\"\n",
    "    finally:\n",
    "        # release resource here\n",
    "        end_time = datetime.now()\n",
    "        print(\"Ended code block at {}\".format(end_time))\n",
    "        print(\n",
    "            \"Total runtime is {} seconds\"\n",
    "            .format(round((end_time - start_time).total_seconds()))\n",
    "        )"
   ]
  },
  {
   "cell_type": "code",
   "execution_count": 69,
   "metadata": {},
   "outputs": [
    {
     "name": "stdout",
     "output_type": "stream",
     "text": [
      "Started code block at 2023-11-14 18:19:58.887060\n",
      "Ended code block at 2023-11-14 18:20:03.887621\n",
      "Total runtime is 5 seconds\n",
      "Horology--Pirates of the Caribbean joke\n"
     ]
    }
   ],
   "source": [
    "with custom_context_manager() as ccm:\n",
    "    time.sleep(5) # suppose this is somebody else's function that I am timing\n",
    "\n",
    "print(ccm) # what is ccm? It is whatever is yielded"
   ]
  },
  {
   "cell_type": "code",
   "execution_count": 70,
   "metadata": {},
   "outputs": [
    {
     "name": "stdout",
     "output_type": "stream",
     "text": [
      "Started code block at 2023-11-14 18:20:15.045970\n",
      "Ended code block at 2023-11-14 18:20:21.047572\n",
      "Total runtime is 6 seconds\n"
     ]
    }
   ],
   "source": [
    "with custom_context_manager(): # I can even time a block of code, not just 1 function \n",
    "    time.sleep(1)\n",
    "    time.sleep(2)\n",
    "    time.sleep(3)"
   ]
  },
  {
   "cell_type": "code",
   "execution_count": null,
   "metadata": {},
   "outputs": [
    {
     "name": "stdout",
     "output_type": "stream",
     "text": [
      "Started code block at 2020-08-07 22:51:24.631221\n",
      "Ended code block at 2020-08-07 22:51:25.642154\n",
      "Total runtime is 1 seconds\n"
     ]
    },
    {
     "ename": "ZeroDivisionError",
     "evalue": "division by zero",
     "output_type": "error",
     "traceback": [
      "\u001b[1;31m---------------------------------------------------------------------------\u001b[0m",
      "\u001b[1;31mZeroDivisionError\u001b[0m                         Traceback (most recent call last)",
      "\u001b[1;32m<ipython-input-7-0651eac701a2>\u001b[0m in \u001b[0;36m<module>\u001b[1;34m()\u001b[0m\n\u001b[0;32m      1\u001b[0m \u001b[1;32mwith\u001b[0m \u001b[0mcustom_context_manager\u001b[0m\u001b[1;33m(\u001b[0m\u001b[1;33m)\u001b[0m\u001b[1;33m:\u001b[0m \u001b[1;31m# I can even time a block of code, not just 1 function\u001b[0m\u001b[1;33m\u001b[0m\u001b[0m\n\u001b[0;32m      2\u001b[0m     \u001b[0mtime\u001b[0m\u001b[1;33m.\u001b[0m\u001b[0msleep\u001b[0m\u001b[1;33m(\u001b[0m\u001b[1;36m1\u001b[0m\u001b[1;33m)\u001b[0m\u001b[1;33m\u001b[0m\u001b[0m\n\u001b[1;32m----> 3\u001b[1;33m     \u001b[1;36m1\u001b[0m \u001b[1;33m/\u001b[0m \u001b[1;36m0\u001b[0m\u001b[1;33m\u001b[0m\u001b[0m\n\u001b[0m",
      "\u001b[1;31mZeroDivisionError\u001b[0m: division by zero"
     ]
    }
   ],
   "source": [
    "with custom_context_manager(): # finally block will still execute even if the body hits an exception\n",
    "    time.sleep(1)\n",
    "    1 / 0"
   ]
  },
  {
   "cell_type": "markdown",
   "metadata": {},
   "source": [
    "In summary, `finally` is frequently used for releasing resources and (less often) used for creating a custom context manager."
   ]
  },
  {
   "cell_type": "markdown",
   "metadata": {},
   "source": [
    "## In CASE You Need Help, just SWITCH things Up\n",
    "\n",
    "Once in awhile, you need to make a decision and it look likes this with a long body of `if/elif/else`:\n",
    "```python\n",
    "# Python\n",
    "month = 5\n",
    "if month == 1:\n",
    "    return \"January\"\n",
    "elif month == 2:\n",
    "    return \"February\"\n",
    "...\n",
    "else:\n",
    "    return \"I have no idea!\"\n",
    "```\n",
    "\n",
    "You might also think of it as the `CASE` statement in SQL:\n",
    "``` mysql\n",
    "# SQL\n",
    "CASE\n",
    "    WHEN condition1 THEN result1\n",
    "    WHEN condition2 THEN result2\n",
    "    WHEN conditionN THEN resultN\n",
    "    ELSE result\n",
    "END;\n",
    "```\n",
    "\n",
    "If you suffered with C in ~~skewl~~ school, then it would be the `switch` statement:\n",
    "``` C\n",
    "switch (x) \n",
    "{ \n",
    "   case 1: printf(\"Choice is 1\"); \n",
    "           break; \n",
    "   case 2: printf(\"Choice is 2\"); \n",
    "            break; \n",
    "   case 3: printf(\"Choice is 3\"); \n",
    "           break; \n",
    "   default: printf(\"Choice other than 1, 2 and 3\"); \n",
    "            break;   \n",
    "} \n",
    "```\n",
    "\n",
    "Why suffer when you can use idiomatic Python? Use a dictionary instead."
   ]
  },
  {
   "cell_type": "code",
   "execution_count": null,
   "metadata": {},
   "outputs": [
    {
     "name": "stdout",
     "output_type": "stream",
     "text": [
      "March\n",
      "I have no idea!\n"
     ]
    }
   ],
   "source": [
    "def get_month(month, default_option=\"I have no idea!\"):\n",
    "    month_names = {1: \"January\", 2: \"February\", 3: \"March\", }\n",
    "    return month_names.get(month, default_option)\n",
    "\n",
    "print(get_month(3))\n",
    "print(get_month(13))"
   ]
  },
  {
   "cell_type": "code",
   "execution_count": null,
   "metadata": {},
   "outputs": [
    {
     "name": "stdout",
     "output_type": "stream",
     "text": [
      "On the coolest day of Christmas, my true love sent to me:\n",
      "5 golden rings\n",
      "4 calling birds\n",
      "3 french hens\n",
      "2 turtle doves\n",
      "1 partridge in a pear tree\n"
     ]
    }
   ],
   "source": [
    "gifts = {5: \"golden rings\", 4: \"calling birds\", 3: \"french hens\", 2: \"turtle doves\", 1: \"partridge in a pear tree\"}\n",
    "\n",
    "print(\"On the coolest day of Christmas, my true love sent to me:\")\n",
    "for day_of_Christmas in range(5, 0, -1):\n",
    "    print(day_of_Christmas, gifts[day_of_Christmas])"
   ]
  },
  {
   "cell_type": "markdown",
   "metadata": {},
   "source": [
    "#### Advanced Technique: Dispatch\n",
    "If you want a switch statement on a function (or method), you can use `singledispatch()` (or `singledispatchmethod()`). Suppose you create different versions of the same function where each version did something different based on what the *type* of the argument is. Each version of the function has the same function name. \n",
    "\n",
    "When you call the function, the function will determine the type of the argument and apply the correct version of the function on the argument. Take a look at `4_Functional_Python.ipynb` for an example."
   ]
  }
 ],
 "metadata": {
  "kernelspec": {
   "display_name": "Python 3",
   "language": "python",
   "name": "python3"
  },
  "language_info": {
   "codemirror_mode": {
    "name": "ipython",
    "version": 3
   },
   "file_extension": ".py",
   "mimetype": "text/x-python",
   "name": "python",
   "nbconvert_exporter": "python",
   "pygments_lexer": "ipython3",
   "version": "3.11.3"
  }
 },
 "nbformat": 4,
 "nbformat_minor": 2
}
