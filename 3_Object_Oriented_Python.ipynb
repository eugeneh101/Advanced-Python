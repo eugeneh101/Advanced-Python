{
 "cells": [
  {
   "cell_type": "markdown",
   "metadata": {},
   "source": [
    "# Object Oriented Programming\n",
    "\n",
    "\n",
    "#### Boring, Academic Definition (Nobody Cares Except Professors and Pedantic, Technical Interviewers...):\n",
    "There are 4 fundamental tenets of Object Oriented Programming: Encapsulation, Inheritance, Abstraction, and Polymorphism.\n",
    "* `Encapsulation`: hide unnecessary details in our classes and provide a clear and simple interface for working with them.\n",
    "* `Inheritance`: class hierarchies improve code readability and enable the reuse of functionality.\n",
    "* `Abstraction`: deal with objects considering their important characteristics and ignore all other details.\n",
    "* `Polymorphism`: same manner with different objects, which define a specific implementation of some abstract behavior.\n",
    "\n",
    "#### Practical, Real-time Importance:\n",
    "We get an object that has functions (called methods) attached to them. You can store and change/manipulate data (called attributes) using methods. If you are fancy, you can build complex objects through inheritance and composition. \n",
    "\n",
    "You may ask why is C considered a produceral language if it has `array` (like a list of homogenous elements) and `struct` (like a list of different types) data types. Aren't they \"objects\"? Well, OOP gives you objects AND methods that are built into the definition of the class. C uses (separately defined) functions to modify their data structures.  \n",
    "To the other extreme, you have Java where you only get objects--there are no function calls. Even print is a method: `System.out.println()`  \n",
    "\n",
    "## Review: Practical OOP\n",
    "Everybody talks about Object Oriented Programming. Here's some actual useful functionality. \n",
    "\n",
    "#### Lingo:\n",
    "* `class`: blueprints or definitions for creating an object. Another synonym for class is `type`.  \n",
    "* `object` (also called an instance): an actual, living, breathing creation of a `class`--the manifestation of building out what was in your blueprint. The process of creating an instance is called `instantiation`. A secondary definition is that everything (storable) in Python is an object. \n",
    "* `method`: a function you put inside a class.\n",
    "* `attribute`: a variable inside an instance (also called instance variable) or class (also called class variable).\n",
    "\n",
    "In short, a Python object has 4 things: a type/class, data/attributes, methods, and a unique identity (which can be found by calling `id()`). \n",
    "\n",
    "#### 3 Types (What an OOP pun!) of Methods:\n",
    "* `instance Method`: Most common (vast majority of time). Do something with the instance, ie update the instance's attributes or return something from that instance. Call from the instance.\n",
    "* `class method`: uncommon (maybe 10% of the time). Do something with the class, ie update the class's attributes or return something from that class. Call from the class or an instance.\n",
    "* `static method`: very uncommon (<5% of the time). Use no information about an instance or class, ie knows nothing about the instance or class. Just a regular function but you attached to a class (because it might be helpful). Call from the class or an instance."
   ]
  },
  {
   "cell_type": "code",
   "execution_count": 1,
   "metadata": {},
   "outputs": [
    {
     "name": "stdout",
     "output_type": "stream",
     "text": [
      "10\n",
      "\n",
      "42 42\n",
      "42 42\n",
      "\n",
      "3 3\n"
     ]
    }
   ],
   "source": [
    "class MyClass:\n",
    "    my_class_attribute = 42 # notice it looks like a regular assignment within a class\n",
    "    \n",
    "    def my_instance_method(self, my_instance_attribute):\n",
    "        self.my_instance_attribute = my_instance_attribute\n",
    "        return my_instance_attribute    \n",
    "    \n",
    "    @classmethod # notice this decorator\n",
    "    def my_class_method(cls): # notice `cls`, not `self`\n",
    "        return cls.my_class_attribute # notice `cls`, not `self`\n",
    "    \n",
    "    @staticmethod # notice this decorator\n",
    "    def my_static_method(x, y): # no `self` or `cls`\n",
    "        return x + y \n",
    "\n",
    "\n",
    "# instance method\n",
    "my_instance = MyClass()\n",
    "my_instance.my_instance_method(10) # instance method call\n",
    "print(my_instance.my_instance_attribute, end=\"\\n\\n\")\n",
    "\n",
    "# class method\n",
    "print(\n",
    "    my_instance.my_class_method(), # class method call\n",
    "    MyClass.my_class_method() # also valid class method call\n",
    ")\n",
    "print(MyClass.my_class_attribute, my_instance.my_class_attribute, end=\"\\n\\n\") # an instance can also see the class attribute\n",
    "\n",
    "# static method\n",
    "print(\n",
    "    my_instance.my_static_method(1, 2), # static method call on instance works\n",
    "    MyClass.my_static_method(1, 2) # static method call on class works\n",
    ")"
   ]
  },
  {
   "cell_type": "markdown",
   "metadata": {},
   "source": [
    "#### Food for Thought (~~Tongue~~ Brain Twister): \n",
    "* What if an instance attribute has the same name as a class attribute?\n",
    "* If an instance attribute has the same name as a class attribute, what happens if you try to delete the attribute? Which one gets deleted?"
   ]
  },
  {
   "cell_type": "code",
   "execution_count": null,
   "metadata": {},
   "outputs": [],
   "source": []
  },
  {
   "cell_type": "markdown",
   "metadata": {},
   "source": [
    "## Class or module?\n",
    "A class is, in some sense, behaves like a module. You can run arbitrary code in the class."
   ]
  },
  {
   "cell_type": "code",
   "execution_count": 2,
   "metadata": {},
   "outputs": [
    {
     "name": "stdout",
     "output_type": "stream",
     "text": [
      "Print me now!\n"
     ]
    }
   ],
   "source": [
    "class Printer:\n",
    "    print(\"Print me now!\")"
   ]
  },
  {
   "cell_type": "code",
   "execution_count": 3,
   "metadata": {},
   "outputs": [
    {
     "name": "stdout",
     "output_type": "stream",
     "text": [
      "HI\n"
     ]
    }
   ],
   "source": [
    "class MethodDoesNotExist:\n",
    "    def print_method(self):\n",
    "        print(\"HI\")\n",
    "        \n",
    "    print_method(\"Just execute it now\") # just throw anything in for the `self` argument\n",
    "    \n",
    "    del print_method"
   ]
  },
  {
   "cell_type": "code",
   "execution_count": 4,
   "metadata": {},
   "outputs": [
    {
     "ename": "AttributeError",
     "evalue": "'MethodDoesNotExist' object has no attribute 'print_method'",
     "output_type": "error",
     "traceback": [
      "\u001b[1;31m---------------------------------------------------------------------------\u001b[0m",
      "\u001b[1;31mAttributeError\u001b[0m                            Traceback (most recent call last)",
      "\u001b[1;32m<ipython-input-4-4a8a527d75ba>\u001b[0m in \u001b[0;36m<module>\u001b[1;34m()\u001b[0m\n\u001b[0;32m      1\u001b[0m \u001b[0mmdne\u001b[0m \u001b[1;33m=\u001b[0m \u001b[0mMethodDoesNotExist\u001b[0m\u001b[1;33m(\u001b[0m\u001b[1;33m)\u001b[0m\u001b[1;33m\u001b[0m\u001b[0m\n\u001b[1;32m----> 2\u001b[1;33m \u001b[0mmdne\u001b[0m\u001b[1;33m.\u001b[0m\u001b[0mprint_method\u001b[0m\u001b[1;33m(\u001b[0m\u001b[1;33m)\u001b[0m\u001b[1;33m\u001b[0m\u001b[0m\n\u001b[0m",
      "\u001b[1;31mAttributeError\u001b[0m: 'MethodDoesNotExist' object has no attribute 'print_method'"
     ]
    }
   ],
   "source": [
    "mdne = MethodDoesNotExist()\n",
    "mdne.print_method()"
   ]
  },
  {
   "cell_type": "markdown",
   "metadata": {},
   "source": [
    "A class attribute looks like the equivalent of a module's global variable."
   ]
  },
  {
   "cell_type": "code",
   "execution_count": 5,
   "metadata": {},
   "outputs": [
    {
     "name": "stdout",
     "output_type": "stream",
     "text": [
      "888\n"
     ]
    }
   ],
   "source": [
    "class Classy:\n",
    "    class_attribute = 888\n",
    "\n",
    "print(Classy.class_attribute)"
   ]
  },
  {
   "cell_type": "markdown",
   "metadata": {},
   "source": [
    "Like modules, classes are read from top to bottom and left to right. Most of the time, order of code in the class doesn't matter. Here's 1 instance (pun intended!) where the order does matter due to methods having the same name.  "
   ]
  },
  {
   "cell_type": "code",
   "execution_count": 6,
   "metadata": {},
   "outputs": [
    {
     "data": {
      "text/plain": [
       "\"I'm inside an instance\""
      ]
     },
     "execution_count": 6,
     "metadata": {},
     "output_type": "execute_result"
    }
   ],
   "source": [
    "class Doppelganger:\n",
    "    @classmethod\n",
    "    def method_with_same_name(cls):\n",
    "        return \"I'm inside a class\"\n",
    "    \n",
    "    def method_with_same_name(self):\n",
    "        return \"I'm inside an instance\"\n",
    "\n",
    "d = Doppelganger()\n",
    "d.method_with_same_name() # instance method is called"
   ]
  },
  {
   "cell_type": "code",
   "execution_count": 7,
   "metadata": {},
   "outputs": [
    {
     "data": {
      "text/plain": [
       "\"I'm inside a class\""
      ]
     },
     "execution_count": 7,
     "metadata": {},
     "output_type": "execute_result"
    }
   ],
   "source": [
    "class Doppelganger:\n",
    "    def method_with_same_name(self):\n",
    "        return \"I'm inside an instance\"\n",
    "    \n",
    "    @classmethod\n",
    "    def method_with_same_name(cls):\n",
    "        return \"I'm inside a class\"\n",
    "\n",
    "d = Doppelganger()\n",
    "d.method_with_same_name() # classmethod is called"
   ]
  },
  {
   "cell_type": "markdown",
   "metadata": {},
   "source": [
    "The above code would be effectively equivalent to be the following code in module. Only 1 variable of the same name can exist inside the same namespace. The most recent variable definition is the one that takes effect."
   ]
  },
  {
   "cell_type": "code",
   "execution_count": 8,
   "metadata": {},
   "outputs": [
    {
     "data": {
      "text/plain": [
       "\"I'm inside a class\""
      ]
     },
     "execution_count": 8,
     "metadata": {},
     "output_type": "execute_result"
    }
   ],
   "source": [
    "method_with_same_name = lambda: \"I'm inside an instance\"\n",
    "method_with_same_name = lambda: \"I'm inside a class\"\n",
    "\n",
    "method_with_same_name()"
   ]
  },
  {
   "cell_type": "markdown",
   "metadata": {},
   "source": [
    "The same is true for attributes. You have to follow scoping rules--look at the instance, then look at the class, then look at the parent class."
   ]
  },
  {
   "cell_type": "code",
   "execution_count": 9,
   "metadata": {},
   "outputs": [],
   "source": [
    "class Doppelganger:\n",
    "    attribute = \"class\"\n",
    "    \n",
    "    def __init__(self):\n",
    "        self.attribute = \"instance\""
   ]
  },
  {
   "cell_type": "code",
   "execution_count": 10,
   "metadata": {},
   "outputs": [
    {
     "data": {
      "text/plain": [
       "'instance'"
      ]
     },
     "execution_count": 10,
     "metadata": {},
     "output_type": "execute_result"
    }
   ],
   "source": [
    "d = Doppelganger()\n",
    "d.attribute"
   ]
  },
  {
   "cell_type": "code",
   "execution_count": 11,
   "metadata": {},
   "outputs": [
    {
     "data": {
      "text/plain": [
       "'class'"
      ]
     },
     "execution_count": 11,
     "metadata": {},
     "output_type": "execute_result"
    }
   ],
   "source": [
    "del d.attribute # interestingly you can delete the instance attribute\n",
    "d.attribute # so you can force the instance took look for the attribute in the class"
   ]
  },
  {
   "cell_type": "markdown",
   "metadata": {},
   "source": [
    "Like classes in a module, you can have classes inside of a class. A nested class is purely stylistic. There's no reason 1 class has to be defined inside another class compared to separating it into 2 classes in the same namespace; the only reason I can think of is that the nested class is a \"helper\" function of the outer class, so the nested class is only used by the outer class."
   ]
  },
  {
   "cell_type": "code",
   "execution_count": 12,
   "metadata": {},
   "outputs": [
    {
     "name": "stdout",
     "output_type": "stream",
     "text": [
      "<__main__.Outer.Inner object at 0x000001E2E3BC7550>\n"
     ]
    }
   ],
   "source": [
    "class Outer:\n",
    "    class Inner:\n",
    "        pass\n",
    "    \n",
    "    @classmethod\n",
    "    def create_inner(cls):\n",
    "        return cls.Inner()\n",
    "    \n",
    "print(Outer.create_inner())"
   ]
  },
  {
   "cell_type": "code",
   "execution_count": null,
   "metadata": {},
   "outputs": [],
   "source": []
  },
  {
   "cell_type": "markdown",
   "metadata": {},
   "source": [
    "## Fun Fact Time!\n",
    "<p align=\"center\"><img src=\"images/party_emoji.jpg\" width=70></p>\n",
    "* `self` is not a special/reserved word in Python. In fact, you can use other words and it will still work. Extra Fun fact: JavaScripts equivalent of `self` is `this`. So... if you want to confuse people, you can use `this` instead of `self` ;-)"
   ]
  },
  {
   "cell_type": "code",
   "execution_count": 1,
   "metadata": {},
   "outputs": [
    {
     "data": {
      "text/plain": [
       "42"
      ]
     },
     "execution_count": 1,
     "metadata": {},
     "output_type": "execute_result"
    }
   ],
   "source": [
    "class AnotherSillyExample:\n",
    "    def __init__(banana, number): # no `self` here\n",
    "        banana.important_number = number\n",
    "    \n",
    "    def get_important_number(peach):\n",
    "        return peach.important_number\n",
    "\n",
    "AnotherSillyExample(42).get_important_number()"
   ]
  },
  {
   "cell_type": "code",
   "execution_count": 2,
   "metadata": {},
   "outputs": [
    {
     "data": {
      "text/plain": [
       "'Say Cheese!'"
      ]
     },
     "execution_count": 2,
     "metadata": {},
     "output_type": "execute_result"
    }
   ],
   "source": [
    "# How to emulate a class method with an instance method\n",
    "class Millenial:\n",
    "    my_class_attribute = \"Say Cheese!\"\n",
    "    \n",
    "    def takes_a(selfie): # technically an instance method pretending to be an class method\n",
    "        return type(selfie).my_class_attribute\n",
    "\n",
    "a_friend_you_know = Millenial()\n",
    "a_friend_you_know.takes_a()"
   ]
  },
  {
   "cell_type": "markdown",
   "metadata": {},
   "source": [
    "#### Another Fun Fact!\n",
    "\n",
    "In Python, it is said that \"everything is an object.\" What the pros (like yourself!) mean is that everything is an object/instance of a class. You ask what is a class, a class of (tongue twister!)? A class is an instance of a metaclass (usually the metaclass is `type`). In fact, all objects inherit from `object`.  \n",
    "\n",
    "Of course, don't take \"everything is an object\" too literally. There are things like keywords and statements that are not objects. Anything that is assignable/savable/storable is an object; keywords and some statements are not assignable."
   ]
  },
  {
   "cell_type": "code",
   "execution_count": null,
   "metadata": {},
   "outputs": [],
   "source": []
  },
  {
   "cell_type": "markdown",
   "metadata": {},
   "source": [
    "## History Lesson: Classic Classes vs New Style Classes\n",
    "Why do classes something inherit from `object` but sometimes not? Well, that depends if you are using Python 2 vs 3.  \n",
    "\n",
    "In Python, you have an option to inherit from `object`. Old style classes (AKA classic classes) inherit from nothing, so they do not have all the functionality (like the `__new__()` constructor). The \"new-styled\" classes were introduced in Python 2.2 to unify the object model such that user-created classes where 1st class citizens. (What that means is unimportant). In Python 2, you should always use the new-styled class (ie inherit from `object`).\n",
    "\n",
    "```python\n",
    "class OldStyleClass:\n",
    "    pass\n",
    "\n",
    "class NewStyleClass(object):\n",
    "    pass\n",
    "```\n",
    "\n",
    "In Python 3, you can use the old-style class or new-style class but it doesn't matter--you always get new-style class, which inherits from `object`. If you use old-style class, you automatically inherit from `object`. In fact, in Python 3 it is preferable to use the old-style class, which is jocularly called the new-new style class.  \n",
    "```python\n",
    "class NewNewStyleClass: # looks identical to the OldStyleClass\n",
    "    pass\n",
    "```\n",
    "If you want your Python 3 code to be compatible to Python 2, then use new-style class syntax. However, if you want ~~destroy Python 2~~ encourage people to use Python 3, then stay _classic_, my friends!  "
   ]
  },
  {
   "cell_type": "code",
   "execution_count": null,
   "metadata": {},
   "outputs": [],
   "source": []
  },
  {
   "cell_type": "markdown",
   "metadata": {},
   "source": [
    "## Cheat: How to Make a Method Look Like an Attribute? `@property`\n",
    "Have you ever wondered how pandas DataFrame always seem to know the shape of itself despite a bunch of transformations that can make it fatter or taller? When a DataFrames filters, does it could how know many rows it drops and update `.shape`? When a DataFrame adds more columns, does it update `.shape`? When a DataFrame performs groupby, does it update `.shape`? Nope--it's cheating!  \n",
    "\n",
    "Come cheat with me.  \n",
    "Have you ever wondered what those fancy-schmancy people using `@property` are trying to do? `property` is the way to mask what is truly a method to appear like an attribute. There are 2 reasons to use `@property`:  \n",
    "1. A property doesn't know its value until it's called--that's how it's lazy. For things that are slow to extract (like accessing a row from a database), you don't want an instance to load up all its attributes. Hence, a property is a Just-In-Time calculation to prevent slow instantiation. Optionally, once the value is extracted, then it can be stored into a \"private\" attribute. Since there are no real private attributes in Python, \"private\" just means an attribute that a user isn't supposed to touch.   \n",
    "2. Hide the internal implementation such that you can keep a public-facing API but swap out the backend implementation.  \n",
    "\n",
    "\n",
    "Examples for __Case 1__: Why try to do all the math to figure out the shape when you can you calculate the shape only when you need it or if somebody asks for it? "
   ]
  },
  {
   "cell_type": "code",
   "execution_count": 1,
   "metadata": {},
   "outputs": [
    {
     "name": "stdout",
     "output_type": "stream",
     "text": [
      "    @property\n",
      "    def shape(self):\n",
      "        \"\"\"\n",
      "        Return a tuple representing the dimensionality of the DataFrame.\n",
      "\n",
      "        See Also\n",
      "        --------\n",
      "        ndarray.shape\n",
      "\n",
      "        Examples\n",
      "        --------\n",
      "        >>> df = pd.DataFrame({'col1': [1, 2], 'col2': [3, 4]})\n",
      "        >>> df.shape\n",
      "        (2, 2)\n",
      "\n",
      "        >>> df = pd.DataFrame({'col1': [1, 2], 'col2': [3, 4],\n",
      "        ...                    'col3': [5, 6]})\n",
      "        >>> df.shape\n",
      "        (2, 3)\n",
      "        \"\"\"\n",
      "        return len(self.index), len(self.columns)\n",
      "\n"
     ]
    }
   ],
   "source": [
    "import pandas as pd\n",
    "import inspect\n",
    "\n",
    "print(inspect.getsource(pd.DataFrame.shape.fget)) # the magic behind pd.DataFrame.shape is no more than 2 `len()` calls"
   ]
  },
  {
   "cell_type": "code",
   "execution_count": 2,
   "metadata": {},
   "outputs": [],
   "source": [
    "import time\n",
    "\n",
    "class SQLConnector:\n",
    "    def __init__(self):\n",
    "        self._row = None\n",
    "        \n",
    "    @property\n",
    "    def row(self): # notice when you use property, the only argument is `self`\n",
    "        if self._row is None:\n",
    "            time.sleep(5) # suppose this is the cost to the query\n",
    "            query_result = [\"Question\", \"Riddler\", \"Richard Reeds\", \"Victor Von Doom\", \"Bucky Barnes\", \"Helmut Zemo\", \"Mr. Anderson\", \"Agent Smith\"]\n",
    "            self._row = query_result\n",
    "        else:\n",
    "            return self._row"
   ]
  },
  {
   "cell_type": "code",
   "execution_count": 3,
   "metadata": {},
   "outputs": [
    {
     "name": "stdout",
     "output_type": "stream",
     "text": [
      "Wall time: 0 ns\n",
      "Wall time: 5 s\n",
      "Wall time: 0 ns\n"
     ]
    },
    {
     "data": {
      "text/plain": [
       "['Question',\n",
       " 'Riddler',\n",
       " 'Richard Reeds',\n",
       " 'Victor Von Doom',\n",
       " 'Bucky Barnes',\n",
       " 'Helmut Zemo',\n",
       " 'Mr. Anderson',\n",
       " 'Agent Smith']"
      ]
     },
     "execution_count": 3,
     "metadata": {},
     "output_type": "execute_result"
    }
   ],
   "source": [
    "%time sql = SQLConnector() # fast\n",
    "%time sql.row # slow\n",
    "%time sql.row # fast"
   ]
  },
  {
   "cell_type": "code",
   "execution_count": null,
   "metadata": {},
   "outputs": [],
   "source": []
  },
  {
   "cell_type": "markdown",
   "metadata": {},
   "source": [
    "Example for __Case 2__: Suppose you know you will refactor your code (such as to introduce an optimization), you can use a public API that's stable for users. However, the real function doing the work can be swapped in and out and changed at will. Feel free to experiment and swap in the optimized versions.  "
   ]
  },
  {
   "cell_type": "code",
   "execution_count": 4,
   "metadata": {},
   "outputs": [
    {
     "data": {
      "text/plain": [
       "45"
      ]
     },
     "execution_count": 4,
     "metadata": {},
     "output_type": "execute_result"
    }
   ],
   "source": [
    "from functools import reduce\n",
    "\n",
    "class Adder:\n",
    "    def __init__(self, sequence):\n",
    "        self.sequence = sequence\n",
    "\n",
    "    def _novice(self, sequence): # the actual method that does the work can have as many arguments as you like\n",
    "        result = 0\n",
    "        for element in sequence:\n",
    "            result = result + element\n",
    "        return result\n",
    "        \n",
    "    def _intermediate(self, sequence):\n",
    "        result = reduce(lambda x, y: x + y, sequence, 0)\n",
    "                \n",
    "    def _pro(self, sequence):\n",
    "        result = sum(sequence)\n",
    "        return result\n",
    "    \n",
    "    @property\n",
    "    def adder(self): # method for the property only has `self` as an argument\n",
    "        return self._novice(self.sequence) # replace with the other helper method calls\n",
    "\n",
    "\n",
    "Adder(range(10)).adder"
   ]
  },
  {
   "cell_type": "code",
   "execution_count": null,
   "metadata": {},
   "outputs": [],
   "source": []
  },
  {
   "cell_type": "markdown",
   "metadata": {},
   "source": [
    "#### Get, Set, Go!: Accessor and Mutator\n",
    "The previous `property` examples only show the __getter__ (AKA __accessor__). How do you set the value of a property? That's called the __setter__ (AKA __mutator__). A `property` actually has 3 components: getter, setter, and deleter. If you don't implement the setter, then the property is read-only--as there is no way to set the value. Try to comment out the setter to see that attempting to assign a value to the property will raise an exception. The deleter doesn't have a cool name. It follows the same logic as the setter; without defining the deleter method, then the property cannot be deleted.   "
   ]
  },
  {
   "cell_type": "code",
   "execution_count": 5,
   "metadata": {},
   "outputs": [
    {
     "name": "stdout",
     "output_type": "stream",
     "text": [
      "I can be any age I want!\n",
      "25 get\n",
      "25 get\n",
      "I can be any age you want!\n",
      "42 set\n"
     ]
    }
   ],
   "source": [
    "import random\n",
    "\n",
    "class SecretBirthday:\n",
    "    def __init__(self):\n",
    "        self._age = None\n",
    "\n",
    "    @property\n",
    "    def age(self): # method for the getter property only has `self` as an argument\n",
    "        if self._age is None:\n",
    "            print(\"I can be any age I want!\")\n",
    "            self._age = random.randint(0, 100)\n",
    "            return self._age\n",
    "        else:\n",
    "            return self._age # you want to return something as you are getting the value\n",
    "\n",
    "    @age.setter\n",
    "    def age(self, age): # just 2 arguments: `self` and another argument holding the value to set to\n",
    "        print(\"I can be any age you want!\")\n",
    "        self._age = age\n",
    "        # no return because you just set something\n",
    "\n",
    "\n",
    "sb = SecretBirthday()\n",
    "print(sb.age, \"get\") # generate an age\n",
    "print(sb.age, \"get\") # gets the last age saved\n",
    "sb.age = 42 # set the age\n",
    "print(sb.age, \"set\")"
   ]
  },
  {
   "cell_type": "code",
   "execution_count": null,
   "metadata": {},
   "outputs": [],
   "source": []
  },
  {
   "cell_type": "markdown",
   "metadata": {},
   "source": [
    "## Are you Fluent in Objects\n",
    "Many OOP languages (like Java) offer syntactic sugar styles. Python offers __method chaining__ and __fluent interface__.  \n",
    "* __Method chaining__: keep adding more methods. The methods can be called on the original object or another object: object.method1().method2().method3()  \n",
    "* __Fluent interface__: a specific form of method chaining where you keep changing the _same_ object in-place. The below is an example.  "
   ]
  },
  {
   "cell_type": "code",
   "execution_count": 1,
   "metadata": {},
   "outputs": [
    {
     "name": "stdout",
     "output_type": "stream",
     "text": [
      "4 18 200 0\n"
     ]
    }
   ],
   "source": [
    "class FantasyCarDesigner:\n",
    "    def __init__(self):\n",
    "        self.cup_holders = None\n",
    "        self.tires = None\n",
    "        self.max_speed = None\n",
    "        self.airbags = None\n",
    "\n",
    "    def set_cup_holders(self, cup_holders):\n",
    "        self.cup_holders = cup_holders\n",
    "        return self # notice return self allows the chaining\n",
    "\n",
    "    def set_tires(self, tires):\n",
    "        self.tires = tires\n",
    "        return self\n",
    "    \n",
    "    def set_max_speed(self, max_speed):\n",
    "        self.max_speed = max_speed\n",
    "        return self\n",
    "    \n",
    "    def set_airbags(self, airbags):\n",
    "        self.airbags = airbags\n",
    "        return self\n",
    "    \n",
    "my_wheelz = ( # the parenthesis allows implicit line continuation\n",
    "    FantasyCarDesigner()\n",
    "    .set_cup_holders(4) # stay classy, Mr. Bond\n",
    "    .set_tires(18) # is the Dreadnought behind us, Frankenstein?\n",
    "    .set_max_speed(200) # how furious today, Dom?\n",
    "    .set_airbags(0) # Imperator Furiosa, is this a good idea?\n",
    ")\n",
    "print(my_wheelz.cup_holders, my_wheelz.tires, my_wheelz.max_speed, my_wheelz.airbags)"
   ]
  },
  {
   "cell_type": "markdown",
   "metadata": {},
   "source": [
    "Soup up yo' ride, ricer style!\n",
    "<p align=\"center\"><img src=\"images/ricer.jpg\"></p>\n",
    "\n",
    "The boring equivalent without fluent interface is"
   ]
  },
  {
   "cell_type": "code",
   "execution_count": 2,
   "metadata": {},
   "outputs": [
    {
     "name": "stdout",
     "output_type": "stream",
     "text": [
      "1 2 10 2\n"
     ]
    }
   ],
   "source": [
    "boring_car = FantasyCarDesigner()\n",
    "boring_car.set_cup_holders(1) # square?\n",
    "boring_car.set_tires(2) # a moped?\n",
    "boring_car.set_max_speed(10) # side-walk only\n",
    "boring_car.set_airbags(2) # at least faster than the previous car\n",
    "print(boring_car.cup_holders, boring_car.tires, boring_car.max_speed, boring_car.airbags)"
   ]
  },
  {
   "cell_type": "markdown",
   "metadata": {},
   "source": [
    "__NOTE__: When you are using fluent interface, you are modifying 1 object in-place. Because fluent interface syntax is identical to regular method chaining, do _not_ mix multiple objects like in the following example where you are jumping between objects. Stylistically, use the boring style if you are switching between objects."
   ]
  },
  {
   "cell_type": "code",
   "execution_count": 3,
   "metadata": {},
   "outputs": [
    {
     "name": "stdout",
     "output_type": "stream",
     "text": [
      "21\n",
      "21\n"
     ]
    }
   ],
   "source": [
    "print( # avoid method chaining when transforming between different objects\n",
    "    \"a|a|\" # starts as a string\n",
    "    .__rmul__(10) # now a longer string\n",
    "    .split(\"|\") # now a list\n",
    "    .__len__() # now an integer\n",
    "    .__repr__() # now back to a string\n",
    ")\n",
    "\n",
    "string = \"a|a|\"\n",
    "new_string = string.__rmul__(10)\n",
    "string_in_list = new_string.split(\"|\")\n",
    "list_length = len(string_in_list)\n",
    "list_length_str = repr(list_length)\n",
    "print(list_length_str)"
   ]
  },
  {
   "cell_type": "code",
   "execution_count": null,
   "metadata": {},
   "outputs": [],
   "source": []
  },
  {
   "cell_type": "markdown",
   "metadata": {},
   "source": [
    "## Python's Data Model: (Magic) Methods All the Way Down\n",
    "Python's objects are really dictionaries. Even if `type(obj)` says `int` or `str`, the object is implemented with a dictionary, which holds all the methods and attributes, which are then accessed through magic methods, which are implemented by the Descriptor Protocol... Sorry, I lied to you: I'm not going to tell you about the Descriptor Protocol; it's just the low-level implementation detail that is not important to know. The more useful thing is to understand methods, attributes, `property`, and a few magic methods. \n",
    "\n",
    "Basically, everything is an object, all objects are really dictionaries underneath, and all useful things come from magic methods. So the next question naturally is what is a magic method?  \n",
    "\n",
    "Magic methods are also called dunder methods since dunder means double underscore. The most familiar magic method is `__init__`, but there are dozens of them. The reason for magic methods isn't because they are truly magic or special--they are just regular methods that Python object's already have implemented. For example, whenever you call `len(object)`, it is actually calling `object.__len__()`. When you implement your own magic methods inside the class, you are replacing their default behavior with your own; this is called __method overriding__. When you are doing anything substantive in Python, you are actually triggering a bunch of magic method calls.  "
   ]
  },
  {
   "cell_type": "code",
   "execution_count": 1,
   "metadata": {},
   "outputs": [
    {
     "data": {
      "text/plain": [
       "['__bool__',\n",
       " '__class__',\n",
       " '__delattr__',\n",
       " '__dir__',\n",
       " '__doc__',\n",
       " '__eq__',\n",
       " '__format__',\n",
       " '__ge__',\n",
       " '__getattribute__',\n",
       " '__gt__',\n",
       " '__hash__',\n",
       " '__init__',\n",
       " '__init_subclass__',\n",
       " '__le__',\n",
       " '__lt__',\n",
       " '__ne__',\n",
       " '__new__',\n",
       " '__reduce__',\n",
       " '__reduce_ex__',\n",
       " '__repr__',\n",
       " '__setattr__',\n",
       " '__sizeof__',\n",
       " '__str__',\n",
       " '__subclasshook__']"
      ]
     },
     "execution_count": 1,
     "metadata": {},
     "output_type": "execute_result"
    }
   ],
   "source": [
    "dir(None) # even something as simple as a None has a bunch of attributes in its object dictionary"
   ]
  },
  {
   "cell_type": "code",
   "execution_count": 2,
   "metadata": {},
   "outputs": [
    {
     "name": "stdout",
     "output_type": "stream",
     "text": [
      "3 3.0\n"
     ]
    }
   ],
   "source": [
    "print((1).__add__(2), (1.).__add__(2)) # even primitive types like numbers have methods."
   ]
  },
  {
   "cell_type": "code",
   "execution_count": 3,
   "metadata": {},
   "outputs": [
    {
     "data": {
      "text/plain": [
       "(1, 1)"
      ]
     },
     "execution_count": 3,
     "metadata": {},
     "output_type": "execute_result"
    }
   ],
   "source": [
    "len([\"HI\"]), [\"HI\"].__len__() # here is what len() is really doing"
   ]
  },
  {
   "cell_type": "markdown",
   "metadata": {},
   "source": [
    "The following is not ideal for object instantiation, but it shows how you can access the object's dictionary to create attributes."
   ]
  },
  {
   "cell_type": "code",
   "execution_count": 4,
   "metadata": {},
   "outputs": [],
   "source": [
    "class Issue():\n",
    "    def __init__(self, **kwargs):\n",
    "        self.__dict__.update(kwargs)\n",
    "        \n",
    "bbw = Issue(title=\"Bloomberg\", price=5.99, pages=112)"
   ]
  },
  {
   "cell_type": "markdown",
   "metadata": {},
   "source": [
    "In fact, the `__init__` method is not even special. You can call it again anytime you want. "
   ]
  },
  {
   "cell_type": "code",
   "execution_count": 5,
   "metadata": {},
   "outputs": [],
   "source": [
    "class A:\n",
    "    def __init__(self, teachers_pet):\n",
    "        self.teachers_pet = teachers_pet"
   ]
  },
  {
   "cell_type": "code",
   "execution_count": 6,
   "metadata": {},
   "outputs": [
    {
     "name": "stdout",
     "output_type": "stream",
     "text": [
      "apple\n",
      "coal\n"
     ]
    }
   ],
   "source": [
    "a = A(\"apple\")\n",
    "print(a.teachers_pet)\n",
    "\n",
    "a.__init__(\"coal\")\n",
    "print(a.teachers_pet)"
   ]
  },
  {
   "cell_type": "markdown",
   "metadata": {},
   "source": [
    "When you method override an operator (+, /, *, /, <, >, ==, |, &, >>), this is called operator overloading. Each operator has its own corresponding magic method. Let's take a look at the less than operator (<) and its magic method ( `__lt__()`), which I'll override, so we can have a different behavior. "
   ]
  },
  {
   "cell_type": "code",
   "execution_count": 7,
   "metadata": {},
   "outputs": [
    {
     "name": "stdout",
     "output_type": "stream",
     "text": [
      "True\n",
      "False\n"
     ]
    }
   ],
   "source": [
    "class TopsyTurvyInt(int):\n",
    "    def __lt__(self, other_int):\n",
    "        return not other_int > self # I'm lazy, so I reversed the order so it's calling other_int.__gt__(self)\n",
    "    # I have not overridden __gt__, so you the the original/default behavior of the int class\n",
    "\n",
    "print(3 < 4)\n",
    "print(TopsyTurvyInt(3) < TopsyTurvyInt(4))"
   ]
  },
  {
   "cell_type": "markdown",
   "metadata": {},
   "source": [
    "There's specific magic method that pertains to `dict`s: `__missing__`. You can override it to have fun behaviors. You can implement `Counter` and `defaultdict` in this manner."
   ]
  },
  {
   "cell_type": "code",
   "execution_count": 8,
   "metadata": {},
   "outputs": [],
   "source": [
    "class GrumpyDict(dict):\n",
    "    def __missing__(self, value):\n",
    "        print(\"Dang nab it! I don't have your darn {}\".format(value))\n",
    "        print(\"but I'll give half of it to ya, ya stinkin' free loader!\")\n",
    "        self[value] = value / 2"
   ]
  },
  {
   "cell_type": "code",
   "execution_count": 9,
   "metadata": {},
   "outputs": [
    {
     "name": "stdout",
     "output_type": "stream",
     "text": [
      "Dang nab it! I don't have your darn 42\n",
      "but I'll give half of it to ya, ya stinkin' free loader!\n"
     ]
    }
   ],
   "source": [
    "old_timer = GrumpyDict()\n",
    "old_timer[42] # [] calls the __getitem__() magic method"
   ]
  },
  {
   "cell_type": "code",
   "execution_count": 10,
   "metadata": {},
   "outputs": [
    {
     "data": {
      "text/plain": [
       "21.0"
      ]
     },
     "execution_count": 10,
     "metadata": {},
     "output_type": "execute_result"
    }
   ],
   "source": [
    "old_timer[42] # second time: same call, different result"
   ]
  },
  {
   "cell_type": "code",
   "execution_count": 11,
   "metadata": {},
   "outputs": [
    {
     "name": "stdout",
     "output_type": "stream",
     "text": [
      "Dang nab it! I don't have your darn 41\n",
      "but I'll give half of it to ya, ya stinkin' free loader!\n"
     ]
    },
    {
     "data": {
      "text/plain": [
       "20.5"
      ]
     },
     "execution_count": 11,
     "metadata": {},
     "output_type": "execute_result"
    }
   ],
   "source": [
    "old_timer.__getitem__(41)\n",
    "old_timer.__getitem__(41)"
   ]
  },
  {
   "cell_type": "markdown",
   "metadata": {},
   "source": [
    "A cool magic method is called `__call__`, which makes an __instance__ of a class callable--objects can _function_ like functions, weird huh?"
   ]
  },
  {
   "cell_type": "code",
   "execution_count": 12,
   "metadata": {},
   "outputs": [
    {
     "name": "stdout",
     "output_type": "stream",
     "text": [
      "Did you call on my name?\n"
     ]
    },
    {
     "data": {
      "text/plain": [
       "'No'"
      ]
     },
     "execution_count": 12,
     "metadata": {},
     "output_type": "execute_result"
    }
   ],
   "source": [
    "class Celebrity:\n",
    "    def __call__(self):\n",
    "        print(\"Did you call on my name?\")\n",
    "        return \"No\"\n",
    "\n",
    "c = Celebrity()\n",
    "c()"
   ]
  },
  {
   "cell_type": "code",
   "execution_count": null,
   "metadata": {},
   "outputs": [],
   "source": []
  },
  {
   "cell_type": "markdown",
   "metadata": {},
   "source": [
    "## Where's my Inheritance?\n",
    "Where's the green stuff? Inheritance is a tricky subject; some people not like to talk about it. The reason is that the OOP parent has to decide between 2 possible offspring: inheritance vs composition.  \n",
    "\n",
    "__Inheritance__: Creates `is-a` relationship. A class can inherit from another class. The former is called the `child` class/`subclass` and the latter is called `parent` class/`superclass`. A child class have all the attributes and methods of the parent class but adds more--hence the child class _extends_ the parent class.  "
   ]
  },
  {
   "cell_type": "code",
   "execution_count": 1,
   "metadata": {},
   "outputs": [
    {
     "name": "stdout",
     "output_type": "stream",
     "text": [
      "eukaryote; some sound\n",
      "eukaryote; bark\n",
      "eukaryote; Pikachu\n",
      "<class '__main__.Pokemon'> True True\n"
     ]
    }
   ],
   "source": [
    "class Animal:\n",
    "    cell_type = \"eukaryote\"\n",
    "    \n",
    "    def sound(self):\n",
    "        return \"some sound\"\n",
    "    \n",
    "class Dog(Animal):\n",
    "    def sound(self):\n",
    "        return \"bark\"\n",
    "    \n",
    "class Pokemon(Animal):\n",
    "    def __init__(self, specie):\n",
    "        self.specie = specie\n",
    "        \n",
    "    def sound(self):\n",
    "        return self.specie\n",
    "    \n",
    "    \n",
    "animal = Animal()\n",
    "print(animal.cell_type, animal.sound(), sep=\"; \")\n",
    "\n",
    "dog = Dog()\n",
    "print(dog.cell_type, dog.sound(), sep=\"; \")\n",
    "\n",
    "pokemon = Pokemon(\"Pikachu\")\n",
    "print(pokemon.cell_type, pokemon.sound(), sep=\"; \")\n",
    "\n",
    "print(type(pokemon), isinstance(pokemon, Animal), issubclass(Pokemon, Animal))"
   ]
  },
  {
   "cell_type": "markdown",
   "metadata": {},
   "source": [
    "__Composition__: Creates `has-a` relationship. The \"composite\" class has many instances of \"component\" classes. This notebook will not go over composition much since there's less to talk about composition.   "
   ]
  },
  {
   "cell_type": "code",
   "execution_count": 2,
   "metadata": {},
   "outputs": [
    {
     "name": "stdout",
     "output_type": "stream",
     "text": [
      "<__main__.CupHolders object at 0x0000025AF45BEBE0> False True\n"
     ]
    }
   ],
   "source": [
    "class CupHolders:\n",
    "    def __init__(self, num):\n",
    "        self.num = num\n",
    "\n",
    "class Tires:\n",
    "    def __init__(self, num):\n",
    "        self.num = num\n",
    "\n",
    "class Car:\n",
    "    def __init__(self, cup_holders, tires):\n",
    "        self.cup_holders = CupHolders(cup_holders)\n",
    "        self.tires = Tires(tires)\n",
    "        \n",
    "prius = Car(cup_holders=2, tires=4)\n",
    "print(prius.cup_holders, isinstance(prius.cup_holders, Car), isinstance(prius.cup_holders, CupHolders))"
   ]
  },
  {
   "cell_type": "code",
   "execution_count": null,
   "metadata": {},
   "outputs": [],
   "source": []
  },
  {
   "cell_type": "markdown",
   "metadata": {},
   "source": [
    "## Be a `super`hero: Ask Your Parent First\n",
    "The purpose of inheritance (ie subclassing a parent class) is for the child class to have the attributes/property/methods of the parent class.  "
   ]
  },
  {
   "cell_type": "code",
   "execution_count": 3,
   "metadata": {},
   "outputs": [
    {
     "name": "stdout",
     "output_type": "stream",
     "text": [
      "888; 888; Egotist: who me?\n"
     ]
    }
   ],
   "source": [
    "class A:\n",
    "    def __init__(self):\n",
    "        self._hidden_attribute = 888\n",
    "\n",
    "    @property\n",
    "    def attribute(self):\n",
    "        return self._hidden_attribute\n",
    "    \n",
    "    def method(self):\n",
    "        return \"Egotist: who me?\"\n",
    "\n",
    "class B(A):\n",
    "    pass\n",
    "\n",
    "print(B()._hidden_attribute, B().attribute, B().method(), sep=\"; \")"
   ]
  },
  {
   "cell_type": "markdown",
   "metadata": {},
   "source": [
    "But the purpose of the child class is not to be a clone of the parent class; the child class should have some extra features or different features that its predecessor did not have. \n",
    "* The child class can add new attributes/property/methods not defined in the parent class.  \n",
    "* The child class can also re-implement the same attributes/property/methods that the parent class but give a different result. \n",
    "    * For a child method that replaces the parent method, this is called __method overriding__.\n",
    "    * For a child method that enhances and still uses the parent method, this is called __extending__ a method. You will use the `super()` call, which creates a proxy object (temporary object of the parent class) that has all the methods of the parent class.  \n",
    "\n",
    "The following example is that show a real-world situation: suppose you wrote a bunch of code with `Westworld_Host` class and it goes into production and everything is good. Now you are upgrading the codebase but cannot change the source code since that code is already being used somewhere else. What you can do is create a \"second-generation\" of that class where you inherit from the previous class but add more stuff to it. You can retain as much of the functionality that you like (without copying over code) and just replace the parts you like.  "
   ]
  },
  {
   "cell_type": "code",
   "execution_count": 4,
   "metadata": {},
   "outputs": [
    {
     "name": "stdout",
     "output_type": "stream",
     "text": [
      "64; Male; When you’re suffering, that’s when you’re most real; Are you real or a host? If you can't tell the difference, does it matter?\n"
     ]
    }
   ],
   "source": [
    "class WestworldHost:\n",
    "    def __init__(self, age):\n",
    "        self.age = age\n",
    "        \n",
    "    def method_to_override(self):\n",
    "        return \"Freeze all motor functions\"\n",
    "\n",
    "class WestworldHostSecondGenerator(WestworldHost):\n",
    "    def __init__(self, age, gender): # __init__() is like any other method that can be extended\n",
    "        super().__init__(age)\n",
    "        self.gender = gender\n",
    "    \n",
    "    def method_to_override(self): # method overriding\n",
    "        return \"When you’re suffering, that’s when you’re most real\"\n",
    "\n",
    "    def new_method(self):\n",
    "        return \"Are you real or a host? If you can't tell the difference, does it matter?\"\n",
    "\n",
    "\n",
    "bernard = WestworldHostSecondGenerator(64, \"Male\")    \n",
    "print(bernard.age, bernard.gender, bernard.method_to_override(), bernard.new_method(), sep=\"; \")"
   ]
  },
  {
   "cell_type": "code",
   "execution_count": null,
   "metadata": {},
   "outputs": [],
   "source": []
  },
  {
   "cell_type": "markdown",
   "metadata": {},
   "source": [
    "#### Advanced Inheritance Topics:\n",
    "There are fancy tricks with inheritance. Most times, you won't need them, so you can go along your day without worrying about them. Like a safety box, just know that they are there when you need them.  \n",
    "\n",
    "* __metaclass__: What is a class, a class of? A class is to an object as a metaclass is to a class. A class's class is the metaclass--a metaclass can create classes. The default metaclass is `type`. Metaclasses are used to write frameworks when nothing else will do--very rare to use a metaclass.  \n",
    "* __multiple inheritance__: This occurs when a child class inherits from 2 parent classes simultaneously: `class C(A, B)`. It is not serial inheritance, which is not multiple inheritance: `class B(A): pass; class C(B): pass`\n",
    "    * __MRO__: (Daisy, is it you? No, it's __M__ethod __R__esolution __O__rder): MRO determines which parent's method will be called when a child instance calls a method defined in both the parent classes. The specific algorithm is called __C3 linearization__.  \n",
    "* __mixin__: Something like a \"proto\" class in that mixins are regular classes that are not complete. You define a mixin class that has some functionality but is meant to be combined with other classes during multiple inheritance to make a final class you will actually want to use. An analogy is that you create a `Bun` mixin class and `Patty` mixin class--nobody would ever just eat an instance of only a bun or a patty. However, when you fuse them together through multiple inheritance, you can make a `Burger` class (`class Burger(Bun, Patty)`) that has aspects of both bun and patty. Instances of the `Burger` class will be very useful and very tasty!  \n",
    "* __abc/interface__: __A__bstract __B__ase __C__lass is where you define a fake class where the purpose is to figure out what the class will look like but not implement any of the methods. The abstract base class is like a template; you can define the method signatures but just put `pass` for the method body. Then, a real class inheritances from the abstract base class and overrides all the methods. For example, `sklearn` has the estimator interface, which tells you to implement the `.fit()` and `.predict()` methods. The difference between abc and interface is very small.  \n",
    "\n",
    "\n",
    "#### Advanced OOP Tricks\n",
    "* special magic methods: \n",
    "    * `__new__()` is the true constructor, not `__init__()`, which is the initializer. \n",
    "    * `__del__()` can be called during garbage collection, but not guaranteed to be called.  \n",
    "* __name mangling__: `__` prefix in an class/instance attribute changes the attribute name such that child class will not accidentally overwrite the parent class's attribute.  \n",
    "* alternative constructors: have multiple ways to create instances of a class instead of solely `MyClass()`. For example, `datetime` instances can be created in multiple ways: `datetime(2013, 3, 16)`, `datetime.fromtimestamp(1363383616)`, `datetime.fromordinal(734000)`, `datetime.now()`. Alternative constructors are implemented by class methods in the class definition.  \n",
    "* __factory method__: Don't create the instances the normal way. Delegate it to a different class whose purpose is to figure which class is the suited for your needs and makes the instance of that class.   \n",
    "* SOLID principle (__S__ingle responsiblity principle, __O__pen-closed principle, __L__iskov substitution, __I__nterface segregation, __D__ependency inversion): design philosophy for OOP.  \n",
    "\n",
    "## Extra Materials\n",
    "Python's Class Development Toolkit (https://www.youtube.com/watch?v=HTLu2DFOdTg): Raymond Hettinger, a core Python dev, gives a great, beginner-friendly talk about creating classes and how to get started. This section was inspired by his talk.  "
   ]
  },
  {
   "cell_type": "code",
   "execution_count": null,
   "metadata": {},
   "outputs": [],
   "source": []
  }
 ],
 "metadata": {
  "kernelspec": {
   "display_name": "Python 3",
   "language": "python",
   "name": "python3"
  },
  "language_info": {
   "codemirror_mode": {
    "name": "ipython",
    "version": 3
   },
   "file_extension": ".py",
   "mimetype": "text/x-python",
   "name": "python",
   "nbconvert_exporter": "python",
   "pygments_lexer": "ipython3",
   "version": "3.6.4"
  }
 },
 "nbformat": 4,
 "nbformat_minor": 2
}
