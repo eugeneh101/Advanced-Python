{
 "cells": [
  {
   "cell_type": "markdown",
   "metadata": {},
   "source": [
    "# Object Oriented Programming\n",
    "\n",
    "\n",
    "#### Boring, Academic Definition (Nobody Cares Except Professors and Pedantic, Technical Interviewers...):\n",
    "There are 4 fundamental tenets of Object Oriented Programming: Encapsulation, Inheritance, Abstraction, and Polymorphism.\n",
    "* `Encapsulation`: hide unnecessary details in our classes and provide a clear and simple interface for working with them.\n",
    "* `Inheritance`: class hierarchies improve code readability and enable the reuse of functionality.\n",
    "* `Abstraction`: deal with objects considering their important characteristics and ignore all other details.\n",
    "* `Polymorphism`: same manner with different objects, which define a specific implementation of some abstract behavior.\n",
    "\n",
    "#### Practical, Real-time Importance:\n",
    "We get an object that has functions (called methods) attached to them. You can store and change/manipulate data (called attributes) using methods. If you are fancy, you can build complex objects through inheritance and composition. \n",
    "\n",
    "You may ask why is C considered a produceral language if it has `array` (like a list of homogenous elements) and `struct` (like a list of different types) data types. Aren't they \"objects\"? Well, OOP gives you objects AND methods that are built into the definition of the class. C uses (separately defined) functions to modify their data structures.  \n",
    "To the other extreme, you have Java where you only get objects--there are no function calls. Even print is a method: `System.out.println()`\n",
    "\n",
    "\n",
    "#### Advanced (means fancy but often not very relevant) Topics:\n",
    "* `inheritance` (is-a relationship) vs `composition` (has-a relationship)\n",
    "* `parent class` (AKA superclass) and `child class` (AKA subclass), `super()` call\n",
    "* `multiple inheritance`, `MRO` (not Model Risk Officer! It's Method Resolution Order), `C3 linearization`\n",
    "* `metaclass`\n",
    "\n",
    "<img src=\"images/party_emoji.jpg\" width=70>\n",
    "#### Fun Fact Time!\n",
    "\n",
    "* `self` is not a special/reserved word in Python. In fact, you can use other words and it will still work. Extra Fun fact: JavaScripts equivalent of `self` is `this`. So... if you want to confuse people, you can use `this` instead of `self` ;-)"
   ]
  },
  {
   "cell_type": "code",
   "execution_count": 7,
   "metadata": {},
   "outputs": [
    {
     "data": {
      "text/plain": [
       "42"
      ]
     },
     "execution_count": 7,
     "metadata": {},
     "output_type": "execute_result"
    }
   ],
   "source": [
    "class AnotherSillyExample:\n",
    "    def __init__(banana, number): # no `self` here\n",
    "        banana.important_number = number\n",
    "    \n",
    "    def get_important_number(peach):\n",
    "        return peach.important_number\n",
    "\n",
    "AnotherSillyExample(42).get_important_number()"
   ]
  },
  {
   "cell_type": "code",
   "execution_count": 8,
   "metadata": {},
   "outputs": [
    {
     "data": {
      "text/plain": [
       "'Say Cheese!'"
      ]
     },
     "execution_count": 8,
     "metadata": {},
     "output_type": "execute_result"
    }
   ],
   "source": [
    "# How to emulate a class method with an instance method\n",
    "class Millenial:\n",
    "    my_class_attribute = \"Say Cheese!\"\n",
    "    \n",
    "    def takes_a(selfie): # technically an instance method pretending to be an class method\n",
    "        return type(selfie).my_class_attribute\n",
    "\n",
    "a_friend_you_know = Millenial()\n",
    "a_friend_you_know.takes_a()"
   ]
  },
  {
   "cell_type": "markdown",
   "metadata": {},
   "source": [
    "#### Another Fun Fact!\n",
    "\n",
    "In Python, it is said that \"everything is an object.\" What the pros (like yourself!) mean is that everything is an object/instance of a class. You ask what is a class a class of (tongue twister!)? A class is an instance of a metaclass (usually the metaclass is `type`). For example, even primitive types like numbers are an object, which have methods.\n",
    "\n",
    "```python\n",
    "(1).__add__(2) # returns 3\n",
    "```\n",
    "Of course, don't take \"everything is an object\" too literally. There are things like keywords and statements that are not objects. Anything that is assignable/savable/storable is an object; keywords and statements are not assignable."
   ]
  },
  {
   "cell_type": "code",
   "execution_count": null,
   "metadata": {},
   "outputs": [],
   "source": []
  },
  {
   "cell_type": "code",
   "execution_count": null,
   "metadata": {},
   "outputs": [],
   "source": []
  },
  {
   "cell_type": "markdown",
   "metadata": {},
   "source": [
    "TODOS:  \n",
    "method chaining, fluent interface  \n",
    "lots of hidden methods calling each other  \n",
    "how methods are truly called (and descriptor protocol), property  \n",
    "dunder methods: __del__, __call__, operator overloading; __dunder__ methods for everything\n",
    "old style vs new style classes\n",
    "factory method\n",
    "\n",
    "name mangling"
   ]
  }
 ],
 "metadata": {
  "kernelspec": {
   "display_name": "Python 3",
   "language": "python",
   "name": "python3"
  },
  "language_info": {
   "codemirror_mode": {
    "name": "ipython",
    "version": 3
   },
   "file_extension": ".py",
   "mimetype": "text/x-python",
   "name": "python",
   "nbconvert_exporter": "python",
   "pygments_lexer": "ipython3",
   "version": "3.6.4"
  }
 },
 "nbformat": 4,
 "nbformat_minor": 2
}
