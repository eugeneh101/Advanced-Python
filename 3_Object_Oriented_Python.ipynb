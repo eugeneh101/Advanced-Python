{
 "cells": [
  {
   "cell_type": "markdown",
   "metadata": {},
   "source": [
    "# Object Oriented Programming\n",
    "\n",
    "#### Boring, Academic Definition (Nobody Cares Except Professors and Pedantic, Technical Interviewers...):\n",
    "There are 4 fundamental tenets of Object Oriented Programming: Encapsulation, Inheritance, Abstraction, and Polymorphism.\n",
    "* `Encapsulation`: hide unnecessary details in our classes and provide a clear and simple interface for working with them.\n",
    "* `Inheritance`: class hierarchies improve code readability and enable the reuse of functionality.\n",
    "* `Abstraction`: deal with objects considering their important characteristics and ignore all other details.\n",
    "* `Polymorphism`: same manner with different objects, which define a specific implementation of some abstract behavior.\n",
    "\n",
    "#### Practical, Real-time Importance:\n",
    "We have an object that has functions (called methods) attached to them. You can store and change/manipulate data (called attributes) using methods. If you are fancy, you can build complex objects through inheritance and composition.\n",
    "\n",
    "You may ask why is C considered a produceral language if it has `array` (like a list of homogenous elements) and `struct` (like a list of different types) data types. Aren't they \"objects\"? Well, OOP gives you objects AND methods that are built into the definition of the class. C uses (separately defined) functions to modify their data structures.  \n",
    "To the other extreme, you have Java where you *only* have objects--there are no function calls. Even print is a method: `System.out.println()`\n",
    "\n",
    "## Review: Practical OOP\n",
    "Everybody talks about Object Oriented Programming. Here's some actual useful functionality.\n",
    "\n",
    "#### Lingo:\n",
    "* `class`: a blueprint or definition for creating an object. Another synonym for class is `type`.\n",
    "* `object` (also called an instance): an actual, living, breathing creation of a `class`--the manifestation of building out what was in your blueprint. The process of creating an instance is called `instantiation`. A secondary definition is that everything (storable) in Python is an object.\n",
    "* `method`: a function you put inside a class.\n",
    "* `attribute`: a variable inside an instance (also called instance variable or instance member) or class (also called class variable or class member).\n",
    "\n",
    "In short, a Python object has 3 main things: a type/class, data/attributes, methods. At an even higher level, OOP's core principle is combining data and code together. The data has access to code that it can run on itself. You can think of attributes as nouns and methods as verbs that act upon attributes. Or you can think of it in the inverse: the code has access to the data that is relevant to the code.\n",
    "\n",
    "#### 3 Types (What an OOP pun!) of Methods:\n",
    "* `instance method`: Most common (vast majority of time). Do something with the instance, ie update the instance's attributes or return something from that instance. Call from the instance.\n",
    "* `class method`: uncommon (maybe 10% of the time). Do something with the class, ie update the class's attributes or return something from that class. Call from the class or an instance.\n",
    "* `static method`: very uncommon (<5% of the time). Use no information about an instance or class, ie knows nothing about the instance or class. Just a regular function but you attached to a class (because it might be helpful). Effectively guarantees that the class or instance is not mutated. Call from the class or an instance."
   ]
  },
  {
   "cell_type": "code",
   "execution_count": 1,
   "metadata": {
    "scrolled": true
   },
   "outputs": [
    {
     "name": "stdout",
     "output_type": "stream",
     "text": [
      "10\n",
      "\n",
      "42 42\n",
      "42 42\n",
      "\n",
      "3 3\n"
     ]
    }
   ],
   "source": [
    "class MyClass:\n",
    "    my_class_attribute = 42  # notice it looks like a regular assignment within a class\n",
    "\n",
    "    def my_instance_method(self, my_instance_attribute):\n",
    "        self.my_instance_attribute = my_instance_attribute\n",
    "        return my_instance_attribute\n",
    "\n",
    "    @classmethod  # notice this decorator\n",
    "    def my_class_method(cls):  # notice `cls`, not `self`\n",
    "        return cls.my_class_attribute  # notice `cls`, not `self`\n",
    "\n",
    "    @staticmethod  # notice this decorator\n",
    "    def my_static_method(x, y):  # no `self` or `cls`\n",
    "        return x + y\n",
    "\n",
    "\n",
    "# instance method\n",
    "my_instance = MyClass()\n",
    "my_instance.my_instance_method(10)  # instance method call\n",
    "print(my_instance.my_instance_attribute, end=\"\\n\\n\")\n",
    "\n",
    "# class method\n",
    "print(\n",
    "    my_instance.my_class_method(),  # class method call\n",
    "    MyClass.my_class_method()  # also valid class method call\n",
    ")\n",
    "print(\n",
    "    MyClass.my_class_attribute,\n",
    "    my_instance.my_class_attribute,  # an instance can also see the class attribute\n",
    "    end=\"\\n\\n\"\n",
    ")\n",
    "\n",
    "# static method\n",
    "print(\n",
    "    my_instance.my_static_method(1, 2),  # static method call on instance works\n",
    "    MyClass.my_static_method(1, 2)  # static method call on class works\n",
    ")"
   ]
  },
  {
   "cell_type": "markdown",
   "metadata": {},
   "source": [
    "#### How Instance Methods are Really Called\n",
    "Have you ever wondered why you put `self` all the time in instance methods?\n",
    "* Couldn't Python have just omitted `self` for the instance methods?\n",
    "    * Then instance methods would look like static methods, and there's nothing to differentiate between them.\n",
    "        * Well, the `@staticmethod` decorator can be the differentiation between instance and static methods.\n",
    "            * Touché... 🤔\n",
    "\n",
    "But the real reason why you put `self` in instance methods is because how instance methods are really called: `instance.instance_method()` translates to `Class.instance_method(instance)`. The instance is passed in for the `self` argument."
   ]
  },
  {
   "cell_type": "code",
   "execution_count": 2,
   "metadata": {},
   "outputs": [
    {
     "name": "stdout",
     "output_type": "stream",
     "text": [
      "11\n",
      "12\n"
     ]
    }
   ],
   "source": [
    "my_instance.my_instance_method(11)  # instance method call\n",
    "print(my_instance.my_instance_attribute)\n",
    "\n",
    "MyClass.my_instance_method(my_instance, 12)  # logically equivalent syntax\n",
    "print(my_instance.my_instance_attribute)"
   ]
  },
  {
   "cell_type": "markdown",
   "metadata": {},
   "source": [
    "#### Fun Fact Time!\n",
    "<p align=\"center\"><img src=\"images/party_emoji.jpg\" width=70></p>\n",
    "\n",
    "* `self` is not a special/reserved word in Python. In fact, you can use other words and it will still work. Extra Fun fact: JavaScripts equivalent of `self` is `this`. So... if you want to confuse people, you can use `this` instead of `self` 😉"
   ]
  },
  {
   "cell_type": "code",
   "execution_count": 3,
   "metadata": {},
   "outputs": [
    {
     "data": {
      "text/plain": [
       "42"
      ]
     },
     "execution_count": 3,
     "metadata": {},
     "output_type": "execute_result"
    }
   ],
   "source": [
    "class AnotherSillyExample:\n",
    "    def __init__(banana, number):  # no `self` here\n",
    "        banana.important_number = number\n",
    "\n",
    "    def get_important_number(peach):\n",
    "        return peach.important_number\n",
    "\n",
    "AnotherSillyExample(42).get_important_number()"
   ]
  },
  {
   "cell_type": "code",
   "execution_count": 4,
   "metadata": {},
   "outputs": [
    {
     "data": {
      "text/plain": [
       "'Say Cheese!'"
      ]
     },
     "execution_count": 4,
     "metadata": {},
     "output_type": "execute_result"
    }
   ],
   "source": [
    "# how to emulate a class method with an instance method\n",
    "class Millenial:\n",
    "    my_class_attribute = \"Say Cheese!\"\n",
    "\n",
    "    def takes_a(selfie):  # technically an instance method pretending to be an class method\n",
    "        return type(selfie).my_class_attribute\n",
    "\n",
    "a_friend_you_know = Millenial()\n",
    "a_friend_you_know.takes_a()"
   ]
  },
  {
   "cell_type": "markdown",
   "metadata": {},
   "source": [
    "#### Another Fun Fact!\n",
    "In Python, it is said that \"everything is an object.\" What the pros (such as yourself!) mean is that everything is an object/instance of a class. You ask what is a class, an instance/object of (~~tongue~~ brain twister!)? A class is an instance of a metaclass (usually the metaclass is `type`). Anything that is assignable/savable/storable is an object. All objects inherit from `object`. `object` is actually a misnomer since it actually a class."
   ]
  },
  {
   "cell_type": "code",
   "execution_count": 5,
   "metadata": {},
   "outputs": [
    {
     "name": "stdout",
     "output_type": "stream",
     "text": [
      "<class 'type'> <object object at 0x0000024E0C162550>\n"
     ]
    }
   ],
   "source": [
    "print(\n",
    "    type(object),  # actually a class\n",
    "    object(),  # can make an instance out of the class\n",
    ")"
   ]
  },
  {
   "cell_type": "markdown",
   "metadata": {},
   "source": [
    "Of course, don't take \"everything is an object\" too literally. There are things like keywords and statements that are not objects--because keywords and some statements are not assignable.\n",
    "\n",
    "#### A Class Attribute, the One and Only\n",
    "A class attribute is shared with all the instances of the class. A class attribute is like an ansible where any changes to the class attribute are instantaneously communicated to all the instances. The reason is that instances do not store class attributes--the instance find the class attribute in the class, so there is only 1 copy of that attribute. On the other hand, instance attributes are independent and decoupled from one another, so if you change an instance attribute, it won't affect another instance's attribute."
   ]
  },
  {
   "cell_type": "code",
   "execution_count": 6,
   "metadata": {},
   "outputs": [
    {
     "name": "stdout",
     "output_type": "stream",
     "text": [
      "42\n",
      "42\n",
      "\n",
      "43\n",
      "43\n"
     ]
    }
   ],
   "source": [
    "print(MyClass.my_class_attribute)\n",
    "print(my_instance.my_class_attribute, end=\"\\n\\n\")  # instance looks up the class attribute\n",
    "\n",
    "MyClass.my_class_attribute += 1  # if class attribute changes\n",
    "print(MyClass.my_class_attribute)\n",
    "print(my_instance.my_class_attribute)  # then the instance aware of it"
   ]
  },
  {
   "cell_type": "markdown",
   "metadata": {},
   "source": [
    "#### Food for Thought (~~Tongue~~ Brain Twister): \n",
    "* What if an instance attribute has the same name as a class attribute? 🤔\n",
    "* If an instance attribute has the same name as a class attribute, what happens if you try to delete the attribute? Which one gets deleted? ❓\n",
    "\n",
    "Look in the section below (`Class or module?`) to find out!\n",
    "\n",
    "#### Class Method as an Alternative Constructor\n",
    "A common use case for class methods is that you want to create an instance, but you already know something about the instance you want to create and want a more convenient constructor. This is also called a factory method since the method is like a factory that creates more instances."
   ]
  },
  {
   "cell_type": "code",
   "execution_count": 7,
   "metadata": {},
   "outputs": [
    {
     "name": "stdout",
     "output_type": "stream",
     "text": [
      "{0: 'my_favorite_value', 1: 'my_favorite_value', 2: 'my_favorite_value'}\n",
      "{0: 'my_favorite_value', 1: 'my_favorite_value', 2: 'my_favorite_value'}\n"
     ]
    }
   ],
   "source": [
    "print({0: \"my_favorite_value\", 1: \"my_favorite_value\", 2: \"my_favorite_value\"})\n",
    "print(dict.fromkeys(range(3), \"my_favorite_value\"))  # class method as an alternative way to create an instance"
   ]
  },
  {
   "cell_type": "code",
   "execution_count": 8,
   "metadata": {},
   "outputs": [
    {
     "name": "stdout",
     "output_type": "stream",
     "text": [
      "2020-11-05 00:00:00\n",
      "2020-11-05 13:13:20\n",
      "2020-11-05 00:00:00\n",
      "2020-11-06 21:34:16.122536\n"
     ]
    }
   ],
   "source": [
    "from datetime import datetime\n",
    "\n",
    "print(datetime(2020, 11, 5))  # typical instantiation\n",
    "print(datetime.fromtimestamp(1604600000))  # alternative constructor with class method\n",
    "print(datetime.fromordinal(737734))  # alternative constructor with class method\n",
    "print(datetime.now())  # alternative constructor with class method"
   ]
  },
  {
   "cell_type": "code",
   "execution_count": 9,
   "metadata": {},
   "outputs": [
    {
     "name": "stdout",
     "output_type": "stream",
     "text": [
      "4 2\n",
      "5 5\n"
     ]
    }
   ],
   "source": [
    "class Rectangle:\n",
    "    def __init__(self, width, height):\n",
    "        self.width = width\n",
    "        self.height = height\n",
    "\n",
    "    @classmethod\n",
    "    def make_square(cls, side):\n",
    "        return cls(width=side, height=side)\n",
    "\n",
    "r = Rectangle(4, 2)\n",
    "print(r.width, r.height)\n",
    "\n",
    "s = Rectangle.make_square(5)  # we know that the width and height are the same for a square\n",
    "print(s.width, s.height)"
   ]
  },
  {
   "cell_type": "code",
   "execution_count": 10,
   "metadata": {},
   "outputs": [],
   "source": [
    "class Student:\n",
    "    def __init__(self, first_name, last_name):\n",
    "        self.first_name = first_name\n",
    "        self.last_name = last_name\n",
    "\n",
    "    @classmethod\n",
    "    def from_string(cls, name_str):\n",
    "        first_name, last_name = name_str.split(\" \")\n",
    "        student = cls(first_name, last_name)\n",
    "        return student\n",
    "\n",
    "    @classmethod\n",
    "    def from_json(cls, json_obj):\n",
    "        # parse json...\n",
    "        return student\n",
    "\n",
    "    @classmethod\n",
    "    def from_pickle(cls, pickle_file):\n",
    "        # load pickle file...\n",
    "        return student"
   ]
  },
  {
   "cell_type": "markdown",
   "metadata": {},
   "source": [
    "If your class becomes very popular, everybody wants to create instances of your classes but for their specific use cases. Don't restrict how instances are made. Give people what they want: everybody gets a constructor!\n",
    "<p align=\"center\"><img src=\"images/alternative_constructors.jpg\" width=400></p>"
   ]
  },
  {
   "cell_type": "code",
   "execution_count": null,
   "metadata": {},
   "outputs": [],
   "source": []
  },
  {
   "cell_type": "markdown",
   "metadata": {},
   "source": [
    "## History Lesson: Classic Classes vs New-Style Classes\n",
    "Why do classes somtimes inherit from `object` class but sometimes not? Well, that depends if you are using Python 2 vs 3.\n",
    "\n",
    "In Python 2, you have an option to inherit from `object`. Old style classes (AKA classic classes) inherit from nothing, so they do not have all the functionality of new-styled classes. The \"new-styled\" classes were introduced in Python 2.2 to unify the object model such that user-created classes become first class citizens. In Python 2, you should always use the new-styled class (ie inherit from `object`).\n",
    "\n",
    "```python\n",
    "class OldStyleClass:  # don't do in Python 2\n",
    "    pass\n",
    "\n",
    "class NewStyleClass(object):  # please do in Python 2\n",
    "    pass\n",
    "```\n",
    "\n",
    "In Python 3, you can use either the old-style or new-style *syntax* because it doesn't matter--you always get new-style class. Python 3 only has new-style classes where all classes inherit from `object`. If you use old-style class syntax, you automatically inherit from `object`. In fact, in Python 3 it is preferable to use the old-style class syntax, which is jokingly called the new-new style class.\n",
    "```python\n",
    "class NewNewStyleClass:  # looks identical to the OldStyleClass\n",
    "    pass\n",
    "```\n",
    "If you want your Python 3 code to be compatible to Python 2, then use new-style class syntax (where you explicitly inherit from `object`). However, if you want to ~~destroy Python 2~~ encourage people to use Python 3, then stay *classic*, my friends!"
   ]
  },
  {
   "cell_type": "code",
   "execution_count": 1,
   "metadata": {},
   "outputs": [
    {
     "data": {
      "text/plain": [
       "[__main__.NewNewStyleClass, object]"
      ]
     },
     "execution_count": 1,
     "metadata": {},
     "output_type": "execute_result"
    }
   ],
   "source": [
    "class NewNewStyleClass:  # looks identical to the OldStyleClass\n",
    "    pass\n",
    "\n",
    "NewNewStyleClass.mro()  # confirm that this class inherits from `object`. Works in Python 3.\n",
    "# Fails in Python 2 since it would then be an old style class."
   ]
  },
  {
   "cell_type": "code",
   "execution_count": null,
   "metadata": {},
   "outputs": [],
   "source": []
  },
  {
   "cell_type": "markdown",
   "metadata": {},
   "source": [
    "## Class or module?\n",
    "What is a module, you ask? A module is a fancy way of saying 1 `.py` file. Hence, a bunch of modules make up a library/framework. You can run a module (`python my_favorite_module.py`) or import a module (`import my_favorite_module`). In some sense, a class behaves like a module. You can run arbitrary code in the class."
   ]
  },
  {
   "cell_type": "code",
   "execution_count": 1,
   "metadata": {},
   "outputs": [
    {
     "name": "stdout",
     "output_type": "stream",
     "text": [
      "Print me now!\n"
     ]
    }
   ],
   "source": [
    "class Printer:\n",
    "    print(\"Print me now!\")"
   ]
  },
  {
   "cell_type": "code",
   "execution_count": 2,
   "metadata": {},
   "outputs": [
    {
     "name": "stdout",
     "output_type": "stream",
     "text": [
      "HI\n"
     ]
    }
   ],
   "source": [
    "class MethodDoesNotExist:\n",
    "    def print_method(self):\n",
    "        print(\"HI\")\n",
    "\n",
    "    print_method(\"Just execute it now\")  # just throw anything in for the `self` argument\n",
    "\n",
    "    del print_method"
   ]
  },
  {
   "cell_type": "code",
   "execution_count": 3,
   "metadata": {},
   "outputs": [
    {
     "ename": "AttributeError",
     "evalue": "'MethodDoesNotExist' object has no attribute 'print_method'",
     "output_type": "error",
     "traceback": [
      "\u001b[1;31m---------------------------------------------------------------------------\u001b[0m",
      "\u001b[1;31mAttributeError\u001b[0m                            Traceback (most recent call last)",
      "\u001b[1;32m<ipython-input-3-4a8a527d75ba>\u001b[0m in \u001b[0;36m<module>\u001b[1;34m()\u001b[0m\n\u001b[0;32m      1\u001b[0m \u001b[0mmdne\u001b[0m \u001b[1;33m=\u001b[0m \u001b[0mMethodDoesNotExist\u001b[0m\u001b[1;33m(\u001b[0m\u001b[1;33m)\u001b[0m\u001b[1;33m\u001b[0m\u001b[0m\n\u001b[1;32m----> 2\u001b[1;33m \u001b[0mmdne\u001b[0m\u001b[1;33m.\u001b[0m\u001b[0mprint_method\u001b[0m\u001b[1;33m(\u001b[0m\u001b[1;33m)\u001b[0m\u001b[1;33m\u001b[0m\u001b[0m\n\u001b[0m",
      "\u001b[1;31mAttributeError\u001b[0m: 'MethodDoesNotExist' object has no attribute 'print_method'"
     ]
    }
   ],
   "source": [
    "mdne = MethodDoesNotExist()\n",
    "mdne.print_method()"
   ]
  },
  {
   "cell_type": "markdown",
   "metadata": {},
   "source": [
    "A class attribute looks like the equivalent of a module's global variable."
   ]
  },
  {
   "cell_type": "code",
   "execution_count": 4,
   "metadata": {},
   "outputs": [
    {
     "name": "stdout",
     "output_type": "stream",
     "text": [
      "888\n"
     ]
    }
   ],
   "source": [
    "class Classy:\n",
    "    class_attribute = 888\n",
    "\n",
    "print(Classy.class_attribute)"
   ]
  },
  {
   "cell_type": "markdown",
   "metadata": {},
   "source": [
    "Like modules, classes are read from top to bottom and left to right. Most of the time, order of code in the class doesn't matter. Here's 1 instance (pun intended!) where the order does matter due to methods having the same name."
   ]
  },
  {
   "cell_type": "code",
   "execution_count": 5,
   "metadata": {},
   "outputs": [
    {
     "data": {
      "text/plain": [
       "\"I'm inside an instance\""
      ]
     },
     "execution_count": 5,
     "metadata": {},
     "output_type": "execute_result"
    }
   ],
   "source": [
    "class Doppelganger:\n",
    "    @classmethod\n",
    "    def method_with_same_name(cls):\n",
    "        return \"I'm inside a class\"\n",
    "\n",
    "    def method_with_same_name(self):\n",
    "        return \"I'm inside an instance\"\n",
    "\n",
    "d = Doppelganger()\n",
    "d.method_with_same_name()  # instance method is called"
   ]
  },
  {
   "cell_type": "code",
   "execution_count": 6,
   "metadata": {
    "scrolled": true
   },
   "outputs": [
    {
     "data": {
      "text/plain": [
       "\"I'm inside a class\""
      ]
     },
     "execution_count": 6,
     "metadata": {},
     "output_type": "execute_result"
    }
   ],
   "source": [
    "class Doppelganger:\n",
    "    def method_with_same_name(self):\n",
    "        return \"I'm inside an instance\"\n",
    "\n",
    "    @classmethod\n",
    "    def method_with_same_name(cls):\n",
    "        return \"I'm inside a class\"\n",
    "\n",
    "d = Doppelganger()\n",
    "d.method_with_same_name()  # classmethod is called"
   ]
  },
  {
   "cell_type": "markdown",
   "metadata": {},
   "source": [
    "The above code would be effectively equivalent to the following code in a module. Only 1 variable of the same name can exist inside the same namespace. The most recent variable definition is the one that takes effect."
   ]
  },
  {
   "cell_type": "code",
   "execution_count": 7,
   "metadata": {},
   "outputs": [
    {
     "data": {
      "text/plain": [
       "'Last'"
      ]
     },
     "execution_count": 7,
     "metadata": {},
     "output_type": "execute_result"
    }
   ],
   "source": [
    "function_with_same_name = lambda: \"First\"\n",
    "function_with_same_name = lambda: \"Last\"\n",
    "\n",
    "function_with_same_name()"
   ]
  },
  {
   "cell_type": "markdown",
   "metadata": {},
   "source": [
    "Previously I asked the thought experiment questions:\n",
    "* What if an instance attribute has the same name as a class attribute? 🤔\n",
    "* If an instance attribute has the same name as a class attribute, what happens if you try to delete the attribute? Which one gets deleted? ❓\n",
    "\n",
    "Here is the answer. Follow the scoping rules--look at the most specific thing (the instance). If you find the attribute or method, then you are done--you have found the instance attribute or instance method. Otherwise, look outwards to the class--to find the class attribute or class method. If the attribute or method is not found, then look at the parent class, etc."
   ]
  },
  {
   "cell_type": "code",
   "execution_count": 8,
   "metadata": {},
   "outputs": [],
   "source": [
    "class Doppelganger:\n",
    "    attribute = \"class\"\n",
    "\n",
    "    def __init__(self):\n",
    "        self.attribute = \"instance\""
   ]
  },
  {
   "cell_type": "code",
   "execution_count": 9,
   "metadata": {},
   "outputs": [
    {
     "data": {
      "text/plain": [
       "'instance'"
      ]
     },
     "execution_count": 9,
     "metadata": {},
     "output_type": "execute_result"
    }
   ],
   "source": [
    "d = Doppelganger()\n",
    "d.attribute"
   ]
  },
  {
   "cell_type": "code",
   "execution_count": 10,
   "metadata": {},
   "outputs": [
    {
     "data": {
      "text/plain": [
       "'class'"
      ]
     },
     "execution_count": 10,
     "metadata": {},
     "output_type": "execute_result"
    }
   ],
   "source": [
    "del d.attribute  # interestingly you can delete the attribute of the instance\n",
    "d.attribute  # so you can force the instance to look for the attribute in the class"
   ]
  },
  {
   "cell_type": "markdown",
   "metadata": {},
   "source": [
    "Like classes in a module, you can have classes inside of a class. A nested class is purely stylistic. There's no reason 1 class has to be defined inside another class versus separating them into 2 classes in the same namespace; the only reason I can think of is that the nested class is a \"helper function\" of the outer class--in that the nested class is only used by the outer class."
   ]
  },
  {
   "cell_type": "code",
   "execution_count": 11,
   "metadata": {},
   "outputs": [
    {
     "name": "stdout",
     "output_type": "stream",
     "text": [
      "<__main__.Outer.Inner object at 0x00000204FB655D68>\n"
     ]
    }
   ],
   "source": [
    "class Outer:\n",
    "    class Inner:\n",
    "        pass\n",
    "\n",
    "    @classmethod\n",
    "    def create_inner(cls):\n",
    "        return cls.Inner()\n",
    "\n",
    "print(Outer.create_inner())"
   ]
  },
  {
   "cell_type": "code",
   "execution_count": null,
   "metadata": {},
   "outputs": [],
   "source": []
  },
  {
   "cell_type": "markdown",
   "metadata": {},
   "source": [
    "## Cheat: How to Make a Method Look Like an Attribute? `@property`\n",
    "Have you ever wondered how pandas DataFrame always seem to know the shape of itself despite a bunch of transformations that can make it fatter or taller? When you filter a DataFrames, does it could how know many rows it drops and update `.shape`? When a DataFrame adds more columns, does it update `.shape`? When a DataFrame performs groupby, does it update `.shape`? Nope--it's cheating!  \n",
    "\n",
    "Come cheat with me. Have you ever wondered what those fancy-schmancy people using `@property` are do? `@property` is a way to mask what is truly a method to appear like an attribute. There are 2 reasons to use `@property`:\n",
    "1. A property doesn't know its value until it's called--that's how it's lazy. For things that are slow to extract (like accessing a row from a database), you don't want an instance to load up all its attributes. Hence, a property is a Just-In-Time calculation to prevent slow instantiation. Optionally, once the value is extracted, then it can be stored into a \"private\" attribute. Since there are no real private attributes in Python, \"private\" just means an attribute that a user isn't supposed to touch.\n",
    "2. Hide the internal implementation such that you can keep a public-facing API but swap out the backend implementation.\n",
    "\n",
    "\n",
    "__Case 1__: Why try to do all the math to figure out the shape when you can you calculate the shape only when you need it or if somebody asks for it?"
   ]
  },
  {
   "cell_type": "code",
   "execution_count": 1,
   "metadata": {},
   "outputs": [
    {
     "name": "stdout",
     "output_type": "stream",
     "text": [
      "    @property\n",
      "    def shape(self):\n",
      "        \"\"\"\n",
      "        Return a tuple representing the dimensionality of the DataFrame.\n",
      "\n",
      "        See Also\n",
      "        --------\n",
      "        ndarray.shape\n",
      "\n",
      "        Examples\n",
      "        --------\n",
      "        >>> df = pd.DataFrame({'col1': [1, 2], 'col2': [3, 4]})\n",
      "        >>> df.shape\n",
      "        (2, 2)\n",
      "\n",
      "        >>> df = pd.DataFrame({'col1': [1, 2], 'col2': [3, 4],\n",
      "        ...                    'col3': [5, 6]})\n",
      "        >>> df.shape\n",
      "        (2, 3)\n",
      "        \"\"\"\n",
      "        return len(self.index), len(self.columns)\n",
      "\n"
     ]
    }
   ],
   "source": [
    "import pandas as pd\n",
    "import inspect\n",
    "\n",
    "print(inspect.getsource(pd.DataFrame.shape.fget))  # the magic behind pd.DataFrame.shape is no more than 2 len() calls"
   ]
  },
  {
   "cell_type": "code",
   "execution_count": 2,
   "metadata": {},
   "outputs": [],
   "source": [
    "import time\n",
    "\n",
    "class SQLConnector:\n",
    "    def __init__(self):\n",
    "        self._row = None\n",
    "\n",
    "    @property\n",
    "    def row(self):  # notice when you use property, the only argument is `self`\n",
    "        if self._row is None:\n",
    "            time.sleep(5)  # suppose this is the runtime cost for a query\n",
    "            query_result = [\n",
    "                \"Question\", \"Riddler\",\n",
    "                \"Richard Reeds\", \"Victor Von Doom\",\n",
    "                \"Bucky Barnes\", \"Helmut Zemo\",\n",
    "                \"Mr. Anderson\", \"Agent Smith\",\n",
    "            ]\n",
    "            self._row = query_result  # result is now cached\n",
    "        else:\n",
    "            return self._row  # quick to access the 2nd time"
   ]
  },
  {
   "cell_type": "code",
   "execution_count": 3,
   "metadata": {},
   "outputs": [
    {
     "name": "stdout",
     "output_type": "stream",
     "text": [
      "Wall time: 0 ns\n",
      "Wall time: 5 s\n",
      "Wall time: 0 ns\n"
     ]
    },
    {
     "data": {
      "text/plain": [
       "['Question',\n",
       " 'Riddler',\n",
       " 'Richard Reeds',\n",
       " 'Victor Von Doom',\n",
       " 'Bucky Barnes',\n",
       " 'Helmut Zemo',\n",
       " 'Mr. Anderson',\n",
       " 'Agent Smith']"
      ]
     },
     "execution_count": 3,
     "metadata": {},
     "output_type": "execute_result"
    }
   ],
   "source": [
    "%time sql = SQLConnector() # fast\n",
    "%time sql.row # slow\n",
    "%time sql.row # fast"
   ]
  },
  {
   "cell_type": "markdown",
   "metadata": {},
   "source": [
    "__Case 2__: Suppose you know you will refactor your code (such as to introduce an optimization), you can use a public API that's stable for users. However, the real function doing the work can be swapped in and out and changed at will. Feel free to experiment and swap in the optimized versions."
   ]
  },
  {
   "cell_type": "code",
   "execution_count": 4,
   "metadata": {},
   "outputs": [
    {
     "data": {
      "text/plain": [
       "45"
      ]
     },
     "execution_count": 4,
     "metadata": {},
     "output_type": "execute_result"
    }
   ],
   "source": [
    "from functools import reduce\n",
    "\n",
    "class Adder:\n",
    "    def __init__(self, sequence):\n",
    "        self.sequence = sequence\n",
    "\n",
    "    def _novice(self, sequence):  # the actual method that does the work can have as many arguments as you like\n",
    "        result = 0\n",
    "        for element in sequence:\n",
    "            result = result + element\n",
    "        return result\n",
    "\n",
    "    def _intermediate(self, sequence):\n",
    "        result = reduce(lambda x, y: x + y, sequence, 0)\n",
    "        return result\n",
    "\n",
    "    def _pro(self, sequence):\n",
    "        result = sum(sequence)\n",
    "        return result\n",
    "\n",
    "    @property\n",
    "    def adder(self):  # people can always rely on this public API\n",
    "        return self._novice(self.sequence)  # but the real work is done here.\n",
    "        # Replace with the other helper method calls\n",
    "\n",
    "\n",
    "Adder(range(10)).adder"
   ]
  },
  {
   "cell_type": "code",
   "execution_count": null,
   "metadata": {},
   "outputs": [],
   "source": []
  },
  {
   "cell_type": "markdown",
   "metadata": {},
   "source": [
    "#### Get, Set, Go!: Accessor and Mutator\n",
    "The previous `@property` examples only show the __getter__ (AKA __accessor__). How do you set the value of a property? That's called the __setter__ (AKA __mutator__). A `@property` actually has 3 components: getter, setter, and deleter. If you don't implement the setter, then the property is read-only--as there is no way to set the value. This is how you can create something that resembles a \"private\" attribute in Python. Try to comment out the setter to see that attempting to assign a value to the property will raise an exception. The deleter doesn't have a cool name; it is just deleter. It follows the same logic as the setter; without defining the deleter method, then the property cannot be deleted."
   ]
  },
  {
   "cell_type": "code",
   "execution_count": 5,
   "metadata": {},
   "outputs": [
    {
     "name": "stdout",
     "output_type": "stream",
     "text": [
      "I can be any age I want!\n",
      "21 get\n",
      "21 get\n",
      "I can be any age you want!\n",
      "42 set\n"
     ]
    },
    {
     "ename": "AttributeError",
     "evalue": "can't delete attribute",
     "output_type": "error",
     "traceback": [
      "\u001b[1;31m---------------------------------------------------------------------------\u001b[0m",
      "\u001b[1;31mAttributeError\u001b[0m                            Traceback (most recent call last)",
      "\u001b[1;32m<ipython-input-5-2db23e56f3a1>\u001b[0m in \u001b[0;36m<module>\u001b[1;34m\u001b[0m\n\u001b[0;32m     26\u001b[0m \u001b[0msb\u001b[0m\u001b[1;33m.\u001b[0m\u001b[0mage\u001b[0m \u001b[1;33m=\u001b[0m \u001b[1;36m42\u001b[0m \u001b[1;31m# set the age\u001b[0m\u001b[1;33m\u001b[0m\u001b[1;33m\u001b[0m\u001b[0m\n\u001b[0;32m     27\u001b[0m \u001b[0mprint\u001b[0m\u001b[1;33m(\u001b[0m\u001b[0msb\u001b[0m\u001b[1;33m.\u001b[0m\u001b[0mage\u001b[0m\u001b[1;33m,\u001b[0m \u001b[1;34m\"set\"\u001b[0m\u001b[1;33m)\u001b[0m\u001b[1;33m\u001b[0m\u001b[1;33m\u001b[0m\u001b[0m\n\u001b[1;32m---> 28\u001b[1;33m \u001b[1;32mdel\u001b[0m \u001b[0msb\u001b[0m\u001b[1;33m.\u001b[0m\u001b[0mage\u001b[0m\u001b[1;33m\u001b[0m\u001b[1;33m\u001b[0m\u001b[0m\n\u001b[0m",
      "\u001b[1;31mAttributeError\u001b[0m: can't delete attribute"
     ]
    }
   ],
   "source": [
    "import random\n",
    "\n",
    "class SecretBirthday:\n",
    "    def __init__(self):\n",
    "        self._age = None\n",
    "\n",
    "    @property\n",
    "    def age(self):  # the getter only has `self` as an argument\n",
    "        if self._age is None:\n",
    "            print(\"I can be any age I want!\")\n",
    "            self._age = random.randint(0, 100)\n",
    "            return self._age\n",
    "        else:\n",
    "            return self._age  # you want to return something as you are getting the value\n",
    "\n",
    "    @age.setter\n",
    "    def age(self, age): # setter has only 2 arguments: `self` and another argument holding the value to set to\n",
    "        print(\"I can be any age you want!\")\n",
    "        self._age = age\n",
    "        # no return because you just set something\n",
    "\n",
    "\n",
    "sb = SecretBirthday()\n",
    "print(sb.age, \"get\")  # generate an age\n",
    "print(sb.age, \"get\")  # get the last age saved\n",
    "sb.age = 42  # set the age\n",
    "print(sb.age, \"set\")\n",
    "del sb.age # since I did not create an `@age.deleter`, you can't actually delete this attribute"
   ]
  },
  {
   "cell_type": "markdown",
   "metadata": {},
   "source": [
    "Because `@property` is so flexible in that it can contain any arbitrary function, here's an example of how expressive (weird) it can be. Don't do this in real life. 😈\n",
    "In the setter, you typical just assign an object to an instance attribute. I am going to mutate that object. In a getter, you typically just retrieve the instance attribute. I am going to mutate that instance attribute. All in the name of good fun and why Python is magic. ✨"
   ]
  },
  {
   "cell_type": "code",
   "execution_count": 6,
   "metadata": {},
   "outputs": [],
   "source": [
    "class WeirdClass:\n",
    "    @property\n",
    "    def weird_attribute(self):\n",
    "        return self._weird_attribute.pop()\n",
    "\n",
    "    @weird_attribute.setter\n",
    "    def weird_attribute(self, val):\n",
    "        self._weird_attribute = []\n",
    "        for _ in range(len(val) // 2):\n",
    "            self._weird_attribute.append(val.pop())"
   ]
  },
  {
   "cell_type": "code",
   "execution_count": 7,
   "metadata": {},
   "outputs": [],
   "source": [
    "lst = [1, 2, 3, 4, 5]"
   ]
  },
  {
   "cell_type": "code",
   "execution_count": 8,
   "metadata": {},
   "outputs": [],
   "source": [
    "wc = WeirdClass()\n",
    "wc.weird_attribute = lst"
   ]
  },
  {
   "cell_type": "code",
   "execution_count": 9,
   "metadata": {},
   "outputs": [
    {
     "data": {
      "text/plain": [
       "[1, 2, 3]"
      ]
     },
     "execution_count": 9,
     "metadata": {},
     "output_type": "execute_result"
    }
   ],
   "source": [
    "lst  # this object is now mutated"
   ]
  },
  {
   "cell_type": "code",
   "execution_count": 10,
   "metadata": {},
   "outputs": [
    {
     "data": {
      "text/plain": [
       "[5, 4]"
      ]
     },
     "execution_count": 10,
     "metadata": {},
     "output_type": "execute_result"
    }
   ],
   "source": [
    "wc._weird_attribute  # this are the elements that are transferred"
   ]
  },
  {
   "cell_type": "code",
   "execution_count": 11,
   "metadata": {},
   "outputs": [
    {
     "name": "stdout",
     "output_type": "stream",
     "text": [
      "4\n",
      "5\n"
     ]
    },
    {
     "ename": "IndexError",
     "evalue": "pop from empty list",
     "output_type": "error",
     "traceback": [
      "\u001b[1;31m---------------------------------------------------------------------------\u001b[0m",
      "\u001b[1;31mIndexError\u001b[0m                                Traceback (most recent call last)",
      "\u001b[1;32m<ipython-input-11-fcc0da6e24c3>\u001b[0m in \u001b[0;36m<module>\u001b[1;34m\u001b[0m\n\u001b[0;32m      1\u001b[0m \u001b[0mprint\u001b[0m\u001b[1;33m(\u001b[0m\u001b[0mwc\u001b[0m\u001b[1;33m.\u001b[0m\u001b[0mweird_attribute\u001b[0m\u001b[1;33m)\u001b[0m  \u001b[1;31m# changes attribute\u001b[0m\u001b[1;33m\u001b[0m\u001b[1;33m\u001b[0m\u001b[0m\n\u001b[0;32m      2\u001b[0m \u001b[0mprint\u001b[0m\u001b[1;33m(\u001b[0m\u001b[0mwc\u001b[0m\u001b[1;33m.\u001b[0m\u001b[0mweird_attribute\u001b[0m\u001b[1;33m)\u001b[0m  \u001b[1;31m# changes attribute\u001b[0m\u001b[1;33m\u001b[0m\u001b[1;33m\u001b[0m\u001b[0m\n\u001b[1;32m----> 3\u001b[1;33m \u001b[0mprint\u001b[0m\u001b[1;33m(\u001b[0m\u001b[0mwc\u001b[0m\u001b[1;33m.\u001b[0m\u001b[0mweird_attribute\u001b[0m\u001b[1;33m)\u001b[0m  \u001b[1;31m# nothing left\u001b[0m\u001b[1;33m\u001b[0m\u001b[1;33m\u001b[0m\u001b[0m\n\u001b[0m",
      "\u001b[1;32m<ipython-input-6-3132ae03e086>\u001b[0m in \u001b[0;36mweird_attribute\u001b[1;34m(self)\u001b[0m\n\u001b[0;32m      2\u001b[0m     \u001b[1;33m@\u001b[0m\u001b[0mproperty\u001b[0m\u001b[1;33m\u001b[0m\u001b[1;33m\u001b[0m\u001b[0m\n\u001b[0;32m      3\u001b[0m     \u001b[1;32mdef\u001b[0m \u001b[0mweird_attribute\u001b[0m\u001b[1;33m(\u001b[0m\u001b[0mself\u001b[0m\u001b[1;33m)\u001b[0m\u001b[1;33m:\u001b[0m\u001b[1;33m\u001b[0m\u001b[1;33m\u001b[0m\u001b[0m\n\u001b[1;32m----> 4\u001b[1;33m         \u001b[1;32mreturn\u001b[0m \u001b[0mself\u001b[0m\u001b[1;33m.\u001b[0m\u001b[0m_weird_attribute\u001b[0m\u001b[1;33m.\u001b[0m\u001b[0mpop\u001b[0m\u001b[1;33m(\u001b[0m\u001b[1;33m)\u001b[0m\u001b[1;33m\u001b[0m\u001b[1;33m\u001b[0m\u001b[0m\n\u001b[0m\u001b[0;32m      5\u001b[0m \u001b[1;33m\u001b[0m\u001b[0m\n\u001b[0;32m      6\u001b[0m     \u001b[1;33m@\u001b[0m\u001b[0mweird_attribute\u001b[0m\u001b[1;33m.\u001b[0m\u001b[0msetter\u001b[0m\u001b[1;33m\u001b[0m\u001b[1;33m\u001b[0m\u001b[0m\n",
      "\u001b[1;31mIndexError\u001b[0m: pop from empty list"
     ]
    }
   ],
   "source": [
    "print(wc.weird_attribute)  # changes attribute\n",
    "print(wc.weird_attribute)  # changes attribute\n",
    "print(wc.weird_attribute)  # nothing left"
   ]
  },
  {
   "cell_type": "code",
   "execution_count": null,
   "metadata": {},
   "outputs": [],
   "source": []
  },
  {
   "cell_type": "markdown",
   "metadata": {},
   "source": [
    "## Are you Fluent in Objects\n",
    "Many OOP languages (like Java) offer syntactic sugar styles. Python offers __method chaining__ and __fluent interface__.  \n",
    "* __Method chaining__: keep adding more methods. The methods can be called on the original object or another object: `obj.method1().method2().method3()`\n",
    "* __Fluent interface__: a specific form of method chaining where you keep changing the _same_ object in-place (via each method returns `self`). Here's is an example of fluent interface:"
   ]
  },
  {
   "cell_type": "code",
   "execution_count": 1,
   "metadata": {},
   "outputs": [
    {
     "name": "stdout",
     "output_type": "stream",
     "text": [
      "4 18 200 0\n"
     ]
    }
   ],
   "source": [
    "class FantasyCarDesigner:\n",
    "    def __init__(self):\n",
    "        self.cup_holders = None\n",
    "        self.tires = None\n",
    "        self.max_speed = None\n",
    "        self.airbags = None\n",
    "\n",
    "    def set_cup_holders(self, cup_holders):\n",
    "        self.cup_holders = cup_holders\n",
    "        return self  # notice return `self` allows the chaining\n",
    "\n",
    "    def set_tires(self, tires):\n",
    "        self.tires = tires\n",
    "        return self\n",
    "\n",
    "    def set_max_speed(self, max_speed):\n",
    "        self.max_speed = max_speed\n",
    "        return self\n",
    "\n",
    "    def set_airbags(self, airbags):\n",
    "        self.airbags = airbags\n",
    "        return self\n",
    "\n",
    "my_wheelz = (  # the parenthesis allows implicit line continuation\n",
    "    FantasyCarDesigner()\n",
    "    .set_cup_holders(4)  # stay classy, Mr. Bond\n",
    "    .set_tires(18)  # is the Dreadnought behind us, Frankenstein?\n",
    "    .set_max_speed(200)  # how furious today, Dom?\n",
    "    .set_airbags(0)  # is this a good idea, Imperator Furiosa?\n",
    ")\n",
    "print(my_wheelz.cup_holders, my_wheelz.tires, my_wheelz.max_speed, my_wheelz.airbags)"
   ]
  },
  {
   "cell_type": "markdown",
   "metadata": {},
   "source": [
    "Soup up yo' ride, ricer style!\n",
    "<p align=\"center\"><img src=\"images/ricer.jpg\"></p>\n",
    "\n",
    "The boring equivalent without fluent interface is"
   ]
  },
  {
   "cell_type": "code",
   "execution_count": 2,
   "metadata": {},
   "outputs": [
    {
     "name": "stdout",
     "output_type": "stream",
     "text": [
      "1 2 10 2\n"
     ]
    }
   ],
   "source": [
    "boring_car = FantasyCarDesigner()\n",
    "boring_car.set_cup_holders(1)  # square?\n",
    "boring_car.set_tires(2)  # a moped?\n",
    "boring_car.set_max_speed(10)  # right lane only\n",
    "boring_car.set_airbags(2) #  safe rather than sorry\n",
    "print(boring_car.cup_holders, boring_car.tires, boring_car.max_speed, boring_car.airbags)"
   ]
  },
  {
   "cell_type": "markdown",
   "metadata": {},
   "source": [
    "__NOTE__: When you are using fluent interface, you are modifying 1 object in-place. Because fluent interface syntax is identical to regular method chaining, do _not_ mix multiple objects like in the following example where you are jumping between objects. Stylistically, use the boring style if you are switching between objects."
   ]
  },
  {
   "cell_type": "code",
   "execution_count": 3,
   "metadata": {},
   "outputs": [
    {
     "name": "stdout",
     "output_type": "stream",
     "text": [
      "21\n",
      "21\n"
     ]
    }
   ],
   "source": [
    "# this is NOT fluent interface--it is just method chaining\n",
    "print(  # avoid method chaining when transforming between different objects\n",
    "    \"a|a|\"  # starts as a string\n",
    "    .__rmul__(10)  # now a longer string\n",
    "    .split(\"|\")  # now a list\n",
    "    .__len__()  # now an integer\n",
    "    .__repr__()  # now back to a string\n",
    ")\n",
    "\n",
    "# logically equivalent and preferred\n",
    "string = \"a|a|\"\n",
    "new_string = string * 10\n",
    "string_in_list = new_string.split(\"|\")\n",
    "list_length = len(string_in_list)\n",
    "list_length_str = repr(list_length)\n",
    "print(list_length_str)"
   ]
  },
  {
   "cell_type": "markdown",
   "metadata": {},
   "source": [
    "The previous example was kind of contrived. Here's a more common, real use case--though still a relatively obsure feature. It turns out `pandas` gives you a fluent interface using the `.assign()` method.  \n",
    "NOTE: I am lying a bit since `.assign()` gives you the <i>illusion</i> of a fluent interface since during each `.assign()` call, your original dataframe is copied and a <i>new</i> dataframe is returned to you. Hence, you are not mutate your original dataframe in-place."
   ]
  },
  {
   "cell_type": "code",
   "execution_count": 4,
   "metadata": {},
   "outputs": [
    {
     "data": {
      "text/html": [
       "<div>\n",
       "<style scoped>\n",
       "    .dataframe tbody tr th:only-of-type {\n",
       "        vertical-align: middle;\n",
       "    }\n",
       "\n",
       "    .dataframe tbody tr th {\n",
       "        vertical-align: top;\n",
       "    }\n",
       "\n",
       "    .dataframe thead th {\n",
       "        text-align: right;\n",
       "    }\n",
       "</style>\n",
       "<table border=\"1\" class=\"dataframe\">\n",
       "  <thead>\n",
       "    <tr style=\"text-align: right;\">\n",
       "      <th></th>\n",
       "      <th>col</th>\n",
       "      <th>new_col1</th>\n",
       "      <th>new_col2</th>\n",
       "    </tr>\n",
       "  </thead>\n",
       "  <tbody>\n",
       "    <tr>\n",
       "      <th>0</th>\n",
       "      <td>0</td>\n",
       "      <td>0</td>\n",
       "      <td>0</td>\n",
       "    </tr>\n",
       "    <tr>\n",
       "      <th>1</th>\n",
       "      <td>0</td>\n",
       "      <td>2</td>\n",
       "      <td>3</td>\n",
       "    </tr>\n",
       "    <tr>\n",
       "      <th>2</th>\n",
       "      <td>0</td>\n",
       "      <td>4</td>\n",
       "      <td>6</td>\n",
       "    </tr>\n",
       "    <tr>\n",
       "      <th>3</th>\n",
       "      <td>0</td>\n",
       "      <td>6</td>\n",
       "      <td>9</td>\n",
       "    </tr>\n",
       "    <tr>\n",
       "      <th>4</th>\n",
       "      <td>0</td>\n",
       "      <td>8</td>\n",
       "      <td>12</td>\n",
       "    </tr>\n",
       "    <tr>\n",
       "      <th>5</th>\n",
       "      <td>0</td>\n",
       "      <td>10</td>\n",
       "      <td>15</td>\n",
       "    </tr>\n",
       "    <tr>\n",
       "      <th>6</th>\n",
       "      <td>0</td>\n",
       "      <td>12</td>\n",
       "      <td>18</td>\n",
       "    </tr>\n",
       "    <tr>\n",
       "      <th>7</th>\n",
       "      <td>0</td>\n",
       "      <td>14</td>\n",
       "      <td>21</td>\n",
       "    </tr>\n",
       "    <tr>\n",
       "      <th>8</th>\n",
       "      <td>0</td>\n",
       "      <td>16</td>\n",
       "      <td>24</td>\n",
       "    </tr>\n",
       "    <tr>\n",
       "      <th>9</th>\n",
       "      <td>0</td>\n",
       "      <td>18</td>\n",
       "      <td>27</td>\n",
       "    </tr>\n",
       "  </tbody>\n",
       "</table>\n",
       "</div>"
      ],
      "text/plain": [
       "   col  new_col1  new_col2\n",
       "0    0         0         0\n",
       "1    0         2         3\n",
       "2    0         4         6\n",
       "3    0         6         9\n",
       "4    0         8        12\n",
       "5    0        10        15\n",
       "6    0        12        18\n",
       "7    0        14        21\n",
       "8    0        16        24\n",
       "9    0        18        27"
      ]
     },
     "execution_count": 4,
     "metadata": {},
     "output_type": "execute_result"
    }
   ],
   "source": [
    "import pandas as pd\n",
    "\n",
    "df = pd.DataFrame({\"col\": range(10)})\n",
    "new_df = (\n",
    "    df  # assign() has an argument name of the column name; the value is either a callable or raw value\n",
    "    .assign(new_col1=lambda self: self[\"col\"] * 2)  # create new column (using callable)\n",
    "    .assign(new_col2=lambda self: self[\"col\"] * 3)  # create another new column based on the new column (using callable)\n",
    "    .assign(col=0)  # overwrite original column (using raw value)\n",
    ")\n",
    "new_df"
   ]
  },
  {
   "cell_type": "code",
   "execution_count": 5,
   "metadata": {},
   "outputs": [
    {
     "data": {
      "text/html": [
       "<div>\n",
       "<style scoped>\n",
       "    .dataframe tbody tr th:only-of-type {\n",
       "        vertical-align: middle;\n",
       "    }\n",
       "\n",
       "    .dataframe tbody tr th {\n",
       "        vertical-align: top;\n",
       "    }\n",
       "\n",
       "    .dataframe thead th {\n",
       "        text-align: right;\n",
       "    }\n",
       "</style>\n",
       "<table border=\"1\" class=\"dataframe\">\n",
       "  <thead>\n",
       "    <tr style=\"text-align: right;\">\n",
       "      <th></th>\n",
       "      <th>col</th>\n",
       "    </tr>\n",
       "  </thead>\n",
       "  <tbody>\n",
       "    <tr>\n",
       "      <th>0</th>\n",
       "      <td>0</td>\n",
       "    </tr>\n",
       "    <tr>\n",
       "      <th>1</th>\n",
       "      <td>1</td>\n",
       "    </tr>\n",
       "    <tr>\n",
       "      <th>2</th>\n",
       "      <td>2</td>\n",
       "    </tr>\n",
       "    <tr>\n",
       "      <th>3</th>\n",
       "      <td>3</td>\n",
       "    </tr>\n",
       "    <tr>\n",
       "      <th>4</th>\n",
       "      <td>4</td>\n",
       "    </tr>\n",
       "    <tr>\n",
       "      <th>5</th>\n",
       "      <td>5</td>\n",
       "    </tr>\n",
       "    <tr>\n",
       "      <th>6</th>\n",
       "      <td>6</td>\n",
       "    </tr>\n",
       "    <tr>\n",
       "      <th>7</th>\n",
       "      <td>7</td>\n",
       "    </tr>\n",
       "    <tr>\n",
       "      <th>8</th>\n",
       "      <td>8</td>\n",
       "    </tr>\n",
       "    <tr>\n",
       "      <th>9</th>\n",
       "      <td>9</td>\n",
       "    </tr>\n",
       "  </tbody>\n",
       "</table>\n",
       "</div>"
      ],
      "text/plain": [
       "   col\n",
       "0    0\n",
       "1    1\n",
       "2    2\n",
       "3    3\n",
       "4    4\n",
       "5    5\n",
       "6    6\n",
       "7    7\n",
       "8    8\n",
       "9    9"
      ]
     },
     "execution_count": 5,
     "metadata": {},
     "output_type": "execute_result"
    }
   ],
   "source": [
    "df  # not mutated"
   ]
  },
  {
   "cell_type": "code",
   "execution_count": 6,
   "metadata": {},
   "outputs": [
    {
     "name": "stdout",
     "output_type": "stream",
     "text": [
      "2622265437488 2622265437544 False\n"
     ]
    }
   ],
   "source": [
    "print(id(df), id(new_df), df is new_df)  # proof that the 2 dataframes are totally separate and independent objects"
   ]
  },
  {
   "cell_type": "code",
   "execution_count": null,
   "metadata": {},
   "outputs": [],
   "source": []
  },
  {
   "cell_type": "markdown",
   "metadata": {},
   "source": [
    "## Python's Data Model: (Magic) Methods All the Way Down\n",
    "Python's objects are really dictionaries. Even if `type(obj)` says `int` or `str`, the object is implemented with a dictionary, which holds all the methods, which are then accessed through magic methods, which are implemented by the Descriptor Protocol... Sorry, I lied to you: I'm not going to tell you about the Descriptor Protocol; it's just the low-level implementation detail that powers everything but is not important to know. The more useful thing is to understand methods, attributes, `@property`, and a few magic methods.\n",
    "\n",
    "Basically, everything is an object, (almost) all objects are really dictionaries underneath, and all useful things come from magic methods. When somebody facetiously says that \"Python is magic\", they are somewhat technically correct. Python's awesomeness is implemented via *magic methods*. So the next question naturally is what is a magic method?\n",
    "\n",
    "Magic methods are also called dunder methods since dunder means double underscore. The most familiar magic method is `__init__`, but there are dozens of them. The reason for magic methods isn't because they are truly magic or special--they are just regular methods that Python object's already have implemented. For example, whenever you call `len(obj)`, it is actually calling `obj.__len__()`. When you implement your own magic methods inside the class, you are replacing their default behavior with your own; this is called <i>method overriding</i>. When you are doing anything substantive in Python, you are actually triggering a bunch of magic method calls."
   ]
  },
  {
   "cell_type": "code",
   "execution_count": 1,
   "metadata": {},
   "outputs": [],
   "source": [
    "class Silly:\n",
    "    class_attribute = \"classy\"\n",
    "    def __init__(self, instance_attribute):\n",
    "        self.instance_attribute = instance_attribute\n",
    "\n",
    "s = Silly(\"instancy\")"
   ]
  },
  {
   "cell_type": "code",
   "execution_count": 2,
   "metadata": {},
   "outputs": [
    {
     "data": {
      "text/plain": [
       "{'instance_attribute': 'instancy'}"
      ]
     },
     "execution_count": 2,
     "metadata": {},
     "output_type": "execute_result"
    }
   ],
   "source": [
    "vars(s)  # to see the instance dict"
   ]
  },
  {
   "cell_type": "code",
   "execution_count": 3,
   "metadata": {},
   "outputs": [
    {
     "data": {
      "text/plain": [
       "{'instance_attribute': 'instancy'}"
      ]
     },
     "execution_count": 3,
     "metadata": {},
     "output_type": "execute_result"
    }
   ],
   "source": [
    "s.__dict__  # another way to see the instance dict"
   ]
  },
  {
   "cell_type": "code",
   "execution_count": 4,
   "metadata": {},
   "outputs": [
    {
     "data": {
      "text/plain": [
       "['__class__',\n",
       " '__delattr__',\n",
       " '__dict__',\n",
       " '__dir__',\n",
       " '__doc__',\n",
       " '__eq__',\n",
       " '__format__',\n",
       " '__ge__',\n",
       " '__getattribute__',\n",
       " '__gt__',\n",
       " '__hash__',\n",
       " '__init__',\n",
       " '__init_subclass__',\n",
       " '__le__',\n",
       " '__lt__',\n",
       " '__module__',\n",
       " '__ne__',\n",
       " '__new__',\n",
       " '__reduce__',\n",
       " '__reduce_ex__',\n",
       " '__repr__',\n",
       " '__setattr__',\n",
       " '__sizeof__',\n",
       " '__str__',\n",
       " '__subclasshook__',\n",
       " '__weakref__',\n",
       " 'class_attribute',\n",
       " 'instance_attribute']"
      ]
     },
     "execution_count": 4,
     "metadata": {},
     "output_type": "execute_result"
    }
   ],
   "source": [
    "dir(s)  # I prefer dir() over vars() since dirs() let's you see the attributes (of the instance, class,\n",
    "# parent class) and methods (of the instance, class, parent class). Basically everything."
   ]
  },
  {
   "cell_type": "code",
   "execution_count": 5,
   "metadata": {},
   "outputs": [
    {
     "data": {
      "text/plain": [
       "['__bool__',\n",
       " '__class__',\n",
       " '__delattr__',\n",
       " '__dir__',\n",
       " '__doc__',\n",
       " '__eq__',\n",
       " '__format__',\n",
       " '__ge__',\n",
       " '__getattribute__',\n",
       " '__gt__',\n",
       " '__hash__',\n",
       " '__init__',\n",
       " '__init_subclass__',\n",
       " '__le__',\n",
       " '__lt__',\n",
       " '__ne__',\n",
       " '__new__',\n",
       " '__reduce__',\n",
       " '__reduce_ex__',\n",
       " '__repr__',\n",
       " '__setattr__',\n",
       " '__sizeof__',\n",
       " '__str__',\n",
       " '__subclasshook__']"
      ]
     },
     "execution_count": 5,
     "metadata": {},
     "output_type": "execute_result"
    }
   ],
   "source": [
    "dir(None)  # even something as simple as a None has a bunch of magic methods"
   ]
  },
  {
   "cell_type": "code",
   "execution_count": 6,
   "metadata": {},
   "outputs": [
    {
     "data": {
      "text/plain": [
       "3"
      ]
     },
     "execution_count": 6,
     "metadata": {},
     "output_type": "execute_result"
    }
   ],
   "source": [
    "(1).__add__(2)  # even primitive types like int have methods"
   ]
  },
  {
   "cell_type": "code",
   "execution_count": 7,
   "metadata": {},
   "outputs": [
    {
     "data": {
      "text/plain": [
       "3.0"
      ]
     },
     "execution_count": 7,
     "metadata": {},
     "output_type": "execute_result"
    }
   ],
   "source": [
    "(1.).__add__(2)  # float instead of int"
   ]
  },
  {
   "cell_type": "code",
   "execution_count": 8,
   "metadata": {},
   "outputs": [
    {
     "data": {
      "text/plain": [
       "3.0"
      ]
     },
     "execution_count": 8,
     "metadata": {},
     "output_type": "execute_result"
    }
   ],
   "source": [
    "1. .__add__(2)  # also a float, you don't even need parentheses.\n",
    "# Method calls don't *have* to be written attached to the object, though stylistically we often do"
   ]
  },
  {
   "cell_type": "code",
   "execution_count": 9,
   "metadata": {},
   "outputs": [
    {
     "name": "stdout",
     "output_type": "stream",
     "text": [
      "[<class 'bool'>, <class 'int'>, <class 'object'>]\n"
     ]
    },
    {
     "data": {
      "text/plain": [
       "3"
      ]
     },
     "execution_count": 9,
     "metadata": {},
     "output_type": "execute_result"
    }
   ],
   "source": [
    "print(type(True).mro())  # bool class actually inherits from int class\n",
    "True.__add__(2)  # so instances of bool can actually do algebra"
   ]
  },
  {
   "cell_type": "code",
   "execution_count": 10,
   "metadata": {},
   "outputs": [
    {
     "data": {
      "text/plain": [
       "(1, 1, 1)"
      ]
     },
     "execution_count": 10,
     "metadata": {},
     "output_type": "execute_result"
    }
   ],
   "source": [
    "(\n",
    "    len([\"HI\"]),\n",
    "    [\"HI\"].__len__(),  # here is what len() is really doing\n",
    "    list.__len__([\"HI\"]),  # which actually resolves to this\n",
    ")"
   ]
  },
  {
   "cell_type": "markdown",
   "metadata": {},
   "source": [
    "#### Method Overriding\n",
    "When you are writing a method in a child class with the same name as the parent class, you are using a technique called <i>method overriding</i> because the child class's method will take place of/supersede/override the parent class's method. The most common example of method overriding is `__init__()`. The parent class of all classes is `object` and its `__init__()` does nothing. That's why we method override `__init__()` in child classes, usually to set some instance attributes.\n",
    "\n",
    "Note: in other OOP languages (like Java), there's something called <i>method overloading</i>, which does not exist in Python. Method overriding is not the same thing as method overloading.  \n",
    "Extra note: Just kidding! In newer versions of Python, you actually *can* do method overloading: `singledispatch()` (introduced in Python 3.4) and `singledispatchmethod()` (introduced in Python 3.8). Python's got you covered! Take a look at `4_Functional_Python.ipynb` for an example."
   ]
  },
  {
   "cell_type": "code",
   "execution_count": 11,
   "metadata": {},
   "outputs": [
    {
     "data": {
      "text/plain": [
       "'only the silliest!'"
      ]
     },
     "execution_count": 11,
     "metadata": {},
     "output_type": "execute_result"
    }
   ],
   "source": [
    "class SillyExample(object):  # let's inherit from the `object` class\n",
    "    def __init__(self, some_data):  # here we are method overriding `object`'s __init__() method\n",
    "        self.some_data = some_data\n",
    "\n",
    "se = SillyExample(\"only the silliest!\")\n",
    "se.some_data"
   ]
  },
  {
   "cell_type": "markdown",
   "metadata": {},
   "source": [
    "The following is not ideal for object instantiation, but it shows how you can access and mutate the object's dictionary to create (arbitrary) attributes without specifying arguments in `__init__()`."
   ]
  },
  {
   "cell_type": "code",
   "execution_count": 12,
   "metadata": {},
   "outputs": [],
   "source": [
    "class Issue:\n",
    "    def __init__(self, **kwargs):\n",
    "        self.__dict__.update(kwargs)\n",
    "\n",
    "bbw = Issue(title=\"Bloomberg\", price=5.99, pages=112)"
   ]
  },
  {
   "cell_type": "markdown",
   "metadata": {},
   "source": [
    "In fact, the `__init__` method is not even special. You can call it again anytime you want."
   ]
  },
  {
   "cell_type": "code",
   "execution_count": 13,
   "metadata": {},
   "outputs": [
    {
     "name": "stdout",
     "output_type": "stream",
     "text": [
      "apple\n",
      "coal\n"
     ]
    }
   ],
   "source": [
    "class A:\n",
    "    def __init__(self, teachers_pet):\n",
    "        self.teachers_pet = teachers_pet\n",
    "\n",
    "a = A(\"apple\")\n",
    "print(a.teachers_pet)\n",
    "\n",
    "a.__init__(\"coal\")\n",
    "print(a.teachers_pet)"
   ]
  },
  {
   "cell_type": "markdown",
   "metadata": {},
   "source": [
    "There's a specific magic method that only pertains to dictionaries: `__missing__`. You can override it to have fun behaviors. You can implement `Counter` and `defaultdict` using this technique."
   ]
  },
  {
   "cell_type": "code",
   "execution_count": 14,
   "metadata": {},
   "outputs": [],
   "source": [
    "class GrumpyDict(dict):\n",
    "    def __missing__(self, key):\n",
    "        print(\n",
    "            \"Dang nab it! I don't have your darn {}, \"\n",
    "            \"but I'll give half of it to ya, ya stinkin' free loader!\"\n",
    "            .format(key)\n",
    "        )\n",
    "        self[key] = key / 2\n",
    "        return self[key]"
   ]
  },
  {
   "cell_type": "code",
   "execution_count": 15,
   "metadata": {},
   "outputs": [
    {
     "name": "stdout",
     "output_type": "stream",
     "text": [
      "Dang nab it! I don't have your darn 42, but I'll give half of it to ya, ya stinkin' free loader!\n"
     ]
    },
    {
     "data": {
      "text/plain": [
       "21.0"
      ]
     },
     "execution_count": 15,
     "metadata": {},
     "output_type": "execute_result"
    }
   ],
   "source": [
    "old_timer = GrumpyDict()\n",
    "old_timer[42]  # [] will call the __getitem__() magic method"
   ]
  },
  {
   "cell_type": "code",
   "execution_count": 16,
   "metadata": {},
   "outputs": [
    {
     "name": "stdout",
     "output_type": "stream",
     "text": [
      "Dang nab it! I don't have your darn 41, but I'll give half of it to ya, ya stinkin' free loader!\n"
     ]
    },
    {
     "data": {
      "text/plain": [
       "20.5"
      ]
     },
     "execution_count": 16,
     "metadata": {},
     "output_type": "execute_result"
    }
   ],
   "source": [
    "old_timer.__getitem__(41)"
   ]
  },
  {
   "cell_type": "markdown",
   "metadata": {},
   "source": [
    "#### Operator Overloading\n",
    "When your class's method overrides a method corresponding to an operator (+, -, \\*, /, <, <=, >, >=, ==, |, &, >>), this is called operator overloading. Each operator has its own corresponding magic method. Let's take a look at the \"less than\" operator (<) and its magic method ( `__lt__()`), which I'll override, so we can have a different behavior."
   ]
  },
  {
   "cell_type": "code",
   "execution_count": 17,
   "metadata": {},
   "outputs": [
    {
     "name": "stdout",
     "output_type": "stream",
     "text": [
      "True\n",
      "False\n"
     ]
    },
    {
     "ename": "TypeError",
     "evalue": "'>' not supported between instances of 'TopsyTurvyNumber' and 'int'",
     "output_type": "error",
     "traceback": [
      "\u001b[1;31m---------------------------------------------------------------------------\u001b[0m",
      "\u001b[1;31mTypeError\u001b[0m                                 Traceback (most recent call last)",
      "\u001b[1;32m<ipython-input-17-af6cf72fcf6e>\u001b[0m in \u001b[0;36m<module>\u001b[1;34m\u001b[0m\n\u001b[0;32m      8\u001b[0m \u001b[0mprint\u001b[0m\u001b[1;33m(\u001b[0m\u001b[1;36m3\u001b[0m \u001b[1;33m<\u001b[0m \u001b[1;36m4\u001b[0m\u001b[1;33m)\u001b[0m\u001b[1;33m\u001b[0m\u001b[1;33m\u001b[0m\u001b[0m\n\u001b[0;32m      9\u001b[0m \u001b[0mprint\u001b[0m\u001b[1;33m(\u001b[0m\u001b[0mTopsyTurvyNumber\u001b[0m\u001b[1;33m(\u001b[0m\u001b[1;36m3\u001b[0m\u001b[1;33m)\u001b[0m \u001b[1;33m<\u001b[0m \u001b[1;36m4\u001b[0m\u001b[1;33m)\u001b[0m \u001b[1;31m# made it do the opposite of what you expected\u001b[0m\u001b[1;33m\u001b[0m\u001b[1;33m\u001b[0m\u001b[0m\n\u001b[1;32m---> 10\u001b[1;33m \u001b[0mprint\u001b[0m\u001b[1;33m(\u001b[0m\u001b[0mTopsyTurvyNumber\u001b[0m\u001b[1;33m(\u001b[0m\u001b[1;36m3\u001b[0m\u001b[1;33m)\u001b[0m \u001b[1;33m>\u001b[0m \u001b[1;36m4\u001b[0m\u001b[1;33m)\u001b[0m \u001b[1;31m# this fails since TopsyTurvyNumber does not have \"greater than\" method called __gt__() implemented\u001b[0m\u001b[1;33m\u001b[0m\u001b[1;33m\u001b[0m\u001b[0m\n\u001b[0m",
      "\u001b[1;31mTypeError\u001b[0m: '>' not supported between instances of 'TopsyTurvyNumber' and 'int'"
     ]
    }
   ],
   "source": [
    "class TopsyTurvyNumber:\n",
    "    def __init__(self, number):\n",
    "        self.number = number\n",
    "\n",
    "    def __lt__(self, other_number):\n",
    "        return self.number > other_number\n",
    "\n",
    "print(3 < 4)\n",
    "print(TopsyTurvyNumber(3) < 4)  # make it do the opposite of what you expected\n",
    "print(TopsyTurvyNumber(3) > 4)  # this fails since TopsyTurvyNumber does not have \"greater than\" method called __gt__() implemented"
   ]
  },
  {
   "cell_type": "code",
   "execution_count": 18,
   "metadata": {},
   "outputs": [],
   "source": [
    "class IntUpgraded(int):\n",
    "    def __add__(self, other):\n",
    "        if isinstance(other, (int, float)):\n",
    "            print(\"regular add\")\n",
    "            return super().__add__(other)  # super() is explained in the section below called \"Be a `super` hero: Ask Your Parent First\"\n",
    "        elif isinstance(other, str):\n",
    "            print(\"Being an integer is boring. Time to become a string\")\n",
    "            return str(self) + \"|\" + other\n",
    "        else:\n",
    "            raise TypeError(\"trying to add IntUpgraded to {}\".format(type(other)))"
   ]
  },
  {
   "cell_type": "code",
   "execution_count": 19,
   "metadata": {},
   "outputs": [
    {
     "name": "stdout",
     "output_type": "stream",
     "text": [
      "regular add\n"
     ]
    },
    {
     "data": {
      "text/plain": [
       "6"
      ]
     },
     "execution_count": 19,
     "metadata": {},
     "output_type": "execute_result"
    }
   ],
   "source": [
    "IntUpgraded(4) + 2  # regular math"
   ]
  },
  {
   "cell_type": "code",
   "execution_count": 20,
   "metadata": {},
   "outputs": [
    {
     "name": "stdout",
     "output_type": "stream",
     "text": [
      "Being an integer is boring. Time to become a string\n"
     ]
    },
    {
     "data": {
      "text/plain": [
       "'4|2'"
      ]
     },
     "execution_count": 20,
     "metadata": {},
     "output_type": "execute_result"
    }
   ],
   "source": [
    "IntUpgraded(4) + \"2\"  # convert IntUpgraded to string"
   ]
  },
  {
   "cell_type": "code",
   "execution_count": 21,
   "metadata": {},
   "outputs": [
    {
     "ename": "TypeError",
     "evalue": "trying to add IntUpgraded to <class 'dict'>",
     "output_type": "error",
     "traceback": [
      "\u001b[1;31m---------------------------------------------------------------------------\u001b[0m",
      "\u001b[1;31mTypeError\u001b[0m                                 Traceback (most recent call last)",
      "\u001b[1;32m<ipython-input-21-b8245d08b9da>\u001b[0m in \u001b[0;36m<module>\u001b[1;34m\u001b[0m\n\u001b[1;32m----> 1\u001b[1;33m \u001b[0mIntUpgraded\u001b[0m\u001b[1;33m(\u001b[0m\u001b[1;36m4\u001b[0m\u001b[1;33m)\u001b[0m \u001b[1;33m+\u001b[0m \u001b[1;33m{\u001b[0m\u001b[1;33m}\u001b[0m \u001b[1;31m# still breaks as desired\u001b[0m\u001b[1;33m\u001b[0m\u001b[1;33m\u001b[0m\u001b[0m\n\u001b[0m",
      "\u001b[1;32m<ipython-input-18-ecc4e881e6a2>\u001b[0m in \u001b[0;36m__add__\u001b[1;34m(self, other)\u001b[0m\n\u001b[0;32m      8\u001b[0m             \u001b[1;32mreturn\u001b[0m \u001b[0mstr\u001b[0m\u001b[1;33m(\u001b[0m\u001b[0mself\u001b[0m\u001b[1;33m)\u001b[0m \u001b[1;33m+\u001b[0m \u001b[1;34m\"|\"\u001b[0m \u001b[1;33m+\u001b[0m \u001b[0mother\u001b[0m\u001b[1;33m\u001b[0m\u001b[1;33m\u001b[0m\u001b[0m\n\u001b[0;32m      9\u001b[0m         \u001b[1;32melse\u001b[0m\u001b[1;33m:\u001b[0m\u001b[1;33m\u001b[0m\u001b[1;33m\u001b[0m\u001b[0m\n\u001b[1;32m---> 10\u001b[1;33m             \u001b[1;32mraise\u001b[0m \u001b[0mTypeError\u001b[0m\u001b[1;33m(\u001b[0m\u001b[1;34m\"trying to add IntUpgraded to {}\"\u001b[0m\u001b[1;33m.\u001b[0m\u001b[0mformat\u001b[0m\u001b[1;33m(\u001b[0m\u001b[0mtype\u001b[0m\u001b[1;33m(\u001b[0m\u001b[0mother\u001b[0m\u001b[1;33m)\u001b[0m\u001b[1;33m)\u001b[0m\u001b[1;33m)\u001b[0m\u001b[1;33m\u001b[0m\u001b[1;33m\u001b[0m\u001b[0m\n\u001b[0m",
      "\u001b[1;31mTypeError\u001b[0m: trying to add IntUpgraded to <class 'dict'>"
     ]
    }
   ],
   "source": [
    "IntUpgraded(4) + {}  # still breaks as desired"
   ]
  },
  {
   "cell_type": "markdown",
   "metadata": {},
   "source": [
    "However the following fails. The following line is equivalent to `\"2\".__add__(IntUpgraded(4))` and a `str` type does not know how to add to an `IntUpdated` instance."
   ]
  },
  {
   "cell_type": "code",
   "execution_count": 22,
   "metadata": {},
   "outputs": [
    {
     "ename": "TypeError",
     "evalue": "can only concatenate str (not \"IntUpgraded\") to str",
     "output_type": "error",
     "traceback": [
      "\u001b[1;31m---------------------------------------------------------------------------\u001b[0m",
      "\u001b[1;31mTypeError\u001b[0m                                 Traceback (most recent call last)",
      "\u001b[1;32m<ipython-input-22-fb2c405d6219>\u001b[0m in \u001b[0;36m<module>\u001b[1;34m\u001b[0m\n\u001b[1;32m----> 1\u001b[1;33m \u001b[1;34m\"2\"\u001b[0m \u001b[1;33m+\u001b[0m \u001b[0mIntUpgraded\u001b[0m\u001b[1;33m(\u001b[0m\u001b[1;36m4\u001b[0m\u001b[1;33m)\u001b[0m \u001b[1;31m# hmm what do we do?\u001b[0m\u001b[1;33m\u001b[0m\u001b[1;33m\u001b[0m\u001b[0m\n\u001b[0m",
      "\u001b[1;31mTypeError\u001b[0m: can only concatenate str (not \"IntUpgraded\") to str"
     ]
    }
   ],
   "source": [
    "\"2\" + IntUpgraded(4) # hmmm what do we do?"
   ]
  },
  {
   "cell_type": "markdown",
   "metadata": {},
   "source": [
    "#### Reflected Arithmetic Operators\n",
    "Python is magic ✨! For many arithmetic operator magic methods, there is a magic method that is <i>reflection</i>. Python is generally executed left to right. If the left-side object's magic method does not like (ie method does not support) the type of the right-side object, then Python will then execute the right-side object's <i>reflected</i> method to the left-side object. Usually, reflection methods are symmetric, so nothing weird happens.\n",
    "\n",
    "BUT it doesn't <i>have</i> to be 😲. Let's make something weird 🥴. For example in regular math, addition is commutative where order does not matter: `a + b == b + a` is always True. However in Python, you do <i>not</i> have to make addition commutative. Let's make a non-commutative addition:"
   ]
  },
  {
   "cell_type": "code",
   "execution_count": 23,
   "metadata": {},
   "outputs": [],
   "source": [
    "class IntUpgraded(int):\n",
    "    def __add__(self, other):  # copied and pasted this section from above\n",
    "        if isinstance(other, (int, float)):\n",
    "            print(\"regular add\")\n",
    "            return super().__add__(other)\n",
    "        elif isinstance(other, str):\n",
    "            print(\"Being an integer is boring. Time to become a string\")\n",
    "            return str(self) + \"|\" + other\n",
    "        else:\n",
    "            raise TypeError(\"trying to add IntUpgraded to {}\".format(type(other)))\n",
    "\n",
    "    def __radd__(self, other):  # added this section\n",
    "        if isinstance(other, (int, float)):\n",
    "            print(\"regular add\")\n",
    "            return super().__add__(other)\n",
    "        elif isinstance(other, str):\n",
    "            print(\"Being a float is AWESOME. Join me!\")\n",
    "            return float(other + str(self))\n",
    "        else:\n",
    "            raise TypeError(\"trying to add IntUpgraded to {}\".format(type(other)))"
   ]
  },
  {
   "cell_type": "code",
   "execution_count": 24,
   "metadata": {},
   "outputs": [
    {
     "name": "stdout",
     "output_type": "stream",
     "text": [
      "regular add\n"
     ]
    },
    {
     "data": {
      "text/plain": [
       "6"
      ]
     },
     "execution_count": 24,
     "metadata": {},
     "output_type": "execute_result"
    }
   ],
   "source": [
    "IntUpgraded(4) + 2  # regular math"
   ]
  },
  {
   "cell_type": "code",
   "execution_count": 25,
   "metadata": {},
   "outputs": [
    {
     "name": "stdout",
     "output_type": "stream",
     "text": [
      "regular add\n"
     ]
    },
    {
     "data": {
      "text/plain": [
       "6"
      ]
     },
     "execution_count": 25,
     "metadata": {},
     "output_type": "execute_result"
    }
   ],
   "source": [
    "2 + IntUpgraded(4)  # regular math"
   ]
  },
  {
   "cell_type": "code",
   "execution_count": 26,
   "metadata": {},
   "outputs": [
    {
     "name": "stdout",
     "output_type": "stream",
     "text": [
      "Being an integer is boring. Time to become a string\n"
     ]
    },
    {
     "data": {
      "text/plain": [
       "'4|2'"
      ]
     },
     "execution_count": 26,
     "metadata": {},
     "output_type": "execute_result"
    }
   ],
   "source": [
    "IntUpgraded(4) + \"2\"  # convert IntUpgraded to string"
   ]
  },
  {
   "cell_type": "code",
   "execution_count": 27,
   "metadata": {},
   "outputs": [
    {
     "name": "stdout",
     "output_type": "stream",
     "text": [
      "Being a float is AWESOME. Join me!\n"
     ]
    },
    {
     "data": {
      "text/plain": [
       "24.0"
      ]
     },
     "execution_count": 27,
     "metadata": {},
     "output_type": "execute_result"
    }
   ],
   "source": [
    "\"2\" + IntUpgraded(4)  # \"2\" + 4 is 24.0?"
   ]
  },
  {
   "cell_type": "markdown",
   "metadata": {},
   "source": [
    "#### Make an Instance Callable\n",
    "A cool magic method is called `__call__`, which makes an __instance__ of a class callable--objects can _function_ like a function, weird huh?"
   ]
  },
  {
   "cell_type": "code",
   "execution_count": 28,
   "metadata": {},
   "outputs": [
    {
     "name": "stdout",
     "output_type": "stream",
     "text": [
      "Did you call on my name?\n"
     ]
    },
    {
     "data": {
      "text/plain": [
       "'No'"
      ]
     },
     "execution_count": 28,
     "metadata": {},
     "output_type": "execute_result"
    }
   ],
   "source": [
    "class Celebrity:\n",
    "    def __call__(self):\n",
    "        print(\"Did you call on my name?\")\n",
    "        return \"No\"\n",
    "\n",
    "c = Celebrity()\n",
    "c()"
   ]
  },
  {
   "cell_type": "markdown",
   "metadata": {},
   "source": [
    "#### Context Managers\n",
    "\n",
    "If you recall from `2_Procedural_Python.ipynb`, context managers can be created in a procedural programming style using the `try/finally` construct. You can _also_ create a context manager in OOP with these super-cool magic methods: **\\_\\_enter\\_\\_()** and **\\_\\_exit\\_\\_()**.\n",
    "\n",
    "As mentioned in `2_Procedural_Python.ipynb`, context managers are used to clean up your environment/release resources: close files, close database connections, write final log messages, release locks, etc. For example, if you are connected to a SQL database but hit an exception during a query, you might have not released the database connection. A database has a limited number of connections it can handle at any one time. Hence, if Python does not release the connection to the database, nobody else can actually query the database.\n",
    "\n",
    "The example in `2_Procedural_Python.ipynb` is creating a runtime profiler. In this example, I create a context manager that is a file doubler: it writes the contents to 2 different files."
   ]
  },
  {
   "cell_type": "code",
   "execution_count": 29,
   "metadata": {},
   "outputs": [],
   "source": [
    "class OpenSiameseTwin:\n",
    "    def __init__(self, file1, file2, *args, **kwargs):\n",
    "        self.file1 = file1\n",
    "        self.file2 = file2\n",
    "        self.args = args\n",
    "        self.kwargs = kwargs\n",
    "\n",
    "    def __enter__(self):\n",
    "        self.opened_file = open(self.file1, *self.args, **self.kwargs)\n",
    "        return self.opened_file\n",
    "\n",
    "    def __exit__(self, exc_type, exc_value, exc_traceback):\n",
    "        # These arguments are for if an exception was raised and if you want to deal\n",
    "        # with them--like an except block in try/except. If no exception was raised,\n",
    "        # then these arguments will just be None.\n",
    "        print(exc_type, exc_value, exc_traceback)\n",
    "        self.opened_file.close()\n",
    "        with open(self.file1) as f1:\n",
    "            with open(self.file2, \"w\") as f2:\n",
    "                f2.write(f1.read())"
   ]
  },
  {
   "cell_type": "code",
   "execution_count": 30,
   "metadata": {
    "scrolled": true
   },
   "outputs": [
    {
     "name": "stdout",
     "output_type": "stream",
     "text": [
      "None None None\n"
     ]
    }
   ],
   "source": [
    "with OpenSiameseTwin(\"my_favorite_file.txt\", \"evil_twin_file.txt\", \"w\") as my_favorite_file_context_manager:\n",
    "    my_favorite_file_context_manager.write(\"What do you call a turkey's evil twin?\\n\")\n",
    "    my_favorite_file_context_manager.write(\"A Gobblegänger.\\n\")"
   ]
  },
  {
   "cell_type": "code",
   "execution_count": 31,
   "metadata": {},
   "outputs": [
    {
     "name": "stdout",
     "output_type": "stream",
     "text": [
      "What do you call a turkey's evil twin?\n",
      "A Gobblegänger.\n"
     ]
    }
   ],
   "source": [
    "!cat my_favorite_file.txt"
   ]
  },
  {
   "cell_type": "code",
   "execution_count": 32,
   "metadata": {},
   "outputs": [
    {
     "name": "stdout",
     "output_type": "stream",
     "text": [
      "What do you call a turkey's evil twin?\n",
      "A Gobblegänger.\n"
     ]
    }
   ],
   "source": [
    "!cat evil_twin_file.txt"
   ]
  },
  {
   "cell_type": "code",
   "execution_count": 33,
   "metadata": {},
   "outputs": [
    {
     "name": "stdout",
     "output_type": "stream",
     "text": [
      "<class 'ZeroDivisionError'> division by zero <traceback object at 0x000001FE35ADBAC8>\n"
     ]
    },
    {
     "ename": "ZeroDivisionError",
     "evalue": "division by zero",
     "output_type": "error",
     "traceback": [
      "\u001b[1;31m---------------------------------------------------------------------------\u001b[0m",
      "\u001b[1;31mZeroDivisionError\u001b[0m                         Traceback (most recent call last)",
      "\u001b[1;32m<ipython-input-33-a721f905b056>\u001b[0m in \u001b[0;36m<module>\u001b[1;34m\u001b[0m\n\u001b[0;32m      1\u001b[0m \u001b[1;32mwith\u001b[0m \u001b[0mOpenSiameseTwin\u001b[0m\u001b[1;33m(\u001b[0m\u001b[1;34m\"my_favorite_file.txt\"\u001b[0m\u001b[1;33m,\u001b[0m \u001b[1;34m\"evil_twin_file.txt\"\u001b[0m\u001b[1;33m,\u001b[0m \u001b[1;34m\"w\"\u001b[0m\u001b[1;33m)\u001b[0m \u001b[1;32mas\u001b[0m \u001b[0mmy_favorite_file_context_manager\u001b[0m\u001b[1;33m:\u001b[0m\u001b[1;33m\u001b[0m\u001b[1;33m\u001b[0m\u001b[0m\n\u001b[1;32m----> 2\u001b[1;33m     \u001b[1;36m1\u001b[0m \u001b[1;33m/\u001b[0m \u001b[1;36m0\u001b[0m \u001b[1;31m# if exception is not intervened by context manager, then exception just propagates through the context manager\u001b[0m\u001b[1;33m\u001b[0m\u001b[1;33m\u001b[0m\u001b[0m\n\u001b[0m",
      "\u001b[1;31mZeroDivisionError\u001b[0m: division by zero"
     ]
    }
   ],
   "source": [
    "with OpenSiameseTwin(\"my_favorite_file.txt\", \"evil_twin_file.txt\", \"w\") as my_favorite_file_context_manager:\n",
    "    1 / 0 # if exception is not intervened by context manager,\n",
    "    # then exception just propagates through the context manager"
   ]
  },
  {
   "cell_type": "code",
   "execution_count": 34,
   "metadata": {},
   "outputs": [],
   "source": [
    "!rm my_favorite_file.txt evil_twin_file.txt"
   ]
  },
  {
   "cell_type": "code",
   "execution_count": null,
   "metadata": {},
   "outputs": [],
   "source": []
  },
  {
   "cell_type": "markdown",
   "metadata": {},
   "source": [
    "## Where's my Inheritance?\n",
    "Where's the green stuff? Like dinero, inheritance is a touchy subject; some people don't like to talk about it. The reason is that the OOP-practicing adult has to decide between 2 possible offspring: composition vs inheritance.\n",
    "\n",
    "__Composition__: Creates `has-a` relationship. Basically, an instance of the \"composite\" class has attributes that are instances of \"component\" classes. That way the instances of the component class will themselves have methods, so the composite class does not need to inherit from parent class(es) to have useful methods. This notebook will not go over composition other than the below example. Composition vs inheritance is an open and heated debate, and some prefer composition over inheritance."
   ]
  },
  {
   "cell_type": "code",
   "execution_count": 1,
   "metadata": {},
   "outputs": [],
   "source": [
    "class CupHolders:\n",
    "    def __init__(self, num):\n",
    "        self.num = num\n",
    "\n",
    "class Tires:\n",
    "    def __init__(self, num):\n",
    "        self.num = num\n",
    "\n",
    "class Car:\n",
    "    def __init__(self, cup_holders, tires):  # a car \"has-a\" cupholder and tire\n",
    "        self.cup_holders = CupHolders(cup_holders)\n",
    "        self.tires = Tires(tires)\n",
    "\n",
    "prius = Car(cup_holders=2, tires=4)\n",
    "print(prius.cup_holders, isinstance(prius.cup_holders, Car), isinstance(prius.cup_holders, CupHolders))"
   ]
  },
  {
   "cell_type": "markdown",
   "metadata": {},
   "source": [
    "__Inheritance__: Creates `is-a` relationship. A class can inherit from another class. The former is called the `child class`/`subclass` and the latter is called `parent class`/`superclass`. A child class has all the attributes, methods, and properties of the parent class but adds more--hence the child class _extends_ the parent class.  "
   ]
  },
  {
   "cell_type": "code",
   "execution_count": 2,
   "metadata": {},
   "outputs": [
    {
     "name": "stdout",
     "output_type": "stream",
     "text": [
      "888; 888; Egotist: who me?\n"
     ]
    }
   ],
   "source": [
    "class A:\n",
    "    def __init__(self):\n",
    "        self._hidden_attribute = 888\n",
    "\n",
    "    @property\n",
    "    def attribute(self):\n",
    "        return self._hidden_attribute\n",
    "\n",
    "    def method(self):\n",
    "        return \"Egotist: who me?\"\n",
    "\n",
    "class B(A):  # all your attributes, methods, and properties belong to me\n",
    "    pass\n",
    "\n",
    "print(B()._hidden_attribute, B().attribute, B().method(), sep=\"; \")"
   ]
  },
  {
   "cell_type": "markdown",
   "metadata": {},
   "source": [
    "But the purpose of inheritance isn't so that the child class is simply a clone of the parent class; the child class should have some extra features or different features that its predecessor did not have. \n",
    "* The child class can add new attributes/property/methods not defined in the parent class.  \n",
    "* The child class can also have the same methods that the parent class has but give a different result: \n",
    "    * For a child method that replaces the parent method, this is called __method overriding__, which was also explained in an above section.  \n",
    "    * For a child method that enhances but still uses the parent method, this is called __extending__ a method. Use the `super()` call, which creates a proxy object (temporary object of the parent class) that has all the methods of the parent class.  \n",
    "\n",
    "Here's another example of <i>method overriding</i>."
   ]
  },
  {
   "cell_type": "code",
   "execution_count": 3,
   "metadata": {},
   "outputs": [
    {
     "name": "stdout",
     "output_type": "stream",
     "text": [
      "<__main__.Animal object at 0x00000286ECC9EA20>; eukaryote; some sound\n",
      "<__main__.Dog object at 0x00000286ECC9EA90>; eukaryote; bark\n",
      "<__main__.Pokemon object at 0x00000286ECC9EA58>; eukaryote; Pikachu\n",
      "<class '__main__.Pokemon'> True True False True\n"
     ]
    }
   ],
   "source": [
    "class Animal:\n",
    "    cell_type = \"eukaryote\"\n",
    "\n",
    "    def sound(self):\n",
    "        return \"some sound\"\n",
    "\n",
    "class Dog(Animal):\n",
    "    def sound(self):\n",
    "        return \"bark\"\n",
    "\n",
    "class Pokemon(Animal):\n",
    "    def __init__(self, specie):\n",
    "        self.specie = specie\n",
    "\n",
    "    def sound(self):\n",
    "        return self.specie\n",
    "\n",
    "\n",
    "animal = Animal()\n",
    "print(animal, animal.cell_type, animal.sound(), sep=\"; \")\n",
    "\n",
    "dog = Dog()\n",
    "print(dog, dog.cell_type, dog.sound(), sep=\"; \")\n",
    "\n",
    "pokemon = Pokemon(\"Pikachu\")\n",
    "print(pokemon, pokemon.cell_type, pokemon.sound(), sep=\"; \")\n",
    "\n",
    "print(\n",
    "    # commonly used functions\n",
    "    type(pokemon),\n",
    "    isinstance(pokemon, Animal),  # check if an instance of Pokemeon *is* an Animal: yes! A Pokemon \"is-a\" Animal\n",
    "    isinstance(pokemon, (Animal, int)),  # check if instance is a Pokemon OR int\n",
    "\n",
    "    # rarely used\n",
    "    type(pokemon) is Animal,  # check to see if the instance is exactly an Animal, not just a subclass of Animal\n",
    "    issubclass(Pokemon, Animal),  # check to see if Pokemon class inherits from Animal class\n",
    ")"
   ]
  },
  {
   "cell_type": "markdown",
   "metadata": {},
   "source": [
    "#### Be a `super` hero: Ask Your Parent First\n",
    "`super()` is used to make your child class's method use the parent class's method. Hence, overriding your parent's class's method in the child class does not mean the parent class's method is totally gone/lost--if you use `super()`. All you do in your child class's method definition is call `super()` which basically emulates an instance/object of the parent class instead of the child class--so now `super()` has access to all the parent class's methods. However, when using `super()`, you want to do something different instead of exactly the same as the parent class's method. If the child class's method is exactly the same as the parent class's method, then you would not need to method override the parent class's method in the first place. `super()` is used by the child class to *extend* the parent class's method.\n",
    "\n",
    "Here's a reason to extend a method in a real-world scenario. Suppose you wrote a bunch of code with a class called `WestworldHost` and it goes into production and everything is good. Now you want to upgrade the codebase but cannot change the source code because other people (who are also using `WestworldHost`) don't want it changed. What you can do is create a \"second-generation\" of that class where you inherit from the previous class but add more stuff to it. You can retain as much of the functionality that you like (without copying over code) and just replace the parts you like.\n",
    "\n",
    "In a way, extending a method using `super()` is like a decorator in that you are enhancing the original method (ie the parent class's method). The difference is that you don't pass in the original method to be decorated since you access the original method using `super()`. Perhaps decorators or extending a method with `super()` is the equivalent of inheritance for functions...? 🤔"
   ]
  },
  {
   "cell_type": "code",
   "execution_count": 17,
   "metadata": {},
   "outputs": [
    {
     "name": "stdout",
     "output_type": "stream",
     "text": [
      "66\n",
      "Male\n",
      "Q: Are you real or a host? A: If you can't tell the difference, does it matter? When you’re suffering, that’s when you’re most real!\n"
     ]
    }
   ],
   "source": [
    "class WestworldHost:\n",
    "    def __init__(self, age):\n",
    "        self.age = age\n",
    "\n",
    "    def method_to_extend(self):\n",
    "        return (\n",
    "            \"Q: Are you real or a host? \"\n",
    "            \"A: If you can't tell the difference, does it matter?\"\n",
    "        )\n",
    "\n",
    "class WestworldHostSecondGeneration(WestworldHost):\n",
    "    def __init__(self, age, gender):  # __init__() is like any other method that can be extended\n",
    "        super().__init__(age)\n",
    "        self.gender = gender\n",
    "\n",
    "    def method_to_extend(self):  # you want to do something different than exactly the parent class's method.\n",
    "        quote = super().method_to_extend()  # get the parent method's result\n",
    "        quote += \" When you’re suffering, that’s when you’re most real!\"  # and do something different\n",
    "        return quote\n",
    "\n",
    "\n",
    "man_in_black = WestworldHostSecondGeneration(66, \"Male\")\n",
    "print(man_in_black.age, man_in_black.gender, man_in_black.method_to_extend(), sep=\"\\n\")"
   ]
  },
  {
   "cell_type": "markdown",
   "metadata": {},
   "source": [
    "#### Advanced Inheritance Topics:\n",
    "There are fancy tricks with inheritance. Most times, you won't need them, so you can go along your day without worrying about them. Like a safety box, just know that they are there when you need them.\n",
    "\n",
    "* **multiple inheritance**: This occurs when a child class inherits from 2 parent classes simultaneously: `class C(A, B)`. Don't get multiple inheritance confused with serial inheritance (`class B(A): pass; class C(B): pass`), which is not multiple inheritance.\n",
    "    * **MRO**: (Daisy, is it you? No, it's **M**ethod **R**esolution **O**rder): MRO determines which parent's method will be called when a child instance calls a method defined in both the parent classes. For example, if class `C` inherits from classes `A` and `B` and both `A` and `B` have a method called `who_is_my_parent()`, then MRO will determine if an instance of `C` will use the method defined in `A` (`A.who_is_my_parent()`) vs method defined in `B` (`B.who_is_my_parent()`).  The specific algorithm used to determine MRO is called **C3 linearization**, which also resolves something called the \"diamond problem.\" Due to the sophistication of multiple inheritance, some programmers recommend against using it.\n",
    "* **mixin**: Something like a \"proto\" class in that mixins are regular classes that are not complete. You define a mixin class that has some functionality but is meant to be combined with other classes during multiple inheritance to make a final class you will actually want to use. An analogy is that you create a `Bun` mixin class and `Patty` mixin class--nobody would ever just eat an instance of only a bun or a patty. However, when you fuse them together through multiple inheritance, you can make a `Burger` class (`class Burger(Bun, Patty)`) that has attributes and methods of both bun and patty. Instances of the `Burger` class will be very useful and very tasty!\n",
    "* **abc/interface**: **A**bstract **B**ase **C**lass is where you define a fake class where the purpose is to figure out what the class will look like but not implement any of the methods. The abstract base class is like a template; you can define the method signatures but just put `pass` for the method body. Then, a real class inherits from the abstract base class and overrides all the methods. For example, `sklearn` has the estimator interface, which tells you to implement the `.fit()` and `.predict()` methods. The difference between *abc* and *interface* is very small.\n",
    "* **metaclass**: What is a class, an instance of? To make an analogy, an instance is to a class as a class is to a metaclass. A class's class is the metaclass--a metaclass can create classes. The default metaclass is `type`. Metaclasses are used to write frameworks when nothing else will do--very rare to use a metaclass, so a typical programmer will never have to use a metaclass. Don't worry about metaclasses. 😉\n",
    "* **SOLID principle** (**S**ingle responsiblity principle, **O**pen-closed principle, **L**iskov substitution, **I**nterface segregation, **D**ependency inversion): design philosophy for OOP.\n",
    "\n",
    "\n",
    "#### Advanced OOP Tricks\n",
    "* **alternative constructors/factory method**: have multiple ways to create instances of a class instead of solely `MyClass()`. This topic is covered in the section of this notebook called *Class Method as an Alternative Constructor*. For example, `datetime` instances can be created in multiple ways: `datetime(2020, 11, 5)`, `datetime.fromtimestamp(1604600000)`, `datetime.fromordinal(737734)`, `datetime.now()`. Alternative constructors are implemented by class methods in the class definition.\n",
    "* **factory method pattern**: Don't create the instances the normal way. Delegate it to a different class whose purpose is to figure which class is the suited for your needs and makes the instance of that class. *Factory method pattern* is different from *factory method*; the former can create instances of different classes at runtime whereas the latter  is only creating instances of its class. An example of factory method pattern is that given a person's gender, return an instance of `FootballPlayer` or `Ballerina`.\n",
    "* other special magic methods:\n",
    "    * `__new__()` is the true constructor, not `__init__()` (which is the initializer).\n",
    "    * `__del__()` (also called the finalizer) can be called during garbage collection but not guaranteed to be called. A better option than `__del__()` can be a context manager or making an explicit cleanup method (such as `release()`).\n",
    "* **name mangling**: having double underscores `__` as the prefix (but no underscores as the suffix) to a class/instance attribute changes the attribute name such that child class will not accidentally overwrite the parent class's attribute."
   ]
  },
  {
   "cell_type": "code",
   "execution_count": null,
   "metadata": {},
   "outputs": [],
   "source": []
  },
  {
   "cell_type": "markdown",
   "metadata": {},
   "source": [
    "## Extra Resources\n",
    "* Python's Class Development Toolkit (https://www.youtube.com/watch?v=HTLu2DFOdTg): Raymond Hettinger, a core Python dev and Python trainer, gives great talks about Python on all sorts of topics. In this talk, he starts from beginner OOP and ends with advanced techniques about creating classes and how to get them to do what you want. This notebook was inspired by his talk.\n",
    "* More about Python's Data Model (https://docs.python.org/3/reference/datamodel.html): See the variety of magic/dunder methods you have access to or can override."
   ]
  }
 ],
 "metadata": {
  "kernelspec": {
   "display_name": "Python 3",
   "language": "python",
   "name": "python3"
  },
  "language_info": {
   "codemirror_mode": {
    "name": "ipython",
    "version": 3
   },
   "file_extension": ".py",
   "mimetype": "text/x-python",
   "name": "python",
   "nbconvert_exporter": "python",
   "pygments_lexer": "ipython3",
   "version": "3.8.2"
  }
 },
 "nbformat": 4,
 "nbformat_minor": 2
}
