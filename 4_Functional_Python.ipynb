{
 "cells": [
  {
   "cell_type": "code",
   "execution_count": null,
   "metadata": {},
   "outputs": [],
   "source": [
    "be aware of mutability: [[1]] * 10 vs [[1] for i in range(10)]. numpy array"
   ]
  },
  {
   "cell_type": "code",
   "execution_count": null,
   "metadata": {},
   "outputs": [],
   "source": [
    "decorator\n",
    "functools, starmap\n",
    "# functools: lru_cache\n",
    "import toolz.functoolz\n",
    "\n",
    "method chaining/fluent interface vs functional\n",
    "currying/partial function?\n",
    "closure vs objects\n",
    "functoolz/Dask/Pandas .pipe, .assign\n",
    "\n",
    "assignment is never a copy.\n",
    "pass by reference, pass by value, Python is pass by object reference.\n",
    "\n",
    "generator, chained generator, yield from, coroutine\n",
    "\n",
    "functions are first-class citizens\n",
    "    Can be used as parameters\n",
    "    Can be used as a return value\n",
    "    Can be assigned to variables\n",
    "    Can be stored in data structures such as hash tables, lists, ...\n",
    "    \n",
    "    Can have their own attributes"
   ]
  }
 ],
 "metadata": {
  "kernelspec": {
   "display_name": "Python 3",
   "language": "python",
   "name": "python3"
  },
  "language_info": {
   "codemirror_mode": {
    "name": "ipython",
    "version": 3
   },
   "file_extension": ".py",
   "mimetype": "text/x-python",
   "name": "python",
   "nbconvert_exporter": "python",
   "pygments_lexer": "ipython3",
   "version": "3.6.4"
  }
 },
 "nbformat": 4,
 "nbformat_minor": 2
}
