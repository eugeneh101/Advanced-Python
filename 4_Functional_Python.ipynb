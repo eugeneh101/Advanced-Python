{
 "cells": [
  {
   "cell_type": "markdown",
   "metadata": {},
   "source": [
    "# Functional Programming\n",
    "Suppose you have a world where you don't use classes (gasp!). Why in the world would you want to do that? The reason is that some problems are better suited when you don't mutate an underlying object. Because attributes of an object keeps statefulness of something, there are use cases where state hinders than helps: race conditions in threaded code, debugging complex mutations across multiple method calls, . However, some problems are better where you don't remember something about the instance after it is used--it is stateless. In Functional Programming, it's better to just create a new object.  \n",
    "\n",
    "If you are a boring, math professor who likes to think that CS is just applied math, then you probably think in terms of the textbook definitions of Functional Programming (often abbreviated as FP): a) __immutability__, b) __pure functions__, and __high-order functions__.  \n",
    "* __Immutability__: nothing ever changes. What you put into a function, you get something else out. Stay the way you are--never change. Don't update yourself; transform into something new.  \n",
    "* __Pure functions__: functions ideally should be completely deterministic in that given a specific input, the output will ALWAYS return the same output. In fact, nothing else should change at all; a __side effect__ is something that changes outside the scope of the function. Pure functions, by definition, cannot have a side effect. Sometimes, this constrant is too different, so the lesser constraint is `idempotency`: if something else changes (that is not the output), then something always changes in exactly same way--the side effect is deterministic.  \n",
    "* __Higher-order functions__: since functions are first-class citizens in Python, what they means is that you can pass functions into functions. You can have a function return a function. You can define functions inside a function.  \n",
    "\n",
    "But then again, do I <i>look</i> that old? Carpe diem! Let's go through some actual, fun examples of Functional Programming, so we can ditch the textbook answers. Books are for squares! Also, in this notebook we will be tempered in our approach to programming: when to use functional programming and when to mix functional programming with OOP.  \n",
    "\n",
    "\n",
    "## `map`/`filter`/`reduce`\n",
    "List comprehensions are generally the \"Pythonic\" way to do things. Let's try to do the same using FP syntax.  A list comprehension can do both `map` and `filter` and the reverse is true: all list comprehensions are a composition of `map` and `filter`. Instead of updating/modifying a list, just return a new one."
   ]
  },
  {
   "cell_type": "code",
   "execution_count": 1,
   "metadata": {},
   "outputs": [
    {
     "data": {
      "text/plain": [
       "[0, 2, 4, 6, 8, 10, 12, 14, 16, 18]"
      ]
     },
     "execution_count": 1,
     "metadata": {},
     "output_type": "execute_result"
    }
   ],
   "source": [
    "# double element: OOP where mutating/updating a list (using a method)\n",
    "accumulator = [] # the list is being mutated\n",
    "for i in range(10):\n",
    "    accumulator.append(i * 2)\n",
    "accumulator"
   ]
  },
  {
   "cell_type": "code",
   "execution_count": 2,
   "metadata": {},
   "outputs": [
    {
     "data": {
      "text/plain": [
       "[0, 2, 4, 6, 8, 10, 12, 14, 16, 18]"
      ]
     },
     "execution_count": 2,
     "metadata": {},
     "output_type": "execute_result"
    }
   ],
   "source": [
    "# double element: FP equivalent with no mutations\n",
    "list(map(lambda x: x * 2, range(10)))"
   ]
  },
  {
   "cell_type": "code",
   "execution_count": 3,
   "metadata": {},
   "outputs": [
    {
     "data": {
      "text/plain": [
       "[1, 3, 5, 7, 9]"
      ]
     },
     "execution_count": 3,
     "metadata": {},
     "output_type": "execute_result"
    }
   ],
   "source": [
    "# remove evens: OOP where mutating/updating a list\n",
    "accumulator = []\n",
    "for i in range(10):\n",
    "    if i % 2:\n",
    "        accumulator.append(i)\n",
    "accumulator"
   ]
  },
  {
   "cell_type": "code",
   "execution_count": 4,
   "metadata": {},
   "outputs": [
    {
     "data": {
      "text/plain": [
       "[1, 3, 5, 7, 9]"
      ]
     },
     "execution_count": 4,
     "metadata": {},
     "output_type": "execute_result"
    }
   ],
   "source": [
    "# remove evens: FP equivalent with no mutations\n",
    "list(filter(lambda x: x % 2, range(10)))"
   ]
  },
  {
   "cell_type": "markdown",
   "metadata": {},
   "source": [
    "A list comprehension cannot be used to emulate `reduce`. You'll need a for-loop with an accumulator to get the equivalent of FP's `reduce`. However, the accumulator is stateful (by having to explicitly store a variable) whereas `reduce` does not have any global variable that kept between function calls.  \n",
    "Note: Guido van Rossum does not like `reduce` and prefers an explicit for-loop. That is why `reduce` is no longer a builtin function in Python 3 and thus has to be imported from `functools`. "
   ]
  },
  {
   "cell_type": "code",
   "execution_count": 5,
   "metadata": {},
   "outputs": [
    {
     "data": {
      "text/plain": [
       "45"
      ]
     },
     "execution_count": 5,
     "metadata": {},
     "output_type": "execute_result"
    }
   ],
   "source": [
    "# imperative approach\n",
    "accumulator = 0\n",
    "for i in range(10):\n",
    "    accumulator += i\n",
    "accumulator"
   ]
  },
  {
   "cell_type": "code",
   "execution_count": 6,
   "metadata": {},
   "outputs": [
    {
     "data": {
      "text/plain": [
       "45"
      ]
     },
     "execution_count": 6,
     "metadata": {},
     "output_type": "execute_result"
    }
   ],
   "source": [
    "# FP: not need for statefulness in the form of an intermediate/temporary accumulator variable\n",
    "from functools import reduce\n",
    "\n",
    "reduce(lambda x, y: x + y, range(10))"
   ]
  },
  {
   "cell_type": "markdown",
   "metadata": {},
   "source": [
    "When you are given a hammer, everything looks like a nail. Use Functional Programming when it benefits you. Also, learn when to not force FP into a problem that it is less appropriate. There are some problems that lends itself to OOP and there are some that lend themselves to FP. Let me give you an example where OOP is far superior.   "
   ]
  },
  {
   "cell_type": "code",
   "execution_count": 7,
   "metadata": {},
   "outputs": [
    {
     "name": "stdout",
     "output_type": "stream",
     "text": [
      "abcdefghijklmnopqrstuvwxyzABCDEFGHIJKLMNOPQRSTUVWXYZ\n"
     ]
    }
   ],
   "source": [
    "from string import ascii_letters\n",
    "from random import choices\n",
    "\n",
    "print(ascii_letters)\n",
    "lots_of_letters = choices(ascii_letters, k=100000)"
   ]
  },
  {
   "cell_type": "code",
   "execution_count": 8,
   "metadata": {},
   "outputs": [
    {
     "name": "stdout",
     "output_type": "stream",
     "text": [
      "Wall time: 1.99 ms\n"
     ]
    }
   ],
   "source": [
    "%%time\n",
    "result_OOP = \"\".join(lots_of_letters) # OOP is much faster since runtime is O(n)"
   ]
  },
  {
   "cell_type": "code",
   "execution_count": 9,
   "metadata": {},
   "outputs": [
    {
     "name": "stdout",
     "output_type": "stream",
     "text": [
      "Wall time: 216 ms\n"
     ]
    }
   ],
   "source": [
    "%%time\n",
    "result_FP = reduce(lambda x, y: x + y, lots_of_letters) # FP is much slower since runtime is O(n ** 2)"
   ]
  },
  {
   "cell_type": "code",
   "execution_count": 10,
   "metadata": {},
   "outputs": [
    {
     "data": {
      "text/plain": [
       "True"
      ]
     },
     "execution_count": 10,
     "metadata": {},
     "output_type": "execute_result"
    }
   ],
   "source": [
    "result_OOP == result_FP"
   ]
  },
  {
   "cell_type": "code",
   "execution_count": null,
   "metadata": {},
   "outputs": [],
   "source": []
  },
  {
   "cell_type": "code",
   "execution_count": 7,
   "metadata": {},
   "outputs": [
    {
     "ename": "SyntaxError",
     "evalue": "invalid syntax (<ipython-input-7-bc24622f0476>, line 1)",
     "output_type": "error",
     "traceback": [
      "\u001b[1;36m  File \u001b[1;32m\"<ipython-input-7-bc24622f0476>\"\u001b[1;36m, line \u001b[1;32m1\u001b[0m\n\u001b[1;33m    composition, high-order functions\u001b[0m\n\u001b[1;37m                                    ^\u001b[0m\n\u001b[1;31mSyntaxError\u001b[0m\u001b[1;31m:\u001b[0m invalid syntax\n"
     ]
    }
   ],
   "source": [
    "composition, high-order functions\n",
    "closure is a poor main's object\n",
    "\n",
    "functional core and imperative shell\n",
    "\n",
    "high performance frameworks like Apache Spark, Beam, Dask (dataframe, bag, array), Ray\n",
    "graph based approach: TensorFlow, Airflow, Dask (delayed)"
   ]
  },
  {
   "cell_type": "code",
   "execution_count": null,
   "metadata": {},
   "outputs": [],
   "source": []
  },
  {
   "cell_type": "markdown",
   "metadata": {},
   "source": [
    "In fact, you can even stack/chain decorators. The decorator closest to the function the decorator is applied first. Now that I think about it, decorators are in some sense like a generator for functions--decorators change the function call at execution time but are effectively lazy."
   ]
  },
  {
   "cell_type": "code",
   "execution_count": 68,
   "metadata": {},
   "outputs": [
    {
     "name": "stdout",
     "output_type": "stream",
     "text": [
      "Hiiiiii! -Kirby\n",
      "I'll be back! -The Terminator\n"
     ]
    },
    {
     "data": {
      "text/plain": [
       "84"
      ]
     },
     "execution_count": 68,
     "metadata": {},
     "output_type": "execute_result"
    }
   ],
   "source": [
    "def greetings__I_am_close(func):\n",
    "    def inner(arg):\n",
    "        print(\"Hiiiiii! -Kirby\")\n",
    "        return func(arg)\n",
    "    return inner\n",
    "    \n",
    "def farewell__I_am_far(func):\n",
    "    def inner(arg):\n",
    "        results = func(arg)\n",
    "        print(\"I'll be back! -The Terminator\")\n",
    "        return results\n",
    "    return inner\n",
    "\n",
    "@farewell__I_am_far\n",
    "@greetings__I_am_close\n",
    "def double(x):\n",
    "    return x * 2\n",
    "\n",
    "double(42)"
   ]
  },
  {
   "cell_type": "markdown",
   "metadata": {},
   "source": [
    "Now you have another question, what do you do if you have multiple arguments that you don't know the number of argments or argument names or which arguments are still using the default values. That's where you use `*args` and `**kwargs`! This setup covers all cases."
   ]
  },
  {
   "cell_type": "code",
   "execution_count": 20,
   "metadata": {},
   "outputs": [
    {
     "name": "stdout",
     "output_type": "stream",
     "text": [
      "1 2 3\n",
      "5 4 3\n",
      "6 7 8\n",
      "11 12 10\n"
     ]
    }
   ],
   "source": [
    "def identity_decorator(func): # does nothing special\n",
    "    def inner(*args, **kwargs):\n",
    "        return func(*args, **kwargs)\n",
    "    return inner\n",
    "\n",
    "@identity_decorator\n",
    "def silly_function(a, b, c=3):\n",
    "    print(a, b, c)\n",
    "    \n",
    "silly_function(1, 2)\n",
    "silly_function(a=5, b=4)\n",
    "silly_function(*(6, 7, 8))\n",
    "silly_function(**{\"c\": 10, \"a\": 11, \"b\": 12})"
   ]
  },
  {
   "cell_type": "markdown",
   "metadata": {},
   "source": [
    "Now you may ask. What about the docstring? Won't the decorated function contain the decorator's docstring? You are correct. That's why we do functools.wraps() decorator to extract the correct docstring."
   ]
  },
  {
   "cell_type": "code",
   "execution_count": 36,
   "metadata": {},
   "outputs": [
    {
     "name": "stdout",
     "output_type": "stream",
     "text": [
      "Help on function inner in module __main__:\n",
      "\n",
      "inner(*args, **kwargs)\n",
      "    Decorator that does nothing special\n",
      "\n"
     ]
    }
   ],
   "source": [
    "def identity_decorator(func):\n",
    "    \"\"\"This docstring is totally lost after decorating a function\"\"\"\n",
    "    def inner(*args, **kwargs):\n",
    "        \"\"\"Decorator that does nothing special\"\"\"\n",
    "        return func(*args, **kwargs)\n",
    "    return inner\n",
    "\n",
    "@identity_decorator\n",
    "def double(arg):\n",
    "    \"Double the value\"\n",
    "    return arg * 2\n",
    "\n",
    "\n",
    "help(double)"
   ]
  },
  {
   "cell_type": "code",
   "execution_count": 37,
   "metadata": {},
   "outputs": [
    {
     "name": "stdout",
     "output_type": "stream",
     "text": [
      "Help on function double in module __main__:\n",
      "\n",
      "double(arg)\n",
      "    Double the value\n",
      "\n"
     ]
    }
   ],
   "source": [
    "from functools import wraps\n",
    "\n",
    "def identity_decorator(func):\n",
    "    \"\"\"This docstring is totally lost after decorating a function\"\"\"\n",
    "    @wraps(func) # I decorate the inner function, so that I extract the original function's docstring and apply it to the returned inner() function\n",
    "    def inner(*args, **kwargs):\n",
    "        \"\"\"Decorator that does nothing special\"\"\"\n",
    "        return func(*args, **kwargs)\n",
    "    return inner\n",
    "\n",
    "@identity_decorator\n",
    "def double(arg):\n",
    "    \"Double the value\"\n",
    "    return arg * 2\n",
    "\n",
    "\n",
    "help(double)"
   ]
  },
  {
   "cell_type": "markdown",
   "metadata": {},
   "source": [
    "Now you may another question: can decorators take any arguments? YES! Remember, decorators themselves are just regular functions. The only difference is that inside of taking arguments that contain data and return processed data, decorators take in functions and return \"processed/enhanced/augmented\" functions. That is why they are called decorators--they decorate the original function.\n",
    "\n",
    "For example, a naive implementation of fibonacci has O(n^2) runtime complexity--it has quadratic runtime. "
   ]
  },
  {
   "cell_type": "code",
   "execution_count": 43,
   "metadata": {},
   "outputs": [
    {
     "name": "stdout",
     "output_type": "stream",
     "text": [
      "current number is 7\n",
      "current number is 6\n",
      "current number is 5\n",
      "current number is 4\n",
      "current number is 3\n",
      "current number is 2\n",
      "current number is 1\n",
      "current number is 2\n",
      "current number is 3\n",
      "current number is 2\n",
      "current number is 1\n",
      "current number is 4\n",
      "current number is 3\n",
      "current number is 2\n",
      "current number is 1\n",
      "current number is 2\n",
      "current number is 5\n",
      "current number is 4\n",
      "current number is 3\n",
      "current number is 2\n",
      "current number is 1\n",
      "current number is 2\n",
      "current number is 3\n",
      "current number is 2\n",
      "current number is 1\n",
      "Wall time: 2.52 s\n"
     ]
    }
   ],
   "source": [
    "%%time\n",
    "import time\n",
    "\n",
    "def fibonacci_recursion(num):\n",
    "    print(\"current number is {}\".format(num))\n",
    "    time.sleep(0.1)\n",
    "    if (num == 1) or (num == 2):\n",
    "        return 1\n",
    "    else:\n",
    "        return fibonacci_recursion(num - 1) + fibonacci_recursion(num - 2)\n",
    "\n",
    "\n",
    "fibonacci_recursion(7)"
   ]
  },
  {
   "cell_type": "markdown",
   "metadata": {},
   "source": [
    "With `lru_cache()` (which stands for Least-Recently-Used cache), we can put fibonacci to O(n) linear runtime. `lru_cache()` has an argument for `maxsize`--how big do you want your cache to be? Decorators that have arguments are basically decorators within decorators. Nested decorators is how they are written: the outer decorator takes configuration(s) as arguments; the inner decorator takes in the target function as the argument.  \n",
    "Just a side note: caches are useful in a technique called memoization--not a typo, not memorization. Memoization + recursion = dynamic programming."
   ]
  },
  {
   "cell_type": "code",
   "execution_count": 51,
   "metadata": {},
   "outputs": [
    {
     "name": "stdout",
     "output_type": "stream",
     "text": [
      "current number is 7\n",
      "current number is 6\n",
      "current number is 5\n",
      "current number is 4\n",
      "current number is 3\n",
      "current number is 2\n",
      "current number is 1\n",
      "Wall time: 705 ms\n"
     ]
    }
   ],
   "source": [
    "%%time\n",
    "from functools import lru_cache\n",
    "\n",
    "@lru_cache(maxsize=128)\n",
    "def fibonacci_recursion(num):\n",
    "    print(\"current number is {}\".format(num))\n",
    "    time.sleep(0.1)\n",
    "    if (num == 1) or (num == 2):\n",
    "        return 1\n",
    "    else:\n",
    "        return fibonacci_recursion(num - 1) + fibonacci_recursion(num - 2)\n",
    "\n",
    "fibonacci_recursion(7)"
   ]
  },
  {
   "cell_type": "markdown",
   "metadata": {},
   "source": [
    "Now you may have a question. Does decorators work on things outside of functions? YES! Decorators also works on classes or anything that is callable."
   ]
  },
  {
   "cell_type": "code",
   "execution_count": 56,
   "metadata": {},
   "outputs": [
    {
     "name": "stdout",
     "output_type": "stream",
     "text": [
      "Greetings, I come in peace --Never said by the Borg\n"
     ]
    },
    {
     "data": {
      "text/html": [
       "<div>\n",
       "<style scoped>\n",
       "    .dataframe tbody tr th:only-of-type {\n",
       "        vertical-align: middle;\n",
       "    }\n",
       "\n",
       "    .dataframe tbody tr th {\n",
       "        vertical-align: top;\n",
       "    }\n",
       "\n",
       "    .dataframe thead th {\n",
       "        text-align: right;\n",
       "    }\n",
       "</style>\n",
       "<table border=\"1\" class=\"dataframe\">\n",
       "  <thead>\n",
       "    <tr style=\"text-align: right;\">\n",
       "      <th></th>\n",
       "      <th>a</th>\n",
       "    </tr>\n",
       "  </thead>\n",
       "  <tbody>\n",
       "    <tr>\n",
       "      <th>0</th>\n",
       "      <td>0</td>\n",
       "    </tr>\n",
       "    <tr>\n",
       "      <th>1</th>\n",
       "      <td>1</td>\n",
       "    </tr>\n",
       "    <tr>\n",
       "      <th>2</th>\n",
       "      <td>2</td>\n",
       "    </tr>\n",
       "    <tr>\n",
       "      <th>3</th>\n",
       "      <td>3</td>\n",
       "    </tr>\n",
       "    <tr>\n",
       "      <th>4</th>\n",
       "      <td>4</td>\n",
       "    </tr>\n",
       "  </tbody>\n",
       "</table>\n",
       "</div>"
      ],
      "text/plain": [
       "   a\n",
       "0  0\n",
       "1  1\n",
       "2  2\n",
       "3  3\n",
       "4  4"
      ]
     },
     "execution_count": 56,
     "metadata": {},
     "output_type": "execute_result"
    }
   ],
   "source": [
    "import pandas as pd\n",
    "\n",
    "def polite_class(cls):\n",
    "    def inner(*args, **kwargs):\n",
    "        print(\"Greetings, I come in peace --Never said by the Borg\")\n",
    "        result = cls(*args, **kwargs) # technically you don't need the save it; you can just return\n",
    "        return result\n",
    "    return inner\n",
    "\n",
    "pd.DataFrame = polite_class(pd.DataFrame)\n",
    "pd.DataFrame({\"a\": range(5)})"
   ]
  },
  {
   "cell_type": "code",
   "execution_count": null,
   "metadata": {},
   "outputs": [],
   "source": []
  },
  {
   "cell_type": "markdown",
   "metadata": {},
   "source": [
    "be aware of mutability: [[1]] * 10 vs [[1] for i in range(10)]. numpy array  \n",
    "\n",
    "all functions return something  \n",
    "don't reify generator expression into a list in a function call, especially for reducers  \n",
    "decorator: are the equivalent of OOP's inheritance: overwrite/extend behavior. Can affect before, after, and during original function call    \n",
    "functools, starmap  \n",
    "functools: lru_cache  \n",
    "import toolz.functoolz  \n",
    "\n",
    "method chaining/fluent interface vs functional  \n",
    "currying/partial function?  \n",
    "closure vs objects  \n",
    "functoolz/Dask/Pandas .pipe, .assign  \n",
    "\n",
    "generator vs generator function, chained generator, yield from, coroutine    \n",
    "infinite generator  \n",
    "no explicit loops  \n",
    "\n",
    "functions are first-class citizens  \n",
    "    Can be used as parameters  \n",
    "    Can be used as a return value  \n",
    "    Can be assigned to variables  \n",
    "    Can be stored in data structures such as hash tables, lists, ...  \n",
    "    Can have their own attributes "
   ]
  },
  {
   "cell_type": "code",
   "execution_count": null,
   "metadata": {},
   "outputs": [],
   "source": []
  }
 ],
 "metadata": {
  "kernelspec": {
   "display_name": "Python 3",
   "language": "python",
   "name": "python3"
  },
  "language_info": {
   "codemirror_mode": {
    "name": "ipython",
    "version": 3
   },
   "file_extension": ".py",
   "mimetype": "text/x-python",
   "name": "python",
   "nbconvert_exporter": "python",
   "pygments_lexer": "ipython3",
   "version": "3.6.4"
  }
 },
 "nbformat": 4,
 "nbformat_minor": 2
}
