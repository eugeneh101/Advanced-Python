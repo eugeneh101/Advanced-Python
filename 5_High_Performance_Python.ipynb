{
 "cells": [
  {
   "cell_type": "markdown",
   "metadata": {},
   "source": [
    "Nonetheless, Python is quite fast. You write Python for the speed of development and expressiveness. If you need speed, Guido recommends you delegate the performance critical part to another language (Cython):  \n",
    "**\"At some point, you end up with one little piece of your system, as a whole, where you end up spending all your time. If you write that just as a sort of simple-minded Python loop, at some point you will see that that is the bottleneck in your system. It is usually much more effective to take that one piece and replace that one function or module with a little bit of code you wrote in C or C++ rather than rewriting your entire system in a faster language, because for most of what you're doing, the speed of the language is irrelevant.\" --Guido van Rossum**\n",
    "\n",
    "A common lesson of high performance computing: <i>High performance computing isn’t about doing one thing exceedingly well, it’s about doing nothing poorly.</i>\n",
    "\n",
    "x = x.map_blocks(compress).persist().map_blocks(decompress)\n",
    "amdahl's law  \n",
    "you hear trendy things like Scala, Rust, Go  \n",
    "\n",
    "\n",
    "vectorization with numpy and pandas, SIMD, GPU  \n",
    "threads (concurrency) (race condition, tug of war) vs processes (parallel): concurrent.futures vs multiprocessing  \n",
    "concurrency vs parallelism vs asynchronous (event driven)  \n",
    "asyncio is in some sense serial with indirection of a coroutine. asynchronous immplemented in 3 ways: callback (hell from nested structure), futures/promises (looks like [flat] method chaining) and flatter, async/await  \n",
    "yield from  \n",
    "you don't need asyncio to do asynchronous programming  \n",
    "C10k problem\n",
    "\n",
    "explain what is MapReduce and disadvantages  \n",
    "A `reduce` operation that is commutative and associative can be partially parallelized using a technique call <i>combiner</i>.  \n",
    "Simple Spark  \n",
    "Spark and Dask: often a functional approach, functoolz syntax translates to Dask bags, FP allows embarrasingly parallel and laziness.  \n",
    "high-performance frameworks (Apache Spark, Apache Beam, Dask [dataframe, bag, array], Ray) and graph-based engines (TensorFlow, Airflow, Prefect, Dask [delayed])\n",
    "explain Ray and actor model  \n",
    "\n",
    "give example of how the HBase was too slow and that Python was not the bottleneck  \n",
    "runtime vs space complexity  \n",
    "\n",
    "Raymond Hettinger, Keynote on Concurrency, PyBay 2017: https://www.youtube.com/watch?v=9zinZmE3Ogk  \n",
    "https://pybay.com/site_media/slides/raymond2017-keynote/threading.html  \n",
    "https://glyph.twistedmatrix.com/2014/02/unyielding.html  "
   ]
  },
  {
   "cell_type": "code",
   "execution_count": null,
   "metadata": {},
   "outputs": [],
   "source": []
  }
 ],
 "metadata": {
  "kernelspec": {
   "display_name": "Python 3",
   "language": "python",
   "name": "python3"
  },
  "language_info": {
   "codemirror_mode": {
    "name": "ipython",
    "version": 3
   },
   "file_extension": ".py",
   "mimetype": "text/x-python",
   "name": "python",
   "nbconvert_exporter": "python",
   "pygments_lexer": "ipython3",
   "version": "3.6.4"
  }
 },
 "nbformat": 4,
 "nbformat_minor": 2
}
