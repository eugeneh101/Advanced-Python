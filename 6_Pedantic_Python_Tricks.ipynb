{
 "cells": [
  {
   "cell_type": "markdown",
   "metadata": {},
   "source": [
    "## Name Binding (What You Think of as Assignment)\n",
    "Whenever you use assignment (=), you can think about it as putting a name tag onto the data--this is called name binding. You can use the `id()` function to see the object's memory address. Hence, for the duration of the object's existence (ie not deleted), the id will be unique and unchanged. Python's assigment (=) NEVER copies data--it merely puts another name tag on the same object. The `is` keyword in Python is highly related to `id()` in that `is` detects whether the identity of 2 objects are the same--if the 2 variables are pointing to same memory address. If `x is y` is True, then `id(x) == id(y)`.\n",
    "\n",
    "#### Reference Counting\n",
    "If you want to see how many name tags are attached to the same object, then use `sys.getrefcout`. Python internally has a reference count for every object--once the reference count goes to 0, then the object is deleted from memory. Deleting a variable will remove the name tag. Python's `del` statement doesn't directly delete a variable. Instead `del` deletes the name binding (the name tag) onto the object. Once an object's reference count goes to 0, then Python's garbage collector will finally remove the object from memory. In short, `del` statement indirectly deletes an object.   \n",
    "There's a fine print in the documentation: ```The count returned is generally one higher than you might expect, because it includes the (temporary) reference as an argument to getrefcount().```  "
   ]
  },
  {
   "cell_type": "code",
   "execution_count": 1,
   "metadata": {},
   "outputs": [
    {
     "name": "stdout",
     "output_type": "stream",
     "text": [
      "reference count: 2; memory location: 2259151540360\n"
     ]
    }
   ],
   "source": [
    "import sys\n",
    "\n",
    "a = []\n",
    "print(\"reference count: {}; memory location: {}\".format(sys.getrefcount(a), id(a)))"
   ]
  },
  {
   "cell_type": "code",
   "execution_count": 2,
   "metadata": {
    "scrolled": true
   },
   "outputs": [
    {
     "name": "stdout",
     "output_type": "stream",
     "text": [
      "2\n",
      "3\n",
      "True\n",
      "2259151541256 2259151541256\n",
      "[None] [None]\n"
     ]
    }
   ],
   "source": [
    "# a list is a mutable object\n",
    "a = []\n",
    "print(sys.getrefcount(a))\n",
    "b = a\n",
    "print(sys.getrefcount(a))\n",
    "print(a is b)\n",
    "print(id(a), id(b))\n",
    "a.append(None)\n",
    "print(a, b)"
   ]
  },
  {
   "cell_type": "code",
   "execution_count": 3,
   "metadata": {},
   "outputs": [
    {
     "name": "stdout",
     "output_type": "stream",
     "text": [
      "2\n",
      "3\n",
      "True\n",
      "2259083327192 2259083327192\n",
      "\n",
      "(1, 2) (1,)\n",
      "False\n",
      "2259134233032 2259083327192\n",
      "2\n"
     ]
    }
   ],
   "source": [
    "# a tuple is immutable, so you cannot modify it\n",
    "a = (1, )\n",
    "print(sys.getrefcount(a))\n",
    "b = a\n",
    "print(sys.getrefcount(a))\n",
    "print(a is b)\n",
    "print(id(a), id(b)) # same object because of same memory location\n",
    "\n",
    "print()\n",
    "\n",
    "a += (2,) # original tuple not modified, another tuple is created (that exists in a different memory location)\n",
    "print(a, b)\n",
    "print(a is b)\n",
    "print(id(a), id(b)) # notice that id(a) has changed memory location\n",
    "print(sys.getrefcount(a)) # notice that the reference count has fell back to 2"
   ]
  },
  {
   "cell_type": "markdown",
   "metadata": {},
   "source": [
    "#### Tuple Unpacking\n",
    "You can have multiple expressions on the right side of the assignment and multiple variable names on the left side. Often used with tuples, but you can also use lists as well.  "
   ]
  },
  {
   "cell_type": "code",
   "execution_count": 4,
   "metadata": {
    "scrolled": true
   },
   "outputs": [
    {
     "name": "stdout",
     "output_type": "stream",
     "text": [
      "2 1\n"
     ]
    }
   ],
   "source": [
    "a, b = 1, 2 # tuple unpacking\n",
    "a, b = b, a # this is a safe operation in Python. You don't need a temporary third variable.\n",
    "print(a, b)"
   ]
  },
  {
   "cell_type": "code",
   "execution_count": 5,
   "metadata": {},
   "outputs": [
    {
     "name": "stdout",
     "output_type": "stream",
     "text": [
      "(1, 2, 3)\n"
     ]
    }
   ],
   "source": [
    "a = 1, 2, 3 # no problem. no tuple unpacking is happening here\n",
    "print(a)"
   ]
  },
  {
   "cell_type": "code",
   "execution_count": 6,
   "metadata": {},
   "outputs": [
    {
     "ename": "ValueError",
     "evalue": "too many values to unpack (expected 2)",
     "output_type": "error",
     "traceback": [
      "\u001b[1;31m---------------------------------------------------------------------------\u001b[0m",
      "\u001b[1;31mValueError\u001b[0m                                Traceback (most recent call last)",
      "\u001b[1;32m<ipython-input-6-43ef5c8fab71>\u001b[0m in \u001b[0;36m<module>\u001b[1;34m()\u001b[0m\n\u001b[1;32m----> 1\u001b[1;33m \u001b[0ma\u001b[0m\u001b[1;33m,\u001b[0m \u001b[0mb\u001b[0m \u001b[1;33m=\u001b[0m \u001b[1;36m1\u001b[0m\u001b[1;33m,\u001b[0m \u001b[1;36m2\u001b[0m\u001b[1;33m,\u001b[0m \u001b[1;36m3\u001b[0m \u001b[1;31m# failed tuple unpacking due to \"imbalance\"\u001b[0m\u001b[1;33m\u001b[0m\u001b[0m\n\u001b[0m",
      "\u001b[1;31mValueError\u001b[0m: too many values to unpack (expected 2)"
     ]
    }
   ],
   "source": [
    "a, b = 1, 2, 3 # failed tuple unpacking due to \"imbalance\""
   ]
  },
  {
   "cell_type": "code",
   "execution_count": 7,
   "metadata": {},
   "outputs": [
    {
     "ename": "ValueError",
     "evalue": "not enough values to unpack (expected 3, got 2)",
     "output_type": "error",
     "traceback": [
      "\u001b[1;31m---------------------------------------------------------------------------\u001b[0m",
      "\u001b[1;31mValueError\u001b[0m                                Traceback (most recent call last)",
      "\u001b[1;32m<ipython-input-7-173180faf836>\u001b[0m in \u001b[0;36m<module>\u001b[1;34m()\u001b[0m\n\u001b[1;32m----> 1\u001b[1;33m \u001b[0ma\u001b[0m\u001b[1;33m,\u001b[0m \u001b[0mb\u001b[0m\u001b[1;33m,\u001b[0m \u001b[0mc\u001b[0m \u001b[1;33m=\u001b[0m \u001b[1;36m1\u001b[0m\u001b[1;33m,\u001b[0m \u001b[1;36m2\u001b[0m \u001b[1;31m# also causes problems due to \"imbalance\"\u001b[0m\u001b[1;33m\u001b[0m\u001b[0m\n\u001b[0m",
      "\u001b[1;31mValueError\u001b[0m: not enough values to unpack (expected 3, got 2)"
     ]
    }
   ],
   "source": [
    "a, b, c = 1, 2 # also causes problems due to \"imbalance\""
   ]
  },
  {
   "cell_type": "markdown",
   "metadata": {},
   "source": [
    "For example, fibonacci is often implemented with recursion. It can also be implemented iteratively with tuple unpacking.  "
   ]
  },
  {
   "cell_type": "code",
   "execution_count": 8,
   "metadata": {},
   "outputs": [
    {
     "data": {
      "text/plain": [
       "55"
      ]
     },
     "execution_count": 8,
     "metadata": {},
     "output_type": "execute_result"
    }
   ],
   "source": [
    "def fibonacci(n):\n",
    "    n_previous, n_current = 0, 1\n",
    "    for iteration in range(n - 1):\n",
    "        n_previous, n_current = n_current, n_previous + n_current # tuple unpacking\n",
    "    return n_current\n",
    "\n",
    "fibonacci(10)"
   ]
  },
  {
   "cell_type": "markdown",
   "metadata": {},
   "source": [
    "#### Multiple Assignment\n",
    "Also you don't have to assign 1 object to 1 variable name. You can do multiple assignment--1 object assigned to multiple variable names. The right-most expression is evaluated first and then bound to the variables left to right."
   ]
  },
  {
   "cell_type": "code",
   "execution_count": 9,
   "metadata": {},
   "outputs": [
    {
     "name": "stdout",
     "output_type": "stream",
     "text": [
      "9001 9001\n",
      "True\n"
     ]
    }
   ],
   "source": [
    "a = b = 9000 + 1 # bind 9001 to `a` first, then `b`\n",
    "print(a, b)\n",
    "print(a is b)\n",
    "\n",
    "# logically equal to: \n",
    "# 9000 + 1 -> 9001\n",
    "# a = 9001\n",
    "# b = a"
   ]
  },
  {
   "cell_type": "markdown",
   "metadata": {},
   "source": [
    "#### Multiple Assignment + Tuple Unpacking\n",
    "Use both tricks at the same time. You get these fun puzzles.  "
   ]
  },
  {
   "cell_type": "code",
   "execution_count": 10,
   "metadata": {
    "scrolled": true
   },
   "outputs": [
    {
     "name": "stdout",
     "output_type": "stream",
     "text": [
      "1 2\n"
     ]
    }
   ],
   "source": [
    "# The values for a and b are swapped and then swapped back. Basically, nothing happens.\n",
    "a, b = 1, 2\n",
    "\n",
    "(b, a) = (a, b) = (a, b)\n",
    "print(a, b)\n",
    "\n",
    "# logically equal to:\n",
    "# b, a = a, b       # the left most = the right most\n",
    "# a, b = b, a       # the middle = the left most"
   ]
  },
  {
   "cell_type": "markdown",
   "metadata": {},
   "source": [
    "To prove that multiple assigment happens left to right, I use a `property` attribute.  "
   ]
  },
  {
   "cell_type": "code",
   "execution_count": 11,
   "metadata": {},
   "outputs": [],
   "source": [
    "class SillyAssignment:\n",
    "    def __init__(self, value):\n",
    "        self.id = value\n",
    "        self._gotit = None\n",
    "        self._counter = 0\n",
    "    \n",
    "    @property\n",
    "    def gotit(self):\n",
    "        return self._gotit\n",
    "        \n",
    "    @gotit.setter\n",
    "    def gotit(self, value):\n",
    "        self._counter += 1\n",
    "        print(\"Setter {} to {}; set {} time(s)\".format(self.id, value, self._counter))\n",
    "        self._gotit = value\n",
    "\n",
    "s1 = SillyAssignment(\"s1\")\n",
    "s2 = SillyAssignment(\"s2\")\n",
    "a, b = 1, 2"
   ]
  },
  {
   "cell_type": "code",
   "execution_count": 12,
   "metadata": {},
   "outputs": [
    {
     "name": "stdout",
     "output_type": "stream",
     "text": [
      "Setter s2 to 1; set 1 time(s)\n",
      "Setter s1 to 2; set 1 time(s)\n",
      "Setter s1 to 1; set 2 time(s)\n",
      "Setter s2 to 2; set 2 time(s)\n"
     ]
    }
   ],
   "source": [
    "s2.gotit, s1.gotit = s1.gotit, s2.gotit = (a, b)\n",
    "# logically equal to:\n",
    "# s2.gotit, s1.gotit = a, b                    # the left most = the right most\n",
    "# s1.gotit, s2.gotit = s2.gotit, s1.gotit      # the middle = the left most"
   ]
  },
  {
   "cell_type": "markdown",
   "metadata": {},
   "source": [
    "Magic trick: Any time you see a magic trick ✨, it's just for fun. Don't think about it too hard--unless you want to. 😃  \n",
    "A recursive list: instead of a recursive function, perhaps this is a recursive version of a data structure."
   ]
  },
  {
   "cell_type": "code",
   "execution_count": 13,
   "metadata": {},
   "outputs": [
    {
     "name": "stdout",
     "output_type": "stream",
     "text": [
      "[[...]]\n",
      "2259107414344 2259107414344 2259107414344\n"
     ]
    }
   ],
   "source": [
    "a = a[0] = [None]\n",
    "\n",
    "print(a)\n",
    "a is a[0] is a[0][0]\n",
    "print(id(a), id(a[0]), id(a[0][0]))"
   ]
  },
  {
   "cell_type": "markdown",
   "metadata": {},
   "source": [
    "Another magic tricK ✨: twisting 2 lists together like a Mobius strip"
   ]
  },
  {
   "cell_type": "code",
   "execution_count": 14,
   "metadata": {
    "scrolled": true
   },
   "outputs": [
    {
     "name": "stdout",
     "output_type": "stream",
     "text": [
      "[[[...]]] [[[...]]]\n",
      "True True\n",
      "True\n",
      "2259151540936 2259151540936\n"
     ]
    }
   ],
   "source": [
    "a, b = b[0], a[0] =  [None], [None]\n",
    "\n",
    "print(a, b)\n",
    "print(a[0] is b, b[0] is a)\n",
    "print(a is a[0][0])\n",
    "print(id(a), id(a[0][0]))"
   ]
  },
  {
   "cell_type": "markdown",
   "metadata": {},
   "source": [
    "#### Accidentally Overwriting a Built-in \n",
    "Here's a common ~~n00b~~ beginner mistake. There's nothing special about built-in types: you can overwrite it. And here's how you undo it."
   ]
  },
  {
   "cell_type": "code",
   "execution_count": 15,
   "metadata": {},
   "outputs": [
    {
     "data": {
      "text/plain": [
       "[0, 1, 2, 3, 4, 5, 6, 7, 8, 9]"
      ]
     },
     "execution_count": 15,
     "metadata": {},
     "output_type": "execute_result"
    }
   ],
   "source": [
    "list = list(range(10)) # I just lost the ability to create lists\n",
    "list"
   ]
  },
  {
   "cell_type": "code",
   "execution_count": 16,
   "metadata": {},
   "outputs": [
    {
     "name": "stdout",
     "output_type": "stream",
     "text": [
      "[0, 1, 2, 3, 4, 5, 6, 7, 8, 9]\n",
      "[0, 1, 2, 3, 4]\n"
     ]
    }
   ],
   "source": [
    "# how do I get tuple() function back?\n",
    "list, my_tuple = type(list), list\n",
    "\n",
    "print(my_tuple)\n",
    "print(list(range(5)))"
   ]
  },
  {
   "cell_type": "code",
   "execution_count": 17,
   "metadata": {},
   "outputs": [
    {
     "name": "stdout",
     "output_type": "stream",
     "text": [
      "[0, 1, 2, 3, 4, 5, 6, 7, 8, 9]\n",
      "<class 'list'>\n"
     ]
    }
   ],
   "source": [
    "# the other way to use go back into builtins and extract the `list` function. \n",
    "# builtins will be covered more in depth the variable scoping section below\n",
    "import builtins\n",
    "\n",
    "list = list(range(10)) # I just lost the ability to create lists\n",
    "print(list)\n",
    "\n",
    "list = builtins.list\n",
    "print(list)"
   ]
  },
  {
   "cell_type": "code",
   "execution_count": null,
   "metadata": {},
   "outputs": [],
   "source": []
  },
  {
   "cell_type": "markdown",
   "metadata": {},
   "source": [
    "## Multiple Comparison\n",
    "Similar to multiple assignment, comparisons can also be chained together. The motivation is some function calls can take a long time, so you don't want to call it twice. The chaining is equivalent to `left_expression and right_expression`."
   ]
  },
  {
   "cell_type": "code",
   "execution_count": 1,
   "metadata": {},
   "outputs": [
    {
     "name": "stdout",
     "output_type": "stream",
     "text": [
      "True\n",
      "True\n"
     ]
    }
   ],
   "source": [
    "print(1 < 2 < 3) # equivalent to (1 < 2) and (2 < 3)\n",
    "print(1 < 3 > 2) # equivalent to (1 < 3) and (3 > 2)"
   ]
  },
  {
   "cell_type": "code",
   "execution_count": 2,
   "metadata": {},
   "outputs": [],
   "source": [
    "import time\n",
    "\n",
    "def slow_call(value, nap_time):\n",
    "    time.sleep(nap_time)\n",
    "    return value"
   ]
  },
  {
   "cell_type": "code",
   "execution_count": 3,
   "metadata": {},
   "outputs": [
    {
     "name": "stdout",
     "output_type": "stream",
     "text": [
      "Wall time: 10 s\n"
     ]
    },
    {
     "data": {
      "text/plain": [
       "True"
      ]
     },
     "execution_count": 3,
     "metadata": {},
     "output_type": "execute_result"
    }
   ],
   "source": [
    "%%time\n",
    "(1 < slow_call(2, 5)) and (slow_call(2, 5) < 3)"
   ]
  },
  {
   "cell_type": "code",
   "execution_count": 4,
   "metadata": {},
   "outputs": [
    {
     "name": "stdout",
     "output_type": "stream",
     "text": [
      "Wall time: 5 s\n"
     ]
    },
    {
     "data": {
      "text/plain": [
       "True"
      ]
     },
     "execution_count": 4,
     "metadata": {},
     "output_type": "execute_result"
    }
   ],
   "source": [
    "%%time\n",
    "1 < slow_call(2, 5) < 3 # takes half the time!"
   ]
  },
  {
   "cell_type": "code",
   "execution_count": null,
   "metadata": {},
   "outputs": [],
   "source": []
  },
  {
   "cell_type": "markdown",
   "metadata": {},
   "source": [
    "## Short Circuiting: `and` + `or`\n",
    "`or` and `and` have a cool functionality called <i>short circuting</i> in that they do not have to evaluate all expressions. Short circuiting is similar to lazy evaluation in that not all expressions are executed. \n",
    "\n",
    "\n",
    "`or` executes the left-hand side first, and if the left-side expression is logically `True`, then `or` will not evaluate the right-hand argument. Only if the left-hand side is logically `False`, then evaluate the right-hand side. Hence, `or` executes expressions from left to right and stops at the first logically `True` expression. If all expressions are logically `False`, then you get the last expression. \n",
    "* Logically `False` objects: `False`, `None`, 0, empty string `\"\"`, empty tuple `()`, empty list `[]`, empty dict `{}`, empty set `set()`  \n",
    "* Logically `True` objects: pretty much anything else. Even `(0,)` or `[None]` is truthy because they are non-empty containers.  \n",
    "\n",
    "The function `any()` is very similar to `or`. `any()` returns `True` or `False` by iterating your object and checking the truthiness of every element. If any of the elements is logically `True`, then it will return `True`. Otherwise, return `False` since all elements are logically `False`. Note, if you iterate over an empty container, then `any()` will return `False`."
   ]
  },
  {
   "cell_type": "code",
   "execution_count": 1,
   "metadata": {},
   "outputs": [
    {
     "name": "stdout",
     "output_type": "stream",
     "text": [
      "5\n",
      "5\n",
      "5\n"
     ]
    }
   ],
   "source": [
    "# immediately short circuit\n",
    "print(5 or False)\n",
    "print(5 or 6 or 7 or 8)\n",
    "print(5 or print(\"HI\")) # print() is not executed"
   ]
  },
  {
   "cell_type": "code",
   "execution_count": 2,
   "metadata": {},
   "outputs": [
    {
     "name": "stdout",
     "output_type": "stream",
     "text": [
      "BYE\n",
      "None\n"
     ]
    }
   ],
   "source": [
    "# no short circuiting happens since all elements are False\n",
    "print((1 - 1) or [] or print(\"BYE\")) # left hand side is evaluated, middle is evaluated, right side is evaluated since print() returns None"
   ]
  },
  {
   "cell_type": "code",
   "execution_count": 3,
   "metadata": {},
   "outputs": [
    {
     "name": "stdout",
     "output_type": "stream",
     "text": [
      "True\n",
      "False\n",
      "False\n"
     ]
    }
   ],
   "source": [
    "print(any(range(10)))\n",
    "print(any([False, None, 0, \"\", (), [], {}, set()]))\n",
    "print(any([]))"
   ]
  },
  {
   "cell_type": "markdown",
   "metadata": {},
   "source": [
    "`and` is the opposite of `or` because `and` stops at the first logically `False` argument and returns it. If there are no falsy (real word!) expressions, then return the last argument (which is necessarily truthy). Just like `or`, `and` evaluates expressions left to right.  "
   ]
  },
  {
   "cell_type": "code",
   "execution_count": 4,
   "metadata": {},
   "outputs": [
    {
     "name": "stdout",
     "output_type": "stream",
     "text": [
      "0\n",
      "5\n",
      "False\n",
      "0\n"
     ]
    }
   ],
   "source": [
    "print(1 and 2 and 3 and 0 and 4 and 5) # stops at the falsy element\n",
    "print(1 and 2 and 3 and 4 and 5) # all truthy so get the last truthy element\n",
    "print(False and 0 and \"\") # stops at the first one\n",
    "print(0 and \"\" and False) # stops at the first one"
   ]
  },
  {
   "cell_type": "markdown",
   "metadata": {},
   "source": [
    "Short circuiting comes in handy if you are evaluating multiple conditions. You want to put the expression you think will short circuit more often or quicker on the left side.  "
   ]
  },
  {
   "cell_type": "code",
   "execution_count": 5,
   "metadata": {},
   "outputs": [],
   "source": [
    "import time\n",
    "\n",
    "def slow_call(value, nap_time):\n",
    "    time.sleep(nap_time)\n",
    "    return value"
   ]
  },
  {
   "cell_type": "code",
   "execution_count": 6,
   "metadata": {},
   "outputs": [
    {
     "name": "stdout",
     "output_type": "stream",
     "text": [
      "HI\n",
      "Wall time: 3.02 s\n"
     ]
    }
   ],
   "source": [
    "%%time\n",
    "if slow_call(True, 1) and slow_call(True, 2): # has to wait the full 3 seconds\n",
    "    print(\"HI\") # executed"
   ]
  },
  {
   "cell_type": "code",
   "execution_count": 7,
   "metadata": {},
   "outputs": [
    {
     "name": "stdout",
     "output_type": "stream",
     "text": [
      "HI\n",
      "Wall time: 1.01 s\n"
     ]
    }
   ],
   "source": [
    "%%time\n",
    "if slow_call(True, 1) or slow_call(True, 2): # since the first expression is truthy, then skip the second one\n",
    "    print(\"HI\") # executed"
   ]
  },
  {
   "cell_type": "code",
   "execution_count": null,
   "metadata": {},
   "outputs": [],
   "source": []
  },
  {
   "cell_type": "code",
   "execution_count": 8,
   "metadata": {},
   "outputs": [
    {
     "name": "stdout",
     "output_type": "stream",
     "text": [
      "Wall time: 3.02 s\n"
     ]
    }
   ],
   "source": [
    "%%time\n",
    "if slow_call(False, 1) or slow_call(False, 2): # has to wait the full 3 seconds\n",
    "    print(\"HI\") # not executed"
   ]
  },
  {
   "cell_type": "code",
   "execution_count": 9,
   "metadata": {},
   "outputs": [
    {
     "name": "stdout",
     "output_type": "stream",
     "text": [
      "Wall time: 1.01 s\n"
     ]
    }
   ],
   "source": [
    "%%time\n",
    "if slow_call(False, 1) and slow_call(False, 2): # since first expression is falsy, then skip the second one\n",
    "    print(\"HI\") # not executed"
   ]
  },
  {
   "cell_type": "code",
   "execution_count": null,
   "metadata": {},
   "outputs": [],
   "source": []
  },
  {
   "cell_type": "code",
   "execution_count": 10,
   "metadata": {},
   "outputs": [
    {
     "name": "stdout",
     "output_type": "stream",
     "text": [
      "HI\n",
      "Wall time: 1.01 s\n"
     ]
    }
   ],
   "source": [
    "%%time\n",
    "if slow_call(True, 1) or slow_call(True, 2) or slow_call(True, 3) or slow_call(True, 4): # still only takes 1 second\n",
    "    print(\"HI\")"
   ]
  },
  {
   "cell_type": "code",
   "execution_count": null,
   "metadata": {},
   "outputs": [],
   "source": []
  },
  {
   "cell_type": "markdown",
   "metadata": {},
   "source": [
    "## What's My Name? Variable Scoping\n",
    "When you use multiple variables with the same name, how do you know which variable you get? For example, you have a globally defined variable `x` and a `x` in a function and `x` in some imported module. Which one do you get?  \n",
    "`Namespaces` : A namespace is a container where names are mapped to objects. Hence, you have same variable names associated to different objects in different spaces.  \n",
    "`Scope`: A scope defines the hierarchical order in which the namespaces have to be searched in order to obtain the mappings of name to object. Python follows the LEGB rule: `Local, Enclosing, Global, Built-in`. If a variable is not found in the local namespace, go to the outer namespaces. If not found at all, then raise `NameError` exception. Variables with the same name in the same namespace will overwrite each other--only 1 can exist at a time.\n",
    "\n",
    "The vocabulary words `namespace` and `scope` are often used interchangeably, but they are not the same. But don't worry about it, as the distinction isn't very important. What's more important is understanding how they work.\n",
    "\n",
    "<p align=\"center\"><img src=\"images/LEGB_Variable_Scoping.png\"></p>\n",
    "<b>Local</b>: inside a function, look to see if variable is defined. If it is there, use that one."
   ]
  },
  {
   "cell_type": "code",
   "execution_count": 1,
   "metadata": {
    "scrolled": true
   },
   "outputs": [],
   "source": [
    "a = 1 # this is a global variable\n",
    "def func():\n",
    "    a = 2 # this is the local variable\n",
    "    return a\n",
    "print(func())\n",
    "print(a)"
   ]
  },
  {
   "cell_type": "markdown",
   "metadata": {},
   "source": [
    "<b>Enclosing</b>: if local variable not found inside inner function, look for the variable in the outer function."
   ]
  },
  {
   "cell_type": "code",
   "execution_count": 2,
   "metadata": {},
   "outputs": [
    {
     "name": "stdout",
     "output_type": "stream",
     "text": [
      "2\n",
      "1\n"
     ]
    }
   ],
   "source": [
    "a = 1 # this a global variable\n",
    "def func1():\n",
    "    a = 2 # get this enclosing variable\n",
    "    def func2():\n",
    "        return a\n",
    "    return func2()\n",
    "print(func1())\n",
    "print(a)"
   ]
  },
  {
   "cell_type": "code",
   "execution_count": 3,
   "metadata": {},
   "outputs": [
    {
     "name": "stdout",
     "output_type": "stream",
     "text": [
      "2\n",
      "1\n"
     ]
    }
   ],
   "source": [
    "a = 1 # this a global variable\n",
    "def func1():\n",
    "    a = 2 # this is still an enclosing variable as it is not global\n",
    "    def func2():\n",
    "        def func3():\n",
    "            return a\n",
    "        return func3()\n",
    "    return func2()\n",
    "print(func1())\n",
    "print(a)"
   ]
  },
  {
   "cell_type": "code",
   "execution_count": 4,
   "metadata": {},
   "outputs": [
    {
     "name": "stdout",
     "output_type": "stream",
     "text": [
      "2\n"
     ]
    }
   ],
   "source": [
    "# this works\n",
    "def a1():\n",
    "    def a2():\n",
    "        print(a2_var) # a2_var is defined AFTER the function is defined. \n",
    "        # This is late binding from closure. Look at 4_Functional_Python.ipynb to learn more\n",
    "\n",
    "    a2_var = 2\n",
    "    a2()\n",
    "\n",
    "a1()"
   ]
  },
  {
   "cell_type": "code",
   "execution_count": 5,
   "metadata": {},
   "outputs": [
    {
     "ename": "NameError",
     "evalue": "name 'a2_var' is not defined",
     "output_type": "error",
     "traceback": [
      "\u001b[1;31m---------------------------------------------------------------------------\u001b[0m",
      "\u001b[1;31mNameError\u001b[0m                                 Traceback (most recent call last)",
      "\u001b[1;32m<ipython-input-5-242038654df2>\u001b[0m in \u001b[0;36m<module>\u001b[1;34m()\u001b[0m\n\u001b[0;32m      7\u001b[0m     \u001b[0mprint\u001b[0m\u001b[1;33m(\u001b[0m\u001b[0ma2_var\u001b[0m\u001b[1;33m)\u001b[0m \u001b[1;31m# a2_var is not a local or enclosure variable with respect to a2()\u001b[0m\u001b[1;33m\u001b[0m\u001b[0m\n\u001b[0;32m      8\u001b[0m \u001b[1;33m\u001b[0m\u001b[0m\n\u001b[1;32m----> 9\u001b[1;33m \u001b[0ma1\u001b[0m\u001b[1;33m(\u001b[0m\u001b[1;33m)\u001b[0m\u001b[1;33m\u001b[0m\u001b[0m\n\u001b[0m",
      "\u001b[1;32m<ipython-input-5-242038654df2>\u001b[0m in \u001b[0;36ma1\u001b[1;34m()\u001b[0m\n\u001b[0;32m      2\u001b[0m \u001b[1;32mdef\u001b[0m \u001b[0ma1\u001b[0m\u001b[1;33m(\u001b[0m\u001b[1;33m)\u001b[0m\u001b[1;33m:\u001b[0m\u001b[1;33m\u001b[0m\u001b[0m\n\u001b[0;32m      3\u001b[0m     \u001b[0ma2_var\u001b[0m \u001b[1;33m=\u001b[0m \u001b[1;36m2\u001b[0m\u001b[1;33m\u001b[0m\u001b[0m\n\u001b[1;32m----> 4\u001b[1;33m     \u001b[0ma2\u001b[0m\u001b[1;33m(\u001b[0m\u001b[1;33m)\u001b[0m\u001b[1;33m\u001b[0m\u001b[0m\n\u001b[0m\u001b[0;32m      5\u001b[0m \u001b[1;33m\u001b[0m\u001b[0m\n\u001b[0;32m      6\u001b[0m \u001b[1;32mdef\u001b[0m \u001b[0ma2\u001b[0m\u001b[1;33m(\u001b[0m\u001b[1;33m)\u001b[0m\u001b[1;33m:\u001b[0m\u001b[1;33m\u001b[0m\u001b[0m\n",
      "\u001b[1;32m<ipython-input-5-242038654df2>\u001b[0m in \u001b[0;36ma2\u001b[1;34m()\u001b[0m\n\u001b[0;32m      5\u001b[0m \u001b[1;33m\u001b[0m\u001b[0m\n\u001b[0;32m      6\u001b[0m \u001b[1;32mdef\u001b[0m \u001b[0ma2\u001b[0m\u001b[1;33m(\u001b[0m\u001b[1;33m)\u001b[0m\u001b[1;33m:\u001b[0m\u001b[1;33m\u001b[0m\u001b[0m\n\u001b[1;32m----> 7\u001b[1;33m     \u001b[0mprint\u001b[0m\u001b[1;33m(\u001b[0m\u001b[0ma2_var\u001b[0m\u001b[1;33m)\u001b[0m \u001b[1;31m# a2_var is not a local or enclosure variable with respect to a2()\u001b[0m\u001b[1;33m\u001b[0m\u001b[0m\n\u001b[0m\u001b[0;32m      8\u001b[0m \u001b[1;33m\u001b[0m\u001b[0m\n\u001b[0;32m      9\u001b[0m \u001b[0ma1\u001b[0m\u001b[1;33m(\u001b[0m\u001b[1;33m)\u001b[0m\u001b[1;33m\u001b[0m\u001b[0m\n",
      "\u001b[1;31mNameError\u001b[0m: name 'a2_var' is not defined"
     ]
    }
   ],
   "source": [
    "# but why doesn't this one work?\n",
    "def a1():\n",
    "    a2_var = 2\n",
    "    a2()\n",
    "\n",
    "def a2():\n",
    "    print(a2_var) # a2_var is not a local or enclosure variable with respect to a2()\n",
    "    \n",
    "a1()"
   ]
  },
  {
   "cell_type": "markdown",
   "metadata": {},
   "source": [
    "<b>Global</b>: variables defined at the module level. In your function call, if variables are not defined locally or enclosing, go to the module level to find the variable."
   ]
  },
  {
   "cell_type": "code",
   "execution_count": 6,
   "metadata": {},
   "outputs": [
    {
     "name": "stdout",
     "output_type": "stream",
     "text": [
      "1\n",
      "1\n"
     ]
    }
   ],
   "source": [
    "a = 1 # global variable\n",
    "def func1():\n",
    "    def func2():\n",
    "        return a\n",
    "    return func2()\n",
    "print(func1())\n",
    "print(a)"
   ]
  },
  {
   "cell_type": "code",
   "execution_count": 7,
   "metadata": {},
   "outputs": [
    {
     "data": {
      "text/plain": [
       "55"
      ]
     },
     "execution_count": 7,
     "metadata": {},
     "output_type": "execute_result"
    }
   ],
   "source": [
    "# recursion uses scoping to \"discover\" itself\n",
    "def fibonacci(n):\n",
    "    if (n == 1) or (n == 2):\n",
    "        return 1\n",
    "    return fibonacci(n - 1) + fibonacci(n - 2) # where is fibonacci() defined? It's a global variable\n",
    "\n",
    "fibonacci(10)"
   ]
  },
  {
   "cell_type": "code",
   "execution_count": 8,
   "metadata": {},
   "outputs": [
    {
     "name": "stdout",
     "output_type": "stream",
     "text": [
      "I'm inside func1. The number is 10\n",
      "I'm inside func2. The number is 9\n",
      "I'm inside func1. The number is 8\n",
      "I'm inside func2. The number is 7\n",
      "I'm inside func1. The number is 6\n",
      "I'm inside func2. The number is 5\n",
      "I'm inside func1. The number is 4\n",
      "I'm inside func2. The number is 3\n",
      "I'm inside func1. The number is 2\n",
      "I'm inside func2. The number is 1\n",
      "None\n"
     ]
    }
   ],
   "source": [
    "# Magic trick: you can \"twist\" functions to see how LEGB really works\n",
    "def func1(n):\n",
    "    def func2(n):\n",
    "        if n:\n",
    "            print(\"I'm inside func2. The number is {}\".format(n))\n",
    "            return func1(n - 1)\n",
    "        return\n",
    "\n",
    "    if n:\n",
    "        print(\"I'm inside func1. The number is {}\".format(n))\n",
    "        return func2(n - 1)\n",
    "        \n",
    "print(func1(10))"
   ]
  },
  {
   "cell_type": "markdown",
   "metadata": {},
   "source": [
    "<b>Global</b> variables are not _truly_ global in the sense that variables cannot communicate between modules. If `pandas` and `sklearn` both have a variable `a`, then they cannot communicate with each other. `pandas.a` does not know about `sklearn.a`."
   ]
  },
  {
   "cell_type": "code",
   "execution_count": 9,
   "metadata": {},
   "outputs": [
    {
     "name": "stdout",
     "output_type": "stream",
     "text": [
      "Writing temp1.py\n"
     ]
    }
   ],
   "source": [
    "%%writefile temp1.py\n",
    "a = 1"
   ]
  },
  {
   "cell_type": "code",
   "execution_count": 10,
   "metadata": {},
   "outputs": [
    {
     "name": "stdout",
     "output_type": "stream",
     "text": [
      "Writing temp2.py\n"
     ]
    }
   ],
   "source": [
    "%%writefile temp2.py\n",
    "a = 2"
   ]
  },
  {
   "cell_type": "code",
   "execution_count": 11,
   "metadata": {},
   "outputs": [
    {
     "name": "stdout",
     "output_type": "stream",
     "text": [
      "Writing temp3.py\n"
     ]
    }
   ],
   "source": [
    "%%writefile temp3.py\n",
    "print(a)"
   ]
  },
  {
   "cell_type": "code",
   "execution_count": 12,
   "metadata": {},
   "outputs": [
    {
     "name": "stdout",
     "output_type": "stream",
     "text": [
      "1\n"
     ]
    }
   ],
   "source": [
    "import temp1\n",
    "print(temp1.a)"
   ]
  },
  {
   "cell_type": "code",
   "execution_count": 13,
   "metadata": {},
   "outputs": [
    {
     "name": "stdout",
     "output_type": "stream",
     "text": [
      "2\n"
     ]
    }
   ],
   "source": [
    "import temp2\n",
    "print(temp2.a)"
   ]
  },
  {
   "cell_type": "code",
   "execution_count": 14,
   "metadata": {},
   "outputs": [
    {
     "ename": "NameError",
     "evalue": "name 'a' is not defined",
     "output_type": "error",
     "traceback": [
      "\u001b[1;31m---------------------------------------------------------------------------\u001b[0m",
      "\u001b[1;31mNameError\u001b[0m                                 Traceback (most recent call last)",
      "\u001b[1;32m<ipython-input-14-edf4eeb08df7>\u001b[0m in \u001b[0;36m<module>\u001b[1;34m()\u001b[0m\n\u001b[1;32m----> 1\u001b[1;33m \u001b[1;32mimport\u001b[0m \u001b[0mtemp3\u001b[0m \u001b[1;31m# fails to load\u001b[0m\u001b[1;33m\u001b[0m\u001b[0m\n\u001b[0m",
      "\u001b[1;32m~\\Desktop\\advanced_python\\temp3.py\u001b[0m in \u001b[0;36m<module>\u001b[1;34m()\u001b[0m\n\u001b[1;32m----> 1\u001b[1;33m \u001b[0mprint\u001b[0m\u001b[1;33m(\u001b[0m\u001b[0ma\u001b[0m\u001b[1;33m)\u001b[0m\u001b[1;33m\u001b[0m\u001b[0m\n\u001b[0m",
      "\u001b[1;31mNameError\u001b[0m: name 'a' is not defined"
     ]
    }
   ],
   "source": [
    "import temp3 # fails to load"
   ]
  },
  {
   "cell_type": "code",
   "execution_count": 15,
   "metadata": {
    "scrolled": false
   },
   "outputs": [
    {
     "ename": "NameError",
     "evalue": "name 'a' is not defined",
     "output_type": "error",
     "traceback": [
      "\u001b[1;31m---------------------------------------------------------------------------\u001b[0m",
      "\u001b[1;31mNameError\u001b[0m                                 Traceback (most recent call last)",
      "\u001b[1;32m<ipython-input-15-1c3794df8b4f>\u001b[0m in \u001b[0;36m<module>\u001b[1;34m()\u001b[0m\n\u001b[0;32m      1\u001b[0m \u001b[0ma\u001b[0m \u001b[1;33m=\u001b[0m \u001b[1;36m1\u001b[0m \u001b[1;31m# even if you define it now, temp3 cannot be imported since `a` in temp3 does not exist\u001b[0m\u001b[1;33m\u001b[0m\u001b[0m\n\u001b[1;32m----> 2\u001b[1;33m \u001b[1;32mimport\u001b[0m \u001b[0mtemp3\u001b[0m\u001b[1;33m\u001b[0m\u001b[0m\n\u001b[0m",
      "\u001b[1;32m~\\Desktop\\advanced_python\\temp3.py\u001b[0m in \u001b[0;36m<module>\u001b[1;34m()\u001b[0m\n\u001b[1;32m----> 1\u001b[1;33m \u001b[0mprint\u001b[0m\u001b[1;33m(\u001b[0m\u001b[0ma\u001b[0m\u001b[1;33m)\u001b[0m\u001b[1;33m\u001b[0m\u001b[0m\n\u001b[0m",
      "\u001b[1;31mNameError\u001b[0m: name 'a' is not defined"
     ]
    }
   ],
   "source": [
    "a = 1 # even if you define it now, temp3 cannot be imported since `a` in temp3 does not exist\n",
    "import temp3"
   ]
  },
  {
   "cell_type": "markdown",
   "metadata": {},
   "source": [
    "`Built-ins` are the things that you generally use without thinking: `sum()`, `range()`, `list`, `None`, `True`. These variables/functions are like \"universal globals\" in the sense that they exist between modules."
   ]
  },
  {
   "cell_type": "code",
   "execution_count": 16,
   "metadata": {},
   "outputs": [],
   "source": [
    "def printer():\n",
    "    print(\"Money tree: sorry, my gold is green--the color of envy!\") # where does the function print() come from? It's a built-in!"
   ]
  },
  {
   "cell_type": "markdown",
   "metadata": {},
   "source": [
    "Magic trick: how do you make your own (\"universal global\") builtin variable? How can you communicate between different modules? You can do that by hacking away at the `builtins` module. Built-in functions/variables are not special--they can be overwritten like everything else. As you can see, you can cause some chaos."
   ]
  },
  {
   "cell_type": "code",
   "execution_count": 17,
   "metadata": {},
   "outputs": [
    {
     "name": "stdout",
     "output_type": "stream",
     "text": [
      "Overwriting temp1.py\n"
     ]
    }
   ],
   "source": [
    "%%writefile temp1.py\n",
    "import builtins\n",
    "\n",
    "builtins.len = lambda _: \"len() is now gone\"\n",
    "builtins.list = tuple\n",
    "builtins.blah_blah_blah = \"Ke$ha\"\n"
   ]
  },
  {
   "cell_type": "code",
   "execution_count": 18,
   "metadata": {},
   "outputs": [
    {
     "name": "stdout",
     "output_type": "stream",
     "text": [
      "Overwriting temp2.py\n"
     ]
    }
   ],
   "source": [
    "%%writefile temp2.py\n",
    "import temp1\n",
    "\n",
    "print(len(\"HI\")) # len no longer works\n",
    "print(list(range(10))) # became a tuple\n",
    "print(blah_blah_blah) # some random variable now exists"
   ]
  },
  {
   "cell_type": "code",
   "execution_count": 19,
   "metadata": {},
   "outputs": [
    {
     "name": "stdout",
     "output_type": "stream",
     "text": [
      "len() is now gone\n",
      "(0, 1, 2, 3, 4, 5, 6, 7, 8, 9)\n",
      "Ke$ha\n"
     ]
    }
   ],
   "source": [
    "!python temp2.py"
   ]
  },
  {
   "cell_type": "markdown",
   "metadata": {},
   "source": [
    "If there are 2 variables of the same name in the same namespace, then (like Highlander) there can only be one! The reason is that namespaces are themselves implemented with a dictionary. Hence, the most recent variable overwrites the previous one."
   ]
  },
  {
   "cell_type": "code",
   "execution_count": 20,
   "metadata": {},
   "outputs": [
    {
     "name": "stdout",
     "output_type": "stream",
     "text": [
      "<function a at 0x00000287FCBC37B8>\n",
      "True\n",
      "<function a at 0x00000287FCBC37B8> <function a at 0x00000287FCBC37B8> <function a at 0x00000287FCBC37B8> <function a at 0x00000287FCBC37B8>\n"
     ]
    }
   ],
   "source": [
    "a = 1 # global variable will be overwritten by the following function\n",
    "def a(): # this function overwrites/replaces the previous assignment. The value of 1 is totally lost/gone.\n",
    "    def b():\n",
    "        return a # refers to the outer function and thus not the variable\n",
    "    return b()\n",
    "print(a())\n",
    "print(a is a() is a()() is a()()())\n",
    "print(a, a(), a()(), a()()())"
   ]
  },
  {
   "cell_type": "code",
   "execution_count": null,
   "metadata": {},
   "outputs": [],
   "source": []
  },
  {
   "cell_type": "markdown",
   "metadata": {},
   "source": [
    "## (Re)assignment within inner namespaces: `global` and `nonlocal`\n",
    "As a general rule, variables in inner namespaces cannot be assigned to outer namespaces. However, you can update mutative variables in inner namespaces (for example, lists are mutable). This is not reassigning the inner variable to the outer variable though.  \n",
    "There is way to get around this rule by using `global` or `nonlocal` (fun fact: these are the only 2 declarative statements in Python).  \n",
    "* `global` tells Python you are using a global variable, so inside a function call, you can permanently change a global variable.  \n",
    "* `nonlocal` is used to assign/reassign enclosing variables.  \n",
    "\n",
    "Caveat: I have never used `global` or `nonlocal` in real code, so use them sparingly, as they violate the Principle of Least Surprise."
   ]
  },
  {
   "cell_type": "code",
   "execution_count": 1,
   "metadata": {},
   "outputs": [
    {
     "name": "stdout",
     "output_type": "stream",
     "text": [
      "[]\n",
      "[None]\n"
     ]
    }
   ],
   "source": [
    "a = []\n",
    "def func():\n",
    "    a.append(None)\n",
    "print(a)\n",
    "func()\n",
    "print(a) # a is mutated"
   ]
  },
  {
   "cell_type": "code",
   "execution_count": 2,
   "metadata": {},
   "outputs": [
    {
     "name": "stdout",
     "output_type": "stream",
     "text": [
      "[]\n",
      "[]\n"
     ]
    }
   ],
   "source": [
    "a = [] # global\n",
    "def inner():\n",
    "    a = [] # local\n",
    "    a.append(None) # refers to the local variable\n",
    "print(a)\n",
    "inner()\n",
    "print(a) # a is not mutated or assigned. Basically nothing has happened"
   ]
  },
  {
   "cell_type": "code",
   "execution_count": 3,
   "metadata": {},
   "outputs": [
    {
     "name": "stdout",
     "output_type": "stream",
     "text": [
      "1\n",
      "2\n"
     ]
    }
   ],
   "source": [
    "a = 1\n",
    "def reassign():\n",
    "    global a\n",
    "    a = 2\n",
    "\n",
    "print(a)\n",
    "reassign()\n",
    "print(a)"
   ]
  },
  {
   "cell_type": "code",
   "execution_count": 4,
   "metadata": {},
   "outputs": [
    {
     "name": "stdout",
     "output_type": "stream",
     "text": [
      "1 before global reassignment\n",
      "1 I am inside nested function\n",
      "2 I am the enclosing variable\n",
      "3 after global reassignment\n"
     ]
    }
   ],
   "source": [
    "a = 1 # re-assign this variable\n",
    "def reassign():\n",
    "    a = 2\n",
    "    def func():\n",
    "        global a\n",
    "        print(a, \"I am inside nested function\")\n",
    "        a = 3\n",
    "    func()\n",
    "    print(a, \"I am the enclosing variable\") # nothing changed here\n",
    "print(a, \"before global reassignment\")\n",
    "reassign()\n",
    "print(a, \"after global reassignment\")"
   ]
  },
  {
   "cell_type": "code",
   "execution_count": 5,
   "metadata": {},
   "outputs": [
    {
     "name": "stdout",
     "output_type": "stream",
     "text": [
      "xyz doesn't exist\n",
      "xyz doesn't exist\n",
      "1\n"
     ]
    }
   ],
   "source": [
    "def global_assign():\n",
    "    global xyz\n",
    "    xyz = 1\n",
    "    \n",
    "try:\n",
    "    del xyz\n",
    "    print(\"deleted xyz\")\n",
    "except NameError:\n",
    "    print(\"xyz doesn't exist\")\n",
    "\n",
    "try:\n",
    "    print(xyz)\n",
    "except NameError:\n",
    "    print(\"xyz doesn't exist\")\n",
    "\n",
    "global_assign()\n",
    "print(xyz)"
   ]
  },
  {
   "cell_type": "code",
   "execution_count": 6,
   "metadata": {},
   "outputs": [
    {
     "name": "stdout",
     "output_type": "stream",
     "text": [
      "1 global variable unchanged\n",
      "2 enclosing variable (relative to func2()) before reassignment\n",
      "3 enclosing variable (relative to func2()) after reassignment\n"
     ]
    }
   ],
   "source": [
    "a = 1\n",
    "def func1():\n",
    "    a = 2 # reassign this enclosing variable\n",
    "    def func2():\n",
    "        nonlocal a\n",
    "        a = 3\n",
    "    print(a, \"enclosing variable (relative to func2()) before reassignment\")\n",
    "    func2()\n",
    "    print(a, \"enclosing variable (relative to func2()) after reassignment\")\n",
    "print(a, \"global variable unchanged\")\n",
    "func1()"
   ]
  },
  {
   "cell_type": "code",
   "execution_count": null,
   "metadata": {},
   "outputs": [],
   "source": []
  },
  {
   "cell_type": "markdown",
   "metadata": {},
   "source": [
    "## Executive Power: `exec` and `eval`\n",
    "These 2 functions are very powerful. As Uncle Ben once said: with great power comes great responsibility. In practice, you will rarely have to use these.\n",
    "\n",
    "`exec()` takes a string and will execute the string as if it were Python code. You should never run arbitrary code from  untrusted sources, since they can delete your entire hard drive. `exec()` is a function in Python 3 (that always returns `None`) whereas `exec` is a statement in Python 2 (which cannot be saved). This is the same upgrade for `print()` which is a function in Python 3 and a statement in Python 2.  "
   ]
  },
  {
   "cell_type": "code",
   "execution_count": 1,
   "metadata": {},
   "outputs": [
    {
     "name": "stdout",
     "output_type": "stream",
     "text": [
      "HI\n",
      "3.6.4 |Anaconda, Inc.| (default, Jan 16 2018, 10:22:32) [MSC v.1900 64 bit (AMD64)]\n",
      "[42]\n",
      "3\n",
      "None\n",
      "3\n"
     ]
    }
   ],
   "source": [
    "exec(\"print('HI')\")\n",
    "\n",
    "exec(\"import sys\") # can mutate the environment\n",
    "print(sys.version) # sys is now imported\n",
    "\n",
    "lister = []\n",
    "exec(\"lister.append(42)\") # can mutate the environment\n",
    "print(lister)\n",
    "\n",
    "exec(\"x = 1; x += 2; print(x)\") # can have multiple statements\n",
    "\n",
    "print(exec(\"\")) # exec returns None\n",
    "\n",
    "exec(\"print({} + {})\".format(1, 2)) # you can dynamically generate a string"
   ]
  },
  {
   "cell_type": "code",
   "execution_count": 2,
   "metadata": {},
   "outputs": [
    {
     "name": "stdout",
     "output_type": "stream",
     "text": [
      "HI\n",
      "None\n"
     ]
    }
   ],
   "source": [
    "print(print(\"HI\")) # the inner print() returns None. This syntax cannot be used in Python 2"
   ]
  },
  {
   "cell_type": "markdown",
   "metadata": {},
   "source": [
    "`eval()` is bit safer: you are allowed 1 expression, no statement. If you put an expression, you can save that value."
   ]
  },
  {
   "cell_type": "code",
   "execution_count": 3,
   "metadata": {},
   "outputs": [
    {
     "name": "stdout",
     "output_type": "stream",
     "text": [
      "3\n"
     ]
    }
   ],
   "source": [
    "x = eval(\"1 + 2\")\n",
    "print(x)"
   ]
  },
  {
   "cell_type": "code",
   "execution_count": 4,
   "metadata": {},
   "outputs": [
    {
     "name": "stdout",
     "output_type": "stream",
     "text": [
      "(1, 2, 3, 4)\n"
     ]
    }
   ],
   "source": [
    "print(eval(\"(1, 2) + (3, 4)\")) # no statement, the expression must return something"
   ]
  },
  {
   "cell_type": "code",
   "execution_count": 5,
   "metadata": {},
   "outputs": [
    {
     "ename": "SyntaxError",
     "evalue": "invalid syntax (<string>, line 1)",
     "output_type": "error",
     "traceback": [
      "Traceback \u001b[1;36m(most recent call last)\u001b[0m:\n",
      "  File \u001b[0;32m\"C:\\ProgramData\\Anaconda3\\lib\\site-packages\\IPython\\core\\interactiveshell.py\"\u001b[0m, line \u001b[0;32m2910\u001b[0m, in \u001b[0;35mrun_code\u001b[0m\n    exec(code_obj, self.user_global_ns, self.user_ns)\n",
      "\u001b[1;36m  File \u001b[1;32m\"<ipython-input-5-f13f9b5031c6>\"\u001b[1;36m, line \u001b[1;32m1\u001b[1;36m, in \u001b[1;35m<module>\u001b[1;36m\u001b[0m\n\u001b[1;33m    eval(\"1 + 2; 3 + 4\") # only 1 expression\u001b[0m\n",
      "\u001b[1;36m  File \u001b[1;32m\"<string>\"\u001b[1;36m, line \u001b[1;32m1\u001b[0m\n\u001b[1;33m    1 + 2; 3 + 4\u001b[0m\n\u001b[1;37m         ^\u001b[0m\n\u001b[1;31mSyntaxError\u001b[0m\u001b[1;31m:\u001b[0m invalid syntax\n"
     ]
    }
   ],
   "source": [
    "eval(\"1 + 2; 3 + 4\") # only 1 expression"
   ]
  },
  {
   "cell_type": "code",
   "execution_count": 6,
   "metadata": {},
   "outputs": [
    {
     "ename": "SyntaxError",
     "evalue": "invalid syntax (<string>, line 1)",
     "output_type": "error",
     "traceback": [
      "Traceback \u001b[1;36m(most recent call last)\u001b[0m:\n",
      "  File \u001b[0;32m\"C:\\ProgramData\\Anaconda3\\lib\\site-packages\\IPython\\core\\interactiveshell.py\"\u001b[0m, line \u001b[0;32m2910\u001b[0m, in \u001b[0;35mrun_code\u001b[0m\n    exec(code_obj, self.user_global_ns, self.user_ns)\n",
      "\u001b[1;36m  File \u001b[1;32m\"<ipython-input-6-da023a993526>\"\u001b[1;36m, line \u001b[1;32m1\u001b[1;36m, in \u001b[1;35m<module>\u001b[1;36m\u001b[0m\n\u001b[1;33m    eval(\"x = 10\") # no statement, the expression must return something\u001b[0m\n",
      "\u001b[1;36m  File \u001b[1;32m\"<string>\"\u001b[1;36m, line \u001b[1;32m1\u001b[0m\n\u001b[1;33m    x = 10\u001b[0m\n\u001b[1;37m      ^\u001b[0m\n\u001b[1;31mSyntaxError\u001b[0m\u001b[1;31m:\u001b[0m invalid syntax\n"
     ]
    }
   ],
   "source": [
    "eval(\"x = 10\") # no statement, the expression must return something"
   ]
  },
  {
   "cell_type": "markdown",
   "metadata": {},
   "source": [
    "There's an even safer option: `ast.literal_eval`, which on evaluates 1 literal object. It cannot understand variables."
   ]
  },
  {
   "cell_type": "code",
   "execution_count": 7,
   "metadata": {},
   "outputs": [
    {
     "name": "stdout",
     "output_type": "stream",
     "text": [
      "1 None () True\n"
     ]
    }
   ],
   "source": [
    "import ast\n",
    "\n",
    "print(ast.literal_eval(\"1\"), ast.literal_eval(\"None\"), ast.literal_eval(\"()\"), ast.literal_eval(\"True\"))"
   ]
  },
  {
   "cell_type": "code",
   "execution_count": 8,
   "metadata": {},
   "outputs": [
    {
     "name": "stdout",
     "output_type": "stream",
     "text": [
      "[]\n"
     ]
    },
    {
     "ename": "ValueError",
     "evalue": "malformed node or string: <_ast.BinOp object at 0x000002516A221160>",
     "output_type": "error",
     "traceback": [
      "\u001b[1;31m---------------------------------------------------------------------------\u001b[0m",
      "\u001b[1;31mValueError\u001b[0m                                Traceback (most recent call last)",
      "\u001b[1;32m<ipython-input-8-3cd6619212bc>\u001b[0m in \u001b[0;36m<module>\u001b[1;34m()\u001b[0m\n\u001b[0;32m      1\u001b[0m \u001b[0mprint\u001b[0m\u001b[1;33m(\u001b[0m\u001b[0meval\u001b[0m\u001b[1;33m(\u001b[0m\u001b[1;34m\"[] + []\"\u001b[0m\u001b[1;33m)\u001b[0m\u001b[1;33m)\u001b[0m\u001b[1;33m\u001b[0m\u001b[0m\n\u001b[1;32m----> 2\u001b[1;33m \u001b[0mprint\u001b[0m\u001b[1;33m(\u001b[0m\u001b[0mast\u001b[0m\u001b[1;33m.\u001b[0m\u001b[0mliteral_eval\u001b[0m\u001b[1;33m(\u001b[0m\u001b[1;34m\"[] + []\"\u001b[0m\u001b[1;33m)\u001b[0m\u001b[1;33m)\u001b[0m \u001b[1;31m# not 1 element\u001b[0m\u001b[1;33m\u001b[0m\u001b[0m\n\u001b[0m",
      "\u001b[1;32mC:\\ProgramData\\Anaconda3\\lib\\ast.py\u001b[0m in \u001b[0;36mliteral_eval\u001b[1;34m(node_or_string)\u001b[0m\n\u001b[0;32m     83\u001b[0m                     \u001b[1;32mreturn\u001b[0m \u001b[0mleft\u001b[0m \u001b[1;33m-\u001b[0m \u001b[0mright\u001b[0m\u001b[1;33m\u001b[0m\u001b[0m\n\u001b[0;32m     84\u001b[0m         \u001b[1;32mraise\u001b[0m \u001b[0mValueError\u001b[0m\u001b[1;33m(\u001b[0m\u001b[1;34m'malformed node or string: '\u001b[0m \u001b[1;33m+\u001b[0m \u001b[0mrepr\u001b[0m\u001b[1;33m(\u001b[0m\u001b[0mnode\u001b[0m\u001b[1;33m)\u001b[0m\u001b[1;33m)\u001b[0m\u001b[1;33m\u001b[0m\u001b[0m\n\u001b[1;32m---> 85\u001b[1;33m     \u001b[1;32mreturn\u001b[0m \u001b[0m_convert\u001b[0m\u001b[1;33m(\u001b[0m\u001b[0mnode_or_string\u001b[0m\u001b[1;33m)\u001b[0m\u001b[1;33m\u001b[0m\u001b[0m\n\u001b[0m\u001b[0;32m     86\u001b[0m \u001b[1;33m\u001b[0m\u001b[0m\n\u001b[0;32m     87\u001b[0m \u001b[1;33m\u001b[0m\u001b[0m\n",
      "\u001b[1;32mC:\\ProgramData\\Anaconda3\\lib\\ast.py\u001b[0m in \u001b[0;36m_convert\u001b[1;34m(node)\u001b[0m\n\u001b[0;32m     82\u001b[0m                 \u001b[1;32melse\u001b[0m\u001b[1;33m:\u001b[0m\u001b[1;33m\u001b[0m\u001b[0m\n\u001b[0;32m     83\u001b[0m                     \u001b[1;32mreturn\u001b[0m \u001b[0mleft\u001b[0m \u001b[1;33m-\u001b[0m \u001b[0mright\u001b[0m\u001b[1;33m\u001b[0m\u001b[0m\n\u001b[1;32m---> 84\u001b[1;33m         \u001b[1;32mraise\u001b[0m \u001b[0mValueError\u001b[0m\u001b[1;33m(\u001b[0m\u001b[1;34m'malformed node or string: '\u001b[0m \u001b[1;33m+\u001b[0m \u001b[0mrepr\u001b[0m\u001b[1;33m(\u001b[0m\u001b[0mnode\u001b[0m\u001b[1;33m)\u001b[0m\u001b[1;33m)\u001b[0m\u001b[1;33m\u001b[0m\u001b[0m\n\u001b[0m\u001b[0;32m     85\u001b[0m     \u001b[1;32mreturn\u001b[0m \u001b[0m_convert\u001b[0m\u001b[1;33m(\u001b[0m\u001b[0mnode_or_string\u001b[0m\u001b[1;33m)\u001b[0m\u001b[1;33m\u001b[0m\u001b[0m\n\u001b[0;32m     86\u001b[0m \u001b[1;33m\u001b[0m\u001b[0m\n",
      "\u001b[1;31mValueError\u001b[0m: malformed node or string: <_ast.BinOp object at 0x000002516A221160>"
     ]
    }
   ],
   "source": [
    "print(eval(\"[] + []\"))\n",
    "print(ast.literal_eval(\"[] + []\")) # not 1 element"
   ]
  },
  {
   "cell_type": "code",
   "execution_count": 9,
   "metadata": {},
   "outputs": [
    {
     "name": "stdout",
     "output_type": "stream",
     "text": [
      "1\n"
     ]
    },
    {
     "ename": "ValueError",
     "evalue": "malformed node or string: <_ast.Name object at 0x000002516A221AC8>",
     "output_type": "error",
     "traceback": [
      "\u001b[1;31m---------------------------------------------------------------------------\u001b[0m",
      "\u001b[1;31mValueError\u001b[0m                                Traceback (most recent call last)",
      "\u001b[1;32m<ipython-input-9-2e06357c9d50>\u001b[0m in \u001b[0;36m<module>\u001b[1;34m()\u001b[0m\n\u001b[0;32m      1\u001b[0m \u001b[0mx\u001b[0m \u001b[1;33m=\u001b[0m \u001b[1;36m1\u001b[0m\u001b[1;33m\u001b[0m\u001b[0m\n\u001b[0;32m      2\u001b[0m \u001b[0mprint\u001b[0m\u001b[1;33m(\u001b[0m\u001b[0meval\u001b[0m\u001b[1;33m(\u001b[0m\u001b[1;34m\"x\"\u001b[0m\u001b[1;33m)\u001b[0m\u001b[1;33m)\u001b[0m\u001b[1;33m\u001b[0m\u001b[0m\n\u001b[1;32m----> 3\u001b[1;33m \u001b[0mprint\u001b[0m\u001b[1;33m(\u001b[0m\u001b[0mast\u001b[0m\u001b[1;33m.\u001b[0m\u001b[0mliteral_eval\u001b[0m\u001b[1;33m(\u001b[0m\u001b[1;34m\"x\"\u001b[0m\u001b[1;33m)\u001b[0m\u001b[1;33m)\u001b[0m \u001b[1;31m# not a literal object, is a variable\u001b[0m\u001b[1;33m\u001b[0m\u001b[0m\n\u001b[0m",
      "\u001b[1;32mC:\\ProgramData\\Anaconda3\\lib\\ast.py\u001b[0m in \u001b[0;36mliteral_eval\u001b[1;34m(node_or_string)\u001b[0m\n\u001b[0;32m     83\u001b[0m                     \u001b[1;32mreturn\u001b[0m \u001b[0mleft\u001b[0m \u001b[1;33m-\u001b[0m \u001b[0mright\u001b[0m\u001b[1;33m\u001b[0m\u001b[0m\n\u001b[0;32m     84\u001b[0m         \u001b[1;32mraise\u001b[0m \u001b[0mValueError\u001b[0m\u001b[1;33m(\u001b[0m\u001b[1;34m'malformed node or string: '\u001b[0m \u001b[1;33m+\u001b[0m \u001b[0mrepr\u001b[0m\u001b[1;33m(\u001b[0m\u001b[0mnode\u001b[0m\u001b[1;33m)\u001b[0m\u001b[1;33m)\u001b[0m\u001b[1;33m\u001b[0m\u001b[0m\n\u001b[1;32m---> 85\u001b[1;33m     \u001b[1;32mreturn\u001b[0m \u001b[0m_convert\u001b[0m\u001b[1;33m(\u001b[0m\u001b[0mnode_or_string\u001b[0m\u001b[1;33m)\u001b[0m\u001b[1;33m\u001b[0m\u001b[0m\n\u001b[0m\u001b[0;32m     86\u001b[0m \u001b[1;33m\u001b[0m\u001b[0m\n\u001b[0;32m     87\u001b[0m \u001b[1;33m\u001b[0m\u001b[0m\n",
      "\u001b[1;32mC:\\ProgramData\\Anaconda3\\lib\\ast.py\u001b[0m in \u001b[0;36m_convert\u001b[1;34m(node)\u001b[0m\n\u001b[0;32m     82\u001b[0m                 \u001b[1;32melse\u001b[0m\u001b[1;33m:\u001b[0m\u001b[1;33m\u001b[0m\u001b[0m\n\u001b[0;32m     83\u001b[0m                     \u001b[1;32mreturn\u001b[0m \u001b[0mleft\u001b[0m \u001b[1;33m-\u001b[0m \u001b[0mright\u001b[0m\u001b[1;33m\u001b[0m\u001b[0m\n\u001b[1;32m---> 84\u001b[1;33m         \u001b[1;32mraise\u001b[0m \u001b[0mValueError\u001b[0m\u001b[1;33m(\u001b[0m\u001b[1;34m'malformed node or string: '\u001b[0m \u001b[1;33m+\u001b[0m \u001b[0mrepr\u001b[0m\u001b[1;33m(\u001b[0m\u001b[0mnode\u001b[0m\u001b[1;33m)\u001b[0m\u001b[1;33m)\u001b[0m\u001b[1;33m\u001b[0m\u001b[0m\n\u001b[0m\u001b[0;32m     85\u001b[0m     \u001b[1;32mreturn\u001b[0m \u001b[0m_convert\u001b[0m\u001b[1;33m(\u001b[0m\u001b[0mnode_or_string\u001b[0m\u001b[1;33m)\u001b[0m\u001b[1;33m\u001b[0m\u001b[0m\n\u001b[0;32m     86\u001b[0m \u001b[1;33m\u001b[0m\u001b[0m\n",
      "\u001b[1;31mValueError\u001b[0m: malformed node or string: <_ast.Name object at 0x000002516A221AC8>"
     ]
    }
   ],
   "source": [
    "x = 1\n",
    "print(eval(\"x\"))\n",
    "print(ast.literal_eval(\"x\")) # not a literal object, is a variable"
   ]
  },
  {
   "cell_type": "code",
   "execution_count": null,
   "metadata": {},
   "outputs": [],
   "source": []
  },
  {
   "cell_type": "markdown",
   "metadata": {},
   "source": [
    "## Don't Fear Importing a Module Multiple Times\n",
    "Some people worry about importing a module multiple times. They think there's a time cost for each import. The truth is that only the 1st time does the import take time. You can import it thousands of times, and it would take no time. In fact, it's actually hard to get rid of an import after it's imported."
   ]
  },
  {
   "cell_type": "code",
   "execution_count": 1,
   "metadata": {},
   "outputs": [
    {
     "name": "stdout",
     "output_type": "stream",
     "text": [
      "Wall time: 754 ms\n",
      "Wall time: 0 ns\n"
     ]
    }
   ],
   "source": [
    "%time import pandas as pd\n",
    "%time import pandas as pd # fast as lightning"
   ]
  },
  {
   "cell_type": "code",
   "execution_count": 2,
   "metadata": {},
   "outputs": [
    {
     "name": "stdout",
     "output_type": "stream",
     "text": [
      "Wall time: 5.98 ms\n"
     ]
    }
   ],
   "source": [
    "%%time\n",
    "for _ in range(10000):\n",
    "    import pandas as pd"
   ]
  },
  {
   "cell_type": "code",
   "execution_count": 3,
   "metadata": {},
   "outputs": [],
   "source": [
    "del pd"
   ]
  },
  {
   "cell_type": "code",
   "execution_count": 4,
   "metadata": {},
   "outputs": [
    {
     "ename": "NameError",
     "evalue": "name 'pd' is not defined",
     "output_type": "error",
     "traceback": [
      "\u001b[1;31m---------------------------------------------------------------------------\u001b[0m",
      "\u001b[1;31mNameError\u001b[0m                                 Traceback (most recent call last)",
      "\u001b[1;32m<ipython-input-4-944b1918db40>\u001b[0m in \u001b[0;36m<module>\u001b[1;34m()\u001b[0m\n\u001b[1;32m----> 1\u001b[1;33m \u001b[0mpd\u001b[0m \u001b[1;31m# you think it's gone\u001b[0m\u001b[1;33m\u001b[0m\u001b[0m\n\u001b[0m",
      "\u001b[1;31mNameError\u001b[0m: name 'pd' is not defined"
     ]
    }
   ],
   "source": [
    "pd # you think it's gone"
   ]
  },
  {
   "cell_type": "code",
   "execution_count": 5,
   "metadata": {},
   "outputs": [
    {
     "name": "stdout",
     "output_type": "stream",
     "text": [
      "Wall time: 0 ns\n"
     ]
    }
   ],
   "source": [
    "%time import pandas as pd # but it's still there!"
   ]
  },
  {
   "cell_type": "code",
   "execution_count": null,
   "metadata": {},
   "outputs": [],
   "source": []
  },
  {
   "cell_type": "markdown",
   "metadata": {},
   "source": [
    "## Pythonic Syntax\n",
    "#### String Interpolation\n",
    "There are 3 ways to do string interpolation: %-formatting (inherited from C syntax), str.format(), f-strings (new in Python 3.6). I tend to use str.format() and f-strings, but this is up to your personal preference.  \n",
    "\n",
    "Here's an example of str.format() where I put all the variables at the end.  "
   ]
  },
  {
   "cell_type": "code",
   "execution_count": 1,
   "metadata": {},
   "outputs": [
    {
     "name": "stdout",
     "output_type": "stream",
     "text": [
      "Hello, my name is Peter Pan\n",
      "Last name: Pan; first name: Peter. Again my name is Peter Pan\n"
     ]
    }
   ],
   "source": [
    "first_name = 'Peter'\n",
    "last_name = 'Pan'\n",
    "print(\"Hello, my name is {} {}\".format(first_name, last_name))\n",
    "# You can change the order using named arguments and also repeat the arguments\n",
    "print(\"Last name: {last_name}; first name: {first_name}. Again my name is {first_name} {last_name}\".format(first_name=first_name, last_name=last_name))"
   ]
  },
  {
   "cell_type": "markdown",
   "metadata": {},
   "source": [
    "f\\*\\*\\*\\* it! You can use the new f-string syntax that came out in Python 3.6. The only downside is that you cannot use this syntax in earlier versions of Python. But you should be using Python 3.6+ anyways ;)"
   ]
  },
  {
   "cell_type": "code",
   "execution_count": 2,
   "metadata": {},
   "outputs": [
    {
     "name": "stdout",
     "output_type": "stream",
     "text": [
      "Hello, my name is Peter Pan\n",
      "I am 13 years old!\n"
     ]
    }
   ],
   "source": [
    "print(f\"Hello, my name is {first_name} {last_name}\")\n",
    "# have you ever considered nested string formatting? ;-)\n",
    "print(f\"{f'I am {42 -29} years old!'}\")"
   ]
  },
  {
   "cell_type": "markdown",
   "metadata": {},
   "source": [
    "#### Context Manager\n",
    "Context manager (`with open() as f:`) syntax guarantees that the file will be closed after everything in the code block is run. It saves one line (don't have to close file manually) and also make the code block (for what you want to do the file) very obvious due to the indentation. Context managers exist for other things like connecting to a database or creating a Spark context.  "
   ]
  },
  {
   "cell_type": "code",
   "execution_count": 3,
   "metadata": {},
   "outputs": [
    {
     "name": "stdout",
     "output_type": "stream",
     "text": [
      "{\n",
      " \"cells\": [\n",
      "  {\n",
      "   \"cell_type\": \"markdown\",\n",
      "   \"metadata\": {},\n",
      "   \"source\": [\n",
      "    \"## Name Binding\n"
     ]
    }
   ],
   "source": [
    "with open(\"6_Pedantic_Python_Tricks.ipynb\") as f:\n",
    "    print(f.read()[:100])"
   ]
  },
  {
   "cell_type": "markdown",
   "metadata": {},
   "source": [
    "#### Implicit Line Continuation and Implicit String Concatenation\n",
    "Instead of `\\` to denote line continuation, I use parentheses. Good for function calls with lots of arguments. Line continuation also works inside brackets []."
   ]
  },
  {
   "cell_type": "code",
   "execution_count": 4,
   "metadata": {
    "scrolled": true
   },
   "outputs": [
    {
     "name": "stdout",
     "output_type": "stream",
     "text": [
      "This is my super looooooooooooooooooooooooooooooong string and it ends here!\n",
      "True\n",
      "This is my super long string that never ends because I do not want to stop typing for some reason until I'm out of breath!\n",
      "I like to count to big numbers. I start at 1 and finally end up at 10000000000\n"
     ]
    }
   ],
   "source": [
    "sum([1, 2, 3, 4, 5, 6, 7, 8, 9, 0, 1, 2, 3, 4, 5, 6, 7, 8, 9, 0, 1, 2, 3, 4, 5,\n",
    "     6, 7, 8, 9, 0])\n",
    "print(\"This is my super looooooooooooooooooooooooooooooong string \"\n",
    "     \"and it ends here!\")\n",
    "\n",
    "# Implicit string concatenation: notice that string literals are automatically appended to each other without '+' operator\n",
    "print(\"asdf\" \"asdf\" == 'asdfasdf')\n",
    "# Hence, parentheses and long strings work well together.\n",
    "my_long_string = ('This is my super long string that never ends because I do not want to stop '\n",
    "                  \"typing for some reason until I'm out of breath!\")\n",
    "my_long_string_2 = ('I like to count to big numbers. I start at {} '\n",
    "                    'and finally end up at {}'\n",
    "                    .format(1, int(1e10)))\n",
    "print(my_long_string)\n",
    "print(my_long_string_2)"
   ]
  },
  {
   "cell_type": "markdown",
   "metadata": {},
   "source": [
    "#### Trailing Comma\n",
    "You can have a trailing comma in Python collections (list, tuple, set, dict) and functions. The reason is for  ease of updating the collection (or function) if it is multi-line."
   ]
  },
  {
   "cell_type": "code",
   "execution_count": 5,
   "metadata": {},
   "outputs": [],
   "source": [
    "a = [\n",
    "    1,\n",
    "    2,\n",
    "    3,\n",
    "]\n",
    "def silly(\n",
    "    billy,\n",
    "    \n",
    "    hilly,\n",
    "): pass"
   ]
  },
  {
   "cell_type": "markdown",
   "metadata": {
    "collapsed": true
   },
   "source": [
    "#### PEP8: Python's Style Guide\n",
    "PEP8 is a nice style guide for readability. I try my best, but even I don't get it right every time.\n",
    "If you are very fancy, you can have Python automatically format your code to conform to pep8 if you type this in the Terminal\n",
    "```\n",
    "autopep8 your_python_script_here.py\n",
    "```\n",
    "This will print to Terminal the correctly formatted script but doesn't save it. If you want to save the results back into your script, you can use the argument `--in-place`\n",
    "```\n",
    "autopep8 --in-place your_python_script_here.py\n",
    "```\n",
    "You can read more about Python's style guide at\n",
    "* https://www.python.org/dev/peps/pep-0008/ (the official Python style guide)\n",
    "* http://pymbook.readthedocs.io/en/latest/pep8.html (focus on the main points)\n",
    "* http://google.github.io/styleguide/pyguide.html (very comprehensive style guide)\n",
    "\n",
    "I usually use triple hash sign `###` when I need to make an important comment. Usually to mention something is hard coded. This is not a Python PEP8 style. It's just a personal preference to make note that this is not a regular comment.\n",
    "```python\n",
    "PI = 3.14159265 ### this is hard coded\n",
    "```\n",
    "\n",
    "As a personal preference, I prefer to write pure functions with no side effects where if you put in the same input, you always get the same output. When practical, I try to avoid functions that mutate whatever is inputted, though this is not always possible or practical. Pure functions are easier to debug. Sometimes impure/mutative functions are just easier to write or run faster. In that case, you can add to the function's docstring that this function mutates the underlying object."
   ]
  },
  {
   "cell_type": "code",
   "execution_count": null,
   "metadata": {},
   "outputs": [],
   "source": []
  },
  {
   "cell_type": "markdown",
   "metadata": {},
   "source": [
    "## (Extra) Fun Facts/Pedantic Details About 🐍\n",
    "Here are some things you can keep in your mind just for fun ✨. It is not very important to know (unless you want to argue with your friends about <i>pedantic</i> details like a <i>real</i> computer scientist! Ya know, like a pro...).\n",
    "\n",
    "#### Specification vs Implementation\n",
    "Often when we think of Python, we are really thinking of CPython. \"Python\" is really a specification--a blueprint/whitepaper for what the syntax and features should be. A specification has no code; it is an idea. An implementation is the actual code that builds and brings the specification into real life. There are multiple implementations of Python:  \n",
    "* CPython: the most common one that most people use, implemented in C\n",
    "* PyPy: Python implemented in (restricted) Python\n",
    "* Jython: implemented in Java, so can interoperate with Java classes and libraries\n",
    "* IronPython: implemented in C#, so can interoperate with C#/CLR/.NET classes and libraries  \n",
    "\n",
    "#### Interpretated vs Compiled\n",
    "We often hear that Python is an interpreted language. What does that mean?  \n",
    "An interpreted language executes the source code 1 line at a time. A compiled language \"compiles\" the entire source code file into machine code that is native to the hardware--hence your original code is translated into something non-human-readable but faster for the machine to process. Hence compiled languages like C tend to be faster than interpreted languages.  \n",
    "Do note that a language's <i>specification</i> is not compiled nor interpreted. It is the <i>implementation</i> that is compiled or interpreted. The main implementation of Python is CPython, which is interpreted: the bytecode is interpreted line-by-line by the Python Virtual Machine (often simply referred to as the Python interpreter). If you want to see a function's bytecode, you can use Python's dissambler module called `dis` to see what steps your function actually consists of.  \n",
    "\n",
    "#### Dynamically Typed vs Statically Typed\n",
    "Python is a dynamically typed language. What does that mean?  \n",
    "Early programming languages tended to be statically typed. This means you have to declare a variables along with its type, so that variable's type is known at all times and type errors can be determined at compile time. For example, in C you would write `int c = 42` and that variable would stay an integer. Hence, the code becomes more verbose.  \n",
    "Dynamically typed languages allow a variable to change types. For example, in Python you can write `x = 42` and in the next line `x = \"42\"`--this is not possible in a statically typed language. In Python, you don't declare a variable's type, so code tends to be more succinct. However, type errors are discovered in runtime. For example, can you add 10 to `x`? Python doesn't know until it runs that line of code.  \n",
    "One big advantage of interpreted languages is that you get an <i>interactive prompt</i> where you can run things 1 line at a time. This read-eval-print loop is called REPL and is very handy for quick-and-dirty code or debugging.  \n",
    "Python is a duck typed language, which is a special case of dynamic typed language. Basically, you can call a method on object without knowing its class. For example, you can run `x.pop()` and at runtime it will either run it successfully or give you an error because Python doesn't know until runtime if `x` is an instance of a class that has defined a `.pop()` method.  \n",
    "\n",
    "#### Strongly Typed vs Weakly Typed\n",
    "Python is a strongly typed language. What does that mean?  \n",
    "A strongly typed language will not automatically convert an objects type. For example, in Python, you cannot do `\"2\" + 8`. Why would you ever want to do that?  \n",
    "I don't know, but you CAN do that in a weakly typed language, which will automatically convert 1 type to another. In JavaScript, you can do the following horrendous things. <i>Wat</i>?\n",
    "* `[] + {}` -> `[object Object]`\n",
    "* `{} + []` -> 0\n",
    "* `\"wat\" - 1` -> \"wat1\"\n",
    "* `\"wat\" - 1` -> `NaN`  \n",
    "\n",
    "#### Pass by Object\n",
    "Often there is a question of whether Python is `pass by value` or `pass by reference`. The answer is neither: Python is `pass by object`.  \n",
    "* <i>Pass by value</i> is when in a function call, the variable is copied over, so there are 2 things with the same data. R is pass by value--that means when you pass a dataframe into a function, the dataframe is copied. If you mutate the dataframe inside an R function, nothing will happen to the original dataframe.  \n",
    "* <i>Pass by reference</i> is that you pass in a memory address (a pointer) as the argument to the function, so if you change the variable <i>inside</i> the function call, then that variable is also changed <i>outside</i> of the function.\n",
    "* Python is <i>pass by object</i>. That means Python <i>appears</i> to be pass by value (when the variable does not change) and pass by reference (when the variable does change); it is dependent on the mutability of the object. When you pass in an immutable object (tuple, string, numeric [float, int, bool]), then the variable outside the function call will be not be changed by what happens inside the function call. When you pass in a mutable object (list, set, dictionary), then when the variable is changed inside the function, then it is also changed outside of the function.  \n",
    "\n",
    "Remember, Python's assigment (=) NEVER copies data, not even in a function's argument assignment. The assignment just creates another name tag pointing to the same object."
   ]
  },
  {
   "cell_type": "code",
   "execution_count": 1,
   "metadata": {},
   "outputs": [
    {
     "name": "stdout",
     "output_type": "stream",
     "text": [
      "2872143176240 ML Study Group\n",
      "2872143188448 Hello ML Study Group\n",
      "2872143176240 ML Study Group\n"
     ]
    }
   ],
   "source": [
    "# immutable object remains unchanged\n",
    "def concatenate(string):\n",
    "    string = \"Hello \" + string # this new `string` variable is no longer bound to the same object. \n",
    "    print(id(string), string) # You have moved the \"name tag\" to a different object.\n",
    "\n",
    "string = \"ML Study Group\"\n",
    "print(id(string), string)\n",
    "concatenate(string)\n",
    "print(id(string), string)"
   ]
  },
  {
   "cell_type": "code",
   "execution_count": 2,
   "metadata": {},
   "outputs": [
    {
     "name": "stdout",
     "output_type": "stream",
     "text": [
      "[]\n",
      "[None]\n"
     ]
    }
   ],
   "source": [
    "# mutable object changed\n",
    "def appender(lst):\n",
    "    lst.append(None)\n",
    "    \n",
    "a = []\n",
    "print(a)\n",
    "appender(a)\n",
    "print(a)"
   ]
  },
  {
   "cell_type": "code",
   "execution_count": null,
   "metadata": {},
   "outputs": [],
   "source": []
  },
  {
   "cell_type": "markdown",
   "metadata": {},
   "source": [
    "# Not (Really) One Way to Do It\n",
    "In \"The Zen of Python\", the 13th line is: \"There should be one-- and preferably only one --obvious way to do it.\" This is not actually true. What it means to be \"Pythonic\" or \"idiomatic Python\" changes over time.  "
   ]
  },
  {
   "cell_type": "code",
   "execution_count": 11,
   "metadata": {},
   "outputs": [
    {
     "name": "stdout",
     "output_type": "stream",
     "text": [
      "The Zen of Python, by Tim Peters\n",
      "\n",
      "Beautiful is better than ugly.\n",
      "Explicit is better than implicit.\n",
      "Simple is better than complex.\n",
      "Complex is better than complicated.\n",
      "Flat is better than nested.\n",
      "Sparse is better than dense.\n",
      "Readability counts.\n",
      "Special cases aren't special enough to break the rules.\n",
      "Although practicality beats purity.\n",
      "Errors should never pass silently.\n",
      "Unless explicitly silenced.\n",
      "In the face of ambiguity, refuse the temptation to guess.\n",
      "There should be one-- and preferably only one --obvious way to do it.\n",
      "Although that way may not be obvious at first unless you're Dutch.\n",
      "Now is better than never.\n",
      "Although never is often better than *right* now.\n",
      "If the implementation is hard to explain, it's a bad idea.\n",
      "If the implementation is easy to explain, it may be a good idea.\n",
      "Namespaces are one honking great idea -- let's do more of those!\n"
     ]
    }
   ],
   "source": [
    "import this"
   ]
  },
  {
   "cell_type": "markdown",
   "metadata": {},
   "source": [
    "In this article (https://treyhunner.com/2015/11/counting-things-in-python/), counting things used different styles in differnt versions of Python.  \n",
    "* Python 1.4 (look before you leap): use `if` statement to check existence of key in a dict\n",
    "* Python 1.4 (easier to ask forgiveness than permission): use `try/except` block\n",
    "* Python 1.5: use `.get()` method\n",
    "* Python 2.0: use `.setdefault()` method\n",
    "* Python 2.3: use `.fromkeys()` method\n",
    "* Python 2.4: use `set()` and list comprehension\n",
    "* Python 2.5: use `defaultdict()`\n",
    "* Python 2.7: use `Counter()`\n",
    "\n",
    "What it means to be Pythonic changes over time. Perhaps, the line should say: \"There should be one-- and preferably only one --obvious way to do it-- in a given point in time or version of Python.\""
   ]
  },
  {
   "cell_type": "code",
   "execution_count": null,
   "metadata": {},
   "outputs": [],
   "source": []
  },
  {
   "cell_type": "markdown",
   "metadata": {},
   "source": [
    "## New Features: Looking into the Future\n",
    "As Python keeps improving with new versions, there will be new ways to do things. Sometimes, the future slowly unfurls to reveal itself.\n",
    "* list comprehensions -> generator expressions -> dictionary comprehensions -> asynchronous comprehensions\n",
    "* function annotation -> `mypy` module -> `typing` module\n",
    "\n",
    "Python 3 improvements over Python 2:\n",
    "* superior framework for asynchronous programming\n",
    "* separation of bytes and str objects\n",
    "* superior memory management (by releasing unused memory)\n",
    "* `print()` as function (instead of a statement)\n",
    "* true division (instead of integer division). You can still do integer division using `//`\n",
    "\n",
    "Python 3.4:\n",
    "* `asyncio` library introduced\n",
    "\n",
    "Python 3.5:  \n",
    "* creating coroutines with `async/await`\n",
    "* type annotations/type hints for function arguments\n",
    "* `mypy` library introduced\n",
    "* `@` operator for matrix multiplication\n",
    "* additional unpacking generalizations: `[*range(4), 4]`\n",
    "\n",
    "Python 3.6:\n",
    "* dict order is guaranteed to be insertion order. Previously, dicts were unordered such that iterating over the keys should be effectively unpredictable\n",
    "* variable annotation for class variables and instance variables\n",
    "* asynchronous generators/comprehensions\n",
    "* f-strings for string interpolation\n",
    "\n",
    "Python 3.7:\n",
    "* `asyncio` upgraded. Basically, asynchronous framework is very different and significantly improved compared to how it was in Python 3.4--making older ways to do asychronous programming obsolete.  \n",
    "* `dataclasses` module\n",
    "\n",
    "Python 3.8:\n",
    "* assignment expression (AKA walrus operator because `:=` looks like a walrus): can assign and evaluate in the same expression: `if (n := len(a)) > 10:`     It was so controversial that it was the stated reason for why Guido van Rossum retired as BFDL.  \n",
    "\n",
    "Python 3.9+:\n",
    "* Who knows?"
   ]
  },
  {
   "cell_type": "code",
   "execution_count": null,
   "metadata": {},
   "outputs": [],
   "source": []
  },
  {
   "cell_type": "markdown",
   "metadata": {},
   "source": [
    "## Extra Resources\n",
    "* https://www.toptal.com/python/top-10-mistakes-that-python-programmers-make: one of the first articles I read when I started learning Python. It lists some idiosyncratic things about Python. Basically, the initial seed idea for Pedantic Python and the other notebooks. When I first started out in Python, I had no idea what the article was trying to say. Now, I understand about 80% of what the article says. Don't worry--you don't need to understand it all to be a pro.  \n",
    "* wtf python (https://github.com/satwikkansal/wtfpython: idiosyncratic things about Python. Basically, even more Pedantic Python!  \n",
    "* Bloomberg's `What is Code` (https://www.bloomberg.com/graphics/2015-paul-ford-what-is-code/): an epic 38,000 word, comprehensive ~~diatribe~~ essay about the history and practice of software programming--thus answering the question: what is code? Also has fun interactive widgets/graphics to play with in the article.  \n",
    "* Unicode and UTF-8 (https://www.joelonsoftware.com/2003/10/08/the-absolute-minimum-every-software-developer-absolutely-positively-must-know-about-unicode-and-character-sets-no-excuses/): Joel Spolsky, founder of Stack Overflow, explains exactly what the article title says.  \n",
    "* Fun list of programming laws (https://github.com/dwmkerr/hacker-laws): whenever something in software breaks, you can cite a programming \"law\". Whenever you need a philosophical justification for what you are doing, you can find a programming \"principle\". Make yourself unbeatable in coding debates! 😎  \n",
    "* Design Patterns (https://github.com/faif/python-patterns): Decades ago, 4 authors (known as the Gang of Four) wrote a book called <i>Design Patterns</i> to explain how to make a language do cool stuff (ie reuasable solutions to commonly occuring problems). Older languages benefitted from design pattern due to their limitations. Fortunately in Python, you don't have to worry about design patterns as much since Python has built in a lot of cool functionality for you. However, if you ever have a tough problem to solve, you can take a look at this GitHub repo to see if you can benefit from a already solved/battle-tested solution."
   ]
  },
  {
   "cell_type": "markdown",
   "metadata": {},
   "source": [
    "## Concluding Remarks\n",
    "Python is ever changing and improving. Remember the reason you learn about Python is not because you want to ~~get a pay raise~~ argue with your (nerdy) friends. It is because you care about interesting problems and how to solve them (in a better way). And it isn't really about Python--it's about you. In a programmer's lifetime, all the code you will ever write will fit neatly into a small USB flash drive. The millions of lines of code you write will weigh 0.00000000001 pounds. Code is invisible and weightless but ever-present and evermore expanding.   \n",
    "But the power of your imagination is boundless. Napoleon Hill's  epiphany is \"Whatever the mind can conceive and believe, the mind can achieve.\" What will you want to create? What you imagine, you can bring forth into the real world--and code is just a tool to realize that dream. Though \"software is eating the world\", at the end of the day the problems you try to solve with code is to improve human lives. Coding is fundamentally a human-centered mission. Advanced Python is a McGuffin: Python isn't a destination, it is a journey.  \n",
    "<p align=\"center\"><img src=\"images/Python-logo.png\" width=\"100\" alt=\"python is within you\"></p>"
   ]
  },
  {
   "cell_type": "markdown",
   "metadata": {},
   "source": [
    "#### Python Short Story\n",
    "```python\n",
    "I once went to the pet store\n",
    "Slithering Slytherin Emporium was its name\n",
    "At the Counter, I asked for a special breed\n",
    "A pet with max-imum bite and pow-er.\n",
    "Something super fast like an animal on high oct-ane fuel\n",
    "except it must be gentle and human friendly\n",
    "The clerk said: whatever float-s your boat\n",
    "True, I said--None but the mst Exception-al will do\n",
    "The clerk said to give him a min-ute to eval-uate my options\n",
    "Some time to run through his list\n",
    "Given these input-s, he will search the property\n",
    "He needed to enumerate all the possibilities\n",
    "And with this context, he will talk to his manager\n",
    "I assert-ed that this wait is too slow\n",
    "He will def-initely help me out\n",
    "\n",
    "while I was await-ing his return\n",
    "I wanted to try my luck\n",
    "What would my int-erest yield?\n",
    "What else could I do?\n",
    "Hence, I took a break by looking through the aisles\n",
    "Animals of any type and all sizes\n",
    "Something nonlocal to the area\n",
    "Even the import-ed kinds and global-ly sourced\n",
    "Some were in a bin, some out in the open \n",
    "Some were round and some looked slice-d up\n",
    "The range of options were so complex, not even sorted\n",
    "There was no order or filter-ing going on\n",
    "In this jungle of a store, even the signs were reversed and out of place\n",
    "I needed a map, a dir-ectory of this place\n",
    "I must not give up. I must not hit a breakpoint\n",
    "I must continue. \n",
    "\n",
    "The clerk called me back\n",
    "He suggested a mouse inside an Easter egg.\n",
    "Give it a wheel and go to the cheese shop.\n",
    "I thought this rodent was just a pip squeek\n",
    "I wanted to cry. I wanted to scream\n",
    "I wanted to raise my voice.\n",
    "Instead, I just said pass\n",
    "I will come back next time\n",
    "Even though that was a False statement\n",
    "His facial expression belied his true motives\n",
    "OOPs, he said: \"I was just trying to be Pragmatic\"\n",
    "Something Functional, not Pedantic\n",
    "Alas, he was just following Procedures\n",
    "\n",
    "\n",
    "\n",
    "Just when I was about to leave\n",
    "I finally found the one I liked\n",
    "The clerk print-ed up a receipt\n",
    "And I zip-ped out of the store\n",
    "I was ec-static like a child with his parent\n",
    "Who just inherited a Water Gun 3.0\n",
    "I could barely compose myself\n",
    "The trip was a dynamic experience\n",
    "\n",
    "Ultimately the pet store was not a destination\n",
    "It was a journey. What an adventure!\n",
    "Plus, I found my favorite pet, a class of its own\n",
    "The kind that bytes!\n",
    "```"
   ]
  },
  {
   "cell_type": "markdown",
   "metadata": {},
   "source": [
    "while, await, global, assert, def, import, finally, or, and, except, not, True, break, None, return, try, nonlocal, yield, continue, class, else, raise, pass\n",
    "\n",
    "'False', 'async', 'del', 'elif', 'lambda'  \n",
    "'for', 'from', 'if', 'in', 'is', 'with', 'as'"
   ]
  },
  {
   "cell_type": "markdown",
   "metadata": {},
   "source": [
    "all, type, any, bin, open, bytes, map, dir, sorted, oct, breakpoint, filter, pow, super, max, float, enumerate, eval, int, min, round, slice, print, range, complex, help, zip, property, next, input\n",
    "\n",
    "abs, hash, set, dict, hex, id, object, bool, str, exec, ord, sum, iter, format, len, "
   ]
  }
 ],
 "metadata": {
  "kernelspec": {
   "display_name": "Python 3",
   "language": "python",
   "name": "python3"
  },
  "language_info": {
   "codemirror_mode": {
    "name": "ipython",
    "version": 3
   },
   "file_extension": ".py",
   "mimetype": "text/x-python",
   "name": "python",
   "nbconvert_exporter": "python",
   "pygments_lexer": "ipython3",
   "version": "3.6.4"
  }
 },
 "nbformat": 4,
 "nbformat_minor": 2
}
