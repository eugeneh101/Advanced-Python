{
 "cells": [
  {
   "cell_type": "markdown",
   "metadata": {},
   "source": [
    "## Name Binding (What You Think of as Assignment)\n",
    "Whenever you use assignment (=), you can think about it as putting a name tag (or a lanyard with a name tag) onto the data--this is called name binding. You can use the `id()` function to see the object's memory address. Hence, for the duration of the object's existence (ie not deleted), the id will be unique and unchanging. Python's assigment (=) NEVER copies data--it merely puts another name tag on (or wraps the lanyard around) the same object. The `is` keyword in Python is highly related to `id()` in that `is` detects whether the identity of 2 objects are the same--if the 2 variables are pointing to same memory address. If `x is y` is True, then `id(x) == id(y)`.\n",
    "\n",
    "For all the Fany Pants: the technical term for a variable name/name tag/lanyard is called an <i>identifier</i>."
   ]
  },
  {
   "cell_type": "code",
   "execution_count": 1,
   "metadata": {},
   "outputs": [
    {
     "name": "stdout",
     "output_type": "stream",
     "text": [
      "True\n",
      "False 2600551240000 2600551759296\n"
     ]
    }
   ],
   "source": [
    "a = (1, 2)\n",
    "b = (1, 2)\n",
    "print(a == b)  # they have the same VALUES\n",
    "print(a is b, id(a), id(b))  # but they are NOT the same object"
   ]
  },
  {
   "cell_type": "code",
   "execution_count": 2,
   "metadata": {},
   "outputs": [
    {
     "name": "stdout",
     "output_type": "stream",
     "text": [
      "True\n",
      "True 2600551249152 2600551249152\n"
     ]
    }
   ],
   "source": [
    "a = (1, 2)\n",
    "b = a  # now they are both pointing to the same object\n",
    "print(a == b)\n",
    "print(a is b, id(a), id(b))  # same ids"
   ]
  },
  {
   "cell_type": "code",
   "execution_count": 3,
   "metadata": {},
   "outputs": [
    {
     "name": "stdout",
     "output_type": "stream",
     "text": [
      "[True, True, True, True, True]\n",
      "[True, False, False, False, False]\n",
      "{(1,)}\n"
     ]
    }
   ],
   "source": [
    "# Statistics people say \"correlation does not imply causation.\"\n",
    "# Python people *should* say \"equality does NOT imply identity.\"\n",
    "x = (1,)\n",
    "lst = [x, (1,), (1,), (1,), (1,)]\n",
    "print([tup == x for tup in lst])\n",
    "print([tup is x for tup in lst])  # equality does NOT imply identity\n",
    "print(set(lst))  # even though only 1 unique element"
   ]
  },
  {
   "cell_type": "code",
   "execution_count": 4,
   "metadata": {
    "scrolled": true
   },
   "outputs": [
    {
     "name": "stdout",
     "output_type": "stream",
     "text": [
      "[False, False, False, False, True]\n"
     ]
    }
   ],
   "source": [
    "import random\n",
    "\n",
    "random.shuffle(lst)  # round and round x goes. where x stops, nobody knows.\n",
    "print([tup is x for tup in lst])  # random position"
   ]
  },
  {
   "cell_type": "markdown",
   "metadata": {},
   "source": [
    "#### Reference Counting\n",
    "If you want to see how many name tags/lanyards are attached to the same object, then use `sys.getrefcout`. Python internally has a reference count for every object--once the reference count goes to 0, then the object is deleted from memory. Deleting a variable will remove the name tag (or cutting off the lanyard). Python's `del` statement doesn't directly delete a variable. Instead `del` deletes the name binding (the name tag) onto the object. Once an object's reference count goes to 0, then Python's garbage collector will finally remove the object from memory. In short, `del` statement indirectly deletes an object.\n",
    "\n",
    "There's a fine print in the documentation: ```The count returned is generally one higher than you might expect, because it includes the (temporary) reference as an argument to getrefcount().```"
   ]
  },
  {
   "cell_type": "code",
   "execution_count": 5,
   "metadata": {
    "scrolled": true
   },
   "outputs": [
    {
     "name": "stdout",
     "output_type": "stream",
     "text": [
      "reference count: 2; memory location: 2600552108864\n"
     ]
    }
   ],
   "source": [
    "import sys\n",
    "\n",
    "a = []\n",
    "print(\"reference count: {}; memory location: {}\".format(sys.getrefcount(a), id(a)))"
   ]
  },
  {
   "cell_type": "code",
   "execution_count": 6,
   "metadata": {
    "scrolled": true
   },
   "outputs": [
    {
     "name": "stdout",
     "output_type": "stream",
     "text": [
      "2\n",
      "3\n",
      "True\n",
      "2600551891840 2600551891840\n",
      "[None] [None]\n"
     ]
    }
   ],
   "source": [
    "# a list is a mutable object\n",
    "a = []\n",
    "print(sys.getrefcount(a))\n",
    "b = a  # same object\n",
    "print(sys.getrefcount(a))\n",
    "print(a is b)\n",
    "print(id(a), id(b))\n",
    "a.append(None)\n",
    "print(a, b)  # both are mutated since they are the same object"
   ]
  },
  {
   "cell_type": "code",
   "execution_count": 7,
   "metadata": {},
   "outputs": [
    {
     "name": "stdout",
     "output_type": "stream",
     "text": [
      "2\n",
      "3\n",
      "True\n",
      "2600552143504 2600552143504\n",
      "\n",
      "(1, 2) (1,)\n",
      "False\n",
      "2600551842688 2600552143504\n",
      "2\n"
     ]
    }
   ],
   "source": [
    "# a tuple is immutable, so you cannot modify it\n",
    "a = (1, )\n",
    "print(sys.getrefcount(a))\n",
    "b = a\n",
    "print(sys.getrefcount(a))\n",
    "print(a is b)  # same object so far\n",
    "print(id(a), id(b))  # same memory location\n",
    "\n",
    "print()\n",
    "\n",
    "a += (2,)  # original tuple not modified, another tuple is created (that exists in a different memory location), so different object\n",
    "print(a, b)\n",
    "print(a is b)  # 2 different objects\n",
    "print(id(a), id(b))  # notice that id(a) has changed memory location. id(b) still the same\n",
    "print(sys.getrefcount(a))  # notice that the reference count has fell back to 2"
   ]
  },
  {
   "cell_type": "markdown",
   "metadata": {},
   "source": [
    "#### Tuple Unpacking\n",
    "You can have multiple expressions on the right side of the assignment and multiple variable names on the left side. Often used with tuples, but you can also use lists as well."
   ]
  },
  {
   "cell_type": "code",
   "execution_count": 8,
   "metadata": {
    "scrolled": true
   },
   "outputs": [
    {
     "name": "stdout",
     "output_type": "stream",
     "text": [
      "2 1\n"
     ]
    }
   ],
   "source": [
    "a, b = 1, 2  # tuple unpacking\n",
    "a, b = b, a  # this is a safe operation in Python. You don't need a temporary third variable.\n",
    "print(a, b)"
   ]
  },
  {
   "cell_type": "code",
   "execution_count": 9,
   "metadata": {},
   "outputs": [
    {
     "name": "stdout",
     "output_type": "stream",
     "text": [
      "(1, 2, 3)\n"
     ]
    }
   ],
   "source": [
    "a = 1, 2, 3  # no problem. no tuple unpacking is happening here. Just a tuple (without needing the extra parentheses)\n",
    "print(a)"
   ]
  },
  {
   "cell_type": "code",
   "execution_count": 10,
   "metadata": {},
   "outputs": [
    {
     "ename": "ValueError",
     "evalue": "too many values to unpack (expected 2)",
     "output_type": "error",
     "traceback": [
      "\u001b[1;31m---------------------------------------------------------------------------\u001b[0m",
      "\u001b[1;31mValueError\u001b[0m                                Traceback (most recent call last)",
      "\u001b[1;32m<ipython-input-10-43ef5c8fab71>\u001b[0m in \u001b[0;36m<module>\u001b[1;34m\u001b[0m\n\u001b[1;32m----> 1\u001b[1;33m \u001b[0ma\u001b[0m\u001b[1;33m,\u001b[0m \u001b[0mb\u001b[0m \u001b[1;33m=\u001b[0m \u001b[1;36m1\u001b[0m\u001b[1;33m,\u001b[0m \u001b[1;36m2\u001b[0m\u001b[1;33m,\u001b[0m \u001b[1;36m3\u001b[0m \u001b[1;31m# failed tuple unpacking due to \"imbalance\"\u001b[0m\u001b[1;33m\u001b[0m\u001b[1;33m\u001b[0m\u001b[0m\n\u001b[0m",
      "\u001b[1;31mValueError\u001b[0m: too many values to unpack (expected 2)"
     ]
    }
   ],
   "source": [
    "a, b = 1, 2, 3  # failed tuple unpacking due to \"imbalance\""
   ]
  },
  {
   "cell_type": "code",
   "execution_count": 11,
   "metadata": {},
   "outputs": [
    {
     "ename": "ValueError",
     "evalue": "not enough values to unpack (expected 3, got 2)",
     "output_type": "error",
     "traceback": [
      "\u001b[1;31m---------------------------------------------------------------------------\u001b[0m",
      "\u001b[1;31mValueError\u001b[0m                                Traceback (most recent call last)",
      "\u001b[1;32m<ipython-input-11-173180faf836>\u001b[0m in \u001b[0;36m<module>\u001b[1;34m\u001b[0m\n\u001b[1;32m----> 1\u001b[1;33m \u001b[0ma\u001b[0m\u001b[1;33m,\u001b[0m \u001b[0mb\u001b[0m\u001b[1;33m,\u001b[0m \u001b[0mc\u001b[0m \u001b[1;33m=\u001b[0m \u001b[1;36m1\u001b[0m\u001b[1;33m,\u001b[0m \u001b[1;36m2\u001b[0m \u001b[1;31m# also causes problems due to \"imbalance\"\u001b[0m\u001b[1;33m\u001b[0m\u001b[1;33m\u001b[0m\u001b[0m\n\u001b[0m",
      "\u001b[1;31mValueError\u001b[0m: not enough values to unpack (expected 3, got 2)"
     ]
    }
   ],
   "source": [
    "a, b, c = 1, 2  # also causes problems due to \"imbalance\""
   ]
  },
  {
   "cell_type": "markdown",
   "metadata": {},
   "source": [
    "For example, fibonacci is often implemented with recursion. It can also be implemented iteratively with tuple unpacking."
   ]
  },
  {
   "cell_type": "code",
   "execution_count": 12,
   "metadata": {},
   "outputs": [
    {
     "data": {
      "text/plain": [
       "55"
      ]
     },
     "execution_count": 12,
     "metadata": {},
     "output_type": "execute_result"
    }
   ],
   "source": [
    "def fibonacci(n):\n",
    "    n_previous, n_current = 0, 1\n",
    "    for iteration in range(n - 1):\n",
    "        n_previous, n_current = n_current, n_previous + n_current # tuple unpacking\n",
    "    return n_current\n",
    "\n",
    "fibonacci(10)"
   ]
  },
  {
   "cell_type": "markdown",
   "metadata": {},
   "source": [
    "#### Multiple Assignment\n",
    "Also you don't have to assign 1 object to 1 variable name. You can do multiple assignment--1 object assigned to multiple variable names. The right-most expression is evaluated first and then bound to the variables left to right."
   ]
  },
  {
   "cell_type": "code",
   "execution_count": 13,
   "metadata": {},
   "outputs": [
    {
     "name": "stdout",
     "output_type": "stream",
     "text": [
      "9001 9001\n",
      "True\n"
     ]
    }
   ],
   "source": [
    "a = b = 9000 + 1  # bind 9001 to `a` first, then `b`\n",
    "print(a, b)\n",
    "print(a is b)\n",
    "\n",
    "# logically equal to: \n",
    "# 9000 + 1 -> 9001\n",
    "# a = 9001\n",
    "# b = a"
   ]
  },
  {
   "cell_type": "markdown",
   "metadata": {},
   "source": [
    "#### Multiple Assignment + Tuple Unpacking\n",
    "Use both tricks at the same time. You get these fun puzzles."
   ]
  },
  {
   "cell_type": "code",
   "execution_count": 14,
   "metadata": {
    "scrolled": true
   },
   "outputs": [
    {
     "name": "stdout",
     "output_type": "stream",
     "text": [
      "1 2\n"
     ]
    }
   ],
   "source": [
    "# The values for a and b are swapped and then swapped back. Basically, nothing happens.\n",
    "a, b = 1, 2\n",
    "\n",
    "(b, a) = (a, b) = (a, b)\n",
    "print(a, b)\n",
    "\n",
    "# logically equal to:\n",
    "# b, a = a, b       # the left most = the right most\n",
    "# a, b = b, a       # the middle = the left most"
   ]
  },
  {
   "cell_type": "markdown",
   "metadata": {},
   "source": [
    "To prove that multiple assigment happens left to right, I use a `property` attribute."
   ]
  },
  {
   "cell_type": "code",
   "execution_count": 15,
   "metadata": {},
   "outputs": [],
   "source": [
    "class SillyAssignment:\n",
    "    def __init__(self, value):\n",
    "        self.id = value\n",
    "        self._gotit = None\n",
    "        self._counter = 0\n",
    "    \n",
    "    @property\n",
    "    def gotit(self):\n",
    "        return self._gotit\n",
    "        \n",
    "    @gotit.setter\n",
    "    def gotit(self, value):\n",
    "        self._counter += 1\n",
    "        print(\"Setter {} to {}; set {} time(s)\".format(self.id, value, self._counter))\n",
    "        self._gotit = value\n",
    "\n",
    "s1 = SillyAssignment(\"s1\")\n",
    "s2 = SillyAssignment(\"s2\")\n",
    "a, b = 1, 2"
   ]
  },
  {
   "cell_type": "code",
   "execution_count": 16,
   "metadata": {},
   "outputs": [
    {
     "name": "stdout",
     "output_type": "stream",
     "text": [
      "Setter s2 to 1; set 1 time(s)\n",
      "Setter s1 to 2; set 1 time(s)\n",
      "Setter s1 to 1; set 2 time(s)\n",
      "Setter s2 to 2; set 2 time(s)\n"
     ]
    }
   ],
   "source": [
    "s2.gotit, s1.gotit = s1.gotit, s2.gotit = (a, b)\n",
    "# logically equal to:\n",
    "# s2.gotit, s1.gotit = a, b                    # the left most = the right most\n",
    "# s1.gotit, s2.gotit = s2.gotit, s1.gotit      # the middle = the left most"
   ]
  },
  {
   "cell_type": "markdown",
   "metadata": {},
   "source": [
    "Magic trick: Any time you see a magic trick ✨, it's just for fun. Don't think about it too hard--unless you want to. 😃  \n",
    "A recursive list: instead of a recursive function, perhaps this is a recursive version of a data structure."
   ]
  },
  {
   "cell_type": "code",
   "execution_count": 17,
   "metadata": {},
   "outputs": [
    {
     "name": "stdout",
     "output_type": "stream",
     "text": [
      "[[...]]\n",
      "2600551901248 2600551901248 2600551901248\n"
     ]
    }
   ],
   "source": [
    "a = a[0] = [None]\n",
    "\n",
    "print(a)\n",
    "a is a[0] is a[0][0]\n",
    "print(id(a), id(a[0]), id(a[0][0]))"
   ]
  },
  {
   "cell_type": "markdown",
   "metadata": {},
   "source": [
    "Another magic tricK ✨: twisting 2 lists together like a Möbius strip"
   ]
  },
  {
   "cell_type": "code",
   "execution_count": 18,
   "metadata": {
    "scrolled": true
   },
   "outputs": [
    {
     "name": "stdout",
     "output_type": "stream",
     "text": [
      "[[[...]]] [[[...]]]\n",
      "True True\n",
      "True\n",
      "2600551884608 2600551884608\n"
     ]
    }
   ],
   "source": [
    "a, b = b[0], a[0] =  [None], [None]\n",
    "\n",
    "print(a, b)\n",
    "print(a[0] is b, b[0] is a)\n",
    "print(a is a[0][0])\n",
    "print(id(a), id(a[0][0]))"
   ]
  },
  {
   "cell_type": "markdown",
   "metadata": {},
   "source": [
    "#### Accidentally Overwriting a Built-in\n",
    "Here's a common ~~n00b~~ beginner mistake. There's nothing special about built-in types: you can \"overwrite\" it. And here's how you undo it."
   ]
  },
  {
   "cell_type": "code",
   "execution_count": 19,
   "metadata": {
    "scrolled": true
   },
   "outputs": [
    {
     "data": {
      "text/plain": [
       "[0, 1, 2, 3, 4, 5, 6, 7, 8, 9]"
      ]
     },
     "execution_count": 19,
     "metadata": {},
     "output_type": "execute_result"
    }
   ],
   "source": [
    "list = list(range(10))  # I just lost the ability to create lists\n",
    "list"
   ]
  },
  {
   "cell_type": "markdown",
   "metadata": {},
   "source": [
    "How do I get `list()` function back?  \n",
    "Note: Technically, list() is a class constructor, not a function."
   ]
  },
  {
   "cell_type": "code",
   "execution_count": 20,
   "metadata": {},
   "outputs": [
    {
     "name": "stdout",
     "output_type": "stream",
     "text": [
      "[0, 1, 2, 3, 4, 5, 6, 7, 8, 9]\n",
      "[0, 1, 2, 3, 4]\n"
     ]
    }
   ],
   "source": [
    "# Option 1: get the object's type\n",
    "list, my_list = type(list), list\n",
    "\n",
    "print(my_list)\n",
    "print(list(range(5)))"
   ]
  },
  {
   "cell_type": "code",
   "execution_count": 21,
   "metadata": {
    "scrolled": true
   },
   "outputs": [
    {
     "name": "stdout",
     "output_type": "stream",
     "text": [
      "[0, 1, 2, 3, 4, 5, 6, 7, 8, 9]\n",
      "<class 'list'>\n"
     ]
    }
   ],
   "source": [
    "# Option 2: go into `builtins` and extract the `list` function. \n",
    "# builtins will be covered more in depth the variable scoping section below\n",
    "import builtins\n",
    "\n",
    "list = list(range(10))  # I just lost the ability to create lists\n",
    "print(list)\n",
    "\n",
    "list = builtins.list\n",
    "print(list)"
   ]
  },
  {
   "cell_type": "code",
   "execution_count": 22,
   "metadata": {},
   "outputs": [
    {
     "name": "stdout",
     "output_type": "stream",
     "text": [
      "[0, 1, 2, 3, 4, 5, 6, 7, 8, 9]\n",
      "<class 'list'>\n"
     ]
    }
   ],
   "source": [
    "# Option 3: secret cheat: delete the global variable `list`, so you can access to the builtin `list` function: LEGB rule\n",
    "list = list(range(10))  # I just lost the ability to create lists\n",
    "print(list)\n",
    "\n",
    "del list\n",
    "print(list)"
   ]
  },
  {
   "cell_type": "code",
   "execution_count": null,
   "metadata": {},
   "outputs": [],
   "source": []
  },
  {
   "cell_type": "markdown",
   "metadata": {},
   "source": [
    "## Multiple Comparison\n",
    "Similar to multiple assignment, comparisons can also be chained together. The motivation is some function calls can take a long time, so you don't want to call it twice. The chaining is equivalent to `left_expression and right_expression`."
   ]
  },
  {
   "cell_type": "code",
   "execution_count": 1,
   "metadata": {},
   "outputs": [],
   "source": [
    "print(1 < 2 < 3)  # equivalent to (1 < 2) and (2 < 3)\n",
    "print(1 < 3 > 2)  # equivalent to (1 < 3) and (3 > 2)"
   ]
  },
  {
   "cell_type": "code",
   "execution_count": 2,
   "metadata": {},
   "outputs": [],
   "source": [
    "import time\n",
    "\n",
    "def slow_call(value, nap_time):\n",
    "    time.sleep(nap_time)\n",
    "    return value"
   ]
  },
  {
   "cell_type": "code",
   "execution_count": 3,
   "metadata": {},
   "outputs": [
    {
     "name": "stdout",
     "output_type": "stream",
     "text": [
      "Wall time: 10 s\n"
     ]
    },
    {
     "data": {
      "text/plain": [
       "True"
      ]
     },
     "execution_count": 3,
     "metadata": {},
     "output_type": "execute_result"
    }
   ],
   "source": [
    "%%time\n",
    "(1 < slow_call(2, 5)) and (slow_call(2, 5) < 3)"
   ]
  },
  {
   "cell_type": "code",
   "execution_count": 4,
   "metadata": {},
   "outputs": [
    {
     "name": "stdout",
     "output_type": "stream",
     "text": [
      "Wall time: 5.01 s\n"
     ]
    },
    {
     "data": {
      "text/plain": [
       "True"
      ]
     },
     "execution_count": 4,
     "metadata": {},
     "output_type": "execute_result"
    }
   ],
   "source": [
    "%%time\n",
    "1 < slow_call(2, 5) < 3  # takes half the time!"
   ]
  },
  {
   "cell_type": "code",
   "execution_count": null,
   "metadata": {},
   "outputs": [],
   "source": []
  },
  {
   "cell_type": "markdown",
   "metadata": {},
   "source": [
    "## Short Circuiting: `and` + `or`\n",
    "`or` and `and` have a cool functionality called <i>short circuting</i> in that they do not have to evaluate all expressions. Short circuiting is similar to lazy evaluation in that not all expressions are executed.\n",
    "\n",
    "`or` executes the left-hand side first, and if the left-side expression is logically `True`, then `or` will not evaluate the right-hand argument. Only if the left-hand side is logically `False`, then evaluate the right-hand side. Hence, `or` executes expressions from left to right and stops at the first logically `True` expression. If all expressions are logically `False`, then you get the last expression.\n",
    "* Logically `False` objects: `False`, `None`, 0, empty string `\"\"`, empty tuple `()`, empty list `[]`, empty dict `{}`, empty set `set()`\n",
    "* Logically `True` objects: pretty much anything else. Even `(0,)` or `[None]` is truthy because they are non-empty containers.\n",
    "\n",
    "The function `any()` is very similar to `or`. `any()` returns `True` or `False` by iterating your object and checking the truthiness of every element. If any of the elements is logically `True`, then it will return `True`. Otherwise, return `False` since all elements are logically `False`. Note, if you iterate over an empty container, then `any()` will return `False`."
   ]
  },
  {
   "cell_type": "code",
   "execution_count": 1,
   "metadata": {},
   "outputs": [
    {
     "name": "stdout",
     "output_type": "stream",
     "text": [
      "5\n",
      "5\n",
      "5\n"
     ]
    }
   ],
   "source": [
    "# immediately short circuit\n",
    "print(5 or False)\n",
    "print(5 or 6 or 7 or 8)\n",
    "print(5 or print(\"HI\"))  # print() is not executed"
   ]
  },
  {
   "cell_type": "code",
   "execution_count": 2,
   "metadata": {},
   "outputs": [
    {
     "name": "stdout",
     "output_type": "stream",
     "text": [
      "BYE\n",
      "None\n"
     ]
    }
   ],
   "source": [
    "# no short circuiting happens since all elements are False\n",
    "print((1 - 1) or [] or print(\"BYE\"))  # left hand side is evaluated, middle is evaluated, right side is evaluated since print() returns None"
   ]
  },
  {
   "cell_type": "code",
   "execution_count": 3,
   "metadata": {},
   "outputs": [
    {
     "name": "stdout",
     "output_type": "stream",
     "text": [
      "True\n",
      "False\n",
      "False\n"
     ]
    }
   ],
   "source": [
    "print(any(range(10)))\n",
    "print(any([False, None, 0, \"\", (), [], {}, set()]))\n",
    "print(any([]))"
   ]
  },
  {
   "cell_type": "markdown",
   "metadata": {},
   "source": [
    "`and` is the opposite of `or` because `and` stops at the first logically `False` argument and returns it. If there are no falsy (real word!) expressions, then return the last argument (which is necessarily truthy). Just like `or`, `and` evaluates expressions left to right."
   ]
  },
  {
   "cell_type": "code",
   "execution_count": 4,
   "metadata": {},
   "outputs": [
    {
     "name": "stdout",
     "output_type": "stream",
     "text": [
      "0\n",
      "5\n",
      "False\n",
      "0\n"
     ]
    }
   ],
   "source": [
    "print(1 and 2 and 3 and 0 and 4 and 5)  # stops at the falsy element\n",
    "print(1 and 2 and 3 and 4 and 5)  # all truthy so get the last truthy element\n",
    "print(False and 0 and \"\")  # stops at the first one\n",
    "print(0 and \"\" and False)  # stops at the first one"
   ]
  },
  {
   "cell_type": "markdown",
   "metadata": {},
   "source": [
    "Short circuiting comes in handy if you are evaluating multiple conditions. You want to put the expression you think will short circuit more often or quicker on the left side."
   ]
  },
  {
   "cell_type": "code",
   "execution_count": 5,
   "metadata": {},
   "outputs": [],
   "source": [
    "import time\n",
    "\n",
    "def slow_call(value, nap_time):\n",
    "    time.sleep(nap_time)\n",
    "    return value"
   ]
  },
  {
   "cell_type": "code",
   "execution_count": 6,
   "metadata": {},
   "outputs": [
    {
     "name": "stdout",
     "output_type": "stream",
     "text": [
      "HI\n",
      "Wall time: 3.01 s\n"
     ]
    }
   ],
   "source": [
    "%%time\n",
    "if slow_call(True, 1) and slow_call(True, 2):  # has to wait the full 3 seconds\n",
    "    print(\"HI\")  # executed"
   ]
  },
  {
   "cell_type": "code",
   "execution_count": 7,
   "metadata": {},
   "outputs": [
    {
     "name": "stdout",
     "output_type": "stream",
     "text": [
      "HI\n",
      "Wall time: 1 s\n"
     ]
    }
   ],
   "source": [
    "%%time\n",
    "if slow_call(True, 1) or slow_call(True, 2):  # since the first expression is truthy, then skip the second one\n",
    "    print(\"HI\")  # executed"
   ]
  },
  {
   "cell_type": "code",
   "execution_count": null,
   "metadata": {},
   "outputs": [],
   "source": []
  },
  {
   "cell_type": "code",
   "execution_count": 8,
   "metadata": {},
   "outputs": [
    {
     "name": "stdout",
     "output_type": "stream",
     "text": [
      "Wall time: 3.01 s\n"
     ]
    }
   ],
   "source": [
    "%%time\n",
    "if slow_call(False, 1) or slow_call(False, 2):  # has to wait the full 3 seconds\n",
    "    print(\"HI\")  # not executed"
   ]
  },
  {
   "cell_type": "code",
   "execution_count": 9,
   "metadata": {},
   "outputs": [
    {
     "name": "stdout",
     "output_type": "stream",
     "text": [
      "Wall time: 1 s\n"
     ]
    }
   ],
   "source": [
    "%%time\n",
    "if slow_call(False, 1) and slow_call(False, 2):  # since first expression is falsy, then skip the second one\n",
    "    print(\"HI\")  # not executed"
   ]
  },
  {
   "cell_type": "code",
   "execution_count": null,
   "metadata": {},
   "outputs": [],
   "source": []
  },
  {
   "cell_type": "code",
   "execution_count": 10,
   "metadata": {},
   "outputs": [
    {
     "name": "stdout",
     "output_type": "stream",
     "text": [
      "HI\n",
      "Wall time: 1.01 s\n"
     ]
    }
   ],
   "source": [
    "%%time\n",
    "if slow_call(True, 1) or slow_call(True, 2) or slow_call(True, 3) or slow_call(True, 4):  # still only takes 1 second\n",
    "    print(\"HI\")"
   ]
  },
  {
   "cell_type": "code",
   "execution_count": null,
   "metadata": {},
   "outputs": [],
   "source": []
  },
  {
   "cell_type": "markdown",
   "metadata": {},
   "source": [
    "## What's My Name? Variable Scoping\n",
    "When you use multiple variables with the same name, how do you know which variable you get? For example, you have a globally defined variable `x` and a `x` in a function and `x` in some imported module. Which one do you get?\n",
    "* `Namespaces` : A namespace is a container where names are mapped to objects. Hence, you have same variable names associated to different values/objects in different namespaces.\n",
    "* `Scope`: A scope defines the hierarchical order in which the namespaces have to be searched in order to obtain the mappings of name to object. Python follows the LEGB rule: `Local, Enclosing, Global, Built-in`. If a variable is not found in the local namespace, go to the outer namespaces. If not found at all, then raise `NameError` exception. Variables with the same name in the same namespace will overwrite each other--only 1 can exist at a time.\n",
    "\n",
    "The vocabulary words `namespace` and `scope` are often used interchangeably, but they are not the same. But don't worry about it, as the distinction isn't very important. What's more important is understanding how they work.\n",
    "\n",
    "<p align=\"center\"><img src=\"images/LEGB_Variable_Scoping.png\"></p>\n",
    "<b>Local</b>: inside a function, look to see if variable is defined. If it is there, use that one."
   ]
  },
  {
   "cell_type": "code",
   "execution_count": 1,
   "metadata": {
    "scrolled": true
   },
   "outputs": [
    {
     "name": "stdout",
     "output_type": "stream",
     "text": [
      "2\n",
      "1\n"
     ]
    }
   ],
   "source": [
    "a = 1  # this is a global variable\n",
    "def func():\n",
    "    a = 2  # this is the local variable\n",
    "    return a\n",
    "print(func())\n",
    "print(a)"
   ]
  },
  {
   "cell_type": "markdown",
   "metadata": {},
   "source": [
    "<b>Enclosing</b>: if local variable not found inside inner function, look for the variable in the outer function."
   ]
  },
  {
   "cell_type": "code",
   "execution_count": 2,
   "metadata": {
    "scrolled": true
   },
   "outputs": [
    {
     "name": "stdout",
     "output_type": "stream",
     "text": [
      "2\n",
      "1\n"
     ]
    }
   ],
   "source": [
    "a = 1  # this a global variable\n",
    "def func1():\n",
    "    a = 2  # get this enclosing variable\n",
    "    def func2():\n",
    "        return a\n",
    "    return func2()\n",
    "print(func1())\n",
    "print(a)"
   ]
  },
  {
   "cell_type": "code",
   "execution_count": 3,
   "metadata": {},
   "outputs": [
    {
     "name": "stdout",
     "output_type": "stream",
     "text": [
      "2\n",
      "1\n"
     ]
    }
   ],
   "source": [
    "a = 1  # this a global variable\n",
    "def func1():\n",
    "    a = 2  # this is still an enclosing variable as it is not global\n",
    "    def func2():\n",
    "        def func3():\n",
    "            return a\n",
    "        return func3()\n",
    "    return func2()\n",
    "print(func1())\n",
    "print(a)"
   ]
  },
  {
   "cell_type": "code",
   "execution_count": 4,
   "metadata": {},
   "outputs": [
    {
     "name": "stdout",
     "output_type": "stream",
     "text": [
      "2\n"
     ]
    }
   ],
   "source": [
    "# this works\n",
    "def a1():\n",
    "    def a2():\n",
    "        print(a2_var)  # a2_var is defined AFTER the function is defined. \n",
    "        # This is late binding from closure. Look at 4_Functional_Python.ipynb to learn more\n",
    "\n",
    "    a2_var = 2\n",
    "    a2()\n",
    "\n",
    "a1()"
   ]
  },
  {
   "cell_type": "code",
   "execution_count": 5,
   "metadata": {},
   "outputs": [
    {
     "ename": "NameError",
     "evalue": "name 'a2_var' is not defined",
     "output_type": "error",
     "traceback": [
      "\u001b[1;31m---------------------------------------------------------------------------\u001b[0m",
      "\u001b[1;31mNameError\u001b[0m                                 Traceback (most recent call last)",
      "\u001b[1;32m<ipython-input-5-242038654df2>\u001b[0m in \u001b[0;36m<module>\u001b[1;34m\u001b[0m\n\u001b[0;32m      7\u001b[0m     \u001b[0mprint\u001b[0m\u001b[1;33m(\u001b[0m\u001b[0ma2_var\u001b[0m\u001b[1;33m)\u001b[0m \u001b[1;31m# a2_var is not a local or enclosure variable with respect to a2()\u001b[0m\u001b[1;33m\u001b[0m\u001b[1;33m\u001b[0m\u001b[0m\n\u001b[0;32m      8\u001b[0m \u001b[1;33m\u001b[0m\u001b[0m\n\u001b[1;32m----> 9\u001b[1;33m \u001b[0ma1\u001b[0m\u001b[1;33m(\u001b[0m\u001b[1;33m)\u001b[0m\u001b[1;33m\u001b[0m\u001b[1;33m\u001b[0m\u001b[0m\n\u001b[0m",
      "\u001b[1;32m<ipython-input-5-242038654df2>\u001b[0m in \u001b[0;36ma1\u001b[1;34m()\u001b[0m\n\u001b[0;32m      2\u001b[0m \u001b[1;32mdef\u001b[0m \u001b[0ma1\u001b[0m\u001b[1;33m(\u001b[0m\u001b[1;33m)\u001b[0m\u001b[1;33m:\u001b[0m\u001b[1;33m\u001b[0m\u001b[1;33m\u001b[0m\u001b[0m\n\u001b[0;32m      3\u001b[0m     \u001b[0ma2_var\u001b[0m \u001b[1;33m=\u001b[0m \u001b[1;36m2\u001b[0m\u001b[1;33m\u001b[0m\u001b[1;33m\u001b[0m\u001b[0m\n\u001b[1;32m----> 4\u001b[1;33m     \u001b[0ma2\u001b[0m\u001b[1;33m(\u001b[0m\u001b[1;33m)\u001b[0m\u001b[1;33m\u001b[0m\u001b[1;33m\u001b[0m\u001b[0m\n\u001b[0m\u001b[0;32m      5\u001b[0m \u001b[1;33m\u001b[0m\u001b[0m\n\u001b[0;32m      6\u001b[0m \u001b[1;32mdef\u001b[0m \u001b[0ma2\u001b[0m\u001b[1;33m(\u001b[0m\u001b[1;33m)\u001b[0m\u001b[1;33m:\u001b[0m\u001b[1;33m\u001b[0m\u001b[1;33m\u001b[0m\u001b[0m\n",
      "\u001b[1;32m<ipython-input-5-242038654df2>\u001b[0m in \u001b[0;36ma2\u001b[1;34m()\u001b[0m\n\u001b[0;32m      5\u001b[0m \u001b[1;33m\u001b[0m\u001b[0m\n\u001b[0;32m      6\u001b[0m \u001b[1;32mdef\u001b[0m \u001b[0ma2\u001b[0m\u001b[1;33m(\u001b[0m\u001b[1;33m)\u001b[0m\u001b[1;33m:\u001b[0m\u001b[1;33m\u001b[0m\u001b[1;33m\u001b[0m\u001b[0m\n\u001b[1;32m----> 7\u001b[1;33m     \u001b[0mprint\u001b[0m\u001b[1;33m(\u001b[0m\u001b[0ma2_var\u001b[0m\u001b[1;33m)\u001b[0m \u001b[1;31m# a2_var is not a local or enclosure variable with respect to a2()\u001b[0m\u001b[1;33m\u001b[0m\u001b[1;33m\u001b[0m\u001b[0m\n\u001b[0m\u001b[0;32m      8\u001b[0m \u001b[1;33m\u001b[0m\u001b[0m\n\u001b[0;32m      9\u001b[0m \u001b[0ma1\u001b[0m\u001b[1;33m(\u001b[0m\u001b[1;33m)\u001b[0m\u001b[1;33m\u001b[0m\u001b[1;33m\u001b[0m\u001b[0m\n",
      "\u001b[1;31mNameError\u001b[0m: name 'a2_var' is not defined"
     ]
    }
   ],
   "source": [
    "# but why doesn't this one work?\n",
    "def a1():\n",
    "    a2_var = 2\n",
    "    a2()\n",
    "\n",
    "def a2():\n",
    "    print(a2_var)  # a2_var is not a local or enclosure variable with respect to a2()\n",
    "    \n",
    "a1()"
   ]
  },
  {
   "cell_type": "markdown",
   "metadata": {},
   "source": [
    "<b>Global</b>: variables defined at the module level. Remember, a module is just a fancy way of saying 1 `.py` file. In your function call, if variables are not defined locally or enclosing, go to the module level to find the variable."
   ]
  },
  {
   "cell_type": "code",
   "execution_count": 6,
   "metadata": {},
   "outputs": [
    {
     "name": "stdout",
     "output_type": "stream",
     "text": [
      "1\n",
      "1\n"
     ]
    }
   ],
   "source": [
    "a = 1 # global variable\n",
    "def func1():\n",
    "    def func2():\n",
    "        return a\n",
    "    return func2()\n",
    "print(func1())\n",
    "print(a)"
   ]
  },
  {
   "cell_type": "code",
   "execution_count": 7,
   "metadata": {},
   "outputs": [
    {
     "data": {
      "text/plain": [
       "55"
      ]
     },
     "execution_count": 7,
     "metadata": {},
     "output_type": "execute_result"
    }
   ],
   "source": [
    "# recursion uses scoping to \"discover\" itself\n",
    "def fibonacci(n):\n",
    "    if (n == 1) or (n == 2):\n",
    "        return 1\n",
    "    return fibonacci(n - 1) + fibonacci(n - 2)  # where is fibonacci() defined? It's a global variable\n",
    "\n",
    "fibonacci(10)"
   ]
  },
  {
   "cell_type": "code",
   "execution_count": 8,
   "metadata": {},
   "outputs": [
    {
     "name": "stdout",
     "output_type": "stream",
     "text": [
      "I'm inside func1. The number is 5\n",
      "I'm inside func2. The number is 4\n",
      "I'm inside func1. The number is 3\n",
      "I'm inside func2. The number is 2\n",
      "I'm inside func1. The number is 1\n",
      "None\n"
     ]
    }
   ],
   "source": [
    "# Magic trick: you can \"twist\" functions to see how LEGB really works\n",
    "def func1(n):\n",
    "    def func2(n):\n",
    "        if n:\n",
    "            print(\"I'm inside func2. The number is {}\".format(n))\n",
    "            return func1(n - 1)\n",
    "        return\n",
    "\n",
    "    if n:\n",
    "        print(\"I'm inside func1. The number is {}\".format(n))\n",
    "        return func2(n - 1)\n",
    "        \n",
    "print(func1(5))"
   ]
  },
  {
   "cell_type": "markdown",
   "metadata": {},
   "source": [
    "Global variables are not _truly_ global in the sense that variables cannot communicate between modules. If `pandas` and `sklearn` both have a variable `a`, then they cannot communicate with each other. `pandas.a` does not know about `sklearn.a`."
   ]
  },
  {
   "cell_type": "code",
   "execution_count": 9,
   "metadata": {},
   "outputs": [
    {
     "name": "stdout",
     "output_type": "stream",
     "text": [
      "Writing temp1.py\n"
     ]
    }
   ],
   "source": [
    "%%writefile temp1.py\n",
    "a = 1"
   ]
  },
  {
   "cell_type": "code",
   "execution_count": 10,
   "metadata": {},
   "outputs": [
    {
     "name": "stdout",
     "output_type": "stream",
     "text": [
      "Writing temp2.py\n"
     ]
    }
   ],
   "source": [
    "%%writefile temp2.py\n",
    "a = 2"
   ]
  },
  {
   "cell_type": "code",
   "execution_count": 11,
   "metadata": {},
   "outputs": [
    {
     "name": "stdout",
     "output_type": "stream",
     "text": [
      "Writing temp3.py\n"
     ]
    }
   ],
   "source": [
    "%%writefile temp3.py\n",
    "print(a)"
   ]
  },
  {
   "cell_type": "code",
   "execution_count": 12,
   "metadata": {},
   "outputs": [
    {
     "name": "stdout",
     "output_type": "stream",
     "text": [
      "1\n"
     ]
    }
   ],
   "source": [
    "import temp1\n",
    "print(temp1.a)"
   ]
  },
  {
   "cell_type": "code",
   "execution_count": 13,
   "metadata": {},
   "outputs": [
    {
     "name": "stdout",
     "output_type": "stream",
     "text": [
      "2\n"
     ]
    }
   ],
   "source": [
    "import temp2\n",
    "print(temp2.a)"
   ]
  },
  {
   "cell_type": "code",
   "execution_count": 14,
   "metadata": {},
   "outputs": [
    {
     "ename": "NameError",
     "evalue": "name 'a' is not defined",
     "output_type": "error",
     "traceback": [
      "\u001b[1;31m---------------------------------------------------------------------------\u001b[0m",
      "\u001b[1;31mNameError\u001b[0m                                 Traceback (most recent call last)",
      "\u001b[1;32m<ipython-input-14-edf4eeb08df7>\u001b[0m in \u001b[0;36m<module>\u001b[1;34m\u001b[0m\n\u001b[1;32m----> 1\u001b[1;33m \u001b[1;32mimport\u001b[0m \u001b[0mtemp3\u001b[0m \u001b[1;31m# fails to load\u001b[0m\u001b[1;33m\u001b[0m\u001b[1;33m\u001b[0m\u001b[0m\n\u001b[0m",
      "\u001b[1;32m~\\Desktop\\Advanced-Python\\temp3.py\u001b[0m in \u001b[0;36m<module>\u001b[1;34m\u001b[0m\n\u001b[1;32m----> 1\u001b[1;33m \u001b[0mprint\u001b[0m\u001b[1;33m(\u001b[0m\u001b[0ma\u001b[0m\u001b[1;33m)\u001b[0m\u001b[1;33m\u001b[0m\u001b[1;33m\u001b[0m\u001b[0m\n\u001b[0m",
      "\u001b[1;31mNameError\u001b[0m: name 'a' is not defined"
     ]
    }
   ],
   "source": [
    "import temp3  # fails to load"
   ]
  },
  {
   "cell_type": "code",
   "execution_count": 15,
   "metadata": {
    "scrolled": false
   },
   "outputs": [
    {
     "ename": "NameError",
     "evalue": "name 'a' is not defined",
     "output_type": "error",
     "traceback": [
      "\u001b[1;31m---------------------------------------------------------------------------\u001b[0m",
      "\u001b[1;31mNameError\u001b[0m                                 Traceback (most recent call last)",
      "\u001b[1;32m<ipython-input-15-1c3794df8b4f>\u001b[0m in \u001b[0;36m<module>\u001b[1;34m\u001b[0m\n\u001b[0;32m      1\u001b[0m \u001b[0ma\u001b[0m \u001b[1;33m=\u001b[0m \u001b[1;36m1\u001b[0m \u001b[1;31m# even if you define it now, temp3 cannot be imported since `a` in temp3 does not exist\u001b[0m\u001b[1;33m\u001b[0m\u001b[1;33m\u001b[0m\u001b[0m\n\u001b[1;32m----> 2\u001b[1;33m \u001b[1;32mimport\u001b[0m \u001b[0mtemp3\u001b[0m\u001b[1;33m\u001b[0m\u001b[1;33m\u001b[0m\u001b[0m\n\u001b[0m",
      "\u001b[1;32m~\\Desktop\\Advanced-Python\\temp3.py\u001b[0m in \u001b[0;36m<module>\u001b[1;34m\u001b[0m\n\u001b[1;32m----> 1\u001b[1;33m \u001b[0mprint\u001b[0m\u001b[1;33m(\u001b[0m\u001b[0ma\u001b[0m\u001b[1;33m)\u001b[0m\u001b[1;33m\u001b[0m\u001b[1;33m\u001b[0m\u001b[0m\n\u001b[0m",
      "\u001b[1;31mNameError\u001b[0m: name 'a' is not defined"
     ]
    }
   ],
   "source": [
    "a = 1  # even if you define it now, temp3 cannot be imported since `a` in temp3 does not exist\n",
    "import temp3"
   ]
  },
  {
   "cell_type": "markdown",
   "metadata": {},
   "source": [
    "The inability of global variables to transcend its module is not a bug; it is a feature. The reason is that a variable with  a boring name like `x` will almost certainly be used in multiple modules. Hence, you don't want to have each value of `x` be overwritten by each other. Hence, Python allow you have variables called `x` in different modules--by having each module has its own global namespace that does not interact with each other.\n",
    "\n",
    "<b>Built-ins</b> are the things that you generally use without thinking: `sum()`, `range()`, `list`, `None`, `True`. These variables/functions are like \"universal globals\" in the sense that they exist between modules."
   ]
  },
  {
   "cell_type": "code",
   "execution_count": 16,
   "metadata": {},
   "outputs": [],
   "source": [
    "def printer():\n",
    "    print(\"Money tree: sorry, my gold is green--the color of envy!\") # where does the function print() come from? It's a built-in!"
   ]
  },
  {
   "cell_type": "markdown",
   "metadata": {},
   "source": [
    "Magic trick ✨: how do you make your own \"universal global\" variable or your own builtin variable? How can you communicate between different modules? You can do that by hacking away at the `builtins` module. Built-in functions/variables are not special--they can be overwritten like everything else. As you can see, you can cause some chaos."
   ]
  },
  {
   "cell_type": "code",
   "execution_count": 17,
   "metadata": {},
   "outputs": [
    {
     "name": "stdout",
     "output_type": "stream",
     "text": [
      "Overwriting temp1.py\n"
     ]
    }
   ],
   "source": [
    "%%writefile temp1.py\n",
    "import builtins\n",
    "\n",
    "builtins.len = lambda _: \"len() is now gone\"\n",
    "builtins.list = tuple\n",
    "builtins.blah_blah_blah = \"Ke$ha\""
   ]
  },
  {
   "cell_type": "code",
   "execution_count": 18,
   "metadata": {},
   "outputs": [
    {
     "name": "stdout",
     "output_type": "stream",
     "text": [
      "Overwriting temp2.py\n"
     ]
    }
   ],
   "source": [
    "%%writefile temp2.py\n",
    "import temp1\n",
    "\n",
    "print(len(\"HI\"))  # len no longer works\n",
    "print(list(range(10)))  # became a tuple\n",
    "print(blah_blah_blah)  # some random variable now exists"
   ]
  },
  {
   "cell_type": "code",
   "execution_count": 19,
   "metadata": {},
   "outputs": [
    {
     "name": "stdout",
     "output_type": "stream",
     "text": [
      "len() is now gone\n",
      "(0, 1, 2, 3, 4, 5, 6, 7, 8, 9)\n",
      "Ke$ha\n"
     ]
    }
   ],
   "source": [
    "!python temp2.py"
   ]
  },
  {
   "cell_type": "markdown",
   "metadata": {},
   "source": [
    "Magic trick 2 ✨: you don't have to corrupt the `builtins` module. In fact, any module <i>behaves</i> like a singleton--there is only 1 out there. So mutating a module's variable in 1 place is instantenously reflected if you use that module's variable somewhere else--even if referenced in another module. Not an ansible, not a teleportation machine, not magic, simply Python's <i>pedantic</i> rules. 😃"
   ]
  },
  {
   "cell_type": "code",
   "execution_count": 20,
   "metadata": {},
   "outputs": [
    {
     "name": "stdout",
     "output_type": "stream",
     "text": [
      "Writing module_with_universal_variable.py\n"
     ]
    }
   ],
   "source": [
    "%%writefile module_with_universal_variable.py\n",
    "a = None"
   ]
  },
  {
   "cell_type": "code",
   "execution_count": 21,
   "metadata": {},
   "outputs": [
    {
     "name": "stdout",
     "output_type": "stream",
     "text": [
      "Overwriting temp1.py\n"
     ]
    }
   ],
   "source": [
    "%%writefile temp1.py\n",
    "import module_with_universal_variable\n",
    "module_with_universal_variable.a = 42"
   ]
  },
  {
   "cell_type": "code",
   "execution_count": 22,
   "metadata": {},
   "outputs": [
    {
     "name": "stdout",
     "output_type": "stream",
     "text": [
      "Overwriting temp2.py\n"
     ]
    }
   ],
   "source": [
    "%%writefile temp2.py\n",
    "import module_with_universal_variable\n",
    "module_with_universal_variable.a = 9001"
   ]
  },
  {
   "cell_type": "code",
   "execution_count": 23,
   "metadata": {},
   "outputs": [
    {
     "name": "stdout",
     "output_type": "stream",
     "text": [
      "Overwriting temp3.py\n"
     ]
    }
   ],
   "source": [
    "%%writefile temp3.py\n",
    "import module_with_universal_variable\n",
    "print(module_with_universal_variable.a)\n",
    "\n",
    "import temp1\n",
    "print(module_with_universal_variable.a)\n",
    "\n",
    "import temp2\n",
    "print(module_with_universal_variable.a)"
   ]
  },
  {
   "cell_type": "code",
   "execution_count": 24,
   "metadata": {},
   "outputs": [
    {
     "name": "stdout",
     "output_type": "stream",
     "text": [
      "None\n",
      "42\n",
      "9001\n"
     ]
    }
   ],
   "source": [
    "!python temp3.py"
   ]
  },
  {
   "cell_type": "code",
   "execution_count": 25,
   "metadata": {},
   "outputs": [],
   "source": [
    "!rm temp1.py temp2.py temp3.py module_with_universal_variable.py"
   ]
  },
  {
   "cell_type": "markdown",
   "metadata": {},
   "source": [
    "Both approaches (messing with `builtins` module or your own module) are just for funsies ✨. Don't do it in real life--or a kitten will die every time you think about it. There are very rare circumstances where you will want a universally accessable and mutatable variable.\n",
    "\n",
    "#### There Can Only Be One!\n",
    "If there are 2 variables of the same name in the same namespace, then (like Highlander) there can only be one! The reason is that namespaces are themselves implemented with a dictionary. Hence, the most recent variable overwrites the previous one."
   ]
  },
  {
   "cell_type": "code",
   "execution_count": 26,
   "metadata": {},
   "outputs": [
    {
     "name": "stdout",
     "output_type": "stream",
     "text": [
      "<function a at 0x00000188B314D708>\n",
      "True\n",
      "<function a at 0x00000188B314D708> <function a at 0x00000188B314D708> <function a at 0x00000188B314D708> <function a at 0x00000188B314D708>\n"
     ]
    }
   ],
   "source": [
    "a = 1  # global variable will be overwritten by the following function\n",
    "def a():  # this function overwrites/replaces the previous assignment. The value of 1 is totally lost/gone.\n",
    "    def b():\n",
    "        return a # refers to the outer function and thus not the variable\n",
    "    return b()\n",
    "print(a())\n",
    "print(a is a() is a()() is a()()())\n",
    "print(a, a(), a()(), a()()())"
   ]
  },
  {
   "cell_type": "code",
   "execution_count": null,
   "metadata": {},
   "outputs": [],
   "source": []
  },
  {
   "cell_type": "markdown",
   "metadata": {},
   "source": [
    "## (Re)assignment within inner namespaces: `global` and `nonlocal`\n",
    "As a general rule, variables in inner namespaces cannot be assigned to outer namespaces. However, you can update mutative variables in inner namespaces (for example, lists are mutable). This is not reassigning the inner variable to the outer variable though.  \n",
    "There is a way to get around this rule: by using `global` or `nonlocal` (fun fact: these are the only 2 declarations in Python...until Python 3.6+ where you get variable annotation).\n",
    "* `global` tells Python you are using a global variable, so inside a function call, you can permanently change a global variable.\n",
    "* `nonlocal` is used to assign/reassign enclosing variables.\n",
    "\n",
    "Caveat: I have never used `global` or `nonlocal` in real code, so use them sparingly, as they violate the Principle of Least Surprise."
   ]
  },
  {
   "cell_type": "code",
   "execution_count": 1,
   "metadata": {},
   "outputs": [
    {
     "name": "stdout",
     "output_type": "stream",
     "text": [
      "[]\n",
      "[None]\n"
     ]
    }
   ],
   "source": [
    "a = []\n",
    "def func():\n",
    "    a.append(None)\n",
    "print(a)\n",
    "func()\n",
    "print(a)  # a is mutated"
   ]
  },
  {
   "cell_type": "code",
   "execution_count": 2,
   "metadata": {},
   "outputs": [
    {
     "name": "stdout",
     "output_type": "stream",
     "text": [
      "[]\n",
      "[]\n"
     ]
    }
   ],
   "source": [
    "a = []  # global\n",
    "def inner():\n",
    "    a = []  # local\n",
    "    a.append(None)  # refers to the local variable\n",
    "print(a)\n",
    "inner()\n",
    "print(a)  # a is not mutated or assigned. Basically nothing has happened"
   ]
  },
  {
   "cell_type": "code",
   "execution_count": 3,
   "metadata": {},
   "outputs": [
    {
     "name": "stdout",
     "output_type": "stream",
     "text": [
      "1\n",
      "2\n"
     ]
    }
   ],
   "source": [
    "a = 1\n",
    "def reassign():\n",
    "    global a\n",
    "    a = 2\n",
    "\n",
    "print(a)\n",
    "reassign()\n",
    "print(a)"
   ]
  },
  {
   "cell_type": "code",
   "execution_count": 4,
   "metadata": {},
   "outputs": [
    {
     "name": "stdout",
     "output_type": "stream",
     "text": [
      "1 before global reassignment\n",
      "1 I am inside nested function\n",
      "2 I am the enclosing variable\n",
      "3 after global reassignment\n"
     ]
    }
   ],
   "source": [
    "a = 1  # re-assign this variable\n",
    "def reassign():\n",
    "    a = 2\n",
    "    def func():\n",
    "        global a\n",
    "        print(a, \"I am inside nested function\")\n",
    "        a = 3\n",
    "    func()\n",
    "    print(a, \"I am the enclosing variable\")  # nothing changed here\n",
    "print(a, \"before global reassignment\")\n",
    "reassign()\n",
    "print(a, \"after global reassignment\")"
   ]
  },
  {
   "cell_type": "code",
   "execution_count": 5,
   "metadata": {},
   "outputs": [
    {
     "name": "stdout",
     "output_type": "stream",
     "text": [
      "xyz doesn't exist\n",
      "xyz doesn't exist\n",
      "1\n"
     ]
    }
   ],
   "source": [
    "def global_assign():\n",
    "    global xyz\n",
    "    xyz = 1\n",
    "    \n",
    "try:\n",
    "    del xyz\n",
    "    print(\"deleted xyz\")\n",
    "except NameError:\n",
    "    print(\"xyz doesn't exist\")\n",
    "\n",
    "try:\n",
    "    print(xyz)\n",
    "except NameError:\n",
    "    print(\"xyz doesn't exist\")\n",
    "\n",
    "global_assign()\n",
    "print(xyz)"
   ]
  },
  {
   "cell_type": "code",
   "execution_count": 6,
   "metadata": {},
   "outputs": [
    {
     "name": "stdout",
     "output_type": "stream",
     "text": [
      "1 global variable unchanged\n",
      "2 enclosing variable (relative to func2()) before reassignment\n",
      "3 enclosing variable (relative to func2()) after reassignment\n"
     ]
    }
   ],
   "source": [
    "a = 1\n",
    "def func1():\n",
    "    a = 2  # reassign this enclosing variable\n",
    "    def func2():\n",
    "        nonlocal a\n",
    "        a = 3\n",
    "    print(a, \"enclosing variable (relative to func2()) before reassignment\")\n",
    "    func2()\n",
    "    print(a, \"enclosing variable (relative to func2()) after reassignment\")\n",
    "print(a, \"global variable unchanged\")\n",
    "func1()"
   ]
  },
  {
   "cell_type": "code",
   "execution_count": null,
   "metadata": {},
   "outputs": [],
   "source": []
  },
  {
   "cell_type": "markdown",
   "metadata": {},
   "source": [
    "## Executive Power: `exec` and `eval`\n",
    "These 2 functions are very powerful. As Uncle Ben once said: with great power comes great responsibility. In practice, you will rarely have to use these.\n",
    "\n",
    "`exec()` takes a string and will execute the string as if it were Python code. You should never run arbitrary code from  untrusted sources, since they can delete your entire hard drive. `exec()` is a function in Python 3 (that always returns `None`) whereas `exec` is a statement in Python 2 (which cannot be saved). This is the same upgrade for `print()` which is a function in Python 3 and a statement in Python 2."
   ]
  },
  {
   "cell_type": "code",
   "execution_count": 1,
   "metadata": {},
   "outputs": [
    {
     "name": "stdout",
     "output_type": "stream",
     "text": [
      "HI\n",
      "3.7.6 (default, Jan  8 2020, 20:23:39) [MSC v.1916 64 bit (AMD64)]\n",
      "[42]\n",
      "3\n",
      "None\n",
      "3\n"
     ]
    }
   ],
   "source": [
    "exec(\"print('HI')\")\n",
    "\n",
    "exec(\"import sys\")  # can mutate the environment\n",
    "print(sys.version)  # sys is now imported\n",
    "\n",
    "lister = []\n",
    "exec(\"lister.append(42)\")  # can mutate the environment\n",
    "print(lister)\n",
    "\n",
    "exec(\"x = 1; x += 2; print(x)\")  # can have multiple statements\n",
    "\n",
    "print(exec(\"\"))  # exec returns None\n",
    "\n",
    "exec(\"print({} + {})\".format(1, 2))  # you can dynamically generate a string"
   ]
  },
  {
   "cell_type": "code",
   "execution_count": 2,
   "metadata": {},
   "outputs": [
    {
     "name": "stdout",
     "output_type": "stream",
     "text": [
      "HI\n",
      "None\n"
     ]
    }
   ],
   "source": [
    "print(print(\"HI\"))  # the inner print() returns None. This syntax cannot be used in Python 2"
   ]
  },
  {
   "cell_type": "markdown",
   "metadata": {},
   "source": [
    "`eval()` is bit safer: you are allowed 1 expression, no statement. If you put an expression, you can save that value."
   ]
  },
  {
   "cell_type": "code",
   "execution_count": 3,
   "metadata": {},
   "outputs": [
    {
     "name": "stdout",
     "output_type": "stream",
     "text": [
      "3\n"
     ]
    }
   ],
   "source": [
    "x = eval(\"1 + 2\")\n",
    "print(x)"
   ]
  },
  {
   "cell_type": "code",
   "execution_count": 4,
   "metadata": {},
   "outputs": [
    {
     "name": "stdout",
     "output_type": "stream",
     "text": [
      "(1, 2, 3, 4)\n"
     ]
    }
   ],
   "source": [
    "print(eval(\"(1, 2) + (3, 4)\"))  # no statement, the expression must return something"
   ]
  },
  {
   "cell_type": "code",
   "execution_count": 5,
   "metadata": {},
   "outputs": [
    {
     "ename": "SyntaxError",
     "evalue": "invalid syntax (<string>, line 1)",
     "output_type": "error",
     "traceback": [
      "Traceback \u001b[1;36m(most recent call last)\u001b[0m:\n",
      "  File \u001b[0;32m\"C:\\Users\\Eugene\\anaconda3\\lib\\site-packages\\IPython\\core\\interactiveshell.py\"\u001b[0m, line \u001b[0;32m3331\u001b[0m, in \u001b[0;35mrun_code\u001b[0m\n    exec(code_obj, self.user_global_ns, self.user_ns)\n",
      "\u001b[1;36m  File \u001b[1;32m\"<ipython-input-5-f13f9b5031c6>\"\u001b[1;36m, line \u001b[1;32m1\u001b[1;36m, in \u001b[1;35m<module>\u001b[1;36m\u001b[0m\n\u001b[1;33m    eval(\"1 + 2; 3 + 4\") # only 1 expression\u001b[0m\n",
      "\u001b[1;36m  File \u001b[1;32m\"<string>\"\u001b[1;36m, line \u001b[1;32m1\u001b[0m\n\u001b[1;33m    1 + 2; 3 + 4\u001b[0m\n\u001b[1;37m         ^\u001b[0m\n\u001b[1;31mSyntaxError\u001b[0m\u001b[1;31m:\u001b[0m invalid syntax\n"
     ]
    }
   ],
   "source": [
    "eval(\"1 + 2; 3 + 4\")  # only 1 expression"
   ]
  },
  {
   "cell_type": "code",
   "execution_count": 6,
   "metadata": {},
   "outputs": [
    {
     "ename": "SyntaxError",
     "evalue": "invalid syntax (<string>, line 1)",
     "output_type": "error",
     "traceback": [
      "Traceback \u001b[1;36m(most recent call last)\u001b[0m:\n",
      "  File \u001b[0;32m\"C:\\Users\\Eugene\\anaconda3\\lib\\site-packages\\IPython\\core\\interactiveshell.py\"\u001b[0m, line \u001b[0;32m3331\u001b[0m, in \u001b[0;35mrun_code\u001b[0m\n    exec(code_obj, self.user_global_ns, self.user_ns)\n",
      "\u001b[1;36m  File \u001b[1;32m\"<ipython-input-6-da023a993526>\"\u001b[1;36m, line \u001b[1;32m1\u001b[1;36m, in \u001b[1;35m<module>\u001b[1;36m\u001b[0m\n\u001b[1;33m    eval(\"x = 10\") # no statement, the expression must return something\u001b[0m\n",
      "\u001b[1;36m  File \u001b[1;32m\"<string>\"\u001b[1;36m, line \u001b[1;32m1\u001b[0m\n\u001b[1;33m    x = 10\u001b[0m\n\u001b[1;37m      ^\u001b[0m\n\u001b[1;31mSyntaxError\u001b[0m\u001b[1;31m:\u001b[0m invalid syntax\n"
     ]
    }
   ],
   "source": [
    "eval(\"x = 10\")  # no statement, the expression must return something"
   ]
  },
  {
   "cell_type": "markdown",
   "metadata": {},
   "source": [
    "There's an even safer option: `ast.literal_eval`, which on evaluates 1 literal object. It cannot understand variables."
   ]
  },
  {
   "cell_type": "code",
   "execution_count": 7,
   "metadata": {},
   "outputs": [
    {
     "name": "stdout",
     "output_type": "stream",
     "text": [
      "1 None () True\n"
     ]
    }
   ],
   "source": [
    "import ast\n",
    "\n",
    "print(ast.literal_eval(\"1\"), ast.literal_eval(\"None\"), ast.literal_eval(\"()\"), ast.literal_eval(\"True\"))"
   ]
  },
  {
   "cell_type": "code",
   "execution_count": 8,
   "metadata": {},
   "outputs": [
    {
     "name": "stdout",
     "output_type": "stream",
     "text": [
      "[]\n"
     ]
    },
    {
     "ename": "ValueError",
     "evalue": "malformed node or string: <_ast.List object at 0x00000293C1AFE608>",
     "output_type": "error",
     "traceback": [
      "\u001b[1;31m---------------------------------------------------------------------------\u001b[0m",
      "\u001b[1;31mValueError\u001b[0m                                Traceback (most recent call last)",
      "\u001b[1;32m<ipython-input-8-3cd6619212bc>\u001b[0m in \u001b[0;36m<module>\u001b[1;34m\u001b[0m\n\u001b[0;32m      1\u001b[0m \u001b[0mprint\u001b[0m\u001b[1;33m(\u001b[0m\u001b[0meval\u001b[0m\u001b[1;33m(\u001b[0m\u001b[1;34m\"[] + []\"\u001b[0m\u001b[1;33m)\u001b[0m\u001b[1;33m)\u001b[0m\u001b[1;33m\u001b[0m\u001b[1;33m\u001b[0m\u001b[0m\n\u001b[1;32m----> 2\u001b[1;33m \u001b[0mprint\u001b[0m\u001b[1;33m(\u001b[0m\u001b[0mast\u001b[0m\u001b[1;33m.\u001b[0m\u001b[0mliteral_eval\u001b[0m\u001b[1;33m(\u001b[0m\u001b[1;34m\"[] + []\"\u001b[0m\u001b[1;33m)\u001b[0m\u001b[1;33m)\u001b[0m \u001b[1;31m# not 1 element\u001b[0m\u001b[1;33m\u001b[0m\u001b[1;33m\u001b[0m\u001b[0m\n\u001b[0m",
      "\u001b[1;32m~\\anaconda3\\lib\\ast.py\u001b[0m in \u001b[0;36mliteral_eval\u001b[1;34m(node_or_string)\u001b[0m\n\u001b[0;32m     89\u001b[0m                     \u001b[1;32mreturn\u001b[0m \u001b[0mleft\u001b[0m \u001b[1;33m-\u001b[0m \u001b[0mright\u001b[0m\u001b[1;33m\u001b[0m\u001b[1;33m\u001b[0m\u001b[0m\n\u001b[0;32m     90\u001b[0m         \u001b[1;32mreturn\u001b[0m \u001b[0m_convert_signed_num\u001b[0m\u001b[1;33m(\u001b[0m\u001b[0mnode\u001b[0m\u001b[1;33m)\u001b[0m\u001b[1;33m\u001b[0m\u001b[1;33m\u001b[0m\u001b[0m\n\u001b[1;32m---> 91\u001b[1;33m     \u001b[1;32mreturn\u001b[0m \u001b[0m_convert\u001b[0m\u001b[1;33m(\u001b[0m\u001b[0mnode_or_string\u001b[0m\u001b[1;33m)\u001b[0m\u001b[1;33m\u001b[0m\u001b[1;33m\u001b[0m\u001b[0m\n\u001b[0m\u001b[0;32m     92\u001b[0m \u001b[1;33m\u001b[0m\u001b[0m\n\u001b[0;32m     93\u001b[0m \u001b[1;33m\u001b[0m\u001b[0m\n",
      "\u001b[1;32m~\\anaconda3\\lib\\ast.py\u001b[0m in \u001b[0;36m_convert\u001b[1;34m(node)\u001b[0m\n\u001b[0;32m     81\u001b[0m             \u001b[1;32mreturn\u001b[0m \u001b[0mnode\u001b[0m\u001b[1;33m.\u001b[0m\u001b[0mvalue\u001b[0m\u001b[1;33m\u001b[0m\u001b[1;33m\u001b[0m\u001b[0m\n\u001b[0;32m     82\u001b[0m         \u001b[1;32melif\u001b[0m \u001b[0misinstance\u001b[0m\u001b[1;33m(\u001b[0m\u001b[0mnode\u001b[0m\u001b[1;33m,\u001b[0m \u001b[0mBinOp\u001b[0m\u001b[1;33m)\u001b[0m \u001b[1;32mand\u001b[0m \u001b[0misinstance\u001b[0m\u001b[1;33m(\u001b[0m\u001b[0mnode\u001b[0m\u001b[1;33m.\u001b[0m\u001b[0mop\u001b[0m\u001b[1;33m,\u001b[0m \u001b[1;33m(\u001b[0m\u001b[0mAdd\u001b[0m\u001b[1;33m,\u001b[0m \u001b[0mSub\u001b[0m\u001b[1;33m)\u001b[0m\u001b[1;33m)\u001b[0m\u001b[1;33m:\u001b[0m\u001b[1;33m\u001b[0m\u001b[1;33m\u001b[0m\u001b[0m\n\u001b[1;32m---> 83\u001b[1;33m             \u001b[0mleft\u001b[0m \u001b[1;33m=\u001b[0m \u001b[0m_convert_signed_num\u001b[0m\u001b[1;33m(\u001b[0m\u001b[0mnode\u001b[0m\u001b[1;33m.\u001b[0m\u001b[0mleft\u001b[0m\u001b[1;33m)\u001b[0m\u001b[1;33m\u001b[0m\u001b[1;33m\u001b[0m\u001b[0m\n\u001b[0m\u001b[0;32m     84\u001b[0m             \u001b[0mright\u001b[0m \u001b[1;33m=\u001b[0m \u001b[0m_convert_num\u001b[0m\u001b[1;33m(\u001b[0m\u001b[0mnode\u001b[0m\u001b[1;33m.\u001b[0m\u001b[0mright\u001b[0m\u001b[1;33m)\u001b[0m\u001b[1;33m\u001b[0m\u001b[1;33m\u001b[0m\u001b[0m\n\u001b[0;32m     85\u001b[0m             \u001b[1;32mif\u001b[0m \u001b[0misinstance\u001b[0m\u001b[1;33m(\u001b[0m\u001b[0mleft\u001b[0m\u001b[1;33m,\u001b[0m \u001b[1;33m(\u001b[0m\u001b[0mint\u001b[0m\u001b[1;33m,\u001b[0m \u001b[0mfloat\u001b[0m\u001b[1;33m)\u001b[0m\u001b[1;33m)\u001b[0m \u001b[1;32mand\u001b[0m \u001b[0misinstance\u001b[0m\u001b[1;33m(\u001b[0m\u001b[0mright\u001b[0m\u001b[1;33m,\u001b[0m \u001b[0mcomplex\u001b[0m\u001b[1;33m)\u001b[0m\u001b[1;33m:\u001b[0m\u001b[1;33m\u001b[0m\u001b[1;33m\u001b[0m\u001b[0m\n",
      "\u001b[1;32m~\\anaconda3\\lib\\ast.py\u001b[0m in \u001b[0;36m_convert_signed_num\u001b[1;34m(node)\u001b[0m\n\u001b[0;32m     61\u001b[0m             \u001b[1;32melse\u001b[0m\u001b[1;33m:\u001b[0m\u001b[1;33m\u001b[0m\u001b[1;33m\u001b[0m\u001b[0m\n\u001b[0;32m     62\u001b[0m                 \u001b[1;32mreturn\u001b[0m \u001b[1;33m-\u001b[0m \u001b[0moperand\u001b[0m\u001b[1;33m\u001b[0m\u001b[1;33m\u001b[0m\u001b[0m\n\u001b[1;32m---> 63\u001b[1;33m         \u001b[1;32mreturn\u001b[0m \u001b[0m_convert_num\u001b[0m\u001b[1;33m(\u001b[0m\u001b[0mnode\u001b[0m\u001b[1;33m)\u001b[0m\u001b[1;33m\u001b[0m\u001b[1;33m\u001b[0m\u001b[0m\n\u001b[0m\u001b[0;32m     64\u001b[0m     \u001b[1;32mdef\u001b[0m \u001b[0m_convert\u001b[0m\u001b[1;33m(\u001b[0m\u001b[0mnode\u001b[0m\u001b[1;33m)\u001b[0m\u001b[1;33m:\u001b[0m\u001b[1;33m\u001b[0m\u001b[1;33m\u001b[0m\u001b[0m\n\u001b[0;32m     65\u001b[0m         \u001b[1;32mif\u001b[0m \u001b[0misinstance\u001b[0m\u001b[1;33m(\u001b[0m\u001b[0mnode\u001b[0m\u001b[1;33m,\u001b[0m \u001b[0mConstant\u001b[0m\u001b[1;33m)\u001b[0m\u001b[1;33m:\u001b[0m\u001b[1;33m\u001b[0m\u001b[1;33m\u001b[0m\u001b[0m\n",
      "\u001b[1;32m~\\anaconda3\\lib\\ast.py\u001b[0m in \u001b[0;36m_convert_num\u001b[1;34m(node)\u001b[0m\n\u001b[0;32m     53\u001b[0m         \u001b[1;32melif\u001b[0m \u001b[0misinstance\u001b[0m\u001b[1;33m(\u001b[0m\u001b[0mnode\u001b[0m\u001b[1;33m,\u001b[0m \u001b[0mNum\u001b[0m\u001b[1;33m)\u001b[0m\u001b[1;33m:\u001b[0m\u001b[1;33m\u001b[0m\u001b[1;33m\u001b[0m\u001b[0m\n\u001b[0;32m     54\u001b[0m             \u001b[1;32mreturn\u001b[0m \u001b[0mnode\u001b[0m\u001b[1;33m.\u001b[0m\u001b[0mn\u001b[0m\u001b[1;33m\u001b[0m\u001b[1;33m\u001b[0m\u001b[0m\n\u001b[1;32m---> 55\u001b[1;33m         \u001b[1;32mraise\u001b[0m \u001b[0mValueError\u001b[0m\u001b[1;33m(\u001b[0m\u001b[1;34m'malformed node or string: '\u001b[0m \u001b[1;33m+\u001b[0m \u001b[0mrepr\u001b[0m\u001b[1;33m(\u001b[0m\u001b[0mnode\u001b[0m\u001b[1;33m)\u001b[0m\u001b[1;33m)\u001b[0m\u001b[1;33m\u001b[0m\u001b[1;33m\u001b[0m\u001b[0m\n\u001b[0m\u001b[0;32m     56\u001b[0m     \u001b[1;32mdef\u001b[0m \u001b[0m_convert_signed_num\u001b[0m\u001b[1;33m(\u001b[0m\u001b[0mnode\u001b[0m\u001b[1;33m)\u001b[0m\u001b[1;33m:\u001b[0m\u001b[1;33m\u001b[0m\u001b[1;33m\u001b[0m\u001b[0m\n\u001b[0;32m     57\u001b[0m         \u001b[1;32mif\u001b[0m \u001b[0misinstance\u001b[0m\u001b[1;33m(\u001b[0m\u001b[0mnode\u001b[0m\u001b[1;33m,\u001b[0m \u001b[0mUnaryOp\u001b[0m\u001b[1;33m)\u001b[0m \u001b[1;32mand\u001b[0m \u001b[0misinstance\u001b[0m\u001b[1;33m(\u001b[0m\u001b[0mnode\u001b[0m\u001b[1;33m.\u001b[0m\u001b[0mop\u001b[0m\u001b[1;33m,\u001b[0m \u001b[1;33m(\u001b[0m\u001b[0mUAdd\u001b[0m\u001b[1;33m,\u001b[0m \u001b[0mUSub\u001b[0m\u001b[1;33m)\u001b[0m\u001b[1;33m)\u001b[0m\u001b[1;33m:\u001b[0m\u001b[1;33m\u001b[0m\u001b[1;33m\u001b[0m\u001b[0m\n",
      "\u001b[1;31mValueError\u001b[0m: malformed node or string: <_ast.List object at 0x00000293C1AFE608>"
     ]
    }
   ],
   "source": [
    "print(eval(\"[] + []\"))\n",
    "print(ast.literal_eval(\"[] + []\"))  # not 1 element"
   ]
  },
  {
   "cell_type": "code",
   "execution_count": 9,
   "metadata": {},
   "outputs": [
    {
     "name": "stdout",
     "output_type": "stream",
     "text": [
      "1\n"
     ]
    },
    {
     "ename": "ValueError",
     "evalue": "malformed node or string: <_ast.Name object at 0x00000293C19E10C8>",
     "output_type": "error",
     "traceback": [
      "\u001b[1;31m---------------------------------------------------------------------------\u001b[0m",
      "\u001b[1;31mValueError\u001b[0m                                Traceback (most recent call last)",
      "\u001b[1;32m<ipython-input-9-2e06357c9d50>\u001b[0m in \u001b[0;36m<module>\u001b[1;34m\u001b[0m\n\u001b[0;32m      1\u001b[0m \u001b[0mx\u001b[0m \u001b[1;33m=\u001b[0m \u001b[1;36m1\u001b[0m\u001b[1;33m\u001b[0m\u001b[1;33m\u001b[0m\u001b[0m\n\u001b[0;32m      2\u001b[0m \u001b[0mprint\u001b[0m\u001b[1;33m(\u001b[0m\u001b[0meval\u001b[0m\u001b[1;33m(\u001b[0m\u001b[1;34m\"x\"\u001b[0m\u001b[1;33m)\u001b[0m\u001b[1;33m)\u001b[0m\u001b[1;33m\u001b[0m\u001b[1;33m\u001b[0m\u001b[0m\n\u001b[1;32m----> 3\u001b[1;33m \u001b[0mprint\u001b[0m\u001b[1;33m(\u001b[0m\u001b[0mast\u001b[0m\u001b[1;33m.\u001b[0m\u001b[0mliteral_eval\u001b[0m\u001b[1;33m(\u001b[0m\u001b[1;34m\"x\"\u001b[0m\u001b[1;33m)\u001b[0m\u001b[1;33m)\u001b[0m \u001b[1;31m# not a literal object, is a variable\u001b[0m\u001b[1;33m\u001b[0m\u001b[1;33m\u001b[0m\u001b[0m\n\u001b[0m",
      "\u001b[1;32m~\\anaconda3\\lib\\ast.py\u001b[0m in \u001b[0;36mliteral_eval\u001b[1;34m(node_or_string)\u001b[0m\n\u001b[0;32m     89\u001b[0m                     \u001b[1;32mreturn\u001b[0m \u001b[0mleft\u001b[0m \u001b[1;33m-\u001b[0m \u001b[0mright\u001b[0m\u001b[1;33m\u001b[0m\u001b[1;33m\u001b[0m\u001b[0m\n\u001b[0;32m     90\u001b[0m         \u001b[1;32mreturn\u001b[0m \u001b[0m_convert_signed_num\u001b[0m\u001b[1;33m(\u001b[0m\u001b[0mnode\u001b[0m\u001b[1;33m)\u001b[0m\u001b[1;33m\u001b[0m\u001b[1;33m\u001b[0m\u001b[0m\n\u001b[1;32m---> 91\u001b[1;33m     \u001b[1;32mreturn\u001b[0m \u001b[0m_convert\u001b[0m\u001b[1;33m(\u001b[0m\u001b[0mnode_or_string\u001b[0m\u001b[1;33m)\u001b[0m\u001b[1;33m\u001b[0m\u001b[1;33m\u001b[0m\u001b[0m\n\u001b[0m\u001b[0;32m     92\u001b[0m \u001b[1;33m\u001b[0m\u001b[0m\n\u001b[0;32m     93\u001b[0m \u001b[1;33m\u001b[0m\u001b[0m\n",
      "\u001b[1;32m~\\anaconda3\\lib\\ast.py\u001b[0m in \u001b[0;36m_convert\u001b[1;34m(node)\u001b[0m\n\u001b[0;32m     88\u001b[0m                 \u001b[1;32melse\u001b[0m\u001b[1;33m:\u001b[0m\u001b[1;33m\u001b[0m\u001b[1;33m\u001b[0m\u001b[0m\n\u001b[0;32m     89\u001b[0m                     \u001b[1;32mreturn\u001b[0m \u001b[0mleft\u001b[0m \u001b[1;33m-\u001b[0m \u001b[0mright\u001b[0m\u001b[1;33m\u001b[0m\u001b[1;33m\u001b[0m\u001b[0m\n\u001b[1;32m---> 90\u001b[1;33m         \u001b[1;32mreturn\u001b[0m \u001b[0m_convert_signed_num\u001b[0m\u001b[1;33m(\u001b[0m\u001b[0mnode\u001b[0m\u001b[1;33m)\u001b[0m\u001b[1;33m\u001b[0m\u001b[1;33m\u001b[0m\u001b[0m\n\u001b[0m\u001b[0;32m     91\u001b[0m     \u001b[1;32mreturn\u001b[0m \u001b[0m_convert\u001b[0m\u001b[1;33m(\u001b[0m\u001b[0mnode_or_string\u001b[0m\u001b[1;33m)\u001b[0m\u001b[1;33m\u001b[0m\u001b[1;33m\u001b[0m\u001b[0m\n\u001b[0;32m     92\u001b[0m \u001b[1;33m\u001b[0m\u001b[0m\n",
      "\u001b[1;32m~\\anaconda3\\lib\\ast.py\u001b[0m in \u001b[0;36m_convert_signed_num\u001b[1;34m(node)\u001b[0m\n\u001b[0;32m     61\u001b[0m             \u001b[1;32melse\u001b[0m\u001b[1;33m:\u001b[0m\u001b[1;33m\u001b[0m\u001b[1;33m\u001b[0m\u001b[0m\n\u001b[0;32m     62\u001b[0m                 \u001b[1;32mreturn\u001b[0m \u001b[1;33m-\u001b[0m \u001b[0moperand\u001b[0m\u001b[1;33m\u001b[0m\u001b[1;33m\u001b[0m\u001b[0m\n\u001b[1;32m---> 63\u001b[1;33m         \u001b[1;32mreturn\u001b[0m \u001b[0m_convert_num\u001b[0m\u001b[1;33m(\u001b[0m\u001b[0mnode\u001b[0m\u001b[1;33m)\u001b[0m\u001b[1;33m\u001b[0m\u001b[1;33m\u001b[0m\u001b[0m\n\u001b[0m\u001b[0;32m     64\u001b[0m     \u001b[1;32mdef\u001b[0m \u001b[0m_convert\u001b[0m\u001b[1;33m(\u001b[0m\u001b[0mnode\u001b[0m\u001b[1;33m)\u001b[0m\u001b[1;33m:\u001b[0m\u001b[1;33m\u001b[0m\u001b[1;33m\u001b[0m\u001b[0m\n\u001b[0;32m     65\u001b[0m         \u001b[1;32mif\u001b[0m \u001b[0misinstance\u001b[0m\u001b[1;33m(\u001b[0m\u001b[0mnode\u001b[0m\u001b[1;33m,\u001b[0m \u001b[0mConstant\u001b[0m\u001b[1;33m)\u001b[0m\u001b[1;33m:\u001b[0m\u001b[1;33m\u001b[0m\u001b[1;33m\u001b[0m\u001b[0m\n",
      "\u001b[1;32m~\\anaconda3\\lib\\ast.py\u001b[0m in \u001b[0;36m_convert_num\u001b[1;34m(node)\u001b[0m\n\u001b[0;32m     53\u001b[0m         \u001b[1;32melif\u001b[0m \u001b[0misinstance\u001b[0m\u001b[1;33m(\u001b[0m\u001b[0mnode\u001b[0m\u001b[1;33m,\u001b[0m \u001b[0mNum\u001b[0m\u001b[1;33m)\u001b[0m\u001b[1;33m:\u001b[0m\u001b[1;33m\u001b[0m\u001b[1;33m\u001b[0m\u001b[0m\n\u001b[0;32m     54\u001b[0m             \u001b[1;32mreturn\u001b[0m \u001b[0mnode\u001b[0m\u001b[1;33m.\u001b[0m\u001b[0mn\u001b[0m\u001b[1;33m\u001b[0m\u001b[1;33m\u001b[0m\u001b[0m\n\u001b[1;32m---> 55\u001b[1;33m         \u001b[1;32mraise\u001b[0m \u001b[0mValueError\u001b[0m\u001b[1;33m(\u001b[0m\u001b[1;34m'malformed node or string: '\u001b[0m \u001b[1;33m+\u001b[0m \u001b[0mrepr\u001b[0m\u001b[1;33m(\u001b[0m\u001b[0mnode\u001b[0m\u001b[1;33m)\u001b[0m\u001b[1;33m)\u001b[0m\u001b[1;33m\u001b[0m\u001b[1;33m\u001b[0m\u001b[0m\n\u001b[0m\u001b[0;32m     56\u001b[0m     \u001b[1;32mdef\u001b[0m \u001b[0m_convert_signed_num\u001b[0m\u001b[1;33m(\u001b[0m\u001b[0mnode\u001b[0m\u001b[1;33m)\u001b[0m\u001b[1;33m:\u001b[0m\u001b[1;33m\u001b[0m\u001b[1;33m\u001b[0m\u001b[0m\n\u001b[0;32m     57\u001b[0m         \u001b[1;32mif\u001b[0m \u001b[0misinstance\u001b[0m\u001b[1;33m(\u001b[0m\u001b[0mnode\u001b[0m\u001b[1;33m,\u001b[0m \u001b[0mUnaryOp\u001b[0m\u001b[1;33m)\u001b[0m \u001b[1;32mand\u001b[0m \u001b[0misinstance\u001b[0m\u001b[1;33m(\u001b[0m\u001b[0mnode\u001b[0m\u001b[1;33m.\u001b[0m\u001b[0mop\u001b[0m\u001b[1;33m,\u001b[0m \u001b[1;33m(\u001b[0m\u001b[0mUAdd\u001b[0m\u001b[1;33m,\u001b[0m \u001b[0mUSub\u001b[0m\u001b[1;33m)\u001b[0m\u001b[1;33m)\u001b[0m\u001b[1;33m:\u001b[0m\u001b[1;33m\u001b[0m\u001b[1;33m\u001b[0m\u001b[0m\n",
      "\u001b[1;31mValueError\u001b[0m: malformed node or string: <_ast.Name object at 0x00000293C19E10C8>"
     ]
    }
   ],
   "source": [
    "x = 1\n",
    "print(eval(\"x\"))\n",
    "print(ast.literal_eval(\"x\"))  # not a literal object, is a variable"
   ]
  },
  {
   "cell_type": "code",
   "execution_count": null,
   "metadata": {},
   "outputs": [],
   "source": []
  },
  {
   "cell_type": "markdown",
   "metadata": {},
   "source": [
    "## Don't Use Mutable Default Arguments\n",
    "The function definition (or importing a module/function) will immediately execute the function signature. Hence, default arguments are executed immediately and only 1 time; the default arguments are not executed for every function call."
   ]
  },
  {
   "cell_type": "code",
   "execution_count": 1,
   "metadata": {},
   "outputs": [
    {
     "name": "stdout",
     "output_type": "stream",
     "text": [
      "this feels weird\n"
     ]
    }
   ],
   "source": [
    "def silly_func(element=print(\"this feels weird\")):  # the print is immediate\n",
    "    print(element)  # the return of a print function is None"
   ]
  },
  {
   "cell_type": "code",
   "execution_count": 2,
   "metadata": {},
   "outputs": [
    {
     "name": "stdout",
     "output_type": "stream",
     "text": [
      "None\n"
     ]
    }
   ],
   "source": [
    "silly_func()"
   ]
  },
  {
   "cell_type": "code",
   "execution_count": 3,
   "metadata": {},
   "outputs": [
    {
     "name": "stdout",
     "output_type": "stream",
     "text": [
      "['hi', 'thanks', 'bye']\n",
      "['bye']\n",
      "['bye', 'bye']\n",
      "['bye', 'bye', 'bye']\n"
     ]
    }
   ],
   "source": [
    "def extender(sequence, lst=[]):\n",
    "    lst += sequence  # equivalent to lst.extend(sequence)\n",
    "    return lst\n",
    "\n",
    "lst = [\"hi\", \"thanks\"]\n",
    "print(extender([\"bye\"], lst))  # looks normal\n",
    "\n",
    "print(extender([\"bye\"]))  # looks normal\n",
    "print(extender([\"bye\"]))  # something is off\n",
    "print(extender([\"bye\"]))  # something is definitely wrong"
   ]
  },
  {
   "cell_type": "code",
   "execution_count": 4,
   "metadata": {},
   "outputs": [
    {
     "name": "stdout",
     "output_type": "stream",
     "text": [
      "['bye', 'bye', 'bye', None, 0, 1, 2, 3, 4, 5, 6, 7, 8, 9, 'b', 'y', 'e']\n"
     ]
    }
   ],
   "source": [
    "the_function_argument = extender([None])  # because the variable returned, we can save it\n",
    "for i in range(10):\n",
    "    the_function_argument.append(i)\n",
    "\n",
    "print(extender(\"bye\"))"
   ]
  },
  {
   "cell_type": "code",
   "execution_count": 5,
   "metadata": {},
   "outputs": [
    {
     "data": {
      "text/plain": [
       "(['bye', 'bye', 'bye', None, 0, 1, 2, 3, 4, 5, 6, 7, 8, 9, 'b', 'y', 'e'],)"
      ]
     },
     "execution_count": 5,
     "metadata": {},
     "output_type": "execute_result"
    }
   ],
   "source": [
    "extender.__defaults__  # this is how you can inspect the function's default argument"
   ]
  },
  {
   "cell_type": "markdown",
   "metadata": {},
   "source": [
    "This problem does not occur with immutable default arguments."
   ]
  },
  {
   "cell_type": "code",
   "execution_count": 6,
   "metadata": {},
   "outputs": [
    {
     "name": "stdout",
     "output_type": "stream",
     "text": [
      "abcabc\n",
      "abcabc\n",
      "('abc',)\n"
     ]
    }
   ],
   "source": [
    "def string_doubler(string=\"abc\"):\n",
    "    string += string\n",
    "    return string\n",
    "\n",
    "print(string_doubler())\n",
    "print(string_doubler())  # totally safe\n",
    "print(string_doubler.__defaults__)"
   ]
  },
  {
   "cell_type": "code",
   "execution_count": 7,
   "metadata": {},
   "outputs": [
    {
     "name": "stdout",
     "output_type": "stream",
     "text": [
      "('x', 'y', 'z', 'x', 'y', 'z')\n",
      "('x', 'y', 'z', 'x', 'y', 'z')\n",
      "(('x', 'y', 'z'),)\n"
     ]
    }
   ],
   "source": [
    "def tuple_doubler(tup=(\"x\", \"y\", \"z\")):\n",
    "    tup += tup\n",
    "    return tup\n",
    "\n",
    "print(tuple_doubler())\n",
    "print(tuple_doubler())  # totally safe\n",
    "print(tuple_doubler.__defaults__)"
   ]
  },
  {
   "cell_type": "markdown",
   "metadata": {},
   "source": [
    "To avoid this problem with mutable default arguments, use an immutable default instead. The usual solution is to use `None` and in the 1st lines to replace with the mutable default argument that you really want."
   ]
  },
  {
   "cell_type": "code",
   "execution_count": 8,
   "metadata": {},
   "outputs": [
    {
     "name": "stdout",
     "output_type": "stream",
     "text": [
      "['hi', 'thanks', 'bye']\n",
      "['bye']\n",
      "['bye']\n",
      "['bye']\n",
      "(None,)\n"
     ]
    }
   ],
   "source": [
    "def extender_corrected(sequence, lst=None):\n",
    "    lst = lst if lst is not None else []  # this line is run every function call, so the list is new every time\n",
    "    lst += sequence\n",
    "    return lst\n",
    "\n",
    "lst = [\"hi\", \"thanks\"]\n",
    "print(extender_corrected([\"bye\"], lst))  # looks normal\n",
    "\n",
    "print(extender_corrected([\"bye\"]))  # looks normal\n",
    "print(extender_corrected([\"bye\"]))  # fixed\n",
    "print(extender_corrected([\"bye\"]))  # fixed\n",
    "\n",
    "print(extender_corrected.__defaults__)"
   ]
  },
  {
   "cell_type": "code",
   "execution_count": 9,
   "metadata": {},
   "outputs": [
    {
     "name": "stdout",
     "output_type": "stream",
     "text": [
      "{'late?': 'you get the leftovers'}\n",
      "{'hungry?': 'you get the leftovers'}\n",
      "{'famished?': 'you get the leftovers'}\n",
      "{'Uncle Bob?': 'you get the leftovers'}\n",
      "('you get the leftovers', None)\n"
     ]
    }
   ],
   "source": [
    "def horrible_default_dict_implementation(\n",
    "    key,\n",
    "    default_value=\"you get the leftovers\",  # string is immutable so safe to put as default argument\n",
    "    dct=None,  # dict is mutable so not safe to put as default argument\n",
    "):\n",
    "    dct = dct if dct is not None else {}  # this line is run every function call, so the dict is new every time\n",
    "    if key not in dct:\n",
    "        dct[key] = default_value\n",
    "    return dct\n",
    "\n",
    "dct = {}\n",
    "print(horrible_default_dict_implementation(\"late?\", dct=dct))  # looks normal\n",
    "\n",
    "print(horrible_default_dict_implementation(\"hungry?\"))  # looks normal\n",
    "print(horrible_default_dict_implementation(\"famished?\"))  # still works\n",
    "print(horrible_default_dict_implementation(\"Uncle Bob?\"))  # still works\n",
    "\n",
    "print(horrible_default_dict_implementation.__defaults__)"
   ]
  },
  {
   "cell_type": "markdown",
   "metadata": {},
   "source": [
    "**Fun Fact Time!**\n",
    "<p align=\"center\"><img src=\"images/party_emoji.jpg\" width=70></p>\n",
    "As mention, the function definition (or importing a module/function) will immediately execute the function signature. However, the function body should NOT be executed. In reality, it is *kinda* executed. Python is a peeping tom! Python has something called peephole optimization that will try to reduce instructions into simpler instructions to run faster. This is implementation specific, so don't rely on it too much."
   ]
  },
  {
   "cell_type": "code",
   "execution_count": 10,
   "metadata": {},
   "outputs": [
    {
     "data": {
      "text/plain": [
       "True"
      ]
     },
     "execution_count": 10,
     "metadata": {},
     "output_type": "execute_result"
    }
   ],
   "source": [
    "def silly_func():\n",
    "    string = \"abc\" + \"xyz\"  # peephole optimized\n",
    "    return string\n",
    "\n",
    "def functionally_equivalent_silly_func():\n",
    "    string1 = \"abc\"\n",
    "    string2 = \"xyz\"\n",
    "    string = string1 + string2  # not peephole optimized\n",
    "    return string\n",
    "\n",
    "silly_func() == functionally_equivalent_silly_func()"
   ]
  },
  {
   "cell_type": "code",
   "execution_count": 11,
   "metadata": {},
   "outputs": [
    {
     "name": "stdout",
     "output_type": "stream",
     "text": [
      "  2           0 LOAD_CONST               1 ('abcxyz')\n",
      "              2 STORE_FAST               0 (string)\n",
      "\n",
      "  3           4 LOAD_FAST                0 (string)\n",
      "              6 RETURN_VALUE\n"
     ]
    }
   ],
   "source": [
    "import dis\n",
    "\n",
    "dis.dis(silly_func)  # simplified instruction"
   ]
  },
  {
   "cell_type": "code",
   "execution_count": 12,
   "metadata": {},
   "outputs": [
    {
     "name": "stdout",
     "output_type": "stream",
     "text": [
      "  6           0 LOAD_CONST               1 ('abc')\n",
      "              2 STORE_FAST               0 (string1)\n",
      "\n",
      "  7           4 LOAD_CONST               2 ('xyz')\n",
      "              6 STORE_FAST               1 (string2)\n",
      "\n",
      "  8           8 LOAD_FAST                0 (string1)\n",
      "             10 LOAD_FAST                1 (string2)\n",
      "             12 BINARY_ADD\n",
      "             14 STORE_FAST               2 (string)\n",
      "\n",
      "  9          16 LOAD_FAST                2 (string)\n",
      "             18 RETURN_VALUE\n"
     ]
    }
   ],
   "source": [
    "dis.dis(functionally_equivalent_silly_func)  # unsimplified instruction"
   ]
  },
  {
   "cell_type": "markdown",
   "metadata": {},
   "source": [
    "Also at function definition time (or importing a module/function), Python's parser will look into the function body to determine if it is syntactically valid Python code, ie 2 things on both side of equals sign, valid variable names, not missing parenthesis, etc. If things are not kosher, then Python will raise `SyntaxError`."
   ]
  },
  {
   "cell_type": "code",
   "execution_count": 13,
   "metadata": {},
   "outputs": [
    {
     "ename": "SyntaxError",
     "evalue": "invalid syntax (<ipython-input-13-cef3b0c3f188>, line 2)",
     "output_type": "error",
     "traceback": [
      "\u001b[1;36m  File \u001b[1;32m\"<ipython-input-13-cef3b0c3f188>\"\u001b[1;36m, line \u001b[1;32m2\u001b[0m\n\u001b[1;33m    1 / # Python knows this is just not valid Python code\u001b[0m\n\u001b[1;37m                                                         ^\u001b[0m\n\u001b[1;31mSyntaxError\u001b[0m\u001b[1;31m:\u001b[0m invalid syntax\n"
     ]
    }
   ],
   "source": [
    "def invalid_func():\n",
    "    1 /  # Python knows this is just not valid Python code"
   ]
  },
  {
   "cell_type": "code",
   "execution_count": 14,
   "metadata": {},
   "outputs": [],
   "source": [
    "def valid_func():\n",
    "    1 / 0  # however Python is fine with this at function definition time; error will be raised during runtime"
   ]
  },
  {
   "cell_type": "code",
   "execution_count": null,
   "metadata": {},
   "outputs": [],
   "source": []
  },
  {
   "cell_type": "markdown",
   "metadata": {},
   "source": [
    "## Don't Fear Importing a Module Multiple Times\n",
    "Some people worry about importing a module multiple times. They think there's a time cost for each import. The truth is that only the 1st time does the import take time. You can import it thousands of times, and it would take no time. In fact, it's actually hard to get rid of an import after it's imported."
   ]
  },
  {
   "cell_type": "code",
   "execution_count": 1,
   "metadata": {},
   "outputs": [
    {
     "name": "stdout",
     "output_type": "stream",
     "text": [
      "Wall time: 1.98 s\n",
      "Wall time: 0 ns\n"
     ]
    }
   ],
   "source": [
    "%time import pandas as pd\n",
    "%time import pandas as pd  # fast as lightning"
   ]
  },
  {
   "cell_type": "code",
   "execution_count": 2,
   "metadata": {},
   "outputs": [
    {
     "name": "stdout",
     "output_type": "stream",
     "text": [
      "Wall time: 0 ns\n"
     ]
    }
   ],
   "source": [
    "%%time\n",
    "for _ in range(10000):\n",
    "    import pandas as pd"
   ]
  },
  {
   "cell_type": "code",
   "execution_count": 3,
   "metadata": {},
   "outputs": [],
   "source": [
    "del pd"
   ]
  },
  {
   "cell_type": "code",
   "execution_count": 4,
   "metadata": {},
   "outputs": [
    {
     "ename": "NameError",
     "evalue": "name 'pd' is not defined",
     "output_type": "error",
     "traceback": [
      "\u001b[1;31m---------------------------------------------------------------------------\u001b[0m",
      "\u001b[1;31mNameError\u001b[0m                                 Traceback (most recent call last)",
      "\u001b[1;32m<ipython-input-4-944b1918db40>\u001b[0m in \u001b[0;36m<module>\u001b[1;34m\u001b[0m\n\u001b[1;32m----> 1\u001b[1;33m \u001b[0mpd\u001b[0m \u001b[1;31m# you think it's gone\u001b[0m\u001b[1;33m\u001b[0m\u001b[1;33m\u001b[0m\u001b[0m\n\u001b[0m",
      "\u001b[1;31mNameError\u001b[0m: name 'pd' is not defined"
     ]
    }
   ],
   "source": [
    "pd  # you think it's gone"
   ]
  },
  {
   "cell_type": "code",
   "execution_count": 5,
   "metadata": {},
   "outputs": [
    {
     "name": "stdout",
     "output_type": "stream",
     "text": [
      "Wall time: 0 ns\n"
     ]
    }
   ],
   "source": [
    "%time import pandas as pd  # but it's still there!\n",
    "# In the previous line, the import stays alive, but just not accessible as `pd`"
   ]
  },
  {
   "cell_type": "code",
   "execution_count": null,
   "metadata": {},
   "outputs": [],
   "source": []
  },
  {
   "cell_type": "markdown",
   "metadata": {},
   "source": [
    "## (Extra) Fun Facts/Pedantic Details About 🐍\n",
    "Here are some things you can keep in your mind just for fun ✨. It is not very important to know (unless you want to argue with your friends about <i>pedantic</i> details like a <i>real</i> computer scientist! Ya know, like a pro...).\n",
    "\n",
    "#### Specification vs Implementation\n",
    "Often when we think of Python, we are really thinking of CPython. \"Python\" is really a specification--a blueprint/whitepaper for what the syntax and features should be. A specification has no code; it is an idea. An implementation is the actual code that builds and brings the specification into real life. There are multiple implementations of Python:\n",
    "* CPython: the most common one that most people use, implemented in C\n",
    "* PyPy: Python implemented in (restricted) Python. It's logo is a snake eating itself!\n",
    "* Jython: implemented in Java, so can interoperate with Java classes and libraries\n",
    "* IronPython: implemented in C#, so can interoperate with C#/CLR/.NET classes and libraries\n",
    "\n",
    "#### Interpreted vs Compiled\n",
    "We often hear that Python is an interpreted language. What does that mean?  \n",
    "An interpreted language executes the source code 1 line at a time. A compiled language \"compiles\" the entire source code file into machine code that is native to the hardware--hence your original code is translated into something non-human-readable but faster for the machine to process. Hence compiled languages like C tend to be faster than interpreted languages. Also in compiled languages, there are 2 types of errors: <i>compile-type errors</i> and <i>runtime errors</i>. The compilation step can discover compile-time error, which are invalid operations such as adding a list to a dictionary or syntax errors such as forgetting a closing parenthesis. Hence, the compilation step will not generate the machine code. Runtime error is running the machine code and discovering invalid logic such as dividing by 0. In interpreted languages (such as CPython), we primarily have runtime error (though we do have syntax error from parsing a function/class/module). Most errors/exceptions in CPython are runtime errors: adding a list to a dictionary and dividing by 0 is discovered at runtime.\n",
    "\n",
    "Do note that a language's <i>specification</i> is not compiled nor interpreted. It is the <i>implementation</i> that is compiled or interpreted. The main implementation of Python is CPython, which is interpreted: the bytecode is interpreted line-by-line by the Python Virtual Machine (often simply referred to as the Python interpreter). If you want to see a function's bytecode, you can use Python's dissambler module called `dis` to see what steps your function actually consists of.  \n",
    "\n",
    "#### Dynamically Typed vs Statically Typed\n",
    "Python is a dynamically typed language. What does that mean?  \n",
    "Early programming languages tended to be statically typed. This means you have to declare a variables along with its type, so that variable's type is known at all times and type errors can be determined at compile time. For example, in C you would write `int c = 42` and that variable would stay an integer. `c` cannot be 42.0 or \"42\" in the scope of that function (though another function with a variable `c` can be another type). Hence, the code becomes more verbose.  \n",
    "Dynamically typed languages allow a variable to change types. For example, in Python you can write `x = 42` and in the next line `x = \"42\"`--this is not possible in a statically typed language. In Python, you don't declare a variable's type, so code tends to be more succinct. However, type errors are discovered in runtime. For example, can you add 10 to `x`? Python doesn't know until it runs that line of code.\n",
    "\n",
    "One big advantage of interpreted languages is that you get an <i>interactive prompt</i> where you can run things 1 line at a time. This read-eval-print loop is called REPL and is very handy for quick-and-dirty code or debugging.  \n",
    "Python is a duck typed language, which is a special case of dynamic typed language. Basically, you can call a method on object without knowing its class. For example, you can run `x.pop()` and at runtime it will either run it successfully or give you an error because Python doesn't know until runtime if `x` is an instance of a class that has defined a `.pop()` method.\n",
    "\n",
    "#### Strongly Typed vs Weakly Typed\n",
    "Python is a strongly typed language. What does that mean?  \n",
    "A strongly typed language will not automatically convert an objects type. For example, in Python, you cannot do `\"2\" + 8`. Why would you ever want to do that? I don't know, but you CAN do that in a weakly typed language, which will automatically convert 1 type to another. In JavaScript, you can do the following horrendous things. <i>Wat</i>?\n",
    "* `[] + {}` -> `[object Object]`\n",
    "* `{} + []` -> 0\n",
    "* `\"wat\" - 1` -> \"wat1\"\n",
    "* `\"wat\" - 1` -> `NaN`\n",
    "\n",
    "#### Pass by Object\n",
    "Often there is a question of whether Python is `pass by value` or `pass by reference`. The answer is neither: Python is `pass by object`.\n",
    "* <i>Pass by value</i> is when in a function call, the variable is copied over, so there are 2 things with the same data. R is pass by value--that means when you pass a dataframe into a function, the dataframe is copied. If you mutate the dataframe inside an R function, nothing will happen to the original dataframe. \n",
    "* <i>Pass by reference</i> is that you pass in a memory address (a pointer) as the argument to the function, so if you change the variable <i>inside</i> the function call, then that variable is also changed <i>outside</i> of the function.\n",
    "* Python is <i>pass by object</i>. That means Python <i>appears</i> to be pass by value (when the variable does not change) and pass by reference (when the variable does change); it is dependent on the mutability of the object. When you pass in an immutable object (tuple, string, numeric [float, int, bool]), then the variable outside the function call will be not be changed by what happens inside the function call. When you pass in a mutable object (list, set, dictionary), then when the variable is changed inside the function, then it is also changed outside of the function.\n",
    "\n",
    "Remember, Python's assigment (=) NEVER copies data, not even in a function's argument assignment. The assignment just creates another name tag pointing to the same object."
   ]
  },
  {
   "cell_type": "code",
   "execution_count": 1,
   "metadata": {},
   "outputs": [
    {
     "name": "stdout",
     "output_type": "stream",
     "text": [
      "2193488123568 ML Study Group\n",
      "2193488362032 Hello ML Study Group\n",
      "2193488123568 ML Study Group\n"
     ]
    }
   ],
   "source": [
    "# immutable object remains unchanged\n",
    "def concatenate(string):\n",
    "    string = \"Hello \" + string  # this new `string` variable is no longer bound to the same object. \n",
    "    print(id(string), string)  # You have moved the \"name tag\" to a different object.\n",
    "\n",
    "string = \"ML Study Group\"\n",
    "print(id(string), string)\n",
    "concatenate(string)\n",
    "print(id(string), string)"
   ]
  },
  {
   "cell_type": "code",
   "execution_count": 2,
   "metadata": {
    "scrolled": true
   },
   "outputs": [
    {
     "name": "stdout",
     "output_type": "stream",
     "text": [
      "[]\n",
      "[None]\n"
     ]
    }
   ],
   "source": [
    "# mutable object changed\n",
    "def appender(lst):\n",
    "    lst.append(None)\n",
    "    \n",
    "a = []\n",
    "print(a)\n",
    "appender(a)\n",
    "print(a)"
   ]
  },
  {
   "cell_type": "code",
   "execution_count": null,
   "metadata": {},
   "outputs": [],
   "source": []
  },
  {
   "cell_type": "markdown",
   "metadata": {},
   "source": [
    "# Not (Really) One Way to Do It\n",
    "In \"The Zen of Python\", the 13th line is: \"There should be one-- and preferably only one --obvious way to do it.\" This is not actually true. What it means to be \"Pythonic\" or \"idiomatic Python\" changes over time."
   ]
  },
  {
   "cell_type": "code",
   "execution_count": 1,
   "metadata": {},
   "outputs": [
    {
     "name": "stdout",
     "output_type": "stream",
     "text": [
      "The Zen of Python, by Tim Peters\n",
      "\n",
      "Beautiful is better than ugly.\n",
      "Explicit is better than implicit.\n",
      "Simple is better than complex.\n",
      "Complex is better than complicated.\n",
      "Flat is better than nested.\n",
      "Sparse is better than dense.\n",
      "Readability counts.\n",
      "Special cases aren't special enough to break the rules.\n",
      "Although practicality beats purity.\n",
      "Errors should never pass silently.\n",
      "Unless explicitly silenced.\n",
      "In the face of ambiguity, refuse the temptation to guess.\n",
      "There should be one-- and preferably only one --obvious way to do it.\n",
      "Although that way may not be obvious at first unless you're Dutch.\n",
      "Now is better than never.\n",
      "Although never is often better than *right* now.\n",
      "If the implementation is hard to explain, it's a bad idea.\n",
      "If the implementation is easy to explain, it may be a good idea.\n",
      "Namespaces are one honking great idea -- let's do more of those!\n"
     ]
    }
   ],
   "source": [
    "import this"
   ]
  },
  {
   "cell_type": "markdown",
   "metadata": {},
   "source": [
    "In this article (https://treyhunner.com/2015/11/counting-things-in-python/), counting things used different styles in differnt versions of Python.\n",
    "* Python 1.4 (look before you leap): use `if` statement to check existence of key in a dict\n",
    "* Python 1.4 (easier to ask forgiveness than permission): use `try/except` block\n",
    "* Python 1.5: use `.get()` method\n",
    "* Python 2.0: use `.setdefault()` method\n",
    "* Python 2.3: use `.fromkeys()` method\n",
    "* Python 2.4: use `set()` and list comprehension\n",
    "* Python 2.5: use `defaultdict()`\n",
    "* Python 2.7: use `Counter()`\n",
    "\n",
    "What it means to be Pythonic changes over time. Perhaps, the line should say: \"There should be one-- and preferably only one --obvious way to do it-- in a given point in time or version of Python.\""
   ]
  },
  {
   "cell_type": "code",
   "execution_count": null,
   "metadata": {},
   "outputs": [],
   "source": []
  },
  {
   "cell_type": "markdown",
   "metadata": {},
   "source": [
    "## New Features: Looking into the Future\n",
    "As Python keeps improving with new versions, there will be new and better ways to do things. The future slowly unfurls to reveal itself.\n",
    "* list comprehensions -> generator expressions -> dictionary comprehensions -> asynchronous comprehensions\n",
    "* function annotation -> `mypy` module -> `typing` module\n",
    "\n",
    "Python 3 improvements over Python 2:\n",
    "* superior framework for asynchronous programming\n",
    "* clear delineation of bytes and str objects\n",
    "* superior memory management (by releasing unused memory)\n",
    "* `print()` as function (instead of a statement)\n",
    "* true division (instead of integer division). You can still do integer division using `//`\n",
    "* list comprehensions no longer leak the looping variable\n",
    "\n",
    "Python 3.4:\n",
    "* `asyncio` library introduced\n",
    "* `singledispatch()` added to `functools` module. Emulates function overloading/multimethod; basically a switch statement on a function depending on the type of the argument\n",
    "\n",
    "Python 3.5:\n",
    "* creating coroutines with `async/await`\n",
    "* type annotations/type hints for function arguments\n",
    "* `mypy` library introduced\n",
    "* `@` operator for matrix multiplication\n",
    "* additional unpacking generalizations: `[*range(4), 4]`\n",
    "\n",
    "Python 3.6: Raymond Hettinger (core Python dev) calls it the first Python 3 that is \"worthy of the name\" due to 3.6 being much superior to Python 2.7\n",
    "* dict order is guaranteed to be insertion order. Previously, dicts were unordered such that iterating over the keys should be effectively unpredictable\n",
    "* variable annotation for class variables and instance variables\n",
    "* asynchronous generators/comprehensions\n",
    "* f-strings for string interpolation\n",
    "\n",
    "Python 3.7:\n",
    "* `asyncio` upgraded. Basically, asynchronous framework is very different and significantly improved compared to how it was in Python 3.4--making older ways to do asychronous programming obsolete.\n",
    "* `dataclasses` module\n",
    "\n",
    "Python 3.8:\n",
    "* assignment expression (AKA walrus operator because `:=` looks like a walrus): can assign and evaluate in the same expression: `if (n := len(a)) > 10:`     It was so controversial that it was the stated reason for why Guido van Rossum retired as BFDL.\n",
    "* `singledispatchmethod()` added to `functools` module. `singledispatchmethod()` is the method version of `singledispatch()` to emulate method overloading/multimethod\n",
    "\n",
    "Python 3.9+:\n",
    "* Who knows?"
   ]
  },
  {
   "cell_type": "code",
   "execution_count": null,
   "metadata": {},
   "outputs": [],
   "source": []
  },
  {
   "cell_type": "markdown",
   "metadata": {},
   "source": [
    "## Extra Resources\n",
    "* https://www.toptal.com/python/top-10-mistakes-that-python-programmers-make: one of the first articles I read when I started learning Python. It lists some idiosyncratic things about Python. Basically, the initial seed idea for Pedantic Python and the other notebooks. When I first started out in Python, I had no idea what the article was trying to say. Now, I understand about 80% of what the article says. Don't worry--you don't need to understand it all to be a pro.\n",
    "* wtf python (https://github.com/satwikkansal/wtfpython: idiosyncratic things about Python. Basically, even more Pedantic Python!\n",
    "* Bloomberg's `What is Code` (https://www.bloomberg.com/graphics/2015-paul-ford-what-is-code/): an epic 38,000 word, comprehensive ~~diatribe~~ essay about the history and practice of software programming--thus answering the question: what is code? Also has fun interactive widgets/graphics to play with in the article.\n",
    "* Unicode and UTF-8 (https://www.joelonsoftware.com/2003/10/08/the-absolute-minimum-every-software-developer-absolutely-positively-must-know-about-unicode-and-character-sets-no-excuses/): Joel Spolsky, founder of Stack Overflow, explains exactly what the article title says. With Python 3 separating `bytes` and `str`, unicode becomes very important for non-English languages (such as Chinese, Japanese, Korean--often abbreviated to CJK) for internationalization (abbreviated to i18n), localization (abbreviated to L10n), and weird encodings (CP-1252 encoding on a Window's system! 😩).\n",
    "* Fun list of programming laws (https://github.com/dwmkerr/hacker-laws): whenever something in software breaks, you can cite a programming \"law\". Whenever you need a philosophical justification for what you are doing, you can find a programming \"principle\". Make yourself unbeatable in coding debates! 😎\n",
    "* The Fun of Reinvention - David Beazley - Pycon Israel 2017 (https://www.youtube.com/watch?v=5nXmq1PsoJ0): David goes all out in using metaprogramming techniques (which he calls the \"secrets of the framework builders\") to change how Python behaves. Basically, David shows how Python is so expressive that you can bend Python to your will. There is no ~~spoon~~ Python. It is not the ~~spoon~~ language that bends, it is only yourself. This video is quite dense with use of type annotations and metaclasses. Just watch for the magic ✨. David Beazley is a giant in the field of Python. Having been in the Python community for nearly 20 years, David publishes practical books on Python and gives cool talks and is constantly rethinking Python. He charges \\\\$2500 for his Practical Python Programming course and \\\\$2750 for his Advanced Python Mastery. And you got all that here for free! What a steal, you thief!\n",
    "* Design Patterns (https://github.com/faif/python-patterns): Decades ago, 4 authors (known as the Gang of Four) wrote a book called <i>Design Patterns</i> to explain how to make a language do cool stuff (ie reuasable solutions to commonly occuring problems). Older languages benefitted from design pattern due to their limitations. Fortunately in Python, you don't have to worry about design patterns as much since Python has built in a lot of cool functionality for you. However, if you ever have a tough problem to solve, you can take a look at this GitHub repo to see if you can benefit from a already solved/battle-tested solution."
   ]
  },
  {
   "cell_type": "code",
   "execution_count": null,
   "metadata": {},
   "outputs": [],
   "source": []
  },
  {
   "cell_type": "markdown",
   "metadata": {},
   "source": [
    "## Concluding Remarks\n",
    "Python is a multi-paradigm language. And Python is always changing and improving. You can use Python in different styles to approach different problems. Hence, there is no one \"ultimate\" style that rules them all: the best style is the one that solves your problem. For example, there's a phrase called \"thesis, antithesis, synthesis\" and there's also the parable of the blind men and an elephant; you choose the parts you like and put them together. Python can be what you want it to be: it is a matter of perspective.\n",
    "<table><tr>\n",
    "<td> <img src=\"images/Tensorflow_logo.png\" alt=\"Drawing\" style=\"width: 250px;\"/> </td>\n",
    "<td> <img src=\"images/GED_triplet.png\" alt=\"Drawing\" style=\"width: 250px;\"/> </td>\n",
    "</tr></table>\n",
    "Here is the TensorFlow logo and the cover art for <i>Gödel Escher Bach: an Eternal Golden Braid</i>. GEB explains through self-reference how systems can acquire meaning despite being made of \"meaningless\" elements.\n",
    "\n",
    "Remember the reason you learn about Advanced Python is not because you want to ~~get a pay raise~~ argue with your (nerdy) friends. It is because you care about interesting problems and how to solve them (in a better way). And it isn't really about Python--it's about you. In a programmer's lifetime, all the code you will ever write will fit neatly into a small USB flash drive. The millions of lines of code you write will weigh 0.00000000001 pounds. Code is invisible and weightless but ever-present and evermore expanding.\n",
    "\n",
    "But the power of your imagination is boundless. Napoleon Hill's  epiphany is \"Whatever the mind can conceive and believe, the mind can achieve.\" What will you want to create? What you imagine, you can bring forth into the real world--and code is just a tool to realize that dream. Though \"software is eating the world\", at the end of the day the problems you try to solve with code is to improve human lives. Coding is fundamentally a human-centered mission. Advanced Python is a McGuffin: Python isn't a destination, it is a journey. I wish you an exciting and meaningful journey! -- Eugene Huang\n",
    "<table><tr>\n",
    "<td> <img src=\"images/Python-logo.png\" style=\"width: 100px;\"/> </td>\n",
    "<td> <img src=\"images/python_yin_yang.png\" style=\"width: 100px;\"/> </td>\n",
    "</tr></table>"
   ]
  },
  {
   "cell_type": "code",
   "execution_count": null,
   "metadata": {},
   "outputs": [],
   "source": []
  },
  {
   "cell_type": "markdown",
   "metadata": {},
   "source": [
    "#### Python Short Story\n",
    "```python\n",
    "I once went to the pet store\n",
    "Slithering Slytherin Emporium was its name\n",
    "At the Counter, I asked for a special breed\n",
    "A pet with max-imum bite and pow-er.\n",
    "Something super fast like an animal on high oct-ane fuel\n",
    "except it must be gentle and human friendly\n",
    "The clerk said: whatever float-s your boat\n",
    "True, I said--None but the mst Exception-al will do\n",
    "The clerk said to give him a min-ute to eval-uate my options\n",
    "Some time to run through his list\n",
    "Given these input-s, he will search the property\n",
    "He needed to enumerate all the possibilities\n",
    "And with this context, he will talk to his manager\n",
    "I assert-ed that this wait is too slow\n",
    "He will def-initely help me out\n",
    "\n",
    "while I was await-ing his return\n",
    "I wanted to try my luck\n",
    "What would my int-erest yield?\n",
    "What else could I do?\n",
    "Hence, I took a break by looking through the aisles\n",
    "Animals of any type and all sizes\n",
    "Something nonlocal to the area\n",
    "Even the import-ed kinds and global-ly sourced\n",
    "Some were in a bin, some out in the open \n",
    "Some were round and some looked slice-d up\n",
    "The range of options were so complex, not even sorted\n",
    "There was no order or filter-ing going on\n",
    "In this jungle of a store, even the signs were reversed and out of place\n",
    "I needed a map, a dir-ectory of this place\n",
    "I must not give up. I must not hit a breakpoint\n",
    "I must continue. \n",
    "\n",
    "The clerk called me back\n",
    "He suggested a mouse inside an Easter egg.\n",
    "Give it a wheel and go to the cheese shop.\n",
    "I thought this rodent was just a pip squeek\n",
    "I wanted to cry. I wanted to scream\n",
    "I wanted to raise my voice.\n",
    "Instead, I just said pass\n",
    "I will come back next time\n",
    "Even though that was a False statement\n",
    "His facial expression belied his true motives\n",
    "OOPs, he said: \"I was just trying to be Pragmatic\"\n",
    "Something Functional, not Pedantic\n",
    "Alas, he was just following Procedures\n",
    "\n",
    "\n",
    "\n",
    "Just when I was about to leave\n",
    "I finally found the one I liked\n",
    "The clerk print-ed up a receipt\n",
    "And I zip-ped out of the store\n",
    "I was ec-static like a child with his parent\n",
    "Who just inherited a Water Gun 3.0\n",
    "I could barely compose myself\n",
    "The trip was a dynamic experience\n",
    "\n",
    "Ultimately the pet store was not a destination\n",
    "It was a journey. What an adventure!\n",
    "Plus, I found my favorite pet, a class of its own\n",
    "The kind that bytes!\n",
    "```"
   ]
  },
  {
   "cell_type": "markdown",
   "metadata": {},
   "source": [
    "while, await, global, assert, def, import, finally, or, and, except, not, True, break, None, return, try, nonlocal, yield, continue, class, else, raise, pass\n",
    "\n",
    "'False', 'async', 'del', 'elif', 'lambda'  \n",
    "'for', 'from', 'if', 'in', 'is', 'with', 'as'"
   ]
  },
  {
   "cell_type": "markdown",
   "metadata": {},
   "source": [
    "all, type, any, bin, open, bytes, map, dir, sorted, oct, breakpoint, filter, pow, super, max, float, enumerate, eval, int, min, round, slice, print, range, complex, help, zip, property, next, input\n",
    "\n",
    "abs, hash, set, dict, hex, id, object, bool, str, exec, ord, sum, iter, format, len, "
   ]
  },
  {
   "cell_type": "code",
   "execution_count": null,
   "metadata": {},
   "outputs": [],
   "source": []
  }
 ],
 "metadata": {
  "kernelspec": {
   "display_name": "Python 3",
   "language": "python",
   "name": "python3"
  },
  "language_info": {
   "codemirror_mode": {
    "name": "ipython",
    "version": 3
   },
   "file_extension": ".py",
   "mimetype": "text/x-python",
   "name": "python",
   "nbconvert_exporter": "python",
   "pygments_lexer": "ipython3",
   "version": "3.8.3"
  }
 },
 "nbformat": 4,
 "nbformat_minor": 2
}
