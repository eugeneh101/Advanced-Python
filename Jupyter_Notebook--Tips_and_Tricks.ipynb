{
 "cells": [
  {
   "cell_type": "markdown",
   "metadata": {},
   "source": [
    "# Some tips for Jupyter Notebook\n",
    "\n",
    "Notebooks can render simple Markdown/LaTex.  \n",
    "* Good for formulas: $\\int_{a}^{b} x^2 dx$  \n",
    "* Add a picture from your computer or Internet:  \n",
    "<img src=\"images/python_is_awesome.jpg\" width=200>\n",
    "* Render Python's color-coded syntax highlighting with triple backtick and then language:  \n",
    "\\`\\`\\`python<br>Python code here<br>\\`\\`\\` \n",
    "```python\n",
    "print(\"Hello world!')\n",
    "print(range(10))\n",
    "```\n",
    "\n",
    "### Jupyter Notebook Hotkeys:\n",
    "Must not be actually editing the cell itself. Press Escape first.\n",
    "* M : Make the cell a LaTex/Markdown cell\n",
    "* Y : Make the cell a coding cell\n",
    "* A : add a cell Above the current cell\n",
    "* B : add a cell Below the current cell\n",
    "* L : add line number for code cell\n",
    "* X : delete current cell\n",
    "* SHIFT + M : combine the current cell with the cell below\n",
    "* SHIFT + ENTER : Run current cell and move to the next cell\n",
    "* CTRL + ENTER : Run current cell and stay in current cell\n",
    "* 0 + 0 : Reset the kernel. I use this a LOT!\n",
    "* H : See the cheat sheet of the hotkeys. Basically more of these tips"
   ]
  },
  {
   "cell_type": "code",
   "execution_count": 1,
   "metadata": {},
   "outputs": [
    {
     "name": "stdout",
     "output_type": "stream",
     "text": [
      "hi\n",
      "bye\n"
     ]
    }
   ],
   "source": [
    "print('hi') # tap L to add line numbers. Might need to tap Escape first\n",
    "print('bye')"
   ]
  },
  {
   "cell_type": "code",
   "execution_count": null,
   "metadata": {},
   "outputs": [],
   "source": []
  },
  {
   "cell_type": "markdown",
   "metadata": {},
   "source": [
    "### Cell Magic/Magic functions\n",
    "Run arbitrary bash commands, write cell to disk, load file to cell, mix-n-match bash and Python, and time the cell."
   ]
  },
  {
   "cell_type": "code",
   "execution_count": 2,
   "metadata": {},
   "outputs": [
    {
     "name": "stdout",
     "output_type": "stream",
     "text": [
      "# This will put all the code from this code cell into a file with the file name you specificed (temp.py)\n",
      "# The syntax %% in Jupyter Notebook is Notebook's magic commands. There are many of them. I only use probably 3\n",
      "# common ones. %% must be at the top of the \n",
      "print('Hello World!')\n",
      "Hello World!\n",
      "Papers\n",
      "Python_and_Jupyter_Notebook_Tips.ipynb\n",
      "temp.py\n"
     ]
    }
   ],
   "source": [
    "# The bash sign will run the rest of the line as a bash commmand. Really useful if you're connected to a \n",
    "# remote machine and want to run a simple line command but don't want to switch to the Terminal.\n",
    "!echo \"hi there\" > temp.py\n",
    "!cat temp.py\n",
    "!python temp.py\n",
    "!touch another_temp_file.py\n",
    "!rm another_temp_file.py\n",
    "!mkdir temp_dir\n",
    "!rmdir temp_dir\n",
    "!ls | head"
   ]
  },
  {
   "cell_type": "code",
   "execution_count": null,
   "metadata": {},
   "outputs": [],
   "source": []
  },
  {
   "cell_type": "code",
   "execution_count": 1,
   "metadata": {
    "scrolled": false
   },
   "outputs": [
    {
     "name": "stdout",
     "output_type": "stream",
     "text": [
      "\"print('hi there')\" \n",
      "Advanced Python--Code Like a Pro!-Copy1.ipynb\n",
      "Jupyter Notebook--Tips and Tricks.ipynb\n",
      "Object Oriented Python.ipynb\n",
      "Procedural Python.ipynb\n"
     ]
    }
   ],
   "source": [
    "# The bash sign will run the rest of the line as a bash commmand. Really useful if you're connected to a \n",
    "# remote machine and want to run a simple line command but don't want to switch to the Terminal.\n",
    "!echo \"print('hi there')\" > temp.py\n",
    "!cat temp.py\n",
    "!python temp.py\n",
    "!touch another_temp_file.py\n",
    "!rm another_temp_file.py\n",
    "!mkdir temp_dir\n",
    "!rmdir temp_dir\n",
    "!ls *.ipynb | head"
   ]
  },
  {
   "cell_type": "code",
   "execution_count": 2,
   "metadata": {},
   "outputs": [
    {
     "name": "stdout",
     "output_type": "stream",
     "text": [
      "\"print('hi there')\" \r\n"
     ]
    }
   ],
   "source": [
    "%%sh\n",
    "# You can repeat the same commands use the the Notebook magic command for shell\n",
    "cat temp.py\n",
    "python temp.py\n",
    "rm temp.py\n",
    "touch another_temp_file.py\n",
    "rm another_temp_file.py\n",
    "mkdir temp_dir\n",
    "rmdir temp_dir"
   ]
  },
  {
   "cell_type": "code",
   "execution_count": 3,
   "metadata": {},
   "outputs": [
    {
     "data": {
      "text/plain": [
       "['Advanced Python--Code Like a Pro!-Copy1.ipynb',\n",
       " 'Jupyter Notebook--Tips and Tricks.ipynb',\n",
       " 'Object Oriented Python.ipynb',\n",
       " 'Procedural Python.ipynb']"
      ]
     },
     "execution_count": 3,
     "metadata": {},
     "output_type": "execute_result"
    }
   ],
   "source": [
    "# you can do a hacky thing where you save the outputs of bash command to a Python variable\n",
    "files_in_directory = !ls *.ipynb\n",
    "files_in_directory"
   ]
  },
  {
   "cell_type": "code",
   "execution_count": 4,
   "metadata": {},
   "outputs": [
    {
     "name": "stdout",
     "output_type": "stream",
     "text": [
      "{\n",
      " \"cells\": [\n",
      "  {\n",
      "   \"cell_type\": \"markdown\",\n",
      "   \"metadata\": {},\n",
      "   \"source\": [\n",
      "    \"# Some tips for Jupyter Notebook\\n\",\n",
      "    \"\\n\",\n",
      "    \"Notebooks can render simple Markdown/LaTex.  \\n\",\n",
      "    \"* Good for formulas: $\\\\int_{a}^{b} x^2 dx$  \\n\",\n"
     ]
    }
   ],
   "source": [
    "# in a reverse manner, you can send Python variable to bash command by enclosing your Python variable name with { }\n",
    "this_file_name = \"'Jupyter Notebook--Tips and Tricks.ipynb'\" # had to add extra quotation marks since file name had dashes\n",
    "!head {this_file_name}"
   ]
  },
  {
   "cell_type": "code",
   "execution_count": 5,
   "metadata": {},
   "outputs": [
    {
     "name": "stdout",
     "output_type": "stream",
     "text": [
      "Writing temp.py\n"
     ]
    }
   ],
   "source": [
    "%%writefile temp.py\n",
    "# This will put all the code from this code cell into a file with the file name you specificed (temp.py)\n",
    "# The syntax %% in Jupyter Notebook is Notebook's magic commands. There are many of them. I only use probably 3\n",
    "# common ones. %% must be at the top of the \n",
    "print('Hello World!')"
   ]
  },
  {
   "cell_type": "code",
   "execution_count": null,
   "metadata": {},
   "outputs": [],
   "source": [
    "%load temp.py\n",
    "# will load the contents of the file into this cell. Notice there is only 1 %"
   ]
  },
  {
   "cell_type": "markdown",
   "metadata": {},
   "source": [
    "#### Profiling Runtime"
   ]
  },
  {
   "cell_type": "code",
   "execution_count": 6,
   "metadata": {},
   "outputs": [
    {
     "name": "stdout",
     "output_type": "stream",
     "text": [
      "hi\n",
      "Wall time: 0 ns\n",
      "bye\n"
     ]
    }
   ],
   "source": [
    "print('hi')\n",
    "%time sum(range(10)) # get runtime for only this line; %time be used on any line in the cell\n",
    "print('bye')"
   ]
  },
  {
   "cell_type": "code",
   "execution_count": 7,
   "metadata": {},
   "outputs": [
    {
     "name": "stdout",
     "output_type": "stream",
     "text": [
      "Wall time: 153 ms\n"
     ]
    }
   ],
   "source": [
    "%%time\n",
    "# With double percent, you get runtime of the entire cell. %%time MUST be the first line\n",
    "summer = 0\n",
    "for i in range(1000000):\n",
    "    summer += i"
   ]
  },
  {
   "cell_type": "code",
   "execution_count": 8,
   "metadata": {},
   "outputs": [
    {
     "name": "stdout",
     "output_type": "stream",
     "text": [
      "454 ms ± 21.4 ms per loop (mean ± std. dev. of 7 runs, 1 loop each)\n"
     ]
    }
   ],
   "source": [
    "%%timeit\n",
    "# If you are concerned about the stability of the runtime, run the cell multiple times and get profiling results\n",
    "sum(range(10000000))"
   ]
  },
  {
   "cell_type": "code",
   "execution_count": null,
   "metadata": {
    "collapsed": true
   },
   "outputs": [],
   "source": []
  },
  {
   "cell_type": "markdown",
   "metadata": {},
   "source": [
    "### Getting Help\n",
    "To get more details about a function (i.e. function arguments or function definition), then you can do 3 things:  \n",
    "* Go to the function and press SHIFT + Tab to see the function signature (for the arguments and docstring). The function has to be in memory first. Hence, it always works with builtins but you would need to import it if the function is from a module. Press SHIFT + Tab (twice) to see more details. \n",
    "* Pass the function of interest into ```help()```.\n",
    "* Type ?? after the function to see the actual Python source code. Doesn't work for builtins, as those are written in C.\n",
    "\n",
    "Technically, these strategies work for **any** objects, so you can do this on a class or instance object. "
   ]
  },
  {
   "cell_type": "code",
   "execution_count": 9,
   "metadata": {},
   "outputs": [
    {
     "data": {
      "text/html": [
       "<div>\n",
       "<style scoped>\n",
       "    .dataframe tbody tr th:only-of-type {\n",
       "        vertical-align: middle;\n",
       "    }\n",
       "\n",
       "    .dataframe tbody tr th {\n",
       "        vertical-align: top;\n",
       "    }\n",
       "\n",
       "    .dataframe thead th {\n",
       "        text-align: right;\n",
       "    }\n",
       "</style>\n",
       "<table border=\"1\" class=\"dataframe\">\n",
       "  <thead>\n",
       "    <tr style=\"text-align: right;\">\n",
       "      <th></th>\n",
       "    </tr>\n",
       "  </thead>\n",
       "  <tbody>\n",
       "  </tbody>\n",
       "</table>\n",
       "</div>"
      ],
      "text/plain": [
       "Empty DataFrame\n",
       "Columns: []\n",
       "Index: []"
      ]
     },
     "execution_count": 9,
     "metadata": {},
     "output_type": "execute_result"
    }
   ],
   "source": [
    "import pandas as pd\n",
    "\n",
    "\n",
    "pd.DataFrame() # press SHIFT + Tab instead the parenthesis AFTER you run this cell\n",
    "# press SHIFT + Tab + Tab to see even more details"
   ]
  },
  {
   "cell_type": "code",
   "execution_count": 10,
   "metadata": {},
   "outputs": [
    {
     "name": "stdout",
     "output_type": "stream",
     "text": [
      "Help on function mean in module pandas.core.frame:\n",
      "\n",
      "mean(self, axis=None, skipna=None, level=None, numeric_only=None, **kwargs)\n",
      "    Return the mean of the values for the requested axis.\n",
      "    \n",
      "    Parameters\n",
      "    ----------\n",
      "    axis : {index (0), columns (1)}\n",
      "        Axis for the function to be applied on.\n",
      "    skipna : bool, default True\n",
      "        Exclude NA/null values when computing the result.\n",
      "    level : int or level name, default None\n",
      "        If the axis is a MultiIndex (hierarchical), count along a\n",
      "        particular level, collapsing into a Series.\n",
      "    numeric_only : bool, default None\n",
      "        Include only float, int, boolean columns. If None, will attempt to use\n",
      "        everything, then use only numeric data. Not implemented for Series.\n",
      "    **kwargs\n",
      "        Additional keyword arguments to be passed to the function.\n",
      "    \n",
      "    Returns\n",
      "    -------\n",
      "    mean : Series or DataFrame (if level specified)\n",
      "\n"
     ]
    }
   ],
   "source": [
    "help(pd.DataFrame.mean)"
   ]
  },
  {
   "cell_type": "code",
   "execution_count": 11,
   "metadata": {},
   "outputs": [],
   "source": [
    "# use for source code?? press <Escape> to make the pop up tab disappear\n",
    "pd.DataFrame.mean??"
   ]
  },
  {
   "cell_type": "code",
   "execution_count": null,
   "metadata": {
    "collapsed": true
   },
   "outputs": [],
   "source": []
  },
  {
   "cell_type": "code",
   "execution_count": null,
   "metadata": {
    "collapsed": true
   },
   "outputs": [],
   "source": []
  },
  {
   "cell_type": "markdown",
   "metadata": {},
   "source": [
    "### Don't Print *Everything*\n",
    "To prevent the coding cell to printing random junk, just add semicolon (;)"
   ]
  },
  {
   "cell_type": "code",
   "execution_count": 12,
   "metadata": {
    "scrolled": true
   },
   "outputs": [
    {
     "data": {
      "text/plain": [
       "[<matplotlib.lines.Line2D at 0x19396782400>]"
      ]
     },
     "execution_count": 12,
     "metadata": {},
     "output_type": "execute_result"
    },
    {
     "data": {
      "image/png": "[encoded data removed]",
      "text/plain": [
       "<matplotlib.figure.Figure at 0x19395e5e2e8>"
      ]
     },
     "metadata": {},
     "output_type": "display_data"
    }
   ],
   "source": [
    "import matplotlib.pyplot as plt\n",
    "%matplotlib inline\n",
    "\n",
    "plt.plot(range(10))"
   ]
  },
  {
   "cell_type": "code",
   "execution_count": 13,
   "metadata": {
    "scrolled": true
   },
   "outputs": [
    {
     "data": {
      "image/png": "[encoded data removed]",
      "text/plain": [
       "<matplotlib.figure.Figure at 0x19396766278>"
      ]
     },
     "metadata": {},
     "output_type": "display_data"
    }
   ],
   "source": [
    "# notice it doesn't print: [<matplotlib.lines.Line2D at 0x20d7adcbd68>]\n",
    "plt.plot(range(10));"
   ]
  },
  {
   "cell_type": "code",
   "execution_count": 14,
   "metadata": {},
   "outputs": [
    {
     "data": {
      "text/plain": [
       "'some documentation here at the end of the cell'"
      ]
     },
     "execution_count": 14,
     "metadata": {},
     "output_type": "execute_result"
    }
   ],
   "source": [
    "\"some documentation here at the end of the cell\""
   ]
  },
  {
   "cell_type": "code",
   "execution_count": 15,
   "metadata": {
    "collapsed": true
   },
   "outputs": [],
   "source": [
    "\"some documentation here at the end of the cell\";"
   ]
  }
 ],
 "metadata": {
  "kernelspec": {
   "display_name": "Python 3",
   "language": "python",
   "name": "python3"
  },
  "language_info": {
   "codemirror_mode": {
    "name": "ipython",
    "version": 3
   },
   "file_extension": ".py",
   "mimetype": "text/x-python",
   "name": "python",
   "nbconvert_exporter": "python",
   "pygments_lexer": "ipython3",
   "version": "3.6.4"
  }
 },
 "nbformat": 4,
 "nbformat_minor": 2
}
