{
 "cells": [
  {
   "cell_type": "markdown",
   "metadata": {},
   "source": [
    "# Object Oriented Programming\n",
    "\n",
    "\n",
    "#### Boring, Academic Definition (Nobody Cares Except Professors and Pedantic, Technical Interviewers...):\n",
    "There are 4 fundamental tenets of Object Oriented Programming: Encapsulation, Inheritance, Abstraction, and Polymorphism.\n",
    "* `Encapsulation`: hide unnecessary details in our classes and provide a clear and simple interface for working with them.\n",
    "* `Inheritance`: class hierarchies improve code readability and enable the reuse of functionality.\n",
    "* `Abstraction`: deal with objects considering their important characteristics and ignore all other details.\n",
    "* `Polymorphism`: same manner with different objects, which define a specific implementation of some abstract behavior.\n",
    "\n",
    "#### Practical, Real-time Importance:\n",
    "We get an object that has functions (called methods) attached to them. You can store and change/manipulate data (called attributes) using methods. If you are fancy, you can build complex objects through inheritance and composition.\n",
    "\n",
    "You may ask why is C considered a produceral language if it contains `array` (like a list of homogenous elements) and `struct` (like a list of different types) data types. Aren't they \"objects\"? Well, OOP gives you objects AND methods that are built into the definition of the class. C uses (separately defined) functions to modify their data structures.  \n",
    "To the other extreme, you have Java where you only get objects--there are no function calls. Even print is a method: `System.out.println()`\n",
    "\n",
    "\n",
    "#### Lingo:\n",
    "* `class`: blueprints or definitions for creating an object. Another synonym for class is `type`.  \n",
    "* `object` (also called an instance): an actual, living, breathing creation of a `class`--the manifestation of building out what was in your blueprint. The process of creating an instance is called `instantiation`. A secondary definition is that everything (storable) in Python is an object. \n",
    "* `method`: a function inside a class.\n",
    "* `attribute`: a variable inside an object (or class).\n",
    "\n",
    "\n",
    "#### Advanced (means fancy but often not very relevant) Topics:\n",
    "* `inheritance` (is-a relationship) vs `composition` (has-a relationship)\n",
    "* `parent class` (AKA superclass) and `child class` (AKA subclass), `super()` call\n",
    "* `multiple inheritance`, `MRO` (not Model Risk Officer! It's Method Resolution Order), `C3 linearization`\n",
    "* `metaclass`\n",
    "\n",
    "#### 3 Types (What an OOP pun!) of Methods:\n",
    "* `instance Method`: Most common (vast majority of time). Do something with the instance, ie update the instance's attributes or return something from that instance. Call from the instance.\n",
    "* `class method`: uncommon (maybe 10% of the time). Do something with the class, ie update the class's attributes or return something from that class. Call from the class or an instance.\n",
    "* `static method`: very uncommon (<5% of the time). Use no information about an instance or class, ie knows nothing about the instance or class. Just a regular function but you attached to a class (because it might be helpful). Call from the class or an instance."
   ]
  },
  {
   "cell_type": "code",
   "execution_count": 1,
   "metadata": {},
   "outputs": [],
   "source": [
    "class MyClass:\n",
    "    my_class_attribute = 42 # notice it looks like a regular assignment within a class\n",
    "    \n",
    "    def my_instance_method(self, my_instance_attribute):\n",
    "        self.my_instance_attribute = my_instance_attribute\n",
    "        return my_instance_attribute    \n",
    "    \n",
    "    @classmethod # notice this decorator\n",
    "    def my_class_method(cls): # notice `cls`, not `self`\n",
    "        return cls.my_class_attribute # notice `cls`, not `self`\n",
    "    \n",
    "    @staticmethod # notice this decorator\n",
    "    def my_static_method(x, y): # not no `self` or `cls`\n",
    "        return x + y "
   ]
  },
  {
   "cell_type": "code",
   "execution_count": 2,
   "metadata": {},
   "outputs": [
    {
     "name": "stdout",
     "output_type": "stream",
     "text": [
      "10\n"
     ]
    },
    {
     "ename": "TypeError",
     "evalue": "my_instance_method() missing 1 required positional argument: 'my_instance_attribute'",
     "output_type": "error",
     "traceback": [
      "\u001b[1;31m---------------------------------------------------------------------------\u001b[0m",
      "\u001b[1;31mTypeError\u001b[0m                                 Traceback (most recent call last)",
      "\u001b[1;32m<ipython-input-2-26e591635784>\u001b[0m in \u001b[0;36m<module>\u001b[1;34m()\u001b[0m\n\u001b[0;32m      2\u001b[0m \u001b[0mmy_instance\u001b[0m \u001b[1;33m=\u001b[0m \u001b[0mMyClass\u001b[0m\u001b[1;33m(\u001b[0m\u001b[1;33m)\u001b[0m\u001b[1;33m\u001b[0m\u001b[0m\n\u001b[0;32m      3\u001b[0m \u001b[0mprint\u001b[0m\u001b[1;33m(\u001b[0m\u001b[0mmy_instance\u001b[0m\u001b[1;33m.\u001b[0m\u001b[0mmy_instance_method\u001b[0m\u001b[1;33m(\u001b[0m\u001b[1;36m10\u001b[0m\u001b[1;33m)\u001b[0m\u001b[1;33m)\u001b[0m \u001b[1;31m# instance method call on instance works\u001b[0m\u001b[1;33m\u001b[0m\u001b[0m\n\u001b[1;32m----> 4\u001b[1;33m \u001b[0mprint\u001b[0m\u001b[1;33m(\u001b[0m\u001b[0mMyClass\u001b[0m\u001b[1;33m.\u001b[0m\u001b[0mmy_instance_method\u001b[0m\u001b[1;33m(\u001b[0m\u001b[1;36m10\u001b[0m\u001b[1;33m)\u001b[0m\u001b[1;33m)\u001b[0m \u001b[1;31m# instance method call on class does not work\u001b[0m\u001b[1;33m\u001b[0m\u001b[0m\n\u001b[0m",
      "\u001b[1;31mTypeError\u001b[0m: my_instance_method() missing 1 required positional argument: 'my_instance_attribute'"
     ]
    }
   ],
   "source": [
    "# instance method\n",
    "my_instance = MyClass()\n",
    "print(my_instance.my_instance_method(10)) # instance method call on instance works\n",
    "print(MyClass.my_instance_method(10)) # instance method call on class does not work"
   ]
  },
  {
   "cell_type": "code",
   "execution_count": 3,
   "metadata": {},
   "outputs": [
    {
     "name": "stdout",
     "output_type": "stream",
     "text": [
      "1\n",
      "2\n"
     ]
    }
   ],
   "source": [
    "# each instance has its own `copy` of the data/attributes\n",
    "my_instance.my_instance_method(1)\n",
    "\n",
    "my_instance_2 = MyClass()\n",
    "my_instance_2.my_instance_method(2)\n",
    "\n",
    "print(my_instance.my_instance_attribute)\n",
    "print(my_instance_2.my_instance_attribute)"
   ]
  },
  {
   "cell_type": "code",
   "execution_count": 4,
   "metadata": {},
   "outputs": [
    {
     "name": "stdout",
     "output_type": "stream",
     "text": [
      "42\n",
      "42\n",
      "42\n"
     ]
    }
   ],
   "source": [
    "# class method\n",
    "print(my_instance.my_class_method()) # class method call on instance works\n",
    "print(MyClass.my_class_method()) # class method call on class works, though this notation is probably \n",
    "# preferred to denote that it is class method\n",
    "\n",
    "\n",
    "# class attributes are visible to all instances. There is only 1 `copy` of the class attribute\n",
    "my_instance_2 = MyClass()\n",
    "print(my_instance_2.my_class_method())"
   ]
  },
  {
   "cell_type": "code",
   "execution_count": 5,
   "metadata": {},
   "outputs": [
    {
     "name": "stdout",
     "output_type": "stream",
     "text": [
      "43\n",
      "43\n",
      "43\n"
     ]
    }
   ],
   "source": [
    "# class attributes can be updated, which then all instances can see\n",
    "MyClass.my_class_attribute += 1\n",
    "print(my_instance.my_class_method())\n",
    "print(my_instance_2.my_class_method())\n",
    "print(MyClass.my_class_method())"
   ]
  },
  {
   "cell_type": "code",
   "execution_count": 6,
   "metadata": {},
   "outputs": [
    {
     "name": "stdout",
     "output_type": "stream",
     "text": [
      "3\n",
      "3\n"
     ]
    }
   ],
   "source": [
    "# static method\n",
    "print(my_instance.my_static_method(1, 2)) # static method call on instance works\n",
    "print(MyClass.my_static_method(1, 2)) # static method call on class works"
   ]
  },
  {
   "cell_type": "markdown",
   "metadata": {},
   "source": [
    "#### Food for Thought (~~Tongue~~ Brain Twister): \n",
    "* What if an instance attribute has the same name as a class attribute?\n",
    "* If an instance attribute has the same name as a class attribute, what happens if you try to delete the attribute? Which one gets deleted?\n"
   ]
  },
  {
   "cell_type": "code",
   "execution_count": null,
   "metadata": {},
   "outputs": [],
   "source": []
  },
  {
   "cell_type": "markdown",
   "metadata": {},
   "source": [
    "<img src=\"images/party_emoji.jpg\" width=70>\n",
    "#### Fun Fact Time!\n",
    "\n",
    "* `self` is not a special/reserved word in Python. In fact, you can use other words and it will still work. Extra Fun fact: JavaScripts equivalent of `self` is `this`."
   ]
  },
  {
   "cell_type": "code",
   "execution_count": 7,
   "metadata": {},
   "outputs": [
    {
     "data": {
      "text/plain": [
       "42"
      ]
     },
     "execution_count": 7,
     "metadata": {},
     "output_type": "execute_result"
    }
   ],
   "source": [
    "class AnotherSillyExample:\n",
    "    def __init__(banana, number): # no `self` here\n",
    "        banana.important_number = number\n",
    "    \n",
    "    def get_important_number(peach):\n",
    "        return peach.important_number\n",
    "\n",
    "AnotherSillyExample(42).get_important_number()"
   ]
  },
  {
   "cell_type": "code",
   "execution_count": 8,
   "metadata": {},
   "outputs": [
    {
     "data": {
      "text/plain": [
       "'Say Cheese!'"
      ]
     },
     "execution_count": 8,
     "metadata": {},
     "output_type": "execute_result"
    }
   ],
   "source": [
    "# How to emulate a class method with an instance method\n",
    "class Millenial:\n",
    "    my_class_attribute = \"Say Cheese!\"\n",
    "    \n",
    "    def takes_a(selfie): # technically an instance method pretending to be an class method\n",
    "        return type(selfie).my_class_attribute\n",
    "\n",
    "a_friend_you_know = Millenial()\n",
    "a_friend_you_know.takes_a()"
   ]
  },
  {
   "cell_type": "markdown",
   "metadata": {},
   "source": [
    "#### Another Fun Fact!\n",
    "\n",
    "In Python, it is said that \"everything is an object.\" What the pros (like yourself!) mean is that everything is an object/instance of a class. You ask what is a class a class of (tongue twister!)? A class is an instance of a metaclass (usually the metaclass is `type`). For example, even primitive types like numbers are an object, which have methods.\n",
    "\n",
    "```python\n",
    "(1).__add__(2) # returns 3\n",
    "```\n",
    "Of course, don't take \"everything is an object\" too literally. There are things like keywords and statements that are not objects. Anything that is assignable/savable/storable is an object; keywords and statements are not assignable."
   ]
  },
  {
   "cell_type": "code",
   "execution_count": null,
   "metadata": {},
   "outputs": [],
   "source": []
  },
  {
   "cell_type": "code",
   "execution_count": null,
   "metadata": {},
   "outputs": [],
   "source": []
  },
  {
   "cell_type": "markdown",
   "metadata": {},
   "source": [
    "TODOS:  \n",
    "method chaining, fluent interface  \n",
    "lots of hidden methods calling each other  \n",
    "how methods are truly called (and descriptor protocol), property  \n",
    "dunder methods: __del__, __call__, operator overloading  \n",
    "\n",
    "name mangling"
   ]
  },
  {
   "cell_type": "code",
   "execution_count": null,
   "metadata": {},
   "outputs": [],
   "source": []
  }
 ],
 "metadata": {
  "kernelspec": {
   "display_name": "Python 3",
   "language": "python",
   "name": "python3"
  },
  "language_info": {
   "codemirror_mode": {
    "name": "ipython",
    "version": 3
   },
   "file_extension": ".py",
   "mimetype": "text/x-python",
   "name": "python",
   "nbconvert_exporter": "python",
   "pygments_lexer": "ipython3",
   "version": "3.6.4"
  }
 },
 "nbformat": 4,
 "nbformat_minor": 2
}
