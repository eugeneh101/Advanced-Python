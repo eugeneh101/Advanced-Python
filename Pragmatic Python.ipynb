{
 "cells": [
  {
   "cell_type": "markdown",
   "metadata": {},
   "source": [
    "## General Tips"
   ]
  },
  {
   "cell_type": "code",
   "execution_count": 1,
   "metadata": {},
   "outputs": [
    {
     "name": "stdout",
     "output_type": "stream",
     "text": [
      "0 a\n",
      "1 s\n",
      "2 d\n",
      "3 f\n",
      "\n",
      "1 a\n",
      "2 s\n",
      "3 d\n",
      "4 f\n"
     ]
    }
   ],
   "source": [
    "# To get index and item at the same time, use enumerate. index starts at 0.\n",
    "# enumerate takes up to 2 arguments where the optional second argument is the index you want to start at. For example, you can start at 1 instead of 0.    \n",
    "for index, item in enumerate('asdf'): \n",
    "    print(index, item)\n",
    "    \n",
    "print()\n",
    "\n",
    "for index, item in enumerate('asdf', 1): \n",
    "    print(index, item)"
   ]
  },
  {
   "cell_type": "code",
   "execution_count": 2,
   "metadata": {},
   "outputs": [
    {
     "name": "stdout",
     "output_type": "stream",
     "text": [
      "a 0\n",
      "s 1\n",
      "d 2\n",
      "f 3\n",
      "g 4\n",
      "h 5\n",
      "j 6\n",
      "k 7\n",
      "l 8\n",
      "; 9\n",
      "\n",
      "0 100 200\n",
      "1 101 201\n",
      "2 102 202\n",
      "3 103 203\n",
      "4 104 204\n"
     ]
    }
   ],
   "source": [
    "# If you want to pair 2 iterables together, use zip\n",
    "# zip finishes pairing by using whichever is the shorter list.\n",
    "# If you want to zip to the longer list, use itertools.zip_longest()\n",
    "for a, b in zip('asdfghjkl;', range(42)):\n",
    "    print(a, b)\n",
    "    \n",
    "print()\n",
    "\n",
    "# zip can also take more than 2 arguments--you can have an arbitrary number of iterables\n",
    "for a, b, c in zip(range(5), range(100, 105), range(200, 205)):\n",
    "    print(a, b, c)"
   ]
  },
  {
   "cell_type": "code",
   "execution_count": null,
   "metadata": {},
   "outputs": [],
   "source": []
  },
  {
   "cell_type": "code",
   "execution_count": 3,
   "metadata": {},
   "outputs": [
    {
     "name": "stdout",
     "output_type": "stream",
     "text": [
      "directory_name\\file_name\n",
      "directory_name/file_name\n"
     ]
    }
   ],
   "source": [
    "# Instead  of directory_name + \"/\" + filename, use this instead since it doesn't require adding '/' to directory_name and\n",
    "# safer between operation systems and also won't add an unnecessary \"/\"\n",
    "import os\n",
    "\n",
    "print(os.path.join('directory_name', 'file_name')) # sorry, wrote this on a Windows\n",
    "print(os.path.join('directory_name/', 'file_name'))"
   ]
  },
  {
   "cell_type": "code",
   "execution_count": 4,
   "metadata": {},
   "outputs": [],
   "source": [
    "# You can have a trailing comma in Python collections (list, tuple, set, dict) and functions. The reason is for \n",
    "# ease of updating a function if it is multi-line.\n",
    "a = [\n",
    "    1,\n",
    "    2,\n",
    "    3,\n",
    "]\n",
    "def silly(\n",
    "    billy,\n",
    "    hilly,\n",
    "): pass"
   ]
  },
  {
   "cell_type": "markdown",
   "metadata": {},
   "source": [
    "#### Name Binding (What You Think of as Assignment)\n",
    "Whenever you use assignment (=), you can think about it as putting a name tag (named with the variable name) onto the data--this is called name binding. Yoy can use the `id()` function to see the object's memory address. Hence, for the duration of the object's existence (ie not deleted), then the id will be unique and unchanged. Python's assigment (=) NEVER copies data--it merely puts another name tag on the same object. The `is` keyword in Python is highly related to `id()` in that `is` detects whether the identity of 2 objects are the same--if the 2 variables are pointing to same memory address. If `x is y` is True, then `id(x) == id(y)`.\n",
    "\n",
    "If you want to see how many name tags are attached to the same object, then use `sys.getrefcout`. Python internally has a reference count for every object--once the reference count goes to 0, then the object is deleted from memory.  \n",
    "Notice this caveat from the documentation:  \n",
    "```The count returned is generally one higher than you might expect, because it includes the (temporary) reference as an argument to getrefcount().```  \n",
    "Deleting a variable will remove the name tag. Python's `del` statement doesn't directly delete a variable. Instead `del` deletes the name binding (the name tag) onto the object. Once an object's reference count goes to 0, then Python's garbage collector will finally remove the object from memory.\n",
    "\n",
    "Python has data structures that are mutable (list, set, dictionary) and some are immutable (tuple, string, numeric [float, int, bool]). "
   ]
  },
  {
   "cell_type": "code",
   "execution_count": 1,
   "metadata": {},
   "outputs": [
    {
     "name": "stdout",
     "output_type": "stream",
     "text": [
      "reference count: 2; memory location: 1836773559496\n"
     ]
    }
   ],
   "source": [
    "import sys\n",
    "\n",
    "a = []\n",
    "print(\"reference count: {}; memory location: {}\".format(sys.getrefcount(a), id(a)))"
   ]
  },
  {
   "cell_type": "code",
   "execution_count": 2,
   "metadata": {
    "scrolled": true
   },
   "outputs": [
    {
     "name": "stdout",
     "output_type": "stream",
     "text": [
      "2\n",
      "3\n",
      "True\n",
      "1836773559880 1836773559880\n",
      "[None] [None]\n"
     ]
    }
   ],
   "source": [
    "# a list is a mutable object\n",
    "a = []\n",
    "print(sys.getrefcount(a))\n",
    "b = a\n",
    "print(sys.getrefcount(a))\n",
    "print(a is b)\n",
    "print(id(a), id(b))\n",
    "a.append(None)\n",
    "print(a, b)"
   ]
  },
  {
   "cell_type": "code",
   "execution_count": 3,
   "metadata": {},
   "outputs": [
    {
     "name": "stdout",
     "output_type": "stream",
     "text": [
      "2\n",
      "3\n",
      "True\n",
      "1836774045960 1836774045960\n",
      "(1, 2) (1,)\n",
      "False\n",
      "1836756384200 1836774045960\n",
      "2\n"
     ]
    }
   ],
   "source": [
    "# an tuple is immutable--you cannot make a number into another number. That will occupy different memory locations\n",
    "a = (1, )\n",
    "print(sys.getrefcount(a))\n",
    "b = a\n",
    "print(sys.getrefcount(a))\n",
    "print(a is b)\n",
    "print(id(a), id(b))\n",
    "a += (2,)\n",
    "print(a, b)\n",
    "print(a is b)\n",
    "print(id(a), id(b)) # notice that id(a) has changed memory location\n",
    "print(sys.getrefcount(a)) # notice that the reference count has fell back to 2"
   ]
  },
  {
   "cell_type": "markdown",
   "metadata": {},
   "source": [
    "R is pass by value--that means when you pass a dataframe into a function, the dataframe is copied. If you mutate the dataframe inside an R function, nothing will happen to the original dataframe.  \n",
    "This is not true in Python.  In contrast, Python's assigment (=) NEVER copies data, not even in a function's argument assignment. Hence, when you pass a variable into the function, that variable can be mutated if it is a mutable type. Python is not pass by value nor pass by reference. Instead Python is pass by object. "
   ]
  },
  {
   "cell_type": "code",
   "execution_count": 4,
   "metadata": {},
   "outputs": [
    {
     "name": "stdout",
     "output_type": "stream",
     "text": [
      "[]\n",
      "[None]\n"
     ]
    }
   ],
   "source": [
    "# mutable object changed\n",
    "def appender(lst):\n",
    "    lst.append(None)\n",
    "    \n",
    "a = []\n",
    "print(a)\n",
    "appender(a)\n",
    "print(a)"
   ]
  },
  {
   "cell_type": "code",
   "execution_count": 5,
   "metadata": {},
   "outputs": [
    {
     "name": "stdout",
     "output_type": "stream",
     "text": [
      "1836774329904 ML Study Group\n",
      "1836774342352 Hello ML Study Group\n",
      "1836774329904 ML Study Group\n"
     ]
    }
   ],
   "source": [
    "# immutable object remains unchanged\n",
    "def concatenate(string):\n",
    "    string = \"Hello \" + string # this new `string` variable is no longer bound to the same object. \n",
    "    print(id(string), string) # You have moved the \"name tag\" to a different object.\n",
    "\n",
    "string = \"ML Study Group\"\n",
    "print(id(string), string)\n",
    "concatenate(string)\n",
    "print(id(string), string)"
   ]
  },
  {
   "cell_type": "code",
   "execution_count": null,
   "metadata": {},
   "outputs": [],
   "source": []
  },
  {
   "cell_type": "markdown",
   "metadata": {},
   "source": [
    "If fact, you change to multiple assignment. The right-most expression is evaluated first and then bound to the variables left to right."
   ]
  },
  {
   "cell_type": "code",
   "execution_count": 6,
   "metadata": {},
   "outputs": [
    {
     "name": "stdout",
     "output_type": "stream",
     "text": [
      "9000 9000\n",
      "True\n"
     ]
    }
   ],
   "source": [
    "a = b = 9000 # \"a\" bound first, then \"b\"\n",
    "print(a, b)\n",
    "print(a is b)"
   ]
  },
  {
   "cell_type": "code",
   "execution_count": null,
   "metadata": {},
   "outputs": [],
   "source": []
  },
  {
   "cell_type": "code",
   "execution_count": 7,
   "metadata": {},
   "outputs": [
    {
     "name": "stdout",
     "output_type": "stream",
     "text": [
      "2 1\n"
     ]
    }
   ],
   "source": [
    "a, b = 1, 2 # tuple unpacking\n",
    "a, b = b, a # this is a safe operation in Python. You don't need a temporary third variable.\n",
    "print(a, b)"
   ]
  },
  {
   "cell_type": "code",
   "execution_count": 8,
   "metadata": {},
   "outputs": [
    {
     "data": {
      "text/plain": [
       "(1, 2)"
      ]
     },
     "execution_count": 8,
     "metadata": {},
     "output_type": "execute_result"
    }
   ],
   "source": [
    "# If you combine tuple unpacking and multiple assignment, you get this is fun puzzle. \n",
    "# The values for a and b are swapped and then swapped back. Basically, nothing happens.\n",
    "a, b = 1, 2\n",
    "\n",
    "(b, a) = (a, b) = (a, b)\n",
    "a, b"
   ]
  },
  {
   "cell_type": "markdown",
   "metadata": {},
   "source": [
    "To prove that multiple assigment happens left to right, so I use a `property` attribute. I'll explain `property` later."
   ]
  },
  {
   "cell_type": "code",
   "execution_count": 9,
   "metadata": {},
   "outputs": [],
   "source": [
    "class SillyAssignment:\n",
    "    def __init__(self, value):\n",
    "        self.id = value\n",
    "        self._gotit = None\n",
    "        self._counter = 0\n",
    "    \n",
    "    @property\n",
    "    def gotit(self):\n",
    "        print(\"Getter {}: {}\".format(self.id, self._gotit))\n",
    "        return self._gotit\n",
    "        \n",
    "    @gotit.setter\n",
    "    def gotit(self, value):\n",
    "        self._counter += 1\n",
    "        print(\"Setter {} to {}; set {} time(s)\".format(self.id, value, self._counter))\n",
    "        self._gotit = value"
   ]
  },
  {
   "cell_type": "code",
   "execution_count": 10,
   "metadata": {},
   "outputs": [],
   "source": [
    "a, b = 1, 2\n",
    "\n",
    "s1 = SillyAssignment(\"s1\")\n",
    "s2 = SillyAssignment(\"s2\")"
   ]
  },
  {
   "cell_type": "code",
   "execution_count": 11,
   "metadata": {},
   "outputs": [
    {
     "name": "stdout",
     "output_type": "stream",
     "text": [
      "Setter s2 to 1; set 1 time(s)\n",
      "Setter s1 to 2; set 1 time(s)\n",
      "Setter s1 to 1; set 2 time(s)\n",
      "Setter s2 to 2; set 2 time(s)\n"
     ]
    }
   ],
   "source": [
    "s2.gotit, s1.gotit = s1.gotit, s2.gotit = (a, b)"
   ]
  },
  {
   "cell_type": "code",
   "execution_count": null,
   "metadata": {},
   "outputs": [],
   "source": []
  },
  {
   "cell_type": "code",
   "execution_count": null,
   "metadata": {},
   "outputs": [],
   "source": []
  },
  {
   "cell_type": "markdown",
   "metadata": {},
   "source": [
    "### I Need Help: Can you `lambda` hand?  \n",
    "Lambda functions (AKA anonymous functions) are a quick way to define a function. Lambda functions are for the most part equivalent to regular `def` functions, but specifically for simple, 1-line, single expressions. Common use cases for lambdas are in `sorted()`, functional programming (`map()`, `filter()`, `reduce()`), pandas DataFrame `.apply()`, and DAG-based transformations like Spark (which uses functional programming). Lambdas cannot be used for statements (like assignment)."
   ]
  },
  {
   "cell_type": "code",
   "execution_count": 1,
   "metadata": {},
   "outputs": [],
   "source": [
    "sorted([(1, \"z\"), (2, \"y\"), (3, \"x\")], key=lambda tup: tup[1])"
   ]
  },
  {
   "cell_type": "code",
   "execution_count": 2,
   "metadata": {},
   "outputs": [
    {
     "data": {
      "text/plain": [
       "75"
      ]
     },
     "execution_count": 2,
     "metadata": {},
     "output_type": "execute_result"
    }
   ],
   "source": [
    "from functools import reduce\n",
    "\n",
    "reduce(\n",
    "    lambda x, y: x + y, \n",
    "    filter(\n",
    "        lambda x: x % 2, \n",
    "        map(\n",
    "            lambda x: x * 3, \n",
    "            range(10)\n",
    "        )\n",
    "    )\n",
    ") # multiple all the numbers by 3, filter and keep numbers that are odd, add them together"
   ]
  },
  {
   "cell_type": "code",
   "execution_count": 6,
   "metadata": {},
   "outputs": [
    {
     "data": {
      "text/plain": [
       "75"
      ]
     },
     "execution_count": 6,
     "metadata": {},
     "output_type": "execute_result"
    }
   ],
   "source": [
    "# the previous example is a bit contrived since list comprehensions (and generators) can perform both map and filter, and a for-loop is recommended over a reduce function\n",
    "summation = 0\n",
    "map_and_filter = (element * 3 for element in range(10) if element * 3 % 2)\n",
    "for element in map_and_filter:\n",
    "    summation += element\n",
    "summation"
   ]
  },
  {
   "cell_type": "code",
   "execution_count": 3,
   "metadata": {},
   "outputs": [
    {
     "data": {
      "text/plain": [
       "0     4\n",
       "1    16\n",
       "2    36\n",
       "3    64\n",
       "Name: a, dtype: int64"
      ]
     },
     "execution_count": 3,
     "metadata": {},
     "output_type": "execute_result"
    }
   ],
   "source": [
    "import pandas as pd\n",
    "\n",
    "df = pd.DataFrame({\"a\": range(2, 10, 2)})\n",
    "df[\"a\"].apply(lambda x: x ** 2)"
   ]
  },
  {
   "cell_type": "code",
   "execution_count": 10,
   "metadata": {},
   "outputs": [
    {
     "name": "stdout",
     "output_type": "stream",
     "text": [
      "43\n",
      "3\n",
      "45\n"
     ]
    }
   ],
   "source": [
    "# technically you can name your function and still have default values. lambda truly is like a `def` function with a 1-line body.\n",
    "summer = lambda x, y=42: x + y\n",
    "\n",
    "print(summer(1))\n",
    "print(summer(1, 2))\n",
    "print(reduce(summer, range(10)))"
   ]
  },
  {
   "cell_type": "code",
   "execution_count": null,
   "metadata": {},
   "outputs": [],
   "source": []
  },
  {
   "cell_type": "markdown",
   "metadata": {},
   "source": [
    "### The Key in Getting into Arguments\n",
    "Often times, you see `*args` and `**kwargs`, and you always were curious about what it does but were too afraid to ask.  \n",
    "It's a bit confusing in that where `*args` appears affects how it works.  \n",
    "\n",
    "For example, if you see `*args` in the function **definition/signature** (`def my_function(*args)`), then it is accumulating all the arguments into 1 tuple stored in a variable called `args`."
   ]
  },
  {
   "cell_type": "code",
   "execution_count": 11,
   "metadata": {},
   "outputs": [
    {
     "name": "stdout",
     "output_type": "stream",
     "text": [
      "(1, 2, 3, 4, 4)\n",
      "<class 'tuple'>\n",
      "None\n"
     ]
    }
   ],
   "source": [
    "def silly_function(*args):\n",
    "    print(args)\n",
    "    print(type(args))\n",
    "    \n",
    "print(silly_function(1, 2, 3, 4, 4))"
   ]
  },
  {
   "cell_type": "markdown",
   "metadata": {},
   "source": [
    "However, if you see `*args` in the function **call**, then it is separating the iterable into multiple arguments: 1 argument becomes multiple arguments. The order of the separated arguments is retained.  "
   ]
  },
  {
   "cell_type": "code",
   "execution_count": 17,
   "metadata": {},
   "outputs": [
    {
     "name": "stdout",
     "output_type": "stream",
     "text": [
      "1\n",
      "2\n",
      "3\n",
      "\n",
      "x\n",
      "y\n",
      "z\n"
     ]
    }
   ],
   "source": [
    "def silly_function(a, b, c):\n",
    "    print(a)\n",
    "    print(b)\n",
    "    print(c)\n",
    "\n",
    "silly_function(*(1, 2, 3)) # this function call passes in 1 argument, which is a tuple.\n",
    "print()\n",
    "silly_function(*\"xyz\") # this function call passes in a string, which is technically iterable."
   ]
  },
  {
   "cell_type": "markdown",
   "metadata": {},
   "source": [
    "`**kwargs` stands for keyword arguments. It means that you are explicitly passing in an argument name and argument value. Again, the placement of `**kwargs` changes the behavior. `**kwargs` in the function **definition/signature** means that all named arguments will be placed in a dictionary."
   ]
  },
  {
   "cell_type": "code",
   "execution_count": 18,
   "metadata": {},
   "outputs": [
    {
     "name": "stdout",
     "output_type": "stream",
     "text": [
      "{'a': 1, 'b': 2, 'c': 3}\n",
      "<class 'dict'>\n"
     ]
    }
   ],
   "source": [
    "def silly_function(**kwargs):\n",
    "    print(kwargs)\n",
    "    print(type(kwargs))\n",
    "    \n",
    "silly_function(a=1, b=2, c=3)"
   ]
  },
  {
   "cell_type": "markdown",
   "metadata": {},
   "source": [
    "`**kwargs` in the function **call** means separate the dictionary into named arguments. This is useful if you want to guarantee that the variables are explicitly given an argument name and argument value because you cannot rely on the order of the arguments like in `*args`."
   ]
  },
  {
   "cell_type": "code",
   "execution_count": 22,
   "metadata": {},
   "outputs": [
    {
     "name": "stdout",
     "output_type": "stream",
     "text": [
      "1\n",
      "2\n",
      "3\n"
     ]
    }
   ],
   "source": [
    "def silly_function(a, b, c):\n",
    "    print(a)\n",
    "    print(b)\n",
    "    print(c)\n",
    "    \n",
    "silly_function(**{\"c\": 3, \"b\": 2, \"a\": 1}) # equivalent to silly_function(c=3, b=2, a=1)"
   ]
  },
  {
   "cell_type": "markdown",
   "metadata": {},
   "source": [
    "You can also use `*args` and `**kwargs` together. Also, the word `args` or `kwargs` are not special. It's just a Python convention. You can name it anything."
   ]
  },
  {
   "cell_type": "code",
   "execution_count": 30,
   "metadata": {},
   "outputs": [
    {
     "name": "stdout",
     "output_type": "stream",
     "text": [
      "(1, 2, 3)\n",
      "{'d': 4, 'e': 5, 'f': 6}\n"
     ]
    }
   ],
   "source": [
    "def silly_function(*my_silly_args, **my_silly_kwargs): # * in the function definition\n",
    "    print(my_silly_args)\n",
    "    print(my_silly_kwargs)\n",
    "    \n",
    "silly_function(1, 2, 3, d=4, e=5, f=6)"
   ]
  },
  {
   "cell_type": "code",
   "execution_count": 32,
   "metadata": {},
   "outputs": [
    {
     "name": "stdout",
     "output_type": "stream",
     "text": [
      "1 2 3 4 5 6\n"
     ]
    }
   ],
   "source": [
    "def silly_function(a, b, c, d, e, f):\n",
    "    print(a, b, c, d, e, f)\n",
    "    \n",
    "silly_function(\n",
    "    *[1, 2, 3], # * in the function call\n",
    "    **{\"f\": 6, \"e\": 5, \"d\": 4}\n",
    ")"
   ]
  },
  {
   "cell_type": "code",
   "execution_count": 24,
   "metadata": {
    "scrolled": true
   },
   "outputs": [
    {
     "name": "stdout",
     "output_type": "stream",
     "text": [
      "(1, 2, 3)\n",
      "{'d': 4, 'e': 5, 'f': 6}\n"
     ]
    }
   ],
   "source": [
    "# stars everywhere: it's a constellation!\n",
    "def silly_function(*my_silly_args, **my_silly_kwargs):\n",
    "    print(my_silly_args)\n",
    "    print(my_silly_kwargs)\n",
    "    \n",
    "silly_function(\n",
    "    *[1, 2, 3],\n",
    "    **{\"d\": 4, \"e\": 5, \"f\": 6}\n",
    ")"
   ]
  },
  {
   "cell_type": "markdown",
   "metadata": {},
   "source": [
    "Often times, you will see a function called a decorator that has both `*args` and `**kwargs` and wonder why that is. Soon you'll know!"
   ]
  },
  {
   "cell_type": "code",
   "execution_count": 36,
   "metadata": {},
   "outputs": [],
   "source": [
    "def identity_decorator(func): # does nothing special\n",
    "    def inner(*args, **kwargs):\n",
    "        return func(*args, **kwargs)\n",
    "    return inner"
   ]
  },
  {
   "cell_type": "code",
   "execution_count": null,
   "metadata": {},
   "outputs": [],
   "source": []
  },
  {
   "cell_type": "code",
   "execution_count": null,
   "metadata": {},
   "outputs": [],
   "source": []
  },
  {
   "cell_type": "markdown",
   "metadata": {},
   "source": [
    "### Decorate like a Boss!\n",
    "Everything you wanted to know about **decorators** but were too afraid to ask.  \n",
    "\n",
    "Decorators sounds like an ornament you put on a Christmas tree. Then you put your programming hat on, and you think it must be very complicated. BUT it's actually a very simple concept.  \n",
    "Boring, academic definition: decorators are higher-order functions that either take in a function and/or return a function for function composition.  \n",
    "Actual practical importance: You have a function that you want to change some behavior before or after the function call.  \n",
    "\n",
    "Now you may be wondering: why would you want a decorator if you can just change the original function--if all you are going to do is change something before and/or after the original function call. The reason could be: \n",
    "* You can't change the original function because it is too complicated to understand.  \n",
    "* You can't change the original function because you don't have access to change it.  \n",
    "* You can't change the original function because it is used everywhere and you don't know which ones want to change.  \n",
    "* You just wanna be ~~cool~~ a pro!  \n",
    "\n",
    "\\* *nota bene*: subtitle stolen/appropriated/borrowed/adapted from an article called \"Everything You Wanted to Know about the Kernel Trick\n",
    "(But Were Too Afraid to Ask)\""
   ]
  },
  {
   "cell_type": "code",
   "execution_count": 61,
   "metadata": {},
   "outputs": [],
   "source": [
    "def make_my_function_polite(func):\n",
    "    def inner(arg):\n",
    "        print(\"hello!\")\n",
    "        result = func(arg) # notice I'm storing results if I want to do something after my function call\n",
    "        print(\"bye!\")\n",
    "        return result\n",
    "    return inner # notice I am returning a function back"
   ]
  },
  {
   "cell_type": "code",
   "execution_count": 62,
   "metadata": {},
   "outputs": [
    {
     "name": "stdout",
     "output_type": "stream",
     "text": [
      "84\n"
     ]
    }
   ],
   "source": [
    "def double(x):\n",
    "    return x * 2\n",
    "print(double(42))"
   ]
  },
  {
   "cell_type": "code",
   "execution_count": 67,
   "metadata": {},
   "outputs": [
    {
     "data": {
      "text/plain": [
       "<function __main__.make_my_function_polite.<locals>.inner>"
      ]
     },
     "execution_count": 67,
     "metadata": {},
     "output_type": "execute_result"
    }
   ],
   "source": [
    "make_my_function_polite(double) # notice that a function is returned"
   ]
  },
  {
   "cell_type": "code",
   "execution_count": 63,
   "metadata": {},
   "outputs": [
    {
     "name": "stdout",
     "output_type": "stream",
     "text": [
      "hello!\n",
      "bye!\n"
     ]
    },
    {
     "data": {
      "text/plain": [
       "84"
      ]
     },
     "execution_count": 63,
     "metadata": {},
     "output_type": "execute_result"
    }
   ],
   "source": [
    "make_my_function_polite(double)(42) # apply decorator 1 time"
   ]
  },
  {
   "cell_type": "code",
   "execution_count": 64,
   "metadata": {},
   "outputs": [
    {
     "name": "stdout",
     "output_type": "stream",
     "text": [
      "hello!\n",
      "bye!\n",
      "2\n",
      "\n",
      "hello!\n",
      "bye!\n",
      "6\n"
     ]
    }
   ],
   "source": [
    "# however, often times, you want to make the effects of the decorator \"permanent\" to all function calls\n",
    "double = make_my_function_polite(double)\n",
    "print(double(1))\n",
    "print()\n",
    "print(double(3))"
   ]
  },
  {
   "cell_type": "code",
   "execution_count": 65,
   "metadata": {},
   "outputs": [
    {
     "name": "stdout",
     "output_type": "stream",
     "text": [
      "hello!\n",
      "bye!\n"
     ]
    },
    {
     "data": {
      "text/plain": [
       "84"
      ]
     },
     "execution_count": 65,
     "metadata": {},
     "output_type": "execute_result"
    }
   ],
   "source": [
    "# however, the previous syntax is ugly--nobody uses it. Here's the decorator syntax you see in the real-world\n",
    "@make_my_function_polite\n",
    "def double(x):\n",
    "    return x * 2\n",
    "\n",
    "double(42)"
   ]
  },
  {
   "cell_type": "markdown",
   "metadata": {},
   "source": [
    "Now you may be thinking, what are some practical things you want to change before you your original function call: change the arguments or check for valid types. Some practical things you want after the original function call: logging action to disk, closing a connection to a database, return the output of the original function call and an extra flag depending on the output."
   ]
  },
  {
   "cell_type": "code",
   "execution_count": 83,
   "metadata": {},
   "outputs": [
    {
     "ename": "ValueError",
     "evalue": "Not a valid argument",
     "output_type": "error",
     "traceback": [
      "\u001b[1;31m---------------------------------------------------------------------------\u001b[0m",
      "\u001b[1;31mValueError\u001b[0m                                Traceback (most recent call last)",
      "\u001b[1;32m<ipython-input-83-e9bcd36c2dec>\u001b[0m in \u001b[0;36m<module>\u001b[1;34m()\u001b[0m\n\u001b[0;32m     11\u001b[0m     \u001b[1;32mreturn\u001b[0m \u001b[0mx\u001b[0m \u001b[1;33m*\u001b[0m \u001b[1;36m2\u001b[0m\u001b[1;33m\u001b[0m\u001b[0m\n\u001b[0;32m     12\u001b[0m \u001b[1;33m\u001b[0m\u001b[0m\n\u001b[1;32m---> 13\u001b[1;33m \u001b[0mdouble\u001b[0m\u001b[1;33m(\u001b[0m\u001b[1;34m\"42\"\u001b[0m\u001b[1;33m)\u001b[0m\u001b[1;33m\u001b[0m\u001b[0m\n\u001b[0m",
      "\u001b[1;32m<ipython-input-83-e9bcd36c2dec>\u001b[0m in \u001b[0;36minner\u001b[1;34m(arg)\u001b[0m\n\u001b[0;32m      2\u001b[0m     \u001b[1;32mdef\u001b[0m \u001b[0minner\u001b[0m\u001b[1;33m(\u001b[0m\u001b[0marg\u001b[0m\u001b[1;33m)\u001b[0m\u001b[1;33m:\u001b[0m\u001b[1;33m\u001b[0m\u001b[0m\n\u001b[0;32m      3\u001b[0m         \u001b[1;32mif\u001b[0m \u001b[1;32mnot\u001b[0m \u001b[0misinstance\u001b[0m\u001b[1;33m(\u001b[0m\u001b[0marg\u001b[0m\u001b[1;33m,\u001b[0m \u001b[1;33m(\u001b[0m\u001b[0mfloat\u001b[0m\u001b[1;33m,\u001b[0m \u001b[0mint\u001b[0m\u001b[1;33m)\u001b[0m\u001b[1;33m)\u001b[0m\u001b[1;33m:\u001b[0m\u001b[1;33m\u001b[0m\u001b[0m\n\u001b[1;32m----> 4\u001b[1;33m             \u001b[1;32mraise\u001b[0m \u001b[0mValueError\u001b[0m\u001b[1;33m(\u001b[0m\u001b[1;34m\"Not a valid argument\"\u001b[0m\u001b[1;33m)\u001b[0m\u001b[1;33m\u001b[0m\u001b[0m\n\u001b[0m\u001b[0;32m      5\u001b[0m         \u001b[1;32melse\u001b[0m\u001b[1;33m:\u001b[0m\u001b[1;33m\u001b[0m\u001b[0m\n\u001b[0;32m      6\u001b[0m             \u001b[1;32mreturn\u001b[0m \u001b[0mfunc\u001b[0m\u001b[1;33m(\u001b[0m\u001b[0marg\u001b[0m\u001b[1;33m)\u001b[0m\u001b[1;33m\u001b[0m\u001b[0m\n",
      "\u001b[1;31mValueError\u001b[0m: Not a valid argument"
     ]
    }
   ],
   "source": [
    "def penalize_type(func):\n",
    "    def inner(arg):\n",
    "        if not isinstance(arg, (float, int)):\n",
    "            raise ValueError(\"Not a valid argument\")\n",
    "        else:\n",
    "            return func(arg)\n",
    "    return inner\n",
    "\n",
    "@penalize_type\n",
    "def double(x):\n",
    "    return x * 2\n",
    "\n",
    "double(\"42\")"
   ]
  },
  {
   "cell_type": "code",
   "execution_count": 85,
   "metadata": {},
   "outputs": [
    {
     "data": {
      "text/plain": [
       "84.0"
      ]
     },
     "execution_count": 85,
     "metadata": {},
     "output_type": "execute_result"
    }
   ],
   "source": [
    "def accommodate_type(func):\n",
    "    def inner(arg):\n",
    "        if isinstance(arg, str):\n",
    "            arg = float(arg)\n",
    "        return func(arg)\n",
    "    return inner\n",
    "\n",
    "@accommodate_type\n",
    "def double(x):\n",
    "    return x * 2\n",
    "\n",
    "double(\"42\")"
   ]
  },
  {
   "cell_type": "markdown",
   "metadata": {},
   "source": [
    "In fact, you can even stack/chain decorators. The decorator closest to the function the decorator is applied first. Now that I think about it, decorators are in some sense like a generator for functions--decorators change the function call at execution time but are effectively lazy."
   ]
  },
  {
   "cell_type": "code",
   "execution_count": 68,
   "metadata": {},
   "outputs": [
    {
     "name": "stdout",
     "output_type": "stream",
     "text": [
      "Hiiiiii! -Kirby\n",
      "I'll be back! -The Terminator\n"
     ]
    },
    {
     "data": {
      "text/plain": [
       "84"
      ]
     },
     "execution_count": 68,
     "metadata": {},
     "output_type": "execute_result"
    }
   ],
   "source": [
    "def greetings__I_am_close(func):\n",
    "    def inner(arg):\n",
    "        print(\"Hiiiiii! -Kirby\")\n",
    "        return func(arg)\n",
    "    return inner\n",
    "    \n",
    "def farewell__I_am_far(func):\n",
    "    def inner(arg):\n",
    "        results = func(arg)\n",
    "        print(\"I'll be back! -The Terminator\")\n",
    "        return results\n",
    "    return inner\n",
    "\n",
    "@farewell__I_am_far\n",
    "@greetings__I_am_close\n",
    "def double(x):\n",
    "    return x * 2\n",
    "\n",
    "double(42)"
   ]
  },
  {
   "cell_type": "markdown",
   "metadata": {},
   "source": [
    "Now you have another question, what do you do if you have multiple arguments that you don't know the number of argments or argument names or which arguments are still using the default values. That's where you use `*args` and `**kwargs`! This setup covers all cases."
   ]
  },
  {
   "cell_type": "code",
   "execution_count": 20,
   "metadata": {},
   "outputs": [
    {
     "name": "stdout",
     "output_type": "stream",
     "text": [
      "1 2 3\n",
      "5 4 3\n",
      "6 7 8\n",
      "11 12 10\n"
     ]
    }
   ],
   "source": [
    "def identity_decorator(func): # does nothing special\n",
    "    def inner(*args, **kwargs):\n",
    "        return func(*args, **kwargs)\n",
    "    return inner\n",
    "\n",
    "@identity_decorator\n",
    "def silly_function(a, b, c=3):\n",
    "    print(a, b, c)\n",
    "    \n",
    "silly_function(1, 2)\n",
    "silly_function(a=5, b=4)\n",
    "silly_function(*(6, 7, 8))\n",
    "silly_function(**{\"c\": 10, \"a\": 11, \"b\": 12})"
   ]
  },
  {
   "cell_type": "markdown",
   "metadata": {},
   "source": [
    "Now you may ask. What about the docstring? Won't the decorated function contain the decorator's docstring? You are correct. That's why we do functools.wraps() decorator to extract the correct docstring."
   ]
  },
  {
   "cell_type": "code",
   "execution_count": 36,
   "metadata": {},
   "outputs": [
    {
     "name": "stdout",
     "output_type": "stream",
     "text": [
      "Help on function inner in module __main__:\n",
      "\n",
      "inner(*args, **kwargs)\n",
      "    Decorator that does nothing special\n",
      "\n"
     ]
    }
   ],
   "source": [
    "def identity_decorator(func):\n",
    "    \"\"\"This docstring is totally lost after decorating a function\"\"\"\n",
    "    def inner(*args, **kwargs):\n",
    "        \"\"\"Decorator that does nothing special\"\"\"\n",
    "        return func(*args, **kwargs)\n",
    "    return inner\n",
    "\n",
    "@identity_decorator\n",
    "def double(arg):\n",
    "    \"Double the value\"\n",
    "    return arg * 2\n",
    "\n",
    "\n",
    "help(double)"
   ]
  },
  {
   "cell_type": "code",
   "execution_count": 37,
   "metadata": {},
   "outputs": [
    {
     "name": "stdout",
     "output_type": "stream",
     "text": [
      "Help on function double in module __main__:\n",
      "\n",
      "double(arg)\n",
      "    Double the value\n",
      "\n"
     ]
    }
   ],
   "source": [
    "from functools import wraps\n",
    "\n",
    "def identity_decorator(func):\n",
    "    \"\"\"This docstring is totally lost after decorating a function\"\"\"\n",
    "    @wraps(func) # I decorate the inner function, so that I extract the original function's docstring and apply it to the returned inner() function\n",
    "    def inner(*args, **kwargs):\n",
    "        \"\"\"Decorator that does nothing special\"\"\"\n",
    "        return func(*args, **kwargs)\n",
    "    return inner\n",
    "\n",
    "@identity_decorator\n",
    "def double(arg):\n",
    "    \"Double the value\"\n",
    "    return arg * 2\n",
    "\n",
    "\n",
    "help(double)"
   ]
  },
  {
   "cell_type": "markdown",
   "metadata": {},
   "source": [
    "Now you may another question: can decorators take any arguments? YES! Remember, decorators themselves are just regular functions. The only difference is that inside of taking arguments that contain data and return processed data, decorators take in functions and return \"processed/enhanced/augmented\" functions. That is why they are called decorators--they decorate the original function.\n",
    "\n",
    "For example, a naive implementation of fibonacci has O(n^2) runtime complexity--it has quadratic runtime. "
   ]
  },
  {
   "cell_type": "code",
   "execution_count": 43,
   "metadata": {},
   "outputs": [
    {
     "name": "stdout",
     "output_type": "stream",
     "text": [
      "current number is 7\n",
      "current number is 6\n",
      "current number is 5\n",
      "current number is 4\n",
      "current number is 3\n",
      "current number is 2\n",
      "current number is 1\n",
      "current number is 2\n",
      "current number is 3\n",
      "current number is 2\n",
      "current number is 1\n",
      "current number is 4\n",
      "current number is 3\n",
      "current number is 2\n",
      "current number is 1\n",
      "current number is 2\n",
      "current number is 5\n",
      "current number is 4\n",
      "current number is 3\n",
      "current number is 2\n",
      "current number is 1\n",
      "current number is 2\n",
      "current number is 3\n",
      "current number is 2\n",
      "current number is 1\n",
      "Wall time: 2.52 s\n"
     ]
    }
   ],
   "source": [
    "%%time\n",
    "import time\n",
    "\n",
    "def fibonacci_recursion(num):\n",
    "    print(\"current number is {}\".format(num))\n",
    "    time.sleep(0.1)\n",
    "    if (num == 1) or (num == 2):\n",
    "        return 1\n",
    "    else:\n",
    "        return fibonacci_recursion(num - 1) + fibonacci_recursion(num - 2)\n",
    "\n",
    "\n",
    "fibonacci_recursion(7)"
   ]
  },
  {
   "cell_type": "markdown",
   "metadata": {},
   "source": [
    "With `lru_cache()` (which stands for Least-Recently-Used cache), we can put fibonacci to O(n) linear runtime. `lru_cache()` has an argument for `maxsize`--how big do you want your cache to be? Decorators that have arguments are basically decorators within decorators. Nested decorators is how they are written: the outer decorator takes configuration(s) as arguments; the inner decorator takes in the target function as the argument.  \n",
    "Just a side note: caches are useful in a technique called memoization--not a typo, not memorization. Memoization + recursion = dynamic programming."
   ]
  },
  {
   "cell_type": "code",
   "execution_count": 51,
   "metadata": {},
   "outputs": [
    {
     "name": "stdout",
     "output_type": "stream",
     "text": [
      "current number is 7\n",
      "current number is 6\n",
      "current number is 5\n",
      "current number is 4\n",
      "current number is 3\n",
      "current number is 2\n",
      "current number is 1\n",
      "Wall time: 705 ms\n"
     ]
    }
   ],
   "source": [
    "%%time\n",
    "from functools import lru_cache\n",
    "\n",
    "@lru_cache(maxsize=128)\n",
    "def fibonacci_recursion(num):\n",
    "    print(\"current number is {}\".format(num))\n",
    "    time.sleep(0.1)\n",
    "    if (num == 1) or (num == 2):\n",
    "        return 1\n",
    "    else:\n",
    "        return fibonacci_recursion(num - 1) + fibonacci_recursion(num - 2)\n",
    "\n",
    "fibonacci_recursion(7)"
   ]
  },
  {
   "cell_type": "markdown",
   "metadata": {},
   "source": [
    "Now you may have a question. Does decorators work on things outside of functions? YES! Decorators also works on classes or anything that is callable."
   ]
  },
  {
   "cell_type": "code",
   "execution_count": 56,
   "metadata": {},
   "outputs": [
    {
     "name": "stdout",
     "output_type": "stream",
     "text": [
      "Greetings, I come in peace --Never said by the Borg\n"
     ]
    },
    {
     "data": {
      "text/html": [
       "<div>\n",
       "<style scoped>\n",
       "    .dataframe tbody tr th:only-of-type {\n",
       "        vertical-align: middle;\n",
       "    }\n",
       "\n",
       "    .dataframe tbody tr th {\n",
       "        vertical-align: top;\n",
       "    }\n",
       "\n",
       "    .dataframe thead th {\n",
       "        text-align: right;\n",
       "    }\n",
       "</style>\n",
       "<table border=\"1\" class=\"dataframe\">\n",
       "  <thead>\n",
       "    <tr style=\"text-align: right;\">\n",
       "      <th></th>\n",
       "      <th>a</th>\n",
       "    </tr>\n",
       "  </thead>\n",
       "  <tbody>\n",
       "    <tr>\n",
       "      <th>0</th>\n",
       "      <td>0</td>\n",
       "    </tr>\n",
       "    <tr>\n",
       "      <th>1</th>\n",
       "      <td>1</td>\n",
       "    </tr>\n",
       "    <tr>\n",
       "      <th>2</th>\n",
       "      <td>2</td>\n",
       "    </tr>\n",
       "    <tr>\n",
       "      <th>3</th>\n",
       "      <td>3</td>\n",
       "    </tr>\n",
       "    <tr>\n",
       "      <th>4</th>\n",
       "      <td>4</td>\n",
       "    </tr>\n",
       "  </tbody>\n",
       "</table>\n",
       "</div>"
      ],
      "text/plain": [
       "   a\n",
       "0  0\n",
       "1  1\n",
       "2  2\n",
       "3  3\n",
       "4  4"
      ]
     },
     "execution_count": 56,
     "metadata": {},
     "output_type": "execute_result"
    }
   ],
   "source": [
    "import pandas as pd\n",
    "\n",
    "def polite_class(cls):\n",
    "    def inner(*args, **kwargs):\n",
    "        print(\"Greetings, I come in peace --Never said by the Borg\")\n",
    "        result = cls(*args, **kwargs) # technically you don't need the save it; you can just return\n",
    "        return result\n",
    "    return inner\n",
    "\n",
    "pd.DataFrame = polite_class(pd.DataFrame)\n",
    "pd.DataFrame({\"a\": range(5)})"
   ]
  },
  {
   "cell_type": "markdown",
   "metadata": {},
   "source": [
    "Now, are there any more questions? ;-)"
   ]
  },
  {
   "cell_type": "code",
   "execution_count": null,
   "metadata": {},
   "outputs": [],
   "source": []
  },
  {
   "cell_type": "markdown",
   "metadata": {},
   "source": [
    "## Helpful Libraries\n",
    "#### `collections`:\n",
    "* Marketing docstring: This module implements specialized container datatypes providing alternatives to Python’s general purpose built-in containers, dict, list, set, and tuple. \n",
    "* What it actually does: Whatever types you have, they can be cooler!\n",
    "* Useful classes: `Counter` and `defaultdict`"
   ]
  },
  {
   "cell_type": "code",
   "execution_count": null,
   "metadata": {},
   "outputs": [],
   "source": [
    "# Typical Way of Letter Count\n",
    "letters = \"abcdcacdacadacdabbbabc\"\n",
    "\n",
    "letter_count = {}\n",
    "for letter in letters:\n",
    "    if letter in letter_count:\n",
    "        letter_count[letter] += 1\n",
    "    else:\n",
    "        letter_count[letter] = 1\n",
    "letter_count"
   ]
  },
  {
   "cell_type": "code",
   "execution_count": 2,
   "metadata": {},
   "outputs": [
    {
     "data": {
      "text/plain": [
       "{'a': 7, 'b': 5, 'c': 6, 'd': 4}"
      ]
     },
     "execution_count": 2,
     "metadata": {},
     "output_type": "execute_result"
    }
   ],
   "source": [
    "# Using `dict.get`, which is a safe operator for unknown keys\n",
    "letters = \"abcdcacdacadacdabbbabc\"\n",
    "\n",
    "letter_count = {}\n",
    "for letter in letters:\n",
    "    letter_count[letter] = letter_count.get(letter, 0) + 1\n",
    "letter_count"
   ]
  },
  {
   "cell_type": "code",
   "execution_count": 3,
   "metadata": {},
   "outputs": [
    {
     "name": "stdout",
     "output_type": "stream",
     "text": [
      "Counter({'a': 7, 'c': 6, 'b': 5, 'd': 4})\n",
      "[('a', 7), ('c', 6), ('b', 5), ('d', 4)]\n",
      "4\n",
      "0\n"
     ]
    }
   ],
   "source": [
    "# Use counter instead! counter is really an upgraded dictionary: it counts!\n",
    "from collections import Counter\n",
    "\n",
    "letters = \"abcdcacdacadacdabbbabc\"\n",
    "counter = Counter(letters) # just put your iterable here and Counter will do the rest\n",
    "print(counter)\n",
    "print(counter.most_common())\n",
    "print(counter['d']) # key is inside dict\n",
    "print(counter['z']) # key is not inside dict, so will output 0. Hence you don't need to counter.get('z', 0)"
   ]
  },
  {
   "cell_type": "code",
   "execution_count": null,
   "metadata": {},
   "outputs": [],
   "source": []
  },
  {
   "cell_type": "code",
   "execution_count": 4,
   "metadata": {},
   "outputs": [
    {
     "name": "stdout",
     "output_type": "stream",
     "text": [
      "[]\n",
      "defaultdict(<class 'list'>, {'a': [1]})\n"
     ]
    }
   ],
   "source": [
    "# defaultdict takes in a function, and that will be your default value if the key doesn't exist yet\n",
    "from collections import defaultdict\n",
    "\n",
    "dict_key_always_has_value = defaultdict(list) # put a function here\n",
    "print(dict_key_always_has_value['a']) # the key doesn't exist in your dictionary but the value is already available\n",
    "dict_key_always_has_value['a'].append(1)\n",
    "print(dict_key_always_has_value)"
   ]
  },
  {
   "cell_type": "code",
   "execution_count": 5,
   "metadata": {},
   "outputs": [
    {
     "name": "stdout",
     "output_type": "stream",
     "text": [
      "defaultdict(<class 'int'>, {'a': 7, 'b': 5, 'c': 6, 'd': 4})\n"
     ]
    }
   ],
   "source": [
    "# Here is how you do letter counts using a defaultdict.\n",
    "# If you think about it, a Counter is just a defaultdict using int, since int() returns 0.\n",
    "letters = \"abcdcacdacadacdabbbabc\"\n",
    "\n",
    "dict_key_always_has_value = defaultdict(int) # because int() returns 0\n",
    "for letter in letters:\n",
    "    dict_key_always_has_value[letter] = dict_key_always_has_value[letter] + 1 # equivalent to dict.get(letter, function_here())\n",
    "print(dict_key_always_has_value)"
   ]
  },
  {
   "cell_type": "code",
   "execution_count": 6,
   "metadata": {},
   "outputs": [
    {
     "name": "stdout",
     "output_type": "stream",
     "text": [
      "[None, None, None, None, None, None, None, None, None, None]\n",
      "defaultdict(<function <lambda> at 0x00000195D3B952F0>, {'a': [None, None, None, None, None, None, None, None, None, None]})\n",
      "False\n",
      "defaultdict(<function <lambda> at 0x00000195D3B952F0>, {'a': [None, None, None, None, None, None, None, None, None, None]})\n"
     ]
    }
   ],
   "source": [
    "# since the defaultdict argument is just a function, you can create whatever default values you like\n",
    "dict_key_always_has_value = defaultdict(lambda: [None] * 10)\n",
    "print(dict_key_always_has_value['a']) # the value by default is automatically [None] * 10\n",
    "print(dict_key_always_has_value) # notice that once you lookup ANY key, the key-value pair now exists in your dictionary\n",
    "print('b' in dict_key_always_has_value) # use this notation if you just want to check membership, but not add key-value pair to dict\n",
    "print(dict_key_always_has_value)"
   ]
  },
  {
   "cell_type": "code",
   "execution_count": 7,
   "metadata": {},
   "outputs": [
    {
     "name": "stdout",
     "output_type": "stream",
     "text": [
      "defaultdict(<class 'list'>, {})\n",
      "[]\n",
      "defaultdict(<function <lambda> at 0x00000195D3B95510>, {'a': defaultdict(<class 'list'>, {'a': [42]})})\n"
     ]
    }
   ],
   "source": [
    "# can nest defaultdicts for interesting data structure. I have actually used dict in dict before \n",
    "nested_defaultdict = defaultdict(lambda: defaultdict(list)) # each argument of a defaultdict must be a function\n",
    "print(nested_defaultdict['a']) # gives you the inner defaultdict back\n",
    "print(nested_defaultdict['a']['a']) # gives you the nested list\n",
    "nested_defaultdict['a']['a'].append(42)\n",
    "print(nested_defaultdict)"
   ]
  },
  {
   "cell_type": "code",
   "execution_count": null,
   "metadata": {},
   "outputs": [],
   "source": []
  },
  {
   "cell_type": "markdown",
   "metadata": {},
   "source": [
    "#### `tqdm`:\n",
    "* Marketing docstring: A Fast, Extensible Progress Bar for Python and CLI.\n",
    "* What it actually does: put a timer everywhere! If something is slow, time it!\n",
    "* tqdm means \"progress\" in Arabic (taqadum, تقدّم) and is an abbreviation for \"I love you so much\" in Spanish (te quiero demasiado)."
   ]
  },
  {
   "cell_type": "code",
   "execution_count": 8,
   "metadata": {},
   "outputs": [
    {
     "name": "stderr",
     "output_type": "stream",
     "text": [
      "100%|██████████| 10/10 [00:10<00:00,  1.00s/it]\n"
     ]
    }
   ],
   "source": [
    "from tqdm import tqdm # tqdm is a great library to show progress bar\n",
    "import time\n",
    "\n",
    "for i in tqdm(range(10)): # just wrap tqdm() around your iterable; useful Time Lapsed and Estimated Time of Completion for loops\n",
    "    time.sleep(1)"
   ]
  },
  {
   "cell_type": "code",
   "execution_count": null,
   "metadata": {
    "collapsed": true
   },
   "outputs": [],
   "source": []
  },
  {
   "cell_type": "markdown",
   "metadata": {},
   "source": [
    "### Style Guide"
   ]
  },
  {
   "cell_type": "code",
   "execution_count": 1,
   "metadata": {},
   "outputs": [
    {
     "name": "stdout",
     "output_type": "stream",
     "text": [
      "Hello, my name is Peter Pan\n",
      "Last name: Pan; first name: Peter. Again my name is Peter Pan\n",
      "Hello, my name is Peter Pan\n",
      "I am 13 years old!\n"
     ]
    }
   ],
   "source": [
    "# I usually use this type of syntax for prints where I put all the variables at the end. This is up to your personal preference\n",
    "first_name = 'Peter'\n",
    "last_name = 'Pan'\n",
    "print(\"Hello, my name is {} {}\".format(first_name, last_name))\n",
    "# You can change the order using named arguments and also repeat the arguments\n",
    "print(\"Last name: {last_name}; first name: {first_name}. Again my name is {first_name} {last_name}\".format(first_name=first_name, last_name=last_name))\n",
    "\n",
    "# f**** it! You can use the new f-string syntax that came out in Python 3.6\n",
    "print(f\"Hello, my name is {first_name} {last_name}\")\n",
    "# have you ever considered nested string formatting? ;-)\n",
    "print(f\"{f'I am {42 -29} years old!'}\")"
   ]
  },
  {
   "cell_type": "code",
   "execution_count": null,
   "metadata": {
    "collapsed": true
   },
   "outputs": [],
   "source": [
    "# Context manager\n",
    "# If you like, use this syntax since it guarantees that the file will be closed after everything in the code block is run.\n",
    "# It just saves one line (don't have to close file manually) and also make the code block for what you want to do\n",
    "# the file very obvious due to the indentation.\n",
    "with open('file_here') as f:\n",
    "    f.read()"
   ]
  },
  {
   "cell_type": "code",
   "execution_count": 2,
   "metadata": {},
   "outputs": [
    {
     "name": "stdout",
     "output_type": "stream",
     "text": [
      "This is my super looooooooooooooooooooooooooooooong string and it ends here!\n",
      "True\n",
      "This is my super long string that never ends because I do not want to stop typing for some reason until I'm out of breath!\n",
      "I like to count to big numbers. I start at 1 and finally end up at 10000000000\n"
     ]
    }
   ],
   "source": [
    "# Instead of \\ to denote line continuation, I use parenthesis--also works for brackets [].\n",
    "# Good for function calls with lots of arguments\n",
    "sum([1, 2, 3, 4, 5, 6, 7, 8, 9, 0, 1, 2, 3, 4, 5, 6, 7, 8, 9, 0, 1, 2, 3, 4, 5,\n",
    "     6, 7, 8, 9, 0])\n",
    "print(\"This is my super looooooooooooooooooooooooooooooong string \"\n",
    "     \"and it ends here!\")\n",
    "\n",
    "# Implicit string concatenation: notice that string literals are automatically appended to each other without '+' operator\n",
    "print(\"asdf\" \"asdf\" == 'asdfasdf')\n",
    "# Hence, parenthesis and long strings work well together.\n",
    "my_long_string = ('This is my super long string that never ends because I do not want to stop '\n",
    "                  \"typing for some reason until I'm out of breath!\")\n",
    "my_long_string_2 = ('I like to count to big numbers. I start at {} '\n",
    "                    'and finally end up at {}'\n",
    "                    .format(1, int(1e10)))\n",
    "print(my_long_string)\n",
    "print(my_long_string_2)"
   ]
  },
  {
   "cell_type": "code",
   "execution_count": null,
   "metadata": {
    "collapsed": true
   },
   "outputs": [],
   "source": [
    "# PEP8 is a nice style guide for readability. I try my best, but even I don't get it right every time.\n",
    "# http://pymbook.readthedocs.io/en/latest/pep8.html\n",
    "# If you are very fancy, you can have Python automatically format your code to conform to pep8 if you type this in the Terminal\n",
    "autopep8 your_python_script_here.py\n",
    "# This will print to Terminal the correctly formatted script but doesn't save it. \n",
    "# If you want to save the results back into your script, you can use the argument --in-place\n",
    "autopep8 --in-place your_python_script_here.py"
   ]
  },
  {
   "cell_type": "code",
   "execution_count": 3,
   "metadata": {},
   "outputs": [],
   "source": [
    "# I usually use triple hash sign ### when I need to make an important comment. Usually to mention something is hard coded.\n",
    "# This is not a Python PEP8 style. It's just a personal preference to make note that this is not a regular comment.\n",
    "PI = 3.14159265 ### this is hard coded"
   ]
  },
  {
   "cell_type": "code",
   "execution_count": null,
   "metadata": {
    "collapsed": true
   },
   "outputs": [],
   "source": [
    "# As a personal preference, I prefer to write pure functions with no side effects where \n",
    "# if you put in the same input, you always get the same output. When practical, I try to \n",
    "# avoid functions that mutate whatever is inputted. Pure functions are easier to debug.\n",
    "# Of course, sometimes it's just much easier or runs faster with mutation. Then I add a \n",
    "# triple hash sign to say that this function mutates the underlying object."
   ]
  },
  {
   "cell_type": "code",
   "execution_count": null,
   "metadata": {},
   "outputs": [],
   "source": []
  },
  {
   "cell_type": "code",
   "execution_count": 1,
   "metadata": {},
   "outputs": [],
   "source": [
    "class Issue():\n",
    "    def __init__(self, **kwargs):\n",
    "        self.__dict__.update(kwargs)\n",
    "        \n",
    "bbw = Issue(title=\"Bloomberg\", price=5.99, pages=112)"
   ]
  },
  {
   "cell_type": "markdown",
   "metadata": {},
   "source": [
    "TODOS:  \n",
    "vectorization  \n",
    "args, kwargs  \n",
    "new features: ordered dictionary, asyncio, walrus operator  \n",
    "intro to decorators, classmethod, staticmethod  \n",
    "eval/exec, ast.eval  \n",
    "multiple assignment; multiple comparison x < y < z  \n",
    "threads (concurrency) (race condition, fight) vs processes (parallel), hyperthreading, asyncio  \n",
    "Nonetheless, Python is quite fast. You write Python for the speed of development and expressiveness. If you need speed, Guido recommends you delegate the performance critical part to another language (Cython):  \n",
    "**\"At some point, you end up with one little piece of your system, as a whole, where you end up spending all your time. If you write that just as a sort of simple-minded Python loop, at some point you will see that that is the bottleneck in your system. It is usually much more effective to take that one piece and replace that one function or module with a little bit of code you wrote in C or C++ rather than rewriting your entire system in a faster language, because for most of what you're doing, the speed of the language is irrelevant.\" --Guido van Rossum**"
   ]
  },
  {
   "cell_type": "markdown",
   "metadata": {},
   "source": [
    "scoping with LEGB: global, local, nonlocal  \n",
    "object() as sentinel value  \n",
    "patterns?  \n",
    "type annotations, static typing  \n",
    "\n",
    "wtf python: https://github.com/satwikkansal/wtfpython  \n",
    "Unicode and UTF-8: https://www.joelonsoftware.com/2003/10/08/the-absolute-minimum-every-software-developer-absolutely-positively-must-know-about-unicode-and-character-sets-no-excuses/  \n",
    "Bloomberg's `What is Code`: https://www.bloomberg.com/graphics/2015-paul-ford-what-is-code/"
   ]
  },
  {
   "cell_type": "markdown",
   "metadata": {},
   "source": [
    "take notes"
   ]
  },
  {
   "cell_type": "code",
   "execution_count": null,
   "metadata": {},
   "outputs": [],
   "source": []
  }
 ],
 "metadata": {
  "kernelspec": {
   "display_name": "Python 3",
   "language": "python",
   "name": "python3"
  },
  "language_info": {
   "codemirror_mode": {
    "name": "ipython",
    "version": 3
   },
   "file_extension": ".py",
   "mimetype": "text/x-python",
   "name": "python",
   "nbconvert_exporter": "python",
   "pygments_lexer": "ipython3",
   "version": "3.6.4"
  }
 },
 "nbformat": 4,
 "nbformat_minor": 2
}
