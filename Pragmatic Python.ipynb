{
 "cells": [
  {
   "cell_type": "markdown",
   "metadata": {},
   "source": [
    "## Helpful Libraries\n",
    "#### `collections`:\n",
    "* Marketing docstring: This module implements specialized container datatypes providing alternatives to Python’s general purpose built-in containers, dict, list, set, and tuple. \n",
    "* What it actually does: Whatever types you have, they can be cooler!\n",
    "* Useful classes: `Counter` and `defaultdict`"
   ]
  },
  {
   "cell_type": "code",
   "execution_count": null,
   "metadata": {},
   "outputs": [],
   "source": [
    "# Typical Way of Letter Count\n",
    "letters = \"abcdcacdacadacdabbbabc\"\n",
    "\n",
    "letter_count = {}\n",
    "for letter in letters:\n",
    "    if letter in letter_count:\n",
    "        letter_count[letter] += 1\n",
    "    else:\n",
    "        letter_count[letter] = 1\n",
    "letter_count"
   ]
  },
  {
   "cell_type": "code",
   "execution_count": 2,
   "metadata": {},
   "outputs": [
    {
     "data": {
      "text/plain": [
       "{'a': 7, 'b': 5, 'c': 6, 'd': 4}"
      ]
     },
     "execution_count": 2,
     "metadata": {},
     "output_type": "execute_result"
    }
   ],
   "source": [
    "# Using `dict.get`, which is a safe operator for unknown keys\n",
    "letters = \"abcdcacdacadacdabbbabc\"\n",
    "\n",
    "letter_count = {}\n",
    "for letter in letters:\n",
    "    letter_count[letter] = letter_count.get(letter, 0) + 1\n",
    "letter_count"
   ]
  },
  {
   "cell_type": "code",
   "execution_count": 3,
   "metadata": {},
   "outputs": [
    {
     "name": "stdout",
     "output_type": "stream",
     "text": [
      "Counter({'a': 7, 'c': 6, 'b': 5, 'd': 4})\n",
      "[('a', 7), ('c', 6), ('b', 5), ('d', 4)]\n",
      "4\n",
      "0\n"
     ]
    }
   ],
   "source": [
    "# Use counter instead! counter is really an upgraded dictionary: it counts!\n",
    "from collections import Counter\n",
    "\n",
    "letters = \"abcdcacdacadacdabbbabc\"\n",
    "counter = Counter(letters) # just put your iterable here and Counter will do the rest\n",
    "print(counter)\n",
    "print(counter.most_common())\n",
    "print(counter['d']) # key is inside dict\n",
    "print(counter['z']) # key is not inside dict, so will output 0. Hence you don't need to counter.get('z', 0)"
   ]
  },
  {
   "cell_type": "code",
   "execution_count": null,
   "metadata": {},
   "outputs": [],
   "source": []
  },
  {
   "cell_type": "code",
   "execution_count": 4,
   "metadata": {},
   "outputs": [
    {
     "name": "stdout",
     "output_type": "stream",
     "text": [
      "[]\n",
      "defaultdict(<class 'list'>, {'a': [1]})\n"
     ]
    }
   ],
   "source": [
    "# defaultdict takes in a function, and that will be your default value if the key doesn't exist yet\n",
    "from collections import defaultdict\n",
    "\n",
    "dict_key_always_has_value = defaultdict(list) # put a function here\n",
    "print(dict_key_always_has_value['a']) # the key doesn't exist in your dictionary but the value is already available\n",
    "dict_key_always_has_value['a'].append(1)\n",
    "print(dict_key_always_has_value)"
   ]
  },
  {
   "cell_type": "code",
   "execution_count": 5,
   "metadata": {},
   "outputs": [
    {
     "name": "stdout",
     "output_type": "stream",
     "text": [
      "defaultdict(<class 'int'>, {'a': 7, 'b': 5, 'c': 6, 'd': 4})\n"
     ]
    }
   ],
   "source": [
    "# Here is how you do letter counts using a defaultdict.\n",
    "# If you think about it, a Counter is just a defaultdict using int, since int() returns 0.\n",
    "letters = \"abcdcacdacadacdabbbabc\"\n",
    "\n",
    "dict_key_always_has_value = defaultdict(int) # because int() returns 0\n",
    "for letter in letters:\n",
    "    dict_key_always_has_value[letter] = dict_key_always_has_value[letter] + 1 # equivalent to dict.get(letter, function_here())\n",
    "print(dict_key_always_has_value)"
   ]
  },
  {
   "cell_type": "code",
   "execution_count": 6,
   "metadata": {},
   "outputs": [
    {
     "name": "stdout",
     "output_type": "stream",
     "text": [
      "[None, None, None, None, None, None, None, None, None, None]\n",
      "defaultdict(<function <lambda> at 0x00000195D3B952F0>, {'a': [None, None, None, None, None, None, None, None, None, None]})\n",
      "False\n",
      "defaultdict(<function <lambda> at 0x00000195D3B952F0>, {'a': [None, None, None, None, None, None, None, None, None, None]})\n"
     ]
    }
   ],
   "source": [
    "# since the defaultdict argument is just a function, you can create whatever default values you like\n",
    "dict_key_always_has_value = defaultdict(lambda: [None] * 10)\n",
    "print(dict_key_always_has_value['a']) # the value by default is automatically [None] * 10\n",
    "print(dict_key_always_has_value) # notice that once you lookup ANY key, the key-value pair now exists in your dictionary\n",
    "print('b' in dict_key_always_has_value) # use this notation if you just want to check membership, but not add key-value pair to dict\n",
    "print(dict_key_always_has_value)"
   ]
  },
  {
   "cell_type": "code",
   "execution_count": 7,
   "metadata": {},
   "outputs": [
    {
     "name": "stdout",
     "output_type": "stream",
     "text": [
      "defaultdict(<class 'list'>, {})\n",
      "[]\n",
      "defaultdict(<function <lambda> at 0x00000195D3B95510>, {'a': defaultdict(<class 'list'>, {'a': [42]})})\n"
     ]
    }
   ],
   "source": [
    "# can nest defaultdicts for interesting data structure. I have actually used dict in dict before \n",
    "nested_defaultdict = defaultdict(lambda: defaultdict(list)) # each argument of a defaultdict must be a function\n",
    "print(nested_defaultdict['a']) # gives you the inner defaultdict back\n",
    "print(nested_defaultdict['a']['a']) # gives you the nested list\n",
    "nested_defaultdict['a']['a'].append(42)\n",
    "print(nested_defaultdict)"
   ]
  },
  {
   "cell_type": "code",
   "execution_count": null,
   "metadata": {},
   "outputs": [],
   "source": []
  },
  {
   "cell_type": "markdown",
   "metadata": {},
   "source": [
    "#### `tqdm`:\n",
    "* Marketing docstring: A Fast, Extensible Progress Bar for Python and CLI.\n",
    "* What it actually does: put a timer everywhere! If something is slow, time it!\n",
    "* tqdm means \"progress\" in Arabic (taqadum, تقدّم) and is an abbreviation for \"I love you so much\" in Spanish (te quiero demasiado)."
   ]
  },
  {
   "cell_type": "code",
   "execution_count": 8,
   "metadata": {},
   "outputs": [
    {
     "name": "stderr",
     "output_type": "stream",
     "text": [
      "100%|██████████| 10/10 [00:10<00:00,  1.00s/it]\n"
     ]
    }
   ],
   "source": [
    "from tqdm import tqdm # tqdm is a great library to show progress bar\n",
    "import time\n",
    "\n",
    "for i in tqdm(range(10)): # just wrap tqdm() around your iterable; useful Time Lapsed and Estimated Time of Completion for loops\n",
    "    time.sleep(1)"
   ]
  },
  {
   "cell_type": "code",
   "execution_count": null,
   "metadata": {
    "collapsed": true
   },
   "outputs": [],
   "source": []
  },
  {
   "cell_type": "markdown",
   "metadata": {},
   "source": [
    "### Style Guide"
   ]
  },
  {
   "cell_type": "code",
   "execution_count": 1,
   "metadata": {},
   "outputs": [
    {
     "name": "stdout",
     "output_type": "stream",
     "text": [
      "Hello, my name is Peter Pan\n",
      "Last name: Pan; first name: Peter. Again my name is Peter Pan\n",
      "Hello, my name is Peter Pan\n",
      "I am 13 years old!\n"
     ]
    }
   ],
   "source": [
    "# I usually use this type of syntax for prints where I put all the variables at the end. This is up to your personal preference\n",
    "first_name = 'Peter'\n",
    "last_name = 'Pan'\n",
    "print(\"Hello, my name is {} {}\".format(first_name, last_name))\n",
    "# You can change the order using named arguments and also repeat the arguments\n",
    "print(\"Last name: {last_name}; first name: {first_name}. Again my name is {first_name} {last_name}\".format(first_name=first_name, last_name=last_name))\n",
    "\n",
    "# f**** it! You can use the new f-string syntax that came out in Python 3.6\n",
    "print(f\"Hello, my name is {first_name} {last_name}\")\n",
    "# have you ever considered nested string formatting? ;-)\n",
    "print(f\"{f'I am {42 -29} years old!'}\")"
   ]
  },
  {
   "cell_type": "code",
   "execution_count": null,
   "metadata": {
    "collapsed": true
   },
   "outputs": [],
   "source": [
    "# Context manager\n",
    "# If you like, use this syntax since it guarantees that the file will be closed after everything in the code block is run.\n",
    "# It just saves one line (don't have to close file manually) and also make the code block for what you want to do\n",
    "# the file very obvious due to the indentation.\n",
    "with open('file_here') as f:\n",
    "    f.read()"
   ]
  },
  {
   "cell_type": "code",
   "execution_count": 2,
   "metadata": {},
   "outputs": [
    {
     "name": "stdout",
     "output_type": "stream",
     "text": [
      "This is my super looooooooooooooooooooooooooooooong string and it ends here!\n",
      "True\n",
      "This is my super long string that never ends because I do not want to stop typing for some reason until I'm out of breath!\n",
      "I like to count to big numbers. I start at 1 and finally end up at 10000000000\n"
     ]
    }
   ],
   "source": [
    "# Instead of \\ to denote line continuation, I use parenthesis--also works for brackets [].\n",
    "# Good for function calls with lots of arguments\n",
    "sum([1, 2, 3, 4, 5, 6, 7, 8, 9, 0, 1, 2, 3, 4, 5, 6, 7, 8, 9, 0, 1, 2, 3, 4, 5,\n",
    "     6, 7, 8, 9, 0])\n",
    "print(\"This is my super looooooooooooooooooooooooooooooong string \"\n",
    "     \"and it ends here!\")\n",
    "\n",
    "# Implicit string concatenation: notice that string literals are automatically appended to each other without '+' operator\n",
    "print(\"asdf\" \"asdf\" == 'asdfasdf')\n",
    "# Hence, parenthesis and long strings work well together.\n",
    "my_long_string = ('This is my super long string that never ends because I do not want to stop '\n",
    "                  \"typing for some reason until I'm out of breath!\")\n",
    "my_long_string_2 = ('I like to count to big numbers. I start at {} '\n",
    "                    'and finally end up at {}'\n",
    "                    .format(1, int(1e10)))\n",
    "print(my_long_string)\n",
    "print(my_long_string_2)"
   ]
  },
  {
   "cell_type": "code",
   "execution_count": null,
   "metadata": {
    "collapsed": true
   },
   "outputs": [],
   "source": [
    "# PEP8 is a nice style guide for readability. I try my best, but even I don't get it right every time.\n",
    "# http://pymbook.readthedocs.io/en/latest/pep8.html\n",
    "# If you are very fancy, you can have Python automatically format your code to conform to pep8 if you type this in the Terminal\n",
    "autopep8 your_python_script_here.py\n",
    "# This will print to Terminal the correctly formatted script but doesn't save it. \n",
    "# If you want to save the results back into your script, you can use the argument --in-place\n",
    "autopep8 --in-place your_python_script_here.py"
   ]
  },
  {
   "cell_type": "code",
   "execution_count": 3,
   "metadata": {},
   "outputs": [],
   "source": [
    "# I usually use triple hash sign ### when I need to make an important comment. Usually to mention something is hard coded.\n",
    "# This is not a Python PEP8 style. It's just a personal preference to make note that this is not a regular comment.\n",
    "PI = 3.14159265 ### this is hard coded"
   ]
  },
  {
   "cell_type": "code",
   "execution_count": null,
   "metadata": {
    "collapsed": true
   },
   "outputs": [],
   "source": [
    "# As a personal preference, I prefer to write pure functions with no side effects where \n",
    "# if you put in the same input, you always get the same output. When practical, I try to \n",
    "# avoid functions that mutate whatever is inputted. Pure functions are easier to debug.\n",
    "# Of course, sometimes it's just much easier or runs faster with mutation. Then I add a \n",
    "# triple hash sign to say that this function mutates the underlying object."
   ]
  },
  {
   "cell_type": "code",
   "execution_count": null,
   "metadata": {},
   "outputs": [],
   "source": []
  },
  {
   "cell_type": "markdown",
   "metadata": {},
   "source": [
    "TODOS:  \n",
    "lambda: I Need Help: Can you `lambda` hand?  \n",
    "vectorization  \n",
    "args, kwargs  \n",
    "new features: ordered dictionary, asyncio, walrus operator  \n",
    "eval/exec, ast.eval  \n",
    "multiple assignment; multiple comparison x < y < z  \n",
    "threads (concurrency) (race condition, fight) vs processes (parallel), hyperthreading, asyncio  \n",
    "Nonetheless, Python is quite fast. You write Python for the speed of development and expressiveness. If you need speed, Guido recommends you delegate the performance critical part to another language (Cython):  \n",
    "**\"At some point, you end up with one little piece of your system, as a whole, where you end up spending all your time. If you write that just as a sort of simple-minded Python loop, at some point you will see that that is the bottleneck in your system. It is usually much more effective to take that one piece and replace that one function or module with a little bit of code you wrote in C or C++ rather than rewriting your entire system in a faster language, because for most of what you're doing, the speed of the language is irrelevant.\" --Guido van Rossum**"
   ]
  },
  {
   "cell_type": "markdown",
   "metadata": {},
   "source": [
    "scoping with LEGB: global, local, nonlocal  \n",
    "object() as sentinel value  \n",
    "patterns?  \n",
    "type annotations, static typing  \n",
    "\n",
    "wtf python: https://github.com/satwikkansal/wtfpython  \n",
    "Unicode and UTF-8: https://www.joelonsoftware.com/2003/10/08/the-absolute-minimum-every-software-developer-absolutely-positively-must-know-about-unicode-and-character-sets-no-excuses/  "
   ]
  },
  {
   "cell_type": "markdown",
   "metadata": {},
   "source": [
    "take notes"
   ]
  },
  {
   "cell_type": "code",
   "execution_count": null,
   "metadata": {},
   "outputs": [],
   "source": []
  }
 ],
 "metadata": {
  "kernelspec": {
   "display_name": "Python 3",
   "language": "python",
   "name": "python3"
  },
  "language_info": {
   "codemirror_mode": {
    "name": "ipython",
    "version": 3
   },
   "file_extension": ".py",
   "mimetype": "text/x-python",
   "name": "python",
   "nbconvert_exporter": "python",
   "pygments_lexer": "ipython3",
   "version": "3.6.4"
  }
 },
 "nbformat": 4,
 "nbformat_minor": 2
}
