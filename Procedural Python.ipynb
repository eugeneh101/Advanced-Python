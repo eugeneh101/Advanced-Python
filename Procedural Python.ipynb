{
 "cells": [
  {
   "cell_type": "markdown",
   "metadata": {},
   "source": [
    "# Procedural Programming\n",
    "#### Boring, Academic Definition (Nobody Cares Except Professors and Pedantic, Technical Interviewers...):\n",
    "Procedural Programming can be defined as a programming model which is derived from structured programming, based upon the concept of calling procedure. __Procedures__, also known as routines, subroutines or __functions__, simply consist of a series of computational steps to be carried out.\n",
    "#### Reality:\n",
    "Simple, fairly boring code that just works well: tell the computer what to do step by step with control flow (`if/else/continue/break/return`) and loops/iteration (and sometimes recursion)."
   ]
  },
  {
   "cell_type": "markdown",
   "metadata": {},
   "source": [
    "## General Tips"
   ]
  },
  {
   "cell_type": "code",
   "execution_count": 1,
   "metadata": {},
   "outputs": [
    {
     "name": "stdout",
     "output_type": "stream",
     "text": [
      "2 1\n"
     ]
    }
   ],
   "source": [
    "a, b = 1, 2 # tuple unpacking\n",
    "a, b = b, a # this is a safe operation in Python. You don't need a temporary third variable.\n",
    "print(a, b)"
   ]
  },
  {
   "cell_type": "code",
   "execution_count": 2,
   "metadata": {},
   "outputs": [
    {
     "name": "stdout",
     "output_type": "stream",
     "text": [
      "0 a\n",
      "1 s\n",
      "2 d\n",
      "3 f\n"
     ]
    }
   ],
   "source": [
    "# To get index and item at the same time, use enumerate. index starts at 0.\n",
    "# enumerate takes up to 2 arguments where the optional second argument is the index you want to start at. For example, you can start at 1 instead of 0.    \n",
    "for index, item in enumerate('asdf'): \n",
    "    print(index, item)"
   ]
  },
  {
   "cell_type": "code",
   "execution_count": 3,
   "metadata": {},
   "outputs": [
    {
     "name": "stdout",
     "output_type": "stream",
     "text": [
      "a 0\n",
      "s 1\n",
      "d 2\n",
      "f 3\n",
      "g 4\n",
      "h 5\n",
      "j 6\n",
      "k 7\n",
      "l 8\n",
      "; 9\n",
      "\n",
      "0 100 200\n",
      "1 101 201\n",
      "2 102 202\n",
      "3 103 203\n",
      "4 104 204\n"
     ]
    }
   ],
   "source": [
    "# If you want to pair 2 iterables together, use zip\n",
    "# zip finishes pairing by using whichever is the shorter list.\n",
    "# If you want to zip to the longer list, use itertools.zip_longest()\n",
    "for a, b in zip('asdfghjkl;', range(42), ):\n",
    "    print(a, b)\n",
    "    \n",
    "print()\n",
    "\n",
    "# zip can also take more than 2 arguments--you can have an arbitrary number of iterables\n",
    "for a, b, c in zip(range(5), range(100, 105), range(200, 205)):\n",
    "    print(a, b, c)"
   ]
  },
  {
   "cell_type": "code",
   "execution_count": 4,
   "metadata": {},
   "outputs": [
    {
     "name": "stdout",
     "output_type": "stream",
     "text": [
      "directory_name\\file_name\n",
      "directory_name/file_name\n"
     ]
    }
   ],
   "source": [
    "# Instead  of directory_name + \"/\" + filename, use this instead since it doesn't require adding '/' to directory_name and\n",
    "# safer between operation systems and also won't add an unnecessary \"/\"\n",
    "import os\n",
    "\n",
    "print(os.path.join('directory_name', 'file_name')) # sorry, wrote this on a Windows\n",
    "print(os.path.join('directory_name/', 'file_name'))"
   ]
  },
  {
   "cell_type": "code",
   "execution_count": 5,
   "metadata": {},
   "outputs": [],
   "source": [
    "# You can have a trailing comma in Python collections (list, tuple, set, dict) and functions. The reason is for \n",
    "# ease of updating a function if it is multi-line.\n",
    "a = [\n",
    "    1,\n",
    "    2,\n",
    "    3,\n",
    "]\n",
    "def silly(\n",
    "    billy,\n",
    "    hilly,\n",
    "): pass"
   ]
  },
  {
   "cell_type": "code",
   "execution_count": null,
   "metadata": {},
   "outputs": [],
   "source": []
  },
  {
   "cell_type": "markdown",
   "metadata": {},
   "source": [
    "## I want to EXPRESS MY STATEMENTS clearly\n",
    "Know the difference between an expression and statement.\n",
    "* expression: evaluates to something/returns a value (and thus can be assigned to a variable): `1 + 1`, `range(10)`, `\".join([\"Python\", \"is\", \"the\", \"best\"])`, calling a function \n",
    "* statements: do something but not always assignable: `if`, `try/except`, `def func`, `pass`, `break`, `continue`, `return`\n",
    "* Technically, speaking all expressions are statements. Here's a trick: if something cannot be assignable, then it is an statement."
   ]
  },
  {
   "cell_type": "code",
   "execution_count": 1,
   "metadata": {},
   "outputs": [
    {
     "name": "stdout",
     "output_type": "stream",
     "text": [
      "3\n"
     ]
    }
   ],
   "source": [
    "# Expressions can take parenthesis\n",
    "print(\n",
    "    1 \n",
    "    + \n",
    "    2)"
   ]
  },
  {
   "cell_type": "code",
   "execution_count": 2,
   "metadata": {},
   "outputs": [
    {
     "name": "stdout",
     "output_type": "stream",
     "text": [
      "Hi\n",
      "None Thanks\n",
      "None Bye\n"
     ]
    }
   ],
   "source": [
    "# In Python 3, print() is a function. In Python 2, print is a statement.\n",
    "print(print(print(\"Hi\"), \"Thanks\"), \"Bye\") # this line could not run in Python 2"
   ]
  },
  {
   "cell_type": "code",
   "execution_count": 3,
   "metadata": {},
   "outputs": [],
   "source": [
    "# statements do not need parenthesis \n",
    "def func():\n",
    "    return 1 # return is a statement, not a function. Don't put return(1)"
   ]
  },
  {
   "cell_type": "code",
   "execution_count": 4,
   "metadata": {},
   "outputs": [
    {
     "ename": "AssertionError",
     "evalue": "This is False",
     "output_type": "error",
     "traceback": [
      "\u001b[1;31m---------------------------------------------------------------------------\u001b[0m",
      "\u001b[1;31mAssertionError\u001b[0m                            Traceback (most recent call last)",
      "\u001b[1;32m<ipython-input-4-a678ac3d3f12>\u001b[0m in \u001b[0;36m<module>\u001b[1;34m()\u001b[0m\n\u001b[1;32m----> 1\u001b[1;33m \u001b[1;32massert\u001b[0m \u001b[1;32mFalse\u001b[0m\u001b[1;33m,\u001b[0m \u001b[1;34m\"This is False\"\u001b[0m \u001b[1;31m# assert is statement\u001b[0m\u001b[1;33m\u001b[0m\u001b[0m\n\u001b[0m",
      "\u001b[1;31mAssertionError\u001b[0m: This is False"
     ]
    }
   ],
   "source": [
    "assert False, \"This is False\" # assert is statement"
   ]
  },
  {
   "cell_type": "code",
   "execution_count": 5,
   "metadata": {},
   "outputs": [
    {
     "name": "stderr",
     "output_type": "stream",
     "text": [
      "<ipython-input-5-8b9dfaea0ff0>:1: SyntaxWarning: assertion is always true, perhaps remove parentheses?\n",
      "  assert(False, \"This is False\") # what happened?\n"
     ]
    }
   ],
   "source": [
    "assert(False, \"This is False\") # what happened?"
   ]
  },
  {
   "cell_type": "code",
   "execution_count": null,
   "metadata": {},
   "outputs": [],
   "source": []
  },
  {
   "cell_type": "markdown",
   "metadata": {},
   "source": [
    "## In CASE You Need Help, just SWITCH things Up\n",
    "\n",
    "Once in awhile, you need to make a decision and it look likes this with a long body of `if/elif/else`:\n",
    "```python\n",
    "# Python\n",
    "month = 5\n",
    "if month == 1:\n",
    "    return \"January\"\n",
    "elif month == 2:\n",
    "    return \"February\"\n",
    "...\n",
    "else:\n",
    "    return \"I have no idea!\"\n",
    "```\n",
    "You might also think of it as the `CASE` statement in SQL:\n",
    "\n",
    "``` mysql\n",
    "# SQL\n",
    "CASE\n",
    "    WHEN condition1 THEN result1\n",
    "    WHEN condition2 THEN result2\n",
    "    WHEN conditionN THEN resultN\n",
    "    ELSE result\n",
    "END;\n",
    "```\n",
    "\n",
    "If you suffered in with C in skewl, then it would be the `switch` statement:\n",
    "\n",
    "``` C\n",
    "switch (x) \n",
    "{ \n",
    "   case 1: printf(\"Choice is 1\"); \n",
    "           break; \n",
    "   case 2: printf(\"Choice is 2\"); \n",
    "            break; \n",
    "   case 3: printf(\"Choice is 3\"); \n",
    "           break; \n",
    "   default: printf(\"Choice other than 1, 2 and 3\"); \n",
    "            break;   \n",
    "} \n",
    "```\n",
    "\n",
    "Why suffer when you can do idiomatic Python? Use a dictionary instead."
   ]
  },
  {
   "cell_type": "code",
   "execution_count": 1,
   "metadata": {},
   "outputs": [
    {
     "name": "stdout",
     "output_type": "stream",
     "text": [
      "March\n",
      "I have no idea!\n"
     ]
    }
   ],
   "source": [
    "def get_month(month, default_option=\"I have no idea!\"):\n",
    "    month_names = {1: \"January\", 2: \"February\", 3: \"March\", }\n",
    "    return month_names.get(month, default_option)\n",
    "\n",
    "print(get_month(3))\n",
    "print(get_month(13))"
   ]
  },
  {
   "cell_type": "code",
   "execution_count": 2,
   "metadata": {},
   "outputs": [
    {
     "name": "stdout",
     "output_type": "stream",
     "text": [
      "On the coolest day of Christmas, my true love sent to me:\n",
      "5 golden rings\n",
      "4 calling birds\n",
      "3 french hens\n",
      "2 turtle doves\n",
      "1 partridge in a pear tree\n"
     ]
    }
   ],
   "source": [
    "gifts = {5: \"golden rings\", 4: \"calling birds\", 3: \"french hens\", 2: \"turtle doves\", 1: \"partridge in a pear tree\"}\n",
    "\n",
    "print(\"On the coolest day of Christmas, my true love sent to me:\")\n",
    "for day_of_Christmas in range(5, 0, -1):\n",
    "    print(day_of_Christmas, gifts[day_of_Christmas])"
   ]
  },
  {
   "cell_type": "code",
   "execution_count": null,
   "metadata": {},
   "outputs": [],
   "source": []
  },
  {
   "cell_type": "markdown",
   "metadata": {},
   "source": [
    "## The power of `else`!\n",
    "What `else` is cool?\n",
    "* `for/else`\n",
    "* `while/else`\n",
    "* `try/except/else/finally`"
   ]
  },
  {
   "cell_type": "markdown",
   "metadata": {},
   "source": [
    "#### `for/else` construct\n",
    "Most people are aware of for loops in Python. Most Python programmers are not aware of for/else. The `else` clause executes only if the loop completes normally; this means that the loop did not encounter a `break` statement. This is useful if you: \n",
    "* want to make sure that the loop completed over all elements (ie no `break` or early `return`) \n",
    "* have a flag variable to determine if a condition is reached ."
   ]
  },
  {
   "cell_type": "code",
   "execution_count": 1,
   "metadata": {},
   "outputs": [],
   "source": [
    "# early break\n",
    "for i in range(10):\n",
    "    if i == 5:\n",
    "        break\n",
    "else:\n",
    "    print(\"ALL ITERATIONS WERE LOOPED\") # not executed"
   ]
  },
  {
   "cell_type": "code",
   "execution_count": 2,
   "metadata": {},
   "outputs": [
    {
     "name": "stdout",
     "output_type": "stream",
     "text": [
      "ALL ITERATIONS WERE LOOPED\n"
     ]
    }
   ],
   "source": [
    "# make sure all elements have been iterated through normally\n",
    "for i in range(10):\n",
    "    pass\n",
    "else:\n",
    "    print(\"ALL ITERATIONS WERE LOOPED\") # `else` is executed"
   ]
  },
  {
   "cell_type": "code",
   "execution_count": 3,
   "metadata": {},
   "outputs": [
    {
     "name": "stdout",
     "output_type": "stream",
     "text": [
      "I am made it this far\n"
     ]
    }
   ],
   "source": [
    "# flag to determine if a condition is reached\n",
    "even_number_flag = False\n",
    "for i in range(1, 10, 2):\n",
    "    if i % 2 == 0:\n",
    "        even_number_flag = True\n",
    "else:\n",
    "    print(\"I am made it this far\")\n",
    "    if even_number_flag:\n",
    "        print(\"EVEN NUMBER SEEN\")\n",
    "        # perhaps do an additional step"
   ]
  },
  {
   "cell_type": "code",
   "execution_count": 4,
   "metadata": {},
   "outputs": [
    {
     "name": "stdout",
     "output_type": "stream",
     "text": [
      "I am made it this far\n",
      "EVEN NUMBER SEEN\n"
     ]
    }
   ],
   "source": [
    "# flag to determine if a condition is reached\n",
    "even_number_flag = False\n",
    "for i in range(10):\n",
    "    if i % 2 == 0:\n",
    "        even_number_flag = True\n",
    "else:\n",
    "    print(\"I am made it this far\")\n",
    "    if even_number_flag:\n",
    "        print(\"EVEN NUMBER SEEN\")\n",
    "        # perhaps do an additional step"
   ]
  },
  {
   "cell_type": "code",
   "execution_count": null,
   "metadata": {},
   "outputs": [],
   "source": []
  },
  {
   "cell_type": "markdown",
   "metadata": {},
   "source": [
    "#### `while/else` construct\n",
    "The equivalent `else` clause is available for `while` loops. The `else` clause is only executed if the while loop finally hits a False condition, not when a `break` statement is encountered."
   ]
  },
  {
   "cell_type": "code",
   "execution_count": 5,
   "metadata": {},
   "outputs": [],
   "source": [
    "# early break\n",
    "i = 0\n",
    "while i < 10:\n",
    "    i += 1\n",
    "    if i == 5:\n",
    "        break\n",
    "else:\n",
    "    print(\"A micro-aggression? I am triggered!\") # thankfully not triggered"
   ]
  },
  {
   "cell_type": "code",
   "execution_count": 6,
   "metadata": {},
   "outputs": [
    {
     "name": "stdout",
     "output_type": "stream",
     "text": [
      "Everything is working normally\n"
     ]
    }
   ],
   "source": [
    "# condition naturally became False\n",
    "i = 0\n",
    "while i < 10:\n",
    "    i += 1\n",
    "else:\n",
    "    print(\"Everything is working normally\") # thankfully not triggered"
   ]
  },
  {
   "cell_type": "code",
   "execution_count": null,
   "metadata": {},
   "outputs": [],
   "source": []
  },
  {
   "cell_type": "markdown",
   "metadata": {},
   "source": [
    "#### try/except/else/finally\n",
    "You might of heard \"Oh noes! Don't use `try/except`. It is slow!\"  \n",
    "\\*In Maury Povich voice after a lie detector test\\*: That was a lie!  \n",
    "`try/except` is super *fast*, as fast as an `if` statement--if (pun intended!) you don't hit an exception. It is only slightly *slower* if an exception is reached."
   ]
  },
  {
   "cell_type": "code",
   "execution_count": 7,
   "metadata": {},
   "outputs": [
    {
     "name": "stdout",
     "output_type": "stream",
     "text": [
      "Wall time: 852 ms\n"
     ]
    }
   ],
   "source": [
    "%%time\n",
    "for i in range(10000000):\n",
    "    if i:\n",
    "        pass"
   ]
  },
  {
   "cell_type": "code",
   "execution_count": 8,
   "metadata": {},
   "outputs": [
    {
     "name": "stdout",
     "output_type": "stream",
     "text": [
      "Wall time: 918 ms\n"
     ]
    }
   ],
   "source": [
    "%%time\n",
    "# no time penalty\n",
    "for i in range(10000000):\n",
    "    try:\n",
    "        i\n",
    "    except:\n",
    "        pass"
   ]
  },
  {
   "cell_type": "code",
   "execution_count": 9,
   "metadata": {},
   "outputs": [
    {
     "name": "stdout",
     "output_type": "stream",
     "text": [
      "Wall time: 2.72 s\n"
     ]
    }
   ],
   "source": [
    "%%time\n",
    "# less than a microsecond runtime penalty per exception raised\n",
    "for i in range(10000000):\n",
    "    try:\n",
    "        raise Exception\n",
    "    except:\n",
    "        pass"
   ]
  },
  {
   "cell_type": "markdown",
   "metadata": {},
   "source": [
    "#### Pokemon Catch 'em All Exception\n",
    "When I was a (wee-little) intern many years ago, my mentor said, do you know about the \"Pokemon catch 'em all\" exception? "
   ]
  },
  {
   "cell_type": "code",
   "execution_count": 10,
   "metadata": {},
   "outputs": [
    {
     "data": {
      "text/plain": [
       "1.5"
      ]
     },
     "execution_count": 10,
     "metadata": {},
     "output_type": "execute_result"
    }
   ],
   "source": [
    "def how_divisive(x, y):\n",
    "    if (not isinstance(x, (int, float))) or (not isinstance(y, (int, float))):\n",
    "        raise TypeError(\"x and y have to be numeric!\")\n",
    "    return x / y\n",
    "\n",
    "how_divisive(3, 2)"
   ]
  },
  {
   "cell_type": "code",
   "execution_count": 11,
   "metadata": {},
   "outputs": [
    {
     "name": "stdout",
     "output_type": "stream",
     "text": [
      "This is to be expected\n"
     ]
    }
   ],
   "source": [
    "try:\n",
    "    how_divisive(3, \"hi\")\n",
    "except TypeError:\n",
    "    print(\"This is to be expected\")"
   ]
  },
  {
   "cell_type": "code",
   "execution_count": 12,
   "metadata": {},
   "outputs": [
    {
     "name": "stdout",
     "output_type": "stream",
     "text": [
      "This is to be expected...or am I being lazy?\n"
     ]
    }
   ],
   "source": [
    "try:\n",
    "    how_divisive(3, 0)\n",
    "except:\n",
    "    print(\"This is to be expected...or am I being lazy?\")"
   ]
  },
  {
   "cell_type": "markdown",
   "metadata": {},
   "source": [
    "#### Complex `try/except` examples\n",
    "* Multiple `Exception` clauses: do a different intervention per exception.\n",
    "* Multiple `Exception`s in 1 clause: do the same intervention for the specified exceptions."
   ]
  },
  {
   "cell_type": "code",
   "execution_count": 13,
   "metadata": {
    "scrolled": true
   },
   "outputs": [
    {
     "name": "stdout",
     "output_type": "stream",
     "text": [
      "Can I have your number?\n"
     ]
    }
   ],
   "source": [
    "try:\n",
    "    1 / 0\n",
    "except ZeroDivisionError:\n",
    "    print(\"Can I have your number?\")\n",
    "except KeyError: # You can have multiple `except` clauses\n",
    "    print(\"You trying to steal my key?\")"
   ]
  },
  {
   "cell_type": "code",
   "execution_count": 14,
   "metadata": {},
   "outputs": [
    {
     "name": "stdout",
     "output_type": "stream",
     "text": [
      "You trying to steal my key?\n"
     ]
    }
   ],
   "source": [
    "try:\n",
    "    {}[\"unknown_key\"]\n",
    "except ZeroDivisionError:\n",
    "    print(\"Can I have your number?\")\n",
    "except KeyError: # You can have multiple `except` clauses\n",
    "    print(\"You trying to steal my key?\")"
   ]
  },
  {
   "cell_type": "code",
   "execution_count": 15,
   "metadata": {},
   "outputs": [
    {
     "name": "stdout",
     "output_type": "stream",
     "text": [
      "You forgot my name? Or did you simply forget where you put it?\n"
     ]
    }
   ],
   "source": [
    "try:\n",
    "    x\n",
    "except (NameError, IndexError): # you can have multple exceptions in 1 clause\n",
    "    print(\"You forgot my name? Or did you simply forget where you put it?\")"
   ]
  },
  {
   "cell_type": "code",
   "execution_count": 16,
   "metadata": {},
   "outputs": [
    {
     "name": "stdout",
     "output_type": "stream",
     "text": [
      "('You are the best',)\n"
     ]
    }
   ],
   "source": [
    "class YouAreExceptional(Exception): # this is how you create a custom exception\n",
    "    pass\n",
    "\n",
    "try:\n",
    "    raise YouAreExceptional(\"You are the best\")\n",
    "except Exception as e: # this is how you capture an exception and save it\n",
    "    print(e.args) # interrogate it for intel!"
   ]
  },
  {
   "cell_type": "markdown",
   "metadata": {},
   "source": [
    "#### What else to throw in? `else` and `finally`\n",
    "`else` clause in try/except is executed only if no `Exception` is triggered.  \n",
    "`finally` clause: always execute no matter what!"
   ]
  },
  {
   "cell_type": "code",
   "execution_count": 17,
   "metadata": {},
   "outputs": [
    {
     "name": "stdout",
     "output_type": "stream",
     "text": [
      "Can I have your number?\n"
     ]
    }
   ],
   "source": [
    "# else: not triggered\n",
    "try:\n",
    "    1 / 0\n",
    "except ZeroDivisionError:\n",
    "    print(\"Can I have your number?\")\n",
    "else:\n",
    "    print(\"Only print if no exception hit\")"
   ]
  },
  {
   "cell_type": "code",
   "execution_count": 18,
   "metadata": {},
   "outputs": [
    {
     "name": "stdout",
     "output_type": "stream",
     "text": [
      "Only print if no exception hit\n"
     ]
    }
   ],
   "source": [
    "# else: triggered\n",
    "try:\n",
    "    0 / 1\n",
    "except ZeroDivisionError:\n",
    "    print(\"Can I have your number?\")\n",
    "else:\n",
    "    print(\"Only print if no exception hit\")"
   ]
  },
  {
   "cell_type": "code",
   "execution_count": 19,
   "metadata": {},
   "outputs": [
    {
     "name": "stdout",
     "output_type": "stream",
     "text": [
      "I will always run!\n"
     ]
    },
    {
     "data": {
      "text/plain": [
       "1"
      ]
     },
     "execution_count": 19,
     "metadata": {},
     "output_type": "execute_result"
    }
   ],
   "source": [
    "# finally we see `finally`!\n",
    "def always_return_1_no_matter_what():\n",
    "    try:\n",
    "        assert False, \"This has been Falsified!\"\n",
    "    finally: # run this no matter what, even if an Exception is triggered\n",
    "        print(\"I will always run!\")\n",
    "        return 1\n",
    "    \n",
    "always_return_1_no_matter_what()"
   ]
  },
  {
   "cell_type": "code",
   "execution_count": 20,
   "metadata": {},
   "outputs": [
    {
     "name": "stdout",
     "output_type": "stream",
     "text": [
      "('This has been Falsified!',)\n",
      "Attempted\n",
      "I will always run!\n"
     ]
    },
    {
     "data": {
      "text/plain": [
       "1"
      ]
     },
     "execution_count": 20,
     "metadata": {},
     "output_type": "execute_result"
    }
   ],
   "source": [
    "def always_return_1_no_matter_what():\n",
    "    try:\n",
    "        assert False, \"This has been Falsified!\"\n",
    "    except AssertionError as e:\n",
    "        print(e.args) # the print runs\n",
    "        return 2, print(\"Attempted\") # the return is attempted but not ultimately returned\n",
    "    finally: # run this no matter what, even if something else is \n",
    "        print(\"I will always run!\") # notice this print comes after the AssertionError's print\n",
    "        return 1\n",
    "\n",
    "    \n",
    "always_return_1_no_matter_what()"
   ]
  },
  {
   "cell_type": "markdown",
   "metadata": {},
   "source": [
    "I recently came across an interesting problem. I was writing a unit test where I anticipated it to throw an user-generated exception (basically raise an exception that I wrote). In fact, if it didn't throw an exception, then things were not working correctly. So the question I had to think about is how to I raise an exception if no anticipated exception is raised?"
   ]
  },
  {
   "cell_type": "code",
   "execution_count": 21,
   "metadata": {},
   "outputs": [
    {
     "ename": "TypeError",
     "evalue": "You snake! Black adders will come bit you!",
     "output_type": "error",
     "traceback": [
      "\u001b[1;31m---------------------------------------------------------------------------\u001b[0m",
      "\u001b[1;31mTypeError\u001b[0m                                 Traceback (most recent call last)",
      "\u001b[1;32m<ipython-input-21-72fc35a04956>\u001b[0m in \u001b[0;36m<module>\u001b[1;34m()\u001b[0m\n\u001b[0;32m      4\u001b[0m     \u001b[1;32mreturn\u001b[0m \u001b[0mx\u001b[0m \u001b[1;33m+\u001b[0m \u001b[0my\u001b[0m\u001b[1;33m\u001b[0m\u001b[0m\n\u001b[0;32m      5\u001b[0m \u001b[1;33m\u001b[0m\u001b[0m\n\u001b[1;32m----> 6\u001b[1;33m \u001b[0madder\u001b[0m\u001b[1;33m(\u001b[0m\u001b[1;36m1\u001b[0m\u001b[1;33m,\u001b[0m \u001b[1;34m\"2\"\u001b[0m\u001b[1;33m)\u001b[0m \u001b[1;31m# except-able behavior ;-)\u001b[0m\u001b[1;33m\u001b[0m\u001b[0m\n\u001b[0m",
      "\u001b[1;32m<ipython-input-21-72fc35a04956>\u001b[0m in \u001b[0;36madder\u001b[1;34m(x, y)\u001b[0m\n\u001b[0;32m      1\u001b[0m \u001b[1;32mdef\u001b[0m \u001b[0madder\u001b[0m\u001b[1;33m(\u001b[0m\u001b[0mx\u001b[0m\u001b[1;33m,\u001b[0m \u001b[0my\u001b[0m\u001b[1;33m)\u001b[0m\u001b[1;33m:\u001b[0m\u001b[1;33m\u001b[0m\u001b[0m\n\u001b[0;32m      2\u001b[0m     \u001b[1;32mif\u001b[0m \u001b[0mtype\u001b[0m\u001b[1;33m(\u001b[0m\u001b[0mx\u001b[0m\u001b[1;33m)\u001b[0m \u001b[1;33m!=\u001b[0m \u001b[0mtype\u001b[0m\u001b[1;33m(\u001b[0m\u001b[0my\u001b[0m\u001b[1;33m)\u001b[0m\u001b[1;33m:\u001b[0m\u001b[1;33m\u001b[0m\u001b[0m\n\u001b[1;32m----> 3\u001b[1;33m         \u001b[1;32mraise\u001b[0m \u001b[0mTypeError\u001b[0m\u001b[1;33m(\u001b[0m\u001b[1;34m\"You snake! Black adders will come bit you!\"\u001b[0m\u001b[1;33m)\u001b[0m\u001b[1;33m\u001b[0m\u001b[0m\n\u001b[0m\u001b[0;32m      4\u001b[0m     \u001b[1;32mreturn\u001b[0m \u001b[0mx\u001b[0m \u001b[1;33m+\u001b[0m \u001b[0my\u001b[0m\u001b[1;33m\u001b[0m\u001b[0m\n\u001b[0;32m      5\u001b[0m \u001b[1;33m\u001b[0m\u001b[0m\n",
      "\u001b[1;31mTypeError\u001b[0m: You snake! Black adders will come bit you!"
     ]
    }
   ],
   "source": [
    "def adder(x, y):\n",
    "    if type(x) != type(y):\n",
    "        raise TypeError(\"You snake! Black adders will come bit you!\")\n",
    "    return x + y\n",
    "\n",
    "adder(1, \"2\") # except-able behavior ;-)"
   ]
  },
  {
   "cell_type": "code",
   "execution_count": 22,
   "metadata": {},
   "outputs": [
    {
     "name": "stdout",
     "output_type": "stream",
     "text": [
      "Whew, it worked!\n"
     ]
    }
   ],
   "source": [
    "try:\n",
    "    adder(1, \"2\")\n",
    "except TypeError: # this is the specific exception I expected, any other exception types will still be raised\n",
    "    print(\"Whew, it worked!\")\n",
    "else:\n",
    "    raise Exception(\"Something went wrong! Something exceptional should have happened\")"
   ]
  },
  {
   "cell_type": "code",
   "execution_count": null,
   "metadata": {},
   "outputs": [],
   "source": []
  },
  {
   "cell_type": "markdown",
   "metadata": {},
   "source": [
    "#### In Totality: `try/except/else/finally` in its fully beauty"
   ]
  },
  {
   "cell_type": "code",
   "execution_count": 23,
   "metadata": {},
   "outputs": [
    {
     "name": "stdout",
     "output_type": "stream",
     "text": [
      "I'm going to trigger an exception\n",
      "Harley Quinn: I just wanna say something...\n"
     ]
    },
    {
     "ename": "Exception",
     "evalue": "Triggered!",
     "output_type": "error",
     "traceback": [
      "\u001b[1;31m---------------------------------------------------------------------------\u001b[0m",
      "\u001b[1;31mException\u001b[0m                                 Traceback (most recent call last)",
      "\u001b[1;32m<ipython-input-23-be16d0e98a11>\u001b[0m in \u001b[0;36m<module>\u001b[1;34m()\u001b[0m\n\u001b[0;32m     11\u001b[0m \u001b[1;32melse\u001b[0m\u001b[1;33m:\u001b[0m\u001b[1;33m\u001b[0m\u001b[0m\n\u001b[0;32m     12\u001b[0m     \u001b[0mprint\u001b[0m\u001b[1;33m(\u001b[0m\u001b[1;34m\"I'm going to trigger an exception\"\u001b[0m\u001b[1;33m)\u001b[0m\u001b[1;33m\u001b[0m\u001b[0m\n\u001b[1;32m---> 13\u001b[1;33m     \u001b[1;32mraise\u001b[0m \u001b[0mException\u001b[0m\u001b[1;33m(\u001b[0m\u001b[1;34m\"Triggered!\"\u001b[0m\u001b[1;33m)\u001b[0m\u001b[1;33m\u001b[0m\u001b[0m\n\u001b[0m\u001b[0;32m     14\u001b[0m \u001b[1;32mfinally\u001b[0m\u001b[1;33m:\u001b[0m\u001b[1;33m\u001b[0m\u001b[0m\n\u001b[0;32m     15\u001b[0m     \u001b[0mprint\u001b[0m\u001b[1;33m(\u001b[0m\u001b[1;34m\"Harley Quinn: I just wanna say something...\"\u001b[0m\u001b[1;33m)\u001b[0m \u001b[1;31m# does print before the `else` clause raises the Exception\u001b[0m\u001b[1;33m\u001b[0m\u001b[0m\n",
      "\u001b[1;31mException\u001b[0m: Triggered!"
     ]
    }
   ],
   "source": [
    "try:\n",
    "    pass\n",
    "except ZeroDivisionError:\n",
    "    print(\"Can I have your number?\")\n",
    "except KeyError: # You can have multiple `except` clauses\n",
    "    print(\"You trying to steal my key?\")\n",
    "except (NameError, IndexError): # you can have multple exceptions in 1 clause\n",
    "    print(\"You forgot my name? Or did you simply forget where you put it?\")\n",
    "except:\n",
    "    print(\"Catch any remaining exception types\")\n",
    "else:\n",
    "    print(\"I'm going to trigger an exception\")\n",
    "    raise Exception(\"Triggered!\")\n",
    "finally:\n",
    "    print(\"Harley Quinn: I just wanna say something...\") # does print before the `else` clause raises the Exception"
   ]
  },
  {
   "cell_type": "code",
   "execution_count": 24,
   "metadata": {},
   "outputs": [
    {
     "name": "stdout",
     "output_type": "stream",
     "text": [
      "I'm going to trigger an exception\n",
      "I'm going to silence any exceptions\n"
     ]
    },
    {
     "data": {
      "text/plain": [
       "1"
      ]
     },
     "execution_count": 24,
     "metadata": {},
     "output_type": "execute_result"
    }
   ],
   "source": [
    "def always_return_1():\n",
    "    try:\n",
    "        pass\n",
    "    except ZeroDivisionError:\n",
    "        print(\"Can I have your number?\")\n",
    "    except KeyError: # You can have multiple `except` clauses\n",
    "        print(\"You trying to steal my key?\")\n",
    "    except (NameError, IndexError): # you can have multple exceptions in 1 clause\n",
    "        print(\"You forgot my name? Or did you simply forget where you put it?\")\n",
    "    except:\n",
    "        print(\"Catch any remaining exception types\")\n",
    "    else:\n",
    "        print(\"I'm going to trigger an exception\")\n",
    "        raise Exception(\"Triggered!\")\n",
    "    finally:\n",
    "        print(\"I'm going to silence any exceptions\") # does print before the `else` clause raises the Exception\n",
    "        return 1\n",
    "    \n",
    "always_return_1()"
   ]
  },
  {
   "cell_type": "code",
   "execution_count": null,
   "metadata": {},
   "outputs": [],
   "source": []
  },
  {
   "cell_type": "markdown",
   "metadata": {},
   "source": [
    "## Helpful Libraries\n",
    "Caveat: Everything below is not really about procedural programming. It's just nice, useful Python stuff.\n",
    "#### `collections`:\n",
    "* Marketing docstring: This module implements specialized container datatypes providing alternatives to Python’s general purpose built-in containers, dict, list, set, and tuple. \n",
    "* What it actually does: Whatever types you have, they can be cooler!\n",
    "* Useful classes: `Counter` and `defaultdict`"
   ]
  },
  {
   "cell_type": "code",
   "execution_count": null,
   "metadata": {},
   "outputs": [],
   "source": [
    "# Typical Way of Letter Count\n",
    "letters = \"abcdcacdacadacdabbbabc\"\n",
    "\n",
    "letter_count = {}\n",
    "for letter in letters:\n",
    "    if letter in letter_count:\n",
    "        letter_count[letter] += 1\n",
    "    else:\n",
    "        letter_count[letter] = 1\n",
    "letter_count"
   ]
  },
  {
   "cell_type": "code",
   "execution_count": 2,
   "metadata": {},
   "outputs": [
    {
     "data": {
      "text/plain": [
       "{'a': 7, 'b': 5, 'c': 6, 'd': 4}"
      ]
     },
     "execution_count": 2,
     "metadata": {},
     "output_type": "execute_result"
    }
   ],
   "source": [
    "# Using `dict.get`, which is a safe operator for unknown keys\n",
    "letters = \"abcdcacdacadacdabbbabc\"\n",
    "\n",
    "letter_count = {}\n",
    "for letter in letters:\n",
    "    letter_count[letter] = letter_count.get(letter, 0) + 1\n",
    "letter_count"
   ]
  },
  {
   "cell_type": "code",
   "execution_count": 3,
   "metadata": {},
   "outputs": [
    {
     "name": "stdout",
     "output_type": "stream",
     "text": [
      "Counter({'a': 7, 'c': 6, 'b': 5, 'd': 4})\n",
      "[('a', 7), ('c', 6), ('b', 5), ('d', 4)]\n",
      "4\n",
      "0\n"
     ]
    }
   ],
   "source": [
    "# Use counter instead! counter is really an upgraded dictionary: it counts!\n",
    "from collections import Counter\n",
    "\n",
    "letters = \"abcdcacdacadacdabbbabc\"\n",
    "counter = Counter(letters) # just put your iterable here and Counter will do the rest\n",
    "print(counter)\n",
    "print(counter.most_common())\n",
    "print(counter['d']) # key is inside dict\n",
    "print(counter['z']) # key is not inside dict, so will output 0. Hence you don't need to counter.get('z', 0)"
   ]
  },
  {
   "cell_type": "code",
   "execution_count": null,
   "metadata": {},
   "outputs": [],
   "source": []
  },
  {
   "cell_type": "code",
   "execution_count": 4,
   "metadata": {},
   "outputs": [
    {
     "name": "stdout",
     "output_type": "stream",
     "text": [
      "[]\n",
      "defaultdict(<class 'list'>, {'a': [1]})\n"
     ]
    }
   ],
   "source": [
    "# defaultdict takes in a function, and that will be your default value if the key doesn't exist yet\n",
    "from collections import defaultdict\n",
    "\n",
    "dict_key_always_has_value = defaultdict(list) # put a function here\n",
    "print(dict_key_always_has_value['a']) # the key doesn't exist in your dictionary but the value is already available\n",
    "dict_key_always_has_value['a'].append(1)\n",
    "print(dict_key_always_has_value)"
   ]
  },
  {
   "cell_type": "code",
   "execution_count": 5,
   "metadata": {},
   "outputs": [
    {
     "name": "stdout",
     "output_type": "stream",
     "text": [
      "defaultdict(<class 'int'>, {'a': 7, 'b': 5, 'c': 6, 'd': 4})\n"
     ]
    }
   ],
   "source": [
    "# Here is how you do letter counts using a defaultdict.\n",
    "# If you think about it, a Counter is just a defaultdict using int, since int() returns 0.\n",
    "letters = \"abcdcacdacadacdabbbabc\"\n",
    "\n",
    "dict_key_always_has_value = defaultdict(int) # because int() returns 0\n",
    "for letter in letters:\n",
    "    dict_key_always_has_value[letter] = dict_key_always_has_value[letter] + 1 # equivalent to dict.get(letter, function_here())\n",
    "print(dict_key_always_has_value)"
   ]
  },
  {
   "cell_type": "code",
   "execution_count": 6,
   "metadata": {},
   "outputs": [
    {
     "name": "stdout",
     "output_type": "stream",
     "text": [
      "[None, None, None, None, None, None, None, None, None, None]\n",
      "defaultdict(<function <lambda> at 0x00000195D3B952F0>, {'a': [None, None, None, None, None, None, None, None, None, None]})\n",
      "False\n",
      "defaultdict(<function <lambda> at 0x00000195D3B952F0>, {'a': [None, None, None, None, None, None, None, None, None, None]})\n"
     ]
    }
   ],
   "source": [
    "# since the defaultdict argument is just a function, you can create whatever default values you like\n",
    "dict_key_always_has_value = defaultdict(lambda: [None] * 10)\n",
    "print(dict_key_always_has_value['a']) # the value by default is automatically [None] * 10\n",
    "print(dict_key_always_has_value) # notice that once you lookup ANY key, the key-value pair now exists in your dictionary\n",
    "print('b' in dict_key_always_has_value) # use this notation if you just want to check membership, but not add key-value pair to dict\n",
    "print(dict_key_always_has_value)"
   ]
  },
  {
   "cell_type": "code",
   "execution_count": 7,
   "metadata": {},
   "outputs": [
    {
     "name": "stdout",
     "output_type": "stream",
     "text": [
      "defaultdict(<class 'list'>, {})\n",
      "[]\n",
      "defaultdict(<function <lambda> at 0x00000195D3B95510>, {'a': defaultdict(<class 'list'>, {'a': [42]})})\n"
     ]
    }
   ],
   "source": [
    "# can nest defaultdicts for interesting data structure. I have actually used dict in dict before \n",
    "nested_defaultdict = defaultdict(lambda: defaultdict(list)) # each argument of a defaultdict must be a function\n",
    "print(nested_defaultdict['a']) # gives you the inner defaultdict back\n",
    "print(nested_defaultdict['a']['a']) # gives you the nested list\n",
    "nested_defaultdict['a']['a'].append(42)\n",
    "print(nested_defaultdict)"
   ]
  },
  {
   "cell_type": "code",
   "execution_count": null,
   "metadata": {},
   "outputs": [],
   "source": []
  },
  {
   "cell_type": "markdown",
   "metadata": {},
   "source": [
    "#### `tqdm`:\n",
    "* Marketing docstring: A Fast, Extensible Progress Bar for Python and CLI.\n",
    "* What it actually does: put a timer everywhere! If something is slow, time it!\n",
    "* tqdm means \"progress\" in Arabic (taqadum, تقدّم) and is an abbreviation for \"I love you so much\" in Spanish (te quiero demasiado)."
   ]
  },
  {
   "cell_type": "code",
   "execution_count": 8,
   "metadata": {},
   "outputs": [
    {
     "name": "stderr",
     "output_type": "stream",
     "text": [
      "100%|██████████| 10/10 [00:10<00:00,  1.00s/it]\n"
     ]
    }
   ],
   "source": [
    "from tqdm import tqdm # tqdm is a great library to show progress bar\n",
    "import time\n",
    "\n",
    "for i in tqdm(range(10)): # just wrap tqdm() around your iterable; useful Time Lapsed and Estimated Time of Completion for loops\n",
    "    time.sleep(1)"
   ]
  },
  {
   "cell_type": "code",
   "execution_count": null,
   "metadata": {
    "collapsed": true
   },
   "outputs": [],
   "source": []
  },
  {
   "cell_type": "markdown",
   "metadata": {},
   "source": [
    "### Style Guide"
   ]
  },
  {
   "cell_type": "code",
   "execution_count": 1,
   "metadata": {},
   "outputs": [
    {
     "name": "stdout",
     "output_type": "stream",
     "text": [
      "Hello, my name is Peter Pan\n",
      "Last name: Pan; first name: Peter. Again my name is Peter Pan\n",
      "Hello, my name is Peter Pan\n",
      "I am 13 years old!\n"
     ]
    }
   ],
   "source": [
    "# I usually use this type of syntax for prints where I put all the variables at the end. This is up to your personal preference\n",
    "first_name = 'Peter'\n",
    "last_name = 'Pan'\n",
    "print(\"Hello, my name is {} {}\".format(first_name, last_name))\n",
    "# You can change the order using named arguments and also repeat the arguments\n",
    "print(\"Last name: {last_name}; first name: {first_name}. Again my name is {first_name} {last_name}\".format(first_name=first_name, last_name=last_name))\n",
    "\n",
    "# f**** it! You can use the new f-string syntax that came out in Python 3.6\n",
    "print(f\"Hello, my name is {first_name} {last_name}\")\n",
    "# have you ever considered nested string formatting? ;-)\n",
    "print(f\"{f'I am {42 -29} years old!'}\")"
   ]
  },
  {
   "cell_type": "code",
   "execution_count": null,
   "metadata": {
    "collapsed": true
   },
   "outputs": [],
   "source": [
    "# Context manager\n",
    "# If you like, use this syntax since it guarantees that the file will be closed after everything in the code block is run.\n",
    "# It just saves one line (don't have to close file manually) and also make the code block for what you want to do\n",
    "# the file very obvious due to the indentation.\n",
    "with open('file_here') as f:\n",
    "    f.read()"
   ]
  },
  {
   "cell_type": "code",
   "execution_count": 2,
   "metadata": {},
   "outputs": [
    {
     "name": "stdout",
     "output_type": "stream",
     "text": [
      "This is my super looooooooooooooooooooooooooooooong string and it ends here!\n",
      "True\n",
      "This is my super long string that never ends because I do not want to stop typing for some reason until I'm out of breath!\n",
      "I like to count to big numbers. I start at 1 and finally end up at 10000000000\n"
     ]
    }
   ],
   "source": [
    "# Instead of \\ to denote line continuation, I use parenthesis--also works for brackets [].\n",
    "# Good for function calls with lots of arguments\n",
    "sum([1, 2, 3, 4, 5, 6, 7, 8, 9, 0, 1, 2, 3, 4, 5, 6, 7, 8, 9, 0, 1, 2, 3, 4, 5,\n",
    "     6, 7, 8, 9, 0])\n",
    "print(\"This is my super looooooooooooooooooooooooooooooong string \"\n",
    "     \"and it ends here!\")\n",
    "\n",
    "# Implicit string concatenation: notice that string literals are automatically appended to each other without '+' operator\n",
    "print(\"asdf\" \"asdf\" == 'asdfasdf')\n",
    "# Hence, parenthesis and long strings work well together.\n",
    "my_long_string = ('This is my super long string that never ends because I do not want to stop '\n",
    "                  \"typing for some reason until I'm out of breath!\")\n",
    "my_long_string_2 = ('I like to count to big numbers. I start at {} '\n",
    "                    'and finally end up at {}'\n",
    "                    .format(1, int(1e10)))\n",
    "print(my_long_string)\n",
    "print(my_long_string_2)"
   ]
  },
  {
   "cell_type": "code",
   "execution_count": null,
   "metadata": {
    "collapsed": true
   },
   "outputs": [],
   "source": [
    "# PEP8 is a nice style guide for readability. I try my best, but even I don't get it right every time.\n",
    "# http://pymbook.readthedocs.io/en/latest/pep8.html\n",
    "# If you are very fancy, you can have Python automatically format your code to conform to pep8 if you type this in the Terminal\n",
    "autopep8 your_python_script_here.py\n",
    "# This will print to Terminal the correctly formatted script but doesn't save it. \n",
    "# If you want to save the results back into your script, you can use the argument --in-place\n",
    "autopep8 --in-place your_python_script_here.py"
   ]
  },
  {
   "cell_type": "code",
   "execution_count": 3,
   "metadata": {},
   "outputs": [],
   "source": [
    "# I usually use triple hash sign ### when I need to make an important comment. Usually to mention something is hard coded.\n",
    "# This is not a Python PEP8 style. It's just a personal preference to make note that this is not a regular comment.\n",
    "PI = 3.14159265 ### this is hard coded"
   ]
  },
  {
   "cell_type": "code",
   "execution_count": null,
   "metadata": {
    "collapsed": true
   },
   "outputs": [],
   "source": [
    "# As a personal preference, I prefer to write pure functions with no side effects where \n",
    "# if you put in the same input, you always get the same output. When practical, I try to \n",
    "# avoid functions that mutate whatever is inputted. Pure functions are easier to debug.\n",
    "# Of course, sometimes it's just much easier or runs faster with mutation. Then I add a \n",
    "# triple hash sign to say that this function mutates the underlying object."
   ]
  },
  {
   "cell_type": "code",
   "execution_count": null,
   "metadata": {},
   "outputs": [],
   "source": []
  },
  {
   "cell_type": "code",
   "execution_count": null,
   "metadata": {},
   "outputs": [],
   "source": []
  },
  {
   "cell_type": "code",
   "execution_count": null,
   "metadata": {},
   "outputs": [],
   "source": []
  },
  {
   "cell_type": "markdown",
   "metadata": {},
   "source": [
    "TODOS:  \n",
    "lambda: I Need Help: Can you `lambda` hand?  \n",
    "vectorization  \n",
    "args, kwargs  \n",
    "new features: ordered dictionary, (recursive) f-string, asyncio, walrus operator  \n",
    "eval/exec, ast.eval  \n",
    "multiple assignment\n",
    "x < y < z"
   ]
  },
  {
   "cell_type": "code",
   "execution_count": null,
   "metadata": {},
   "outputs": [],
   "source": []
  }
 ],
 "metadata": {
  "kernelspec": {
   "display_name": "Python 3",
   "language": "python",
   "name": "python3"
  },
  "language_info": {
   "codemirror_mode": {
    "name": "ipython",
    "version": 3
   },
   "file_extension": ".py",
   "mimetype": "text/x-python",
   "name": "python",
   "nbconvert_exporter": "python",
   "pygments_lexer": "ipython3",
   "version": "3.6.4"
  }
 },
 "nbformat": 4,
 "nbformat_minor": 2
}
