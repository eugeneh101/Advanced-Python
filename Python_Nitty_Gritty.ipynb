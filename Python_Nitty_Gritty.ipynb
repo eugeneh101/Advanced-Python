{
 "cells": [
  {
   "cell_type": "markdown",
   "metadata": {},
   "source": [
    "## Name Binding (What You Think of as Assignment)\n",
    "Whenever you use assignment (=), you can think about it as putting a name tag (named with the variable name) onto the data--this is called name binding. Yoy can use the `id()` function to see the object's memory address. Hence, for the duration of the object's existence (ie not deleted), then the id will be unique and unchanged. Python's assigment (=) NEVER copies data--it merely puts another name tag on the same object. The `is` keyword in Python is highly related to `id()` in that `is` detects whether the identity of 2 objects are the same--if the 2 variables are pointing to same memory address. If `x is y` is True, then `id(x) == id(y)`.\n",
    "\n",
    "If you want to see how many name tags are attached to the same object, then use `sys.getrefcout`. Python internally has a reference count for every object--once the reference count goes to 0, then the object is deleted from memory.  \n",
    "Notice this caveat from the documentation:  \n",
    "```The count returned is generally one higher than you might expect, because it includes the (temporary) reference as an argument to getrefcount().```  \n",
    "Deleting a variable will remove the name tag. Python's `del` statement doesn't directly delete a variable. Instead `del` deletes the name binding (the name tag) onto the object. Once an object's reference count goes to 0, then Python's garbage collector will finally remove the object from memory.\n",
    "\n",
    "Python has data structures that are mutable (list, set, dictionary) and some are immutable (tuple, string, numeric [float, int, bool]). "
   ]
  },
  {
   "cell_type": "code",
   "execution_count": 1,
   "metadata": {},
   "outputs": [
    {
     "name": "stdout",
     "output_type": "stream",
     "text": [
      "reference count: 2; memory location: 1836773559496\n"
     ]
    }
   ],
   "source": [
    "import sys\n",
    "\n",
    "a = []\n",
    "print(\"reference count: {}; memory location: {}\".format(sys.getrefcount(a), id(a)))"
   ]
  },
  {
   "cell_type": "code",
   "execution_count": 2,
   "metadata": {
    "scrolled": true
   },
   "outputs": [
    {
     "name": "stdout",
     "output_type": "stream",
     "text": [
      "2\n",
      "3\n",
      "True\n",
      "1836773559880 1836773559880\n",
      "[None] [None]\n"
     ]
    }
   ],
   "source": [
    "# a list is a mutable object\n",
    "a = []\n",
    "print(sys.getrefcount(a))\n",
    "b = a\n",
    "print(sys.getrefcount(a))\n",
    "print(a is b)\n",
    "print(id(a), id(b))\n",
    "a.append(None)\n",
    "print(a, b)"
   ]
  },
  {
   "cell_type": "code",
   "execution_count": 3,
   "metadata": {},
   "outputs": [
    {
     "name": "stdout",
     "output_type": "stream",
     "text": [
      "2\n",
      "3\n",
      "True\n",
      "1836774045960 1836774045960\n",
      "(1, 2) (1,)\n",
      "False\n",
      "1836756384200 1836774045960\n",
      "2\n"
     ]
    }
   ],
   "source": [
    "# an tuple is immutable--you cannot make a number into another number. That will occupy different memory locations\n",
    "a = (1, )\n",
    "print(sys.getrefcount(a))\n",
    "b = a\n",
    "print(sys.getrefcount(a))\n",
    "print(a is b)\n",
    "print(id(a), id(b))\n",
    "a += (2,)\n",
    "print(a, b)\n",
    "print(a is b)\n",
    "print(id(a), id(b)) # notice that id(a) has changed memory location\n",
    "print(sys.getrefcount(a)) # notice that the reference count has fell back to 2"
   ]
  },
  {
   "cell_type": "markdown",
   "metadata": {},
   "source": [
    "R is pass by value--that means when you pass a dataframe into a function, the dataframe is copied. If you mutate the dataframe inside an R function, nothing will happen to the original dataframe.  \n",
    "This is not true in Python.  In contrast, Python's assigment (=) NEVER copies data, not even in a function's argument assignment. Hence, when you pass a variable into the function, that variable can be mutated if it is a mutable type. Python is not pass by value nor pass by reference. Instead Python is pass by object. "
   ]
  },
  {
   "cell_type": "code",
   "execution_count": 4,
   "metadata": {},
   "outputs": [
    {
     "name": "stdout",
     "output_type": "stream",
     "text": [
      "[]\n",
      "[None]\n"
     ]
    }
   ],
   "source": [
    "# mutable object changed\n",
    "def appender(lst):\n",
    "    lst.append(None)\n",
    "    \n",
    "a = []\n",
    "print(a)\n",
    "appender(a)\n",
    "print(a)"
   ]
  },
  {
   "cell_type": "code",
   "execution_count": 5,
   "metadata": {},
   "outputs": [
    {
     "name": "stdout",
     "output_type": "stream",
     "text": [
      "1836774329904 ML Study Group\n",
      "1836774342352 Hello ML Study Group\n",
      "1836774329904 ML Study Group\n"
     ]
    }
   ],
   "source": [
    "# immutable object remains unchanged\n",
    "def concatenate(string):\n",
    "    string = \"Hello \" + string # this new `string` variable is no longer bound to the same object. \n",
    "    print(id(string), string) # You have moved the \"name tag\" to a different object.\n",
    "\n",
    "string = \"ML Study Group\"\n",
    "print(id(string), string)\n",
    "concatenate(string)\n",
    "print(id(string), string)"
   ]
  },
  {
   "cell_type": "code",
   "execution_count": null,
   "metadata": {},
   "outputs": [],
   "source": []
  },
  {
   "cell_type": "markdown",
   "metadata": {},
   "source": [
    "If fact, you change to multiple assignment. The right-most expression is evaluated first and then bound to the variables left to right."
   ]
  },
  {
   "cell_type": "code",
   "execution_count": 6,
   "metadata": {},
   "outputs": [
    {
     "name": "stdout",
     "output_type": "stream",
     "text": [
      "9000 9000\n",
      "True\n"
     ]
    }
   ],
   "source": [
    "a = b = 9000 # bind 900 to `a` first, then `b`\n",
    "print(a, b)\n",
    "print(a is b)"
   ]
  },
  {
   "cell_type": "code",
   "execution_count": null,
   "metadata": {},
   "outputs": [],
   "source": []
  },
  {
   "cell_type": "code",
   "execution_count": 7,
   "metadata": {},
   "outputs": [
    {
     "name": "stdout",
     "output_type": "stream",
     "text": [
      "2 1\n"
     ]
    }
   ],
   "source": [
    "a, b = 1, 2 # tuple unpacking\n",
    "a, b = b, a # this is a safe operation in Python. You don't need a temporary third variable.\n",
    "print(a, b)"
   ]
  },
  {
   "cell_type": "code",
   "execution_count": 8,
   "metadata": {},
   "outputs": [
    {
     "data": {
      "text/plain": [
       "(1, 2)"
      ]
     },
     "execution_count": 8,
     "metadata": {},
     "output_type": "execute_result"
    }
   ],
   "source": [
    "# If you combine tuple unpacking and multiple assignment, you get this is fun puzzle. \n",
    "# The values for a and b are swapped and then swapped back. Basically, nothing happens.\n",
    "a, b = 1, 2\n",
    "\n",
    "(b, a) = (a, b) = (a, b)\n",
    "a, b"
   ]
  },
  {
   "cell_type": "markdown",
   "metadata": {},
   "source": [
    "To prove that multiple assigment happens left to right, so I use a `property` attribute. I'll explain `property` later."
   ]
  },
  {
   "cell_type": "code",
   "execution_count": 9,
   "metadata": {},
   "outputs": [],
   "source": [
    "class SillyAssignment:\n",
    "    def __init__(self, value):\n",
    "        self.id = value\n",
    "        self._gotit = None\n",
    "        self._counter = 0\n",
    "    \n",
    "    @property\n",
    "    def gotit(self):\n",
    "        print(\"Getter {}: {}\".format(self.id, self._gotit))\n",
    "        return self._gotit\n",
    "        \n",
    "    @gotit.setter\n",
    "    def gotit(self, value):\n",
    "        self._counter += 1\n",
    "        print(\"Setter {} to {}; set {} time(s)\".format(self.id, value, self._counter))\n",
    "        self._gotit = value"
   ]
  },
  {
   "cell_type": "code",
   "execution_count": 10,
   "metadata": {},
   "outputs": [],
   "source": [
    "a, b = 1, 2\n",
    "\n",
    "s1 = SillyAssignment(\"s1\")\n",
    "s2 = SillyAssignment(\"s2\")"
   ]
  },
  {
   "cell_type": "code",
   "execution_count": 11,
   "metadata": {},
   "outputs": [
    {
     "name": "stdout",
     "output_type": "stream",
     "text": [
      "Setter s2 to 1; set 1 time(s)\n",
      "Setter s1 to 2; set 1 time(s)\n",
      "Setter s1 to 1; set 2 time(s)\n",
      "Setter s2 to 2; set 2 time(s)\n"
     ]
    }
   ],
   "source": [
    "s2.gotit, s1.gotit = s1.gotit, s2.gotit = (a, b)"
   ]
  },
  {
   "cell_type": "code",
   "execution_count": null,
   "metadata": {},
   "outputs": [],
   "source": []
  },
  {
   "cell_type": "markdown",
   "metadata": {},
   "source": [
    "## Variable Scoping\n",
    "How do you know which `variable` you get when variables have the same name? Python has resolves the conflict with scope resolution following the LEGB rule: Local, Enclosing, Global, Built-in. If a variable is not found in the local scope, go to the outer scopes. If not found at all, then raise `NameError` exception. Variables with the same name in the same scope will overwrite each other--only 1 can exist at a time.\n",
    "<p align=\"center\"><img src=\"images/LEGB_Variable_Scoping.png\"></p>\n",
    "`Local`: inside a function, look to see if variable is defined. If it is there, use that one."
   ]
  },
  {
   "cell_type": "code",
   "execution_count": 9,
   "metadata": {},
   "outputs": [
    {
     "data": {
      "text/plain": [
       "2"
      ]
     },
     "execution_count": 9,
     "metadata": {},
     "output_type": "execute_result"
    }
   ],
   "source": [
    "a = 1 # this is a global variable\n",
    "def a(): # notice even the function name is the same as the others\n",
    "    a = 2 # this is the local variable\n",
    "    return a\n",
    "get_a()"
   ]
  },
  {
   "cell_type": "markdown",
   "metadata": {},
   "source": [
    "`Enclosing`: if not local variable found inside nested function, look for the variable in the outer function."
   ]
  },
  {
   "cell_type": "code",
   "execution_count": 22,
   "metadata": {},
   "outputs": [
    {
     "data": {
      "text/plain": [
       "2"
      ]
     },
     "execution_count": 22,
     "metadata": {},
     "output_type": "execute_result"
    }
   ],
   "source": [
    "a = 1 # global variable will be overwritten by the following function\n",
    "def a(): # this function overwrites/replaces the previous assignment. The value of 1 is totally lost/gone.\n",
    "    a = 2 # get this enclosing variable\n",
    "    def b():\n",
    "        return a\n",
    "    return b()\n",
    "a()"
   ]
  },
  {
   "cell_type": "markdown",
   "metadata": {},
   "source": [
    "`Global`: variables defined at the module level. In your function call, if variables are not defined locally or enclosing, go to the module level to find the variable."
   ]
  },
  {
   "cell_type": "code",
   "execution_count": 27,
   "metadata": {},
   "outputs": [
    {
     "data": {
      "text/plain": [
       "1"
      ]
     },
     "execution_count": 27,
     "metadata": {},
     "output_type": "execute_result"
    }
   ],
   "source": [
    "a = 1 # global variable\n",
    "def func1():\n",
    "    def func2():\n",
    "        return a\n",
    "    return func2()\n",
    "func1()"
   ]
  },
  {
   "cell_type": "markdown",
   "metadata": {},
   "source": [
    "`Global` variables are not _truly_ global in the sense that variables cannot communicate between modules. If `pandas` and `sklearn` both have a variable `a`, then they cannot communicate with each other. `pandas.a` does not know about `sklearn.a`."
   ]
  },
  {
   "cell_type": "code",
   "execution_count": 30,
   "metadata": {},
   "outputs": [
    {
     "name": "stdout",
     "output_type": "stream",
     "text": [
      "Writing temp1.py\n"
     ]
    }
   ],
   "source": [
    "%%writefile temp1.py\n",
    "a = 1"
   ]
  },
  {
   "cell_type": "code",
   "execution_count": 31,
   "metadata": {},
   "outputs": [
    {
     "name": "stdout",
     "output_type": "stream",
     "text": [
      "Writing temp2.py\n"
     ]
    }
   ],
   "source": [
    "%%writefile temp2.py\n",
    "a = 2"
   ]
  },
  {
   "cell_type": "code",
   "execution_count": 32,
   "metadata": {},
   "outputs": [
    {
     "name": "stdout",
     "output_type": "stream",
     "text": [
      "Writing temp3.py\n"
     ]
    }
   ],
   "source": [
    "%%writefile temp3.py\n",
    "print(a)"
   ]
  },
  {
   "cell_type": "code",
   "execution_count": 33,
   "metadata": {},
   "outputs": [
    {
     "name": "stdout",
     "output_type": "stream",
     "text": [
      "1\n"
     ]
    }
   ],
   "source": [
    "import temp1\n",
    "print(temp1.a)"
   ]
  },
  {
   "cell_type": "code",
   "execution_count": 34,
   "metadata": {},
   "outputs": [
    {
     "name": "stdout",
     "output_type": "stream",
     "text": [
      "2\n"
     ]
    }
   ],
   "source": [
    "import temp2\n",
    "print(temp2.a)"
   ]
  },
  {
   "cell_type": "code",
   "execution_count": 35,
   "metadata": {},
   "outputs": [
    {
     "ename": "NameError",
     "evalue": "name 'a' is not defined",
     "output_type": "error",
     "traceback": [
      "\u001b[1;31m---------------------------------------------------------------------------\u001b[0m",
      "\u001b[1;31mNameError\u001b[0m                                 Traceback (most recent call last)",
      "\u001b[1;32m<ipython-input-35-edf4eeb08df7>\u001b[0m in \u001b[0;36m<module>\u001b[1;34m()\u001b[0m\n\u001b[1;32m----> 1\u001b[1;33m \u001b[1;32mimport\u001b[0m \u001b[0mtemp3\u001b[0m \u001b[1;31m# fails to load\u001b[0m\u001b[1;33m\u001b[0m\u001b[0m\n\u001b[0m",
      "\u001b[1;32m~\\Desktop\\advanced_python\\temp3.py\u001b[0m in \u001b[0;36m<module>\u001b[1;34m()\u001b[0m\n\u001b[1;32m----> 1\u001b[1;33m \u001b[0mprint\u001b[0m\u001b[1;33m(\u001b[0m\u001b[0ma\u001b[0m\u001b[1;33m)\u001b[0m\u001b[1;33m\u001b[0m\u001b[0m\n\u001b[0m",
      "\u001b[1;31mNameError\u001b[0m: name 'a' is not defined"
     ]
    }
   ],
   "source": [
    "import temp3 # fails to load"
   ]
  },
  {
   "cell_type": "code",
   "execution_count": 36,
   "metadata": {
    "scrolled": true
   },
   "outputs": [
    {
     "ename": "NameError",
     "evalue": "name 'a' is not defined",
     "output_type": "error",
     "traceback": [
      "\u001b[1;31m---------------------------------------------------------------------------\u001b[0m",
      "\u001b[1;31mNameError\u001b[0m                                 Traceback (most recent call last)",
      "\u001b[1;32m<ipython-input-36-1c3794df8b4f>\u001b[0m in \u001b[0;36m<module>\u001b[1;34m()\u001b[0m\n\u001b[0;32m      1\u001b[0m \u001b[0ma\u001b[0m \u001b[1;33m=\u001b[0m \u001b[1;36m1\u001b[0m \u001b[1;31m# even if you define it now, temp3 cannot be imported since `a` in temp3 does not exist\u001b[0m\u001b[1;33m\u001b[0m\u001b[0m\n\u001b[1;32m----> 2\u001b[1;33m \u001b[1;32mimport\u001b[0m \u001b[0mtemp3\u001b[0m\u001b[1;33m\u001b[0m\u001b[0m\n\u001b[0m",
      "\u001b[1;32m~\\Desktop\\advanced_python\\temp3.py\u001b[0m in \u001b[0;36m<module>\u001b[1;34m()\u001b[0m\n\u001b[1;32m----> 1\u001b[1;33m \u001b[0mprint\u001b[0m\u001b[1;33m(\u001b[0m\u001b[0ma\u001b[0m\u001b[1;33m)\u001b[0m\u001b[1;33m\u001b[0m\u001b[0m\n\u001b[0m",
      "\u001b[1;31mNameError\u001b[0m: name 'a' is not defined"
     ]
    }
   ],
   "source": [
    "a = 1 # even if you define it now, temp3 cannot be imported since `a` in temp3 does not exist\n",
    "import temp3"
   ]
  },
  {
   "cell_type": "code",
   "execution_count": null,
   "metadata": {},
   "outputs": [],
   "source": []
  },
  {
   "cell_type": "markdown",
   "metadata": {},
   "source": [
    "As a general rule, inner scopes cannot assign outer scoped variables, so they can mutate them. For example, lists are mutatable."
   ]
  },
  {
   "cell_type": "code",
   "execution_count": 40,
   "metadata": {},
   "outputs": [
    {
     "name": "stdout",
     "output_type": "stream",
     "text": [
      "[]\n",
      "[None]\n"
     ]
    }
   ],
   "source": [
    "a = []\n",
    "def inner():\n",
    "    a.append(None)\n",
    "print(a)\n",
    "inner()\n",
    "print(a) # a is mutated"
   ]
  },
  {
   "cell_type": "code",
   "execution_count": 42,
   "metadata": {},
   "outputs": [
    {
     "name": "stdout",
     "output_type": "stream",
     "text": [
      "[]\n",
      "[]\n"
     ]
    }
   ],
   "source": [
    "a = []\n",
    "def inner():\n",
    "    a = []\n",
    "    a.append(None)\n",
    "print(a)\n",
    "inner()\n",
    "print(a) # a is not mutated or assigned. Basically nothing has happened"
   ]
  },
  {
   "cell_type": "markdown",
   "metadata": {},
   "source": [
    "There is an exception to this rule by using `global` or `nonlocal` (which are the only declarative statements that Python has). `global` tells Python you are using the global"
   ]
  },
  {
   "cell_type": "code",
   "execution_count": 44,
   "metadata": {},
   "outputs": [
    {
     "name": "stdout",
     "output_type": "stream",
     "text": [
      "1\n",
      "2\n"
     ]
    }
   ],
   "source": [
    "a = 1\n",
    "def reassign():\n",
    "    global a\n",
    "    a = 2\n",
    "\n",
    "print(a)\n",
    "reassign()\n",
    "print(a)"
   ]
  },
  {
   "cell_type": "code",
   "execution_count": 55,
   "metadata": {},
   "outputs": [
    {
     "name": "stdout",
     "output_type": "stream",
     "text": [
      "1\n",
      "1 I am inside nested function\n",
      "3\n"
     ]
    }
   ],
   "source": [
    "a = 1\n",
    "def reassign():\n",
    "    a = 2\n",
    "    def func():\n",
    "        global a\n",
    "        print(a, \"I am inside nested function\")\n",
    "        a = 3\n",
    "    func()\n",
    "print(a)\n",
    "reassign()\n",
    "print(a)"
   ]
  },
  {
   "cell_type": "code",
   "execution_count": 61,
   "metadata": {},
   "outputs": [
    {
     "name": "stdout",
     "output_type": "stream",
     "text": [
      "deleted xyz\n",
      "xyz doesn't exist\n",
      "1\n"
     ]
    }
   ],
   "source": [
    "def global_assign():\n",
    "    global xyz\n",
    "    xyz = 1\n",
    "    \n",
    "try:\n",
    "    del xyz\n",
    "    print(\"deleted xyz\")\n",
    "except NameError:\n",
    "    print(\"xyz doesn't exist\")\n",
    "\n",
    "try:\n",
    "    print(xyz)\n",
    "except NameError:\n",
    "    print(\"xyz doesn't exist\")\n",
    "\n",
    "global_assign()\n",
    "print(xyz)"
   ]
  },
  {
   "cell_type": "code",
   "execution_count": 74,
   "metadata": {},
   "outputs": [
    {
     "name": "stdout",
     "output_type": "stream",
     "text": [
      "1\n",
      "2\n"
     ]
    }
   ],
   "source": [
    "def func1():\n",
    "    a = 1\n",
    "    def func2():\n",
    "        nonlocal a\n",
    "        a = 2\n",
    "    print(a)\n",
    "    func2()\n",
    "    print(a)\n",
    "func1()"
   ]
  },
  {
   "cell_type": "code",
   "execution_count": null,
   "metadata": {},
   "outputs": [],
   "source": []
  },
  {
   "cell_type": "code",
   "execution_count": null,
   "metadata": {},
   "outputs": [],
   "source": [
    "builtins can be overwritten"
   ]
  },
  {
   "cell_type": "code",
   "execution_count": 67,
   "metadata": {},
   "outputs": [
    {
     "name": "stdout",
     "output_type": "stream",
     "text": [
      "<function a at 0x0000021A6A4C8F28>\n"
     ]
    },
    {
     "data": {
      "text/plain": [
       "True"
      ]
     },
     "execution_count": 67,
     "metadata": {},
     "output_type": "execute_result"
    }
   ],
   "source": [
    "a = 1 # global variable will be overwritten by the following function\n",
    "def a(): # this function overwrites/replaces the previous assignment. The value of 1 is totally lost/gone.\n",
    "    def b():\n",
    "        return a # refers to the outer function\n",
    "    return b()\n",
    "print(a())\n",
    "a() is a()() is a()()()"
   ]
  },
  {
   "cell_type": "code",
   "execution_count": null,
   "metadata": {},
   "outputs": [],
   "source": [
    "recursion"
   ]
  },
  {
   "cell_type": "code",
   "execution_count": null,
   "metadata": {},
   "outputs": [],
   "source": []
  },
  {
   "cell_type": "code",
   "execution_count": null,
   "metadata": {},
   "outputs": [],
   "source": []
  },
  {
   "cell_type": "markdown",
   "metadata": {},
   "source": [
    "### Style Guide"
   ]
  },
  {
   "cell_type": "code",
   "execution_count": 1,
   "metadata": {},
   "outputs": [
    {
     "name": "stdout",
     "output_type": "stream",
     "text": [
      "Hello, my name is Peter Pan\n",
      "Last name: Pan; first name: Peter. Again my name is Peter Pan\n",
      "Hello, my name is Peter Pan\n",
      "I am 13 years old!\n"
     ]
    }
   ],
   "source": [
    "# I usually use this type of syntax for prints where I put all the variables at the end. This is up to your personal preference\n",
    "first_name = 'Peter'\n",
    "last_name = 'Pan'\n",
    "print(\"Hello, my name is {} {}\".format(first_name, last_name))\n",
    "# You can change the order using named arguments and also repeat the arguments\n",
    "print(\"Last name: {last_name}; first name: {first_name}. Again my name is {first_name} {last_name}\".format(first_name=first_name, last_name=last_name))\n",
    "\n",
    "# f**** it! You can use the new f-string syntax that came out in Python 3.6\n",
    "print(f\"Hello, my name is {first_name} {last_name}\")\n",
    "# have you ever considered nested string formatting? ;-)\n",
    "print(f\"{f'I am {42 -29} years old!'}\")"
   ]
  },
  {
   "cell_type": "code",
   "execution_count": null,
   "metadata": {
    "collapsed": true
   },
   "outputs": [],
   "source": [
    "# Context manager\n",
    "# If you like, use this syntax since it guarantees that the file will be closed after everything in the code block is run.\n",
    "# It just saves one line (don't have to close file manually) and also make the code block for what you want to do\n",
    "# the file very obvious due to the indentation.\n",
    "with open('file_here') as f:\n",
    "    f.read()"
   ]
  },
  {
   "cell_type": "code",
   "execution_count": 2,
   "metadata": {},
   "outputs": [
    {
     "name": "stdout",
     "output_type": "stream",
     "text": [
      "This is my super looooooooooooooooooooooooooooooong string and it ends here!\n",
      "True\n",
      "This is my super long string that never ends because I do not want to stop typing for some reason until I'm out of breath!\n",
      "I like to count to big numbers. I start at 1 and finally end up at 10000000000\n"
     ]
    }
   ],
   "source": [
    "# Instead of \\ to denote line continuation, I use parenthesis--also works for brackets [].\n",
    "# Good for function calls with lots of arguments\n",
    "sum([1, 2, 3, 4, 5, 6, 7, 8, 9, 0, 1, 2, 3, 4, 5, 6, 7, 8, 9, 0, 1, 2, 3, 4, 5,\n",
    "     6, 7, 8, 9, 0])\n",
    "print(\"This is my super looooooooooooooooooooooooooooooong string \"\n",
    "     \"and it ends here!\")\n",
    "\n",
    "# Implicit string concatenation: notice that string literals are automatically appended to each other without '+' operator\n",
    "print(\"asdf\" \"asdf\" == 'asdfasdf')\n",
    "# Hence, parenthesis and long strings work well together.\n",
    "my_long_string = ('This is my super long string that never ends because I do not want to stop '\n",
    "                  \"typing for some reason until I'm out of breath!\")\n",
    "my_long_string_2 = ('I like to count to big numbers. I start at {} '\n",
    "                    'and finally end up at {}'\n",
    "                    .format(1, int(1e10)))\n",
    "print(my_long_string)\n",
    "print(my_long_string_2)"
   ]
  },
  {
   "cell_type": "code",
   "execution_count": null,
   "metadata": {
    "collapsed": true
   },
   "outputs": [],
   "source": [
    "# PEP8 is a nice style guide for readability. I try my best, but even I don't get it right every time.\n",
    "# http://pymbook.readthedocs.io/en/latest/pep8.html\n",
    "# If you are very fancy, you can have Python automatically format your code to conform to pep8 if you type this in the Terminal\n",
    "autopep8 your_python_script_here.py\n",
    "# This will print to Terminal the correctly formatted script but doesn't save it. \n",
    "# If you want to save the results back into your script, you can use the argument --in-place\n",
    "autopep8 --in-place your_python_script_here.py"
   ]
  },
  {
   "cell_type": "code",
   "execution_count": 3,
   "metadata": {},
   "outputs": [],
   "source": [
    "# I usually use triple hash sign ### when I need to make an important comment. Usually to mention something is hard coded.\n",
    "# This is not a Python PEP8 style. It's just a personal preference to make note that this is not a regular comment.\n",
    "PI = 3.14159265 ### this is hard coded"
   ]
  },
  {
   "cell_type": "markdown",
   "metadata": {
    "collapsed": true
   },
   "source": [
    "As a personal preference, I prefer to write pure functions with no side effects where if you put in the same input, you always get the same output. When practical, I try to avoid functions that mutate whatever is inputted. Pure functions are easier to debug. Of course, sometimes it's just much easier or runs faster with mutation. Then I add a triple hash sign to say that this function mutates the underlying object."
   ]
  },
  {
   "cell_type": "code",
   "execution_count": null,
   "metadata": {},
   "outputs": [],
   "source": []
  },
  {
   "cell_type": "code",
   "execution_count": 1,
   "metadata": {},
   "outputs": [],
   "source": [
    "class Issue():\n",
    "    def __init__(self, **kwargs):\n",
    "        self.__dict__.update(kwargs)\n",
    "        \n",
    "bbw = Issue(title=\"Bloomberg\", price=5.99, pages=112)"
   ]
  },
  {
   "cell_type": "markdown",
   "metadata": {},
   "source": [
    "TODOS:  \n",
    "eval/exec, ast.eval  \n",
    "multiple assignment; multiple comparison x < y < z  \n",
    "\n",
    "if/and lazy evaulation short circuit  \n",
    "new features: ordered dictionary,walrus operator  type annotations/static typing  "
   ]
  },
  {
   "cell_type": "code",
   "execution_count": null,
   "metadata": {},
   "outputs": [],
   "source": []
  }
 ],
 "metadata": {
  "kernelspec": {
   "display_name": "Python 3",
   "language": "python",
   "name": "python3"
  },
  "language_info": {
   "codemirror_mode": {
    "name": "ipython",
    "version": 3
   },
   "file_extension": ".py",
   "mimetype": "text/x-python",
   "name": "python",
   "nbconvert_exporter": "python",
   "pygments_lexer": "ipython3",
   "version": "3.6.4"
  }
 },
 "nbformat": 4,
 "nbformat_minor": 2
}
