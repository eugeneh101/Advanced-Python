{
 "cells": [
  {
   "cell_type": "code",
   "execution_count": null,
   "metadata": {},
   "outputs": [],
   "source": [
    "be aware of mutability: [[1]] * 10 vs [[1] for i in range(10)]. numpy array"
   ]
  },
  {
   "cell_type": "code",
   "execution_count": null,
   "metadata": {},
   "outputs": [],
   "source": [
    "decorator\n",
    "functools, starmap\n",
    "# functools: lru_cache\n",
    "import toolz.functoolz\n",
    "\n",
    "method chaining/fluent interface vs functional\n",
    "currying/partial function?\n",
    "closure vs objects\n",
    "functoolz/Dask/Pandas .pipe, .assign\n",
    "\n",
    "assignment is never a copy.\n",
    "pass by reference, pass by value, Python is pass by object reference.\n",
    "\n",
    "generator, chained generator, yield from, coroutine\n",
    "\n",
    "functions are first-class citizens\n",
    "    Can be used as parameters\n",
    "    Can be used as a return value\n",
    "    Can be assigned to variables\n",
    "    Can be stored in data structures such as hash tables, lists, ...\n",
    "    \n",
    "    Can have their own attributes"
   ]
  },
  {
   "cell_type": "code",
   "execution_count": null,
   "metadata": {},
   "outputs": [],
   "source": [
    "threads (concurrency) (race condition, fight) vs processes (parallel), hyperthreading, asyncio"
   ]
  },
  {
   "cell_type": "code",
   "execution_count": null,
   "metadata": {},
   "outputs": [],
   "source": [
    "global, local, nonlocal\n",
    "object() as sentinel value\n",
    "patterns?\n",
    "type annotations, static typing\n",
    "walrus operator\n",
    "\n",
    "Unicode and UTF-8: https://www.joelonsoftware.com/2003/10/08/the-absolute-minimum-every-software-developer-absolutely-positively-must-know-about-unicode-and-character-sets-no-excuses/\n",
    "wtf python: https://github.com/satwikkansal/wtfpython"
   ]
  },
  {
   "cell_type": "code",
   "execution_count": null,
   "metadata": {},
   "outputs": [],
   "source": [
    "Nonetheless, Python is quite fast. You write Python for the speed of development and expressiveness. If you need speed, Guido recommends you delegate the performance critical part to another language (Cython):  \n",
    "**\"At some point, you end up with one little piece of your system, as a whole, where you end up spending all your time. If you write that just as a sort of simple-minded Python loop, at some point you will see that that is the bottleneck in your system. It is usually much more effective to take that one piece and replace that one function or module with a little bit of code you wrote in C or C++ rather than rewriting your entire system in a faster language, because for most of what you're doing, the speed of the language is irrelevant.\" --Guido van Rossum**"
   ]
  },
  {
   "cell_type": "code",
   "execution_count": null,
   "metadata": {},
   "outputs": [],
   "source": [
    "take notes"
   ]
  }
 ],
 "metadata": {
  "kernelspec": {
   "display_name": "Python 3",
   "language": "python",
   "name": "python3"
  },
  "language_info": {
   "codemirror_mode": {
    "name": "ipython",
    "version": 3
   },
   "file_extension": ".py",
   "mimetype": "text/x-python",
   "name": "python",
   "nbconvert_exporter": "python",
   "pygments_lexer": "ipython3",
   "version": "3.6.4"
  }
 },
 "nbformat": 4,
 "nbformat_minor": 2
}
